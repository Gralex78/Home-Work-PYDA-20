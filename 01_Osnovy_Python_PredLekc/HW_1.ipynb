{
 "cells": [
  {
   "cell_type": "markdown",
   "metadata": {},
   "source": [
    "# Задание 1"
   ]
  },
  {
   "cell_type": "code",
   "execution_count": 1,
   "metadata": {
    "scrolled": false
   },
   "outputs": [
    {
     "name": "stdout",
     "output_type": "stream",
     "text": [
      "Фраза 1 короче Фраза 2\n"
     ]
    }
   ],
   "source": [
    "phrase_1 = 'Это простое упражнение'\n",
    "phrase_2 = 'Это простое упражнение, которое поможет вам'\n",
    "\n",
    "if len(phrase_1) < len(phrase_2):\n",
    "    print('Фраза 1 короче Фраза 2')\n",
    "elif len(phrase_1) > len(phrase_2):\n",
    "    print('Фраза 1 длиннее Фраза 2')\n",
    "else:\n",
    "    print('Фразы равной длинны')"
   ]
  },
  {
   "cell_type": "code",
   "execution_count": 53,
   "metadata": {},
   "outputs": [
    {
     "name": "stdout",
     "output_type": "stream",
     "text": [
      "Фраза 1 длиннее Фраза 2\n"
     ]
    }
   ],
   "source": [
    "phrase_1 = 'Это простое упражнение, которое поможет вам'\n",
    "phrase_2 = 'Это простое упражнение'\n",
    "\n",
    "if len(phrase_1) < len(phrase_2):\n",
    "    print('Фраза 1 короче Фраза 2')\n",
    "elif len(phrase_1) > len(phrase_2):\n",
    "    print('Фраза 1 длиннее Фраза 2')\n",
    "else:\n",
    "    print('Фразы равной длинны')"
   ]
  },
  {
   "cell_type": "code",
   "execution_count": 54,
   "metadata": {},
   "outputs": [
    {
     "name": "stdout",
     "output_type": "stream",
     "text": [
      "Фразы равной длинны\n"
     ]
    }
   ],
   "source": [
    "phrase_1 = 'Это простое упражнение'\n",
    "phrase_2 = 'Это простое упражнение'\n",
    "\n",
    "if len(phrase_1) < len(phrase_2):\n",
    "    print('Фраза 1 короче Фраза 2')\n",
    "elif len(phrase_1) > len(phrase_2):\n",
    "    print('Фраза 1 длиннее Фраза 2')\n",
    "else:\n",
    "    print('Фразы равной длинны')"
   ]
  },
  {
   "cell_type": "markdown",
   "metadata": {},
   "source": [
    "# Задание 2"
   ]
  },
  {
   "cell_type": "code",
   "execution_count": 55,
   "metadata": {},
   "outputs": [
    {
     "name": "stdout",
     "output_type": "stream",
     "text": [
      "Високосный год\n"
     ]
    }
   ],
   "source": [
    "year = 2020\n",
    "\n",
    "if year % 400 == 0:\n",
    "    print('Високосный год')\n",
    "elif year % 100 == 0:\n",
    "    print('Обычный год')\n",
    "elif year % 4 == 0:\n",
    "    print('Високосный год')\n",
    "else:\n",
    "    print('Обычный год')\n",
    "    "
   ]
  },
  {
   "cell_type": "code",
   "execution_count": 56,
   "metadata": {},
   "outputs": [
    {
     "name": "stdout",
     "output_type": "stream",
     "text": [
      "Обычный год\n"
     ]
    }
   ],
   "source": [
    "year = 1900\n",
    "\n",
    "if year % 400 == 0:\n",
    "    print('Високосный год')\n",
    "elif year % 100 == 0:\n",
    "    print('Обычный год')\n",
    "elif year % 4 == 0:\n",
    "    print('Високосный год')\n",
    "else:\n",
    "    print('Обычный год')\n",
    "        "
   ]
  },
  {
   "cell_type": "markdown",
   "metadata": {},
   "source": [
    "# Задание 3"
   ]
  },
  {
   "cell_type": "code",
   "execution_count": 57,
   "metadata": {},
   "outputs": [
    {
     "name": "stdout",
     "output_type": "stream",
     "text": [
      "Введите день: 1\n",
      "Введите месяц: Август\n",
      "Ваш знак зодиака: Лев\n"
     ]
    }
   ],
   "source": [
    "d = int(input('Введите день: '))\n",
    "m = input('Введите месяц: ')\n",
    "\n",
    "if d >= 21 and d <= 31 and m == 'Март' or d <= 20 and m == 'Апрель':\n",
    "  print('Ваш знак зодиака: Овен')\n",
    "elif d >= 21 and d <= 30 and m == 'Апрель' or d <= 21 and m == 'Май':\n",
    "  print('Ваш знак зодиака: Телец')\n",
    "elif d >= 22 and d <= 31 and m == 'Май' or d <= 21 and m == 'Июнь':\n",
    "  print('Ваш знак зодиака: Близнецы')\n",
    "elif d >= 22 and d <= 30 and m == 'Июнь' or d <= 23 and m == 'Июль':\n",
    "  print('Ваш знак зодиака: Рак')\n",
    "elif d >= 24 and d <= 31 and m == 'Июль' or d <= 23 and m == 'Август':\n",
    "  print('Ваш знак зодиака: Лев')\n",
    "elif d >= 24 and d <= 31 and m == 'Август' or d <= 23 and m == 'Сентябрь':\n",
    "  print('Ваш знак зодиака: Дева')\n",
    "elif d >= 24 and d <= 30 and m == 'Сентябрь' or d <= 23 and m == 'Октябрь':\n",
    "  print('Ваш знак зодиака: Весы')\n",
    "elif d >= 24 and d <= 31 and m == 'Октябрь' or d <= 22 and m == 'Ноябрь':\n",
    "  print('Ваш знак зодиака: Скорпион')\n",
    "elif d >= 23 and d <= 30 and m == 'Ноябрь' or d <= 21 and m == 'Декабрь':\n",
    "  print('Ваш знак зодиака: Стрелец')\n",
    "elif d >= 22 and d <= 31 and m == 'Декабрь' or d <= 20 and m == 'Январь':\n",
    "  print('Ваш знак зодиака: Козерог')\n",
    "elif d >= 21 and d <= 31 and m == 'Январь' or d <= 19 and m == 'Февраль':\n",
    "  print('Ваш знак зодиака: Водолей')\n",
    "elif d >= 20 and d <= 29 and m == 'Февраль' or d <= 20 and m == 'Март':\n",
    "  print('Ваш знак зодиака: Рыбы')\n",
    "else:\n",
    "    print('Не корректно ввели день или месяц')\n"
   ]
  },
  {
   "cell_type": "code",
   "execution_count": 58,
   "metadata": {},
   "outputs": [
    {
     "name": "stdout",
     "output_type": "stream",
     "text": [
      "Введите день: 31\n",
      "Введите месяц: Апрель\n",
      "Не корректно ввели день или месяц\n"
     ]
    }
   ],
   "source": [
    "d = int(input('Введите день: '))\n",
    "m = input('Введите месяц: ')\n",
    "\n",
    "if d >= 21 and d <= 31 and m == 'Март' or d <= 20 and m == 'Апрель':\n",
    "  print('Ваш знак зодиака: Овен')\n",
    "elif d >= 21 and d <= 30 and m == 'Апрель' or d <= 21 and m == 'Май':\n",
    "  print('Ваш знак зодиака: Телец')\n",
    "elif d >= 22 and d <= 31 and m == 'Май' or d <= 21 and m == 'Июнь':\n",
    "  print('Ваш знак зодиака: Близнецы')\n",
    "elif d >= 22 and d <= 30 and m == 'Июнь' or d <= 23 and m == 'Июль':\n",
    "  print('Ваш знак зодиака: Рак')\n",
    "elif d >= 24 and d <= 31 and m == 'Июль' or d <= 23 and m == 'Август':\n",
    "  print('Ваш знак зодиака: Лев')\n",
    "elif d >= 24 and d <= 31 and m == 'Август' or d <= 23 and m == 'Сентябрь':\n",
    "  print('Ваш знак зодиака: Дева')\n",
    "elif d >= 24 and d <= 30 and m == 'Сентябрь' or d <= 23 and m == 'Октябрь':\n",
    "  print('Ваш знак зодиака: Весы')\n",
    "elif d >= 24 and d <= 31 and m == 'Октябрь' or d <= 22 and m == 'Ноябрь':\n",
    "  print('Ваш знак зодиака: Скорпион')\n",
    "elif d >= 23 and d <= 30 and m == 'Ноябрь' or d <= 21 and m == 'Декабрь':\n",
    "  print('Ваш знак зодиака: Стрелец')\n",
    "elif d >= 22 and d <= 31 and m == 'Декабрь' or d <= 20 and m == 'Январь':\n",
    "  print('Ваш знак зодиака: Козерог')\n",
    "elif d >= 21 and d <= 31 and m == 'Январь' or d <= 19 and m == 'Февраль':\n",
    "  print('Ваш знак зодиака: Водолей')\n",
    "elif d >= 20 and d <= 29 and m == 'Февраль' or d <= 20 and m == 'Март':\n",
    "  print('Ваш знак зодиака: Рыбы')\n",
    "else:\n",
    "    print('Не корректно ввели день или месяц')\n",
    "    "
   ]
  },
  {
   "cell_type": "markdown",
   "metadata": {},
   "source": [
    "# Задание 4"
   ]
  },
  {
   "cell_type": "code",
   "execution_count": 3,
   "metadata": {},
   "outputs": [
    {
     "name": "stdout",
     "output_type": "stream",
     "text": [
      "Коробка №2\n"
     ]
    }
   ],
   "source": [
    "width = 16\n",
    "length = 49\n",
    "height = 16\n",
    "\n",
    "\n",
    "if width < 15 and length < 15 and height < 15:\n",
    "    print('Коробка №1')\n",
    "elif length > 200:\n",
    "    print('Упаковка для лыж')\n",
    "elif 50 > width > 15 or 50 > length > 15 or 50 > height > 15:\n",
    "    print('Коробка №2')\n",
    "else:\n",
    "    print('Стандартная коробка №3') \n"
   ]
  },
  {
   "cell_type": "code",
   "execution_count": 2,
   "metadata": {},
   "outputs": [
    {
     "name": "stdout",
     "output_type": "stream",
     "text": [
      "Упаковка для лыж\n"
     ]
    }
   ],
   "source": [
    "width = 45\n",
    "length = 205\n",
    "height = 45\n",
    "\n",
    "\n",
    "if width < 15 and length < 15 and height < 15:\n",
    "    print('Коробка №1')\n",
    "elif length > 200:\n",
    "    print('Упаковка для лыж')\n",
    "elif width > 15 and width < 50 or length > 15 and length < 50 or height > 15 and height < 50:\n",
    "    print('Коробка №2')\n",
    "else:\n",
    "    print('Стандартная коробка №3')"
   ]
  },
  {
   "cell_type": "markdown",
   "metadata": {},
   "source": [
    "# Задание 5"
   ]
  },
  {
   "cell_type": "code",
   "execution_count": 1,
   "metadata": {},
   "outputs": [
    {
     "name": "stdout",
     "output_type": "stream",
     "text": [
      "111222\n",
      "Несчастливый\n"
     ]
    }
   ],
   "source": [
    "a = input()\n",
    "\n",
    "b = int(a[0])+int(a[1])+int(a[2])\n",
    "c = int(a[3])+int(a[4])+int(a[5])\n",
    "if c == b:\n",
    "  print('Счастливый')\n",
    "else:\n",
    "  print('Несчастливый')    "
   ]
  },
  {
   "cell_type": "markdown",
   "metadata": {},
   "source": [
    "# Задание 6"
   ]
  },
  {
   "cell_type": "code",
   "execution_count": 63,
   "metadata": {},
   "outputs": [
    {
     "name": "stdout",
     "output_type": "stream",
     "text": [
      "Введите тип фигуры: Треугольник\n",
      "Введите сторону А: 10\n",
      "Введите сторону B: 20\n",
      "Введите сторону C: 15\n",
      "Площадь треугольника: \n",
      "72.61843774138907\n"
     ]
    }
   ],
   "source": [
    "import math\n",
    "\n",
    "f = input('Введите тип фигуры: ')\n",
    "\n",
    "if f == 'Круг':\n",
    "    r = int(input('Введите радиус: '))\n",
    "    s = 3.14*r**2\n",
    "    print('Площадь круга: '), print(s)\n",
    "elif f == 'Треугольник':\n",
    "    a = int(input('Введите сторону А: ')) \n",
    "    b = int(input('Введите сторону B: ')) \n",
    "    c = int(input('Введите сторону C: '))\n",
    "    p = ((a + b +c) / 2)\n",
    "    st = math.sqrt(p * (p - a) * (p - b) * (p - c))\n",
    "    print('Площадь треугольника: '), print(st)\n",
    "elif f == 'Прямоугольник':\n",
    "    x = int(input('Введите сторону X: ')) \n",
    "    y = int(input('Введите сторону Y: ')) \n",
    "    sp = x*y\n",
    "    print('Площадь прямоугольника: '), print(sp)\n",
    "else:\n",
    "    print('Что-то ввели не так. Попробуйте ещё раз')   \n",
    "    "
   ]
  },
  {
   "cell_type": "code",
   "execution_count": 64,
   "metadata": {},
   "outputs": [
    {
     "name": "stdout",
     "output_type": "stream",
     "text": [
      "Введите тип фигуры: Круг\n",
      "Введите радиус: 10\n",
      "Площадь круга: \n",
      "314.0\n"
     ]
    }
   ],
   "source": [
    "f = input('Введите тип фигуры: ')\n",
    "\n",
    "if f == 'Круг':\n",
    "    r = int(input('Введите радиус: '))\n",
    "    s = 3.14*r**2\n",
    "    print('Площадь круга: '), print(s)\n",
    "elif f == 'Треугольник':\n",
    "    a = int(input('Введите сторону А: ')) \n",
    "    b = int(input('Введите сторону B: ')) \n",
    "    c = int(input('Введите сторону C: '))\n",
    "    p = ((a + b +c) / 2)\n",
    "    st = math.sqrt(p * (p - a) * (p - b) * (p - c))\n",
    "    print('Площадь треугольника: '), print(st)\n",
    "elif f == 'Прямоугольник':\n",
    "    x = int(input('Введите сторону X: ')) \n",
    "    y = int(input('Введите сторону Y: ')) \n",
    "    sp = x*y\n",
    "    print('Площадь прямоугольника: '), print(sp)\n",
    "else:\n",
    "    print('Что-то ввели не так. Попробуйте ещё раз')"
   ]
  },
  {
   "cell_type": "code",
   "execution_count": null,
   "metadata": {},
   "outputs": [],
   "source": []
  }
 ],
 "metadata": {
  "kernelspec": {
   "display_name": "Python 3",
   "language": "python",
   "name": "python3"
  },
  "language_info": {
   "codemirror_mode": {
    "name": "ipython",
    "version": 3
   },
   "file_extension": ".py",
   "mimetype": "text/x-python",
   "name": "python",
   "nbconvert_exporter": "python",
   "pygments_lexer": "ipython3",
   "version": "3.8.5"
  }
 },
 "nbformat": 4,
 "nbformat_minor": 4
}
