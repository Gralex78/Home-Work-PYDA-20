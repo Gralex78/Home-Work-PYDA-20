{
 "cells": [
  {
   "cell_type": "markdown",
   "metadata": {},
   "source": [
    "# Домашняя работа \"Введение в типы данных и циклы. Часть 2\""
   ]
  },
  {
   "cell_type": "markdown",
   "metadata": {},
   "source": [
    "## Задание 1"
   ]
  },
  {
   "cell_type": "code",
   "execution_count": 2,
   "metadata": {},
   "outputs": [
    {
     "name": "stdout",
     "output_type": "stream",
     "text": [
      "{98, 35, 15, 213, 54, 119}\n"
     ]
    }
   ],
   "source": [
    "ids = {'user1': [213, 213, 213, 15, 213], \n",
    "       'user2': [54, 54, 119, 119, 119], \n",
    "       'user3': [213, 98, 98, 35]}\n",
    "list_ids = set(sum(list(ids.values()), []))\n",
    "print(list_ids)"
   ]
  },
  {
   "cell_type": "markdown",
   "metadata": {},
   "source": [
    "## Задание 2"
   ]
  },
  {
   "cell_type": "code",
   "execution_count": 3,
   "metadata": {},
   "outputs": [
    {
     "name": "stdout",
     "output_type": "stream",
     "text": [
      "Поисковых запросов, содержащих 2 слова:  42.86 %\n",
      "Поисковых запросов, содержащих 3 слова:  57.14 %\n"
     ]
    }
   ],
   "source": [
    "queries = [ \n",
    "    'смотреть сериалы онлайн', \n",
    "    'новости спорта', \n",
    "    'афиша кино', \n",
    "    'курс доллара', \n",
    "    'сериалы этим летом', \n",
    "    'курс по питону', \n",
    "    'сериалы про спорт', \n",
    "]\n",
    "\n",
    "queries_count = []\n",
    "i = 0\n",
    "for el in queries:\n",
    "    count_el = len(queries[i].split(' '))\n",
    "    i += 1\n",
    "    queries_count.append(count_el)\n",
    "\n",
    "two_word_content = round((queries_count.count(2) / len(queries_count)) * 100, 2)\n",
    "third_word_content = round((queries_count.count(3) / len(queries_count)) * 100, 2)\n",
    "print('Поисковых запросов, содержащих 2 слова: ', two_word_content, '%')\n",
    "print('Поисковых запросов, содержащих 3 слова: ', third_word_content, '%')\n"
   ]
  },
  {
   "cell_type": "markdown",
   "metadata": {},
   "source": [
    "## Задание 3"
   ]
  },
  {
   "cell_type": "code",
   "execution_count": 6,
   "metadata": {},
   "outputs": [
    {
     "data": {
      "text/plain": [
       "[('adwords', {'revenue': 35, 'cost': 34, 'ROI': 2.94}),\n",
       " ('facebook', {'revenue': 103, 'cost': 110, 'ROI': -6.36}),\n",
       " ('twitter', {'revenue': 11, 'cost': 24, 'ROI': -54.17}),\n",
       " ('vk', {'revenue': 103, 'cost': 98, 'ROI': 5.1}),\n",
       " ('yandex', {'revenue': 179, 'cost': 153, 'ROI': 16.99})]"
      ]
     },
     "execution_count": 6,
     "metadata": {},
     "output_type": "execute_result"
    }
   ],
   "source": [
    "results = { \n",
    "    'vk': {'revenue': 103, 'cost': 98}, \n",
    "    'yandex': {'revenue': 179, 'cost': 153}, \n",
    "    'facebook': {'revenue': 103, 'cost': 110}, \n",
    "    'adwords': {'revenue': 35, 'cost': 34}, \n",
    "    'twitter': {'revenue': 11, 'cost': 24}, \n",
    "}\n",
    "\n",
    "for key, info in results.items():\n",
    "    results[key]['ROI'] = round(((info['revenue'] - info['cost']) / info['cost']) * 100, 2)\n",
    "sorted(results.items())"
   ]
  },
  {
   "cell_type": "markdown",
   "metadata": {},
   "source": [
    "## Задание 4"
   ]
  },
  {
   "cell_type": "code",
   "execution_count": 7,
   "metadata": {},
   "outputs": [
    {
     "name": "stdout",
     "output_type": "stream",
     "text": [
      "Максимальный объем продаж на рекламном канале:  vk\n"
     ]
    }
   ],
   "source": [
    "stats = {\n",
    "    'facebook': 55, \n",
    "    'yandex': 115, \n",
    "    'vk': 120, \n",
    "    'google': 99, \n",
    "    'email': 42, \n",
    "    'ok': 98\n",
    "}\n",
    "\n",
    "print('Максимальный объем продаж на рекламном канале: ', list(stats.keys())[list(stats.values()).index(max(stats.values()))])\n",
    "    "
   ]
  },
  {
   "cell_type": "code",
   "execution_count": null,
   "metadata": {},
   "outputs": [],
   "source": []
  }
 ],
 "metadata": {
  "kernelspec": {
   "display_name": "Python 3",
   "language": "python",
   "name": "python3"
  },
  "language_info": {
   "codemirror_mode": {
    "name": "ipython",
    "version": 3
   },
   "file_extension": ".py",
   "mimetype": "text/x-python",
   "name": "python",
   "nbconvert_exporter": "python",
   "pygments_lexer": "ipython3",
   "version": "3.8.5"
  }
 },
 "nbformat": 4,
 "nbformat_minor": 4
}
