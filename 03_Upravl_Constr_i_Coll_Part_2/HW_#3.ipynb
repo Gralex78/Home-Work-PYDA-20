{
 "cells": [
  {
   "cell_type": "markdown",
   "metadata": {},
   "source": [
    "# Домашняя работа к лекции «Управляющие конструкции и коллекции» часть 2 (Введение в типы данных и циклы)"
   ]
  },
  {
   "cell_type": "markdown",
   "metadata": {},
   "source": [
    "## Задание 1\n",
    "\n",
    "Дана переменная, в которой хранится словарь, содержащий гео-метки для каждого пользователя (пример структуры данных приведен ниже). Вам необходимо написать программу, которая выведет на экран множество уникальных гео-меток всех пользователей.\n",
    "\n",
    "Пример работы программы:\n",
    "\n",
    "ids = {‘user1’: [213, 213, 213, 15, 213],   \n",
    "‘user2’: [54, 54, 119, 119, 119],  \n",
    "‘user3’: [213, 98, 98, 35]}  \n",
    "Результат: {98, 35, 15, 213, 54, 119}"
   ]
  },
  {
   "cell_type": "code",
   "execution_count": 2,
   "metadata": {},
   "outputs": [
    {
     "name": "stdout",
     "output_type": "stream",
     "text": [
      "{98, 35, 15, 213, 54, 119}\n"
     ]
    }
   ],
   "source": [
    "ids = {'user1': [213, 213, 213, 15, 213], \n",
    "       'user2': [54, 54, 119, 119, 119], \n",
    "       'user3': [213, 98, 98, 35]}\n",
    "list_ids = set(sum(list(ids.values()), []))\n",
    "print(list_ids)"
   ]
  },
  {
   "cell_type": "markdown",
   "metadata": {},
   "source": [
    "## Задание 2\n",
    "\n",
    "Дана переменная, в которой хранится список поисковых запросов пользователя (пример структуры данных приведен ниже). Вам необходимо написать программу, которая выведет на экран распределение количества слов в запросах в требуемом виде.\n",
    "\n",
    "Пример работы программы:\n",
    "\n",
    "queries = [\n",
    "\n",
    "‘смотреть сериалы онлайн’,  \n",
    "‘новости спорта’,  \n",
    "‘афиша кино’,  \n",
    "‘курс доллара’,  \n",
    "‘сериалы этим летом’,  \n",
    "‘курс по питону’,  \n",
    "‘сериалы про спорт’,  \n",
    "]\n",
    "\n",
    "Результат:\n",
    "\n",
    "Поисковых запросов, содержащих 2 слов(а): 42.86%  \n",
    "Поисковых запросов, содержащих 3 слов(а): 57.14%"
   ]
  },
  {
   "cell_type": "code",
   "execution_count": 3,
   "metadata": {},
   "outputs": [
    {
     "name": "stdout",
     "output_type": "stream",
     "text": [
      "Поисковых запросов, содержащих 2 слова:  42.86 %\n",
      "Поисковых запросов, содержащих 3 слова:  57.14 %\n"
     ]
    }
   ],
   "source": [
    "queries = [ \n",
    "    'смотреть сериалы онлайн', \n",
    "    'новости спорта', \n",
    "    'афиша кино', \n",
    "    'курс доллара', \n",
    "    'сериалы этим летом', \n",
    "    'курс по питону', \n",
    "    'сериалы про спорт', \n",
    "]\n",
    "\n",
    "queries_count = []\n",
    "i = 0\n",
    "for el in queries:\n",
    "    count_el = len(queries[i].split(' '))\n",
    "    i += 1\n",
    "    queries_count.append(count_el)\n",
    "\n",
    "two_word_content = round((queries_count.count(2) / len(queries_count)) * 100, 2)\n",
    "third_word_content = round((queries_count.count(3) / len(queries_count)) * 100, 2)\n",
    "print('Поисковых запросов, содержащих 2 слова: ', two_word_content, '%')\n",
    "print('Поисковых запросов, содержащих 3 слова: ', third_word_content, '%')\n"
   ]
  },
  {
   "cell_type": "markdown",
   "metadata": {},
   "source": [
    "## Преподаватель\n",
    "\n",
    "Во второй задаче ваш способ вывода информации жестко привязан к исходным данным. А что если запросы будут состоять из любого количества слов от 1 до 1000? Вы же не будете вручную прописывать каждый случай (как сейчас). Можно было поступить так:"
   ]
  },
  {
   "cell_type": "code",
   "execution_count": null,
   "metadata": {},
   "outputs": [],
   "source": [
    "words_count = []\n",
    " \n",
    "for query in queries:\n",
    "    words = query.split(\" \")\n",
    "    words_count.append(len(words))\n",
    " \n",
    "for el in set(words_count):\n",
    "    print(f'Поисковых запросов, содержащих {el} слов(а): {words_count.count(el)/(len(queries)) :.2%} ')"
   ]
  },
  {
   "cell_type": "code",
   "execution_count": null,
   "metadata": {},
   "outputs": [],
   "source": []
  },
  {
   "cell_type": "markdown",
   "metadata": {},
   "source": [
    "## Задание 3\n",
    "\n",
    "Дана переменная, в которой хранится информация о затратах и доходе рекламных кампаний по различным источникам. Необходимо дополнить исходную структуру показателем ROI, который рассчитаем по формуле: (revenue / cost - 1) * 100\n",
    "\n",
    "Пример работы программы:\n",
    "\n",
    "results = {\n",
    "\n",
    "‘vk’: {‘revenue’: 103, ‘cost’: 98},  \n",
    "‘yandex’: {‘revenue’: 179, ‘cost’: 153},  \n",
    "‘facebook’: {‘revenue’: 103, ‘cost’: 110},  \n",
    "‘adwords’: {‘revenue’: 35, ‘cost’: 34},  \n",
    "‘twitter’: {‘revenue’: 11, ‘cost’: 24},  \n",
    "}\n",
    "\n",
    "Результат:\n",
    "\n",
    "{‘adwords’: {‘revenue’: 35, ‘cost’: 34, ‘ROI’: 2.94},  \n",
    "‘facebook’: {‘revenue’: 103, ‘cost’: 110, ‘ROI’: -6.36},  \n",
    "‘twitter’: {‘revenue’: 11, ‘cost’: 24, ‘ROI’: -54.17},  \n",
    "‘vk’: {‘revenue’: 103, ‘cost’: 98, ‘ROI’: 5.1},  \n",
    "‘yandex’: {‘revenue’: 179, ‘cost’: 153, ‘ROI’: 16.99}}"
   ]
  },
  {
   "cell_type": "code",
   "execution_count": 6,
   "metadata": {},
   "outputs": [
    {
     "data": {
      "text/plain": [
       "[('adwords', {'revenue': 35, 'cost': 34, 'ROI': 2.94}),\n",
       " ('facebook', {'revenue': 103, 'cost': 110, 'ROI': -6.36}),\n",
       " ('twitter', {'revenue': 11, 'cost': 24, 'ROI': -54.17}),\n",
       " ('vk', {'revenue': 103, 'cost': 98, 'ROI': 5.1}),\n",
       " ('yandex', {'revenue': 179, 'cost': 153, 'ROI': 16.99})]"
      ]
     },
     "execution_count": 6,
     "metadata": {},
     "output_type": "execute_result"
    }
   ],
   "source": [
    "results = { \n",
    "    'vk': {'revenue': 103, 'cost': 98}, \n",
    "    'yandex': {'revenue': 179, 'cost': 153}, \n",
    "    'facebook': {'revenue': 103, 'cost': 110}, \n",
    "    'adwords': {'revenue': 35, 'cost': 34}, \n",
    "    'twitter': {'revenue': 11, 'cost': 24}, \n",
    "}\n",
    "\n",
    "for key, info in results.items():\n",
    "    results[key]['ROI'] = round(((info['revenue'] - info['cost']) / info['cost']) * 100, 2)\n",
    "sorted(results.items())"
   ]
  },
  {
   "cell_type": "markdown",
   "metadata": {},
   "source": [
    "## Задание 4\n",
    "\n",
    "Дана переменная, в которой хранится статистика рекламных каналов по объемам продаж (пример структуры данных приведен ниже). Напишите программу, которая возвращает название канала с максимальным объемом продаж.\n",
    "\n",
    "Пример работы программы:\n",
    "\n",
    "stats = {\n",
    "‘facebook’: 55,     \n",
    "‘yandex’: 115,   \n",
    "‘vk’: 120,   \n",
    "‘google’: 99,   \n",
    "‘email’: 42,   \n",
    "‘ok’: 98}\n",
    "\n",
    "Результат: Максимальный объем продаж на рекламном канале: vk"
   ]
  },
  {
   "cell_type": "code",
   "execution_count": 7,
   "metadata": {},
   "outputs": [
    {
     "name": "stdout",
     "output_type": "stream",
     "text": [
      "Максимальный объем продаж на рекламном канале:  vk\n"
     ]
    }
   ],
   "source": [
    "stats = {\n",
    "    'facebook': 55, \n",
    "    'yandex': 115, \n",
    "    'vk': 120, \n",
    "    'google': 99, \n",
    "    'email': 42, \n",
    "    'ok': 98\n",
    "}\n",
    "\n",
    "print('Максимальный объем продаж на рекламном канале: ', list(stats.keys())[list(stats.values()).index(max(stats.values()))])\n",
    "    "
   ]
  },
  {
   "cell_type": "code",
   "execution_count": null,
   "metadata": {},
   "outputs": [],
   "source": []
  },
  {
   "cell_type": "markdown",
   "metadata": {},
   "source": [
    "## Задание 5 (необязательно)\n",
    "\n",
    "Дан список произвольной длины. Необходимо написать код, который на основе исходного списка составит словарь такого уровня вложенности, какова длина исхондого списка.\n",
    "\n",
    "Примеры работы программы:\n",
    "\n",
    "my_list = [‘2018-01-01’, ‘yandex’, ‘cpc’, 100]  \n",
    "Результат: {‘2018-01-01’: {‘yandex’: {‘cpc’: 100}}}\n",
    "\n",
    "my_list = [‘a’, ‘b’, ‘c’, ‘d’, ‘e’, ‘f’]  \n",
    "Результат: {‘a’: {‘b’: {‘c’: {‘d’: {‘e’: ‘f’}}}}}"
   ]
  },
  {
   "cell_type": "code",
   "execution_count": null,
   "metadata": {},
   "outputs": [],
   "source": []
  },
  {
   "cell_type": "markdown",
   "metadata": {},
   "source": [
    "## Задание 6 (необязательно)\n",
    "Дана книга рецептов с информацией о том, сколько ингредиентов нужно для приготовления блюда в расчете на одну порцию (пример данных представлен ниже).\n",
    "Напишите программу, которая будет запрашивать у пользователя количество порций для приготовления этих блюд и отображать информацию о суммарном количестве требуемых ингредиентов в указанном виде.\n",
    "Внимание! Одинаковые ингридиенты с разными размерностями нужно считать раздельно!\n",
    "Пример работы программы:\n",
    "\n",
    "cook_book = {\n",
    "‘салат’: [\n",
    "{‘ingridient_name’: ‘сыр’, ‘quantity’: 50, ‘measure’: ‘гр’},\n",
    "{‘ingridient_name’: ‘томаты’, ‘quantity’: 2, ‘measure’: ‘шт’},\n",
    "{‘ingridient_name’: ‘огурцы’, ‘quantity’: 20, ‘measure’: ‘гр’},\n",
    "{‘ingridient_name’: ‘маслины’, ‘quantity’: 10, ‘measure’: ‘гр’},\n",
    "{‘ingridient_name’: ‘оливковое масло’, ‘quantity’: 20, ‘measure’: ‘мл’},\n",
    "{‘ingridient_name’: ‘салат’, ‘quantity’: 10, ‘measure’: ‘гр’},\n",
    "{‘ingridient_name’: ‘перец’, ‘quantity’: 20, ‘measure’: ‘гр’}\n",
    "],\n",
    "‘пицца’: [\n",
    "{‘ingridient_name’: ‘сыр’, ‘quantity’: 20, ‘measure’: ‘гр’},\n",
    "{‘ingridient_name’: ‘колбаса’, ‘quantity’: 30, ‘measure’: ‘гр’},\n",
    "{‘ingridient_name’: ‘бекон’, ‘quantity’: 30, ‘measure’: ‘гр’},\n",
    "{‘ingridient_name’: ‘оливки’, ‘quantity’: 10, ‘measure’: ‘гр’},\n",
    "{‘ingridient_name’: ‘томаты’, ‘quantity’: 20, ‘measure’: ‘гр’},\n",
    "{‘ingridient_name’: ‘тесто’, ‘quantity’: 100, ‘measure’: ‘гр’},\n",
    "],\n",
    "‘лимонад’: [\n",
    "{‘ingridient_name’: ‘лимон’, ‘quantity’: 1, ‘measure’: ‘шт’},\n",
    "{‘ingridient_name’: ‘вода’, ‘quantity’: 200, ‘measure’: ‘мл’},\n",
    "{‘ingridient_name’: ‘сахар’, ‘quantity’: 10, ‘measure’: ‘гр’},\n",
    "{‘ingridient_name’: ‘лайм’, ‘quantity’: 20, ‘measure’: ‘гр’},\n",
    "]\n",
    "}\n",
    "\n",
    "Введите количество порций:\n",
    "3\n",
    "Результат:\n",
    "\n",
    "Сыр: 210 гр\n",
    "Томаты: 6 шт\n",
    "Огурцы: 60 гр\n",
    "Маслины: 30 гр\n",
    "Оливковое масло: 60 мл\n",
    "Салат: 30 гр\n",
    "Перец: 60 гр\n",
    "Колбаса: 90 гр\n",
    "Бекон: 90 гр\n",
    "Оливки: 30 гр\n",
    "Томаты: 60 гр\n",
    "Тесто: 300 гр\n",
    "Лимон: 3 шт\n",
    "Вода: 600 мл\n",
    "Сахар: 30 гр\n",
    "Лайм: 60 гр"
   ]
  },
  {
   "cell_type": "code",
   "execution_count": null,
   "metadata": {},
   "outputs": [],
   "source": []
  },
  {
   "cell_type": "markdown",
   "metadata": {},
   "source": [
    "## Преподаватель\n",
    "\n",
    "И у 4 задачи есть еще много интересных способов решения, если будет интересно, можете почитать вот этот тред на stackoverflow: https://stackoverflow.com/questions/268272/getting-key-with-maximum-value-in-dictionary"
   ]
  },
  {
   "cell_type": "code",
   "execution_count": null,
   "metadata": {},
   "outputs": [],
   "source": []
  }
 ],
 "metadata": {
  "kernelspec": {
   "display_name": "Python 3",
   "language": "python",
   "name": "python3"
  },
  "language_info": {
   "codemirror_mode": {
    "name": "ipython",
    "version": 3
   },
   "file_extension": ".py",
   "mimetype": "text/x-python",
   "name": "python",
   "nbconvert_exporter": "python",
   "pygments_lexer": "ipython3",
   "version": "3.8.5"
  }
 },
 "nbformat": 4,
 "nbformat_minor": 4
}
