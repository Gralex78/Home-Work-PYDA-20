{
 "cells": [
  {
   "cell_type": "markdown",
   "metadata": {},
   "source": [
    "## Лабораторная работа по курсу «Python для анализа данных»"
   ]
  },
  {
   "cell_type": "markdown",
   "metadata": {},
   "source": [
    "### При выполнении работы допускается использование любых внешних модулей и пакетов."
   ]
  },
  {
   "cell_type": "markdown",
   "metadata": {},
   "source": [
    "#### Задача 1"
   ]
  },
  {
   "cell_type": "markdown",
   "metadata": {},
   "source": [
    "Дана строка:"
   ]
  },
  {
   "cell_type": "code",
   "execution_count": 1,
   "metadata": {},
   "outputs": [],
   "source": [
    "string_01 = \"History is always written by the winners. When two cultures clash, the loser is obliterated, and the winner writes the history books - books which glorify their own cause and disparage the conquered foe. As Napoleon once said, 'What is history, but a fable agreed upon?'\""
   ]
  },
  {
   "cell_type": "code",
   "execution_count": 2,
   "metadata": {},
   "outputs": [
    {
     "data": {
      "text/plain": [
       "\"History is always written by the winners. When two cultures clash, the loser is obliterated, and the winner writes the history books - books which glorify their own cause and disparage the conquered foe. As Napoleon once said, 'What is history, but a fable agreed upon?'\""
      ]
     },
     "execution_count": 2,
     "metadata": {},
     "output_type": "execute_result"
    }
   ],
   "source": [
    "string = string_01[0:]\n",
    "string"
   ]
  },
  {
   "cell_type": "markdown",
   "metadata": {},
   "source": [
    "1. Посчитайте, сколько в строке символов, исключая пробелы:"
   ]
  },
  {
   "cell_type": "code",
   "execution_count": 3,
   "metadata": {},
   "outputs": [
    {
     "data": {
      "text/plain": [
       "225"
      ]
     },
     "execution_count": 3,
     "metadata": {},
     "output_type": "execute_result"
    }
   ],
   "source": [
    "len(string_01) - string_01.count(' ') "
   ]
  },
  {
   "cell_type": "code",
   "execution_count": null,
   "metadata": {},
   "outputs": [],
   "source": []
  },
  {
   "cell_type": "code",
   "execution_count": 4,
   "metadata": {},
   "outputs": [
    {
     "data": {
      "text/plain": [
       "\"Historyisalwayswrittenbythewinners.Whentwoculturesclash,theloserisobliterated,andthewinnerwritesthehistorybooks-bookswhichglorifytheirowncauseanddisparagetheconqueredfoe.AsNapoleononcesaid,'Whatishistory,butafableagreedupon?'\""
      ]
     },
     "execution_count": 4,
     "metadata": {},
     "output_type": "execute_result"
    }
   ],
   "source": [
    "symbols = string_01.replace(' ', '')\n",
    "symbols"
   ]
  },
  {
   "cell_type": "code",
   "execution_count": 5,
   "metadata": {},
   "outputs": [
    {
     "data": {
      "text/plain": [
       "225"
      ]
     },
     "execution_count": 5,
     "metadata": {},
     "output_type": "execute_result"
    }
   ],
   "source": [
    "len(symbols)"
   ]
  },
  {
   "cell_type": "code",
   "execution_count": 6,
   "metadata": {},
   "outputs": [],
   "source": [
    "import re"
   ]
  },
  {
   "cell_type": "code",
   "execution_count": 7,
   "metadata": {},
   "outputs": [
    {
     "data": {
      "text/plain": [
       "['H',\n",
       " 'i',\n",
       " 's',\n",
       " 't',\n",
       " 'o',\n",
       " 'r',\n",
       " 'y',\n",
       " 'i',\n",
       " 's',\n",
       " 'a',\n",
       " 'l',\n",
       " 'w',\n",
       " 'a',\n",
       " 'y',\n",
       " 's',\n",
       " 'w',\n",
       " 'r',\n",
       " 'i',\n",
       " 't',\n",
       " 't',\n",
       " 'e',\n",
       " 'n',\n",
       " 'b',\n",
       " 'y',\n",
       " 't',\n",
       " 'h',\n",
       " 'e',\n",
       " 'w',\n",
       " 'i',\n",
       " 'n',\n",
       " 'n',\n",
       " 'e',\n",
       " 'r',\n",
       " 's',\n",
       " '.',\n",
       " 'W',\n",
       " 'h',\n",
       " 'e',\n",
       " 'n',\n",
       " 't',\n",
       " 'w',\n",
       " 'o',\n",
       " 'c',\n",
       " 'u',\n",
       " 'l',\n",
       " 't',\n",
       " 'u',\n",
       " 'r',\n",
       " 'e',\n",
       " 's',\n",
       " 'c',\n",
       " 'l',\n",
       " 'a',\n",
       " 's',\n",
       " 'h',\n",
       " ',',\n",
       " 't',\n",
       " 'h',\n",
       " 'e',\n",
       " 'l',\n",
       " 'o',\n",
       " 's',\n",
       " 'e',\n",
       " 'r',\n",
       " 'i',\n",
       " 's',\n",
       " 'o',\n",
       " 'b',\n",
       " 'l',\n",
       " 'i',\n",
       " 't',\n",
       " 'e',\n",
       " 'r',\n",
       " 'a',\n",
       " 't',\n",
       " 'e',\n",
       " 'd',\n",
       " ',',\n",
       " 'a',\n",
       " 'n',\n",
       " 'd',\n",
       " 't',\n",
       " 'h',\n",
       " 'e',\n",
       " 'w',\n",
       " 'i',\n",
       " 'n',\n",
       " 'n',\n",
       " 'e',\n",
       " 'r',\n",
       " 'w',\n",
       " 'r',\n",
       " 'i',\n",
       " 't',\n",
       " 'e',\n",
       " 's',\n",
       " 't',\n",
       " 'h',\n",
       " 'e',\n",
       " 'h',\n",
       " 'i',\n",
       " 's',\n",
       " 't',\n",
       " 'o',\n",
       " 'r',\n",
       " 'y',\n",
       " 'b',\n",
       " 'o',\n",
       " 'o',\n",
       " 'k',\n",
       " 's',\n",
       " '-',\n",
       " 'b',\n",
       " 'o',\n",
       " 'o',\n",
       " 'k',\n",
       " 's',\n",
       " 'w',\n",
       " 'h',\n",
       " 'i',\n",
       " 'c',\n",
       " 'h',\n",
       " 'g',\n",
       " 'l',\n",
       " 'o',\n",
       " 'r',\n",
       " 'i',\n",
       " 'f',\n",
       " 'y',\n",
       " 't',\n",
       " 'h',\n",
       " 'e',\n",
       " 'i',\n",
       " 'r',\n",
       " 'o',\n",
       " 'w',\n",
       " 'n',\n",
       " 'c',\n",
       " 'a',\n",
       " 'u',\n",
       " 's',\n",
       " 'e',\n",
       " 'a',\n",
       " 'n',\n",
       " 'd',\n",
       " 'd',\n",
       " 'i',\n",
       " 's',\n",
       " 'p',\n",
       " 'a',\n",
       " 'r',\n",
       " 'a',\n",
       " 'g',\n",
       " 'e',\n",
       " 't',\n",
       " 'h',\n",
       " 'e',\n",
       " 'c',\n",
       " 'o',\n",
       " 'n',\n",
       " 'q',\n",
       " 'u',\n",
       " 'e',\n",
       " 'r',\n",
       " 'e',\n",
       " 'd',\n",
       " 'f',\n",
       " 'o',\n",
       " 'e',\n",
       " '.',\n",
       " 'A',\n",
       " 's',\n",
       " 'N',\n",
       " 'a',\n",
       " 'p',\n",
       " 'o',\n",
       " 'l',\n",
       " 'e',\n",
       " 'o',\n",
       " 'n',\n",
       " 'o',\n",
       " 'n',\n",
       " 'c',\n",
       " 'e',\n",
       " 's',\n",
       " 'a',\n",
       " 'i',\n",
       " 'd',\n",
       " ',',\n",
       " \"'\",\n",
       " 'W',\n",
       " 'h',\n",
       " 'a',\n",
       " 't',\n",
       " 'i',\n",
       " 's',\n",
       " 'h',\n",
       " 'i',\n",
       " 's',\n",
       " 't',\n",
       " 'o',\n",
       " 'r',\n",
       " 'y',\n",
       " ',',\n",
       " 'b',\n",
       " 'u',\n",
       " 't',\n",
       " 'a',\n",
       " 'f',\n",
       " 'a',\n",
       " 'b',\n",
       " 'l',\n",
       " 'e',\n",
       " 'a',\n",
       " 'g',\n",
       " 'r',\n",
       " 'e',\n",
       " 'e',\n",
       " 'd',\n",
       " 'u',\n",
       " 'p',\n",
       " 'o',\n",
       " 'n',\n",
       " '?',\n",
       " \"'\"]"
      ]
     },
     "execution_count": 7,
     "metadata": {},
     "output_type": "execute_result"
    }
   ],
   "source": [
    "symbols_re = re.findall(r'\\S', string_01)\n",
    "symbols_re"
   ]
  },
  {
   "cell_type": "code",
   "execution_count": 8,
   "metadata": {},
   "outputs": [
    {
     "data": {
      "text/plain": [
       "225"
      ]
     },
     "execution_count": 8,
     "metadata": {},
     "output_type": "execute_result"
    }
   ],
   "source": [
    "len(symbols_re)"
   ]
  },
  {
   "cell_type": "code",
   "execution_count": 9,
   "metadata": {},
   "outputs": [
    {
     "name": "stdout",
     "output_type": "stream",
     "text": [
      "['H', 'i', 's', 't', 'o', 'r', 'y', 'i', 's', 'a', 'l', 'w', 'a', 'y', 's', 'w', 'r', 'i', 't', 't', 'e', 'n', 'b', 'y', 't', 'h', 'e', 'w', 'i', 'n', 'n', 'e', 'r', 's', '.', 'W', 'h', 'e', 'n', 't', 'w', 'o', 'c', 'u', 'l', 't', 'u', 'r', 'e', 's', 'c', 'l', 'a', 's', 'h', ',', 't', 'h', 'e', 'l', 'o', 's', 'e', 'r', 'i', 's', 'o', 'b', 'l', 'i', 't', 'e', 'r', 'a', 't', 'e', 'd', ',', 'a', 'n', 'd', 't', 'h', 'e', 'w', 'i', 'n', 'n', 'e', 'r', 'w', 'r', 'i', 't', 'e', 's', 't', 'h', 'e', 'h', 'i', 's', 't', 'o', 'r', 'y', 'b', 'o', 'o', 'k', 's', '-', 'b', 'o', 'o', 'k', 's', 'w', 'h', 'i', 'c', 'h', 'g', 'l', 'o', 'r', 'i', 'f', 'y', 't', 'h', 'e', 'i', 'r', 'o', 'w', 'n', 'c', 'a', 'u', 's', 'e', 'a', 'n', 'd', 'd', 'i', 's', 'p', 'a', 'r', 'a', 'g', 'e', 't', 'h', 'e', 'c', 'o', 'n', 'q', 'u', 'e', 'r', 'e', 'd', 'f', 'o', 'e', '.', 'A', 's', 'N', 'a', 'p', 'o', 'l', 'e', 'o', 'n', 'o', 'n', 'c', 'e', 's', 'a', 'i', 'd', ',', \"'\", 'W', 'h', 'a', 't', 'i', 's', 'h', 'i', 's', 't', 'o', 'r', 'y', ',', 'b', 'u', 't', 'a', 'f', 'a', 'b', 'l', 'e', 'a', 'g', 'r', 'e', 'e', 'd', 'u', 'p', 'o', 'n', '?', \"'\"]\n"
     ]
    }
   ],
   "source": [
    "list_symbol = []\n",
    "for symbol in string_01:\n",
    "    if symbol != ' ':\n",
    "        list_symbol.append(symbol)\n",
    "        continue\n",
    "print(list_symbol)"
   ]
  },
  {
   "cell_type": "code",
   "execution_count": 10,
   "metadata": {},
   "outputs": [
    {
     "data": {
      "text/plain": [
       "225"
      ]
     },
     "execution_count": 10,
     "metadata": {},
     "output_type": "execute_result"
    }
   ],
   "source": [
    "len(list_symbol)"
   ]
  },
  {
   "cell_type": "code",
   "execution_count": null,
   "metadata": {},
   "outputs": [],
   "source": []
  },
  {
   "cell_type": "markdown",
   "metadata": {},
   "source": [
    "2. Посчитайте, сколько в строке слов."
   ]
  },
  {
   "cell_type": "code",
   "execution_count": 11,
   "metadata": {},
   "outputs": [],
   "source": [
    "string_01 = \"History is always written by the winners. When two cultures clash, the loser is obliterated, and the winner writes the history books - books which glorify their own cause and disparage the conquered foe. As Napoleon once said, 'What is history, but a fable agreed upon?'\""
   ]
  },
  {
   "cell_type": "code",
   "execution_count": 12,
   "metadata": {},
   "outputs": [
    {
     "data": {
      "text/plain": [
       "\"History is always written by the winners. When two cultures clash, the loser is obliterated, and the winner writes the history books - books which glorify their own cause and disparage the conquered foe. As Napoleon once said, 'What is history, but a fable agreed upon?'\""
      ]
     },
     "execution_count": 12,
     "metadata": {},
     "output_type": "execute_result"
    }
   ],
   "source": [
    "string = string_01[0:]\n",
    "string"
   ]
  },
  {
   "cell_type": "code",
   "execution_count": 13,
   "metadata": {},
   "outputs": [
    {
     "data": {
      "text/plain": [
       "['History',\n",
       " 'is',\n",
       " 'always',\n",
       " 'written',\n",
       " 'by',\n",
       " 'the',\n",
       " 'winners.',\n",
       " 'When',\n",
       " 'two',\n",
       " 'cultures',\n",
       " 'clash,',\n",
       " 'the',\n",
       " 'loser',\n",
       " 'is',\n",
       " 'obliterated,',\n",
       " 'and',\n",
       " 'the',\n",
       " 'winner',\n",
       " 'writes',\n",
       " 'the',\n",
       " 'history',\n",
       " 'books',\n",
       " '-',\n",
       " 'books',\n",
       " 'which',\n",
       " 'glorify',\n",
       " 'their',\n",
       " 'own',\n",
       " 'cause',\n",
       " 'and',\n",
       " 'disparage',\n",
       " 'the',\n",
       " 'conquered',\n",
       " 'foe.',\n",
       " 'As',\n",
       " 'Napoleon',\n",
       " 'once',\n",
       " 'said,',\n",
       " \"'What\",\n",
       " 'is',\n",
       " 'history,',\n",
       " 'but',\n",
       " 'a',\n",
       " 'fable',\n",
       " 'agreed',\n",
       " \"upon?'\"]"
      ]
     },
     "execution_count": 13,
     "metadata": {},
     "output_type": "execute_result"
    }
   ],
   "source": [
    "words_split = string.split(' ')\n",
    "words_split"
   ]
  },
  {
   "cell_type": "code",
   "execution_count": 14,
   "metadata": {},
   "outputs": [
    {
     "data": {
      "text/plain": [
       "46"
      ]
     },
     "execution_count": 14,
     "metadata": {},
     "output_type": "execute_result"
    }
   ],
   "source": [
    "len(words_split)"
   ]
  },
  {
   "cell_type": "code",
   "execution_count": 15,
   "metadata": {},
   "outputs": [
    {
     "data": {
      "text/plain": [
       "['History',\n",
       " 'is',\n",
       " 'always',\n",
       " 'written',\n",
       " 'by',\n",
       " 'the',\n",
       " 'winners',\n",
       " 'When',\n",
       " 'two',\n",
       " 'cultures',\n",
       " 'clash',\n",
       " 'the',\n",
       " 'loser',\n",
       " 'is',\n",
       " 'obliterated',\n",
       " 'and',\n",
       " 'the',\n",
       " 'winner',\n",
       " 'writes',\n",
       " 'the',\n",
       " 'history',\n",
       " 'books',\n",
       " 'books',\n",
       " 'which',\n",
       " 'glorify',\n",
       " 'their',\n",
       " 'own',\n",
       " 'cause',\n",
       " 'and',\n",
       " 'disparage',\n",
       " 'the',\n",
       " 'conquered',\n",
       " 'foe',\n",
       " 'As',\n",
       " 'Napoleon',\n",
       " 'once',\n",
       " 'said',\n",
       " 'What',\n",
       " 'is',\n",
       " 'history',\n",
       " 'but',\n",
       " 'a',\n",
       " 'fable',\n",
       " 'agreed',\n",
       " 'upon']"
      ]
     },
     "execution_count": 15,
     "metadata": {},
     "output_type": "execute_result"
    }
   ],
   "source": [
    "words_re = re.findall(r'\\w+', string_01)\n",
    "words_re"
   ]
  },
  {
   "cell_type": "code",
   "execution_count": 16,
   "metadata": {},
   "outputs": [
    {
     "data": {
      "text/plain": [
       "45"
      ]
     },
     "execution_count": 16,
     "metadata": {},
     "output_type": "execute_result"
    }
   ],
   "source": [
    "len(words_re)"
   ]
  },
  {
   "cell_type": "code",
   "execution_count": null,
   "metadata": {},
   "outputs": [],
   "source": []
  },
  {
   "cell_type": "markdown",
   "metadata": {},
   "source": [
    "3. Напишите функцию, которая будет принимать в качестве аргумента букву и выводить все слова из строки, начинающиеся на эту букву (например, “w”)."
   ]
  },
  {
   "cell_type": "code",
   "execution_count": 17,
   "metadata": {},
   "outputs": [],
   "source": [
    "import re"
   ]
  },
  {
   "cell_type": "code",
   "execution_count": 18,
   "metadata": {},
   "outputs": [],
   "source": [
    "string_01 = \"History is always written by the winners. When two cultures clash, the loser is obliterated, and the winner writes the history books - books which glorify their own cause and disparage the conquered foe. As Napoleon once said, 'What is history, but a fable agreed upon?'\""
   ]
  },
  {
   "cell_type": "code",
   "execution_count": 19,
   "metadata": {},
   "outputs": [
    {
     "name": "stdout",
     "output_type": "stream",
     "text": [
      "written\n",
      "winners.\n",
      "When\n",
      "winner\n",
      "writes\n",
      "which\n"
     ]
    }
   ],
   "source": [
    "def first_words_start_with(letter):\n",
    "    words_split = string_01[0:].split()\n",
    "    for word in words_split:\n",
    "        if word.startswith(letter.lower()) or word.startswith(letter.upper()):\n",
    "            print(word)\n",
    "first_words_start_with('w')    "
   ]
  },
  {
   "cell_type": "code",
   "execution_count": null,
   "metadata": {},
   "outputs": [],
   "source": []
  },
  {
   "cell_type": "code",
   "execution_count": 25,
   "metadata": {},
   "outputs": [
    {
     "name": "stdout",
     "output_type": "stream",
     "text": [
      "Введите букву: w\n",
      "['written', 'winners.', 'winner', 'writes', 'which']\n"
     ]
    }
   ],
   "source": [
    "inp_letter = input('Введите букву: ')\n",
    "\n",
    "words_split = string_01[0:].split()\n",
    "words_split_list = []\n",
    "for element in words_split:\n",
    "    if inp_letter == element[0]:\n",
    "        words_split_list.append(element)\n",
    "print(words_split_list)"
   ]
  },
  {
   "cell_type": "code",
   "execution_count": 26,
   "metadata": {},
   "outputs": [
    {
     "name": "stdout",
     "output_type": "stream",
     "text": [
      "Введите букву: w\n",
      "['written', 'winners', 'winner', 'writes', 'which']\n"
     ]
    }
   ],
   "source": [
    "inp_letter = input('Введите букву: ')\n",
    "\n",
    "words_re = re.findall(r'\\w+', string_01)\n",
    "words_re_list = []\n",
    "for element in words_re:\n",
    "    if inp_letter == element[0]:\n",
    "        words_re_list.append(element)\n",
    "print(words_re_list)"
   ]
  },
  {
   "cell_type": "code",
   "execution_count": null,
   "metadata": {},
   "outputs": [],
   "source": []
  },
  {
   "cell_type": "code",
   "execution_count": 31,
   "metadata": {},
   "outputs": [
    {
     "name": "stdout",
     "output_type": "stream",
     "text": [
      "['written', 'winners', 'When', 'winner', 'writes', 'which', 'What']\n"
     ]
    }
   ],
   "source": [
    "string_01 = \"History is always written by the winners. When two cultures clash, the loser is obliterated, and the winner writes the history books - books which glorify their own cause and disparage the conquered foe. As Napoleon once said, 'What is history, but a fable agreed upon?'\"\n",
    "print(re.findall(r'(?i)(\\b[w]+\\w+)', string_01))"
   ]
  },
  {
   "cell_type": "code",
   "execution_count": null,
   "metadata": {},
   "outputs": [],
   "source": [
    "def check(letter):\n",
    "    letter = input('Введите букву: ')\n",
    "    pattern = r'(?i)(\\b[w]+\\w+)'\n",
    "    result = re.findall(pattern, string_01)\n",
    "    if result:\n",
    "        print(result)\n",
    "    else:\n",
    "        print('С такой буквы не найдено ни одного слова')\n",
    "\n",
    "check(w)"
   ]
  },
  {
   "cell_type": "code",
   "execution_count": null,
   "metadata": {},
   "outputs": [],
   "source": [
    "pattern = r'b\\ [' + letter.upper() + letter.lower() + ']\\w+'"
   ]
  },
  {
   "cell_type": "code",
   "execution_count": null,
   "metadata": {},
   "outputs": [],
   "source": []
  },
  {
   "cell_type": "markdown",
   "metadata": {},
   "source": [
    "#### Задача 2"
   ]
  },
  {
   "cell_type": "markdown",
   "metadata": {},
   "source": [
    "Напишите код, который будет генерировать случайную последовательность из 6 цифр, одна из которых должна быть 3. Позиция цифры 3 должна\n",
    "определяться случайным образом. Результат должен быть строкой. Например: \"456309\" или \"330127\"."
   ]
  },
  {
   "cell_type": "code",
   "execution_count": 35,
   "metadata": {},
   "outputs": [],
   "source": [
    "import random"
   ]
  },
  {
   "cell_type": "code",
   "execution_count": 51,
   "metadata": {},
   "outputs": [],
   "source": [
    "number = [str(random.randint(0, 9)) for i in range(5)]\n",
    "number.append('3')\n",
    "random.shuffle(number)\n",
    "number = ''.join(number)"
   ]
  },
  {
   "cell_type": "code",
   "execution_count": 52,
   "metadata": {},
   "outputs": [
    {
     "data": {
      "text/plain": [
       "'853842'"
      ]
     },
     "execution_count": 52,
     "metadata": {},
     "output_type": "execute_result"
    }
   ],
   "source": [
    "number"
   ]
  },
  {
   "cell_type": "code",
   "execution_count": 55,
   "metadata": {},
   "outputs": [
    {
     "data": {
      "text/plain": [
       "'696230'"
      ]
     },
     "execution_count": 55,
     "metadata": {},
     "output_type": "execute_result"
    }
   ],
   "source": [
    "def random3():\n",
    "    digit = str(random.randint(100000, 999999))\n",
    "    if digit.find('3') > 0:\n",
    "        return digit\n",
    "    else:\n",
    "        return random3()\n",
    "random3()"
   ]
  },
  {
   "cell_type": "code",
   "execution_count": null,
   "metadata": {},
   "outputs": [],
   "source": []
  },
  {
   "cell_type": "markdown",
   "metadata": {},
   "source": [
    "#### Задача 3"
   ]
  },
  {
   "cell_type": "markdown",
   "metadata": {},
   "source": [
    "Дан список:"
   ]
  },
  {
   "cell_type": "code",
   "execution_count": 57,
   "metadata": {},
   "outputs": [],
   "source": [
    "list_01 = [1, 1, 2, 3, 5, 8, 13, 21, 34, 55, 89, 144, 233, 377, 610, 14, 46, 273, 22, 99, 15, 1000]"
   ]
  },
  {
   "cell_type": "markdown",
   "metadata": {},
   "source": [
    "Напишите алгоритм, который выводит число, равное сумме элементов списка, которые больше 10, но меньше 100, и которые больше 200, но меньше 500."
   ]
  },
  {
   "cell_type": "code",
   "execution_count": 61,
   "metadata": {},
   "outputs": [
    {
     "data": {
      "text/plain": [
       "[13, 21, 34, 55, 89, 233, 377, 14, 46, 273, 22, 99, 15]"
      ]
     },
     "execution_count": 61,
     "metadata": {},
     "output_type": "execute_result"
    }
   ],
   "source": [
    "[x for x in list_01 if 10 < x < 100 or 200 < x < 500]"
   ]
  },
  {
   "cell_type": "code",
   "execution_count": 62,
   "metadata": {},
   "outputs": [
    {
     "data": {
      "text/plain": [
       "1291"
      ]
     },
     "execution_count": 62,
     "metadata": {},
     "output_type": "execute_result"
    }
   ],
   "source": [
    "sum([x for x in list_01 if 10 < x < 100 or 200 < x < 500])"
   ]
  },
  {
   "cell_type": "code",
   "execution_count": null,
   "metadata": {},
   "outputs": [],
   "source": []
  },
  {
   "cell_type": "code",
   "execution_count": 50,
   "metadata": {},
   "outputs": [
    {
     "name": "stdout",
     "output_type": "stream",
     "text": [
      "[13, 21, 34, 55, 89, 233, 377, 14, 46, 273, 22, 99, 15] Сумма: 1291\n"
     ]
    }
   ],
   "source": [
    "list_02 = []\n",
    "\n",
    "for element in list_01:\n",
    "    if 10 < element < 100 or 200 < element < 500:\n",
    "        list_02.append(element)        \n",
    "    else:\n",
    "        None\n",
    "\n",
    "print(list_02, 'Сумма:', sum(list_02))"
   ]
  },
  {
   "cell_type": "code",
   "execution_count": null,
   "metadata": {},
   "outputs": [],
   "source": []
  },
  {
   "cell_type": "markdown",
   "metadata": {},
   "source": [
    "#### Задача 4"
   ]
  },
  {
   "cell_type": "markdown",
   "metadata": {},
   "source": [
    "Данные студентов представлены в виде списка списков:"
   ]
  },
  {
   "cell_type": "code",
   "execution_count": 64,
   "metadata": {},
   "outputs": [],
   "source": [
    "students = [\n",
    "[\"0001\", \"Антонов\", \"Антон\", \"Игоревич\", \"20.08.2009\",\"БСТ161\"],\n",
    "[\"1102\", \"Богов\", \"Артем\", \"Игоревич\", \"25.01.2010\",\"БСТ162\"],\n",
    "[\"0333\", \"Глаголева\", \"Анастасия\", \"Николаевна\", \"11.07.2009\", \"БСТ163\"],\n",
    "[\"4004\", \"Степанова\", \"Наталья\", \"Александровна\", \"13.02.2008\", \"БСТ161\"],\n",
    "[\"0045\", \"Боков\", \"Игорь\", \"Харитонович\", \"02.06.2009\", \"БСТ161\"],\n",
    "[\"0096\", \"Васильков\", \"Валентин\", \"Сергеевич\", \"20.03.2009\", \"БСТ164\"],\n",
    "[\"0607\", \"Сиропова\", \"Виолетта\", \"Эдуардовна\", \"28.05.2010\", \"БСТ162\"]\n",
    "    ]"
   ]
  },
  {
   "cell_type": "markdown",
   "metadata": {},
   "source": [
    "1. Преобразуйте данные таким образом, чтобы они были представлены в виде словаря, в котором ключами являются номера студентов, а значениями — список из других данных о студентах."
   ]
  },
  {
   "cell_type": "code",
   "execution_count": 67,
   "metadata": {},
   "outputs": [],
   "source": [
    "students_dict = {}   #dict()\n",
    "for student in students:\n",
    "#    students_dict[key] = value\n",
    "    students_dict[student[0]] = student[1:]"
   ]
  },
  {
   "cell_type": "code",
   "execution_count": 68,
   "metadata": {},
   "outputs": [
    {
     "data": {
      "text/plain": [
       "{'0001': ['Антонов', 'Антон', 'Игоревич', '20.08.2009', 'БСТ161'],\n",
       " '1102': ['Богов', 'Артем', 'Игоревич', '25.01.2010', 'БСТ162'],\n",
       " '0333': ['Глаголева', 'Анастасия', 'Николаевна', '11.07.2009', 'БСТ163'],\n",
       " '4004': ['Степанова', 'Наталья', 'Александровна', '13.02.2008', 'БСТ161'],\n",
       " '0045': ['Боков', 'Игорь', 'Харитонович', '02.06.2009', 'БСТ161'],\n",
       " '0096': ['Васильков', 'Валентин', 'Сергеевич', '20.03.2009', 'БСТ164'],\n",
       " '0607': ['Сиропова', 'Виолетта', 'Эдуардовна', '28.05.2010', 'БСТ162']}"
      ]
     },
     "execution_count": 68,
     "metadata": {},
     "output_type": "execute_result"
    }
   ],
   "source": [
    "students_dict"
   ]
  },
  {
   "cell_type": "code",
   "execution_count": null,
   "metadata": {},
   "outputs": [],
   "source": []
  },
  {
   "cell_type": "code",
   "execution_count": 53,
   "metadata": {},
   "outputs": [
    {
     "data": {
      "text/plain": [
       "{'0001': ['Антонов', 'Антон', 'Игоревич', '20.08.2009', 'БСТ161'],\n",
       " '1102': ['Богов', 'Артем', 'Игоревич', '25.01.2010', 'БСТ162'],\n",
       " '0333': ['Глаголева', 'Анастасия', 'Николаевна', '11.07.2009', 'БСТ163'],\n",
       " '4004': ['Степанова', 'Наталья', 'Александровна', '13.02.2008', 'БСТ161'],\n",
       " '0045': ['Боков', 'Игорь', 'Харитонович', '02.06.2009', 'БСТ161'],\n",
       " '0096': ['Васильков', 'Валентин', 'Сергеевич', '20.03.2009', 'БСТ164'],\n",
       " '0607': ['Сиропова', 'Виолетта', 'Эдуардовна', '28.05.2010', 'БСТ162']}"
      ]
     },
     "execution_count": 53,
     "metadata": {},
     "output_type": "execute_result"
    }
   ],
   "source": [
    "key_list = []\n",
    "values_list = []\n",
    "\n",
    "for element in students:\n",
    "    key_list.append(element[0])\n",
    "    values_list.append(element[1:])\n",
    "    \n",
    "#print(key_list)\n",
    "#print(values_list)\n",
    "students_dict = dict(zip(key_list, values_list))\n",
    "students_dict"
   ]
  },
  {
   "cell_type": "code",
   "execution_count": null,
   "metadata": {},
   "outputs": [],
   "source": []
  },
  {
   "cell_type": "markdown",
   "metadata": {},
   "source": [
    "2. Напишите функцию, которая принимает в качестве аргумента номер студента и новый номер группы и позволяет изменить номер группы этого студента на новый внутри созданного словаря."
   ]
  },
  {
   "cell_type": "code",
   "execution_count": 71,
   "metadata": {},
   "outputs": [],
   "source": [
    "def change_group(student_number, new_group):\n",
    "    students_dict[student_number][4] = new_group    "
   ]
  },
  {
   "cell_type": "code",
   "execution_count": 73,
   "metadata": {},
   "outputs": [],
   "source": [
    "change_group('0001', 'PYDA-21')"
   ]
  },
  {
   "cell_type": "code",
   "execution_count": 74,
   "metadata": {},
   "outputs": [
    {
     "data": {
      "text/plain": [
       "{'0001': ['Антонов', 'Антон', 'Игоревич', '20.08.2009', 'PYDA-21'],\n",
       " '1102': ['Богов', 'Артем', 'Игоревич', '25.01.2010', 'БСТ162'],\n",
       " '0333': ['Глаголева', 'Анастасия', 'Николаевна', '11.07.2009', 'БСТ163'],\n",
       " '4004': ['Степанова', 'Наталья', 'Александровна', '13.02.2008', 'БСТ161'],\n",
       " '0045': ['Боков', 'Игорь', 'Харитонович', '02.06.2009', 'БСТ161'],\n",
       " '0096': ['Васильков', 'Валентин', 'Сергеевич', '20.03.2009', 'БСТ164'],\n",
       " '0607': ['Сиропова', 'Виолетта', 'Эдуардовна', '28.05.2010', 'БСТ162']}"
      ]
     },
     "execution_count": 74,
     "metadata": {},
     "output_type": "execute_result"
    }
   ],
   "source": [
    "students_dict"
   ]
  },
  {
   "cell_type": "code",
   "execution_count": null,
   "metadata": {},
   "outputs": [],
   "source": []
  },
  {
   "cell_type": "code",
   "execution_count": 54,
   "metadata": {},
   "outputs": [
    {
     "name": "stdout",
     "output_type": "stream",
     "text": [
      "Введите номер студента: 0001\n",
      "Введите новый номер группы: БСТ164\n",
      "\n",
      "Номер студента: 0001\n",
      "Номер группы: БСТ161\n"
     ]
    },
    {
     "data": {
      "text/plain": [
       "('Новый номер группы: БСТ164',\n",
       " {'0001': ['Антонов', 'Антон', 'Игоревич', '20.08.2009', 'БСТ161'],\n",
       "  '1102': ['Богов', 'Артем', 'Игоревич', '25.01.2010', 'БСТ162'],\n",
       "  '0333': ['Глаголева', 'Анастасия', 'Николаевна', '11.07.2009', 'БСТ163'],\n",
       "  '4004': ['Степанова', 'Наталья', 'Александровна', '13.02.2008', 'БСТ161'],\n",
       "  '0045': ['Боков', 'Игорь', 'Харитонович', '02.06.2009', 'БСТ161'],\n",
       "  '0096': ['Васильков', 'Валентин', 'Сергеевич', '20.03.2009', 'БСТ164'],\n",
       "  '0607': ['Сиропова', 'Виолетта', 'Эдуардовна', '28.05.2010', 'БСТ162']})"
      ]
     },
     "execution_count": 54,
     "metadata": {},
     "output_type": "execute_result"
    }
   ],
   "source": [
    "def change_num_group(students_dict):\n",
    "    inp_num_student = input('Введите номер студента: ')\n",
    "    inp_new_num_group = input('Введите новый номер группы: ')\n",
    "    print('')\n",
    "    for num_student in students_dict:\n",
    "        if inp_num_student in students_dict.keys():\n",
    "            print(f\"Номер студента: {num_student}\")            \n",
    "            for line in students_dict.values():\n",
    "                first_name, sur_name, second_name, date, group_num = line\n",
    "                group_number = group_num[num_student.index(num_student):]\n",
    "                print(f\"Номер группы: {group_number}\")\n",
    "                return f\"Новый номер группы: {group_number.replace(group_number, inp_new_num_group)}\"\n",
    "                \n",
    "            break\n",
    "        else:\n",
    "            return 'Нет такого студента'\n",
    "change_num_group(students_dict), students_dict"
   ]
  },
  {
   "cell_type": "code",
   "execution_count": null,
   "metadata": {},
   "outputs": [],
   "source": []
  },
  {
   "cell_type": "markdown",
   "metadata": {},
   "source": [
    "3. Напишите функцию, которая принимает номер группы и выводит список (фамилии, имена, отчества) всех студентов этой группы. Необходимо обращаться к словарю."
   ]
  },
  {
   "cell_type": "code",
   "execution_count": 75,
   "metadata": {},
   "outputs": [],
   "source": [
    "def print_student(group_number):\n",
    "    for student in students_dict.values():\n",
    "        if student[-1] == group_number:\n",
    "            print(student[0], student[1], student[2])"
   ]
  },
  {
   "cell_type": "code",
   "execution_count": 76,
   "metadata": {},
   "outputs": [
    {
     "name": "stdout",
     "output_type": "stream",
     "text": [
      "Богов Артем Игоревич\n",
      "Сиропова Виолетта Эдуардовна\n"
     ]
    }
   ],
   "source": [
    "print_student('БСТ162')"
   ]
  },
  {
   "cell_type": "code",
   "execution_count": null,
   "metadata": {},
   "outputs": [],
   "source": []
  },
  {
   "cell_type": "code",
   "execution_count": null,
   "metadata": {},
   "outputs": [],
   "source": []
  },
  {
   "cell_type": "code",
   "execution_count": 55,
   "metadata": {},
   "outputs": [
    {
     "name": "stdout",
     "output_type": "stream",
     "text": [
      "Введите номер группы: БСТ161\n",
      "['Антонов', 'Антон', 'Игоревич']\n",
      "['Степанова', 'Наталья', 'Александровна']\n",
      "['Боков', 'Игорь', 'Харитонович']\n"
     ]
    }
   ],
   "source": [
    "def get_fio(students_dict):\n",
    "    inp_num_group = input('Введите номер группы: ')\n",
    "    for num_student in students_dict:\n",
    "        for line in students_dict.values():\n",
    "            first_name, sur_name, second_name, date, group_num = line\n",
    "            group_number = group_num[num_student.index(num_student):]\n",
    "            if inp_num_group == group_num:\n",
    "                print([first_name[num_student.index(num_student):], \\\n",
    "                       sur_name[num_student.index(num_student):], \\\n",
    "                       second_name[num_student.index(num_student):]])\n",
    "        break\n",
    "        \n",
    "get_fio(students_dict)"
   ]
  },
  {
   "cell_type": "code",
   "execution_count": null,
   "metadata": {},
   "outputs": [],
   "source": []
  },
  {
   "cell_type": "markdown",
   "metadata": {},
   "source": [
    "#### Задача 5"
   ]
  },
  {
   "cell_type": "markdown",
   "metadata": {},
   "source": [
    "Дана матрица:"
   ]
  },
  {
   "cell_type": "code",
   "execution_count": 77,
   "metadata": {},
   "outputs": [],
   "source": [
    "matrix = [ \n",
    "    [0,1,2,4,8], \n",
    "    [6,2,2,1,9], \n",
    "    [3,3,3,3,3], \n",
    "    [4,6,7,1,2], \n",
    "    [5,7,3,4,0] \n",
    "]"
   ]
  },
  {
   "cell_type": "markdown",
   "metadata": {},
   "source": [
    "1. Выведите результат сложения всех элементов матрицы."
   ]
  },
  {
   "cell_type": "code",
   "execution_count": 79,
   "metadata": {},
   "outputs": [
    {
     "data": {
      "text/plain": [
       "89"
      ]
     },
     "execution_count": 79,
     "metadata": {},
     "output_type": "execute_result"
    }
   ],
   "source": [
    "sum([sum(row) for row in matrix])"
   ]
  },
  {
   "cell_type": "code",
   "execution_count": null,
   "metadata": {},
   "outputs": [],
   "source": []
  },
  {
   "cell_type": "code",
   "execution_count": 57,
   "metadata": {},
   "outputs": [
    {
     "data": {
      "text/plain": [
       "89"
      ]
     },
     "execution_count": 57,
     "metadata": {},
     "output_type": "execute_result"
    }
   ],
   "source": [
    "sum(sum(matrix, []))"
   ]
  },
  {
   "cell_type": "code",
   "execution_count": null,
   "metadata": {},
   "outputs": [],
   "source": []
  },
  {
   "cell_type": "markdown",
   "metadata": {},
   "source": [
    "2. Напишите алгоритм вычисления максимума из сумм элементов каждого столбца."
   ]
  },
  {
   "cell_type": "code",
   "execution_count": 80,
   "metadata": {},
   "outputs": [
    {
     "data": {
      "text/plain": [
       "22"
      ]
     },
     "execution_count": 80,
     "metadata": {},
     "output_type": "execute_result"
    }
   ],
   "source": [
    "max(sum(item) for item in zip(*matrix))"
   ]
  },
  {
   "cell_type": "code",
   "execution_count": 81,
   "metadata": {},
   "outputs": [
    {
     "data": {
      "text/plain": [
       "[[0, 1, 2, 4, 8],\n",
       " [6, 2, 2, 1, 9],\n",
       " [3, 3, 3, 3, 3],\n",
       " [4, 6, 7, 1, 2],\n",
       " [5, 7, 3, 4, 0]]"
      ]
     },
     "execution_count": 81,
     "metadata": {},
     "output_type": "execute_result"
    }
   ],
   "source": [
    "matrix"
   ]
  },
  {
   "cell_type": "code",
   "execution_count": 83,
   "metadata": {},
   "outputs": [
    {
     "name": "stdout",
     "output_type": "stream",
     "text": [
      "[0, 1, 2, 4, 8] [6, 2, 2, 1, 9] [3, 3, 3, 3, 3] [4, 6, 7, 1, 2] [5, 7, 3, 4, 0]\n"
     ]
    }
   ],
   "source": [
    "print(*matrix)"
   ]
  },
  {
   "cell_type": "code",
   "execution_count": 87,
   "metadata": {},
   "outputs": [
    {
     "data": {
      "text/plain": [
       "<zip at 0x2448e3a26c0>"
      ]
     },
     "execution_count": 87,
     "metadata": {},
     "output_type": "execute_result"
    }
   ],
   "source": [
    "zip(*matrix)"
   ]
  },
  {
   "cell_type": "code",
   "execution_count": 88,
   "metadata": {},
   "outputs": [
    {
     "name": "stdout",
     "output_type": "stream",
     "text": [
      "(0, 6, 3, 4, 5)\n",
      "(1, 2, 3, 6, 7)\n",
      "(2, 2, 3, 7, 3)\n",
      "(4, 1, 3, 1, 4)\n",
      "(8, 9, 3, 2, 0)\n"
     ]
    }
   ],
   "source": [
    "for item in zip(*matrix):\n",
    "    print(item)"
   ]
  },
  {
   "cell_type": "code",
   "execution_count": null,
   "metadata": {},
   "outputs": [],
   "source": []
  },
  {
   "cell_type": "code",
   "execution_count": null,
   "metadata": {},
   "outputs": [],
   "source": []
  },
  {
   "cell_type": "code",
   "execution_count": 84,
   "metadata": {},
   "outputs": [],
   "source": [
    "# сумма максимальных значений сирок матрицы"
   ]
  },
  {
   "cell_type": "code",
   "execution_count": 58,
   "metadata": {},
   "outputs": [
    {
     "name": "stdout",
     "output_type": "stream",
     "text": [
      "34\n"
     ]
    }
   ],
   "source": [
    "summ = 0\n",
    "for element in matrix:\n",
    "    summ += max(element)    \n",
    "print(summ)"
   ]
  },
  {
   "cell_type": "code",
   "execution_count": null,
   "metadata": {},
   "outputs": [],
   "source": []
  },
  {
   "cell_type": "code",
   "execution_count": null,
   "metadata": {},
   "outputs": [],
   "source": []
  },
  {
   "cell_type": "code",
   "execution_count": 131,
   "metadata": {},
   "outputs": [
    {
     "name": "stdout",
     "output_type": "stream",
     "text": [
      "QWERTYUIOPASDFGHJKLZXCVBNM\n",
      "123456789qwertyuiopasdfghjklzxcvbnmQWERTYUIOPASDFGHJKLZXCVBNM\n",
      "1TGMR4rYdBtp\n"
     ]
    }
   ],
   "source": [
    "import random\n",
    "# Щепотка цифр\n",
    "str1 = '123456789'\n",
    "# Щепотка строчных букв\n",
    "str2 = 'qwertyuiopasdfghjklzxcvbnm'\n",
    "# Щепотка прописных букв. Готовится преобразованием str2 в верхний     регистр.\n",
    "str3 = str2.upper()\n",
    "print(str3)\n",
    "# Выведет: 'QWERTYUIOPASDFGHJKLZXCVBNM'\n",
    "\n",
    "# Соединяем все строки в одну\n",
    "str4 = str1+str2+str3\n",
    "print(str4)\n",
    "# Выведет: '123456789qwertyuiopasdfghjklzxcvbnmQWERTYUIOPASDFGHJKLZXCVBNM'\n",
    "\n",
    "# Преобразуем получившуюся строку в список\n",
    "ls = list(str4)\n",
    "# Тщательно перемешиваем список\n",
    "random.shuffle(ls)\n",
    "# Извлекаем из списка 12 произвольных значений\n",
    "psw = ''.join([random.choice(ls) for x in range(12)])\n",
    "# Пароль готов\n",
    "print(psw)\n",
    "# Выведет: '1t9G4YPsQ5L7'"
   ]
  },
  {
   "cell_type": "code",
   "execution_count": null,
   "metadata": {},
   "outputs": [],
   "source": []
  },
  {
   "cell_type": "code",
   "execution_count": null,
   "metadata": {},
   "outputs": [],
   "source": []
  },
  {
   "cell_type": "code",
   "execution_count": null,
   "metadata": {},
   "outputs": [],
   "source": []
  },
  {
   "cell_type": "code",
   "execution_count": null,
   "metadata": {},
   "outputs": [],
   "source": []
  }
 ],
 "metadata": {
  "kernelspec": {
   "display_name": "Python 3",
   "language": "python",
   "name": "python3"
  },
  "language_info": {
   "codemirror_mode": {
    "name": "ipython",
    "version": 3
   },
   "file_extension": ".py",
   "mimetype": "text/x-python",
   "name": "python",
   "nbconvert_exporter": "python",
   "pygments_lexer": "ipython3",
   "version": "3.8.5"
  }
 },
 "nbformat": 4,
 "nbformat_minor": 2
}
