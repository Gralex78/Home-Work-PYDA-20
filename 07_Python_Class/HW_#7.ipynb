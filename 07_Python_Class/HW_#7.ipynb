{
 "cells": [
  {
   "cell_type": "markdown",
   "metadata": {},
   "source": [
    "# Домашняя работа к лекции «Понятие класса»\n"
   ]
  },
  {
   "cell_type": "markdown",
   "metadata": {},
   "source": [
    "## Задание 1\n",
    "\n",
    "Напишите функцию, которая возвращает название валюты (поле ‘Name’) с максимальным значением курса с помощью сервиса https://www.cbr-xml-daily.ru/daily_json.js"
   ]
  },
  {
   "cell_type": "code",
   "execution_count": 1,
   "metadata": {},
   "outputs": [],
   "source": [
    "import requests"
   ]
  },
  {
   "cell_type": "code",
   "execution_count": 2,
   "metadata": {},
   "outputs": [
    {
     "name": "stdout",
     "output_type": "stream",
     "text": [
      "СДР (специальные права заимствования)\n"
     ]
    }
   ],
   "source": [
    "def name_max_value():\n",
    "    \"\"\"Возвращает название валюты с максимальным значением курса\"\"\"\n",
    "    \n",
    "    full_data = requests.get('https://www.cbr-xml-daily.ru/daily_json.js').json()\n",
    "    \n",
    "    valute_dict = dict(full_data['Valute'])\n",
    "    list_values = list(valute_dict.values())\n",
    "    \n",
    "    value_list = []\n",
    "    i = 0\n",
    "    for value in valute_dict.values():\n",
    "        value_list.append(value['Value'])\n",
    "        value['Value'] += 1\n",
    "        \n",
    "    country_code = list(valute_dict.keys())[value_list.index(max(value_list))]\n",
    "        \n",
    "    for name_valuete in valute_dict:\n",
    "        print(valute_dict[country_code]['Name'])\n",
    "        break\n",
    "    \n",
    "name_max_value()"
   ]
  },
  {
   "cell_type": "code",
   "execution_count": null,
   "metadata": {},
   "outputs": [],
   "source": []
  },
  {
   "cell_type": "markdown",
   "metadata": {},
   "source": [
    "## Задание 2\n",
    "\n",
    "Добавьте в класс Rate параметр diff (со значениями True или False), который в случае значения True в методах курсов валют (eur, usd итд) будет возвращать не курс валюты, а изменение по сравнению в прошлым значением. Считайте, self.diff будет принимать значение True только при возврате значения курса. При отображении всей информации о валюте он не используется."
   ]
  },
  {
   "cell_type": "code",
   "execution_count": 3,
   "metadata": {},
   "outputs": [],
   "source": [
    "from libs.exchange import Rate"
   ]
  },
  {
   "cell_type": "code",
   "execution_count": 4,
   "metadata": {},
   "outputs": [],
   "source": [
    "class Changes_Values(Rate):\n",
    "    def __init__(self, diff=False):\n",
    "        super().__init__(format ='full')\n",
    "        self.diff = diff\n",
    "    \n",
    "    def diff_format(self, currency):\n",
    "        if self.diff == True:\n",
    "            return round((self.make_format(currency)['Previous'] - self.make_format(currency)['Value']), 4)\n",
    "        else:\n",
    "            return round((self.make_format(currency)['Value'] - self.make_format(currency)['Previous']), 4)\n",
    "        \n",
    "    def eur(self):\n",
    "        \"\"\"Возвращает изменение курса евро в формате self.format\"\"\"\n",
    "        return self.diff_format('EUR')\n",
    "    \n",
    "    def usd(self):\n",
    "        \"\"\"Возвращает изменение курса доллара в формате self.format\"\"\"\n",
    "        return self.diff_format('USD')\n",
    "\n",
    "    def AZN(self):\n",
    "        \"\"\"Возвращает изменение курса азербайджанского маната в формате self.format\"\"\"\n",
    "        return self.diff_format('AZN')"
   ]
  },
  {
   "cell_type": "code",
   "execution_count": 5,
   "metadata": {},
   "outputs": [],
   "source": [
    "cv = Changes_Values()"
   ]
  },
  {
   "cell_type": "code",
   "execution_count": 6,
   "metadata": {},
   "outputs": [
    {
     "data": {
      "text/plain": [
       "0.0868"
      ]
     },
     "execution_count": 6,
     "metadata": {},
     "output_type": "execute_result"
    }
   ],
   "source": [
    "cv.eur()"
   ]
  },
  {
   "cell_type": "code",
   "execution_count": 7,
   "metadata": {},
   "outputs": [
    {
     "data": {
      "text/plain": [
       "0.0265"
      ]
     },
     "execution_count": 7,
     "metadata": {},
     "output_type": "execute_result"
    }
   ],
   "source": [
    "cv.diff_format('CNY')"
   ]
  },
  {
   "cell_type": "code",
   "execution_count": null,
   "metadata": {},
   "outputs": [],
   "source": []
  },
  {
   "cell_type": "markdown",
   "metadata": {},
   "source": [
    "## Задание 3\n",
    "\n",
    "Напишите класс Designer, который учитывает количество международных премий. Подсказки в коде занятия в разделе “Домашнее задание задача 3”.\n",
    "#### Комментарий по классу Designer такой:\n",
    "Напишите класс Designer, который учитывает количество международных премий для дизайнеров (из презентации: “Повышение на 1 грейд за каждые 7 баллов. Получение международной премии – это +2 балла”). Считайте, что при выходе на работу сотрудник уже имеет две премии и их количество не меняется со стажем (конечно если хотите это можно вручную менять).\n",
    "\n",
    "Класс Designer пишется по аналогии с классом Developer из материалов занятия. Комментарий про его условия Вика написала выше: “Повышение на 1 грейд за каждые 7 баллов. Получение международной премии – это +2 балла”"
   ]
  },
  {
   "cell_type": "code",
   "execution_count": 8,
   "metadata": {},
   "outputs": [],
   "source": [
    "class Employee:\n",
    "    def __init__(self, name, seniority):\n",
    "        self.name = name\n",
    "        self.seniority = seniority\n",
    "        \n",
    "        self.grade = 1\n",
    "    \n",
    "    def grade_up(self):\n",
    "        \"\"\"Повышает уровень сотрудника\"\"\"\n",
    "        self.grade += 1\n",
    "    \n",
    "    def publish_grade(self):\n",
    "        \"\"\"Публикация результатов аккредитации сотрудников\"\"\"\n",
    "        print(self.name, self.grade)\n",
    "    \n",
    "    def check_if_it_is_time_for_upgrade(self):\n",
    "        pass"
   ]
  },
  {
   "cell_type": "code",
   "execution_count": 9,
   "metadata": {},
   "outputs": [],
   "source": [
    "class Designer(Employee):\n",
    "    def __init__(self, name, seniority):\n",
    "        super().__init__(name, seniority)\n",
    "        \n",
    "    def check_if_it_is_time_for_upgrade(self):\n",
    "        \"\"\"Не пора ли сотрудника повысить\"\"\"\n",
    "        self.seniority += 1\n",
    "        if self.seniority %7 == 0:\n",
    "            self.grade_up()\n",
    "            return self.publish_grade()\n",
    "        \n",
    "        elif self.seniority %9 == 0:\n",
    "            print('Дезайнеру {}, получить международную премию'.format(self.name))\n",
    "        \n",
    "        else:\n",
    "            None"
   ]
  },
  {
   "cell_type": "code",
   "execution_count": 10,
   "metadata": {},
   "outputs": [],
   "source": [
    "olga = Designer('Ольга', 0)"
   ]
  },
  {
   "cell_type": "code",
   "execution_count": 11,
   "metadata": {},
   "outputs": [
    {
     "name": "stdout",
     "output_type": "stream",
     "text": [
      "Ольга 2\n",
      "Дезайнеру Ольга, получить международную премию\n",
      "Ольга 3\n",
      "Дезайнеру Ольга, получить международную премию\n"
     ]
    }
   ],
   "source": [
    "for i in range(20):\n",
    "    olga.check_if_it_is_time_for_upgrade()"
   ]
  },
  {
   "cell_type": "code",
   "execution_count": null,
   "metadata": {},
   "outputs": [],
   "source": []
  }
 ],
 "metadata": {
  "kernelspec": {
   "display_name": "Python 3",
   "language": "python",
   "name": "python3"
  },
  "language_info": {
   "codemirror_mode": {
    "name": "ipython",
    "version": 3
   },
   "file_extension": ".py",
   "mimetype": "text/x-python",
   "name": "python",
   "nbconvert_exporter": "python",
   "pygments_lexer": "ipython3",
   "version": "3.8.5"
  }
 },
 "nbformat": 4,
 "nbformat_minor": 4
}
