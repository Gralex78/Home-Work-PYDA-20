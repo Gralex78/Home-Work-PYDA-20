{
 "cells": [
  {
   "cell_type": "markdown",
   "metadata": {},
   "source": [
    "# Домашняя работа к лекции «Регулярные выражения и основы синтаксического разбора»"
   ]
  },
  {
   "cell_type": "markdown",
   "metadata": {},
   "source": [
    "Внимание! При реализации всех заданий необходимо использовать именно функционал регулярных выражений для обработки текста.\n",
    "\n",
    "\n",
    "## Задание 1\n",
    "\n",
    "Напишите функцию, которая принимает на вход строку и проверяет является ли она валидным транспортным номером (1 буква, 3 цифры, 2 буквы, 2-3 цифры). Обратите внимание, что не все буквы кириллического алфавита используются в транспортных номерах.\n",
    "\n",
    "Если номер валиден, то функция должна возвращать отдельно номер и регион.\n",
    "\n",
    "Примеры работы программы:  \n",
    "\n",
    "1. `car_id = 'А222СC96'`\n",
    "\n",
    "Результат: \n",
    "`Номер А222СC валиден. Регион: 96`\n",
    "\n",
    "2. `car_id = 'АБ22ВВ193'`\n",
    "\n",
    "Результат: \n",
    "`Номер не валиден`\n",
    "Результат: Номер не валиден\n"
   ]
  },
  {
   "cell_type": "code",
   "execution_count": 1,
   "metadata": {},
   "outputs": [],
   "source": [
    "import re"
   ]
  },
  {
   "cell_type": "code",
   "execution_count": 2,
   "metadata": {},
   "outputs": [
    {
     "name": "stdout",
     "output_type": "stream",
     "text": [
      "Введите car_id:П165ЛО178\n",
      "Номер П165ЛО валиден. Регион: 178\n"
     ]
    }
   ],
   "source": [
    "car_id = input('Введите car_id:')\n",
    "if car_id == str(re.findall(r'\\w\\d{3}\\w{2}\\d{2,3}', car_id))[2:-2]:\n",
    "    print('Номер', car_id[:6], 'валиден. Регион:', car_id[6:])\n",
    "else:\n",
    "    print('Номер не валиден')"
   ]
  },
  {
   "cell_type": "markdown",
   "metadata": {},
   "source": [
    "## Задание 2\n",
    "\n",
    "Напишите функцию, которая будет удалять все последовательные повторы слов из заданной строки при помощи регулярных выражений.\n",
    "\n",
    "Пример работы программы:  \n",
    "\n",
    "`some_string = 'Напишите функцию функцию, которая будет будет будет будет удалять все все все все последовательные повторы слов из из из из заданной строки строки при помощи регулярных выражений'`\n",
    "\n",
    "Результат: \n",
    "`Напишите функцию, которая будет удалять все последовательные повторы слов из заданной строки при помощи регулярных выражений.`"
   ]
  },
  {
   "cell_type": "code",
   "execution_count": 3,
   "metadata": {},
   "outputs": [],
   "source": [
    "some_string = 'Напишите функцию функцию, которая будет будет будет будет удалять все все все все последовательные повторы слов из из из из заданной строки строки при помощи регулярных выражений.'"
   ]
  },
  {
   "cell_type": "code",
   "execution_count": 4,
   "metadata": {},
   "outputs": [
    {
     "name": "stdout",
     "output_type": "stream",
     "text": [
      "Напишите функцию, которая будет удалять все последовательные повторы слов из заданной строки при помощи регулярных выражений.\n"
     ]
    }
   ],
   "source": [
    "print(re.sub(r'(\\w+)(?:\\s+\\1)+', r'\\1', some_string))"
   ]
  },
  {
   "cell_type": "markdown",
   "metadata": {},
   "source": [
    "## Задание 3\n",
    "\n",
    "Напишите функцию, которая будет возвращать акроним по переданной в нее строке со словами.\n",
    "\n",
    "Примеры работы программы:  \n",
    "\n",
    "1. `some_words = 'Информационные технологии'`\n",
    "\n",
    "Результат: \n",
    "`ИТ`\n",
    "\n",
    "2. `some_words = 'Near Field Communication'`\n",
    "\n",
    "Результат: \n",
    "`NFC`"
   ]
  },
  {
   "cell_type": "code",
   "execution_count": 5,
   "metadata": {},
   "outputs": [
    {
     "name": "stdout",
     "output_type": "stream",
     "text": [
      "ИТ\n"
     ]
    }
   ],
   "source": [
    "some_words = 'Информационные технологии'\n",
    "print(''.join(re.findall(r'\\b\\w', some_words)).upper())"
   ]
  },
  {
   "cell_type": "code",
   "execution_count": 6,
   "metadata": {},
   "outputs": [
    {
     "name": "stdout",
     "output_type": "stream",
     "text": [
      "NFC\n"
     ]
    }
   ],
   "source": [
    "some_words = 'Near Field Communication'\n",
    "print(''.join(re.findall(r'\\b\\w', some_words)).upper())"
   ]
  },
  {
   "cell_type": "markdown",
   "metadata": {},
   "source": [
    "## Задание 4\n",
    "\n",
    "Напишите функцию, которая будет принимать на вход список email-адресов и выводить их распределение по доменным зонам.\n",
    "\n",
    "Пример работы программы:  \n",
    "\n",
    "`emails = ['test@gmail.com, xyz@test.in, test@ya.ru, xyz@mail.ru, xyz@ya.ru', xyz@gmail.com]`\n",
    "\n",
    "Результат: \n",
    "```\n",
    "gmail.com: 2\n",
    "test.in: 1 \n",
    "ya.ru: 2 \n",
    "mail.ru: 1\n",
    "```"
   ]
  },
  {
   "cell_type": "code",
   "execution_count": 7,
   "metadata": {},
   "outputs": [
    {
     "name": "stdout",
     "output_type": "stream",
     "text": [
      "gmail.com: 2\n",
      "test.in: 1\n",
      "ya.ru: 2\n",
      "mai.ru: 1\n"
     ]
    }
   ],
   "source": [
    "emails = ['test@gmail.com, xyz@test.in, test@ya.ru, xyz@mail.ru, xyz@ya.ru, xyz@gmail.com']\n",
    "print('gmail.com:', len(re.findall(r'\\w+\\@gmail.com', emails[0])))\n",
    "print('test.in:', len(re.findall(r'\\w+\\@test.in', emails[0])))\n",
    "print('ya.ru:', len(re.findall(r'\\w+\\@ya.ru', emails[0])))\n",
    "print('mai.ru:', len(re.findall(r'\\w+\\@mail.ru', emails[0])))"
   ]
  },
  {
   "cell_type": "markdown",
   "metadata": {},
   "source": [
    "## Задание 5 (необязательное)\n",
    "\n",
    "Напишите функцию, которая будет подсчитывать сколько слов начинается на гласные, а сколько на согласные буквы в тексте (текст может быть написан как с использованием букв кириллицы, так и латиницы).\n",
    "\n",
    "Пример работы программы:  \n",
    "\n",
    "`some_text = 'Эталонной реализацией Python является интерпретатор CPython, поддерживающий большинство активно используемых платформ. Он распространяется под свободной лицензией Python Software Foundation License, позволяющей использовать его без ограничений в любых приложениях, включая проприетарные.'`\n",
    "\n",
    "Результат: \n",
    "```\n",
    "Слов на гласные буквы: 9\n",
    "Слов на согласные буквы: 21 \n",
    "```"
   ]
  },
  {
   "cell_type": "code",
   "execution_count": 8,
   "metadata": {},
   "outputs": [
    {
     "name": "stdout",
     "output_type": "stream",
     "text": [
      "Слов на гласные буквы:  9\n",
      "Слов на согласные буквы:  21\n"
     ]
    }
   ],
   "source": [
    "some_text = 'Эталонной реализацией Python является интерпретатор CPython, поддерживающий большинство активно используемых платформ. Он распространяется под свободной лицензией Python Software Foundation License, позволяющей использовать его без ограничений в любых приложениях, включая проприетарные.'\n",
    "vowels = ['а, е, ё, и, о, у, э, ю, я, a, e, i, o, u, y']\n",
    "first_letters = ''.join(re.findall(r'\\b\\w', some_text)).lower()\n",
    "count = 0\n",
    "for letter in first_letters:\n",
    "    if letter in vowels[0]:\n",
    "        count += 1\n",
    "print('Слов на гласные буквы: ', count)\n",
    "print('Слов на согласные буквы: ', len(first_letters) - count)"
   ]
  },
  {
   "cell_type": "code",
   "execution_count": null,
   "metadata": {},
   "outputs": [],
   "source": []
  },
  {
   "cell_type": "markdown",
   "metadata": {},
   "source": [
    "## Задание 6 (необязательное)\n",
    "Напишите функцию, которая будет проверять номер сотового телефона на валидность, если он валиден, то переводить его в формат:   \n",
    "+7-xxx-xxx-xx-xx  \n",
    "Постарайтесь предусмотреть как можно больше адекватных форматов изначального ввода номера.\n",
    "Примеры работы программы:  \n",
    "\n",
    "1. `phone = '+7 955 555-55-55'`\n",
    "\n",
    "Результат: \n",
    "`+7-950-555-55-55`\n",
    "\n",
    "2. `phone = '8(955)555-55-55'`\n",
    "\n",
    "Результат: \n",
    "`+7-950-555-55-55`\n",
    "\n",
    "3. `phone = '+7 955 555 55 55'`\n",
    "\n",
    "Результат: \n",
    "`+7-950-555-55-55`\n",
    "\n",
    "4. `phone = '7(955) 555-55-55'`\n",
    "\n",
    "Результат: \n",
    "`+7-950-555-55-55`\n",
    "\n",
    "5. `phone = '423-555-55-5555'`\n",
    "\n",
    "Результат: \n",
    "`Номер не валиден`\n",
    "\n",
    "6. `phone = '123-456-789'`\n",
    "\n",
    "Результат: \n",
    "`Номер не валиден`"
   ]
  },
  {
   "cell_type": "code",
   "execution_count": null,
   "metadata": {},
   "outputs": [],
   "source": [
    "#phone = input('Введите номер телефона:')\n",
    "#phone = '+7 955 555-55-55, 8(955)555-55-55, +7 955 555 55 55, 7(955) 555-55-55, 7 988 255 22 33'\n",
    "#pattern = re.findall(r'.+\\W+\\d{3}\\W+\\d{3}\\W\\d{2}\\W\\d{2}', phone)\n",
    "#if inp_phone in pattern:\n",
    "#    print(re.sub(r'.+\\W+\\d{3}\\W+(\\d{3}\\W\\d{2}\\W\\d{2})', r'+7-950-\\1', phone))\n",
    "#else:\n",
    "#    print('Номер не валиден')"
   ]
  },
  {
   "cell_type": "code",
   "execution_count": 50,
   "metadata": {},
   "outputs": [
    {
     "name": "stdout",
     "output_type": "stream",
     "text": [
      "Введите номер телефона:8(955)555-55-55\n",
      "Номер не валиден\n"
     ]
    }
   ],
   "source": [
    "input_phone = input('Введите номер телефона:')\n",
    "phone = '+7 955 555-55-55, 7 955 555-55-55, 8 955 555-55-55, +7(955)555-55-55, 7(955)555-55-55, 8(955)555-55-55,\\\n",
    " +7 955 555 55 55, 7 955 555 55 55, 8 955 555 55 55, 7-955-555-55-55, 8-955-555-55-55, +7 (955) 555-55-55, 7 (955) 555-55-55,\\\n",
    " 8 (955) 555-55-55'\n",
    "pattern = re.findall(r'.+\\W+\\d{3}\\W+\\d{3}\\W\\d{2}\\W\\d{2}', phone)\n",
    "if input_phone in pattern:\n",
    "    print(re.sub(pattern, r'+7\\-\\1\\-\\2\\-\\3\\-\\4', phone))\n",
    "else:\n",
    "    print('Номер не валиден')"
   ]
  },
  {
   "cell_type": "code",
   "execution_count": 57,
   "metadata": {},
   "outputs": [
    {
     "name": "stdout",
     "output_type": "stream",
     "text": [
      "Введите номер телефона:8(955)555-55-55\n",
      "Номер не валиден\n"
     ]
    }
   ],
   "source": [
    "input_phone = input('Введите номер телефона:')\n",
    "phone = '+7 955 555-55-55, 7 955 555-55-55, 8 955 555-55-55, +7(955)555-55-55, 7(955)555-55-55, 8(955)555-55-55,\\\n",
    " +7 955 555 55 55, 7 955 555 55 55, 8 955 555 55 55, 7-955-555-55-55, 8-955-555-55-55, +7 (955) 555-55-55, 7 (955) 555-55-55,\\\n",
    " 8 (955) 555-55-55'\n",
    "pattern = re.findall(r'.+\\W+\\d{3}\\W+\\d{3}\\W\\d{2}\\W\\d{2}', phone)\n",
    "i=0\n",
    "for i in pattern[0]:\n",
    "    if i == input_phone:\n",
    "        print(re.sub(pattern, r'+7\\-\\1\\-\\2\\-\\3\\-\\4', phone))\n",
    "        i+=1\n",
    "else:\n",
    "    print('Номер не валиден')"
   ]
  },
  {
   "cell_type": "code",
   "execution_count": 118,
   "metadata": {},
   "outputs": [],
   "source": [
    "phone = '+7 955 555-55-55, 7 955 555-55-55, 8 955 555-55-55, +7(955)555-55-55, 7(955)555-55-55, 8(955)555-55-55,\\\n",
    " +7 955 555 55 55, 7 955 555 55 55, 8 955 555 55 55, 7-955-555-55-55, 8-955-555-55-55, +7 (955) 555-55-55, 7 (955) 555-55-55,\\\n",
    " 8 (955) 555-55-55'"
   ]
  },
  {
   "cell_type": "code",
   "execution_count": null,
   "metadata": {},
   "outputs": [],
   "source": []
  },
  {
   "cell_type": "code",
   "execution_count": 90,
   "metadata": {},
   "outputs": [
    {
     "data": {
      "text/plain": [
       "['+7 955 555-55-55, 7 955 555-55-55, 8 955 555-55-55, +7(955)555-55-55, 7(955)555-55-55, 8(955)555-55-55, +7 955 555 55 55, 7 955 555 55 55, 8 955 555 55 55, 7-955-555-55-55, 8-955-555-55-55, +7 (955) 555-55-55, 7 (955) 555-55-55, 8 (955) 555-55-55']"
      ]
     },
     "execution_count": 90,
     "metadata": {},
     "output_type": "execute_result"
    }
   ],
   "source": [
    "pattern = re.findall(r'.+\\W+\\d{3}\\W+\\d{3}\\W\\d{2}\\W\\d{2}', phone)\n",
    "pattern"
   ]
  },
  {
   "cell_type": "code",
   "execution_count": 60,
   "metadata": {},
   "outputs": [
    {
     "data": {
      "text/plain": [
       "'+7 955 555-55-55, 7 955 555-55-55, 8 955 555-55-55, +7(955)555-55-55, 7(955)555-55-55, 8(955)555-55-55, +7 955 555 55 55, 7 955 555 55 55, 8 955 555 55 55, 7-955-555-55-55, 8-955-555-55-55, +7 (955) 555-55-55, 7 (955) 555-55-55, 8 (955) 555-55-55'"
      ]
     },
     "execution_count": 60,
     "metadata": {},
     "output_type": "execute_result"
    }
   ],
   "source": [
    "res = re.sub(r'.+\\W+(d{3})W+(d{3})W(d{2})W(d{2})', r'+7\\-\\1\\-\\2\\-\\3\\-\\4', phone)\n",
    "res"
   ]
  },
  {
   "cell_type": "code",
   "execution_count": null,
   "metadata": {},
   "outputs": [],
   "source": []
  },
  {
   "cell_type": "code",
   "execution_count": 100,
   "metadata": {},
   "outputs": [
    {
     "data": {
      "text/plain": [
       "'+7-d{3}-d{3}-d{2}-d{2}'"
      ]
     },
     "execution_count": 100,
     "metadata": {},
     "output_type": "execute_result"
    }
   ],
   "source": [
    "res = re.sub(r'.+\\W+\\d{3}\\W+\\d{3}\\W\\d{2}\\W\\d{2}', r'+7-d{3}-d{3}-d{2}-d{2}', phone)\n",
    "res"
   ]
  },
  {
   "cell_type": "code",
   "execution_count": 132,
   "metadata": {},
   "outputs": [
    {
     "data": {
      "text/plain": [
       "'8(955)555-55-55'"
      ]
     },
     "execution_count": 132,
     "metadata": {},
     "output_type": "execute_result"
    }
   ],
   "source": [
    "phone = '8(955)555-55-55'\n",
    "\n",
    "res = re.sub(r'.+\\W+(d{3})W+(d{3})W(d{2})W(d{2})', r'+7-\\1-\\2-\\3-\\4', phone)\n",
    "res"
   ]
  },
  {
   "cell_type": "code",
   "execution_count": 119,
   "metadata": {},
   "outputs": [
    {
     "data": {
      "text/plain": [
       "'+7 955 555-55-55, 7 955 555-55-55, 8 955 555-55-55, +7(955)555-55-55, 7(955)555-55-55, 8(955)555-55-55, +7 955 555 55 55, 7 955 555 55 55, 8 955 555 55 55, 7-955-555-55-55, 8-955-555-55-55, +7 (955) 555-55-55, 7 (955) 555-55-55, 8 (955) 555-55-55'"
      ]
     },
     "execution_count": 119,
     "metadata": {},
     "output_type": "execute_result"
    }
   ],
   "source": [
    "res = re.sub(r'.+\\W+(\\d\\d\\d)W+(d\\d\\d)W(d\\d)W(d\\d)', r'-', phone)\n",
    "res"
   ]
  },
  {
   "cell_type": "code",
   "execution_count": null,
   "metadata": {},
   "outputs": [],
   "source": []
  },
  {
   "cell_type": "code",
   "execution_count": null,
   "metadata": {},
   "outputs": [],
   "source": []
  },
  {
   "cell_type": "code",
   "execution_count": null,
   "metadata": {},
   "outputs": [],
   "source": []
  },
  {
   "cell_type": "code",
   "execution_count": null,
   "metadata": {},
   "outputs": [],
   "source": []
  },
  {
   "cell_type": "code",
   "execution_count": null,
   "metadata": {},
   "outputs": [],
   "source": []
  },
  {
   "cell_type": "code",
   "execution_count": null,
   "metadata": {},
   "outputs": [],
   "source": []
  },
  {
   "cell_type": "code",
   "execution_count": null,
   "metadata": {},
   "outputs": [],
   "source": []
  },
  {
   "cell_type": "code",
   "execution_count": null,
   "metadata": {},
   "outputs": [],
   "source": []
  },
  {
   "cell_type": "code",
   "execution_count": null,
   "metadata": {},
   "outputs": [],
   "source": []
  }
 ],
 "metadata": {
  "kernelspec": {
   "display_name": "Python 3",
   "language": "python",
   "name": "python3"
  },
  "language_info": {
   "codemirror_mode": {
    "name": "ipython",
    "version": 3
   },
   "file_extension": ".py",
   "mimetype": "text/x-python",
   "name": "python",
   "nbconvert_exporter": "python",
   "pygments_lexer": "ipython3",
   "version": "3.8.5"
  }
 },
 "nbformat": 4,
 "nbformat_minor": 4
}
