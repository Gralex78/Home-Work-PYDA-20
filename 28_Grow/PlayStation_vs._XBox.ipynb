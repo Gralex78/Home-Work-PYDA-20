{
 "cells": [
  {
   "cell_type": "markdown",
   "metadata": {},
   "source": [
    "# >>>>>>>>>>>>>>>>>>>>>>>PlayStation vs. XBox<<<<<<<<<<<<<<<<<<<\n"
   ]
  },
  {
   "cell_type": "markdown",
   "metadata": {},
   "source": [
    "<p style=\"align: center;\"><img align=center src=\"https://www.ft.com/__origami/service/image/v2/images/raw/https%3A%2F%2Fd1e00ek4ebabms.cloudfront.net%2Fproduction%2Fa3708b27-283b-4476-abf7-efeb690049a8.jpg?fit=scale-down&source=next&width=700\"  width=500></p>"
   ]
  },
  {
   "cell_type": "markdown",
   "metadata": {},
   "source": [
    "### Ответим на следующие вопросы: \n",
    "\n",
    " 1) Как критики и юзеры относятся к шутерам?  \n",
    " 2) Критикам и юзерам нравятся больше игры на XBOneX или на PS4?  \n",
    " 3) Критикам и юзерам нравятся больше игры на XBox или на PlayStation?  \n",
    " 4) Критикам больше нравятся стрелялки или приключения?  \n",
    " 5) Юзерам больше нравятся стрелялки или приключения?\n",
    "\n",
    "Для каждого вопроса:\n",
    "\n",
    "- сформулируем нулевую и альтернативную гипотезы;  \n",
    "- выберем пороговый уровень статистической значимости;  \n",
    "- опишем полученные результаты статистического теста.\n"
   ]
  },
  {
   "cell_type": "code",
   "execution_count": 1,
   "metadata": {},
   "outputs": [],
   "source": [
    "import matplotlib.pyplot as plt\n",
    "import pandas as pd\n",
    "import numpy as np\n",
    "from pylab import rcParams\n",
    "rcParams['figure.figsize'] = 11,5\n",
    "from scipy import stats as st\n",
    "import seaborn as sns"
   ]
  },
  {
   "cell_type": "code",
   "execution_count": 2,
   "metadata": {},
   "outputs": [
    {
     "data": {
      "text/html": [
       "<div>\n",
       "<style scoped>\n",
       "    .dataframe tbody tr th:only-of-type {\n",
       "        vertical-align: middle;\n",
       "    }\n",
       "\n",
       "    .dataframe tbody tr th {\n",
       "        vertical-align: top;\n",
       "    }\n",
       "\n",
       "    .dataframe thead th {\n",
       "        text-align: right;\n",
       "    }\n",
       "</style>\n",
       "<table border=\"1\" class=\"dataframe\">\n",
       "  <thead>\n",
       "    <tr style=\"text-align: right;\">\n",
       "      <th></th>\n",
       "      <th>Name</th>\n",
       "      <th>Platform</th>\n",
       "      <th>Year_of_Release</th>\n",
       "      <th>Genre</th>\n",
       "      <th>Publisher</th>\n",
       "      <th>NA_Sales</th>\n",
       "      <th>EU_Sales</th>\n",
       "      <th>JP_Sales</th>\n",
       "      <th>Other_Sales</th>\n",
       "      <th>Global_Sales</th>\n",
       "      <th>Critic_Score</th>\n",
       "      <th>Critic_Count</th>\n",
       "      <th>User_Score</th>\n",
       "      <th>User_Count</th>\n",
       "      <th>Developer</th>\n",
       "      <th>Rating</th>\n",
       "      <th>Platform_devs</th>\n",
       "    </tr>\n",
       "  </thead>\n",
       "  <tbody>\n",
       "    <tr>\n",
       "      <th>0</th>\n",
       "      <td>Wii Sports</td>\n",
       "      <td>Wii</td>\n",
       "      <td>2006</td>\n",
       "      <td>Sports</td>\n",
       "      <td>Nintendo</td>\n",
       "      <td>41.36</td>\n",
       "      <td>28.96</td>\n",
       "      <td>3.77</td>\n",
       "      <td>8.45</td>\n",
       "      <td>82.53</td>\n",
       "      <td>76.0</td>\n",
       "      <td>51</td>\n",
       "      <td>80.0</td>\n",
       "      <td>322</td>\n",
       "      <td>Nintendo</td>\n",
       "      <td>E</td>\n",
       "      <td>Nintendo</td>\n",
       "    </tr>\n",
       "    <tr>\n",
       "      <th>1</th>\n",
       "      <td>Super Mario Bros.</td>\n",
       "      <td>NES</td>\n",
       "      <td>1985</td>\n",
       "      <td>Platform</td>\n",
       "      <td>Nintendo</td>\n",
       "      <td>29.08</td>\n",
       "      <td>3.58</td>\n",
       "      <td>6.81</td>\n",
       "      <td>0.77</td>\n",
       "      <td>40.24</td>\n",
       "      <td>NaN</td>\n",
       "      <td>&lt;NA&gt;</td>\n",
       "      <td>NaN</td>\n",
       "      <td>&lt;NA&gt;</td>\n",
       "      <td>NaN</td>\n",
       "      <td>NaN</td>\n",
       "      <td>Nintendo</td>\n",
       "    </tr>\n",
       "    <tr>\n",
       "      <th>2</th>\n",
       "      <td>Mario Kart Wii</td>\n",
       "      <td>Wii</td>\n",
       "      <td>2008</td>\n",
       "      <td>Racing</td>\n",
       "      <td>Nintendo</td>\n",
       "      <td>15.68</td>\n",
       "      <td>12.76</td>\n",
       "      <td>3.79</td>\n",
       "      <td>3.29</td>\n",
       "      <td>35.52</td>\n",
       "      <td>82.0</td>\n",
       "      <td>73</td>\n",
       "      <td>83.0</td>\n",
       "      <td>709</td>\n",
       "      <td>Nintendo</td>\n",
       "      <td>E</td>\n",
       "      <td>Nintendo</td>\n",
       "    </tr>\n",
       "    <tr>\n",
       "      <th>3</th>\n",
       "      <td>Wii Sports Resort</td>\n",
       "      <td>Wii</td>\n",
       "      <td>2009</td>\n",
       "      <td>Sports</td>\n",
       "      <td>Nintendo</td>\n",
       "      <td>15.61</td>\n",
       "      <td>10.93</td>\n",
       "      <td>3.28</td>\n",
       "      <td>2.95</td>\n",
       "      <td>32.77</td>\n",
       "      <td>80.0</td>\n",
       "      <td>73</td>\n",
       "      <td>80.0</td>\n",
       "      <td>192</td>\n",
       "      <td>Nintendo</td>\n",
       "      <td>E</td>\n",
       "      <td>Nintendo</td>\n",
       "    </tr>\n",
       "    <tr>\n",
       "      <th>4</th>\n",
       "      <td>Pokemon Red/Pokemon Blue</td>\n",
       "      <td>GB</td>\n",
       "      <td>1996</td>\n",
       "      <td>Role-Playing</td>\n",
       "      <td>Nintendo</td>\n",
       "      <td>11.27</td>\n",
       "      <td>8.89</td>\n",
       "      <td>10.22</td>\n",
       "      <td>1.00</td>\n",
       "      <td>31.37</td>\n",
       "      <td>NaN</td>\n",
       "      <td>&lt;NA&gt;</td>\n",
       "      <td>NaN</td>\n",
       "      <td>&lt;NA&gt;</td>\n",
       "      <td>NaN</td>\n",
       "      <td>NaN</td>\n",
       "      <td>Nintendo</td>\n",
       "    </tr>\n",
       "    <tr>\n",
       "      <th>...</th>\n",
       "      <td>...</td>\n",
       "      <td>...</td>\n",
       "      <td>...</td>\n",
       "      <td>...</td>\n",
       "      <td>...</td>\n",
       "      <td>...</td>\n",
       "      <td>...</td>\n",
       "      <td>...</td>\n",
       "      <td>...</td>\n",
       "      <td>...</td>\n",
       "      <td>...</td>\n",
       "      <td>...</td>\n",
       "      <td>...</td>\n",
       "      <td>...</td>\n",
       "      <td>...</td>\n",
       "      <td>...</td>\n",
       "      <td>...</td>\n",
       "    </tr>\n",
       "    <tr>\n",
       "      <th>16714</th>\n",
       "      <td>Samurai Warriors: Sanada Maru</td>\n",
       "      <td>PS3</td>\n",
       "      <td>2016</td>\n",
       "      <td>Action</td>\n",
       "      <td>Tecmo Koei</td>\n",
       "      <td>0.00</td>\n",
       "      <td>0.00</td>\n",
       "      <td>0.01</td>\n",
       "      <td>0.00</td>\n",
       "      <td>0.01</td>\n",
       "      <td>NaN</td>\n",
       "      <td>&lt;NA&gt;</td>\n",
       "      <td>NaN</td>\n",
       "      <td>&lt;NA&gt;</td>\n",
       "      <td>NaN</td>\n",
       "      <td>NaN</td>\n",
       "      <td>PlayStation</td>\n",
       "    </tr>\n",
       "    <tr>\n",
       "      <th>16715</th>\n",
       "      <td>LMA Manager 2007</td>\n",
       "      <td>X360</td>\n",
       "      <td>2006</td>\n",
       "      <td>Sports</td>\n",
       "      <td>Codemasters</td>\n",
       "      <td>0.00</td>\n",
       "      <td>0.01</td>\n",
       "      <td>0.00</td>\n",
       "      <td>0.00</td>\n",
       "      <td>0.01</td>\n",
       "      <td>NaN</td>\n",
       "      <td>&lt;NA&gt;</td>\n",
       "      <td>NaN</td>\n",
       "      <td>&lt;NA&gt;</td>\n",
       "      <td>NaN</td>\n",
       "      <td>NaN</td>\n",
       "      <td>XBox</td>\n",
       "    </tr>\n",
       "    <tr>\n",
       "      <th>16716</th>\n",
       "      <td>Haitaka no Psychedelica</td>\n",
       "      <td>PSV</td>\n",
       "      <td>2016</td>\n",
       "      <td>Adventure</td>\n",
       "      <td>Idea Factory</td>\n",
       "      <td>0.00</td>\n",
       "      <td>0.00</td>\n",
       "      <td>0.01</td>\n",
       "      <td>0.00</td>\n",
       "      <td>0.01</td>\n",
       "      <td>NaN</td>\n",
       "      <td>&lt;NA&gt;</td>\n",
       "      <td>NaN</td>\n",
       "      <td>&lt;NA&gt;</td>\n",
       "      <td>NaN</td>\n",
       "      <td>NaN</td>\n",
       "      <td>PlayStationPortable</td>\n",
       "    </tr>\n",
       "    <tr>\n",
       "      <th>16717</th>\n",
       "      <td>Spirits &amp; Spells</td>\n",
       "      <td>GBA</td>\n",
       "      <td>2003</td>\n",
       "      <td>Platform</td>\n",
       "      <td>Wanadoo</td>\n",
       "      <td>0.01</td>\n",
       "      <td>0.00</td>\n",
       "      <td>0.00</td>\n",
       "      <td>0.00</td>\n",
       "      <td>0.01</td>\n",
       "      <td>NaN</td>\n",
       "      <td>&lt;NA&gt;</td>\n",
       "      <td>NaN</td>\n",
       "      <td>&lt;NA&gt;</td>\n",
       "      <td>NaN</td>\n",
       "      <td>NaN</td>\n",
       "      <td>Sega</td>\n",
       "    </tr>\n",
       "    <tr>\n",
       "      <th>16718</th>\n",
       "      <td>Winning Post 8 2016</td>\n",
       "      <td>PSV</td>\n",
       "      <td>2016</td>\n",
       "      <td>Simulation</td>\n",
       "      <td>Tecmo Koei</td>\n",
       "      <td>0.00</td>\n",
       "      <td>0.00</td>\n",
       "      <td>0.01</td>\n",
       "      <td>0.00</td>\n",
       "      <td>0.01</td>\n",
       "      <td>NaN</td>\n",
       "      <td>&lt;NA&gt;</td>\n",
       "      <td>NaN</td>\n",
       "      <td>&lt;NA&gt;</td>\n",
       "      <td>NaN</td>\n",
       "      <td>NaN</td>\n",
       "      <td>PlayStationPortable</td>\n",
       "    </tr>\n",
       "  </tbody>\n",
       "</table>\n",
       "<p>16717 rows × 17 columns</p>\n",
       "</div>"
      ],
      "text/plain": [
       "                                Name Platform  Year_of_Release         Genre  \\\n",
       "0                         Wii Sports      Wii             2006        Sports   \n",
       "1                  Super Mario Bros.      NES             1985      Platform   \n",
       "2                     Mario Kart Wii      Wii             2008        Racing   \n",
       "3                  Wii Sports Resort      Wii             2009        Sports   \n",
       "4           Pokemon Red/Pokemon Blue       GB             1996  Role-Playing   \n",
       "...                              ...      ...              ...           ...   \n",
       "16714  Samurai Warriors: Sanada Maru      PS3             2016        Action   \n",
       "16715               LMA Manager 2007     X360             2006        Sports   \n",
       "16716        Haitaka no Psychedelica      PSV             2016     Adventure   \n",
       "16717               Spirits & Spells      GBA             2003      Platform   \n",
       "16718            Winning Post 8 2016      PSV             2016    Simulation   \n",
       "\n",
       "          Publisher  NA_Sales  EU_Sales  JP_Sales  Other_Sales  Global_Sales  \\\n",
       "0          Nintendo     41.36     28.96      3.77         8.45         82.53   \n",
       "1          Nintendo     29.08      3.58      6.81         0.77         40.24   \n",
       "2          Nintendo     15.68     12.76      3.79         3.29         35.52   \n",
       "3          Nintendo     15.61     10.93      3.28         2.95         32.77   \n",
       "4          Nintendo     11.27      8.89     10.22         1.00         31.37   \n",
       "...             ...       ...       ...       ...          ...           ...   \n",
       "16714    Tecmo Koei      0.00      0.00      0.01         0.00          0.01   \n",
       "16715   Codemasters      0.00      0.01      0.00         0.00          0.01   \n",
       "16716  Idea Factory      0.00      0.00      0.01         0.00          0.01   \n",
       "16717       Wanadoo      0.01      0.00      0.00         0.00          0.01   \n",
       "16718    Tecmo Koei      0.00      0.00      0.01         0.00          0.01   \n",
       "\n",
       "       Critic_Score  Critic_Count  User_Score  User_Count Developer Rating  \\\n",
       "0              76.0            51        80.0         322  Nintendo      E   \n",
       "1               NaN          <NA>         NaN        <NA>       NaN    NaN   \n",
       "2              82.0            73        83.0         709  Nintendo      E   \n",
       "3              80.0            73        80.0         192  Nintendo      E   \n",
       "4               NaN          <NA>         NaN        <NA>       NaN    NaN   \n",
       "...             ...           ...         ...         ...       ...    ...   \n",
       "16714           NaN          <NA>         NaN        <NA>       NaN    NaN   \n",
       "16715           NaN          <NA>         NaN        <NA>       NaN    NaN   \n",
       "16716           NaN          <NA>         NaN        <NA>       NaN    NaN   \n",
       "16717           NaN          <NA>         NaN        <NA>       NaN    NaN   \n",
       "16718           NaN          <NA>         NaN        <NA>       NaN    NaN   \n",
       "\n",
       "             Platform_devs  \n",
       "0                 Nintendo  \n",
       "1                 Nintendo  \n",
       "2                 Nintendo  \n",
       "3                 Nintendo  \n",
       "4                 Nintendo  \n",
       "...                    ...  \n",
       "16714          PlayStation  \n",
       "16715                 XBox  \n",
       "16716  PlayStationPortable  \n",
       "16717                 Sega  \n",
       "16718  PlayStationPortable  \n",
       "\n",
       "[16717 rows x 17 columns]"
      ]
     },
     "execution_count": 2,
     "metadata": {},
     "output_type": "execute_result"
    }
   ],
   "source": [
    "df = pd.read_csv('games.txt')\n",
    "df['User_Score'].replace('tbd', np.NaN, inplace=True)\n",
    "df['Year_of_Release'] = df.Year_of_Release.astype('Int64')\n",
    "df['User_Count'] = df.User_Count.astype('Int64')\n",
    "df['User_Score'] = df.User_Score.astype('Float64')\n",
    "df['Critic_Count'] = df.Critic_Count.astype('Int64')\n",
    "df['Critic_Score'] = df.Critic_Score.astype('Float64')\n",
    "df['User_Score'] = df['User_Score'] * 10\n",
    "df.loc[df.Platform.isin(['PS', 'PS2', 'PS3', 'PS4']), 'Platform_devs'] = 'PlayStation'\n",
    "df.loc[df.Platform.isin(['X360', 'XB', 'XOne']), 'Platform_devs'] = 'XBox'\n",
    "df.loc[df.Platform.isin(['DS', 'Wii', '3DS', 'N64', 'SNES', 'SAT', 'WiiU', 'NES', 'GB']), 'Platform_devs'] = 'Nintendo'\n",
    "df.loc[df.Platform.isin(['GBA', 'GEN', 'SCD', 'GG']), 'Platform_devs'] = 'Sega'\n",
    "df.loc[df.Platform.isin(['PSV', 'PSP']), 'Platform_devs'] = 'PlayStationPortable'\n",
    "df.loc[df.Platform.isin(['3DO', 'GC', '2600', 'PC', 'DC', 'NG', 'WS', 'TG16', 'PCFX']), 'Platform_devs'] = 'Other'\n",
    "df.dropna(subset=['Name'], inplace=True)\n",
    "#df.drop(df.columns[[14, 15]], axis=1, inplace=True)\n",
    "df"
   ]
  },
  {
   "cell_type": "code",
   "execution_count": 3,
   "metadata": {},
   "outputs": [
    {
     "data": {
      "text/html": [
       "<div>\n",
       "<style scoped>\n",
       "    .dataframe tbody tr th:only-of-type {\n",
       "        vertical-align: middle;\n",
       "    }\n",
       "\n",
       "    .dataframe tbody tr th {\n",
       "        vertical-align: top;\n",
       "    }\n",
       "\n",
       "    .dataframe thead th {\n",
       "        text-align: right;\n",
       "    }\n",
       "</style>\n",
       "<table border=\"1\" class=\"dataframe\">\n",
       "  <thead>\n",
       "    <tr style=\"text-align: right;\">\n",
       "      <th></th>\n",
       "      <th>Name</th>\n",
       "      <th>Year_of_Release</th>\n",
       "      <th>Genre</th>\n",
       "      <th>Platform</th>\n",
       "      <th>Critic_Score</th>\n",
       "      <th>Critic_Count</th>\n",
       "      <th>Platform_devs</th>\n",
       "    </tr>\n",
       "  </thead>\n",
       "  <tbody>\n",
       "    <tr>\n",
       "      <th>0</th>\n",
       "      <td>Wii Sports</td>\n",
       "      <td>2006</td>\n",
       "      <td>Sports</td>\n",
       "      <td>Wii</td>\n",
       "      <td>76.0</td>\n",
       "      <td>51</td>\n",
       "      <td>Nintendo</td>\n",
       "    </tr>\n",
       "    <tr>\n",
       "      <th>2</th>\n",
       "      <td>Mario Kart Wii</td>\n",
       "      <td>2008</td>\n",
       "      <td>Racing</td>\n",
       "      <td>Wii</td>\n",
       "      <td>82.0</td>\n",
       "      <td>73</td>\n",
       "      <td>Nintendo</td>\n",
       "    </tr>\n",
       "    <tr>\n",
       "      <th>3</th>\n",
       "      <td>Wii Sports Resort</td>\n",
       "      <td>2009</td>\n",
       "      <td>Sports</td>\n",
       "      <td>Wii</td>\n",
       "      <td>80.0</td>\n",
       "      <td>73</td>\n",
       "      <td>Nintendo</td>\n",
       "    </tr>\n",
       "    <tr>\n",
       "      <th>6</th>\n",
       "      <td>New Super Mario Bros.</td>\n",
       "      <td>2006</td>\n",
       "      <td>Platform</td>\n",
       "      <td>DS</td>\n",
       "      <td>89.0</td>\n",
       "      <td>65</td>\n",
       "      <td>Nintendo</td>\n",
       "    </tr>\n",
       "    <tr>\n",
       "      <th>7</th>\n",
       "      <td>Wii Play</td>\n",
       "      <td>2006</td>\n",
       "      <td>Misc</td>\n",
       "      <td>Wii</td>\n",
       "      <td>58.0</td>\n",
       "      <td>41</td>\n",
       "      <td>Nintendo</td>\n",
       "    </tr>\n",
       "    <tr>\n",
       "      <th>...</th>\n",
       "      <td>...</td>\n",
       "      <td>...</td>\n",
       "      <td>...</td>\n",
       "      <td>...</td>\n",
       "      <td>...</td>\n",
       "      <td>...</td>\n",
       "      <td>...</td>\n",
       "    </tr>\n",
       "    <tr>\n",
       "      <th>16700</th>\n",
       "      <td>Breach</td>\n",
       "      <td>2011</td>\n",
       "      <td>Shooter</td>\n",
       "      <td>PC</td>\n",
       "      <td>61.0</td>\n",
       "      <td>12</td>\n",
       "      <td>Other</td>\n",
       "    </tr>\n",
       "    <tr>\n",
       "      <th>16701</th>\n",
       "      <td>Bust-A-Move 3000</td>\n",
       "      <td>2003</td>\n",
       "      <td>Puzzle</td>\n",
       "      <td>GC</td>\n",
       "      <td>53.0</td>\n",
       "      <td>4</td>\n",
       "      <td>Other</td>\n",
       "    </tr>\n",
       "    <tr>\n",
       "      <th>16702</th>\n",
       "      <td>Mega Brain Boost</td>\n",
       "      <td>2008</td>\n",
       "      <td>Puzzle</td>\n",
       "      <td>DS</td>\n",
       "      <td>48.0</td>\n",
       "      <td>10</td>\n",
       "      <td>Nintendo</td>\n",
       "    </tr>\n",
       "    <tr>\n",
       "      <th>16706</th>\n",
       "      <td>STORM: Frontline Nation</td>\n",
       "      <td>2011</td>\n",
       "      <td>Strategy</td>\n",
       "      <td>PC</td>\n",
       "      <td>60.0</td>\n",
       "      <td>12</td>\n",
       "      <td>Other</td>\n",
       "    </tr>\n",
       "    <tr>\n",
       "      <th>16709</th>\n",
       "      <td>15 Days</td>\n",
       "      <td>2009</td>\n",
       "      <td>Adventure</td>\n",
       "      <td>PC</td>\n",
       "      <td>63.0</td>\n",
       "      <td>6</td>\n",
       "      <td>Other</td>\n",
       "    </tr>\n",
       "  </tbody>\n",
       "</table>\n",
       "<p>8137 rows × 7 columns</p>\n",
       "</div>"
      ],
      "text/plain": [
       "                          Name  Year_of_Release      Genre Platform  \\\n",
       "0                   Wii Sports             2006     Sports      Wii   \n",
       "2               Mario Kart Wii             2008     Racing      Wii   \n",
       "3            Wii Sports Resort             2009     Sports      Wii   \n",
       "6        New Super Mario Bros.             2006   Platform       DS   \n",
       "7                     Wii Play             2006       Misc      Wii   \n",
       "...                        ...              ...        ...      ...   \n",
       "16700                   Breach             2011    Shooter       PC   \n",
       "16701         Bust-A-Move 3000             2003     Puzzle       GC   \n",
       "16702         Mega Brain Boost             2008     Puzzle       DS   \n",
       "16706  STORM: Frontline Nation             2011   Strategy       PC   \n",
       "16709                  15 Days             2009  Adventure       PC   \n",
       "\n",
       "       Critic_Score  Critic_Count Platform_devs  \n",
       "0              76.0            51      Nintendo  \n",
       "2              82.0            73      Nintendo  \n",
       "3              80.0            73      Nintendo  \n",
       "6              89.0            65      Nintendo  \n",
       "7              58.0            41      Nintendo  \n",
       "...             ...           ...           ...  \n",
       "16700          61.0            12         Other  \n",
       "16701          53.0             4         Other  \n",
       "16702          48.0            10      Nintendo  \n",
       "16706          60.0            12         Other  \n",
       "16709          63.0             6         Other  \n",
       "\n",
       "[8137 rows x 7 columns]"
      ]
     },
     "execution_count": 3,
     "metadata": {},
     "output_type": "execute_result"
    }
   ],
   "source": [
    "critic_games = df[['Name', 'Year_of_Release', 'Genre', 'Platform', 'Critic_Score', 'Critic_Count', 'Platform_devs']]\n",
    "critic_games = critic_games.loc[critic_games['Critic_Score'] > 0]\n",
    "critic_games"
   ]
  },
  {
   "cell_type": "code",
   "execution_count": 4,
   "metadata": {},
   "outputs": [
    {
     "name": "stdout",
     "output_type": "stream",
     "text": [
      "<class 'pandas.core.frame.DataFrame'>\n",
      "Int64Index: 8137 entries, 0 to 16709\n",
      "Data columns (total 7 columns):\n",
      " #   Column           Non-Null Count  Dtype  \n",
      "---  ------           --------------  -----  \n",
      " 0   Name             8137 non-null   object \n",
      " 1   Year_of_Release  7983 non-null   Int64  \n",
      " 2   Genre            8137 non-null   object \n",
      " 3   Platform         8137 non-null   object \n",
      " 4   Critic_Score     8137 non-null   float64\n",
      " 5   Critic_Count     8137 non-null   Int64  \n",
      " 6   Platform_devs    8137 non-null   object \n",
      "dtypes: Int64(2), float64(1), object(4)\n",
      "memory usage: 524.5+ KB\n"
     ]
    }
   ],
   "source": [
    "critic_games.info()"
   ]
  },
  {
   "cell_type": "code",
   "execution_count": 5,
   "metadata": {},
   "outputs": [
    {
     "data": {
      "text/html": [
       "<div>\n",
       "<style scoped>\n",
       "    .dataframe tbody tr th:only-of-type {\n",
       "        vertical-align: middle;\n",
       "    }\n",
       "\n",
       "    .dataframe tbody tr th {\n",
       "        vertical-align: top;\n",
       "    }\n",
       "\n",
       "    .dataframe thead th {\n",
       "        text-align: right;\n",
       "    }\n",
       "</style>\n",
       "<table border=\"1\" class=\"dataframe\">\n",
       "  <thead>\n",
       "    <tr style=\"text-align: right;\">\n",
       "      <th></th>\n",
       "      <th>Year_of_Release</th>\n",
       "      <th>Critic_Score</th>\n",
       "      <th>Critic_Count</th>\n",
       "    </tr>\n",
       "  </thead>\n",
       "  <tbody>\n",
       "    <tr>\n",
       "      <th>count</th>\n",
       "      <td>7983.000000</td>\n",
       "      <td>8137.000000</td>\n",
       "      <td>8137.000000</td>\n",
       "    </tr>\n",
       "    <tr>\n",
       "      <th>mean</th>\n",
       "      <td>2007.192785</td>\n",
       "      <td>68.967679</td>\n",
       "      <td>26.360821</td>\n",
       "    </tr>\n",
       "    <tr>\n",
       "      <th>std</th>\n",
       "      <td>4.189425</td>\n",
       "      <td>13.938165</td>\n",
       "      <td>18.980495</td>\n",
       "    </tr>\n",
       "    <tr>\n",
       "      <th>min</th>\n",
       "      <td>1985.000000</td>\n",
       "      <td>13.000000</td>\n",
       "      <td>3.000000</td>\n",
       "    </tr>\n",
       "    <tr>\n",
       "      <th>25%</th>\n",
       "      <td>2004.000000</td>\n",
       "      <td>60.000000</td>\n",
       "      <td>12.000000</td>\n",
       "    </tr>\n",
       "    <tr>\n",
       "      <th>50%</th>\n",
       "      <td>2007.000000</td>\n",
       "      <td>71.000000</td>\n",
       "      <td>21.000000</td>\n",
       "    </tr>\n",
       "    <tr>\n",
       "      <th>75%</th>\n",
       "      <td>2010.000000</td>\n",
       "      <td>79.000000</td>\n",
       "      <td>36.000000</td>\n",
       "    </tr>\n",
       "    <tr>\n",
       "      <th>max</th>\n",
       "      <td>2016.000000</td>\n",
       "      <td>98.000000</td>\n",
       "      <td>113.000000</td>\n",
       "    </tr>\n",
       "  </tbody>\n",
       "</table>\n",
       "</div>"
      ],
      "text/plain": [
       "       Year_of_Release  Critic_Score  Critic_Count\n",
       "count      7983.000000   8137.000000   8137.000000\n",
       "mean       2007.192785     68.967679     26.360821\n",
       "std           4.189425     13.938165     18.980495\n",
       "min        1985.000000     13.000000      3.000000\n",
       "25%        2004.000000     60.000000     12.000000\n",
       "50%        2007.000000     71.000000     21.000000\n",
       "75%        2010.000000     79.000000     36.000000\n",
       "max        2016.000000     98.000000    113.000000"
      ]
     },
     "execution_count": 5,
     "metadata": {},
     "output_type": "execute_result"
    }
   ],
   "source": [
    "critic_games.describe()"
   ]
  },
  {
   "cell_type": "code",
   "execution_count": 6,
   "metadata": {},
   "outputs": [
    {
     "data": {
      "text/html": [
       "<div>\n",
       "<style scoped>\n",
       "    .dataframe tbody tr th:only-of-type {\n",
       "        vertical-align: middle;\n",
       "    }\n",
       "\n",
       "    .dataframe tbody tr th {\n",
       "        vertical-align: top;\n",
       "    }\n",
       "\n",
       "    .dataframe thead th {\n",
       "        text-align: right;\n",
       "    }\n",
       "</style>\n",
       "<table border=\"1\" class=\"dataframe\">\n",
       "  <thead>\n",
       "    <tr style=\"text-align: right;\">\n",
       "      <th></th>\n",
       "      <th>Name</th>\n",
       "      <th>Year_of_Release</th>\n",
       "      <th>Genre</th>\n",
       "      <th>Platform</th>\n",
       "      <th>User_Score</th>\n",
       "      <th>User_Count</th>\n",
       "      <th>Platform_devs</th>\n",
       "    </tr>\n",
       "  </thead>\n",
       "  <tbody>\n",
       "    <tr>\n",
       "      <th>0</th>\n",
       "      <td>Wii Sports</td>\n",
       "      <td>2006</td>\n",
       "      <td>Sports</td>\n",
       "      <td>Wii</td>\n",
       "      <td>80.0</td>\n",
       "      <td>322</td>\n",
       "      <td>Nintendo</td>\n",
       "    </tr>\n",
       "    <tr>\n",
       "      <th>2</th>\n",
       "      <td>Mario Kart Wii</td>\n",
       "      <td>2008</td>\n",
       "      <td>Racing</td>\n",
       "      <td>Wii</td>\n",
       "      <td>83.0</td>\n",
       "      <td>709</td>\n",
       "      <td>Nintendo</td>\n",
       "    </tr>\n",
       "    <tr>\n",
       "      <th>3</th>\n",
       "      <td>Wii Sports Resort</td>\n",
       "      <td>2009</td>\n",
       "      <td>Sports</td>\n",
       "      <td>Wii</td>\n",
       "      <td>80.0</td>\n",
       "      <td>192</td>\n",
       "      <td>Nintendo</td>\n",
       "    </tr>\n",
       "    <tr>\n",
       "      <th>6</th>\n",
       "      <td>New Super Mario Bros.</td>\n",
       "      <td>2006</td>\n",
       "      <td>Platform</td>\n",
       "      <td>DS</td>\n",
       "      <td>85.0</td>\n",
       "      <td>431</td>\n",
       "      <td>Nintendo</td>\n",
       "    </tr>\n",
       "    <tr>\n",
       "      <th>7</th>\n",
       "      <td>Wii Play</td>\n",
       "      <td>2006</td>\n",
       "      <td>Misc</td>\n",
       "      <td>Wii</td>\n",
       "      <td>66.0</td>\n",
       "      <td>129</td>\n",
       "      <td>Nintendo</td>\n",
       "    </tr>\n",
       "    <tr>\n",
       "      <th>...</th>\n",
       "      <td>...</td>\n",
       "      <td>...</td>\n",
       "      <td>...</td>\n",
       "      <td>...</td>\n",
       "      <td>...</td>\n",
       "      <td>...</td>\n",
       "      <td>...</td>\n",
       "    </tr>\n",
       "    <tr>\n",
       "      <th>16685</th>\n",
       "      <td>Worms 2</td>\n",
       "      <td>1997</td>\n",
       "      <td>Strategy</td>\n",
       "      <td>PC</td>\n",
       "      <td>81.0</td>\n",
       "      <td>12</td>\n",
       "      <td>Other</td>\n",
       "    </tr>\n",
       "    <tr>\n",
       "      <th>16696</th>\n",
       "      <td>Metal Gear Solid V: Ground Zeroes</td>\n",
       "      <td>2014</td>\n",
       "      <td>Action</td>\n",
       "      <td>PC</td>\n",
       "      <td>76.0</td>\n",
       "      <td>412</td>\n",
       "      <td>Other</td>\n",
       "    </tr>\n",
       "    <tr>\n",
       "      <th>16700</th>\n",
       "      <td>Breach</td>\n",
       "      <td>2011</td>\n",
       "      <td>Shooter</td>\n",
       "      <td>PC</td>\n",
       "      <td>58.0</td>\n",
       "      <td>43</td>\n",
       "      <td>Other</td>\n",
       "    </tr>\n",
       "    <tr>\n",
       "      <th>16706</th>\n",
       "      <td>STORM: Frontline Nation</td>\n",
       "      <td>2011</td>\n",
       "      <td>Strategy</td>\n",
       "      <td>PC</td>\n",
       "      <td>72.0</td>\n",
       "      <td>13</td>\n",
       "      <td>Other</td>\n",
       "    </tr>\n",
       "    <tr>\n",
       "      <th>16709</th>\n",
       "      <td>15 Days</td>\n",
       "      <td>2009</td>\n",
       "      <td>Adventure</td>\n",
       "      <td>PC</td>\n",
       "      <td>58.0</td>\n",
       "      <td>8</td>\n",
       "      <td>Other</td>\n",
       "    </tr>\n",
       "  </tbody>\n",
       "</table>\n",
       "<p>7590 rows × 7 columns</p>\n",
       "</div>"
      ],
      "text/plain": [
       "                                    Name  Year_of_Release      Genre Platform  \\\n",
       "0                             Wii Sports             2006     Sports      Wii   \n",
       "2                         Mario Kart Wii             2008     Racing      Wii   \n",
       "3                      Wii Sports Resort             2009     Sports      Wii   \n",
       "6                  New Super Mario Bros.             2006   Platform       DS   \n",
       "7                               Wii Play             2006       Misc      Wii   \n",
       "...                                  ...              ...        ...      ...   \n",
       "16685                            Worms 2             1997   Strategy       PC   \n",
       "16696  Metal Gear Solid V: Ground Zeroes             2014     Action       PC   \n",
       "16700                             Breach             2011    Shooter       PC   \n",
       "16706            STORM: Frontline Nation             2011   Strategy       PC   \n",
       "16709                            15 Days             2009  Adventure       PC   \n",
       "\n",
       "       User_Score  User_Count Platform_devs  \n",
       "0            80.0         322      Nintendo  \n",
       "2            83.0         709      Nintendo  \n",
       "3            80.0         192      Nintendo  \n",
       "6            85.0         431      Nintendo  \n",
       "7            66.0         129      Nintendo  \n",
       "...           ...         ...           ...  \n",
       "16685        81.0          12         Other  \n",
       "16696        76.0         412         Other  \n",
       "16700        58.0          43         Other  \n",
       "16706        72.0          13         Other  \n",
       "16709        58.0           8         Other  \n",
       "\n",
       "[7590 rows x 7 columns]"
      ]
     },
     "execution_count": 6,
     "metadata": {},
     "output_type": "execute_result"
    }
   ],
   "source": [
    "user_games = df[['Name', 'Year_of_Release', 'Genre', 'Platform', 'User_Score', 'User_Count', 'Platform_devs']]\n",
    "user_games = user_games.loc[user_games['User_Count'] > 0]\n",
    "user_games.dropna(subset=['Platform'], inplace=True)\n",
    "user_games"
   ]
  },
  {
   "cell_type": "code",
   "execution_count": 7,
   "metadata": {},
   "outputs": [
    {
     "name": "stdout",
     "output_type": "stream",
     "text": [
      "<class 'pandas.core.frame.DataFrame'>\n",
      "Int64Index: 7590 entries, 0 to 16709\n",
      "Data columns (total 7 columns):\n",
      " #   Column           Non-Null Count  Dtype  \n",
      "---  ------           --------------  -----  \n",
      " 0   Name             7590 non-null   object \n",
      " 1   Year_of_Release  7463 non-null   Int64  \n",
      " 2   Genre            7590 non-null   object \n",
      " 3   Platform         7590 non-null   object \n",
      " 4   User_Score       7590 non-null   float64\n",
      " 5   User_Count       7590 non-null   Int64  \n",
      " 6   Platform_devs    7590 non-null   object \n",
      "dtypes: Int64(2), float64(1), object(4)\n",
      "memory usage: 489.2+ KB\n"
     ]
    }
   ],
   "source": [
    "user_games.info()"
   ]
  },
  {
   "cell_type": "code",
   "execution_count": 8,
   "metadata": {},
   "outputs": [
    {
     "data": {
      "text/html": [
       "<div>\n",
       "<style scoped>\n",
       "    .dataframe tbody tr th:only-of-type {\n",
       "        vertical-align: middle;\n",
       "    }\n",
       "\n",
       "    .dataframe tbody tr th {\n",
       "        vertical-align: top;\n",
       "    }\n",
       "\n",
       "    .dataframe thead th {\n",
       "        text-align: right;\n",
       "    }\n",
       "</style>\n",
       "<table border=\"1\" class=\"dataframe\">\n",
       "  <thead>\n",
       "    <tr style=\"text-align: right;\">\n",
       "      <th></th>\n",
       "      <th>Year_of_Release</th>\n",
       "      <th>User_Score</th>\n",
       "      <th>User_Count</th>\n",
       "    </tr>\n",
       "  </thead>\n",
       "  <tbody>\n",
       "    <tr>\n",
       "      <th>count</th>\n",
       "      <td>7463.000000</td>\n",
       "      <td>7590.000000</td>\n",
       "      <td>7590.000000</td>\n",
       "    </tr>\n",
       "    <tr>\n",
       "      <th>mean</th>\n",
       "      <td>2007.686855</td>\n",
       "      <td>71.250461</td>\n",
       "      <td>162.229908</td>\n",
       "    </tr>\n",
       "    <tr>\n",
       "      <th>std</th>\n",
       "      <td>4.296115</td>\n",
       "      <td>15.000061</td>\n",
       "      <td>561.282326</td>\n",
       "    </tr>\n",
       "    <tr>\n",
       "      <th>min</th>\n",
       "      <td>1985.000000</td>\n",
       "      <td>0.000000</td>\n",
       "      <td>4.000000</td>\n",
       "    </tr>\n",
       "    <tr>\n",
       "      <th>25%</th>\n",
       "      <td>2004.000000</td>\n",
       "      <td>64.000000</td>\n",
       "      <td>10.000000</td>\n",
       "    </tr>\n",
       "    <tr>\n",
       "      <th>50%</th>\n",
       "      <td>2008.000000</td>\n",
       "      <td>75.000000</td>\n",
       "      <td>24.000000</td>\n",
       "    </tr>\n",
       "    <tr>\n",
       "      <th>75%</th>\n",
       "      <td>2011.000000</td>\n",
       "      <td>82.000000</td>\n",
       "      <td>81.000000</td>\n",
       "    </tr>\n",
       "    <tr>\n",
       "      <th>max</th>\n",
       "      <td>2016.000000</td>\n",
       "      <td>97.000000</td>\n",
       "      <td>10665.000000</td>\n",
       "    </tr>\n",
       "  </tbody>\n",
       "</table>\n",
       "</div>"
      ],
      "text/plain": [
       "       Year_of_Release   User_Score    User_Count\n",
       "count      7463.000000  7590.000000   7590.000000\n",
       "mean       2007.686855    71.250461    162.229908\n",
       "std           4.296115    15.000061    561.282326\n",
       "min        1985.000000     0.000000      4.000000\n",
       "25%        2004.000000    64.000000     10.000000\n",
       "50%        2008.000000    75.000000     24.000000\n",
       "75%        2011.000000    82.000000     81.000000\n",
       "max        2016.000000    97.000000  10665.000000"
      ]
     },
     "execution_count": 8,
     "metadata": {},
     "output_type": "execute_result"
    }
   ],
   "source": [
    "user_games.describe()"
   ]
  },
  {
   "cell_type": "markdown",
   "metadata": {},
   "source": [
    "### 1.1 Как критики относятся к шутерам?"
   ]
  },
  {
   "cell_type": "code",
   "execution_count": 9,
   "metadata": {},
   "outputs": [
    {
     "data": {
      "text/html": [
       "<div>\n",
       "<style scoped>\n",
       "    .dataframe tbody tr th:only-of-type {\n",
       "        vertical-align: middle;\n",
       "    }\n",
       "\n",
       "    .dataframe tbody tr th {\n",
       "        vertical-align: top;\n",
       "    }\n",
       "\n",
       "    .dataframe thead th {\n",
       "        text-align: right;\n",
       "    }\n",
       "</style>\n",
       "<table border=\"1\" class=\"dataframe\">\n",
       "  <thead>\n",
       "    <tr style=\"text-align: right;\">\n",
       "      <th></th>\n",
       "      <th>Genre</th>\n",
       "      <th>Critic_Score</th>\n",
       "    </tr>\n",
       "  </thead>\n",
       "  <tbody>\n",
       "    <tr>\n",
       "      <th>7</th>\n",
       "      <td>Role-Playing</td>\n",
       "      <td>72.652646</td>\n",
       "    </tr>\n",
       "    <tr>\n",
       "      <th>11</th>\n",
       "      <td>Strategy</td>\n",
       "      <td>72.086093</td>\n",
       "    </tr>\n",
       "    <tr>\n",
       "      <th>10</th>\n",
       "      <td>Sports</td>\n",
       "      <td>71.968174</td>\n",
       "    </tr>\n",
       "    <tr>\n",
       "      <th>8</th>\n",
       "      <td>Shooter</td>\n",
       "      <td>70.181144</td>\n",
       "    </tr>\n",
       "    <tr>\n",
       "      <th>2</th>\n",
       "      <td>Fighting</td>\n",
       "      <td>69.217604</td>\n",
       "    </tr>\n",
       "    <tr>\n",
       "      <th>9</th>\n",
       "      <td>Simulation</td>\n",
       "      <td>68.619318</td>\n",
       "    </tr>\n",
       "    <tr>\n",
       "      <th>4</th>\n",
       "      <td>Platform</td>\n",
       "      <td>68.058350</td>\n",
       "    </tr>\n",
       "    <tr>\n",
       "      <th>6</th>\n",
       "      <td>Racing</td>\n",
       "      <td>67.963612</td>\n",
       "    </tr>\n",
       "    <tr>\n",
       "      <th>5</th>\n",
       "      <td>Puzzle</td>\n",
       "      <td>67.424107</td>\n",
       "    </tr>\n",
       "    <tr>\n",
       "      <th>0</th>\n",
       "      <td>Action</td>\n",
       "      <td>66.629101</td>\n",
       "    </tr>\n",
       "    <tr>\n",
       "      <th>3</th>\n",
       "      <td>Misc</td>\n",
       "      <td>66.619503</td>\n",
       "    </tr>\n",
       "    <tr>\n",
       "      <th>1</th>\n",
       "      <td>Adventure</td>\n",
       "      <td>65.331269</td>\n",
       "    </tr>\n",
       "  </tbody>\n",
       "</table>\n",
       "</div>"
      ],
      "text/plain": [
       "           Genre  Critic_Score\n",
       "7   Role-Playing     72.652646\n",
       "11      Strategy     72.086093\n",
       "10        Sports     71.968174\n",
       "8        Shooter     70.181144\n",
       "2       Fighting     69.217604\n",
       "9     Simulation     68.619318\n",
       "4       Platform     68.058350\n",
       "6         Racing     67.963612\n",
       "5         Puzzle     67.424107\n",
       "0         Action     66.629101\n",
       "3           Misc     66.619503\n",
       "1      Adventure     65.331269"
      ]
     },
     "execution_count": 9,
     "metadata": {},
     "output_type": "execute_result"
    }
   ],
   "source": [
    "critic_score = critic_games.groupby('Genre').Critic_Score.mean().reset_index().sort_values('Critic_Score', ascending=False)\n",
    "critic_score"
   ]
  },
  {
   "cell_type": "code",
   "execution_count": 10,
   "metadata": {},
   "outputs": [
    {
     "data": {
      "text/plain": [
       "68.89591006609139"
      ]
     },
     "execution_count": 10,
     "metadata": {},
     "output_type": "execute_result"
    }
   ],
   "source": [
    "mean_critic_score = critic_games.groupby('Genre').mean()['Critic_Score'].mean()\n",
    "mean_critic_score"
   ]
  },
  {
   "cell_type": "code",
   "execution_count": 11,
   "metadata": {},
   "outputs": [
    {
     "data": {
      "text/html": [
       "<div>\n",
       "<style scoped>\n",
       "    .dataframe tbody tr th:only-of-type {\n",
       "        vertical-align: middle;\n",
       "    }\n",
       "\n",
       "    .dataframe tbody tr th {\n",
       "        vertical-align: top;\n",
       "    }\n",
       "\n",
       "    .dataframe thead th {\n",
       "        text-align: right;\n",
       "    }\n",
       "</style>\n",
       "<table border=\"1\" class=\"dataframe\">\n",
       "  <thead>\n",
       "    <tr style=\"text-align: right;\">\n",
       "      <th></th>\n",
       "      <th>Genre</th>\n",
       "      <th>Critic_Count</th>\n",
       "    </tr>\n",
       "  </thead>\n",
       "  <tbody>\n",
       "    <tr>\n",
       "      <th>0</th>\n",
       "      <td>Action</td>\n",
       "      <td>52506</td>\n",
       "    </tr>\n",
       "    <tr>\n",
       "      <th>8</th>\n",
       "      <td>Shooter</td>\n",
       "      <td>33616</td>\n",
       "    </tr>\n",
       "    <tr>\n",
       "      <th>10</th>\n",
       "      <td>Sports</td>\n",
       "      <td>25110</td>\n",
       "    </tr>\n",
       "    <tr>\n",
       "      <th>7</th>\n",
       "      <td>Role-Playing</td>\n",
       "      <td>23945</td>\n",
       "    </tr>\n",
       "    <tr>\n",
       "      <th>6</th>\n",
       "      <td>Racing</td>\n",
       "      <td>17087</td>\n",
       "    </tr>\n",
       "    <tr>\n",
       "      <th>4</th>\n",
       "      <td>Platform</td>\n",
       "      <td>11778</td>\n",
       "    </tr>\n",
       "    <tr>\n",
       "      <th>2</th>\n",
       "      <td>Fighting</td>\n",
       "      <td>11415</td>\n",
       "    </tr>\n",
       "    <tr>\n",
       "      <th>3</th>\n",
       "      <td>Misc</td>\n",
       "      <td>11262</td>\n",
       "    </tr>\n",
       "    <tr>\n",
       "      <th>11</th>\n",
       "      <td>Strategy</td>\n",
       "      <td>8538</td>\n",
       "    </tr>\n",
       "    <tr>\n",
       "      <th>9</th>\n",
       "      <td>Simulation</td>\n",
       "      <td>7549</td>\n",
       "    </tr>\n",
       "    <tr>\n",
       "      <th>1</th>\n",
       "      <td>Adventure</td>\n",
       "      <td>7143</td>\n",
       "    </tr>\n",
       "    <tr>\n",
       "      <th>5</th>\n",
       "      <td>Puzzle</td>\n",
       "      <td>4549</td>\n",
       "    </tr>\n",
       "  </tbody>\n",
       "</table>\n",
       "</div>"
      ],
      "text/plain": [
       "           Genre  Critic_Count\n",
       "0         Action         52506\n",
       "8        Shooter         33616\n",
       "10        Sports         25110\n",
       "7   Role-Playing         23945\n",
       "6         Racing         17087\n",
       "4       Platform         11778\n",
       "2       Fighting         11415\n",
       "3           Misc         11262\n",
       "11      Strategy          8538\n",
       "9     Simulation          7549\n",
       "1      Adventure          7143\n",
       "5         Puzzle          4549"
      ]
     },
     "execution_count": 11,
     "metadata": {},
     "output_type": "execute_result"
    }
   ],
   "source": [
    "critic_count = critic_games.groupby('Genre').Critic_Count.sum().reset_index().sort_values('Critic_Count', ascending=False)\n",
    "critic_count"
   ]
  },
  {
   "cell_type": "markdown",
   "metadata": {},
   "source": [
    "##### Из полученных df видно, следующее:  \n",
    " - средняя оценка для шутеров, в рейтинге критиков средних оценок по всем жанрам, стоит на 4-м месте (из 12) и ее значение больше средней оценки по всем жанрам (70.2 > 68.9);  \n",
    " - активность выставления оценок критиками для шутеров, так же выше среднего и стоит на 2-м месте.\n",
    " \n",
    "##### Соответственно можно сделать вывод, что критикам нравятся стрелялки."
   ]
  },
  {
   "cell_type": "markdown",
   "metadata": {},
   "source": [
    "#### Гипотезы.\n",
    "##### H0: Критикам нравятся шутеры, в среднем, не более, чем в среднем по всем жанрам, т.е. Shooter.Critic_Score.mean() <= mean_critic_score\n",
    "##### H1: Критикам нравятся шутеры, в среднем, более, чем в среднем по всем жанрам, т.е. Shooter.Critic_Score.mean() > mean_critic_score"
   ]
  },
  {
   "cell_type": "code",
   "execution_count": 12,
   "metadata": {},
   "outputs": [
    {
     "data": {
      "text/html": [
       "<div>\n",
       "<style scoped>\n",
       "    .dataframe tbody tr th:only-of-type {\n",
       "        vertical-align: middle;\n",
       "    }\n",
       "\n",
       "    .dataframe tbody tr th {\n",
       "        vertical-align: top;\n",
       "    }\n",
       "\n",
       "    .dataframe thead th {\n",
       "        text-align: right;\n",
       "    }\n",
       "</style>\n",
       "<table border=\"1\" class=\"dataframe\">\n",
       "  <thead>\n",
       "    <tr style=\"text-align: right;\">\n",
       "      <th></th>\n",
       "      <th>Name</th>\n",
       "      <th>Year_of_Release</th>\n",
       "      <th>Genre</th>\n",
       "      <th>Platform</th>\n",
       "      <th>Critic_Score</th>\n",
       "      <th>Critic_Count</th>\n",
       "      <th>Platform_devs</th>\n",
       "    </tr>\n",
       "  </thead>\n",
       "  <tbody>\n",
       "    <tr>\n",
       "      <th>29</th>\n",
       "      <td>Call of Duty: Modern Warfare 3</td>\n",
       "      <td>2011</td>\n",
       "      <td>Shooter</td>\n",
       "      <td>X360</td>\n",
       "      <td>88.0</td>\n",
       "      <td>81</td>\n",
       "      <td>XBox</td>\n",
       "    </tr>\n",
       "    <tr>\n",
       "      <th>32</th>\n",
       "      <td>Call of Duty: Black Ops</td>\n",
       "      <td>2010</td>\n",
       "      <td>Shooter</td>\n",
       "      <td>X360</td>\n",
       "      <td>87.0</td>\n",
       "      <td>89</td>\n",
       "      <td>XBox</td>\n",
       "    </tr>\n",
       "    <tr>\n",
       "      <th>34</th>\n",
       "      <td>Call of Duty: Black Ops II</td>\n",
       "      <td>2012</td>\n",
       "      <td>Shooter</td>\n",
       "      <td>PS3</td>\n",
       "      <td>83.0</td>\n",
       "      <td>21</td>\n",
       "      <td>PlayStation</td>\n",
       "    </tr>\n",
       "    <tr>\n",
       "      <th>35</th>\n",
       "      <td>Call of Duty: Black Ops II</td>\n",
       "      <td>2012</td>\n",
       "      <td>Shooter</td>\n",
       "      <td>X360</td>\n",
       "      <td>83.0</td>\n",
       "      <td>73</td>\n",
       "      <td>XBox</td>\n",
       "    </tr>\n",
       "    <tr>\n",
       "      <th>36</th>\n",
       "      <td>Call of Duty: Modern Warfare 2</td>\n",
       "      <td>2009</td>\n",
       "      <td>Shooter</td>\n",
       "      <td>X360</td>\n",
       "      <td>94.0</td>\n",
       "      <td>100</td>\n",
       "      <td>XBox</td>\n",
       "    </tr>\n",
       "    <tr>\n",
       "      <th>...</th>\n",
       "      <td>...</td>\n",
       "      <td>...</td>\n",
       "      <td>...</td>\n",
       "      <td>...</td>\n",
       "      <td>...</td>\n",
       "      <td>...</td>\n",
       "      <td>...</td>\n",
       "    </tr>\n",
       "    <tr>\n",
       "      <th>16433</th>\n",
       "      <td>Greg Hastings' Tournament Paintball Max'd</td>\n",
       "      <td>2006</td>\n",
       "      <td>Shooter</td>\n",
       "      <td>PS2</td>\n",
       "      <td>70.0</td>\n",
       "      <td>8</td>\n",
       "      <td>PlayStation</td>\n",
       "    </tr>\n",
       "    <tr>\n",
       "      <th>16452</th>\n",
       "      <td>Inversion</td>\n",
       "      <td>&lt;NA&gt;</td>\n",
       "      <td>Shooter</td>\n",
       "      <td>PC</td>\n",
       "      <td>59.0</td>\n",
       "      <td>6</td>\n",
       "      <td>Other</td>\n",
       "    </tr>\n",
       "    <tr>\n",
       "      <th>16541</th>\n",
       "      <td>Clive Barker's Jericho</td>\n",
       "      <td>2007</td>\n",
       "      <td>Shooter</td>\n",
       "      <td>PC</td>\n",
       "      <td>63.0</td>\n",
       "      <td>25</td>\n",
       "      <td>Other</td>\n",
       "    </tr>\n",
       "    <tr>\n",
       "      <th>16581</th>\n",
       "      <td>Space Raiders</td>\n",
       "      <td>2003</td>\n",
       "      <td>Shooter</td>\n",
       "      <td>GC</td>\n",
       "      <td>40.0</td>\n",
       "      <td>8</td>\n",
       "      <td>Other</td>\n",
       "    </tr>\n",
       "    <tr>\n",
       "      <th>16700</th>\n",
       "      <td>Breach</td>\n",
       "      <td>2011</td>\n",
       "      <td>Shooter</td>\n",
       "      <td>PC</td>\n",
       "      <td>61.0</td>\n",
       "      <td>12</td>\n",
       "      <td>Other</td>\n",
       "    </tr>\n",
       "  </tbody>\n",
       "</table>\n",
       "<p>944 rows × 7 columns</p>\n",
       "</div>"
      ],
      "text/plain": [
       "                                            Name  Year_of_Release    Genre  \\\n",
       "29                Call of Duty: Modern Warfare 3             2011  Shooter   \n",
       "32                       Call of Duty: Black Ops             2010  Shooter   \n",
       "34                    Call of Duty: Black Ops II             2012  Shooter   \n",
       "35                    Call of Duty: Black Ops II             2012  Shooter   \n",
       "36                Call of Duty: Modern Warfare 2             2009  Shooter   \n",
       "...                                          ...              ...      ...   \n",
       "16433  Greg Hastings' Tournament Paintball Max'd             2006  Shooter   \n",
       "16452                                  Inversion             <NA>  Shooter   \n",
       "16541                     Clive Barker's Jericho             2007  Shooter   \n",
       "16581                              Space Raiders             2003  Shooter   \n",
       "16700                                     Breach             2011  Shooter   \n",
       "\n",
       "      Platform  Critic_Score  Critic_Count Platform_devs  \n",
       "29        X360          88.0            81          XBox  \n",
       "32        X360          87.0            89          XBox  \n",
       "34         PS3          83.0            21   PlayStation  \n",
       "35        X360          83.0            73          XBox  \n",
       "36        X360          94.0           100          XBox  \n",
       "...        ...           ...           ...           ...  \n",
       "16433      PS2          70.0             8   PlayStation  \n",
       "16452       PC          59.0             6         Other  \n",
       "16541       PC          63.0            25         Other  \n",
       "16581       GC          40.0             8         Other  \n",
       "16700       PC          61.0            12         Other  \n",
       "\n",
       "[944 rows x 7 columns]"
      ]
     },
     "execution_count": 12,
     "metadata": {},
     "output_type": "execute_result"
    }
   ],
   "source": [
    "shooter_critic_score = critic_games.loc[critic_games.Genre.str.contains('Shooter')]\n",
    "shooter_critic_score"
   ]
  },
  {
   "cell_type": "code",
   "execution_count": 13,
   "metadata": {},
   "outputs": [
    {
     "name": "stdout",
     "output_type": "stream",
     "text": [
      "70.18114406779661\n",
      "Ttest_1sampResult(statistic=2.713491509798112, pvalue=0.003389607879188569)\n",
      "Отвергаем нулевую гипотезу, среднее значение оценок критиков для шутеров больше 68.9 (шутеры критикам нравятся)\n",
      "Пороговый уровень статистической значимости равен : 0.3389607879188569 %\n"
     ]
    }
   ],
   "source": [
    "alpha = 0.05\n",
    "result = st.ttest_1samp(shooter_critic_score['Critic_Score'], mean_critic_score, alternative='greater')\n",
    "\n",
    "print(shooter_critic_score['Critic_Score'].mean())\n",
    "print(result)\n",
    "\n",
    "if result.pvalue < alpha: \n",
    "    print('Отвергаем нулевую гипотезу, среднее значение оценок критиков для шутеров больше 68.9 (шутеры критикам нравятся)')\n",
    "else:\n",
    "    print('Не отвергаем нулевую гипотезу, шутеры критикам не нравятся')\n",
    "    \n",
    "print('Пороговый уровень статистической значимости равен :', result.pvalue*100, '%')"
   ]
  },
  {
   "cell_type": "code",
   "execution_count": 14,
   "metadata": {},
   "outputs": [
    {
     "data": {
      "text/plain": [
       "Text(0.5, 1.0, 'Распределение оценок критиков для шутеров')"
      ]
     },
     "execution_count": 14,
     "metadata": {},
     "output_type": "execute_result"
    },
    {
     "data": {
      "image/png": "[encoded data removed]",
      "text/plain": [
       "<Figure size 792x360 with 1 Axes>"
      ]
     },
     "metadata": {
      "needs_background": "light"
     },
     "output_type": "display_data"
    }
   ],
   "source": [
    "sns.histplot(shooter_critic_score, x='Critic_Score', color='blue')\n",
    "plt.title('Распределение оценок критиков для шутеров')"
   ]
  },
  {
   "cell_type": "markdown",
   "metadata": {},
   "source": [
    "###### Среднее значение оценок критиков для шутеров 70.2 что выше среднего значения оценок по всем жанрам.\n",
    "###### Значение p-value очень низкое, что без всяких сомнений дает нам право отвергнуть нулевую гипотезу.\n",
    "###### Значение t-статистики положительно, и подтверждает то, что cреднее значение оценок критиков для шутеров больше среднего значения оценок критиков по всем жанрам."
   ]
  },
  {
   "cell_type": "code",
   "execution_count": null,
   "metadata": {},
   "outputs": [],
   "source": [
    "\n"
   ]
  },
  {
   "cell_type": "markdown",
   "metadata": {},
   "source": [
    "### 1.2 Как юзеры относятся к шутерам?"
   ]
  },
  {
   "cell_type": "code",
   "execution_count": 15,
   "metadata": {},
   "outputs": [
    {
     "data": {
      "text/html": [
       "<div>\n",
       "<style scoped>\n",
       "    .dataframe tbody tr th:only-of-type {\n",
       "        vertical-align: middle;\n",
       "    }\n",
       "\n",
       "    .dataframe tbody tr th {\n",
       "        vertical-align: top;\n",
       "    }\n",
       "\n",
       "    .dataframe thead th {\n",
       "        text-align: right;\n",
       "    }\n",
       "</style>\n",
       "<table border=\"1\" class=\"dataframe\">\n",
       "  <thead>\n",
       "    <tr style=\"text-align: right;\">\n",
       "      <th></th>\n",
       "      <th>Genre</th>\n",
       "      <th>User_Score</th>\n",
       "    </tr>\n",
       "  </thead>\n",
       "  <tbody>\n",
       "    <tr>\n",
       "      <th>7</th>\n",
       "      <td>Role-Playing</td>\n",
       "      <td>76.195155</td>\n",
       "    </tr>\n",
       "    <tr>\n",
       "      <th>2</th>\n",
       "      <td>Fighting</td>\n",
       "      <td>73.025063</td>\n",
       "    </tr>\n",
       "    <tr>\n",
       "      <th>4</th>\n",
       "      <td>Platform</td>\n",
       "      <td>73.014019</td>\n",
       "    </tr>\n",
       "    <tr>\n",
       "      <th>11</th>\n",
       "      <td>Strategy</td>\n",
       "      <td>72.951768</td>\n",
       "    </tr>\n",
       "    <tr>\n",
       "      <th>5</th>\n",
       "      <td>Puzzle</td>\n",
       "      <td>71.750000</td>\n",
       "    </tr>\n",
       "    <tr>\n",
       "      <th>9</th>\n",
       "      <td>Simulation</td>\n",
       "      <td>71.345930</td>\n",
       "    </tr>\n",
       "    <tr>\n",
       "      <th>1</th>\n",
       "      <td>Adventure</td>\n",
       "      <td>71.330000</td>\n",
       "    </tr>\n",
       "    <tr>\n",
       "      <th>0</th>\n",
       "      <td>Action</td>\n",
       "      <td>70.540437</td>\n",
       "    </tr>\n",
       "    <tr>\n",
       "      <th>8</th>\n",
       "      <td>Shooter</td>\n",
       "      <td>70.418831</td>\n",
       "    </tr>\n",
       "    <tr>\n",
       "      <th>6</th>\n",
       "      <td>Racing</td>\n",
       "      <td>70.361934</td>\n",
       "    </tr>\n",
       "    <tr>\n",
       "      <th>10</th>\n",
       "      <td>Sports</td>\n",
       "      <td>69.611967</td>\n",
       "    </tr>\n",
       "    <tr>\n",
       "      <th>3</th>\n",
       "      <td>Misc</td>\n",
       "      <td>68.193622</td>\n",
       "    </tr>\n",
       "  </tbody>\n",
       "</table>\n",
       "</div>"
      ],
      "text/plain": [
       "           Genre  User_Score\n",
       "7   Role-Playing   76.195155\n",
       "2       Fighting   73.025063\n",
       "4       Platform   73.014019\n",
       "11      Strategy   72.951768\n",
       "5         Puzzle   71.750000\n",
       "9     Simulation   71.345930\n",
       "1      Adventure   71.330000\n",
       "0         Action   70.540437\n",
       "8        Shooter   70.418831\n",
       "6         Racing   70.361934\n",
       "10        Sports   69.611967\n",
       "3           Misc   68.193622"
      ]
     },
     "execution_count": 15,
     "metadata": {},
     "output_type": "execute_result"
    }
   ],
   "source": [
    "user_score = user_games.groupby('Genre').User_Score.mean().reset_index().sort_values('User_Score', ascending=False)\n",
    "user_score"
   ]
  },
  {
   "cell_type": "code",
   "execution_count": 16,
   "metadata": {},
   "outputs": [
    {
     "data": {
      "text/plain": [
       "71.56156057348035"
      ]
     },
     "execution_count": 16,
     "metadata": {},
     "output_type": "execute_result"
    }
   ],
   "source": [
    "mean_user_score = user_games.groupby('Genre').mean()['User_Score'].mean()\n",
    "mean_user_score"
   ]
  },
  {
   "cell_type": "code",
   "execution_count": 17,
   "metadata": {},
   "outputs": [
    {
     "data": {
      "text/html": [
       "<div>\n",
       "<style scoped>\n",
       "    .dataframe tbody tr th:only-of-type {\n",
       "        vertical-align: middle;\n",
       "    }\n",
       "\n",
       "    .dataframe tbody tr th {\n",
       "        vertical-align: top;\n",
       "    }\n",
       "\n",
       "    .dataframe thead th {\n",
       "        text-align: right;\n",
       "    }\n",
       "</style>\n",
       "<table border=\"1\" class=\"dataframe\">\n",
       "  <thead>\n",
       "    <tr style=\"text-align: right;\">\n",
       "      <th></th>\n",
       "      <th>Genre</th>\n",
       "      <th>User_Count</th>\n",
       "    </tr>\n",
       "  </thead>\n",
       "  <tbody>\n",
       "    <tr>\n",
       "      <th>8</th>\n",
       "      <td>Shooter</td>\n",
       "      <td>346110</td>\n",
       "    </tr>\n",
       "    <tr>\n",
       "      <th>0</th>\n",
       "      <td>Action</td>\n",
       "      <td>345668</td>\n",
       "    </tr>\n",
       "    <tr>\n",
       "      <th>7</th>\n",
       "      <td>Role-Playing</td>\n",
       "      <td>238315</td>\n",
       "    </tr>\n",
       "    <tr>\n",
       "      <th>11</th>\n",
       "      <td>Strategy</td>\n",
       "      <td>61025</td>\n",
       "    </tr>\n",
       "    <tr>\n",
       "      <th>4</th>\n",
       "      <td>Platform</td>\n",
       "      <td>46707</td>\n",
       "    </tr>\n",
       "    <tr>\n",
       "      <th>10</th>\n",
       "      <td>Sports</td>\n",
       "      <td>45849</td>\n",
       "    </tr>\n",
       "    <tr>\n",
       "      <th>6</th>\n",
       "      <td>Racing</td>\n",
       "      <td>44468</td>\n",
       "    </tr>\n",
       "    <tr>\n",
       "      <th>1</th>\n",
       "      <td>Adventure</td>\n",
       "      <td>31023</td>\n",
       "    </tr>\n",
       "    <tr>\n",
       "      <th>9</th>\n",
       "      <td>Simulation</td>\n",
       "      <td>28434</td>\n",
       "    </tr>\n",
       "    <tr>\n",
       "      <th>2</th>\n",
       "      <td>Fighting</td>\n",
       "      <td>25907</td>\n",
       "    </tr>\n",
       "    <tr>\n",
       "      <th>3</th>\n",
       "      <td>Misc</td>\n",
       "      <td>13659</td>\n",
       "    </tr>\n",
       "    <tr>\n",
       "      <th>5</th>\n",
       "      <td>Puzzle</td>\n",
       "      <td>4160</td>\n",
       "    </tr>\n",
       "  </tbody>\n",
       "</table>\n",
       "</div>"
      ],
      "text/plain": [
       "           Genre  User_Count\n",
       "8        Shooter      346110\n",
       "0         Action      345668\n",
       "7   Role-Playing      238315\n",
       "11      Strategy       61025\n",
       "4       Platform       46707\n",
       "10        Sports       45849\n",
       "6         Racing       44468\n",
       "1      Adventure       31023\n",
       "9     Simulation       28434\n",
       "2       Fighting       25907\n",
       "3           Misc       13659\n",
       "5         Puzzle        4160"
      ]
     },
     "execution_count": 17,
     "metadata": {},
     "output_type": "execute_result"
    }
   ],
   "source": [
    "user_count = user_games.groupby('Genre').User_Count.sum().reset_index().sort_values('User_Count', ascending=False)\n",
    "user_count"
   ]
  },
  {
   "cell_type": "markdown",
   "metadata": {},
   "source": [
    "##### Из полученных df видно, следующее:  \n",
    " - средняя оценка для шутеров, в рейтинге юзеров средних оценок по всем жанрам, стоит на 9-м месте (из 12) и ее значение меньше средней оценки по всем жанрам (70.4 < 71.6);  \n",
    " - активность выставления оценок юзерами для шутеров в топе, на 1-м месте.\n",
    " \n",
    "##### Соответственно можно сделать вывод, что юзерам стрелялки не нравятся, но интерес проявлен не малый. Оценок выставлено много (больше чем по остальным жанрам), но они низкие. "
   ]
  },
  {
   "cell_type": "markdown",
   "metadata": {},
   "source": [
    "#### Гипотезы.\n",
    "###### # H0: Юзерам нравятся шутеры, в среднем, не более, чем в среднем по всем жанрам, т.е. Shooter.User_Score.mean() <= mean_user_score\n",
    "###### # H1: Юзерам нравятся шутеры, в среднем, более, чем в среднем по всем жанрам, т.е. Shooter.User_Score.mean() > mean_user_score"
   ]
  },
  {
   "cell_type": "code",
   "execution_count": 18,
   "metadata": {},
   "outputs": [
    {
     "data": {
      "text/html": [
       "<div>\n",
       "<style scoped>\n",
       "    .dataframe tbody tr th:only-of-type {\n",
       "        vertical-align: middle;\n",
       "    }\n",
       "\n",
       "    .dataframe tbody tr th {\n",
       "        vertical-align: top;\n",
       "    }\n",
       "\n",
       "    .dataframe thead th {\n",
       "        text-align: right;\n",
       "    }\n",
       "</style>\n",
       "<table border=\"1\" class=\"dataframe\">\n",
       "  <thead>\n",
       "    <tr style=\"text-align: right;\">\n",
       "      <th></th>\n",
       "      <th>Name</th>\n",
       "      <th>Year_of_Release</th>\n",
       "      <th>Genre</th>\n",
       "      <th>Platform</th>\n",
       "      <th>User_Score</th>\n",
       "      <th>User_Count</th>\n",
       "      <th>Platform_devs</th>\n",
       "    </tr>\n",
       "  </thead>\n",
       "  <tbody>\n",
       "    <tr>\n",
       "      <th>29</th>\n",
       "      <td>Call of Duty: Modern Warfare 3</td>\n",
       "      <td>2011</td>\n",
       "      <td>Shooter</td>\n",
       "      <td>X360</td>\n",
       "      <td>34.0</td>\n",
       "      <td>8713</td>\n",
       "      <td>XBox</td>\n",
       "    </tr>\n",
       "    <tr>\n",
       "      <th>32</th>\n",
       "      <td>Call of Duty: Black Ops</td>\n",
       "      <td>2010</td>\n",
       "      <td>Shooter</td>\n",
       "      <td>X360</td>\n",
       "      <td>63.0</td>\n",
       "      <td>1454</td>\n",
       "      <td>XBox</td>\n",
       "    </tr>\n",
       "    <tr>\n",
       "      <th>34</th>\n",
       "      <td>Call of Duty: Black Ops II</td>\n",
       "      <td>2012</td>\n",
       "      <td>Shooter</td>\n",
       "      <td>PS3</td>\n",
       "      <td>53.0</td>\n",
       "      <td>922</td>\n",
       "      <td>PlayStation</td>\n",
       "    </tr>\n",
       "    <tr>\n",
       "      <th>35</th>\n",
       "      <td>Call of Duty: Black Ops II</td>\n",
       "      <td>2012</td>\n",
       "      <td>Shooter</td>\n",
       "      <td>X360</td>\n",
       "      <td>48.0</td>\n",
       "      <td>2256</td>\n",
       "      <td>XBox</td>\n",
       "    </tr>\n",
       "    <tr>\n",
       "      <th>36</th>\n",
       "      <td>Call of Duty: Modern Warfare 2</td>\n",
       "      <td>2009</td>\n",
       "      <td>Shooter</td>\n",
       "      <td>X360</td>\n",
       "      <td>63.0</td>\n",
       "      <td>2698</td>\n",
       "      <td>XBox</td>\n",
       "    </tr>\n",
       "    <tr>\n",
       "      <th>...</th>\n",
       "      <td>...</td>\n",
       "      <td>...</td>\n",
       "      <td>...</td>\n",
       "      <td>...</td>\n",
       "      <td>...</td>\n",
       "      <td>...</td>\n",
       "      <td>...</td>\n",
       "    </tr>\n",
       "    <tr>\n",
       "      <th>16415</th>\n",
       "      <td>Conflict: Denied Ops</td>\n",
       "      <td>2008</td>\n",
       "      <td>Shooter</td>\n",
       "      <td>PC</td>\n",
       "      <td>48.0</td>\n",
       "      <td>54</td>\n",
       "      <td>Other</td>\n",
       "    </tr>\n",
       "    <tr>\n",
       "      <th>16433</th>\n",
       "      <td>Greg Hastings' Tournament Paintball Max'd</td>\n",
       "      <td>2006</td>\n",
       "      <td>Shooter</td>\n",
       "      <td>PS2</td>\n",
       "      <td>92.0</td>\n",
       "      <td>32</td>\n",
       "      <td>PlayStation</td>\n",
       "    </tr>\n",
       "    <tr>\n",
       "      <th>16452</th>\n",
       "      <td>Inversion</td>\n",
       "      <td>&lt;NA&gt;</td>\n",
       "      <td>Shooter</td>\n",
       "      <td>PC</td>\n",
       "      <td>67.0</td>\n",
       "      <td>107</td>\n",
       "      <td>Other</td>\n",
       "    </tr>\n",
       "    <tr>\n",
       "      <th>16541</th>\n",
       "      <td>Clive Barker's Jericho</td>\n",
       "      <td>2007</td>\n",
       "      <td>Shooter</td>\n",
       "      <td>PC</td>\n",
       "      <td>75.0</td>\n",
       "      <td>218</td>\n",
       "      <td>Other</td>\n",
       "    </tr>\n",
       "    <tr>\n",
       "      <th>16700</th>\n",
       "      <td>Breach</td>\n",
       "      <td>2011</td>\n",
       "      <td>Shooter</td>\n",
       "      <td>PC</td>\n",
       "      <td>58.0</td>\n",
       "      <td>43</td>\n",
       "      <td>Other</td>\n",
       "    </tr>\n",
       "  </tbody>\n",
       "</table>\n",
       "<p>924 rows × 7 columns</p>\n",
       "</div>"
      ],
      "text/plain": [
       "                                            Name  Year_of_Release    Genre  \\\n",
       "29                Call of Duty: Modern Warfare 3             2011  Shooter   \n",
       "32                       Call of Duty: Black Ops             2010  Shooter   \n",
       "34                    Call of Duty: Black Ops II             2012  Shooter   \n",
       "35                    Call of Duty: Black Ops II             2012  Shooter   \n",
       "36                Call of Duty: Modern Warfare 2             2009  Shooter   \n",
       "...                                          ...              ...      ...   \n",
       "16415                       Conflict: Denied Ops             2008  Shooter   \n",
       "16433  Greg Hastings' Tournament Paintball Max'd             2006  Shooter   \n",
       "16452                                  Inversion             <NA>  Shooter   \n",
       "16541                     Clive Barker's Jericho             2007  Shooter   \n",
       "16700                                     Breach             2011  Shooter   \n",
       "\n",
       "      Platform  User_Score  User_Count Platform_devs  \n",
       "29        X360        34.0        8713          XBox  \n",
       "32        X360        63.0        1454          XBox  \n",
       "34         PS3        53.0         922   PlayStation  \n",
       "35        X360        48.0        2256          XBox  \n",
       "36        X360        63.0        2698          XBox  \n",
       "...        ...         ...         ...           ...  \n",
       "16415       PC        48.0          54         Other  \n",
       "16433      PS2        92.0          32   PlayStation  \n",
       "16452       PC        67.0         107         Other  \n",
       "16541       PC        75.0         218         Other  \n",
       "16700       PC        58.0          43         Other  \n",
       "\n",
       "[924 rows x 7 columns]"
      ]
     },
     "execution_count": 18,
     "metadata": {},
     "output_type": "execute_result"
    }
   ],
   "source": [
    "shooter_user_score = user_games.loc[user_games.Genre.str.contains('Shooter')]\n",
    "shooter_user_score"
   ]
  },
  {
   "cell_type": "code",
   "execution_count": 19,
   "metadata": {},
   "outputs": [
    {
     "name": "stdout",
     "output_type": "stream",
     "text": [
      "70.41883116883118\n",
      "Ttest_1sampResult(statistic=-2.2881437868411214, pvalue=0.98882276546403)\n",
      "Не отвергаем нулевую гипотезу, шутеры юзерам не нравятся\n",
      "Пороговый уровень статистической значимости равен : 98.882276546403 %\n"
     ]
    }
   ],
   "source": [
    "alpha = 0.05\n",
    "result = st.ttest_1samp(shooter_user_score['User_Score'], mean_user_score, alternative='greater')\n",
    "\n",
    "print(shooter_user_score['User_Score'].mean())\n",
    "print(result)\n",
    "\n",
    "if result.pvalue < alpha: \n",
    "    print('Отвергаем нулевую гипотезу, среднее значение оценок юзеров для шутеров больше 69 (юзеры критикам нравятся)')\n",
    "else:\n",
    "    print('Не отвергаем нулевую гипотезу, шутеры юзерам не нравятся')\n",
    "\n",
    "print('Пороговый уровень статистической значимости равен :', result.pvalue*100, '%')"
   ]
  },
  {
   "cell_type": "code",
   "execution_count": 20,
   "metadata": {},
   "outputs": [
    {
     "data": {
      "text/plain": [
       "Text(0.5, 1.0, 'Распределение оценок юзеров для шутеров')"
      ]
     },
     "execution_count": 20,
     "metadata": {},
     "output_type": "execute_result"
    },
    {
     "data": {
      "image/png": "[encoded data removed]",
      "text/plain": [
       "<Figure size 792x360 with 1 Axes>"
      ]
     },
     "metadata": {
      "needs_background": "light"
     },
     "output_type": "display_data"
    }
   ],
   "source": [
    "sns.histplot(shooter_user_score, x='User_Score', color='green')\n",
    "plt.title('Распределение оценок юзеров для шутеров')"
   ]
  },
  {
   "cell_type": "markdown",
   "metadata": {},
   "source": [
    "###### Среднее значение оценок юзеров для шутеров 70.4 что ниже среднего значения оценок по всем жанрам (71.6).\n",
    "###### Значение p-value очень высокое, поэтому мы не отвергаем нулевую гипотезу.\n",
    "###### Значение t-статистики отрицательно, и подтверждает то, что cреднее значение оценок юзеров для шутеров меньше среднего значения оценок юзеров по всем жанрам."
   ]
  },
  {
   "cell_type": "markdown",
   "metadata": {},
   "source": [
    "#### Вывод. Критикам наравятся шутеры, а юзерам - не нравятся."
   ]
  },
  {
   "cell_type": "code",
   "execution_count": null,
   "metadata": {},
   "outputs": [],
   "source": [
    "\n"
   ]
  },
  {
   "cell_type": "markdown",
   "metadata": {},
   "source": [
    "### 2.1 Критикам нравятся больше игры на XBOneX или на PS4?"
   ]
  },
  {
   "cell_type": "code",
   "execution_count": null,
   "metadata": {},
   "outputs": [],
   "source": []
  },
  {
   "cell_type": "code",
   "execution_count": null,
   "metadata": {},
   "outputs": [],
   "source": []
  },
  {
   "cell_type": "code",
   "execution_count": 5,
   "metadata": {},
   "outputs": [
    {
     "data": {
      "text/html": [
       "<div>\n",
       "<style scoped>\n",
       "    .dataframe tbody tr th:only-of-type {\n",
       "        vertical-align: middle;\n",
       "    }\n",
       "\n",
       "    .dataframe tbody tr th {\n",
       "        vertical-align: top;\n",
       "    }\n",
       "\n",
       "    .dataframe thead th {\n",
       "        text-align: right;\n",
       "    }\n",
       "</style>\n",
       "<table border=\"1\" class=\"dataframe\">\n",
       "  <thead>\n",
       "    <tr style=\"text-align: right;\">\n",
       "      <th></th>\n",
       "      <th>Platform</th>\n",
       "      <th>Critic_Score</th>\n",
       "    </tr>\n",
       "  </thead>\n",
       "  <tbody>\n",
       "    <tr>\n",
       "      <th>16</th>\n",
       "      <td>XOne</td>\n",
       "      <td>73.325444</td>\n",
       "    </tr>\n",
       "    <tr>\n",
       "      <th>9</th>\n",
       "      <td>PS4</td>\n",
       "      <td>72.091270</td>\n",
       "    </tr>\n",
       "  </tbody>\n",
       "</table>\n",
       "</div>"
      ],
      "text/plain": [
       "   Platform  Critic_Score\n",
       "16     XOne     73.325444\n",
       "9       PS4     72.091270"
      ]
     },
     "execution_count": 5,
     "metadata": {},
     "output_type": "execute_result"
    }
   ],
   "source": [
    "critic_score_platforms = critic_games.groupby('Platform').Critic_Score.mean().reset_index()\n",
    "critic_score_two_platforms = critic_score_platforms.sort_values('Critic_Score', ascending=False)\\\n",
    "                                                   .loc[critic_score_platforms.Platform.isin(['XOne','PS4'])]\n",
    "critic_score_two_platforms"
   ]
  },
  {
   "cell_type": "code",
   "execution_count": 6,
   "metadata": {},
   "outputs": [
    {
     "data": {
      "text/html": [
       "<div>\n",
       "<style scoped>\n",
       "    .dataframe tbody tr th:only-of-type {\n",
       "        vertical-align: middle;\n",
       "    }\n",
       "\n",
       "    .dataframe tbody tr th {\n",
       "        vertical-align: top;\n",
       "    }\n",
       "\n",
       "    .dataframe thead th {\n",
       "        text-align: right;\n",
       "    }\n",
       "</style>\n",
       "<table border=\"1\" class=\"dataframe\">\n",
       "  <thead>\n",
       "    <tr style=\"text-align: right;\">\n",
       "      <th></th>\n",
       "      <th>Platform</th>\n",
       "      <th>Critic_Score</th>\n",
       "    </tr>\n",
       "  </thead>\n",
       "  <tbody>\n",
       "    <tr>\n",
       "      <th>0</th>\n",
       "      <td>PS4</td>\n",
       "      <td>73.0</td>\n",
       "    </tr>\n",
       "    <tr>\n",
       "      <th>1</th>\n",
       "      <td>NaN</td>\n",
       "      <td>80.0</td>\n",
       "    </tr>\n",
       "  </tbody>\n",
       "</table>\n",
       "</div>"
      ],
      "text/plain": [
       "  Platform  Critic_Score\n",
       "0      PS4          73.0\n",
       "1      NaN          80.0"
      ]
     },
     "execution_count": 6,
     "metadata": {},
     "output_type": "execute_result"
    }
   ],
   "source": [
    "critic_score_platforms_mode = critic_games[['Platform', 'Critic_Score']]\n",
    "critic_score_platforms_mode.loc[critic_score_platforms_mode.Platform.isin(['XOne','PS4'])].mode()"
   ]
  },
  {
   "cell_type": "code",
   "execution_count": 23,
   "metadata": {},
   "outputs": [
    {
     "data": {
      "text/html": [
       "<div>\n",
       "<style scoped>\n",
       "    .dataframe tbody tr th:only-of-type {\n",
       "        vertical-align: middle;\n",
       "    }\n",
       "\n",
       "    .dataframe tbody tr th {\n",
       "        vertical-align: top;\n",
       "    }\n",
       "\n",
       "    .dataframe thead th {\n",
       "        text-align: right;\n",
       "    }\n",
       "</style>\n",
       "<table border=\"1\" class=\"dataframe\">\n",
       "  <thead>\n",
       "    <tr style=\"text-align: right;\">\n",
       "      <th></th>\n",
       "      <th>Platform</th>\n",
       "      <th>Critic_Count</th>\n",
       "    </tr>\n",
       "  </thead>\n",
       "  <tbody>\n",
       "    <tr>\n",
       "      <th>9</th>\n",
       "      <td>PS4</td>\n",
       "      <td>9820</td>\n",
       "    </tr>\n",
       "    <tr>\n",
       "      <th>16</th>\n",
       "      <td>XOne</td>\n",
       "      <td>4126</td>\n",
       "    </tr>\n",
       "  </tbody>\n",
       "</table>\n",
       "</div>"
      ],
      "text/plain": [
       "   Platform  Critic_Count\n",
       "9       PS4          9820\n",
       "16     XOne          4126"
      ]
     },
     "execution_count": 23,
     "metadata": {},
     "output_type": "execute_result"
    }
   ],
   "source": [
    "critic_count_platforms = critic_games.groupby('Platform').Critic_Count.sum().reset_index()\n",
    "critic_count_platforms.sort_values('Critic_Count', ascending=False).loc[critic_count_platforms.Platform.isin(['XOne','PS4'])]"
   ]
  },
  {
   "cell_type": "code",
   "execution_count": 24,
   "metadata": {},
   "outputs": [
    {
     "data": {
      "text/plain": [
       "<matplotlib.legend.Legend at 0x20537a72dc0>"
      ]
     },
     "execution_count": 24,
     "metadata": {},
     "output_type": "execute_result"
    },
    {
     "data": {
      "image/png": "[encoded data removed]",
      "text/plain": [
       "<Figure size 792x360 with 1 Axes>"
      ]
     },
     "metadata": {
      "needs_background": "light"
     },
     "output_type": "display_data"
    }
   ],
   "source": [
    "critic_XOne = critic_games.loc[critic_games.Platform.str.contains('XOne')]\n",
    "critic_PS4 = critic_games.loc[critic_games.Platform.str.contains('PS4')]\n",
    "sns.histplot(critic_XOne, x='Critic_Score', color='yellow')\n",
    "sns.histplot(critic_PS4, x='Critic_Score', color='blue')\n",
    "plt.title('Распределение оценок критиков для XOne и PS4')\n",
    "plt.legend(critic_score_two_platforms.Platform.unique())"
   ]
  },
  {
   "cell_type": "markdown",
   "metadata": {},
   "source": [
    "##### Из полученных df видно, следующее:  \n",
    " - средняя оценка критиков для XBOneX больше чем для PS4 (73.3 > 72.1);   \n",
    " - самая часто выстывляемая оценка критиков \"73.0\" для PS4;  \n",
    " - активность выставления оценок критиками для PS4 больше в два раза, чем для XBOneX.\n",
    " \n",
    "##### Соответственно, можно сделать вывод, что критикам почти одинаково нравятся игры на XBOneX и на PS4. (На XBOneX чуть больше). Распределение оценок на визуализации это подтверждает."
   ]
  },
  {
   "cell_type": "markdown",
   "metadata": {},
   "source": [
    "#### Гипотезы.\n",
    "###### H0: Критикам нравятся игры на PS4 не менее, чем на XBOneX, т.е. PS4.Critic_Score.mean() >= XOne.Critic_Score.mean()\n",
    "###### H1: Критикам нравятся игры на PS4 меньше, чем на XBOneX, т.е. PS4.Critic_Score.mean() < XOne.Critic_Score.mean()"
   ]
  },
  {
   "cell_type": "code",
   "execution_count": 25,
   "metadata": {},
   "outputs": [
    {
     "name": "stdout",
     "output_type": "stream",
     "text": [
      "Разница средних значений оценок критиков по платформам (XOne - PS4):  1.23\n",
      "Ttest_indResult(statistic=0.9722111994610444, pvalue=0.3316144158059794)\n",
      "Не отвергаем нулевую гипотезу, критикам нравятся игры на PS4 не меньше чем на XBOneX\n",
      "Пороговый уровень статистической значимости равен : 33.16144158059794 %\n"
     ]
    }
   ],
   "source": [
    "alpha = 0.05\n",
    "result = st.ttest_ind(critic_XOne.Critic_Score, critic_PS4.Critic_Score, equal_var = False)\n",
    "\n",
    "print('Разница средних значений оценок критиков по платформам (XOne - PS4): ',\\\n",
    "      round(critic_XOne.Critic_Score.mean() - critic_PS4.Critic_Score.mean(), 2))\n",
    "print(result)\n",
    "\n",
    "if result.pvalue < alpha:\n",
    "    print('Отвергаем нулевую гипотезу, среднее значение оценок критиков для PS4 меньше среднего значения оценок для XBOneX \\\n",
    "                    (критикам больше нравятся игры на XBOneX, чем на PS4)')\n",
    "else:\n",
    "    print('Не отвергаем нулевую гипотезу, критикам нравятся игры на PS4 не меньше чем на XBOneX')\n",
    "    \n",
    "print('Пороговый уровень статистической значимости равен :', result.pvalue*100, '%')"
   ]
  },
  {
   "cell_type": "markdown",
   "metadata": {},
   "source": [
    "###### Разница средних значений оценок критиков для игр на XBOneX и PS4 равна 1.23, что говорит о том, что критикам больше нравятся игры на XBOneX, чем на PS4.\n",
    "###### Значение p-value высокое, при котором мы не можем отвергнуть нулевую гипотезу при уровне значимости 5%.\n",
    "###### Значение t-статистики положительно, и подтверждает то, что критикам больше нравятся игры на XBOneX, чем на PS4."
   ]
  },
  {
   "cell_type": "code",
   "execution_count": null,
   "metadata": {},
   "outputs": [],
   "source": [
    "\n"
   ]
  },
  {
   "cell_type": "markdown",
   "metadata": {},
   "source": [
    "### 2.2 Юзерам нравятся больше игры на XBOneX или на PS4?"
   ]
  },
  {
   "cell_type": "code",
   "execution_count": 26,
   "metadata": {},
   "outputs": [
    {
     "data": {
      "text/html": [
       "<div>\n",
       "<style scoped>\n",
       "    .dataframe tbody tr th:only-of-type {\n",
       "        vertical-align: middle;\n",
       "    }\n",
       "\n",
       "    .dataframe tbody tr th {\n",
       "        vertical-align: top;\n",
       "    }\n",
       "\n",
       "    .dataframe thead th {\n",
       "        text-align: right;\n",
       "    }\n",
       "</style>\n",
       "<table border=\"1\" class=\"dataframe\">\n",
       "  <thead>\n",
       "    <tr style=\"text-align: right;\">\n",
       "      <th></th>\n",
       "      <th>Platform</th>\n",
       "      <th>User_Score</th>\n",
       "    </tr>\n",
       "  </thead>\n",
       "  <tbody>\n",
       "    <tr>\n",
       "      <th>9</th>\n",
       "      <td>PS4</td>\n",
       "      <td>67.482490</td>\n",
       "    </tr>\n",
       "    <tr>\n",
       "      <th>16</th>\n",
       "      <td>XOne</td>\n",
       "      <td>65.214286</td>\n",
       "    </tr>\n",
       "  </tbody>\n",
       "</table>\n",
       "</div>"
      ],
      "text/plain": [
       "   Platform  User_Score\n",
       "9       PS4   67.482490\n",
       "16     XOne   65.214286"
      ]
     },
     "execution_count": 26,
     "metadata": {},
     "output_type": "execute_result"
    }
   ],
   "source": [
    "user_score_platforms = user_games.groupby('Platform').User_Score.mean().reset_index()\n",
    "user_score_two_platforms = user_score_platforms.sort_values('User_Score', ascending=False)\\\n",
    "                                                   .loc[user_score_platforms.Platform.isin(['XOne','PS4'])]\n",
    "user_score_two_platforms"
   ]
  },
  {
   "cell_type": "code",
   "execution_count": 27,
   "metadata": {},
   "outputs": [
    {
     "data": {
      "text/html": [
       "<div>\n",
       "<style scoped>\n",
       "    .dataframe tbody tr th:only-of-type {\n",
       "        vertical-align: middle;\n",
       "    }\n",
       "\n",
       "    .dataframe tbody tr th {\n",
       "        vertical-align: top;\n",
       "    }\n",
       "\n",
       "    .dataframe thead th {\n",
       "        text-align: right;\n",
       "    }\n",
       "</style>\n",
       "<table border=\"1\" class=\"dataframe\">\n",
       "  <thead>\n",
       "    <tr style=\"text-align: right;\">\n",
       "      <th></th>\n",
       "      <th>Platform</th>\n",
       "      <th>User_Score</th>\n",
       "    </tr>\n",
       "  </thead>\n",
       "  <tbody>\n",
       "    <tr>\n",
       "      <th>0</th>\n",
       "      <td>PS4</td>\n",
       "      <td>71.0</td>\n",
       "    </tr>\n",
       "    <tr>\n",
       "      <th>1</th>\n",
       "      <td>NaN</td>\n",
       "      <td>81.0</td>\n",
       "    </tr>\n",
       "  </tbody>\n",
       "</table>\n",
       "</div>"
      ],
      "text/plain": [
       "  Platform  User_Score\n",
       "0      PS4        71.0\n",
       "1      NaN        81.0"
      ]
     },
     "execution_count": 27,
     "metadata": {},
     "output_type": "execute_result"
    }
   ],
   "source": [
    "user_score_platforms_mode = user_games[['Platform', 'User_Score']]\n",
    "user_score_platforms_mode.loc[user_score_platforms_mode.Platform.isin(['XOne','PS4'])].mode()"
   ]
  },
  {
   "cell_type": "code",
   "execution_count": 28,
   "metadata": {},
   "outputs": [
    {
     "data": {
      "text/html": [
       "<div>\n",
       "<style scoped>\n",
       "    .dataframe tbody tr th:only-of-type {\n",
       "        vertical-align: middle;\n",
       "    }\n",
       "\n",
       "    .dataframe tbody tr th {\n",
       "        vertical-align: top;\n",
       "    }\n",
       "\n",
       "    .dataframe thead th {\n",
       "        text-align: right;\n",
       "    }\n",
       "</style>\n",
       "<table border=\"1\" class=\"dataframe\">\n",
       "  <thead>\n",
       "    <tr style=\"text-align: right;\">\n",
       "      <th></th>\n",
       "      <th>Platform</th>\n",
       "      <th>User_Count</th>\n",
       "    </tr>\n",
       "  </thead>\n",
       "  <tbody>\n",
       "    <tr>\n",
       "      <th>9</th>\n",
       "      <td>PS4</td>\n",
       "      <td>133166</td>\n",
       "    </tr>\n",
       "    <tr>\n",
       "      <th>16</th>\n",
       "      <td>XOne</td>\n",
       "      <td>52010</td>\n",
       "    </tr>\n",
       "  </tbody>\n",
       "</table>\n",
       "</div>"
      ],
      "text/plain": [
       "   Platform  User_Count\n",
       "9       PS4      133166\n",
       "16     XOne       52010"
      ]
     },
     "execution_count": 28,
     "metadata": {},
     "output_type": "execute_result"
    }
   ],
   "source": [
    "user_count_platforms = user_games.groupby('Platform').User_Count.sum().reset_index()\n",
    "user_count_platforms.sort_values('User_Count', ascending=False).loc[user_count_platforms.Platform.isin(['XOne','PS4'])]"
   ]
  },
  {
   "cell_type": "code",
   "execution_count": 29,
   "metadata": {},
   "outputs": [
    {
     "data": {
      "text/plain": [
       "<matplotlib.legend.Legend at 0x20537b500d0>"
      ]
     },
     "execution_count": 29,
     "metadata": {},
     "output_type": "execute_result"
    },
    {
     "data": {
      "image/png": "[encoded data removed]",
      "text/plain": [
       "<Figure size 792x360 with 1 Axes>"
      ]
     },
     "metadata": {
      "needs_background": "light"
     },
     "output_type": "display_data"
    }
   ],
   "source": [
    "user_XOne = user_games.loc[user_games.Platform.str.contains('XOne')]\n",
    "user_PS4 = user_games.loc[user_games.Platform.str.contains('PS4')]\n",
    "sns.histplot(user_PS4, x='User_Score', color='green')\n",
    "sns.histplot(user_XOne, x='User_Score', color='red')\n",
    "plt.title('Распределение оценок юзеров для XOne и PS4')\n",
    "plt.legend(user_score_two_platforms.Platform.unique())"
   ]
  },
  {
   "cell_type": "markdown",
   "metadata": {},
   "source": [
    "##### Из полученных df видно, следующее:  \n",
    " - средняя оценка юзеров для PS4 больше чем для XBOneX (67.5 > 65.2);   \n",
    " - самая часто выстывляемая оценка юзеров \"71.0\" для PS4;  \n",
    " - активность выставления оценок юзерами для PS4 больше в два с половиной раза, чем для XBOneX.\n",
    " \n",
    "##### Соответственно, можно сделать вывод, что юзерам больше нравятся игры на PS4, чем на XBOneX. Распределение оценок на визуализации это подтверждает."
   ]
  },
  {
   "cell_type": "markdown",
   "metadata": {},
   "source": [
    "#### Гипотезы.\n",
    "###### H0: Юзерам нравятся игры на XBOneX не менее, чем на PS4, т.е. XOne.Critic_Score.mean() >= PS4.Critic_Score.mean()\n",
    "###### H1: Юзерам нравятся игры на XBOneX меньше, чем на PS4, т.е. XOne.Critic_Score.mean() < PS4.Critic_Score.mean()"
   ]
  },
  {
   "cell_type": "code",
   "execution_count": 30,
   "metadata": {},
   "outputs": [
    {
     "name": "stdout",
     "output_type": "stream",
     "text": [
      "Разница средних значений оценок критиков по платформам (PS4 - XOne):  2.27\n",
      "Ttest_indResult(statistic=-1.6557440803308, pvalue=0.09855299487302413)\n",
      "Не отвергаем нулевую гипотезу, юзерам нравятся игры на XBOneX не меньше чем на PS4\n",
      "Пороговый уровень статистической значимости равен : 9.855299487302412 %\n"
     ]
    }
   ],
   "source": [
    "alpha = 0.05\n",
    "result = st.ttest_ind(user_XOne.User_Score, user_PS4.User_Score, equal_var = False)\n",
    "\n",
    "print('Разница средних значений оценок критиков по платформам (PS4 - XOne): ',\\\n",
    "      round(user_PS4.User_Score.mean() - user_XOne.User_Score.mean(), 2))\n",
    "print(result)\n",
    "\n",
    "if result.pvalue < alpha:\n",
    "    print('Отвергаем нулевую гипотезу, среднее значение оценок юзеров для XBOneX меньше среднего значения оценок для PS4 \\\n",
    "                    (юзерам больше нравятся игры на PS4, чем на XBOneX)')\n",
    "else:\n",
    "    print('Не отвергаем нулевую гипотезу, юзерам нравятся игры на XBOneX не меньше чем на PS4')\n",
    "    \n",
    "print('Пороговый уровень статистической значимости равен :', result.pvalue*100, '%')"
   ]
  },
  {
   "cell_type": "markdown",
   "metadata": {},
   "source": [
    "###### Разница средних значений оценок юзеров для игр на PS4 и XBOneX равна 2.27, что говорит о том, что юзерам больше нравятся игры на PS4, чем на XBOneX.\n",
    "###### Значение p-value высокое, при котором мы не можем отвергнуть нулевую гипотезу, при 5-ти процентном уровне значимости."
   ]
  },
  {
   "cell_type": "markdown",
   "metadata": {},
   "source": [
    "#### Вывод. Критикам чуть больше нравятся игры на XBoneX, чем на PS4, а юзерам - наоборот. В целом - большой разницы нет."
   ]
  },
  {
   "cell_type": "code",
   "execution_count": null,
   "metadata": {},
   "outputs": [],
   "source": [
    "\n"
   ]
  },
  {
   "cell_type": "markdown",
   "metadata": {},
   "source": [
    "### 3.1 Критикам нравятся больше игры на XBox или на PlayStation?"
   ]
  },
  {
   "cell_type": "code",
   "execution_count": 31,
   "metadata": {},
   "outputs": [
    {
     "data": {
      "text/html": [
       "<div>\n",
       "<style scoped>\n",
       "    .dataframe tbody tr th:only-of-type {\n",
       "        vertical-align: middle;\n",
       "    }\n",
       "\n",
       "    .dataframe tbody tr th {\n",
       "        vertical-align: top;\n",
       "    }\n",
       "\n",
       "    .dataframe thead th {\n",
       "        text-align: right;\n",
       "    }\n",
       "</style>\n",
       "<table border=\"1\" class=\"dataframe\">\n",
       "  <thead>\n",
       "    <tr style=\"text-align: right;\">\n",
       "      <th></th>\n",
       "      <th>Platform_devs</th>\n",
       "      <th>Critic_Score</th>\n",
       "    </tr>\n",
       "  </thead>\n",
       "  <tbody>\n",
       "    <tr>\n",
       "      <th>2</th>\n",
       "      <td>PlayStation</td>\n",
       "      <td>69.802335</td>\n",
       "    </tr>\n",
       "    <tr>\n",
       "      <th>5</th>\n",
       "      <td>XBox</td>\n",
       "      <td>69.554144</td>\n",
       "    </tr>\n",
       "  </tbody>\n",
       "</table>\n",
       "</div>"
      ],
      "text/plain": [
       "  Platform_devs  Critic_Score\n",
       "2   PlayStation     69.802335\n",
       "5          XBox     69.554144"
      ]
     },
     "execution_count": 31,
     "metadata": {},
     "output_type": "execute_result"
    }
   ],
   "source": [
    "critic_score_platform_devs = critic_games.groupby('Platform_devs').Critic_Score.mean().reset_index()\n",
    "critic_score_two_platform_devs = critic_score_platform_devs.sort_values('Critic_Score', ascending=False)\\\n",
    "                                 .loc[critic_score_platform_devs.Platform_devs.isin(['XBox','PlayStation'])]\n",
    "critic_score_two_platform_devs"
   ]
  },
  {
   "cell_type": "code",
   "execution_count": 32,
   "metadata": {},
   "outputs": [
    {
     "data": {
      "text/html": [
       "<div>\n",
       "<style scoped>\n",
       "    .dataframe tbody tr th:only-of-type {\n",
       "        vertical-align: middle;\n",
       "    }\n",
       "\n",
       "    .dataframe tbody tr th {\n",
       "        vertical-align: top;\n",
       "    }\n",
       "\n",
       "    .dataframe thead th {\n",
       "        text-align: right;\n",
       "    }\n",
       "</style>\n",
       "<table border=\"1\" class=\"dataframe\">\n",
       "  <thead>\n",
       "    <tr style=\"text-align: right;\">\n",
       "      <th></th>\n",
       "      <th>Platform_devs</th>\n",
       "      <th>Critic_Score</th>\n",
       "    </tr>\n",
       "  </thead>\n",
       "  <tbody>\n",
       "    <tr>\n",
       "      <th>0</th>\n",
       "      <td>PlayStation</td>\n",
       "      <td>71.0</td>\n",
       "    </tr>\n",
       "  </tbody>\n",
       "</table>\n",
       "</div>"
      ],
      "text/plain": [
       "  Platform_devs  Critic_Score\n",
       "0   PlayStation          71.0"
      ]
     },
     "execution_count": 32,
     "metadata": {},
     "output_type": "execute_result"
    }
   ],
   "source": [
    "critic_score_platform_devs_mode = critic_games[['Platform_devs', 'Critic_Score']]\n",
    "critic_score_platform_devs_mode.loc[critic_score_platform_devs_mode.Platform_devs.isin(['XBox','PlayStation'])].mode()"
   ]
  },
  {
   "cell_type": "code",
   "execution_count": 33,
   "metadata": {},
   "outputs": [
    {
     "data": {
      "text/html": [
       "<div>\n",
       "<style scoped>\n",
       "    .dataframe tbody tr th:only-of-type {\n",
       "        vertical-align: middle;\n",
       "    }\n",
       "\n",
       "    .dataframe tbody tr th {\n",
       "        vertical-align: top;\n",
       "    }\n",
       "\n",
       "    .dataframe thead th {\n",
       "        text-align: right;\n",
       "    }\n",
       "</style>\n",
       "<table border=\"1\" class=\"dataframe\">\n",
       "  <thead>\n",
       "    <tr style=\"text-align: right;\">\n",
       "      <th></th>\n",
       "      <th>Platform_devs</th>\n",
       "      <th>Critic_Count</th>\n",
       "    </tr>\n",
       "  </thead>\n",
       "  <tbody>\n",
       "    <tr>\n",
       "      <th>2</th>\n",
       "      <td>PlayStation</td>\n",
       "      <td>70240</td>\n",
       "    </tr>\n",
       "    <tr>\n",
       "      <th>5</th>\n",
       "      <td>XBox</td>\n",
       "      <td>61828</td>\n",
       "    </tr>\n",
       "  </tbody>\n",
       "</table>\n",
       "</div>"
      ],
      "text/plain": [
       "  Platform_devs  Critic_Count\n",
       "2   PlayStation         70240\n",
       "5          XBox         61828"
      ]
     },
     "execution_count": 33,
     "metadata": {},
     "output_type": "execute_result"
    }
   ],
   "source": [
    "critic_count_platform_devs = critic_games.groupby('Platform_devs').Critic_Count.sum().reset_index()\n",
    "critic_count_platform_devs.sort_values('Critic_Count', ascending=False)\\\n",
    "                          .loc[critic_count_platform_devs.Platform_devs.isin(['XBox','PlayStation'])]"
   ]
  },
  {
   "cell_type": "code",
   "execution_count": 34,
   "metadata": {},
   "outputs": [
    {
     "data": {
      "text/plain": [
       "<matplotlib.legend.Legend at 0x20537c3f3a0>"
      ]
     },
     "execution_count": 34,
     "metadata": {},
     "output_type": "execute_result"
    },
    {
     "data": {
      "image/png": "[encoded data removed]",
      "text/plain": [
       "<Figure size 792x360 with 1 Axes>"
      ]
     },
     "metadata": {
      "needs_background": "light"
     },
     "output_type": "display_data"
    }
   ],
   "source": [
    "critic_XBox = critic_games.loc[critic_games.Platform_devs.str.contains('XBox')]\n",
    "critic_PlayStation = critic_games.loc[critic_games.Platform_devs.str.contains('PlayStation')]\n",
    "sns.histplot(critic_PlayStation, x='Critic_Score', color='blue')\n",
    "sns.histplot(critic_XBox, x='Critic_Score', color='orange')\n",
    "plt.title('Распределение оценок критиков для XBox и PlayStation')\n",
    "plt.legend(critic_score_two_platform_devs.Platform_devs.unique())"
   ]
  },
  {
   "cell_type": "markdown",
   "metadata": {},
   "source": [
    "##### Из полученных df видно, следующее:  \n",
    " - средняя оценка критиков для PlayStation чуть больше чем для XBox (69.8 > 69.6);   \n",
    " - самая часто выстывляемая оценка критиков \"71.0\" для PlayStation;  \n",
    " - активность выставления оценок критиками для PlayStation так же чуть больше, чем для XBox.\n",
    " \n",
    "##### Соответственно, можно сделать вывод, что критикам почти одинаково нравятся игры на PlayStation и на XBox."
   ]
  },
  {
   "cell_type": "markdown",
   "metadata": {},
   "source": [
    "#### Гипотезы.\n",
    "###### H0: Критикам нравятся игры на XBox не менее, чем на PlayStation т.е. XBox.Critic_Score.mean() >= PlayStation.Critic_Score.mean()\n",
    "###### H1: Критикам нравятся игры на XBox меньше, чем на PlayStation, т.е. XBox.Critic_Score.mean() < PlayStation.Critic_Score.mean()"
   ]
  },
  {
   "cell_type": "code",
   "execution_count": 35,
   "metadata": {},
   "outputs": [
    {
     "name": "stdout",
     "output_type": "stream",
     "text": [
      "Разница средних значений оценок критиков по платформам (XBox - PlayStation):  0.06\n",
      "Ttest_indResult(statistic=0.15083163260468913, pvalue=0.8801171830041199)\n",
      "Не отвергаем нулевую гипотезу, критикам нравятся игры на PlayStation не меньше чем на XBox\n",
      "Пороговый уровень статистической значимости равен : 88.01171830041199 %\n"
     ]
    }
   ],
   "source": [
    "alpha = 0.05\n",
    "result = st.ttest_ind(critic_XBox.Critic_Score, critic_PlayStation.Critic_Score, equal_var = False)\n",
    "\n",
    "print('Разница средних значений оценок критиков по платформам (XBox - PlayStation): ',\\\n",
    "      round(critic_XBox.Critic_Score.mean() - critic_PlayStation.Critic_Score.mean(), 2))\n",
    "print(result)\n",
    "\n",
    "if result.pvalue < alpha:\n",
    "    print('Отвергаем нулевую гипотезу, среднее значение оценок критиков для PlayStation меньше среднего значения оценок для\\\n",
    "            XBox (критикам больше нравятся игры на XBox, чем на PlayStation)')\n",
    "else:\n",
    "    print('Не отвергаем нулевую гипотезу, критикам нравятся игры на PlayStation не меньше чем на XBox')\n",
    "    \n",
    "print('Пороговый уровень статистической значимости равен :', result.pvalue*100, '%')"
   ]
  },
  {
   "cell_type": "markdown",
   "metadata": {},
   "source": [
    "###### Разница средних значений оценок критиков для игр на XBox и PlayStation равна 0.06, что говорит о том, что критикам чуть больше нравятся игры на XBox, чем на PlayStation.\n",
    "###### Значение p-value очень высокое, при котором мы не отвергаем нулевую гипотезу при уровне значимости 5%.\n",
    "###### Значение t-статистики положительно, и указывает на то, что критикам больше нравятся игры на XBox, чем на PlayStation."
   ]
  },
  {
   "cell_type": "code",
   "execution_count": null,
   "metadata": {},
   "outputs": [],
   "source": [
    "\n"
   ]
  },
  {
   "cell_type": "markdown",
   "metadata": {},
   "source": [
    "### 3.2 Юзерам нравятся больше игры на XBox или на PlayStation?"
   ]
  },
  {
   "cell_type": "code",
   "execution_count": 36,
   "metadata": {},
   "outputs": [
    {
     "data": {
      "text/html": [
       "<div>\n",
       "<style scoped>\n",
       "    .dataframe tbody tr th:only-of-type {\n",
       "        vertical-align: middle;\n",
       "    }\n",
       "\n",
       "    .dataframe tbody tr th {\n",
       "        vertical-align: top;\n",
       "    }\n",
       "\n",
       "    .dataframe thead th {\n",
       "        text-align: right;\n",
       "    }\n",
       "</style>\n",
       "<table border=\"1\" class=\"dataframe\">\n",
       "  <thead>\n",
       "    <tr style=\"text-align: right;\">\n",
       "      <th></th>\n",
       "      <th>Platform_devs</th>\n",
       "      <th>User_Score</th>\n",
       "    </tr>\n",
       "  </thead>\n",
       "  <tbody>\n",
       "    <tr>\n",
       "      <th>2</th>\n",
       "      <td>PlayStation</td>\n",
       "      <td>72.418605</td>\n",
       "    </tr>\n",
       "    <tr>\n",
       "      <th>5</th>\n",
       "      <td>XBox</td>\n",
       "      <td>69.426182</td>\n",
       "    </tr>\n",
       "  </tbody>\n",
       "</table>\n",
       "</div>"
      ],
      "text/plain": [
       "  Platform_devs  User_Score\n",
       "2   PlayStation   72.418605\n",
       "5          XBox   69.426182"
      ]
     },
     "execution_count": 36,
     "metadata": {},
     "output_type": "execute_result"
    }
   ],
   "source": [
    "user_score_platform_devs = user_games.groupby('Platform_devs').User_Score.mean().reset_index()\n",
    "user_score_two_platform_devs = user_score_platform_devs.sort_values('User_Score', ascending=False)\\\n",
    "                               .loc[user_score_platform_devs.Platform_devs.isin(['XBox','PlayStation'])]\n",
    "user_score_two_platform_devs"
   ]
  },
  {
   "cell_type": "code",
   "execution_count": 37,
   "metadata": {},
   "outputs": [
    {
     "data": {
      "text/html": [
       "<div>\n",
       "<style scoped>\n",
       "    .dataframe tbody tr th:only-of-type {\n",
       "        vertical-align: middle;\n",
       "    }\n",
       "\n",
       "    .dataframe tbody tr th {\n",
       "        vertical-align: top;\n",
       "    }\n",
       "\n",
       "    .dataframe thead th {\n",
       "        text-align: right;\n",
       "    }\n",
       "</style>\n",
       "<table border=\"1\" class=\"dataframe\">\n",
       "  <thead>\n",
       "    <tr style=\"text-align: right;\">\n",
       "      <th></th>\n",
       "      <th>Platform_devs</th>\n",
       "      <th>User_Score</th>\n",
       "    </tr>\n",
       "  </thead>\n",
       "  <tbody>\n",
       "    <tr>\n",
       "      <th>0</th>\n",
       "      <td>PlayStation</td>\n",
       "      <td>78.0</td>\n",
       "    </tr>\n",
       "  </tbody>\n",
       "</table>\n",
       "</div>"
      ],
      "text/plain": [
       "  Platform_devs  User_Score\n",
       "0   PlayStation        78.0"
      ]
     },
     "execution_count": 37,
     "metadata": {},
     "output_type": "execute_result"
    }
   ],
   "source": [
    "user_score_platform_devs_mode = user_games[['Platform_devs', 'User_Score']]\n",
    "user_score_platform_devs_mode.loc[user_score_platform_devs_mode.Platform_devs.isin(['XBox','PlayStation'])].mode()"
   ]
  },
  {
   "cell_type": "code",
   "execution_count": 38,
   "metadata": {},
   "outputs": [
    {
     "data": {
      "text/html": [
       "<div>\n",
       "<style scoped>\n",
       "    .dataframe tbody tr th:only-of-type {\n",
       "        vertical-align: middle;\n",
       "    }\n",
       "\n",
       "    .dataframe tbody tr th {\n",
       "        vertical-align: top;\n",
       "    }\n",
       "\n",
       "    .dataframe thead th {\n",
       "        text-align: right;\n",
       "    }\n",
       "</style>\n",
       "<table border=\"1\" class=\"dataframe\">\n",
       "  <thead>\n",
       "    <tr style=\"text-align: right;\">\n",
       "      <th></th>\n",
       "      <th>Platform_devs</th>\n",
       "      <th>User_Count</th>\n",
       "    </tr>\n",
       "  </thead>\n",
       "  <tbody>\n",
       "    <tr>\n",
       "      <th>2</th>\n",
       "      <td>PlayStation</td>\n",
       "      <td>379883</td>\n",
       "    </tr>\n",
       "    <tr>\n",
       "      <th>5</th>\n",
       "      <td>XBox</td>\n",
       "      <td>247019</td>\n",
       "    </tr>\n",
       "  </tbody>\n",
       "</table>\n",
       "</div>"
      ],
      "text/plain": [
       "  Platform_devs  User_Count\n",
       "2   PlayStation      379883\n",
       "5          XBox      247019"
      ]
     },
     "execution_count": 38,
     "metadata": {},
     "output_type": "execute_result"
    }
   ],
   "source": [
    "user_count_platform_devs = user_games.groupby('Platform_devs').User_Count.sum().reset_index()\n",
    "user_count_platform_devs.sort_values('User_Count', ascending=False)\\\n",
    "                        .loc[user_count_platform_devs.Platform_devs.isin(['XBox','PlayStation'])]"
   ]
  },
  {
   "cell_type": "code",
   "execution_count": 39,
   "metadata": {},
   "outputs": [
    {
     "data": {
      "text/plain": [
       "<matplotlib.legend.Legend at 0x20537d6a250>"
      ]
     },
     "execution_count": 39,
     "metadata": {},
     "output_type": "execute_result"
    },
    {
     "data": {
      "image/png": "[encoded data removed]",
      "text/plain": [
       "<Figure size 792x360 with 1 Axes>"
      ]
     },
     "metadata": {
      "needs_background": "light"
     },
     "output_type": "display_data"
    }
   ],
   "source": [
    "user_XBox = user_games.loc[user_games.Platform_devs.str.contains('XBox')]\n",
    "user_PlayStation = user_games.loc[user_games.Platform_devs.str.contains('PlayStation')]\n",
    "sns.histplot(user_PlayStation, x='User_Score', color='green')\n",
    "sns.histplot(user_XBox, x='User_Score', color='yellow')\n",
    "plt.title('Распределение оценок юзеров для XBox и PlayStation')\n",
    "plt.legend(user_score_two_platform_devs.Platform_devs.unique())"
   ]
  },
  {
   "cell_type": "markdown",
   "metadata": {},
   "source": [
    "##### Из полученных df видно, следующее:  \n",
    " - средняя оценка юзеров для PlayStation больше чем для XBox (72.4 > 69.4);   \n",
    " - самая часто выстывляемая оценка критиков \"78.0\" для PlayStation;  \n",
    " - активность выставления оценок критиками для PlayStation в полтора раза больше, чем для XBox.\n",
    " \n",
    "##### Соответственно, можно сделать вывод, что юзерам больше нравятся игры на PlayStation чем на XBox."
   ]
  },
  {
   "cell_type": "markdown",
   "metadata": {},
   "source": [
    "#### Гипотезы.\n",
    "###### H0: Юзерам нравятся игры на XBox не менее, чем на PlayStation т.е. XBox.User_Score.mean() >= PlayStation.User_Score.mean()\n",
    "###### H1: Юзерам нравятся игры на XBox меньше, чем на PlayStation, т.е. XBox.User_Score.mean() < PlayStation.User_Score.mean()"
   ]
  },
  {
   "cell_type": "code",
   "execution_count": 40,
   "metadata": {},
   "outputs": [
    {
     "name": "stdout",
     "output_type": "stream",
     "text": [
      "Разница средних значений оценок критиков по платформам (PlayStation - XBox):  3.02\n",
      "Ttest_indResult(statistic=-6.7965317639060565, pvalue=1.2600160460610901e-11)\n",
      "Отвергаем нулевую гипотезу, среднее значение оценок юзеров для XBox меньше среднего значения оценок для PlayStation                    (юзерам больше нравятся игры на PlayStation, чем на XBox)\n",
      "Пороговый уровень статистической значимости равен : 1.2600160460610901e-09 %\n"
     ]
    }
   ],
   "source": [
    "alpha = 0.05\n",
    "result = st.ttest_ind(user_XBox.User_Score, user_PlayStation.User_Score, equal_var = False)\n",
    "\n",
    "print('Разница средних значений оценок критиков по платформам (PlayStation - XBox): ',\\\n",
    "      round(user_PlayStation.User_Score.mean() - user_XBox.User_Score.mean(), 2))\n",
    "print(result)\n",
    "\n",
    "if result.pvalue < alpha:\n",
    "    print('Отвергаем нулевую гипотезу, среднее значение оценок юзеров для XBox меньше среднего значения оценок для PlayStation\\\n",
    "                    (юзерам больше нравятся игры на PlayStation, чем на XBox)')\n",
    "else:\n",
    "    print('Не отвергаем нулевую гипотезу, критикам нравятся игры на XBox не меньше чем на PlayStation')\n",
    "    \n",
    "print('Пороговый уровень статистической значимости равен :', result.pvalue*100, '%')"
   ]
  },
  {
   "cell_type": "markdown",
   "metadata": {},
   "source": [
    "###### Разница средних значений оценок юзеров для игр на XBox и PlayStation равна 3.02, что говорит о том, что юзерам больше нравятся игры на PlayStation, чем на XBox.\n",
    "###### Значение p-value низкое, при котором мы отвергаем нулевую гипотезу при уровне значимости 5%.\n",
    "###### Значение t-статистики отрицательно."
   ]
  },
  {
   "cell_type": "markdown",
   "metadata": {},
   "source": [
    "#### Вывод. Критикам чуть больше, почти одинаково, нравятся игры на XBox, чем на PlayStation, а юзерам, однозначно, игры на PlayStation, нравятся больше, чем на XBox."
   ]
  },
  {
   "cell_type": "code",
   "execution_count": null,
   "metadata": {},
   "outputs": [],
   "source": [
    "\n"
   ]
  },
  {
   "cell_type": "markdown",
   "metadata": {},
   "source": [
    "<p style=\"align: left;\"><img align=left src=\"data:image/png;base64,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\"  width=400></p>\n",
    "<p style=\"align: right;\"><img align=right src=\"data:image/png;base64,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\"  width=380></p>"
   ]
  },
  {
   "cell_type": "markdown",
   "metadata": {},
   "source": [
    "### 4. Критикам больше нравятся шутеры или приключения?"
   ]
  },
  {
   "cell_type": "code",
   "execution_count": 41,
   "metadata": {},
   "outputs": [
    {
     "data": {
      "text/html": [
       "<div>\n",
       "<style scoped>\n",
       "    .dataframe tbody tr th:only-of-type {\n",
       "        vertical-align: middle;\n",
       "    }\n",
       "\n",
       "    .dataframe tbody tr th {\n",
       "        vertical-align: top;\n",
       "    }\n",
       "\n",
       "    .dataframe thead th {\n",
       "        text-align: right;\n",
       "    }\n",
       "</style>\n",
       "<table border=\"1\" class=\"dataframe\">\n",
       "  <thead>\n",
       "    <tr style=\"text-align: right;\">\n",
       "      <th></th>\n",
       "      <th>Genre</th>\n",
       "      <th>Critic_Score</th>\n",
       "    </tr>\n",
       "  </thead>\n",
       "  <tbody>\n",
       "    <tr>\n",
       "      <th>8</th>\n",
       "      <td>Shooter</td>\n",
       "      <td>70.181144</td>\n",
       "    </tr>\n",
       "    <tr>\n",
       "      <th>1</th>\n",
       "      <td>Adventure</td>\n",
       "      <td>65.331269</td>\n",
       "    </tr>\n",
       "  </tbody>\n",
       "</table>\n",
       "</div>"
      ],
      "text/plain": [
       "       Genre  Critic_Score\n",
       "8    Shooter     70.181144\n",
       "1  Adventure     65.331269"
      ]
     },
     "execution_count": 41,
     "metadata": {},
     "output_type": "execute_result"
    }
   ],
   "source": [
    "critic_score_genres = critic_games.groupby('Genre').Critic_Score.mean().reset_index()\n",
    "critic_score_two_genres = critic_score_genres.sort_values('Critic_Score', ascending=False)\\\n",
    "                                             .loc[critic_score_genres.Genre.isin(['Shooter', 'Adventure'])]\n",
    "critic_score_two_genres"
   ]
  },
  {
   "cell_type": "code",
   "execution_count": 42,
   "metadata": {},
   "outputs": [
    {
     "data": {
      "text/html": [
       "<div>\n",
       "<style scoped>\n",
       "    .dataframe tbody tr th:only-of-type {\n",
       "        vertical-align: middle;\n",
       "    }\n",
       "\n",
       "    .dataframe tbody tr th {\n",
       "        vertical-align: top;\n",
       "    }\n",
       "\n",
       "    .dataframe thead th {\n",
       "        text-align: right;\n",
       "    }\n",
       "</style>\n",
       "<table border=\"1\" class=\"dataframe\">\n",
       "  <thead>\n",
       "    <tr style=\"text-align: right;\">\n",
       "      <th></th>\n",
       "      <th>Genre</th>\n",
       "      <th>Critic_Score</th>\n",
       "    </tr>\n",
       "  </thead>\n",
       "  <tbody>\n",
       "    <tr>\n",
       "      <th>0</th>\n",
       "      <td>Shooter</td>\n",
       "      <td>78.0</td>\n",
       "    </tr>\n",
       "  </tbody>\n",
       "</table>\n",
       "</div>"
      ],
      "text/plain": [
       "     Genre  Critic_Score\n",
       "0  Shooter          78.0"
      ]
     },
     "execution_count": 42,
     "metadata": {},
     "output_type": "execute_result"
    }
   ],
   "source": [
    "critic_score_genres_mode = critic_games[['Genre', 'Critic_Score']]\n",
    "critic_score_genres_mode.loc[critic_score_genres_mode.Genre.isin(['Shooter', 'Adventure'])].mode()"
   ]
  },
  {
   "cell_type": "code",
   "execution_count": 43,
   "metadata": {},
   "outputs": [
    {
     "data": {
      "text/html": [
       "<div>\n",
       "<style scoped>\n",
       "    .dataframe tbody tr th:only-of-type {\n",
       "        vertical-align: middle;\n",
       "    }\n",
       "\n",
       "    .dataframe tbody tr th {\n",
       "        vertical-align: top;\n",
       "    }\n",
       "\n",
       "    .dataframe thead th {\n",
       "        text-align: right;\n",
       "    }\n",
       "</style>\n",
       "<table border=\"1\" class=\"dataframe\">\n",
       "  <thead>\n",
       "    <tr style=\"text-align: right;\">\n",
       "      <th></th>\n",
       "      <th>Genre</th>\n",
       "      <th>Critic_Count</th>\n",
       "    </tr>\n",
       "  </thead>\n",
       "  <tbody>\n",
       "    <tr>\n",
       "      <th>8</th>\n",
       "      <td>Shooter</td>\n",
       "      <td>33616</td>\n",
       "    </tr>\n",
       "    <tr>\n",
       "      <th>1</th>\n",
       "      <td>Adventure</td>\n",
       "      <td>7143</td>\n",
       "    </tr>\n",
       "  </tbody>\n",
       "</table>\n",
       "</div>"
      ],
      "text/plain": [
       "       Genre  Critic_Count\n",
       "8    Shooter         33616\n",
       "1  Adventure          7143"
      ]
     },
     "execution_count": 43,
     "metadata": {},
     "output_type": "execute_result"
    }
   ],
   "source": [
    "critic_count_genres = critic_games.groupby('Genre').Critic_Count.sum().reset_index()\n",
    "critic_count_genres.sort_values('Critic_Count', ascending=False).loc[critic_count_genres.Genre.isin(['Shooter', 'Adventure'])]"
   ]
  },
  {
   "cell_type": "code",
   "execution_count": 44,
   "metadata": {},
   "outputs": [
    {
     "data": {
      "text/plain": [
       "<matplotlib.legend.Legend at 0x20537afcd60>"
      ]
     },
     "execution_count": 44,
     "metadata": {},
     "output_type": "execute_result"
    },
    {
     "data": {
      "image/png": "[encoded data removed]",
      "text/plain": [
       "<Figure size 792x360 with 1 Axes>"
      ]
     },
     "metadata": {
      "needs_background": "light"
     },
     "output_type": "display_data"
    }
   ],
   "source": [
    "Shooter = critic_games.loc[critic_games.Genre.str.contains('Shooter')]\n",
    "Adventure = critic_games.loc[critic_games.Genre.str.contains('Adventure')]\n",
    "sns.histplot(Shooter, x='Critic_Score', color='orange')\n",
    "sns.histplot(Adventure, x='Critic_Score', color='black')\n",
    "plt.title('Распределение оценок критиков для шутеров и приключений')\n",
    "critic_score_plt = critic_score_two_genres.sort_values('Critic_Score', ascending=True)\n",
    "plt.legend(critic_score_two_genres.Genre.unique())"
   ]
  },
  {
   "cell_type": "markdown",
   "metadata": {},
   "source": [
    "##### Из полученных df видно, следующее:  \n",
    " - средняя оценка для Шутеров больше, чем для Приключений (70.2 > 65.3);   \n",
    " - при этом самая часто выстывляемая оценка \"78.0\" принадлежит Шутерам;  \n",
    " - и активность выставления оценок критиками за Шутеры больше в 4,7 раза, чем за Приключения;  \n",
    " - визуализация показывает, что для Шутеров оценки критиками выставлялись активнее, чем для Приключений."
   ]
  },
  {
   "cell_type": "markdown",
   "metadata": {},
   "source": [
    "##### Исходя из полученных рузультатов предполагаю, что критикам больше нравятся Шутеры, чем Приключения."
   ]
  },
  {
   "cell_type": "markdown",
   "metadata": {},
   "source": [
    "#### Гипотезы.\n",
    "###### H0: Критикам нравятся Приключения не менее, чем Шутеры, т.е. Adventure.Critic_Count.sum() >= Shooter.Critic_Count.sum()\n",
    "###### H1: Критикам нравятся Приключения меньше, чем Шутеры, т.е. Adventure.Critic_Count.sum() < Shooter.Critic_Count.sum()"
   ]
  },
  {
   "cell_type": "code",
   "execution_count": 45,
   "metadata": {},
   "outputs": [
    {
     "name": "stdout",
     "output_type": "stream",
     "text": [
      "Отношение количества критиков, выставляемых оценки по жанрам (Shooter / Adventure):  4.71\n",
      "Ttest_indResult(statistic=10.857710912880462, pvalue=2.397473516259628e-25)\n",
      "Отвергаем нулевую гипотезу, количество критиков, выставляемых оценок для Приключений меньше количества критиков, выставляемых оценки для Шутеров (критикам больше нравятся Шутеры, чем Приключения)\n",
      "Пороговый уровень статистической значимости равен : 2.3974735162596278e-23 %\n"
     ]
    }
   ],
   "source": [
    "alpha = 0.05\n",
    "result = st.ttest_ind(Shooter.Critic_Count, Adventure.Critic_Count, equal_var = False)\n",
    "\n",
    "print('Отношение количества критиков, выставляемых оценки по жанрам (Shooter / Adventure): ',\\\n",
    "      round(Shooter.Critic_Count.sum() / Adventure.Critic_Count.sum(), 2))\n",
    "print(result)\n",
    "\n",
    "if result.pvalue < alpha:\n",
    "    print('Отвергаем нулевую гипотезу, количество критиков, выставляемых оценок для Приключений меньше количества критиков, \\\n",
    "выставляемых оценки для Шутеров (критикам больше нравятся Шутеры, чем Приключения)')\n",
    "else:\n",
    "    print('Не отвергаем нулевую гипотезу, критикам нравятся Приключения не меньше чем Шутеры')\n",
    "    \n",
    "print('Пороговый уровень статистической значимости равен :', result.pvalue*100, '%')"
   ]
  },
  {
   "cell_type": "markdown",
   "metadata": {},
   "source": [
    "###### Отношение средних значений количеств критиков, выставляемых оценки по жанрам (Shooter / Adventure) равна 4.71, что говорит о том, что критики больше проявляют интерес к Шутерам, чем к Приключениям.\n",
    "###### Значение p-value низкое, при котором мы, без сомнений,  отвергаем нулевую гипотезу.\n",
    "###### Значение t-статистики положительно, и подтверждает то, что критикам больше нравятся Шутеры, чем Приключения."
   ]
  },
  {
   "cell_type": "code",
   "execution_count": null,
   "metadata": {},
   "outputs": [],
   "source": []
  },
  {
   "cell_type": "markdown",
   "metadata": {},
   "source": [
    "#### Гипотезы.\n",
    "###### H0: Критикам нравятся Приключения не менее, чем Шутеры, т.е. Adventure.Critic_Score.mean() >= Shooter.Critic_Score.mean()\n",
    "###### H1: Критикам нравятся Приключения меньше, чем Шутеры, т.е. Adventure.Critic_Score.mean() < Shooter.Critic_Score.mean()"
   ]
  },
  {
   "cell_type": "code",
   "execution_count": 46,
   "metadata": {},
   "outputs": [
    {
     "name": "stdout",
     "output_type": "stream",
     "text": [
      "Разница средних значений оценок критиков по жанрам (Shooter - Adventure):  4.85\n",
      "Ttest_indResult(statistic=5.341798187717518, pvalue=1.323648972273686e-07)\n",
      "Отвергаем нулевую гипотезу, среднее значение оценок критиков для Приключений меньше среднего значения оценок                    критиков для Шутеров (критикам больше нравятся Шутеры, чем Приключения)\n",
      "Пороговый уровень статистической значимости равен : 1.323648972273686e-05 %\n"
     ]
    }
   ],
   "source": [
    "alpha = 0.05\n",
    "result = st.ttest_ind(Shooter.Critic_Score, Adventure.Critic_Score, equal_var = False)\n",
    "\n",
    "print('Разница средних значений оценок критиков по жанрам (Shooter - Adventure): ',\\\n",
    "      round(Shooter.Critic_Score.mean() - Adventure.Critic_Score.mean(), 2))\n",
    "print(result)\n",
    "\n",
    "if result.pvalue < alpha:\n",
    "    print('Отвергаем нулевую гипотезу, среднее значение оценок критиков для Приключений меньше среднего значения оценок\\\n",
    "                    критиков для Шутеров (критикам больше нравятся Шутеры, чем Приключения)')\n",
    "else:\n",
    "    print('Не отвергаем нулевую гипотезу, критикам нравятся Приключения не меньше чем Шутеры')\n",
    "    \n",
    "print('Пороговый уровень статистической значимости равен :', result.pvalue*100, '%')"
   ]
  },
  {
   "cell_type": "markdown",
   "metadata": {},
   "source": [
    "#### Вывод. Критикам, однозначно, больше нравятся игры в жанре Шутеры, чем Приключения."
   ]
  },
  {
   "cell_type": "code",
   "execution_count": null,
   "metadata": {},
   "outputs": [],
   "source": [
    "\n"
   ]
  },
  {
   "cell_type": "markdown",
   "metadata": {},
   "source": [
    "### 5. Юзерам больше нравятся симуляторы или бои?"
   ]
  },
  {
   "cell_type": "code",
   "execution_count": 47,
   "metadata": {},
   "outputs": [
    {
     "data": {
      "text/html": [
       "<div>\n",
       "<style scoped>\n",
       "    .dataframe tbody tr th:only-of-type {\n",
       "        vertical-align: middle;\n",
       "    }\n",
       "\n",
       "    .dataframe tbody tr th {\n",
       "        vertical-align: top;\n",
       "    }\n",
       "\n",
       "    .dataframe thead th {\n",
       "        text-align: right;\n",
       "    }\n",
       "</style>\n",
       "<table border=\"1\" class=\"dataframe\">\n",
       "  <thead>\n",
       "    <tr style=\"text-align: right;\">\n",
       "      <th></th>\n",
       "      <th>Genre</th>\n",
       "      <th>User_Score</th>\n",
       "    </tr>\n",
       "  </thead>\n",
       "  <tbody>\n",
       "    <tr>\n",
       "      <th>2</th>\n",
       "      <td>Fighting</td>\n",
       "      <td>73.025063</td>\n",
       "    </tr>\n",
       "    <tr>\n",
       "      <th>9</th>\n",
       "      <td>Simulation</td>\n",
       "      <td>71.345930</td>\n",
       "    </tr>\n",
       "  </tbody>\n",
       "</table>\n",
       "</div>"
      ],
      "text/plain": [
       "        Genre  User_Score\n",
       "2    Fighting   73.025063\n",
       "9  Simulation   71.345930"
      ]
     },
     "execution_count": 47,
     "metadata": {},
     "output_type": "execute_result"
    }
   ],
   "source": [
    "user_score_genres = user_games.groupby('Genre').User_Score.mean().reset_index()\n",
    "user_score_two_genres = user_score_genres.sort_values('User_Score', ascending=False)\\\n",
    "                                         .loc[user_score_genres.Genre.isin(['Simulation', 'Fighting'])]\n",
    "user_score_two_genres"
   ]
  },
  {
   "cell_type": "code",
   "execution_count": 48,
   "metadata": {},
   "outputs": [
    {
     "data": {
      "text/html": [
       "<div>\n",
       "<style scoped>\n",
       "    .dataframe tbody tr th:only-of-type {\n",
       "        vertical-align: middle;\n",
       "    }\n",
       "\n",
       "    .dataframe tbody tr th {\n",
       "        vertical-align: top;\n",
       "    }\n",
       "\n",
       "    .dataframe thead th {\n",
       "        text-align: right;\n",
       "    }\n",
       "</style>\n",
       "<table border=\"1\" class=\"dataframe\">\n",
       "  <thead>\n",
       "    <tr style=\"text-align: right;\">\n",
       "      <th></th>\n",
       "      <th>Genre</th>\n",
       "      <th>User_Score</th>\n",
       "    </tr>\n",
       "  </thead>\n",
       "  <tbody>\n",
       "    <tr>\n",
       "      <th>0</th>\n",
       "      <td>Fighting</td>\n",
       "      <td>79.0</td>\n",
       "    </tr>\n",
       "  </tbody>\n",
       "</table>\n",
       "</div>"
      ],
      "text/plain": [
       "      Genre  User_Score\n",
       "0  Fighting        79.0"
      ]
     },
     "execution_count": 48,
     "metadata": {},
     "output_type": "execute_result"
    }
   ],
   "source": [
    "user_score_genres_mode = user_games[['Genre', 'User_Score']]\n",
    "user_score_genres_mode.loc[user_score_genres_mode.Genre.isin(['Simulation', 'Fighting'])].mode()"
   ]
  },
  {
   "cell_type": "code",
   "execution_count": 49,
   "metadata": {},
   "outputs": [
    {
     "data": {
      "text/html": [
       "<div>\n",
       "<style scoped>\n",
       "    .dataframe tbody tr th:only-of-type {\n",
       "        vertical-align: middle;\n",
       "    }\n",
       "\n",
       "    .dataframe tbody tr th {\n",
       "        vertical-align: top;\n",
       "    }\n",
       "\n",
       "    .dataframe thead th {\n",
       "        text-align: right;\n",
       "    }\n",
       "</style>\n",
       "<table border=\"1\" class=\"dataframe\">\n",
       "  <thead>\n",
       "    <tr style=\"text-align: right;\">\n",
       "      <th></th>\n",
       "      <th>Genre</th>\n",
       "      <th>User_Count</th>\n",
       "    </tr>\n",
       "  </thead>\n",
       "  <tbody>\n",
       "    <tr>\n",
       "      <th>9</th>\n",
       "      <td>Simulation</td>\n",
       "      <td>28434</td>\n",
       "    </tr>\n",
       "    <tr>\n",
       "      <th>2</th>\n",
       "      <td>Fighting</td>\n",
       "      <td>25907</td>\n",
       "    </tr>\n",
       "  </tbody>\n",
       "</table>\n",
       "</div>"
      ],
      "text/plain": [
       "        Genre  User_Count\n",
       "9  Simulation       28434\n",
       "2    Fighting       25907"
      ]
     },
     "execution_count": 49,
     "metadata": {},
     "output_type": "execute_result"
    }
   ],
   "source": [
    "user_count_genres = user_games.groupby('Genre').User_Count.sum().reset_index()\n",
    "user_count_genres.sort_values('User_Count', ascending=False).loc[user_count_genres.Genre.isin(['Simulation', 'Fighting'])]"
   ]
  },
  {
   "cell_type": "code",
   "execution_count": 50,
   "metadata": {},
   "outputs": [
    {
     "data": {
      "text/plain": [
       "<matplotlib.legend.Legend at 0x20537e97bb0>"
      ]
     },
     "execution_count": 50,
     "metadata": {},
     "output_type": "execute_result"
    },
    {
     "data": {
      "image/png": "[encoded data removed]",
      "text/plain": [
       "<Figure size 792x360 with 1 Axes>"
      ]
     },
     "metadata": {
      "needs_background": "light"
     },
     "output_type": "display_data"
    }
   ],
   "source": [
    "Simulation = user_games.loc[user_games.Genre.str.contains('Simulation')]\n",
    "Fighting = user_games.loc[user_games.Genre.str.contains('Fighting')]\n",
    "sns.histplot(Fighting, x='User_Score', color='black')\n",
    "sns.histplot(Simulation, x='User_Score', color='red')\n",
    "plt.title('Распределение оценок юзеров для симуляторов и боёв')\n",
    "user_score_plt = user_score_two_genres.sort_values('User_Score', ascending=True)\n",
    "plt.legend(user_score_two_genres.Genre.unique())"
   ]
  },
  {
   "cell_type": "markdown",
   "metadata": {},
   "source": [
    "##### Из полученных df видно, следующее:  \n",
    " - средняя оценка для Боёв больше, чем для Симуляторов (73.0 > 71.4);   \n",
    " - самая часто выстывляемая оценка \"79.0\" принадлежит Боям;  \n",
    " - активность выставления оценок юзерами за Симуляторы больше, чем за Бои. "
   ]
  },
  {
   "cell_type": "markdown",
   "metadata": {},
   "source": [
    "#### Гипотезы.\n",
    "###### H0: Юзерам нравятся Симуляторы не менее, чем Бои, т.е. Simulation.User_Score.mean() >= Fighting.User_Score.mean()\n",
    "###### H1: Критикам нравятся Симуляторы меньше, чем Бои, т.е. Simulation.User_Score.mean() < Fighting.User_Score.mean()"
   ]
  },
  {
   "cell_type": "code",
   "execution_count": 51,
   "metadata": {},
   "outputs": [
    {
     "name": "stdout",
     "output_type": "stream",
     "text": [
      "Разница средних значений оценок юзеров по жанрам (Fighting - Simulation):  1.68\n",
      "Ttest_indResult(statistic=1.497428653471629, pvalue=0.13474356860563838)\n",
      "Не отвергаем нулевую гипотезу, критикам нравятся Симуляторы не меньше чем Бои\n",
      "Пороговый уровень статистической значимости равен : 13.474356860563837 %\n"
     ]
    }
   ],
   "source": [
    "alpha = 0.05\n",
    "result = st.ttest_ind(Fighting.User_Score, Simulation.User_Score, equal_var = False)\n",
    "\n",
    "print('Разница средних значений оценок юзеров по жанрам (Fighting - Simulation): ',\\\n",
    "      round(Fighting.User_Score.mean() - Simulation.User_Score.mean(), 2))\n",
    "print(result)\n",
    "\n",
    "if result.pvalue < alpha:\n",
    "    print('Отвергаем нулевую гипотезу, среднее значение оценок юзеров для Бои меньше среднего значения оценок юзеров\\\n",
    "                      для Симуляторов (критикам больше нравятся Симуляторы, чем Бои)')\n",
    "else:\n",
    "    print('Не отвергаем нулевую гипотезу, критикам нравятся Симуляторы не меньше чем Бои')\n",
    "    \n",
    "print('Пороговый уровень статистической значимости равен :', result.pvalue*100, '%')"
   ]
  },
  {
   "cell_type": "markdown",
   "metadata": {},
   "source": [
    "###### Разница средних значений оценок юзеров для игр в жанрах Бои и Симуляторы равна 1.68, что говорит о том, что юзерам больше нравятся Бои, чем Симуляторы.\n",
    "###### Значение p-value высокое, при котором мы не отвергаем нулевую гипотезу при уровне значимости 5%.\n",
    "###### Значение t-статистики положительно, что подтверждает больший интерес к Боям нежели к Симуляторам."
   ]
  },
  {
   "cell_type": "markdown",
   "metadata": {},
   "source": [
    "#### Вывод. Юзерам чуть больше нравятся игры в жанре Бои, чем Симуляторы."
   ]
  },
  {
   "cell_type": "code",
   "execution_count": null,
   "metadata": {},
   "outputs": [],
   "source": [
    "\n"
   ]
  },
  {
   "cell_type": "code",
   "execution_count": 52,
   "metadata": {},
   "outputs": [
    {
     "name": "stdout",
     "output_type": "stream",
     "text": [
      "TOP10 игр наиболее поравившихся критикам: \n"
     ]
    },
    {
     "data": {
      "text/html": [
       "<div>\n",
       "<style scoped>\n",
       "    .dataframe tbody tr th:only-of-type {\n",
       "        vertical-align: middle;\n",
       "    }\n",
       "\n",
       "    .dataframe tbody tr th {\n",
       "        vertical-align: top;\n",
       "    }\n",
       "\n",
       "    .dataframe thead th {\n",
       "        text-align: right;\n",
       "    }\n",
       "</style>\n",
       "<table border=\"1\" class=\"dataframe\">\n",
       "  <thead>\n",
       "    <tr style=\"text-align: right;\">\n",
       "      <th></th>\n",
       "      <th>Name</th>\n",
       "      <th>Critic_Score</th>\n",
       "    </tr>\n",
       "  </thead>\n",
       "  <tbody>\n",
       "    <tr>\n",
       "      <th>3877</th>\n",
       "      <td>SoulCalibur</td>\n",
       "      <td>98.0</td>\n",
       "    </tr>\n",
       "    <tr>\n",
       "      <th>2553</th>\n",
       "      <td>Metroid Prime</td>\n",
       "      <td>97.0</td>\n",
       "    </tr>\n",
       "    <tr>\n",
       "      <th>2828</th>\n",
       "      <td>NFL 2K1</td>\n",
       "      <td>97.0</td>\n",
       "    </tr>\n",
       "    <tr>\n",
       "      <th>4104</th>\n",
       "      <td>Super Mario Galaxy</td>\n",
       "      <td>97.0</td>\n",
       "    </tr>\n",
       "    <tr>\n",
       "      <th>4105</th>\n",
       "      <td>Super Mario Galaxy 2</td>\n",
       "      <td>97.0</td>\n",
       "    </tr>\n",
       "    <tr>\n",
       "      <th>1735</th>\n",
       "      <td>Grand Theft Auto V</td>\n",
       "      <td>96.8</td>\n",
       "    </tr>\n",
       "    <tr>\n",
       "      <th>4582</th>\n",
       "      <td>Tony Hawk's Pro Skater 2</td>\n",
       "      <td>96.5</td>\n",
       "    </tr>\n",
       "    <tr>\n",
       "      <th>4216</th>\n",
       "      <td>Tekken 3</td>\n",
       "      <td>96.0</td>\n",
       "    </tr>\n",
       "    <tr>\n",
       "      <th>4718</th>\n",
       "      <td>Uncharted 2: Among Thieves</td>\n",
       "      <td>96.0</td>\n",
       "    </tr>\n",
       "    <tr>\n",
       "      <th>1720</th>\n",
       "      <td>Gran Turismo</td>\n",
       "      <td>96.0</td>\n",
       "    </tr>\n",
       "  </tbody>\n",
       "</table>\n",
       "</div>"
      ],
      "text/plain": [
       "                            Name  Critic_Score\n",
       "3877                 SoulCalibur          98.0\n",
       "2553               Metroid Prime          97.0\n",
       "2828                     NFL 2K1          97.0\n",
       "4104          Super Mario Galaxy          97.0\n",
       "4105        Super Mario Galaxy 2          97.0\n",
       "1735          Grand Theft Auto V          96.8\n",
       "4582    Tony Hawk's Pro Skater 2          96.5\n",
       "4216                    Tekken 3          96.0\n",
       "4718  Uncharted 2: Among Thieves          96.0\n",
       "1720                Gran Turismo          96.0"
      ]
     },
     "execution_count": 52,
     "metadata": {},
     "output_type": "execute_result"
    }
   ],
   "source": [
    "print('TOP10 игр наиболее понравившихся критикам: ')\n",
    "critic_games.groupby('Name').Critic_Score.mean().reset_index().sort_values('Critic_Score', ascending=False).head(10)"
   ]
  },
  {
   "cell_type": "code",
   "execution_count": 53,
   "metadata": {},
   "outputs": [
    {
     "name": "stdout",
     "output_type": "stream",
     "text": [
      "TOP10 игр наиболее поравившихся юзерам: \n"
     ]
    },
    {
     "data": {
      "text/html": [
       "<div>\n",
       "<style scoped>\n",
       "    .dataframe tbody tr th:only-of-type {\n",
       "        vertical-align: middle;\n",
       "    }\n",
       "\n",
       "    .dataframe tbody tr th {\n",
       "        vertical-align: top;\n",
       "    }\n",
       "\n",
       "    .dataframe thead th {\n",
       "        text-align: right;\n",
       "    }\n",
       "</style>\n",
       "<table border=\"1\" class=\"dataframe\">\n",
       "  <thead>\n",
       "    <tr style=\"text-align: right;\">\n",
       "      <th></th>\n",
       "      <th>Name</th>\n",
       "      <th>User_Score</th>\n",
       "    </tr>\n",
       "  </thead>\n",
       "  <tbody>\n",
       "    <tr>\n",
       "      <th>467</th>\n",
       "      <td>Breath of Fire III</td>\n",
       "      <td>97.0</td>\n",
       "    </tr>\n",
       "    <tr>\n",
       "      <th>428</th>\n",
       "      <td>Boktai: The Sun is in Your Hand</td>\n",
       "      <td>96.0</td>\n",
       "    </tr>\n",
       "    <tr>\n",
       "      <th>1730</th>\n",
       "      <td>Harvest Moon: Friends of Mineral Town</td>\n",
       "      <td>96.0</td>\n",
       "    </tr>\n",
       "    <tr>\n",
       "      <th>710</th>\n",
       "      <td>Cory in the House</td>\n",
       "      <td>95.0</td>\n",
       "    </tr>\n",
       "    <tr>\n",
       "      <th>3805</th>\n",
       "      <td>Super Puzzle Fighter II</td>\n",
       "      <td>95.0</td>\n",
       "    </tr>\n",
       "    <tr>\n",
       "      <th>1589</th>\n",
       "      <td>Golden Sun: The Lost Age</td>\n",
       "      <td>95.0</td>\n",
       "    </tr>\n",
       "    <tr>\n",
       "      <th>1948</th>\n",
       "      <td>Karnaaj Rally</td>\n",
       "      <td>95.0</td>\n",
       "    </tr>\n",
       "    <tr>\n",
       "      <th>2168</th>\n",
       "      <td>MLB SlugFest Loaded</td>\n",
       "      <td>95.0</td>\n",
       "    </tr>\n",
       "    <tr>\n",
       "      <th>4452</th>\n",
       "      <td>Wade Hixton's Counter Punch</td>\n",
       "      <td>95.0</td>\n",
       "    </tr>\n",
       "    <tr>\n",
       "      <th>596</th>\n",
       "      <td>Castlevania: Symphony of the Night</td>\n",
       "      <td>94.0</td>\n",
       "    </tr>\n",
       "  </tbody>\n",
       "</table>\n",
       "</div>"
      ],
      "text/plain": [
       "                                       Name  User_Score\n",
       "467                      Breath of Fire III        97.0\n",
       "428         Boktai: The Sun is in Your Hand        96.0\n",
       "1730  Harvest Moon: Friends of Mineral Town        96.0\n",
       "710                       Cory in the House        95.0\n",
       "3805                Super Puzzle Fighter II        95.0\n",
       "1589               Golden Sun: The Lost Age        95.0\n",
       "1948                          Karnaaj Rally        95.0\n",
       "2168                    MLB SlugFest Loaded        95.0\n",
       "4452            Wade Hixton's Counter Punch        95.0\n",
       "596      Castlevania: Symphony of the Night        94.0"
      ]
     },
     "execution_count": 53,
     "metadata": {},
     "output_type": "execute_result"
    }
   ],
   "source": [
    "print('TOP10 игр наиболее понравившихся юзерам: ')\n",
    "user_games.groupby('Name').User_Score.mean().reset_index().sort_values('User_Score', ascending=False).head(10)"
   ]
  },
  {
   "cell_type": "code",
   "execution_count": 54,
   "metadata": {},
   "outputs": [
    {
     "name": "stdout",
     "output_type": "stream",
     "text": [
      "TOP10 игр с наибольшим количеством оценок критиков: \n"
     ]
    },
    {
     "data": {
      "text/html": [
       "<div>\n",
       "<style scoped>\n",
       "    .dataframe tbody tr th:only-of-type {\n",
       "        vertical-align: middle;\n",
       "    }\n",
       "\n",
       "    .dataframe tbody tr th {\n",
       "        vertical-align: top;\n",
       "    }\n",
       "\n",
       "    .dataframe thead th {\n",
       "        text-align: right;\n",
       "    }\n",
       "</style>\n",
       "<table border=\"1\" class=\"dataframe\">\n",
       "  <thead>\n",
       "    <tr style=\"text-align: right;\">\n",
       "      <th></th>\n",
       "      <th>Name</th>\n",
       "      <th>Critic_Count</th>\n",
       "    </tr>\n",
       "  </thead>\n",
       "  <tbody>\n",
       "    <tr>\n",
       "      <th>3909</th>\n",
       "      <td>Spider-Man 2</td>\n",
       "      <td>252</td>\n",
       "    </tr>\n",
       "    <tr>\n",
       "      <th>1735</th>\n",
       "      <td>Grand Theft Auto V</td>\n",
       "      <td>245</td>\n",
       "    </tr>\n",
       "    <tr>\n",
       "      <th>2947</th>\n",
       "      <td>Need for Speed: Most Wanted</td>\n",
       "      <td>236</td>\n",
       "    </tr>\n",
       "    <tr>\n",
       "      <th>4574</th>\n",
       "      <td>Tomb Raider: Legend</td>\n",
       "      <td>217</td>\n",
       "    </tr>\n",
       "    <tr>\n",
       "      <th>2453</th>\n",
       "      <td>Mass Effect 2</td>\n",
       "      <td>215</td>\n",
       "    </tr>\n",
       "    <tr>\n",
       "      <th>2357</th>\n",
       "      <td>Madden NFL 07</td>\n",
       "      <td>215</td>\n",
       "    </tr>\n",
       "    <tr>\n",
       "      <th>563</th>\n",
       "      <td>Call of Duty: Black Ops</td>\n",
       "      <td>214</td>\n",
       "    </tr>\n",
       "    <tr>\n",
       "      <th>568</th>\n",
       "      <td>Call of Duty: Modern Warfare 2</td>\n",
       "      <td>207</td>\n",
       "    </tr>\n",
       "    <tr>\n",
       "      <th>2449</th>\n",
       "      <td>Marvel: Ultimate Alliance</td>\n",
       "      <td>204</td>\n",
       "    </tr>\n",
       "    <tr>\n",
       "      <th>3421</th>\n",
       "      <td>Resident Evil 5</td>\n",
       "      <td>197</td>\n",
       "    </tr>\n",
       "  </tbody>\n",
       "</table>\n",
       "</div>"
      ],
      "text/plain": [
       "                                Name  Critic_Count\n",
       "3909                    Spider-Man 2           252\n",
       "1735              Grand Theft Auto V           245\n",
       "2947     Need for Speed: Most Wanted           236\n",
       "4574             Tomb Raider: Legend           217\n",
       "2453                   Mass Effect 2           215\n",
       "2357                   Madden NFL 07           215\n",
       "563          Call of Duty: Black Ops           214\n",
       "568   Call of Duty: Modern Warfare 2           207\n",
       "2449       Marvel: Ultimate Alliance           204\n",
       "3421                 Resident Evil 5           197"
      ]
     },
     "execution_count": 54,
     "metadata": {},
     "output_type": "execute_result"
    }
   ],
   "source": [
    "print('TOP10 игр с наибольшим количеством оценок критиков: ')\n",
    "critic_games.groupby('Name').Critic_Count.sum().reset_index().sort_values('Critic_Count', ascending=False).head(10)"
   ]
  },
  {
   "cell_type": "code",
   "execution_count": 55,
   "metadata": {},
   "outputs": [
    {
     "name": "stdout",
     "output_type": "stream",
     "text": [
      "TOP10 игр с наибольшим количеством оценок юзеров: \n"
     ]
    },
    {
     "data": {
      "text/html": [
       "<div>\n",
       "<style scoped>\n",
       "    .dataframe tbody tr th:only-of-type {\n",
       "        vertical-align: middle;\n",
       "    }\n",
       "\n",
       "    .dataframe tbody tr th {\n",
       "        vertical-align: top;\n",
       "    }\n",
       "\n",
       "    .dataframe thead th {\n",
       "        text-align: right;\n",
       "    }\n",
       "</style>\n",
       "<table border=\"1\" class=\"dataframe\">\n",
       "  <thead>\n",
       "    <tr style=\"text-align: right;\">\n",
       "      <th></th>\n",
       "      <th>Name</th>\n",
       "      <th>User_Count</th>\n",
       "    </tr>\n",
       "  </thead>\n",
       "  <tbody>\n",
       "    <tr>\n",
       "      <th>4138</th>\n",
       "      <td>The Witcher 3: Wild Hunt</td>\n",
       "      <td>24807</td>\n",
       "    </tr>\n",
       "    <tr>\n",
       "      <th>553</th>\n",
       "      <td>Call of Duty: Modern Warfare 3</td>\n",
       "      <td>20053</td>\n",
       "    </tr>\n",
       "    <tr>\n",
       "      <th>3960</th>\n",
       "      <td>The Elder Scrolls V: Skyrim</td>\n",
       "      <td>15189</td>\n",
       "    </tr>\n",
       "    <tr>\n",
       "      <th>1617</th>\n",
       "      <td>Grand Theft Auto V</td>\n",
       "      <td>15124</td>\n",
       "    </tr>\n",
       "    <tr>\n",
       "      <th>1313</th>\n",
       "      <td>Fallout 4</td>\n",
       "      <td>13489</td>\n",
       "    </tr>\n",
       "    <tr>\n",
       "      <th>2292</th>\n",
       "      <td>Mass Effect 3</td>\n",
       "      <td>11500</td>\n",
       "    </tr>\n",
       "    <tr>\n",
       "      <th>552</th>\n",
       "      <td>Call of Duty: Modern Warfare 2</td>\n",
       "      <td>11201</td>\n",
       "    </tr>\n",
       "    <tr>\n",
       "      <th>367</th>\n",
       "      <td>BioShock Infinite</td>\n",
       "      <td>10832</td>\n",
       "    </tr>\n",
       "    <tr>\n",
       "      <th>923</th>\n",
       "      <td>Diablo III</td>\n",
       "      <td>10570</td>\n",
       "    </tr>\n",
       "    <tr>\n",
       "      <th>714</th>\n",
       "      <td>Counter-Strike: Source</td>\n",
       "      <td>9851</td>\n",
       "    </tr>\n",
       "  </tbody>\n",
       "</table>\n",
       "</div>"
      ],
      "text/plain": [
       "                                Name  User_Count\n",
       "4138        The Witcher 3: Wild Hunt       24807\n",
       "553   Call of Duty: Modern Warfare 3       20053\n",
       "3960     The Elder Scrolls V: Skyrim       15189\n",
       "1617              Grand Theft Auto V       15124\n",
       "1313                       Fallout 4       13489\n",
       "2292                   Mass Effect 3       11500\n",
       "552   Call of Duty: Modern Warfare 2       11201\n",
       "367                BioShock Infinite       10832\n",
       "923                       Diablo III       10570\n",
       "714           Counter-Strike: Source        9851"
      ]
     },
     "execution_count": 55,
     "metadata": {},
     "output_type": "execute_result"
    }
   ],
   "source": [
    "print('TOP10 игр с наибольшим количеством оценок юзеров: ')\n",
    "user_games.groupby('Name').User_Count.sum().reset_index().sort_values('User_Count', ascending=False).head(10)"
   ]
  },
  {
   "cell_type": "code",
   "execution_count": 56,
   "metadata": {},
   "outputs": [
    {
     "name": "stdout",
     "output_type": "stream",
     "text": [
      "TOP10 жанров наиболее поравившихся критикам: \n"
     ]
    },
    {
     "data": {
      "text/html": [
       "<div>\n",
       "<style scoped>\n",
       "    .dataframe tbody tr th:only-of-type {\n",
       "        vertical-align: middle;\n",
       "    }\n",
       "\n",
       "    .dataframe tbody tr th {\n",
       "        vertical-align: top;\n",
       "    }\n",
       "\n",
       "    .dataframe thead th {\n",
       "        text-align: right;\n",
       "    }\n",
       "</style>\n",
       "<table border=\"1\" class=\"dataframe\">\n",
       "  <thead>\n",
       "    <tr style=\"text-align: right;\">\n",
       "      <th></th>\n",
       "      <th>Genre</th>\n",
       "      <th>Critic_Score</th>\n",
       "    </tr>\n",
       "  </thead>\n",
       "  <tbody>\n",
       "    <tr>\n",
       "      <th>7</th>\n",
       "      <td>Role-Playing</td>\n",
       "      <td>72.652646</td>\n",
       "    </tr>\n",
       "    <tr>\n",
       "      <th>11</th>\n",
       "      <td>Strategy</td>\n",
       "      <td>72.086093</td>\n",
       "    </tr>\n",
       "    <tr>\n",
       "      <th>10</th>\n",
       "      <td>Sports</td>\n",
       "      <td>71.968174</td>\n",
       "    </tr>\n",
       "    <tr>\n",
       "      <th>8</th>\n",
       "      <td>Shooter</td>\n",
       "      <td>70.181144</td>\n",
       "    </tr>\n",
       "    <tr>\n",
       "      <th>2</th>\n",
       "      <td>Fighting</td>\n",
       "      <td>69.217604</td>\n",
       "    </tr>\n",
       "    <tr>\n",
       "      <th>9</th>\n",
       "      <td>Simulation</td>\n",
       "      <td>68.619318</td>\n",
       "    </tr>\n",
       "    <tr>\n",
       "      <th>4</th>\n",
       "      <td>Platform</td>\n",
       "      <td>68.058350</td>\n",
       "    </tr>\n",
       "    <tr>\n",
       "      <th>6</th>\n",
       "      <td>Racing</td>\n",
       "      <td>67.963612</td>\n",
       "    </tr>\n",
       "    <tr>\n",
       "      <th>5</th>\n",
       "      <td>Puzzle</td>\n",
       "      <td>67.424107</td>\n",
       "    </tr>\n",
       "    <tr>\n",
       "      <th>0</th>\n",
       "      <td>Action</td>\n",
       "      <td>66.629101</td>\n",
       "    </tr>\n",
       "  </tbody>\n",
       "</table>\n",
       "</div>"
      ],
      "text/plain": [
       "           Genre  Critic_Score\n",
       "7   Role-Playing     72.652646\n",
       "11      Strategy     72.086093\n",
       "10        Sports     71.968174\n",
       "8        Shooter     70.181144\n",
       "2       Fighting     69.217604\n",
       "9     Simulation     68.619318\n",
       "4       Platform     68.058350\n",
       "6         Racing     67.963612\n",
       "5         Puzzle     67.424107\n",
       "0         Action     66.629101"
      ]
     },
     "execution_count": 56,
     "metadata": {},
     "output_type": "execute_result"
    }
   ],
   "source": [
    "print('TOP10 жанров наиболее понравившихся критикам: ')\n",
    "critic_games.groupby('Genre').Critic_Score.mean().reset_index().sort_values('Critic_Score', ascending=False).head(10)"
   ]
  },
  {
   "cell_type": "code",
   "execution_count": 57,
   "metadata": {},
   "outputs": [
    {
     "name": "stdout",
     "output_type": "stream",
     "text": [
      "TOP10 жанров наиболее поравившихся юзерам: \n"
     ]
    },
    {
     "data": {
      "text/html": [
       "<div>\n",
       "<style scoped>\n",
       "    .dataframe tbody tr th:only-of-type {\n",
       "        vertical-align: middle;\n",
       "    }\n",
       "\n",
       "    .dataframe tbody tr th {\n",
       "        vertical-align: top;\n",
       "    }\n",
       "\n",
       "    .dataframe thead th {\n",
       "        text-align: right;\n",
       "    }\n",
       "</style>\n",
       "<table border=\"1\" class=\"dataframe\">\n",
       "  <thead>\n",
       "    <tr style=\"text-align: right;\">\n",
       "      <th></th>\n",
       "      <th>Genre</th>\n",
       "      <th>User_Score</th>\n",
       "    </tr>\n",
       "  </thead>\n",
       "  <tbody>\n",
       "    <tr>\n",
       "      <th>7</th>\n",
       "      <td>Role-Playing</td>\n",
       "      <td>76.195155</td>\n",
       "    </tr>\n",
       "    <tr>\n",
       "      <th>2</th>\n",
       "      <td>Fighting</td>\n",
       "      <td>73.025063</td>\n",
       "    </tr>\n",
       "    <tr>\n",
       "      <th>4</th>\n",
       "      <td>Platform</td>\n",
       "      <td>73.014019</td>\n",
       "    </tr>\n",
       "    <tr>\n",
       "      <th>11</th>\n",
       "      <td>Strategy</td>\n",
       "      <td>72.951768</td>\n",
       "    </tr>\n",
       "    <tr>\n",
       "      <th>5</th>\n",
       "      <td>Puzzle</td>\n",
       "      <td>71.750000</td>\n",
       "    </tr>\n",
       "    <tr>\n",
       "      <th>9</th>\n",
       "      <td>Simulation</td>\n",
       "      <td>71.345930</td>\n",
       "    </tr>\n",
       "    <tr>\n",
       "      <th>1</th>\n",
       "      <td>Adventure</td>\n",
       "      <td>71.330000</td>\n",
       "    </tr>\n",
       "    <tr>\n",
       "      <th>0</th>\n",
       "      <td>Action</td>\n",
       "      <td>70.540437</td>\n",
       "    </tr>\n",
       "    <tr>\n",
       "      <th>8</th>\n",
       "      <td>Shooter</td>\n",
       "      <td>70.418831</td>\n",
       "    </tr>\n",
       "    <tr>\n",
       "      <th>6</th>\n",
       "      <td>Racing</td>\n",
       "      <td>70.361934</td>\n",
       "    </tr>\n",
       "  </tbody>\n",
       "</table>\n",
       "</div>"
      ],
      "text/plain": [
       "           Genre  User_Score\n",
       "7   Role-Playing   76.195155\n",
       "2       Fighting   73.025063\n",
       "4       Platform   73.014019\n",
       "11      Strategy   72.951768\n",
       "5         Puzzle   71.750000\n",
       "9     Simulation   71.345930\n",
       "1      Adventure   71.330000\n",
       "0         Action   70.540437\n",
       "8        Shooter   70.418831\n",
       "6         Racing   70.361934"
      ]
     },
     "execution_count": 57,
     "metadata": {},
     "output_type": "execute_result"
    }
   ],
   "source": [
    "print('TOP10 жанров наиболее понравившихся юзерам: ')\n",
    "user_games.groupby('Genre').User_Score.mean().reset_index().sort_values('User_Score', ascending=False).head(10)"
   ]
  },
  {
   "cell_type": "code",
   "execution_count": 58,
   "metadata": {},
   "outputs": [
    {
     "name": "stdout",
     "output_type": "stream",
     "text": [
      "TOP5 платформ наиболее поравившихся критикам: \n"
     ]
    },
    {
     "data": {
      "text/html": [
       "<div>\n",
       "<style scoped>\n",
       "    .dataframe tbody tr th:only-of-type {\n",
       "        vertical-align: middle;\n",
       "    }\n",
       "\n",
       "    .dataframe tbody tr th {\n",
       "        vertical-align: top;\n",
       "    }\n",
       "\n",
       "    .dataframe thead th {\n",
       "        text-align: right;\n",
       "    }\n",
       "</style>\n",
       "<table border=\"1\" class=\"dataframe\">\n",
       "  <thead>\n",
       "    <tr style=\"text-align: right;\">\n",
       "      <th></th>\n",
       "      <th>Platform</th>\n",
       "      <th>Critic_Score</th>\n",
       "    </tr>\n",
       "  </thead>\n",
       "  <tbody>\n",
       "    <tr>\n",
       "      <th>1</th>\n",
       "      <td>DC</td>\n",
       "      <td>87.357143</td>\n",
       "    </tr>\n",
       "    <tr>\n",
       "      <th>5</th>\n",
       "      <td>PC</td>\n",
       "      <td>75.928671</td>\n",
       "    </tr>\n",
       "    <tr>\n",
       "      <th>16</th>\n",
       "      <td>XOne</td>\n",
       "      <td>73.325444</td>\n",
       "    </tr>\n",
       "    <tr>\n",
       "      <th>9</th>\n",
       "      <td>PS4</td>\n",
       "      <td>72.091270</td>\n",
       "    </tr>\n",
       "    <tr>\n",
       "      <th>6</th>\n",
       "      <td>PS</td>\n",
       "      <td>71.515000</td>\n",
       "    </tr>\n",
       "  </tbody>\n",
       "</table>\n",
       "</div>"
      ],
      "text/plain": [
       "   Platform  Critic_Score\n",
       "1        DC     87.357143\n",
       "5        PC     75.928671\n",
       "16     XOne     73.325444\n",
       "9       PS4     72.091270\n",
       "6        PS     71.515000"
      ]
     },
     "execution_count": 58,
     "metadata": {},
     "output_type": "execute_result"
    }
   ],
   "source": [
    "print('TOP5 платформ наиболее понравившихся критикам: ')\n",
    "critic_games.groupby('Platform').Critic_Score.mean().reset_index().sort_values('Critic_Score', ascending=False).head(5)"
   ]
  },
  {
   "cell_type": "code",
   "execution_count": 59,
   "metadata": {},
   "outputs": [
    {
     "name": "stdout",
     "output_type": "stream",
     "text": [
      "TOP5 платформ наиболее поравившихся юзерам: \n"
     ]
    },
    {
     "data": {
      "text/html": [
       "<div>\n",
       "<style scoped>\n",
       "    .dataframe tbody tr th:only-of-type {\n",
       "        vertical-align: middle;\n",
       "    }\n",
       "\n",
       "    .dataframe tbody tr th {\n",
       "        vertical-align: top;\n",
       "    }\n",
       "\n",
       "    .dataframe thead th {\n",
       "        text-align: right;\n",
       "    }\n",
       "</style>\n",
       "<table border=\"1\" class=\"dataframe\">\n",
       "  <thead>\n",
       "    <tr style=\"text-align: right;\">\n",
       "      <th></th>\n",
       "      <th>Platform</th>\n",
       "      <th>User_Score</th>\n",
       "    </tr>\n",
       "  </thead>\n",
       "  <tbody>\n",
       "    <tr>\n",
       "      <th>1</th>\n",
       "      <td>DC</td>\n",
       "      <td>85.285714</td>\n",
       "    </tr>\n",
       "    <tr>\n",
       "      <th>6</th>\n",
       "      <td>PS</td>\n",
       "      <td>78.654321</td>\n",
       "    </tr>\n",
       "    <tr>\n",
       "      <th>3</th>\n",
       "      <td>GBA</td>\n",
       "      <td>76.768627</td>\n",
       "    </tr>\n",
       "    <tr>\n",
       "      <th>7</th>\n",
       "      <td>PS2</td>\n",
       "      <td>76.268332</td>\n",
       "    </tr>\n",
       "    <tr>\n",
       "      <th>4</th>\n",
       "      <td>GC</td>\n",
       "      <td>75.975410</td>\n",
       "    </tr>\n",
       "  </tbody>\n",
       "</table>\n",
       "</div>"
      ],
      "text/plain": [
       "  Platform  User_Score\n",
       "1       DC   85.285714\n",
       "6       PS   78.654321\n",
       "3      GBA   76.768627\n",
       "7      PS2   76.268332\n",
       "4       GC   75.975410"
      ]
     },
     "execution_count": 59,
     "metadata": {},
     "output_type": "execute_result"
    }
   ],
   "source": [
    "print('TOP5 платформ наиболее понравившихся юзерам: ')\n",
    "user_games.groupby('Platform').User_Score.mean().reset_index().sort_values('User_Score', ascending=False).head(5)"
   ]
  },
  {
   "cell_type": "code",
   "execution_count": 60,
   "metadata": {},
   "outputs": [
    {
     "name": "stdout",
     "output_type": "stream",
     "text": [
      "TOP5 производителей платформ наиболее поравившихся критикам: \n"
     ]
    },
    {
     "data": {
      "text/html": [
       "<div>\n",
       "<style scoped>\n",
       "    .dataframe tbody tr th:only-of-type {\n",
       "        vertical-align: middle;\n",
       "    }\n",
       "\n",
       "    .dataframe tbody tr th {\n",
       "        vertical-align: top;\n",
       "    }\n",
       "\n",
       "    .dataframe thead th {\n",
       "        text-align: right;\n",
       "    }\n",
       "</style>\n",
       "<table border=\"1\" class=\"dataframe\">\n",
       "  <thead>\n",
       "    <tr style=\"text-align: right;\">\n",
       "      <th></th>\n",
       "      <th>Platform_devs</th>\n",
       "      <th>Critic_Score</th>\n",
       "    </tr>\n",
       "  </thead>\n",
       "  <tbody>\n",
       "    <tr>\n",
       "      <th>1</th>\n",
       "      <td>Other</td>\n",
       "      <td>73.613424</td>\n",
       "    </tr>\n",
       "    <tr>\n",
       "      <th>2</th>\n",
       "      <td>PlayStation</td>\n",
       "      <td>69.802335</td>\n",
       "    </tr>\n",
       "    <tr>\n",
       "      <th>5</th>\n",
       "      <td>XBox</td>\n",
       "      <td>69.554144</td>\n",
       "    </tr>\n",
       "    <tr>\n",
       "      <th>3</th>\n",
       "      <td>PlayStationPortable</td>\n",
       "      <td>68.118557</td>\n",
       "    </tr>\n",
       "    <tr>\n",
       "      <th>4</th>\n",
       "      <td>Sega</td>\n",
       "      <td>67.372146</td>\n",
       "    </tr>\n",
       "  </tbody>\n",
       "</table>\n",
       "</div>"
      ],
      "text/plain": [
       "         Platform_devs  Critic_Score\n",
       "1                Other     73.613424\n",
       "2          PlayStation     69.802335\n",
       "5                 XBox     69.554144\n",
       "3  PlayStationPortable     68.118557\n",
       "4                 Sega     67.372146"
      ]
     },
     "execution_count": 60,
     "metadata": {},
     "output_type": "execute_result"
    }
   ],
   "source": [
    "print('TOP5 производителей платформ наиболее понравившихся критикам: ')\n",
    "critic_games.groupby('Platform_devs').Critic_Score.mean().reset_index().sort_values('Critic_Score', ascending=False).head(5)"
   ]
  },
  {
   "cell_type": "code",
   "execution_count": 61,
   "metadata": {},
   "outputs": [
    {
     "name": "stdout",
     "output_type": "stream",
     "text": [
      "TOP5 производителей платформ наиболее поравившихся юзерам: \n"
     ]
    },
    {
     "data": {
      "text/html": [
       "<div>\n",
       "<style scoped>\n",
       "    .dataframe tbody tr th:only-of-type {\n",
       "        vertical-align: middle;\n",
       "    }\n",
       "\n",
       "    .dataframe tbody tr th {\n",
       "        vertical-align: top;\n",
       "    }\n",
       "\n",
       "    .dataframe thead th {\n",
       "        text-align: right;\n",
       "    }\n",
       "</style>\n",
       "<table border=\"1\" class=\"dataframe\">\n",
       "  <thead>\n",
       "    <tr style=\"text-align: right;\">\n",
       "      <th></th>\n",
       "      <th>Platform_devs</th>\n",
       "      <th>User_Score</th>\n",
       "    </tr>\n",
       "  </thead>\n",
       "  <tbody>\n",
       "    <tr>\n",
       "      <th>4</th>\n",
       "      <td>Sega</td>\n",
       "      <td>76.768627</td>\n",
       "    </tr>\n",
       "    <tr>\n",
       "      <th>3</th>\n",
       "      <td>PlayStationPortable</td>\n",
       "      <td>72.556738</td>\n",
       "    </tr>\n",
       "    <tr>\n",
       "      <th>1</th>\n",
       "      <td>Other</td>\n",
       "      <td>72.506087</td>\n",
       "    </tr>\n",
       "    <tr>\n",
       "      <th>2</th>\n",
       "      <td>PlayStation</td>\n",
       "      <td>72.418605</td>\n",
       "    </tr>\n",
       "    <tr>\n",
       "      <th>5</th>\n",
       "      <td>XBox</td>\n",
       "      <td>69.426182</td>\n",
       "    </tr>\n",
       "  </tbody>\n",
       "</table>\n",
       "</div>"
      ],
      "text/plain": [
       "         Platform_devs  User_Score\n",
       "4                 Sega   76.768627\n",
       "3  PlayStationPortable   72.556738\n",
       "1                Other   72.506087\n",
       "2          PlayStation   72.418605\n",
       "5                 XBox   69.426182"
      ]
     },
     "execution_count": 61,
     "metadata": {},
     "output_type": "execute_result"
    }
   ],
   "source": [
    "print('TOP5 производителей платформ наиболее понравившихся юзерам: ')\n",
    "user_games.groupby('Platform_devs').User_Score.mean().reset_index().sort_values('User_Score', ascending=False).head(5)"
   ]
  },
  {
   "cell_type": "code",
   "execution_count": 62,
   "metadata": {},
   "outputs": [
    {
     "name": "stdout",
     "output_type": "stream",
     "text": [
      "Год релиза игр с наиболее поравившимися критикам: \n"
     ]
    },
    {
     "data": {
      "text/html": [
       "<div>\n",
       "<style scoped>\n",
       "    .dataframe tbody tr th:only-of-type {\n",
       "        vertical-align: middle;\n",
       "    }\n",
       "\n",
       "    .dataframe tbody tr th {\n",
       "        vertical-align: top;\n",
       "    }\n",
       "\n",
       "    .dataframe thead th {\n",
       "        text-align: right;\n",
       "    }\n",
       "</style>\n",
       "<table border=\"1\" class=\"dataframe\">\n",
       "  <thead>\n",
       "    <tr style=\"text-align: right;\">\n",
       "      <th></th>\n",
       "      <th>Year_of_Release</th>\n",
       "      <th>Critic_Score</th>\n",
       "    </tr>\n",
       "  </thead>\n",
       "  <tbody>\n",
       "    <tr>\n",
       "      <th>4</th>\n",
       "      <td>1996</td>\n",
       "      <td>89.875</td>\n",
       "    </tr>\n",
       "  </tbody>\n",
       "</table>\n",
       "</div>"
      ],
      "text/plain": [
       "   Year_of_Release  Critic_Score\n",
       "4             1996        89.875"
      ]
     },
     "execution_count": 62,
     "metadata": {},
     "output_type": "execute_result"
    }
   ],
   "source": [
    "print('Год релиза игр с наиболее понравившимися критикам: ')\n",
    "critic_games.groupby('Year_of_Release').Critic_Score.mean().reset_index().sort_values('Critic_Score', ascending=False).head(1)"
   ]
  },
  {
   "cell_type": "code",
   "execution_count": 63,
   "metadata": {},
   "outputs": [
    {
     "name": "stdout",
     "output_type": "stream",
     "text": [
      "Год релиза игр с наиболее поравившимися юзерам: \n"
     ]
    },
    {
     "data": {
      "text/html": [
       "<div>\n",
       "<style scoped>\n",
       "    .dataframe tbody tr th:only-of-type {\n",
       "        vertical-align: middle;\n",
       "    }\n",
       "\n",
       "    .dataframe tbody tr th {\n",
       "        vertical-align: top;\n",
       "    }\n",
       "\n",
       "    .dataframe thead th {\n",
       "        text-align: right;\n",
       "    }\n",
       "</style>\n",
       "<table border=\"1\" class=\"dataframe\">\n",
       "  <thead>\n",
       "    <tr style=\"text-align: right;\">\n",
       "      <th></th>\n",
       "      <th>Year_of_Release</th>\n",
       "      <th>User_Score</th>\n",
       "    </tr>\n",
       "  </thead>\n",
       "  <tbody>\n",
       "    <tr>\n",
       "      <th>6</th>\n",
       "      <td>1998</td>\n",
       "      <td>85.064516</td>\n",
       "    </tr>\n",
       "  </tbody>\n",
       "</table>\n",
       "</div>"
      ],
      "text/plain": [
       "   Year_of_Release  User_Score\n",
       "6             1998   85.064516"
      ]
     },
     "execution_count": 63,
     "metadata": {},
     "output_type": "execute_result"
    }
   ],
   "source": [
    "print('Год релиза игр с наиболее понравившимися юзерам: ')\n",
    "user_games.groupby('Year_of_Release').User_Score.mean().reset_index().sort_values('User_Score', ascending=False).head(1)"
   ]
  },
  {
   "cell_type": "code",
   "execution_count": null,
   "metadata": {},
   "outputs": [],
   "source": [
    "\n"
   ]
  },
  {
   "cell_type": "markdown",
   "metadata": {},
   "source": [
    "# >>>>>>>>>>>>>>>>>>>>>>>>>>Need For Speed<<<<<<<<<<<<<<<<<<<<<<"
   ]
  },
  {
   "cell_type": "markdown",
   "metadata": {},
   "source": [
    "<p style=\"align: center;\"><img align=center src=\"https://habrastorage.org/r/w1560/webt/rk/ef/bs/rkefbs644yosebylyieuugjgbkq.png\"  width=700></p>"
   ]
  },
  {
   "cell_type": "code",
   "execution_count": 5,
   "metadata": {
    "collapsed": true
   },
   "outputs": [
    {
     "name": "stderr",
     "output_type": "stream",
     "text": [
      "<ipython-input-5-526354df59ae>:2: SettingWithCopyWarning: \n",
      "A value is trying to be set on a copy of a slice from a DataFrame.\n",
      "Try using .loc[row_indexer,col_indexer] = value instead\n",
      "\n",
      "See the caveats in the documentation: https://pandas.pydata.org/pandas-docs/stable/user_guide/indexing.html#returning-a-view-versus-a-copy\n",
      "  NFS['Genre'] = NFS['Genre'].apply(lambda x: 'Racing' if x == 'Action' else x)\n"
     ]
    }
   ],
   "source": [
    "NFS = df.loc[df['Name'].str.contains('Need')]\n",
    "NFS['Genre'] = NFS['Genre'].apply(lambda x: 'Racing' if x == 'Action' else x)"
   ]
  },
  {
   "cell_type": "code",
   "execution_count": 6,
   "metadata": {},
   "outputs": [
    {
     "data": {
      "text/html": [
       "<div>\n",
       "<style scoped>\n",
       "    .dataframe tbody tr th:only-of-type {\n",
       "        vertical-align: middle;\n",
       "    }\n",
       "\n",
       "    .dataframe tbody tr th {\n",
       "        vertical-align: top;\n",
       "    }\n",
       "\n",
       "    .dataframe thead th {\n",
       "        text-align: right;\n",
       "    }\n",
       "</style>\n",
       "<table border=\"1\" class=\"dataframe\">\n",
       "  <thead>\n",
       "    <tr style=\"text-align: right;\">\n",
       "      <th></th>\n",
       "      <th>Name</th>\n",
       "      <th>Platform</th>\n",
       "      <th>Year_of_Release</th>\n",
       "      <th>Genre</th>\n",
       "      <th>Publisher</th>\n",
       "      <th>NA_Sales</th>\n",
       "      <th>EU_Sales</th>\n",
       "      <th>JP_Sales</th>\n",
       "      <th>Other_Sales</th>\n",
       "      <th>Global_Sales</th>\n",
       "      <th>Critic_Score</th>\n",
       "      <th>Critic_Count</th>\n",
       "      <th>User_Score</th>\n",
       "      <th>User_Count</th>\n",
       "      <th>Developer</th>\n",
       "      <th>Rating</th>\n",
       "      <th>Platform_devs</th>\n",
       "    </tr>\n",
       "  </thead>\n",
       "  <tbody>\n",
       "    <tr>\n",
       "      <th>102</th>\n",
       "      <td>Need for Speed Underground</td>\n",
       "      <td>PS2</td>\n",
       "      <td>2003</td>\n",
       "      <td>Racing</td>\n",
       "      <td>Electronic Arts</td>\n",
       "      <td>3.27</td>\n",
       "      <td>2.83</td>\n",
       "      <td>0.08</td>\n",
       "      <td>1.02</td>\n",
       "      <td>7.20</td>\n",
       "      <td>85.0</td>\n",
       "      <td>33</td>\n",
       "      <td>86.0</td>\n",
       "      <td>171</td>\n",
       "      <td>EA Black Box</td>\n",
       "      <td>E</td>\n",
       "      <td>PlayStation</td>\n",
       "    </tr>\n",
       "    <tr>\n",
       "      <th>113</th>\n",
       "      <td>Need for Speed Underground 2</td>\n",
       "      <td>PS2</td>\n",
       "      <td>2004</td>\n",
       "      <td>Racing</td>\n",
       "      <td>Electronic Arts</td>\n",
       "      <td>2.71</td>\n",
       "      <td>3.02</td>\n",
       "      <td>0.08</td>\n",
       "      <td>1.09</td>\n",
       "      <td>6.90</td>\n",
       "      <td>82.0</td>\n",
       "      <td>39</td>\n",
       "      <td>86.0</td>\n",
       "      <td>132</td>\n",
       "      <td>EA Canada</td>\n",
       "      <td>E</td>\n",
       "      <td>PlayStation</td>\n",
       "    </tr>\n",
       "    <tr>\n",
       "      <th>253</th>\n",
       "      <td>Need for Speed: Most Wanted</td>\n",
       "      <td>PS2</td>\n",
       "      <td>2005</td>\n",
       "      <td>Racing</td>\n",
       "      <td>Electronic Arts</td>\n",
       "      <td>2.03</td>\n",
       "      <td>1.79</td>\n",
       "      <td>0.08</td>\n",
       "      <td>0.47</td>\n",
       "      <td>4.37</td>\n",
       "      <td>82.0</td>\n",
       "      <td>36</td>\n",
       "      <td>91.0</td>\n",
       "      <td>137</td>\n",
       "      <td>EA Canada</td>\n",
       "      <td>T</td>\n",
       "      <td>PlayStation</td>\n",
       "    </tr>\n",
       "    <tr>\n",
       "      <th>440</th>\n",
       "      <td>Need for Speed III: Hot Pursuit</td>\n",
       "      <td>PS</td>\n",
       "      <td>1998</td>\n",
       "      <td>Racing</td>\n",
       "      <td>Electronic Arts</td>\n",
       "      <td>2.14</td>\n",
       "      <td>0.86</td>\n",
       "      <td>0.00</td>\n",
       "      <td>0.13</td>\n",
       "      <td>3.12</td>\n",
       "      <td>88.0</td>\n",
       "      <td>13</td>\n",
       "      <td>NaN</td>\n",
       "      <td>&lt;NA&gt;</td>\n",
       "      <td>EA Canada</td>\n",
       "      <td>E</td>\n",
       "      <td>PlayStation</td>\n",
       "    </tr>\n",
       "    <tr>\n",
       "      <th>523</th>\n",
       "      <td>Need for Speed: Most Wanted</td>\n",
       "      <td>PS3</td>\n",
       "      <td>2012</td>\n",
       "      <td>Racing</td>\n",
       "      <td>Electronic Arts</td>\n",
       "      <td>0.71</td>\n",
       "      <td>1.46</td>\n",
       "      <td>0.06</td>\n",
       "      <td>0.58</td>\n",
       "      <td>2.81</td>\n",
       "      <td>NaN</td>\n",
       "      <td>&lt;NA&gt;</td>\n",
       "      <td>NaN</td>\n",
       "      <td>&lt;NA&gt;</td>\n",
       "      <td>NaN</td>\n",
       "      <td>NaN</td>\n",
       "      <td>PlayStation</td>\n",
       "    </tr>\n",
       "    <tr>\n",
       "      <th>...</th>\n",
       "      <td>...</td>\n",
       "      <td>...</td>\n",
       "      <td>...</td>\n",
       "      <td>...</td>\n",
       "      <td>...</td>\n",
       "      <td>...</td>\n",
       "      <td>...</td>\n",
       "      <td>...</td>\n",
       "      <td>...</td>\n",
       "      <td>...</td>\n",
       "      <td>...</td>\n",
       "      <td>...</td>\n",
       "      <td>...</td>\n",
       "      <td>...</td>\n",
       "      <td>...</td>\n",
       "      <td>...</td>\n",
       "      <td>...</td>\n",
       "    </tr>\n",
       "    <tr>\n",
       "      <th>12682</th>\n",
       "      <td>Need for Speed: Shift</td>\n",
       "      <td>PC</td>\n",
       "      <td>2009</td>\n",
       "      <td>Racing</td>\n",
       "      <td>Electronic Arts</td>\n",
       "      <td>0.00</td>\n",
       "      <td>0.05</td>\n",
       "      <td>0.00</td>\n",
       "      <td>0.01</td>\n",
       "      <td>0.06</td>\n",
       "      <td>83.0</td>\n",
       "      <td>22</td>\n",
       "      <td>58.0</td>\n",
       "      <td>387</td>\n",
       "      <td>Slightly Mad Studios</td>\n",
       "      <td>E</td>\n",
       "      <td>Other</td>\n",
       "    </tr>\n",
       "    <tr>\n",
       "      <th>13306</th>\n",
       "      <td>Need for Speed Carbon</td>\n",
       "      <td>PC</td>\n",
       "      <td>2006</td>\n",
       "      <td>Racing</td>\n",
       "      <td>Electronic Arts</td>\n",
       "      <td>0.00</td>\n",
       "      <td>0.04</td>\n",
       "      <td>0.00</td>\n",
       "      <td>0.01</td>\n",
       "      <td>0.05</td>\n",
       "      <td>78.0</td>\n",
       "      <td>17</td>\n",
       "      <td>72.0</td>\n",
       "      <td>249</td>\n",
       "      <td>Black Box</td>\n",
       "      <td>E10+</td>\n",
       "      <td>Other</td>\n",
       "    </tr>\n",
       "    <tr>\n",
       "      <th>13348</th>\n",
       "      <td>Need for Speed Underground</td>\n",
       "      <td>PC</td>\n",
       "      <td>2003</td>\n",
       "      <td>Racing</td>\n",
       "      <td>Electronic Arts</td>\n",
       "      <td>0.00</td>\n",
       "      <td>0.04</td>\n",
       "      <td>0.00</td>\n",
       "      <td>0.01</td>\n",
       "      <td>0.05</td>\n",
       "      <td>82.0</td>\n",
       "      <td>24</td>\n",
       "      <td>83.0</td>\n",
       "      <td>307</td>\n",
       "      <td>Black Box</td>\n",
       "      <td>E</td>\n",
       "      <td>Other</td>\n",
       "    </tr>\n",
       "    <tr>\n",
       "      <th>13691</th>\n",
       "      <td>Need for Speed: ProStreet</td>\n",
       "      <td>PC</td>\n",
       "      <td>2007</td>\n",
       "      <td>Racing</td>\n",
       "      <td>Electronic Arts</td>\n",
       "      <td>0.00</td>\n",
       "      <td>0.04</td>\n",
       "      <td>0.00</td>\n",
       "      <td>0.01</td>\n",
       "      <td>0.04</td>\n",
       "      <td>70.0</td>\n",
       "      <td>18</td>\n",
       "      <td>59.0</td>\n",
       "      <td>163</td>\n",
       "      <td>EA Games</td>\n",
       "      <td>E10+</td>\n",
       "      <td>Other</td>\n",
       "    </tr>\n",
       "    <tr>\n",
       "      <th>14187</th>\n",
       "      <td>Need for Speed (2015)</td>\n",
       "      <td>PC</td>\n",
       "      <td>2016</td>\n",
       "      <td>Racing</td>\n",
       "      <td>Electronic Arts</td>\n",
       "      <td>0.00</td>\n",
       "      <td>0.03</td>\n",
       "      <td>0.00</td>\n",
       "      <td>0.00</td>\n",
       "      <td>0.03</td>\n",
       "      <td>NaN</td>\n",
       "      <td>&lt;NA&gt;</td>\n",
       "      <td>NaN</td>\n",
       "      <td>&lt;NA&gt;</td>\n",
       "      <td>NaN</td>\n",
       "      <td>NaN</td>\n",
       "      <td>Other</td>\n",
       "    </tr>\n",
       "  </tbody>\n",
       "</table>\n",
       "<p>83 rows × 17 columns</p>\n",
       "</div>"
      ],
      "text/plain": [
       "                                  Name Platform  Year_of_Release   Genre  \\\n",
       "102         Need for Speed Underground      PS2             2003  Racing   \n",
       "113       Need for Speed Underground 2      PS2             2004  Racing   \n",
       "253        Need for Speed: Most Wanted      PS2             2005  Racing   \n",
       "440    Need for Speed III: Hot Pursuit       PS             1998  Racing   \n",
       "523        Need for Speed: Most Wanted      PS3             2012  Racing   \n",
       "...                                ...      ...              ...     ...   \n",
       "12682            Need for Speed: Shift       PC             2009  Racing   \n",
       "13306            Need for Speed Carbon       PC             2006  Racing   \n",
       "13348       Need for Speed Underground       PC             2003  Racing   \n",
       "13691        Need for Speed: ProStreet       PC             2007  Racing   \n",
       "14187            Need for Speed (2015)       PC             2016  Racing   \n",
       "\n",
       "             Publisher  NA_Sales  EU_Sales  JP_Sales  Other_Sales  \\\n",
       "102    Electronic Arts      3.27      2.83      0.08         1.02   \n",
       "113    Electronic Arts      2.71      3.02      0.08         1.09   \n",
       "253    Electronic Arts      2.03      1.79      0.08         0.47   \n",
       "440    Electronic Arts      2.14      0.86      0.00         0.13   \n",
       "523    Electronic Arts      0.71      1.46      0.06         0.58   \n",
       "...                ...       ...       ...       ...          ...   \n",
       "12682  Electronic Arts      0.00      0.05      0.00         0.01   \n",
       "13306  Electronic Arts      0.00      0.04      0.00         0.01   \n",
       "13348  Electronic Arts      0.00      0.04      0.00         0.01   \n",
       "13691  Electronic Arts      0.00      0.04      0.00         0.01   \n",
       "14187  Electronic Arts      0.00      0.03      0.00         0.00   \n",
       "\n",
       "       Global_Sales  Critic_Score  Critic_Count  User_Score  User_Count  \\\n",
       "102            7.20          85.0            33        86.0         171   \n",
       "113            6.90          82.0            39        86.0         132   \n",
       "253            4.37          82.0            36        91.0         137   \n",
       "440            3.12          88.0            13         NaN        <NA>   \n",
       "523            2.81           NaN          <NA>         NaN        <NA>   \n",
       "...             ...           ...           ...         ...         ...   \n",
       "12682          0.06          83.0            22        58.0         387   \n",
       "13306          0.05          78.0            17        72.0         249   \n",
       "13348          0.05          82.0            24        83.0         307   \n",
       "13691          0.04          70.0            18        59.0         163   \n",
       "14187          0.03           NaN          <NA>         NaN        <NA>   \n",
       "\n",
       "                  Developer Rating Platform_devs  \n",
       "102            EA Black Box      E   PlayStation  \n",
       "113               EA Canada      E   PlayStation  \n",
       "253               EA Canada      T   PlayStation  \n",
       "440               EA Canada      E   PlayStation  \n",
       "523                     NaN    NaN   PlayStation  \n",
       "...                     ...    ...           ...  \n",
       "12682  Slightly Mad Studios      E         Other  \n",
       "13306             Black Box   E10+         Other  \n",
       "13348             Black Box      E         Other  \n",
       "13691              EA Games   E10+         Other  \n",
       "14187                   NaN    NaN         Other  \n",
       "\n",
       "[83 rows x 17 columns]"
      ]
     },
     "execution_count": 6,
     "metadata": {},
     "output_type": "execute_result"
    }
   ],
   "source": [
    "NFS"
   ]
  },
  {
   "cell_type": "code",
   "execution_count": 7,
   "metadata": {},
   "outputs": [],
   "source": [
    "user_NFS = NFS.loc[NFS['User_Score'] > 0]\n",
    "critic_NFS = NFS.loc[NFS['Critic_Score'] > 0]"
   ]
  },
  {
   "cell_type": "code",
   "execution_count": 8,
   "metadata": {},
   "outputs": [
    {
     "name": "stdout",
     "output_type": "stream",
     "text": [
      "NFS версия, наиболее понравившаяся юзерам: \n"
     ]
    },
    {
     "data": {
      "text/html": [
       "<div>\n",
       "<style scoped>\n",
       "    .dataframe tbody tr th:only-of-type {\n",
       "        vertical-align: middle;\n",
       "    }\n",
       "\n",
       "    .dataframe tbody tr th {\n",
       "        vertical-align: top;\n",
       "    }\n",
       "\n",
       "    .dataframe thead th {\n",
       "        text-align: right;\n",
       "    }\n",
       "</style>\n",
       "<table border=\"1\" class=\"dataframe\">\n",
       "  <thead>\n",
       "    <tr style=\"text-align: right;\">\n",
       "      <th></th>\n",
       "      <th>Name</th>\n",
       "      <th>Platform</th>\n",
       "      <th>Year_of_Release</th>\n",
       "      <th>Genre</th>\n",
       "      <th>Publisher</th>\n",
       "      <th>NA_Sales</th>\n",
       "      <th>EU_Sales</th>\n",
       "      <th>JP_Sales</th>\n",
       "      <th>Other_Sales</th>\n",
       "      <th>Global_Sales</th>\n",
       "      <th>Critic_Score</th>\n",
       "      <th>Critic_Count</th>\n",
       "      <th>User_Score</th>\n",
       "      <th>User_Count</th>\n",
       "      <th>Developer</th>\n",
       "      <th>Rating</th>\n",
       "      <th>Platform_devs</th>\n",
       "    </tr>\n",
       "  </thead>\n",
       "  <tbody>\n",
       "    <tr>\n",
       "      <th>3581</th>\n",
       "      <td>Need for Speed: Most Wanted</td>\n",
       "      <td>GC</td>\n",
       "      <td>2005</td>\n",
       "      <td>Racing</td>\n",
       "      <td>Electronic Arts</td>\n",
       "      <td>0.43</td>\n",
       "      <td>0.11</td>\n",
       "      <td>0.00</td>\n",
       "      <td>0.02</td>\n",
       "      <td>0.56</td>\n",
       "      <td>80.0</td>\n",
       "      <td>18</td>\n",
       "      <td>91.0</td>\n",
       "      <td>22</td>\n",
       "      <td>EA Canada</td>\n",
       "      <td>T</td>\n",
       "      <td>Other</td>\n",
       "    </tr>\n",
       "    <tr>\n",
       "      <th>253</th>\n",
       "      <td>Need for Speed: Most Wanted</td>\n",
       "      <td>PS2</td>\n",
       "      <td>2005</td>\n",
       "      <td>Racing</td>\n",
       "      <td>Electronic Arts</td>\n",
       "      <td>2.03</td>\n",
       "      <td>1.79</td>\n",
       "      <td>0.08</td>\n",
       "      <td>0.47</td>\n",
       "      <td>4.37</td>\n",
       "      <td>82.0</td>\n",
       "      <td>36</td>\n",
       "      <td>91.0</td>\n",
       "      <td>137</td>\n",
       "      <td>EA Canada</td>\n",
       "      <td>T</td>\n",
       "      <td>PlayStation</td>\n",
       "    </tr>\n",
       "  </tbody>\n",
       "</table>\n",
       "</div>"
      ],
      "text/plain": [
       "                             Name Platform  Year_of_Release   Genre  \\\n",
       "3581  Need for Speed: Most Wanted       GC             2005  Racing   \n",
       "253   Need for Speed: Most Wanted      PS2             2005  Racing   \n",
       "\n",
       "            Publisher  NA_Sales  EU_Sales  JP_Sales  Other_Sales  \\\n",
       "3581  Electronic Arts      0.43      0.11      0.00         0.02   \n",
       "253   Electronic Arts      2.03      1.79      0.08         0.47   \n",
       "\n",
       "      Global_Sales  Critic_Score  Critic_Count  User_Score  User_Count  \\\n",
       "3581          0.56          80.0            18        91.0          22   \n",
       "253           4.37          82.0            36        91.0         137   \n",
       "\n",
       "      Developer Rating Platform_devs  \n",
       "3581  EA Canada      T         Other  \n",
       "253   EA Canada      T   PlayStation  "
      ]
     },
     "execution_count": 8,
     "metadata": {},
     "output_type": "execute_result"
    }
   ],
   "source": [
    "print('NFS версия, наиболее понравившаяся юзерам: ')\n",
    "user_NFS.sort_values('User_Score', ascending=False).head(2)"
   ]
  },
  {
   "cell_type": "code",
   "execution_count": 9,
   "metadata": {},
   "outputs": [
    {
     "name": "stdout",
     "output_type": "stream",
     "text": [
      "NFS версия, наименее понравившаяся юзерам: \n"
     ]
    },
    {
     "data": {
      "text/html": [
       "<div>\n",
       "<style scoped>\n",
       "    .dataframe tbody tr th:only-of-type {\n",
       "        vertical-align: middle;\n",
       "    }\n",
       "\n",
       "    .dataframe tbody tr th {\n",
       "        vertical-align: top;\n",
       "    }\n",
       "\n",
       "    .dataframe thead th {\n",
       "        text-align: right;\n",
       "    }\n",
       "</style>\n",
       "<table border=\"1\" class=\"dataframe\">\n",
       "  <thead>\n",
       "    <tr style=\"text-align: right;\">\n",
       "      <th></th>\n",
       "      <th>Name</th>\n",
       "      <th>Platform</th>\n",
       "      <th>Year_of_Release</th>\n",
       "      <th>Genre</th>\n",
       "      <th>Publisher</th>\n",
       "      <th>NA_Sales</th>\n",
       "      <th>EU_Sales</th>\n",
       "      <th>JP_Sales</th>\n",
       "      <th>Other_Sales</th>\n",
       "      <th>Global_Sales</th>\n",
       "      <th>Critic_Score</th>\n",
       "      <th>Critic_Count</th>\n",
       "      <th>User_Score</th>\n",
       "      <th>User_Count</th>\n",
       "      <th>Developer</th>\n",
       "      <th>Rating</th>\n",
       "      <th>Platform_devs</th>\n",
       "    </tr>\n",
       "  </thead>\n",
       "  <tbody>\n",
       "    <tr>\n",
       "      <th>6683</th>\n",
       "      <td>Need for Speed Rivals</td>\n",
       "      <td>PC</td>\n",
       "      <td>2013</td>\n",
       "      <td>Racing</td>\n",
       "      <td>Electronic Arts</td>\n",
       "      <td>0.04</td>\n",
       "      <td>0.19</td>\n",
       "      <td>0.0</td>\n",
       "      <td>0.02</td>\n",
       "      <td>0.25</td>\n",
       "      <td>76.0</td>\n",
       "      <td>16</td>\n",
       "      <td>33.0</td>\n",
       "      <td>546</td>\n",
       "      <td>Ghost Games</td>\n",
       "      <td>E10+</td>\n",
       "      <td>Other</td>\n",
       "    </tr>\n",
       "  </tbody>\n",
       "</table>\n",
       "</div>"
      ],
      "text/plain": [
       "                       Name Platform  Year_of_Release   Genre  \\\n",
       "6683  Need for Speed Rivals       PC             2013  Racing   \n",
       "\n",
       "            Publisher  NA_Sales  EU_Sales  JP_Sales  Other_Sales  \\\n",
       "6683  Electronic Arts      0.04      0.19       0.0         0.02   \n",
       "\n",
       "      Global_Sales  Critic_Score  Critic_Count  User_Score  User_Count  \\\n",
       "6683          0.25          76.0            16        33.0         546   \n",
       "\n",
       "        Developer Rating Platform_devs  \n",
       "6683  Ghost Games   E10+         Other  "
      ]
     },
     "execution_count": 9,
     "metadata": {},
     "output_type": "execute_result"
    }
   ],
   "source": [
    "print('NFS версия, наименее понравившаяся юзерам: ')\n",
    "user_NFS.sort_values('User_Score').head(1)"
   ]
  },
  {
   "cell_type": "code",
   "execution_count": 10,
   "metadata": {},
   "outputs": [
    {
     "name": "stdout",
     "output_type": "stream",
     "text": [
      "NFS версия, наиболее понравившаяся критикам: \n"
     ]
    },
    {
     "data": {
      "text/html": [
       "<div>\n",
       "<style scoped>\n",
       "    .dataframe tbody tr th:only-of-type {\n",
       "        vertical-align: middle;\n",
       "    }\n",
       "\n",
       "    .dataframe tbody tr th {\n",
       "        vertical-align: top;\n",
       "    }\n",
       "\n",
       "    .dataframe thead th {\n",
       "        text-align: right;\n",
       "    }\n",
       "</style>\n",
       "<table border=\"1\" class=\"dataframe\">\n",
       "  <thead>\n",
       "    <tr style=\"text-align: right;\">\n",
       "      <th></th>\n",
       "      <th>Name</th>\n",
       "      <th>Platform</th>\n",
       "      <th>Year_of_Release</th>\n",
       "      <th>Genre</th>\n",
       "      <th>Publisher</th>\n",
       "      <th>NA_Sales</th>\n",
       "      <th>EU_Sales</th>\n",
       "      <th>JP_Sales</th>\n",
       "      <th>Other_Sales</th>\n",
       "      <th>Global_Sales</th>\n",
       "      <th>Critic_Score</th>\n",
       "      <th>Critic_Count</th>\n",
       "      <th>User_Score</th>\n",
       "      <th>User_Count</th>\n",
       "      <th>Developer</th>\n",
       "      <th>Rating</th>\n",
       "      <th>Platform_devs</th>\n",
       "    </tr>\n",
       "  </thead>\n",
       "  <tbody>\n",
       "    <tr>\n",
       "      <th>536</th>\n",
       "      <td>Need for Speed: Hot Pursuit</td>\n",
       "      <td>PS3</td>\n",
       "      <td>2010</td>\n",
       "      <td>Racing</td>\n",
       "      <td>Electronic Arts</td>\n",
       "      <td>1.05</td>\n",
       "      <td>1.23</td>\n",
       "      <td>0.03</td>\n",
       "      <td>0.47</td>\n",
       "      <td>2.78</td>\n",
       "      <td>89.0</td>\n",
       "      <td>59</td>\n",
       "      <td>72.0</td>\n",
       "      <td>301</td>\n",
       "      <td>Criterion Games</td>\n",
       "      <td>E10+</td>\n",
       "      <td>PlayStation</td>\n",
       "    </tr>\n",
       "    <tr>\n",
       "      <th>782</th>\n",
       "      <td>Need for Speed: Hot Pursuit 2</td>\n",
       "      <td>PS2</td>\n",
       "      <td>2002</td>\n",
       "      <td>Racing</td>\n",
       "      <td>Electronic Arts</td>\n",
       "      <td>1.68</td>\n",
       "      <td>0.31</td>\n",
       "      <td>0.02</td>\n",
       "      <td>0.09</td>\n",
       "      <td>2.11</td>\n",
       "      <td>89.0</td>\n",
       "      <td>31</td>\n",
       "      <td>85.0</td>\n",
       "      <td>92</td>\n",
       "      <td>Black Box</td>\n",
       "      <td>E</td>\n",
       "      <td>PlayStation</td>\n",
       "    </tr>\n",
       "  </tbody>\n",
       "</table>\n",
       "</div>"
      ],
      "text/plain": [
       "                              Name Platform  Year_of_Release   Genre  \\\n",
       "536    Need for Speed: Hot Pursuit      PS3             2010  Racing   \n",
       "782  Need for Speed: Hot Pursuit 2      PS2             2002  Racing   \n",
       "\n",
       "           Publisher  NA_Sales  EU_Sales  JP_Sales  Other_Sales  Global_Sales  \\\n",
       "536  Electronic Arts      1.05      1.23      0.03         0.47          2.78   \n",
       "782  Electronic Arts      1.68      0.31      0.02         0.09          2.11   \n",
       "\n",
       "     Critic_Score  Critic_Count  User_Score  User_Count        Developer  \\\n",
       "536          89.0            59        72.0         301  Criterion Games   \n",
       "782          89.0            31        85.0          92        Black Box   \n",
       "\n",
       "    Rating Platform_devs  \n",
       "536   E10+   PlayStation  \n",
       "782      E   PlayStation  "
      ]
     },
     "execution_count": 10,
     "metadata": {},
     "output_type": "execute_result"
    }
   ],
   "source": [
    "print('NFS версия, наиболее понравившаяся критикам: ')\n",
    "critic_NFS.query('Critic_Score == {}'.format(critic_NFS['Critic_Score'].max())).head()"
   ]
  },
  {
   "cell_type": "code",
   "execution_count": 11,
   "metadata": {},
   "outputs": [
    {
     "name": "stdout",
     "output_type": "stream",
     "text": [
      "NFS версия, наименее понравившаяся критикам: \n"
     ]
    },
    {
     "data": {
      "text/html": [
       "<div>\n",
       "<style scoped>\n",
       "    .dataframe tbody tr th:only-of-type {\n",
       "        vertical-align: middle;\n",
       "    }\n",
       "\n",
       "    .dataframe tbody tr th {\n",
       "        vertical-align: top;\n",
       "    }\n",
       "\n",
       "    .dataframe thead th {\n",
       "        text-align: right;\n",
       "    }\n",
       "</style>\n",
       "<table border=\"1\" class=\"dataframe\">\n",
       "  <thead>\n",
       "    <tr style=\"text-align: right;\">\n",
       "      <th></th>\n",
       "      <th>Name</th>\n",
       "      <th>Platform</th>\n",
       "      <th>Year_of_Release</th>\n",
       "      <th>Genre</th>\n",
       "      <th>Publisher</th>\n",
       "      <th>NA_Sales</th>\n",
       "      <th>EU_Sales</th>\n",
       "      <th>JP_Sales</th>\n",
       "      <th>Other_Sales</th>\n",
       "      <th>Global_Sales</th>\n",
       "      <th>Critic_Score</th>\n",
       "      <th>Critic_Count</th>\n",
       "      <th>User_Score</th>\n",
       "      <th>User_Count</th>\n",
       "      <th>Developer</th>\n",
       "      <th>Rating</th>\n",
       "      <th>Platform_devs</th>\n",
       "    </tr>\n",
       "  </thead>\n",
       "  <tbody>\n",
       "    <tr>\n",
       "      <th>6411</th>\n",
       "      <td>Need for Speed: Most Wanted</td>\n",
       "      <td>DS</td>\n",
       "      <td>2005</td>\n",
       "      <td>Racing</td>\n",
       "      <td>Electronic Arts</td>\n",
       "      <td>0.24</td>\n",
       "      <td>0.01</td>\n",
       "      <td>0.0</td>\n",
       "      <td>0.02</td>\n",
       "      <td>0.27</td>\n",
       "      <td>45.0</td>\n",
       "      <td>4</td>\n",
       "      <td>61.0</td>\n",
       "      <td>22</td>\n",
       "      <td>EA Canada</td>\n",
       "      <td>E</td>\n",
       "      <td>Nintendo</td>\n",
       "    </tr>\n",
       "  </tbody>\n",
       "</table>\n",
       "</div>"
      ],
      "text/plain": [
       "                             Name Platform  Year_of_Release   Genre  \\\n",
       "6411  Need for Speed: Most Wanted       DS             2005  Racing   \n",
       "\n",
       "            Publisher  NA_Sales  EU_Sales  JP_Sales  Other_Sales  \\\n",
       "6411  Electronic Arts      0.24      0.01       0.0         0.02   \n",
       "\n",
       "      Global_Sales  Critic_Score  Critic_Count  User_Score  User_Count  \\\n",
       "6411          0.27          45.0             4        61.0          22   \n",
       "\n",
       "      Developer Rating Platform_devs  \n",
       "6411  EA Canada      E      Nintendo  "
      ]
     },
     "execution_count": 11,
     "metadata": {},
     "output_type": "execute_result"
    }
   ],
   "source": [
    "print('NFS версия, наименее понравившаяся критикам: ')\n",
    "critic_NFS.query('Critic_Score == {}'.format(critic_NFS['Critic_Score'].min())).head()"
   ]
  },
  {
   "cell_type": "code",
   "execution_count": 53,
   "metadata": {},
   "outputs": [
    {
     "data": {
      "text/html": [
       "<div>\n",
       "<style scoped>\n",
       "    .dataframe tbody tr th:only-of-type {\n",
       "        vertical-align: middle;\n",
       "    }\n",
       "\n",
       "    .dataframe tbody tr th {\n",
       "        vertical-align: top;\n",
       "    }\n",
       "\n",
       "    .dataframe thead th {\n",
       "        text-align: right;\n",
       "    }\n",
       "</style>\n",
       "<table border=\"1\" class=\"dataframe\">\n",
       "  <thead>\n",
       "    <tr style=\"text-align: right;\">\n",
       "      <th></th>\n",
       "      <th>Name</th>\n",
       "      <th>Count</th>\n",
       "    </tr>\n",
       "  </thead>\n",
       "  <tbody>\n",
       "    <tr>\n",
       "      <th>12</th>\n",
       "      <td>Need for Speed: Most Wanted</td>\n",
       "      <td>12</td>\n",
       "    </tr>\n",
       "    <tr>\n",
       "      <th>16</th>\n",
       "      <td>Need for Speed: ProStreet</td>\n",
       "      <td>7</td>\n",
       "    </tr>\n",
       "    <tr>\n",
       "      <th>1</th>\n",
       "      <td>Need For Speed: Undercover</td>\n",
       "      <td>7</td>\n",
       "    </tr>\n",
       "    <tr>\n",
       "      <th>3</th>\n",
       "      <td>Need for Speed Carbon</td>\n",
       "      <td>7</td>\n",
       "    </tr>\n",
       "    <tr>\n",
       "      <th>8</th>\n",
       "      <td>Need for Speed Underground 2</td>\n",
       "      <td>6</td>\n",
       "    </tr>\n",
       "    <tr>\n",
       "      <th>6</th>\n",
       "      <td>Need for Speed Rivals</td>\n",
       "      <td>5</td>\n",
       "    </tr>\n",
       "    <tr>\n",
       "      <th>7</th>\n",
       "      <td>Need for Speed Underground</td>\n",
       "      <td>5</td>\n",
       "    </tr>\n",
       "    <tr>\n",
       "      <th>19</th>\n",
       "      <td>Need for Speed: The Run</td>\n",
       "      <td>5</td>\n",
       "    </tr>\n",
       "    <tr>\n",
       "      <th>17</th>\n",
       "      <td>Need for Speed: Shift</td>\n",
       "      <td>4</td>\n",
       "    </tr>\n",
       "    <tr>\n",
       "      <th>10</th>\n",
       "      <td>Need for Speed: Hot Pursuit</td>\n",
       "      <td>4</td>\n",
       "    </tr>\n",
       "    <tr>\n",
       "      <th>2</th>\n",
       "      <td>Need for Speed (2015)</td>\n",
       "      <td>3</td>\n",
       "    </tr>\n",
       "    <tr>\n",
       "      <th>18</th>\n",
       "      <td>Need for Speed: Shift 2 Unleashed</td>\n",
       "      <td>3</td>\n",
       "    </tr>\n",
       "    <tr>\n",
       "      <th>11</th>\n",
       "      <td>Need for Speed: Hot Pursuit 2</td>\n",
       "      <td>3</td>\n",
       "    </tr>\n",
       "    <tr>\n",
       "      <th>4</th>\n",
       "      <td>Need for Speed Carbon: Own the City</td>\n",
       "      <td>2</td>\n",
       "    </tr>\n",
       "    <tr>\n",
       "      <th>14</th>\n",
       "      <td>Need for Speed: Nitro</td>\n",
       "      <td>2</td>\n",
       "    </tr>\n",
       "    <tr>\n",
       "      <th>15</th>\n",
       "      <td>Need for Speed: Porsche Unleashed</td>\n",
       "      <td>2</td>\n",
       "    </tr>\n",
       "    <tr>\n",
       "      <th>20</th>\n",
       "      <td>Need for Speed: V-Rally</td>\n",
       "      <td>1</td>\n",
       "    </tr>\n",
       "    <tr>\n",
       "      <th>0</th>\n",
       "      <td>Need For Speed: High Stakes</td>\n",
       "      <td>1</td>\n",
       "    </tr>\n",
       "    <tr>\n",
       "      <th>13</th>\n",
       "      <td>Need for Speed: Most Wanted 5-1-0</td>\n",
       "      <td>1</td>\n",
       "    </tr>\n",
       "    <tr>\n",
       "      <th>9</th>\n",
       "      <td>Need for Speed Underground Rivals</td>\n",
       "      <td>1</td>\n",
       "    </tr>\n",
       "    <tr>\n",
       "      <th>5</th>\n",
       "      <td>Need for Speed III: Hot Pursuit</td>\n",
       "      <td>1</td>\n",
       "    </tr>\n",
       "    <tr>\n",
       "      <th>21</th>\n",
       "      <td>Road &amp; Track Presents: The Need for Speed</td>\n",
       "      <td>1</td>\n",
       "    </tr>\n",
       "  </tbody>\n",
       "</table>\n",
       "</div>"
      ],
      "text/plain": [
       "                                         Name  Count\n",
       "12                Need for Speed: Most Wanted     12\n",
       "16                  Need for Speed: ProStreet      7\n",
       "1                  Need For Speed: Undercover      7\n",
       "3                       Need for Speed Carbon      7\n",
       "8                Need for Speed Underground 2      6\n",
       "6                       Need for Speed Rivals      5\n",
       "7                  Need for Speed Underground      5\n",
       "19                    Need for Speed: The Run      5\n",
       "17                      Need for Speed: Shift      4\n",
       "10                Need for Speed: Hot Pursuit      4\n",
       "2                       Need for Speed (2015)      3\n",
       "18          Need for Speed: Shift 2 Unleashed      3\n",
       "11              Need for Speed: Hot Pursuit 2      3\n",
       "4         Need for Speed Carbon: Own the City      2\n",
       "14                      Need for Speed: Nitro      2\n",
       "15          Need for Speed: Porsche Unleashed      2\n",
       "20                    Need for Speed: V-Rally      1\n",
       "0                 Need For Speed: High Stakes      1\n",
       "13          Need for Speed: Most Wanted 5-1-0      1\n",
       "9           Need for Speed Underground Rivals      1\n",
       "5             Need for Speed III: Hot Pursuit      1\n",
       "21  Road & Track Presents: The Need for Speed      1"
      ]
     },
     "execution_count": 53,
     "metadata": {},
     "output_type": "execute_result"
    }
   ],
   "source": [
    "# Количество платформ каждой версии игры NFS\n",
    "NFS_count_names = pd.DataFrame(NFS.groupby('Name').Genre.count().reset_index().sort_values('Genre', ascending=False))\n",
    "NFS_count_names.columns = ['Name', 'Count']\n",
    "NFS_count_names"
   ]
  },
  {
   "cell_type": "code",
   "execution_count": 36,
   "metadata": {},
   "outputs": [
    {
     "data": {
      "text/plain": [
       "101.20000000000002"
      ]
     },
     "execution_count": 36,
     "metadata": {},
     "output_type": "execute_result"
    }
   ],
   "source": [
    "NFS.Global_Sales.sum()"
   ]
  },
  {
   "cell_type": "code",
   "execution_count": 51,
   "metadata": {},
   "outputs": [
    {
     "data": {
      "text/plain": [
       "<matplotlib.legend.Legend at 0x156e283eee0>"
      ]
     },
     "execution_count": 51,
     "metadata": {},
     "output_type": "execute_result"
    },
    {
     "data": {
      "image/png": "[encoded data removed]",
      "text/plain": [
       "<Figure size 792x360 with 1 Axes>"
      ]
     },
     "metadata": {},
     "output_type": "display_data"
    }
   ],
   "source": [
    "# ТОР5 количество игр по версиям\n",
    "top_pie_name = NFS['Name'].value_counts().sort_values(ascending = False).head(5)\n",
    "top_pie_name.plot(kind='pie', title='TOP5 Quantity of games by names')\n",
    "plt.legend()"
   ]
  },
  {
   "cell_type": "code",
   "execution_count": 52,
   "metadata": {},
   "outputs": [
    {
     "data": {
      "text/plain": [
       "<matplotlib.legend.Legend at 0x156e3b75070>"
      ]
     },
     "execution_count": 52,
     "metadata": {},
     "output_type": "execute_result"
    },
    {
     "data": {
      "image/png": "[encoded data removed]",
      "text/plain": [
       "<Figure size 792x360 with 1 Axes>"
      ]
     },
     "metadata": {},
     "output_type": "display_data"
    }
   ],
   "source": [
    "# количество игр по платформам\n",
    "top_pie_platforms = NFS['Platform'].value_counts().sort_values(ascending = False).head(5)\n",
    "top_pie_platforms.plot(kind='pie', title='TOP5 Quantity of games by platform')\n",
    "plt.legend()"
   ]
  },
  {
   "cell_type": "code",
   "execution_count": null,
   "metadata": {},
   "outputs": [],
   "source": []
  },
  {
   "cell_type": "code",
   "execution_count": null,
   "metadata": {},
   "outputs": [],
   "source": []
  },
  {
   "cell_type": "code",
   "execution_count": null,
   "metadata": {},
   "outputs": [],
   "source": []
  },
  {
   "cell_type": "code",
   "execution_count": null,
   "metadata": {},
   "outputs": [],
   "source": []
  },
  {
   "cell_type": "code",
   "execution_count": null,
   "metadata": {},
   "outputs": [],
   "source": []
  },
  {
   "cell_type": "code",
   "execution_count": null,
   "metadata": {},
   "outputs": [],
   "source": []
  },
  {
   "cell_type": "code",
   "execution_count": null,
   "metadata": {},
   "outputs": [],
   "source": []
  },
  {
   "cell_type": "code",
   "execution_count": null,
   "metadata": {},
   "outputs": [],
   "source": []
  },
  {
   "cell_type": "code",
   "execution_count": null,
   "metadata": {},
   "outputs": [],
   "source": []
  },
  {
   "cell_type": "code",
   "execution_count": null,
   "metadata": {},
   "outputs": [],
   "source": []
  },
  {
   "cell_type": "code",
   "execution_count": null,
   "metadata": {},
   "outputs": [],
   "source": []
  },
  {
   "cell_type": "code",
   "execution_count": null,
   "metadata": {},
   "outputs": [],
   "source": []
  },
  {
   "cell_type": "code",
   "execution_count": null,
   "metadata": {},
   "outputs": [],
   "source": []
  },
  {
   "cell_type": "code",
   "execution_count": null,
   "metadata": {},
   "outputs": [],
   "source": []
  },
  {
   "cell_type": "code",
   "execution_count": null,
   "metadata": {},
   "outputs": [],
   "source": []
  },
  {
   "cell_type": "code",
   "execution_count": null,
   "metadata": {},
   "outputs": [],
   "source": []
  },
  {
   "cell_type": "code",
   "execution_count": null,
   "metadata": {},
   "outputs": [],
   "source": []
  },
  {
   "cell_type": "code",
   "execution_count": 59,
   "metadata": {},
   "outputs": [
    {
     "data": {
      "text/html": [
       "<div>\n",
       "<style scoped>\n",
       "    .dataframe tbody tr th:only-of-type {\n",
       "        vertical-align: middle;\n",
       "    }\n",
       "\n",
       "    .dataframe tbody tr th {\n",
       "        vertical-align: top;\n",
       "    }\n",
       "\n",
       "    .dataframe thead th {\n",
       "        text-align: right;\n",
       "    }\n",
       "</style>\n",
       "<table border=\"1\" class=\"dataframe\">\n",
       "  <thead>\n",
       "    <tr style=\"text-align: right;\">\n",
       "      <th></th>\n",
       "      <th>Name</th>\n",
       "      <th>Platform</th>\n",
       "      <th>Year_of_Release</th>\n",
       "      <th>Genre</th>\n",
       "      <th>Publisher</th>\n",
       "      <th>NA_Sales</th>\n",
       "      <th>EU_Sales</th>\n",
       "      <th>JP_Sales</th>\n",
       "      <th>Other_Sales</th>\n",
       "      <th>Global_Sales</th>\n",
       "      <th>Critic_Score</th>\n",
       "      <th>Critic_Count</th>\n",
       "      <th>User_Score</th>\n",
       "      <th>User_Count</th>\n",
       "      <th>Platform_devs</th>\n",
       "    </tr>\n",
       "  </thead>\n",
       "  <tbody>\n",
       "    <tr>\n",
       "      <th>253</th>\n",
       "      <td>Need for Speed: Most Wanted</td>\n",
       "      <td>PS2</td>\n",
       "      <td>2005</td>\n",
       "      <td>Racing</td>\n",
       "      <td>Electronic Arts</td>\n",
       "      <td>2.03</td>\n",
       "      <td>1.79</td>\n",
       "      <td>0.08</td>\n",
       "      <td>0.47</td>\n",
       "      <td>4.37</td>\n",
       "      <td>82.0</td>\n",
       "      <td>36</td>\n",
       "      <td>91.0</td>\n",
       "      <td>137</td>\n",
       "      <td>PlayStation</td>\n",
       "    </tr>\n",
       "    <tr>\n",
       "      <th>523</th>\n",
       "      <td>Need for Speed: Most Wanted</td>\n",
       "      <td>PS3</td>\n",
       "      <td>2012</td>\n",
       "      <td>Racing</td>\n",
       "      <td>Electronic Arts</td>\n",
       "      <td>0.71</td>\n",
       "      <td>1.46</td>\n",
       "      <td>0.06</td>\n",
       "      <td>0.58</td>\n",
       "      <td>2.81</td>\n",
       "      <td>NaN</td>\n",
       "      <td>&lt;NA&gt;</td>\n",
       "      <td>NaN</td>\n",
       "      <td>&lt;NA&gt;</td>\n",
       "      <td>PlayStation</td>\n",
       "    </tr>\n",
       "    <tr>\n",
       "      <th>1190</th>\n",
       "      <td>Need for Speed: Most Wanted</td>\n",
       "      <td>X360</td>\n",
       "      <td>2012</td>\n",
       "      <td>Racing</td>\n",
       "      <td>Electronic Arts</td>\n",
       "      <td>0.62</td>\n",
       "      <td>0.78</td>\n",
       "      <td>0.01</td>\n",
       "      <td>0.15</td>\n",
       "      <td>1.56</td>\n",
       "      <td>83.0</td>\n",
       "      <td>54</td>\n",
       "      <td>85.0</td>\n",
       "      <td>134</td>\n",
       "      <td>XBox</td>\n",
       "    </tr>\n",
       "    <tr>\n",
       "      <th>1591</th>\n",
       "      <td>Need for Speed: Most Wanted</td>\n",
       "      <td>X360</td>\n",
       "      <td>2005</td>\n",
       "      <td>Racing</td>\n",
       "      <td>Electronic Arts</td>\n",
       "      <td>1.00</td>\n",
       "      <td>0.13</td>\n",
       "      <td>0.02</td>\n",
       "      <td>0.10</td>\n",
       "      <td>1.25</td>\n",
       "      <td>83.0</td>\n",
       "      <td>54</td>\n",
       "      <td>85.0</td>\n",
       "      <td>134</td>\n",
       "      <td>XBox</td>\n",
       "    </tr>\n",
       "    <tr>\n",
       "      <th>1998</th>\n",
       "      <td>Need for Speed: Most Wanted</td>\n",
       "      <td>XB</td>\n",
       "      <td>2005</td>\n",
       "      <td>Racing</td>\n",
       "      <td>Electronic Arts</td>\n",
       "      <td>0.53</td>\n",
       "      <td>0.46</td>\n",
       "      <td>0.00</td>\n",
       "      <td>0.05</td>\n",
       "      <td>1.04</td>\n",
       "      <td>83.0</td>\n",
       "      <td>32</td>\n",
       "      <td>88.0</td>\n",
       "      <td>29</td>\n",
       "      <td>XBox</td>\n",
       "    </tr>\n",
       "    <tr>\n",
       "      <th>2048</th>\n",
       "      <td>Need for Speed: Most Wanted</td>\n",
       "      <td>PSV</td>\n",
       "      <td>2012</td>\n",
       "      <td>Racing</td>\n",
       "      <td>Electronic Arts</td>\n",
       "      <td>0.33</td>\n",
       "      <td>0.45</td>\n",
       "      <td>0.01</td>\n",
       "      <td>0.22</td>\n",
       "      <td>1.01</td>\n",
       "      <td>NaN</td>\n",
       "      <td>&lt;NA&gt;</td>\n",
       "      <td>NaN</td>\n",
       "      <td>&lt;NA&gt;</td>\n",
       "      <td>PlayStationPortable</td>\n",
       "    </tr>\n",
       "    <tr>\n",
       "      <th>3581</th>\n",
       "      <td>Need for Speed: Most Wanted</td>\n",
       "      <td>GC</td>\n",
       "      <td>2005</td>\n",
       "      <td>Racing</td>\n",
       "      <td>Electronic Arts</td>\n",
       "      <td>0.43</td>\n",
       "      <td>0.11</td>\n",
       "      <td>0.00</td>\n",
       "      <td>0.02</td>\n",
       "      <td>0.56</td>\n",
       "      <td>80.0</td>\n",
       "      <td>18</td>\n",
       "      <td>91.0</td>\n",
       "      <td>22</td>\n",
       "      <td>Other</td>\n",
       "    </tr>\n",
       "    <tr>\n",
       "      <th>5973</th>\n",
       "      <td>Need for Speed: Most Wanted</td>\n",
       "      <td>PC</td>\n",
       "      <td>2005</td>\n",
       "      <td>Racing</td>\n",
       "      <td>Electronic Arts</td>\n",
       "      <td>0.02</td>\n",
       "      <td>0.23</td>\n",
       "      <td>0.00</td>\n",
       "      <td>0.04</td>\n",
       "      <td>0.29</td>\n",
       "      <td>82.0</td>\n",
       "      <td>19</td>\n",
       "      <td>85.0</td>\n",
       "      <td>525</td>\n",
       "      <td>Other</td>\n",
       "    </tr>\n",
       "    <tr>\n",
       "      <th>6274</th>\n",
       "      <td>Need for Speed: Most Wanted</td>\n",
       "      <td>WiiU</td>\n",
       "      <td>2013</td>\n",
       "      <td>Racing</td>\n",
       "      <td>Electronic Arts</td>\n",
       "      <td>0.13</td>\n",
       "      <td>0.12</td>\n",
       "      <td>0.00</td>\n",
       "      <td>0.02</td>\n",
       "      <td>0.27</td>\n",
       "      <td>NaN</td>\n",
       "      <td>&lt;NA&gt;</td>\n",
       "      <td>NaN</td>\n",
       "      <td>&lt;NA&gt;</td>\n",
       "      <td>Nintendo</td>\n",
       "    </tr>\n",
       "    <tr>\n",
       "      <th>6411</th>\n",
       "      <td>Need for Speed: Most Wanted</td>\n",
       "      <td>DS</td>\n",
       "      <td>2005</td>\n",
       "      <td>Racing</td>\n",
       "      <td>Electronic Arts</td>\n",
       "      <td>0.24</td>\n",
       "      <td>0.01</td>\n",
       "      <td>0.00</td>\n",
       "      <td>0.02</td>\n",
       "      <td>0.27</td>\n",
       "      <td>45.0</td>\n",
       "      <td>4</td>\n",
       "      <td>61.0</td>\n",
       "      <td>22</td>\n",
       "      <td>Nintendo</td>\n",
       "    </tr>\n",
       "    <tr>\n",
       "      <th>6474</th>\n",
       "      <td>Need for Speed: Most Wanted</td>\n",
       "      <td>GBA</td>\n",
       "      <td>2005</td>\n",
       "      <td>Racing</td>\n",
       "      <td>Electronic Arts</td>\n",
       "      <td>0.19</td>\n",
       "      <td>0.07</td>\n",
       "      <td>0.00</td>\n",
       "      <td>0.00</td>\n",
       "      <td>0.26</td>\n",
       "      <td>NaN</td>\n",
       "      <td>&lt;NA&gt;</td>\n",
       "      <td>83.0</td>\n",
       "      <td>14</td>\n",
       "      <td>Sega</td>\n",
       "    </tr>\n",
       "    <tr>\n",
       "      <th>11716</th>\n",
       "      <td>Need for Speed: Most Wanted</td>\n",
       "      <td>PC</td>\n",
       "      <td>2012</td>\n",
       "      <td>Racing</td>\n",
       "      <td>Electronic Arts</td>\n",
       "      <td>0.00</td>\n",
       "      <td>0.06</td>\n",
       "      <td>0.00</td>\n",
       "      <td>0.02</td>\n",
       "      <td>0.08</td>\n",
       "      <td>82.0</td>\n",
       "      <td>19</td>\n",
       "      <td>85.0</td>\n",
       "      <td>525</td>\n",
       "      <td>Other</td>\n",
       "    </tr>\n",
       "  </tbody>\n",
       "</table>\n",
       "</div>"
      ],
      "text/plain": [
       "                              Name Platform  Year_of_Release   Genre  \\\n",
       "253    Need for Speed: Most Wanted      PS2             2005  Racing   \n",
       "523    Need for Speed: Most Wanted      PS3             2012  Racing   \n",
       "1190   Need for Speed: Most Wanted     X360             2012  Racing   \n",
       "1591   Need for Speed: Most Wanted     X360             2005  Racing   \n",
       "1998   Need for Speed: Most Wanted       XB             2005  Racing   \n",
       "2048   Need for Speed: Most Wanted      PSV             2012  Racing   \n",
       "3581   Need for Speed: Most Wanted       GC             2005  Racing   \n",
       "5973   Need for Speed: Most Wanted       PC             2005  Racing   \n",
       "6274   Need for Speed: Most Wanted     WiiU             2013  Racing   \n",
       "6411   Need for Speed: Most Wanted       DS             2005  Racing   \n",
       "6474   Need for Speed: Most Wanted      GBA             2005  Racing   \n",
       "11716  Need for Speed: Most Wanted       PC             2012  Racing   \n",
       "\n",
       "             Publisher  NA_Sales  EU_Sales  JP_Sales  Other_Sales  \\\n",
       "253    Electronic Arts      2.03      1.79      0.08         0.47   \n",
       "523    Electronic Arts      0.71      1.46      0.06         0.58   \n",
       "1190   Electronic Arts      0.62      0.78      0.01         0.15   \n",
       "1591   Electronic Arts      1.00      0.13      0.02         0.10   \n",
       "1998   Electronic Arts      0.53      0.46      0.00         0.05   \n",
       "2048   Electronic Arts      0.33      0.45      0.01         0.22   \n",
       "3581   Electronic Arts      0.43      0.11      0.00         0.02   \n",
       "5973   Electronic Arts      0.02      0.23      0.00         0.04   \n",
       "6274   Electronic Arts      0.13      0.12      0.00         0.02   \n",
       "6411   Electronic Arts      0.24      0.01      0.00         0.02   \n",
       "6474   Electronic Arts      0.19      0.07      0.00         0.00   \n",
       "11716  Electronic Arts      0.00      0.06      0.00         0.02   \n",
       "\n",
       "       Global_Sales  Critic_Score  Critic_Count  User_Score  User_Count  \\\n",
       "253            4.37          82.0            36        91.0         137   \n",
       "523            2.81           NaN          <NA>         NaN        <NA>   \n",
       "1190           1.56          83.0            54        85.0         134   \n",
       "1591           1.25          83.0            54        85.0         134   \n",
       "1998           1.04          83.0            32        88.0          29   \n",
       "2048           1.01           NaN          <NA>         NaN        <NA>   \n",
       "3581           0.56          80.0            18        91.0          22   \n",
       "5973           0.29          82.0            19        85.0         525   \n",
       "6274           0.27           NaN          <NA>         NaN        <NA>   \n",
       "6411           0.27          45.0             4        61.0          22   \n",
       "6474           0.26           NaN          <NA>        83.0          14   \n",
       "11716          0.08          82.0            19        85.0         525   \n",
       "\n",
       "             Platform_devs  \n",
       "253            PlayStation  \n",
       "523            PlayStation  \n",
       "1190                  XBox  \n",
       "1591                  XBox  \n",
       "1998                  XBox  \n",
       "2048   PlayStationPortable  \n",
       "3581                 Other  \n",
       "5973                 Other  \n",
       "6274              Nintendo  \n",
       "6411              Nintendo  \n",
       "6474                  Sega  \n",
       "11716                Other  "
      ]
     },
     "execution_count": 59,
     "metadata": {},
     "output_type": "execute_result"
    }
   ],
   "source": [
    "NFS_MW = df.loc[df.Name == 'Need for Speed: Most Wanted']\n",
    "NFS_MW"
   ]
  },
  {
   "cell_type": "code",
   "execution_count": null,
   "metadata": {},
   "outputs": [],
   "source": []
  },
  {
   "cell_type": "code",
   "execution_count": null,
   "metadata": {},
   "outputs": [],
   "source": []
  },
  {
   "cell_type": "code",
   "execution_count": null,
   "metadata": {},
   "outputs": [],
   "source": []
  },
  {
   "cell_type": "code",
   "execution_count": null,
   "metadata": {},
   "outputs": [],
   "source": []
  },
  {
   "cell_type": "code",
   "execution_count": null,
   "metadata": {},
   "outputs": [],
   "source": [
    "#df.loc[pd.isnull(df.Name), :]\n",
    "#df['Name'] = df['Name'].apply(lambda x: np.NaN if x == 'Unknown' else x)\n",
    "df['Name'].fillna(df['Name'].min()[0], inplace=True)\n",
    "print(df['Name'].isna().sum())"
   ]
  }
 ],
 "metadata": {
  "kernelspec": {
   "display_name": "Python 3",
   "language": "python",
   "name": "python3"
  },
  "language_info": {
   "codemirror_mode": {
    "name": "ipython",
    "version": 3
   },
   "file_extension": ".py",
   "mimetype": "text/x-python",
   "name": "python",
   "nbconvert_exporter": "python",
   "pygments_lexer": "ipython3",
   "version": "3.8.5"
  }
 },
 "nbformat": 4,
 "nbformat_minor": 4
}
