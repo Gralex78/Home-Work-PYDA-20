{
 "cells": [
  {
   "cell_type": "code",
   "execution_count": 1,
   "metadata": {},
   "outputs": [],
   "source": [
    "import pandas as pd\n",
    "import numpy as np\n",
    "import math\n",
    "from scipy import stats"
   ]
  },
  {
   "cell_type": "code",
   "execution_count": 2,
   "metadata": {},
   "outputs": [],
   "source": [
    "df = pd.read_csv('Merch.csv')\n",
    "df.iloc[[83], [3]] = 'Самара'"
   ]
  },
  {
   "cell_type": "code",
   "execution_count": 3,
   "metadata": {},
   "outputs": [],
   "source": [
    "def mean_confidence_interval(data, confidence=0.95): \n",
    "    n = len(data)\n",
    "    m, se = np.mean(data), stats.sem(data)\n",
    "    h = se * stats.t.ppf((1 + confidence) / 2, n-1)\n",
    "    return m-h, m, m+h"
   ]
  },
  {
   "cell_type": "markdown",
   "metadata": {},
   "source": [
    "## По всей выборке:"
   ]
  },
  {
   "cell_type": "code",
   "execution_count": 4,
   "metadata": {},
   "outputs": [
    {
     "data": {
      "text/html": [
       "<div>\n",
       "<style scoped>\n",
       "    .dataframe tbody tr th:only-of-type {\n",
       "        vertical-align: middle;\n",
       "    }\n",
       "\n",
       "    .dataframe tbody tr th {\n",
       "        vertical-align: top;\n",
       "    }\n",
       "\n",
       "    .dataframe thead th {\n",
       "        text-align: right;\n",
       "    }\n",
       "</style>\n",
       "<table border=\"1\" class=\"dataframe\">\n",
       "  <thead>\n",
       "    <tr style=\"text-align: right;\">\n",
       "      <th></th>\n",
       "      <th>Отметка времени</th>\n",
       "    </tr>\n",
       "    <tr>\n",
       "      <th>Укажите ваш пол</th>\n",
       "      <th></th>\n",
       "    </tr>\n",
       "  </thead>\n",
       "  <tbody>\n",
       "    <tr>\n",
       "      <th>Женский</th>\n",
       "      <td>130</td>\n",
       "    </tr>\n",
       "    <tr>\n",
       "      <th>Мужской</th>\n",
       "      <td>43</td>\n",
       "    </tr>\n",
       "  </tbody>\n",
       "</table>\n",
       "</div>"
      ],
      "text/plain": [
       "                 Отметка времени\n",
       "Укажите ваш пол                 \n",
       "Женский                      130\n",
       "Мужской                       43"
      ]
     },
     "execution_count": 4,
     "metadata": {},
     "output_type": "execute_result"
    }
   ],
   "source": [
    "# Вычисляем количество опрошенных пользователей по полу\n",
    "df.groupby('Укажите ваш пол').count()[['Отметка времени']]"
   ]
  },
  {
   "cell_type": "code",
   "execution_count": 5,
   "metadata": {},
   "outputs": [
    {
     "data": {
      "text/html": [
       "<div>\n",
       "<style scoped>\n",
       "    .dataframe tbody tr th:only-of-type {\n",
       "        vertical-align: middle;\n",
       "    }\n",
       "\n",
       "    .dataframe tbody tr th {\n",
       "        vertical-align: top;\n",
       "    }\n",
       "\n",
       "    .dataframe thead th {\n",
       "        text-align: right;\n",
       "    }\n",
       "</style>\n",
       "<table border=\"1\" class=\"dataframe\">\n",
       "  <thead>\n",
       "    <tr style=\"text-align: right;\">\n",
       "      <th></th>\n",
       "      <th>Укажите ваш пол</th>\n",
       "      <th>%</th>\n",
       "    </tr>\n",
       "  </thead>\n",
       "  <tbody>\n",
       "    <tr>\n",
       "      <th>0</th>\n",
       "      <td>Женский</td>\n",
       "      <td>75.1</td>\n",
       "    </tr>\n",
       "    <tr>\n",
       "      <th>1</th>\n",
       "      <td>Мужской</td>\n",
       "      <td>24.9</td>\n",
       "    </tr>\n",
       "  </tbody>\n",
       "</table>\n",
       "</div>"
      ],
      "text/plain": [
       "  Укажите ваш пол     %\n",
       "0         Женский  75.1\n",
       "1         Мужской  24.9"
      ]
     },
     "execution_count": 5,
     "metadata": {},
     "output_type": "execute_result"
    }
   ],
   "source": [
    "df2 = round(df.iloc[:,[2]].value_counts() / df.iloc[:,[2]].value_counts().sum() * 100, 1).reset_index()\n",
    "df2.columns = ['Укажите ваш пол', '%']\n",
    "df2"
   ]
  },
  {
   "cell_type": "code",
   "execution_count": 6,
   "metadata": {},
   "outputs": [
    {
     "data": {
      "text/html": [
       "<div>\n",
       "<style scoped>\n",
       "    .dataframe tbody tr th:only-of-type {\n",
       "        vertical-align: middle;\n",
       "    }\n",
       "\n",
       "    .dataframe tbody tr th {\n",
       "        vertical-align: top;\n",
       "    }\n",
       "\n",
       "    .dataframe thead th {\n",
       "        text-align: right;\n",
       "    }\n",
       "</style>\n",
       "<table border=\"1\" class=\"dataframe\">\n",
       "  <thead>\n",
       "    <tr style=\"text-align: right;\">\n",
       "      <th></th>\n",
       "      <th>Отметка времени</th>\n",
       "    </tr>\n",
       "    <tr>\n",
       "      <th>Укажите ваш возраст</th>\n",
       "      <th></th>\n",
       "    </tr>\n",
       "  </thead>\n",
       "  <tbody>\n",
       "    <tr>\n",
       "      <th>30-39 лет</th>\n",
       "      <td>66</td>\n",
       "    </tr>\n",
       "    <tr>\n",
       "      <th>40-49 лет</th>\n",
       "      <td>39</td>\n",
       "    </tr>\n",
       "    <tr>\n",
       "      <th>23-29 лет</th>\n",
       "      <td>36</td>\n",
       "    </tr>\n",
       "    <tr>\n",
       "      <th>больше 50 лет</th>\n",
       "      <td>14</td>\n",
       "    </tr>\n",
       "    <tr>\n",
       "      <th>18-22 лет</th>\n",
       "      <td>12</td>\n",
       "    </tr>\n",
       "    <tr>\n",
       "      <th>до 18 лет</th>\n",
       "      <td>6</td>\n",
       "    </tr>\n",
       "  </tbody>\n",
       "</table>\n",
       "</div>"
      ],
      "text/plain": [
       "                     Отметка времени\n",
       "Укажите ваш возраст                 \n",
       "30-39 лет                         66\n",
       "40-49 лет                         39\n",
       "23-29 лет                         36\n",
       "больше 50 лет                     14\n",
       "18-22 лет                         12\n",
       "до 18 лет                          6"
      ]
     },
     "execution_count": 6,
     "metadata": {},
     "output_type": "execute_result"
    }
   ],
   "source": [
    "# Вычисляем количество опрошенных пользователей по возрасту\n",
    "df.groupby('Укажите ваш возраст').count()[['Отметка времени']].sort_values('Отметка времени', ascending=False)"
   ]
  },
  {
   "cell_type": "code",
   "execution_count": 7,
   "metadata": {},
   "outputs": [
    {
     "data": {
      "text/html": [
       "<div>\n",
       "<style scoped>\n",
       "    .dataframe tbody tr th:only-of-type {\n",
       "        vertical-align: middle;\n",
       "    }\n",
       "\n",
       "    .dataframe tbody tr th {\n",
       "        vertical-align: top;\n",
       "    }\n",
       "\n",
       "    .dataframe thead th {\n",
       "        text-align: right;\n",
       "    }\n",
       "</style>\n",
       "<table border=\"1\" class=\"dataframe\">\n",
       "  <thead>\n",
       "    <tr style=\"text-align: right;\">\n",
       "      <th></th>\n",
       "      <th>Укажите ваш возраст</th>\n",
       "      <th>%</th>\n",
       "    </tr>\n",
       "  </thead>\n",
       "  <tbody>\n",
       "    <tr>\n",
       "      <th>0</th>\n",
       "      <td>30-39 лет</td>\n",
       "      <td>38.2</td>\n",
       "    </tr>\n",
       "    <tr>\n",
       "      <th>1</th>\n",
       "      <td>40-49 лет</td>\n",
       "      <td>22.5</td>\n",
       "    </tr>\n",
       "    <tr>\n",
       "      <th>2</th>\n",
       "      <td>23-29 лет</td>\n",
       "      <td>20.8</td>\n",
       "    </tr>\n",
       "    <tr>\n",
       "      <th>3</th>\n",
       "      <td>больше 50 лет</td>\n",
       "      <td>8.1</td>\n",
       "    </tr>\n",
       "    <tr>\n",
       "      <th>4</th>\n",
       "      <td>18-22 лет</td>\n",
       "      <td>6.9</td>\n",
       "    </tr>\n",
       "    <tr>\n",
       "      <th>5</th>\n",
       "      <td>до 18 лет</td>\n",
       "      <td>3.5</td>\n",
       "    </tr>\n",
       "  </tbody>\n",
       "</table>\n",
       "</div>"
      ],
      "text/plain": [
       "  Укажите ваш возраст     %\n",
       "0           30-39 лет  38.2\n",
       "1           40-49 лет  22.5\n",
       "2           23-29 лет  20.8\n",
       "3       больше 50 лет   8.1\n",
       "4           18-22 лет   6.9\n",
       "5           до 18 лет   3.5"
      ]
     },
     "execution_count": 7,
     "metadata": {},
     "output_type": "execute_result"
    }
   ],
   "source": [
    "df1 = round(df.iloc[:,[1]].value_counts() / df.iloc[:,[1]].value_counts().sum() * 100, 1).reset_index()\n",
    "df1.columns = ['Укажите ваш возраст', '%']\n",
    "df1"
   ]
  },
  {
   "cell_type": "code",
   "execution_count": 8,
   "metadata": {},
   "outputs": [
    {
     "data": {
      "text/html": [
       "<div>\n",
       "<style scoped>\n",
       "    .dataframe tbody tr th:only-of-type {\n",
       "        vertical-align: middle;\n",
       "    }\n",
       "\n",
       "    .dataframe tbody tr th {\n",
       "        vertical-align: top;\n",
       "    }\n",
       "\n",
       "    .dataframe thead th {\n",
       "        text-align: right;\n",
       "    }\n",
       "</style>\n",
       "<table border=\"1\" class=\"dataframe\">\n",
       "  <thead>\n",
       "    <tr style=\"text-align: right;\">\n",
       "      <th></th>\n",
       "      <th>Отметка времени</th>\n",
       "    </tr>\n",
       "    <tr>\n",
       "      <th>Укажите ваш город</th>\n",
       "      <th></th>\n",
       "    </tr>\n",
       "  </thead>\n",
       "  <tbody>\n",
       "    <tr>\n",
       "      <th>Москва</th>\n",
       "      <td>42</td>\n",
       "    </tr>\n",
       "    <tr>\n",
       "      <th>Санкт-Петербург</th>\n",
       "      <td>18</td>\n",
       "    </tr>\n",
       "    <tr>\n",
       "      <th>Новосибирск</th>\n",
       "      <td>6</td>\n",
       "    </tr>\n",
       "    <tr>\n",
       "      <th>Самара</th>\n",
       "      <td>6</td>\n",
       "    </tr>\n",
       "    <tr>\n",
       "      <th>Екатеринбург</th>\n",
       "      <td>5</td>\n",
       "    </tr>\n",
       "    <tr>\n",
       "      <th>Ростов-на-Дону</th>\n",
       "      <td>5</td>\n",
       "    </tr>\n",
       "    <tr>\n",
       "      <th>Нижний Новгород</th>\n",
       "      <td>4</td>\n",
       "    </tr>\n",
       "    <tr>\n",
       "      <th>Краснодар</th>\n",
       "      <td>4</td>\n",
       "    </tr>\n",
       "    <tr>\n",
       "      <th>Алмере</th>\n",
       "      <td>3</td>\n",
       "    </tr>\n",
       "    <tr>\n",
       "      <th>Челябинск</th>\n",
       "      <td>3</td>\n",
       "    </tr>\n",
       "  </tbody>\n",
       "</table>\n",
       "</div>"
      ],
      "text/plain": [
       "                   Отметка времени\n",
       "Укажите ваш город                 \n",
       "Москва                          42\n",
       "Санкт-Петербург                 18\n",
       "Новосибирск                      6\n",
       "Самара                           6\n",
       "Екатеринбург                     5\n",
       "Ростов-на-Дону                   5\n",
       "Нижний Новгород                  4\n",
       "Краснодар                        4\n",
       "Алмере                           3\n",
       "Челябинск                        3"
      ]
     },
     "execution_count": 8,
     "metadata": {},
     "output_type": "execute_result"
    }
   ],
   "source": [
    "# Вычисляем количество опрошенных пользователей по городу проживания\n",
    "df.groupby('Укажите ваш город').count()[['Отметка времени']].sort_values('Отметка времени', ascending=False).head(10)"
   ]
  },
  {
   "cell_type": "code",
   "execution_count": 9,
   "metadata": {
    "scrolled": false
   },
   "outputs": [
    {
     "data": {
      "text/html": [
       "<div>\n",
       "<style scoped>\n",
       "    .dataframe tbody tr th:only-of-type {\n",
       "        vertical-align: middle;\n",
       "    }\n",
       "\n",
       "    .dataframe tbody tr th {\n",
       "        vertical-align: top;\n",
       "    }\n",
       "\n",
       "    .dataframe thead th {\n",
       "        text-align: right;\n",
       "    }\n",
       "</style>\n",
       "<table border=\"1\" class=\"dataframe\">\n",
       "  <thead>\n",
       "    <tr style=\"text-align: right;\">\n",
       "      <th></th>\n",
       "      <th>Укажите ваш город</th>\n",
       "      <th>%</th>\n",
       "    </tr>\n",
       "  </thead>\n",
       "  <tbody>\n",
       "    <tr>\n",
       "      <th>0</th>\n",
       "      <td>Москва</td>\n",
       "      <td>24.3</td>\n",
       "    </tr>\n",
       "    <tr>\n",
       "      <th>1</th>\n",
       "      <td>Санкт-Петербург</td>\n",
       "      <td>10.4</td>\n",
       "    </tr>\n",
       "    <tr>\n",
       "      <th>2</th>\n",
       "      <td>Новосибирск</td>\n",
       "      <td>3.5</td>\n",
       "    </tr>\n",
       "    <tr>\n",
       "      <th>3</th>\n",
       "      <td>Самара</td>\n",
       "      <td>3.5</td>\n",
       "    </tr>\n",
       "    <tr>\n",
       "      <th>4</th>\n",
       "      <td>Екатеринбург</td>\n",
       "      <td>2.9</td>\n",
       "    </tr>\n",
       "    <tr>\n",
       "      <th>...</th>\n",
       "      <td>...</td>\n",
       "      <td>...</td>\n",
       "    </tr>\n",
       "    <tr>\n",
       "      <th>66</th>\n",
       "      <td>Новокузнецк</td>\n",
       "      <td>0.6</td>\n",
       "    </tr>\n",
       "    <tr>\n",
       "      <th>67</th>\n",
       "      <td>Шадринск Курганской области</td>\n",
       "      <td>0.6</td>\n",
       "    </tr>\n",
       "    <tr>\n",
       "      <th>68</th>\n",
       "      <td>Нижегородская область</td>\n",
       "      <td>0.6</td>\n",
       "    </tr>\n",
       "    <tr>\n",
       "      <th>69</th>\n",
       "      <td>Невьянск</td>\n",
       "      <td>0.6</td>\n",
       "    </tr>\n",
       "    <tr>\n",
       "      <th>70</th>\n",
       "      <td>Алмере</td>\n",
       "      <td>0.6</td>\n",
       "    </tr>\n",
       "  </tbody>\n",
       "</table>\n",
       "<p>71 rows × 2 columns</p>\n",
       "</div>"
      ],
      "text/plain": [
       "              Укажите ваш город     %\n",
       "0                        Москва  24.3\n",
       "1               Санкт-Петербург  10.4\n",
       "2                   Новосибирск   3.5\n",
       "3                        Самара   3.5\n",
       "4                  Екатеринбург   2.9\n",
       "..                          ...   ...\n",
       "66                  Новокузнецк   0.6\n",
       "67  Шадринск Курганской области   0.6\n",
       "68        Нижегородская область   0.6\n",
       "69                    Невьянск    0.6\n",
       "70                       Алмере   0.6\n",
       "\n",
       "[71 rows x 2 columns]"
      ]
     },
     "execution_count": 9,
     "metadata": {},
     "output_type": "execute_result"
    }
   ],
   "source": [
    "df3 = round(df.iloc[:,[3]].value_counts() / df.iloc[:,[3]].value_counts().sum() * 100, 1).reset_index()\n",
    "df3.columns = ['Укажите ваш город', '%']\n",
    "df3"
   ]
  },
  {
   "cell_type": "markdown",
   "metadata": {},
   "source": [
    "# ============================================================="
   ]
  },
  {
   "cell_type": "markdown",
   "metadata": {},
   "source": [
    "## Все женщины"
   ]
  },
  {
   "cell_type": "code",
   "execution_count": 10,
   "metadata": {},
   "outputs": [],
   "source": [
    "# Все женщины (126 чел)\n",
    "f = df.loc[df['Укажите ваш пол'] == 'Женский']\n"
   ]
  },
  {
   "cell_type": "markdown",
   "metadata": {},
   "source": [
    "### Все женщины по возрастным категориям"
   ]
  },
  {
   "cell_type": "code",
   "execution_count": 11,
   "metadata": {},
   "outputs": [
    {
     "data": {
      "text/html": [
       "<div>\n",
       "<style scoped>\n",
       "    .dataframe tbody tr th:only-of-type {\n",
       "        vertical-align: middle;\n",
       "    }\n",
       "\n",
       "    .dataframe tbody tr th {\n",
       "        vertical-align: top;\n",
       "    }\n",
       "\n",
       "    .dataframe thead th {\n",
       "        text-align: right;\n",
       "    }\n",
       "</style>\n",
       "<table border=\"1\" class=\"dataframe\">\n",
       "  <thead>\n",
       "    <tr style=\"text-align: right;\">\n",
       "      <th></th>\n",
       "      <th>Отметка времени</th>\n",
       "    </tr>\n",
       "    <tr>\n",
       "      <th>Укажите ваш возраст</th>\n",
       "      <th></th>\n",
       "    </tr>\n",
       "  </thead>\n",
       "  <tbody>\n",
       "    <tr>\n",
       "      <th>30-39 лет</th>\n",
       "      <td>52</td>\n",
       "    </tr>\n",
       "    <tr>\n",
       "      <th>23-29 лет</th>\n",
       "      <td>30</td>\n",
       "    </tr>\n",
       "    <tr>\n",
       "      <th>40-49 лет</th>\n",
       "      <td>28</td>\n",
       "    </tr>\n",
       "    <tr>\n",
       "      <th>больше 50 лет</th>\n",
       "      <td>10</td>\n",
       "    </tr>\n",
       "    <tr>\n",
       "      <th>18-22 лет</th>\n",
       "      <td>7</td>\n",
       "    </tr>\n",
       "    <tr>\n",
       "      <th>до 18 лет</th>\n",
       "      <td>3</td>\n",
       "    </tr>\n",
       "  </tbody>\n",
       "</table>\n",
       "</div>"
      ],
      "text/plain": [
       "                     Отметка времени\n",
       "Укажите ваш возраст                 \n",
       "30-39 лет                         52\n",
       "23-29 лет                         30\n",
       "40-49 лет                         28\n",
       "больше 50 лет                     10\n",
       "18-22 лет                          7\n",
       "до 18 лет                          3"
      ]
     },
     "execution_count": 11,
     "metadata": {},
     "output_type": "execute_result"
    }
   ],
   "source": [
    "f.groupby('Укажите ваш возраст').count()[['Отметка времени']].sort_values('Отметка времени', ascending=False)"
   ]
  },
  {
   "cell_type": "code",
   "execution_count": 12,
   "metadata": {},
   "outputs": [
    {
     "data": {
      "text/html": [
       "<div>\n",
       "<style scoped>\n",
       "    .dataframe tbody tr th:only-of-type {\n",
       "        vertical-align: middle;\n",
       "    }\n",
       "\n",
       "    .dataframe tbody tr th {\n",
       "        vertical-align: top;\n",
       "    }\n",
       "\n",
       "    .dataframe thead th {\n",
       "        text-align: right;\n",
       "    }\n",
       "</style>\n",
       "<table border=\"1\" class=\"dataframe\">\n",
       "  <thead>\n",
       "    <tr style=\"text-align: right;\">\n",
       "      <th></th>\n",
       "      <th>Укажите ваш возраст</th>\n",
       "      <th>Жен., %</th>\n",
       "    </tr>\n",
       "  </thead>\n",
       "  <tbody>\n",
       "    <tr>\n",
       "      <th>0</th>\n",
       "      <td>30-39 лет</td>\n",
       "      <td>40.0</td>\n",
       "    </tr>\n",
       "    <tr>\n",
       "      <th>1</th>\n",
       "      <td>23-29 лет</td>\n",
       "      <td>23.1</td>\n",
       "    </tr>\n",
       "    <tr>\n",
       "      <th>2</th>\n",
       "      <td>40-49 лет</td>\n",
       "      <td>21.5</td>\n",
       "    </tr>\n",
       "    <tr>\n",
       "      <th>3</th>\n",
       "      <td>больше 50 лет</td>\n",
       "      <td>7.7</td>\n",
       "    </tr>\n",
       "    <tr>\n",
       "      <th>4</th>\n",
       "      <td>18-22 лет</td>\n",
       "      <td>5.4</td>\n",
       "    </tr>\n",
       "    <tr>\n",
       "      <th>5</th>\n",
       "      <td>до 18 лет</td>\n",
       "      <td>2.3</td>\n",
       "    </tr>\n",
       "  </tbody>\n",
       "</table>\n",
       "</div>"
      ],
      "text/plain": [
       "  Укажите ваш возраст  Жен., %\n",
       "0           30-39 лет     40.0\n",
       "1           23-29 лет     23.1\n",
       "2           40-49 лет     21.5\n",
       "3       больше 50 лет      7.7\n",
       "4           18-22 лет      5.4\n",
       "5           до 18 лет      2.3"
      ]
     },
     "execution_count": 12,
     "metadata": {},
     "output_type": "execute_result"
    }
   ],
   "source": [
    "f_age = round(f.iloc[:,[1]].value_counts() / f.iloc[:,[1]].value_counts().sum() * 100, 1).reset_index()\n",
    "f_age.columns = ['Укажите ваш возраст', 'Жен., %']\n",
    "f_age.head(10)"
   ]
  },
  {
   "cell_type": "markdown",
   "metadata": {},
   "source": [
    "### Все женщины по городам проживания"
   ]
  },
  {
   "cell_type": "code",
   "execution_count": 13,
   "metadata": {},
   "outputs": [
    {
     "data": {
      "text/html": [
       "<div>\n",
       "<style scoped>\n",
       "    .dataframe tbody tr th:only-of-type {\n",
       "        vertical-align: middle;\n",
       "    }\n",
       "\n",
       "    .dataframe tbody tr th {\n",
       "        vertical-align: top;\n",
       "    }\n",
       "\n",
       "    .dataframe thead th {\n",
       "        text-align: right;\n",
       "    }\n",
       "</style>\n",
       "<table border=\"1\" class=\"dataframe\">\n",
       "  <thead>\n",
       "    <tr style=\"text-align: right;\">\n",
       "      <th></th>\n",
       "      <th>Отметка времени</th>\n",
       "    </tr>\n",
       "    <tr>\n",
       "      <th>Укажите ваш город</th>\n",
       "      <th></th>\n",
       "    </tr>\n",
       "  </thead>\n",
       "  <tbody>\n",
       "    <tr>\n",
       "      <th>Москва</th>\n",
       "      <td>32</td>\n",
       "    </tr>\n",
       "    <tr>\n",
       "      <th>Санкт-Петербург</th>\n",
       "      <td>15</td>\n",
       "    </tr>\n",
       "    <tr>\n",
       "      <th>Новосибирск</th>\n",
       "      <td>6</td>\n",
       "    </tr>\n",
       "    <tr>\n",
       "      <th>Ростов-на-Дону</th>\n",
       "      <td>4</td>\n",
       "    </tr>\n",
       "    <tr>\n",
       "      <th>Екатеринбург</th>\n",
       "      <td>4</td>\n",
       "    </tr>\n",
       "    <tr>\n",
       "      <th>Краснодар</th>\n",
       "      <td>3</td>\n",
       "    </tr>\n",
       "    <tr>\n",
       "      <th>Алмере</th>\n",
       "      <td>3</td>\n",
       "    </tr>\n",
       "    <tr>\n",
       "      <th>Нижний Новгород</th>\n",
       "      <td>3</td>\n",
       "    </tr>\n",
       "    <tr>\n",
       "      <th>Челябинск</th>\n",
       "      <td>3</td>\n",
       "    </tr>\n",
       "    <tr>\n",
       "      <th>Пенза</th>\n",
       "      <td>2</td>\n",
       "    </tr>\n",
       "  </tbody>\n",
       "</table>\n",
       "</div>"
      ],
      "text/plain": [
       "                   Отметка времени\n",
       "Укажите ваш город                 \n",
       "Москва                          32\n",
       "Санкт-Петербург                 15\n",
       "Новосибирск                      6\n",
       "Ростов-на-Дону                   4\n",
       "Екатеринбург                     4\n",
       "Краснодар                        3\n",
       "Алмере                           3\n",
       "Нижний Новгород                  3\n",
       "Челябинск                        3\n",
       "Пенза                            2"
      ]
     },
     "execution_count": 13,
     "metadata": {},
     "output_type": "execute_result"
    }
   ],
   "source": [
    "f.groupby('Укажите ваш город').count()[['Отметка времени']].sort_values('Отметка времени', ascending=False).head(10)"
   ]
  },
  {
   "cell_type": "code",
   "execution_count": 14,
   "metadata": {},
   "outputs": [
    {
     "data": {
      "text/html": [
       "<div>\n",
       "<style scoped>\n",
       "    .dataframe tbody tr th:only-of-type {\n",
       "        vertical-align: middle;\n",
       "    }\n",
       "\n",
       "    .dataframe tbody tr th {\n",
       "        vertical-align: top;\n",
       "    }\n",
       "\n",
       "    .dataframe thead th {\n",
       "        text-align: right;\n",
       "    }\n",
       "</style>\n",
       "<table border=\"1\" class=\"dataframe\">\n",
       "  <thead>\n",
       "    <tr style=\"text-align: right;\">\n",
       "      <th></th>\n",
       "      <th>Укажите ваш город</th>\n",
       "      <th>Жен., %</th>\n",
       "    </tr>\n",
       "  </thead>\n",
       "  <tbody>\n",
       "    <tr>\n",
       "      <th>0</th>\n",
       "      <td>Москва</td>\n",
       "      <td>24.6</td>\n",
       "    </tr>\n",
       "    <tr>\n",
       "      <th>1</th>\n",
       "      <td>Санкт-Петербург</td>\n",
       "      <td>11.5</td>\n",
       "    </tr>\n",
       "    <tr>\n",
       "      <th>2</th>\n",
       "      <td>Новосибирск</td>\n",
       "      <td>4.6</td>\n",
       "    </tr>\n",
       "    <tr>\n",
       "      <th>3</th>\n",
       "      <td>Екатеринбург</td>\n",
       "      <td>3.1</td>\n",
       "    </tr>\n",
       "    <tr>\n",
       "      <th>4</th>\n",
       "      <td>Ростов-на-Дону</td>\n",
       "      <td>3.1</td>\n",
       "    </tr>\n",
       "    <tr>\n",
       "      <th>5</th>\n",
       "      <td>Алмере</td>\n",
       "      <td>2.3</td>\n",
       "    </tr>\n",
       "    <tr>\n",
       "      <th>6</th>\n",
       "      <td>Краснодар</td>\n",
       "      <td>2.3</td>\n",
       "    </tr>\n",
       "    <tr>\n",
       "      <th>7</th>\n",
       "      <td>Челябинск</td>\n",
       "      <td>2.3</td>\n",
       "    </tr>\n",
       "    <tr>\n",
       "      <th>8</th>\n",
       "      <td>Нижний Новгород</td>\n",
       "      <td>2.3</td>\n",
       "    </tr>\n",
       "    <tr>\n",
       "      <th>9</th>\n",
       "      <td>Самара</td>\n",
       "      <td>1.5</td>\n",
       "    </tr>\n",
       "  </tbody>\n",
       "</table>\n",
       "</div>"
      ],
      "text/plain": [
       "  Укажите ваш город  Жен., %\n",
       "0            Москва     24.6\n",
       "1   Санкт-Петербург     11.5\n",
       "2       Новосибирск      4.6\n",
       "3      Екатеринбург      3.1\n",
       "4    Ростов-на-Дону      3.1\n",
       "5           Алмере       2.3\n",
       "6         Краснодар      2.3\n",
       "7         Челябинск      2.3\n",
       "8   Нижний Новгород      2.3\n",
       "9            Самара      1.5"
      ]
     },
     "execution_count": 14,
     "metadata": {},
     "output_type": "execute_result"
    }
   ],
   "source": [
    "f_city = round(f.iloc[:,[3]].value_counts() / f.iloc[:,[3]].value_counts().sum() * 100, 1).reset_index()\n",
    "f_city.columns = ['Укажите ваш город', 'Жен., %']\n",
    "f_city.head(10)"
   ]
  },
  {
   "cell_type": "markdown",
   "metadata": {},
   "source": [
    "# --------------------------------------------------------------------------------------------------------------"
   ]
  },
  {
   "cell_type": "markdown",
   "metadata": {},
   "source": [
    "### Женщины в возрасте 30-39 лет"
   ]
  },
  {
   "cell_type": "code",
   "execution_count": 15,
   "metadata": {},
   "outputs": [
    {
     "data": {
      "text/html": [
       "<div>\n",
       "<style scoped>\n",
       "    .dataframe tbody tr th:only-of-type {\n",
       "        vertical-align: middle;\n",
       "    }\n",
       "\n",
       "    .dataframe tbody tr th {\n",
       "        vertical-align: top;\n",
       "    }\n",
       "\n",
       "    .dataframe thead th {\n",
       "        text-align: right;\n",
       "    }\n",
       "</style>\n",
       "<table border=\"1\" class=\"dataframe\">\n",
       "  <thead>\n",
       "    <tr style=\"text-align: right;\">\n",
       "      <th></th>\n",
       "      <th>Отметка времени</th>\n",
       "    </tr>\n",
       "    <tr>\n",
       "      <th>Укажите ваш город</th>\n",
       "      <th></th>\n",
       "    </tr>\n",
       "  </thead>\n",
       "  <tbody>\n",
       "    <tr>\n",
       "      <th>Москва</th>\n",
       "      <td>10</td>\n",
       "    </tr>\n",
       "    <tr>\n",
       "      <th>Санкт-Петербург</th>\n",
       "      <td>5</td>\n",
       "    </tr>\n",
       "    <tr>\n",
       "      <th>Алмере</th>\n",
       "      <td>3</td>\n",
       "    </tr>\n",
       "    <tr>\n",
       "      <th>Саратов</th>\n",
       "      <td>2</td>\n",
       "    </tr>\n",
       "    <tr>\n",
       "      <th>Нидерланды</th>\n",
       "      <td>2</td>\n",
       "    </tr>\n",
       "    <tr>\n",
       "      <th>Пенза</th>\n",
       "      <td>2</td>\n",
       "    </tr>\n",
       "    <tr>\n",
       "      <th>Краснодар</th>\n",
       "      <td>2</td>\n",
       "    </tr>\n",
       "    <tr>\n",
       "      <th>Екатеринбург</th>\n",
       "      <td>2</td>\n",
       "    </tr>\n",
       "    <tr>\n",
       "      <th>Тула</th>\n",
       "      <td>1</td>\n",
       "    </tr>\n",
       "    <tr>\n",
       "      <th>Томск</th>\n",
       "      <td>1</td>\n",
       "    </tr>\n",
       "  </tbody>\n",
       "</table>\n",
       "</div>"
      ],
      "text/plain": [
       "                   Отметка времени\n",
       "Укажите ваш город                 \n",
       "Москва                          10\n",
       "Санкт-Петербург                  5\n",
       "Алмере                           3\n",
       "Саратов                          2\n",
       "Нидерланды                       2\n",
       "Пенза                            2\n",
       "Краснодар                        2\n",
       "Екатеринбург                     2\n",
       "Тула                             1\n",
       "Томск                            1"
      ]
     },
     "execution_count": 15,
     "metadata": {},
     "output_type": "execute_result"
    }
   ],
   "source": [
    "f_30_39 = f.loc[f['Укажите ваш возраст'] == '30-39 лет']\n",
    "f_30_39.groupby('Укажите ваш город').count()[['Отметка времени']].sort_values('Отметка времени', ascending=False).head(10)"
   ]
  },
  {
   "cell_type": "code",
   "execution_count": 16,
   "metadata": {},
   "outputs": [
    {
     "data": {
      "text/html": [
       "<div>\n",
       "<style scoped>\n",
       "    .dataframe tbody tr th:only-of-type {\n",
       "        vertical-align: middle;\n",
       "    }\n",
       "\n",
       "    .dataframe tbody tr th {\n",
       "        vertical-align: top;\n",
       "    }\n",
       "\n",
       "    .dataframe thead th {\n",
       "        text-align: right;\n",
       "    }\n",
       "</style>\n",
       "<table border=\"1\" class=\"dataframe\">\n",
       "  <thead>\n",
       "    <tr style=\"text-align: right;\">\n",
       "      <th></th>\n",
       "      <th>Укажите ваш город</th>\n",
       "      <th>Жен., %</th>\n",
       "    </tr>\n",
       "  </thead>\n",
       "  <tbody>\n",
       "    <tr>\n",
       "      <th>0</th>\n",
       "      <td>Москва</td>\n",
       "      <td>19.2</td>\n",
       "    </tr>\n",
       "    <tr>\n",
       "      <th>1</th>\n",
       "      <td>Санкт-Петербург</td>\n",
       "      <td>9.6</td>\n",
       "    </tr>\n",
       "    <tr>\n",
       "      <th>2</th>\n",
       "      <td>Алмере</td>\n",
       "      <td>5.8</td>\n",
       "    </tr>\n",
       "    <tr>\n",
       "      <th>3</th>\n",
       "      <td>Нидерланды</td>\n",
       "      <td>3.8</td>\n",
       "    </tr>\n",
       "    <tr>\n",
       "      <th>4</th>\n",
       "      <td>Екатеринбург</td>\n",
       "      <td>3.8</td>\n",
       "    </tr>\n",
       "    <tr>\n",
       "      <th>5</th>\n",
       "      <td>Саратов</td>\n",
       "      <td>3.8</td>\n",
       "    </tr>\n",
       "    <tr>\n",
       "      <th>6</th>\n",
       "      <td>Краснодар</td>\n",
       "      <td>3.8</td>\n",
       "    </tr>\n",
       "    <tr>\n",
       "      <th>7</th>\n",
       "      <td>Пенза</td>\n",
       "      <td>3.8</td>\n",
       "    </tr>\n",
       "    <tr>\n",
       "      <th>8</th>\n",
       "      <td>Красноярск</td>\n",
       "      <td>1.9</td>\n",
       "    </tr>\n",
       "    <tr>\n",
       "      <th>9</th>\n",
       "      <td>Н Новгород</td>\n",
       "      <td>1.9</td>\n",
       "    </tr>\n",
       "  </tbody>\n",
       "</table>\n",
       "</div>"
      ],
      "text/plain": [
       "  Укажите ваш город  Жен., %\n",
       "0            Москва     19.2\n",
       "1   Санкт-Петербург      9.6\n",
       "2           Алмере       5.8\n",
       "3       Нидерланды       3.8\n",
       "4      Екатеринбург      3.8\n",
       "5           Саратов      3.8\n",
       "6         Краснодар      3.8\n",
       "7             Пенза      3.8\n",
       "8       Красноярск       1.9\n",
       "9        Н Новгород      1.9"
      ]
     },
     "execution_count": 16,
     "metadata": {},
     "output_type": "execute_result"
    }
   ],
   "source": [
    "f_30_39_City = round(f_30_39.iloc[:,[3]].value_counts() / f_30_39.iloc[:,[3]].value_counts().sum() * 100, 1).reset_index()\n",
    "f_30_39_City.columns = ['Укажите ваш город', 'Жен., %']\n",
    "f_30_39_City.head(10)"
   ]
  },
  {
   "cell_type": "markdown",
   "metadata": {},
   "source": [
    "# --------------------------------------------------------------------------------------------------------------\n"
   ]
  },
  {
   "cell_type": "markdown",
   "metadata": {},
   "source": [
    "### Женщины в возрасте 30-39 лет, проживающие в Москве и СПб  \n",
    "#### (15 человек)"
   ]
  },
  {
   "cell_type": "code",
   "execution_count": 17,
   "metadata": {},
   "outputs": [],
   "source": [
    "df_f_30_39_MSC_SPT = df.loc[(df['Укажите ваш возраст'] == '30-39 лет') & (df['Укажите ваш пол'] == 'Женский') & (df['Укажите ваш город'].isin(['Москва', 'Санкт-Петербург']))]"
   ]
  },
  {
   "cell_type": "code",
   "execution_count": 18,
   "metadata": {},
   "outputs": [
    {
     "name": "stdout",
     "output_type": "stream",
     "text": [
      "Доверительный интервал: (13.311527833854058, 50.0, 86.68847216614594)\n"
     ]
    },
    {
     "data": {
      "text/html": [
       "<div>\n",
       "<style scoped>\n",
       "    .dataframe tbody tr th:only-of-type {\n",
       "        vertical-align: middle;\n",
       "    }\n",
       "\n",
       "    .dataframe tbody tr th {\n",
       "        vertical-align: top;\n",
       "    }\n",
       "\n",
       "    .dataframe thead th {\n",
       "        text-align: right;\n",
       "    }\n",
       "</style>\n",
       "<table border=\"1\" class=\"dataframe\">\n",
       "  <thead>\n",
       "    <tr style=\"text-align: right;\">\n",
       "      <th></th>\n",
       "      <th>Какая цветовая гамма интернет-магазина вам нравится?</th>\n",
       "      <th>%</th>\n",
       "    </tr>\n",
       "  </thead>\n",
       "  <tbody>\n",
       "    <tr>\n",
       "      <th>0</th>\n",
       "      <td>Сдержанные оттенки (белый, черный, серый)</td>\n",
       "      <td>86.7</td>\n",
       "    </tr>\n",
       "    <tr>\n",
       "      <th>1</th>\n",
       "      <td>Яркая (синий, красный, зеленый и тд.)</td>\n",
       "      <td>13.3</td>\n",
       "    </tr>\n",
       "  </tbody>\n",
       "</table>\n",
       "</div>"
      ],
      "text/plain": [
       "  Какая цветовая гамма интернет-магазина вам нравится?     %\n",
       "0          Сдержанные оттенки (белый, черный, серый)    86.7\n",
       "1              Яркая (синий, красный, зеленый и тд.)    13.3"
      ]
     },
     "execution_count": 18,
     "metadata": {},
     "output_type": "execute_result"
    }
   ],
   "source": [
    "df_f_30_39_MSC_SPT_4 = round(df_f_30_39_MSC_SPT.iloc[:,[4]].value_counts() / df_f_30_39_MSC_SPT.iloc[:,[4]].value_counts().sum() * 100, 1).reset_index()\n",
    "df_f_30_39_MSC_SPT_4.columns = ['Какая цветовая гамма интернет-магазина вам нравится?', '%']\n",
    "print('Доверительный интервал:', mean_confidence_interval(df_f_30_39_MSC_SPT_4['%'], 0.4999))\n",
    "df_f_30_39_MSC_SPT_4"
   ]
  },
  {
   "cell_type": "code",
   "execution_count": 19,
   "metadata": {},
   "outputs": [
    {
     "name": "stdout",
     "output_type": "stream",
     "text": [
      "Доверительный интервал: (2.001727604528539, 7.5, 12.99827239547146)\n"
     ]
    },
    {
     "data": {
      "text/html": [
       "<div>\n",
       "<style scoped>\n",
       "    .dataframe tbody tr th:only-of-type {\n",
       "        vertical-align: middle;\n",
       "    }\n",
       "\n",
       "    .dataframe tbody tr th {\n",
       "        vertical-align: top;\n",
       "    }\n",
       "\n",
       "    .dataframe thead th {\n",
       "        text-align: right;\n",
       "    }\n",
       "</style>\n",
       "<table border=\"1\" class=\"dataframe\">\n",
       "  <thead>\n",
       "    <tr style=\"text-align: right;\">\n",
       "      <th></th>\n",
       "      <th>Какая цветовая гамма интернет-магазина вам нравится?</th>\n",
       "      <th>Count</th>\n",
       "    </tr>\n",
       "  </thead>\n",
       "  <tbody>\n",
       "    <tr>\n",
       "      <th>0</th>\n",
       "      <td>Сдержанные оттенки (белый, черный, серый)</td>\n",
       "      <td>13</td>\n",
       "    </tr>\n",
       "    <tr>\n",
       "      <th>1</th>\n",
       "      <td>Яркая (синий, красный, зеленый и тд.)</td>\n",
       "      <td>2</td>\n",
       "    </tr>\n",
       "  </tbody>\n",
       "</table>\n",
       "</div>"
      ],
      "text/plain": [
       "  Какая цветовая гамма интернет-магазина вам нравится?  Count\n",
       "0          Сдержанные оттенки (белый, черный, серый)       13\n",
       "1              Яркая (синий, красный, зеленый и тд.)        2"
      ]
     },
     "execution_count": 19,
     "metadata": {},
     "output_type": "execute_result"
    }
   ],
   "source": [
    "f_30_39_MSC_SPT_4 = df_f_30_39_MSC_SPT.iloc[:,[4]].value_counts().reset_index()\n",
    "f_30_39_MSC_SPT_4.columns = ['Какая цветовая гамма интернет-магазина вам нравится?', 'Count']\n",
    "f_30_39_MSC_SPT_4\n",
    "print('Доверительный интервал:', mean_confidence_interval(f_30_39_MSC_SPT_4['Count'], 0.4999))\n",
    "f_30_39_MSC_SPT_4"
   ]
  },
  {
   "cell_type": "code",
   "execution_count": null,
   "metadata": {},
   "outputs": [],
   "source": [
    "\n"
   ]
  },
  {
   "cell_type": "code",
   "execution_count": 20,
   "metadata": {},
   "outputs": [
    {
     "name": "stdout",
     "output_type": "stream",
     "text": [
      "Доверительный интервал: (6.7710365520018065, 25.025000000000002, 43.278963447998194)\n"
     ]
    },
    {
     "data": {
      "text/html": [
       "<div>\n",
       "<style scoped>\n",
       "    .dataframe tbody tr th:only-of-type {\n",
       "        vertical-align: middle;\n",
       "    }\n",
       "\n",
       "    .dataframe tbody tr th {\n",
       "        vertical-align: top;\n",
       "    }\n",
       "\n",
       "    .dataframe thead th {\n",
       "        text-align: right;\n",
       "    }\n",
       "</style>\n",
       "<table border=\"1\" class=\"dataframe\">\n",
       "  <thead>\n",
       "    <tr style=\"text-align: right;\">\n",
       "      <th></th>\n",
       "      <th>Сколько по времени вы готовы ждать свой заказ?</th>\n",
       "      <th>%</th>\n",
       "    </tr>\n",
       "  </thead>\n",
       "  <tbody>\n",
       "    <tr>\n",
       "      <th>0</th>\n",
       "      <td>1-3 рабочих дня</td>\n",
       "      <td>66.7</td>\n",
       "    </tr>\n",
       "    <tr>\n",
       "      <th>1</th>\n",
       "      <td>4-7 рабочих дней</td>\n",
       "      <td>20.0</td>\n",
       "    </tr>\n",
       "    <tr>\n",
       "      <th>2</th>\n",
       "      <td>более 7 рабочих дней</td>\n",
       "      <td>6.7</td>\n",
       "    </tr>\n",
       "    <tr>\n",
       "      <th>3</th>\n",
       "      <td>Неважно</td>\n",
       "      <td>6.7</td>\n",
       "    </tr>\n",
       "  </tbody>\n",
       "</table>\n",
       "</div>"
      ],
      "text/plain": [
       "  Сколько по времени вы готовы ждать свой заказ?     %\n",
       "0                                1-3 рабочих дня  66.7\n",
       "1                               4-7 рабочих дней  20.0\n",
       "2                           более 7 рабочих дней   6.7\n",
       "3                                        Неважно   6.7"
      ]
     },
     "execution_count": 20,
     "metadata": {},
     "output_type": "execute_result"
    }
   ],
   "source": [
    "df_f_30_39_MSC_SPT_5 = round(df_f_30_39_MSC_SPT.iloc[:,[5]].value_counts() / df_f_30_39_MSC_SPT.iloc[:,[5]].value_counts().sum() * 100, 1).reset_index()\n",
    "df_f_30_39_MSC_SPT_5.columns = ['Сколько по времени вы готовы ждать свой заказ?', '%']\n",
    "print('Доверительный интервал:', mean_confidence_interval(df_f_30_39_MSC_SPT_5['%'], 0.71))\n",
    "df_f_30_39_MSC_SPT_5"
   ]
  },
  {
   "cell_type": "code",
   "execution_count": 21,
   "metadata": {},
   "outputs": [
    {
     "name": "stdout",
     "output_type": "stream",
     "text": [
      "Доверительный интервал: (1.0120934730103013, 3.75, 6.487906526989699)\n"
     ]
    },
    {
     "data": {
      "text/html": [
       "<div>\n",
       "<style scoped>\n",
       "    .dataframe tbody tr th:only-of-type {\n",
       "        vertical-align: middle;\n",
       "    }\n",
       "\n",
       "    .dataframe tbody tr th {\n",
       "        vertical-align: top;\n",
       "    }\n",
       "\n",
       "    .dataframe thead th {\n",
       "        text-align: right;\n",
       "    }\n",
       "</style>\n",
       "<table border=\"1\" class=\"dataframe\">\n",
       "  <thead>\n",
       "    <tr style=\"text-align: right;\">\n",
       "      <th></th>\n",
       "      <th>Сколько по времени вы готовы ждать свой заказ?</th>\n",
       "      <th>Count</th>\n",
       "    </tr>\n",
       "  </thead>\n",
       "  <tbody>\n",
       "    <tr>\n",
       "      <th>0</th>\n",
       "      <td>1-3 рабочих дня</td>\n",
       "      <td>10</td>\n",
       "    </tr>\n",
       "    <tr>\n",
       "      <th>1</th>\n",
       "      <td>4-7 рабочих дней</td>\n",
       "      <td>3</td>\n",
       "    </tr>\n",
       "    <tr>\n",
       "      <th>2</th>\n",
       "      <td>более 7 рабочих дней</td>\n",
       "      <td>1</td>\n",
       "    </tr>\n",
       "    <tr>\n",
       "      <th>3</th>\n",
       "      <td>Неважно</td>\n",
       "      <td>1</td>\n",
       "    </tr>\n",
       "  </tbody>\n",
       "</table>\n",
       "</div>"
      ],
      "text/plain": [
       "  Сколько по времени вы готовы ждать свой заказ?  Count\n",
       "0                                1-3 рабочих дня     10\n",
       "1                               4-7 рабочих дней      3\n",
       "2                           более 7 рабочих дней      1\n",
       "3                                        Неважно      1"
      ]
     },
     "execution_count": 21,
     "metadata": {},
     "output_type": "execute_result"
    }
   ],
   "source": [
    "f_30_39_MSC_SPT_5 = df_f_30_39_MSC_SPT.iloc[:,[5]].value_counts().reset_index()\n",
    "f_30_39_MSC_SPT_5.columns = ['Сколько по времени вы готовы ждать свой заказ?', 'Count']\n",
    "print('Доверительный интервал:', mean_confidence_interval(f_30_39_MSC_SPT_5['Count'], 0.71))\n",
    "f_30_39_MSC_SPT_5"
   ]
  },
  {
   "cell_type": "code",
   "execution_count": null,
   "metadata": {},
   "outputs": [],
   "source": [
    "\n"
   ]
  },
  {
   "cell_type": "code",
   "execution_count": 22,
   "metadata": {},
   "outputs": [
    {
     "name": "stdout",
     "output_type": "stream",
     "text": [
      "Доверительный интервал: (6.73349762732566, 14.3, 21.86650237267434)\n"
     ]
    },
    {
     "data": {
      "text/html": [
       "<div>\n",
       "<style scoped>\n",
       "    .dataframe tbody tr th:only-of-type {\n",
       "        vertical-align: middle;\n",
       "    }\n",
       "\n",
       "    .dataframe tbody tr th {\n",
       "        vertical-align: top;\n",
       "    }\n",
       "\n",
       "    .dataframe thead th {\n",
       "        text-align: right;\n",
       "    }\n",
       "</style>\n",
       "<table border=\"1\" class=\"dataframe\">\n",
       "  <thead>\n",
       "    <tr style=\"text-align: right;\">\n",
       "      <th></th>\n",
       "      <th>Что из перечисленного могло бы мотивировать вас к покупке?</th>\n",
       "      <th>%</th>\n",
       "    </tr>\n",
       "  </thead>\n",
       "  <tbody>\n",
       "    <tr>\n",
       "      <th>0</th>\n",
       "      <td>Скидка</td>\n",
       "      <td>46.7</td>\n",
       "    </tr>\n",
       "    <tr>\n",
       "      <th>1</th>\n",
       "      <td>Скидка, Система лояльности</td>\n",
       "      <td>13.3</td>\n",
       "    </tr>\n",
       "    <tr>\n",
       "      <th>2</th>\n",
       "      <td>Ничего из перечисленного</td>\n",
       "      <td>13.3</td>\n",
       "    </tr>\n",
       "    <tr>\n",
       "      <th>3</th>\n",
       "      <td>Наличие промокода, Скидка, Система лояльности</td>\n",
       "      <td>6.7</td>\n",
       "    </tr>\n",
       "    <tr>\n",
       "      <th>4</th>\n",
       "      <td>Наличие промокода, Скидка</td>\n",
       "      <td>6.7</td>\n",
       "    </tr>\n",
       "    <tr>\n",
       "      <th>5</th>\n",
       "      <td>Наличие промокода, Система лояльности</td>\n",
       "      <td>6.7</td>\n",
       "    </tr>\n",
       "    <tr>\n",
       "      <th>6</th>\n",
       "      <td>Наличие промокода</td>\n",
       "      <td>6.7</td>\n",
       "    </tr>\n",
       "  </tbody>\n",
       "</table>\n",
       "</div>"
      ],
      "text/plain": [
       "  Что из перечисленного могло бы мотивировать вас к покупке?     %\n",
       "0                                             Скидка          46.7\n",
       "1                         Скидка, Система лояльности          13.3\n",
       "2                           Ничего из перечисленного          13.3\n",
       "3      Наличие промокода, Скидка, Система лояльности           6.7\n",
       "4                          Наличие промокода, Скидка           6.7\n",
       "5              Наличие промокода, Система лояльности           6.7\n",
       "6                                  Наличие промокода           6.7"
      ]
     },
     "execution_count": 22,
     "metadata": {},
     "output_type": "execute_result"
    }
   ],
   "source": [
    "df_f_30_39_MSC_SPT_6 = round(df_f_30_39_MSC_SPT.iloc[:,[6]].value_counts() / df_f_30_39_MSC_SPT.iloc[:,[6]].value_counts().sum() * 100, 1).reset_index()\n",
    "df_f_30_39_MSC_SPT_6.columns = ['Что из перечисленного могло бы мотивировать вас к покупке?', '%']\n",
    "print('Доверительный интервал:', mean_confidence_interval(df_f_30_39_MSC_SPT_6['%'], 0.78))\n",
    "df_f_30_39_MSC_SPT_6"
   ]
  },
  {
   "cell_type": "code",
   "execution_count": 23,
   "metadata": {},
   "outputs": [
    {
     "name": "stdout",
     "output_type": "stream",
     "text": [
      "Доверительный интервал: (1.0079969525674437, 2.142857142857143, 3.2777173331468417)\n"
     ]
    },
    {
     "data": {
      "text/html": [
       "<div>\n",
       "<style scoped>\n",
       "    .dataframe tbody tr th:only-of-type {\n",
       "        vertical-align: middle;\n",
       "    }\n",
       "\n",
       "    .dataframe tbody tr th {\n",
       "        vertical-align: top;\n",
       "    }\n",
       "\n",
       "    .dataframe thead th {\n",
       "        text-align: right;\n",
       "    }\n",
       "</style>\n",
       "<table border=\"1\" class=\"dataframe\">\n",
       "  <thead>\n",
       "    <tr style=\"text-align: right;\">\n",
       "      <th></th>\n",
       "      <th>Что из перечисленного могло бы мотивировать вас к покупке?</th>\n",
       "      <th>Count</th>\n",
       "    </tr>\n",
       "  </thead>\n",
       "  <tbody>\n",
       "    <tr>\n",
       "      <th>0</th>\n",
       "      <td>Скидка</td>\n",
       "      <td>7</td>\n",
       "    </tr>\n",
       "    <tr>\n",
       "      <th>1</th>\n",
       "      <td>Скидка, Система лояльности</td>\n",
       "      <td>2</td>\n",
       "    </tr>\n",
       "    <tr>\n",
       "      <th>2</th>\n",
       "      <td>Ничего из перечисленного</td>\n",
       "      <td>2</td>\n",
       "    </tr>\n",
       "    <tr>\n",
       "      <th>3</th>\n",
       "      <td>Наличие промокода, Скидка, Система лояльности</td>\n",
       "      <td>1</td>\n",
       "    </tr>\n",
       "    <tr>\n",
       "      <th>4</th>\n",
       "      <td>Наличие промокода, Скидка</td>\n",
       "      <td>1</td>\n",
       "    </tr>\n",
       "    <tr>\n",
       "      <th>5</th>\n",
       "      <td>Наличие промокода, Система лояльности</td>\n",
       "      <td>1</td>\n",
       "    </tr>\n",
       "    <tr>\n",
       "      <th>6</th>\n",
       "      <td>Наличие промокода</td>\n",
       "      <td>1</td>\n",
       "    </tr>\n",
       "  </tbody>\n",
       "</table>\n",
       "</div>"
      ],
      "text/plain": [
       "  Что из перечисленного могло бы мотивировать вас к покупке?  Count\n",
       "0                                             Скидка              7\n",
       "1                         Скидка, Система лояльности              2\n",
       "2                           Ничего из перечисленного              2\n",
       "3      Наличие промокода, Скидка, Система лояльности              1\n",
       "4                          Наличие промокода, Скидка              1\n",
       "5              Наличие промокода, Система лояльности              1\n",
       "6                                  Наличие промокода              1"
      ]
     },
     "execution_count": 23,
     "metadata": {},
     "output_type": "execute_result"
    }
   ],
   "source": [
    "f_30_39_MSC_SPT_6 = df_f_30_39_MSC_SPT.iloc[:,[6]].value_counts().reset_index()\n",
    "f_30_39_MSC_SPT_6.columns = ['Что из перечисленного могло бы мотивировать вас к покупке?', 'Count']\n",
    "print('Доверительный интервал:', mean_confidence_interval(f_30_39_MSC_SPT_6['Count'], 0.78))\n",
    "f_30_39_MSC_SPT_6"
   ]
  },
  {
   "cell_type": "code",
   "execution_count": null,
   "metadata": {},
   "outputs": [],
   "source": [
    "\n"
   ]
  },
  {
   "cell_type": "code",
   "execution_count": 24,
   "metadata": {},
   "outputs": [
    {
     "name": "stdout",
     "output_type": "stream",
     "text": [
      "Доверительный интервал: (26.78063338753988, 33.333333333333336, 39.88603327912679)\n"
     ]
    },
    {
     "data": {
      "text/html": [
       "<div>\n",
       "<style scoped>\n",
       "    .dataframe tbody tr th:only-of-type {\n",
       "        vertical-align: middle;\n",
       "    }\n",
       "\n",
       "    .dataframe tbody tr th {\n",
       "        vertical-align: top;\n",
       "    }\n",
       "\n",
       "    .dataframe thead th {\n",
       "        text-align: right;\n",
       "    }\n",
       "</style>\n",
       "<table border=\"1\" class=\"dataframe\">\n",
       "  <thead>\n",
       "    <tr style=\"text-align: right;\">\n",
       "      <th></th>\n",
       "      <th>Как долго вы готовы ждать ответа от менеджера  по вашему заказу?</th>\n",
       "      <th>%</th>\n",
       "    </tr>\n",
       "  </thead>\n",
       "  <tbody>\n",
       "    <tr>\n",
       "      <th>0</th>\n",
       "      <td>В течение часа</td>\n",
       "      <td>40.0</td>\n",
       "    </tr>\n",
       "    <tr>\n",
       "      <th>1</th>\n",
       "      <td>1-3 часа</td>\n",
       "      <td>33.3</td>\n",
       "    </tr>\n",
       "    <tr>\n",
       "      <th>2</th>\n",
       "      <td>В течение суток</td>\n",
       "      <td>26.7</td>\n",
       "    </tr>\n",
       "  </tbody>\n",
       "</table>\n",
       "</div>"
      ],
      "text/plain": [
       "  Как долго вы готовы ждать ответа от менеджера  по вашему заказу?     %\n",
       "0                                     В течение часа                40.0\n",
       "1                                           1-3 часа                33.3\n",
       "2                                    В течение суток                26.7"
      ]
     },
     "execution_count": 24,
     "metadata": {},
     "output_type": "execute_result"
    }
   ],
   "source": [
    "df_f_30_39_MSC_SPT_7 = round(df_f_30_39_MSC_SPT.iloc[:,[7]].value_counts() / df_f_30_39_MSC_SPT.iloc[:,[7]].value_counts().sum() * 100, 1).reset_index()\n",
    "df_f_30_39_MSC_SPT_7.columns = ['Как долго вы готовы ждать ответа от менеджера  по вашему заказу?', '%']\n",
    "print('Доверительный интервал:', mean_confidence_interval(df_f_30_39_MSC_SPT_7['%'], 0.77))\n",
    "df_f_30_39_MSC_SPT_7"
   ]
  },
  {
   "cell_type": "code",
   "execution_count": 25,
   "metadata": {},
   "outputs": [
    {
     "name": "stdout",
     "output_type": "stream",
     "text": [
      "Доверительный интервал: (4.014640871159321, 5.0, 5.985359128840679)\n"
     ]
    },
    {
     "data": {
      "text/html": [
       "<div>\n",
       "<style scoped>\n",
       "    .dataframe tbody tr th:only-of-type {\n",
       "        vertical-align: middle;\n",
       "    }\n",
       "\n",
       "    .dataframe tbody tr th {\n",
       "        vertical-align: top;\n",
       "    }\n",
       "\n",
       "    .dataframe thead th {\n",
       "        text-align: right;\n",
       "    }\n",
       "</style>\n",
       "<table border=\"1\" class=\"dataframe\">\n",
       "  <thead>\n",
       "    <tr style=\"text-align: right;\">\n",
       "      <th></th>\n",
       "      <th>Как долго вы готовы ждать ответа от менеджера  по вашему заказу?</th>\n",
       "      <th>Count</th>\n",
       "    </tr>\n",
       "  </thead>\n",
       "  <tbody>\n",
       "    <tr>\n",
       "      <th>0</th>\n",
       "      <td>В течение часа</td>\n",
       "      <td>6</td>\n",
       "    </tr>\n",
       "    <tr>\n",
       "      <th>1</th>\n",
       "      <td>1-3 часа</td>\n",
       "      <td>5</td>\n",
       "    </tr>\n",
       "    <tr>\n",
       "      <th>2</th>\n",
       "      <td>В течение суток</td>\n",
       "      <td>4</td>\n",
       "    </tr>\n",
       "  </tbody>\n",
       "</table>\n",
       "</div>"
      ],
      "text/plain": [
       "  Как долго вы готовы ждать ответа от менеджера  по вашему заказу?  Count\n",
       "0                                     В течение часа                    6\n",
       "1                                           1-3 часа                    5\n",
       "2                                    В течение суток                    4"
      ]
     },
     "execution_count": 25,
     "metadata": {},
     "output_type": "execute_result"
    }
   ],
   "source": [
    "f_30_39_MSC_SPT_7 = df_f_30_39_MSC_SPT.iloc[:,[7]].value_counts().reset_index()\n",
    "f_30_39_MSC_SPT_7.columns = ['Как долго вы готовы ждать ответа от менеджера  по вашему заказу?', 'Count']\n",
    "print('Доверительный интервал:', mean_confidence_interval(f_30_39_MSC_SPT_7['Count'], 0.77))\n",
    "f_30_39_MSC_SPT_7"
   ]
  },
  {
   "cell_type": "code",
   "execution_count": null,
   "metadata": {},
   "outputs": [],
   "source": [
    "\n"
   ]
  },
  {
   "cell_type": "code",
   "execution_count": 26,
   "metadata": {},
   "outputs": [
    {
     "name": "stdout",
     "output_type": "stream",
     "text": [
      "Доверительный интервал: (6.843115194693465, 11.122222222222224, 15.401329249750983)\n"
     ]
    },
    {
     "data": {
      "text/html": [
       "<div>\n",
       "<style scoped>\n",
       "    .dataframe tbody tr th:only-of-type {\n",
       "        vertical-align: middle;\n",
       "    }\n",
       "\n",
       "    .dataframe tbody tr th {\n",
       "        vertical-align: top;\n",
       "    }\n",
       "\n",
       "    .dataframe thead th {\n",
       "        text-align: right;\n",
       "    }\n",
       "</style>\n",
       "<table border=\"1\" class=\"dataframe\">\n",
       "  <thead>\n",
       "    <tr style=\"text-align: right;\">\n",
       "      <th></th>\n",
       "      <th>Какой способ обратной связи с менеджером вам наиболее удобен?</th>\n",
       "      <th>%</th>\n",
       "    </tr>\n",
       "  </thead>\n",
       "  <tbody>\n",
       "    <tr>\n",
       "      <th>0</th>\n",
       "      <td>На самом сайте (чат), Получить ответ в мессенд...</td>\n",
       "      <td>26.7</td>\n",
       "    </tr>\n",
       "    <tr>\n",
       "      <th>1</th>\n",
       "      <td>Получить ответ на телефон (смс)</td>\n",
       "      <td>13.3</td>\n",
       "    </tr>\n",
       "    <tr>\n",
       "      <th>2</th>\n",
       "      <td>Получить ответ на почту, Получить ответ в месс...</td>\n",
       "      <td>13.3</td>\n",
       "    </tr>\n",
       "    <tr>\n",
       "      <th>3</th>\n",
       "      <td>На самом сайте (чат)</td>\n",
       "      <td>13.3</td>\n",
       "    </tr>\n",
       "    <tr>\n",
       "      <th>4</th>\n",
       "      <td>Получить ответ на телефон (звонок), Получить о...</td>\n",
       "      <td>6.7</td>\n",
       "    </tr>\n",
       "    <tr>\n",
       "      <th>5</th>\n",
       "      <td>Получить ответ на почту</td>\n",
       "      <td>6.7</td>\n",
       "    </tr>\n",
       "    <tr>\n",
       "      <th>6</th>\n",
       "      <td>Получить ответ в мессенджере/в соцсетях</td>\n",
       "      <td>6.7</td>\n",
       "    </tr>\n",
       "    <tr>\n",
       "      <th>7</th>\n",
       "      <td>На самом сайте (чат), Получить ответ на почту,...</td>\n",
       "      <td>6.7</td>\n",
       "    </tr>\n",
       "    <tr>\n",
       "      <th>8</th>\n",
       "      <td>На самом сайте (чат), Получить ответ на почту,...</td>\n",
       "      <td>6.7</td>\n",
       "    </tr>\n",
       "  </tbody>\n",
       "</table>\n",
       "</div>"
      ],
      "text/plain": [
       "  Какой способ обратной связи с менеджером вам наиболее удобен?     %\n",
       "0  На самом сайте (чат), Получить ответ в мессенд...             26.7\n",
       "1                    Получить ответ на телефон (смс)             13.3\n",
       "2  Получить ответ на почту, Получить ответ в месс...             13.3\n",
       "3                               На самом сайте (чат)             13.3\n",
       "4  Получить ответ на телефон (звонок), Получить о...              6.7\n",
       "5                            Получить ответ на почту              6.7\n",
       "6            Получить ответ в мессенджере/в соцсетях              6.7\n",
       "7  На самом сайте (чат), Получить ответ на почту,...              6.7\n",
       "8  На самом сайте (чат), Получить ответ на почту,...              6.7"
      ]
     },
     "execution_count": 26,
     "metadata": {},
     "output_type": "execute_result"
    }
   ],
   "source": [
    "df_f_30_39_MSC_SPT_8 = round(df_f_30_39_MSC_SPT.iloc[:,[8]].value_counts() / df_f_30_39_MSC_SPT.iloc[:,[8]].value_counts().sum() * 100, 1).reset_index()\n",
    "df_f_30_39_MSC_SPT_8.columns = ['Какой способ обратной связи с менеджером вам наиболее удобен?', '%']\n",
    "print('Доверительный интервал:', mean_confidence_interval(df_f_30_39_MSC_SPT_8['%'], 0.91))\n",
    "df_f_30_39_MSC_SPT_8"
   ]
  },
  {
   "cell_type": "code",
   "execution_count": 27,
   "metadata": {},
   "outputs": [
    {
     "name": "stdout",
     "output_type": "stream",
     "text": [
      "Доверительный интервал: (1.0240048258112115, 1.6666666666666667, 2.309328507522122)\n"
     ]
    },
    {
     "data": {
      "text/html": [
       "<div>\n",
       "<style scoped>\n",
       "    .dataframe tbody tr th:only-of-type {\n",
       "        vertical-align: middle;\n",
       "    }\n",
       "\n",
       "    .dataframe tbody tr th {\n",
       "        vertical-align: top;\n",
       "    }\n",
       "\n",
       "    .dataframe thead th {\n",
       "        text-align: right;\n",
       "    }\n",
       "</style>\n",
       "<table border=\"1\" class=\"dataframe\">\n",
       "  <thead>\n",
       "    <tr style=\"text-align: right;\">\n",
       "      <th></th>\n",
       "      <th>Какой способ обратной связи с менеджером вам наиболее удобен?</th>\n",
       "      <th>Count</th>\n",
       "    </tr>\n",
       "  </thead>\n",
       "  <tbody>\n",
       "    <tr>\n",
       "      <th>0</th>\n",
       "      <td>На самом сайте (чат), Получить ответ в мессенд...</td>\n",
       "      <td>4</td>\n",
       "    </tr>\n",
       "    <tr>\n",
       "      <th>1</th>\n",
       "      <td>Получить ответ на телефон (смс)</td>\n",
       "      <td>2</td>\n",
       "    </tr>\n",
       "    <tr>\n",
       "      <th>2</th>\n",
       "      <td>Получить ответ на почту, Получить ответ в месс...</td>\n",
       "      <td>2</td>\n",
       "    </tr>\n",
       "    <tr>\n",
       "      <th>3</th>\n",
       "      <td>На самом сайте (чат)</td>\n",
       "      <td>2</td>\n",
       "    </tr>\n",
       "    <tr>\n",
       "      <th>4</th>\n",
       "      <td>Получить ответ на телефон (звонок), Получить о...</td>\n",
       "      <td>1</td>\n",
       "    </tr>\n",
       "    <tr>\n",
       "      <th>5</th>\n",
       "      <td>Получить ответ на почту</td>\n",
       "      <td>1</td>\n",
       "    </tr>\n",
       "    <tr>\n",
       "      <th>6</th>\n",
       "      <td>Получить ответ в мессенджере/в соцсетях</td>\n",
       "      <td>1</td>\n",
       "    </tr>\n",
       "    <tr>\n",
       "      <th>7</th>\n",
       "      <td>На самом сайте (чат), Получить ответ на почту,...</td>\n",
       "      <td>1</td>\n",
       "    </tr>\n",
       "    <tr>\n",
       "      <th>8</th>\n",
       "      <td>На самом сайте (чат), Получить ответ на почту,...</td>\n",
       "      <td>1</td>\n",
       "    </tr>\n",
       "  </tbody>\n",
       "</table>\n",
       "</div>"
      ],
      "text/plain": [
       "  Какой способ обратной связи с менеджером вам наиболее удобен?  Count\n",
       "0  На самом сайте (чат), Получить ответ в мессенд...                 4\n",
       "1                    Получить ответ на телефон (смс)                 2\n",
       "2  Получить ответ на почту, Получить ответ в месс...                 2\n",
       "3                               На самом сайте (чат)                 2\n",
       "4  Получить ответ на телефон (звонок), Получить о...                 1\n",
       "5                            Получить ответ на почту                 1\n",
       "6            Получить ответ в мессенджере/в соцсетях                 1\n",
       "7  На самом сайте (чат), Получить ответ на почту,...                 1\n",
       "8  На самом сайте (чат), Получить ответ на почту,...                 1"
      ]
     },
     "execution_count": 27,
     "metadata": {},
     "output_type": "execute_result"
    }
   ],
   "source": [
    "f_30_39_MSC_SPT_8 = df_f_30_39_MSC_SPT.iloc[:,[8]].value_counts().reset_index()\n",
    "f_30_39_MSC_SPT_8.columns = ['Какой способ обратной связи с менеджером вам наиболее удобен?', 'Count']\n",
    "print('Доверительный интервал:', mean_confidence_interval(f_30_39_MSC_SPT_8['Count'], 0.91))\n",
    "f_30_39_MSC_SPT_8"
   ]
  },
  {
   "cell_type": "code",
   "execution_count": null,
   "metadata": {},
   "outputs": [],
   "source": [
    "\n"
   ]
  },
  {
   "cell_type": "code",
   "execution_count": 28,
   "metadata": {},
   "outputs": [
    {
     "name": "stdout",
     "output_type": "stream",
     "text": [
      "Доверительный интервал: (7.360830103752878, 33.333333333333336, 59.3058365629138)\n"
     ]
    },
    {
     "data": {
      "text/html": [
       "<div>\n",
       "<style scoped>\n",
       "    .dataframe tbody tr th:only-of-type {\n",
       "        vertical-align: middle;\n",
       "    }\n",
       "\n",
       "    .dataframe tbody tr th {\n",
       "        vertical-align: top;\n",
       "    }\n",
       "\n",
       "    .dataframe thead th {\n",
       "        text-align: right;\n",
       "    }\n",
       "</style>\n",
       "<table border=\"1\" class=\"dataframe\">\n",
       "  <thead>\n",
       "    <tr style=\"text-align: right;\">\n",
       "      <th></th>\n",
       "      <th>Вы когда-нибудь покупали мерч?</th>\n",
       "      <th>%</th>\n",
       "    </tr>\n",
       "  </thead>\n",
       "  <tbody>\n",
       "    <tr>\n",
       "      <th>0</th>\n",
       "      <td>Да</td>\n",
       "      <td>73.3</td>\n",
       "    </tr>\n",
       "    <tr>\n",
       "      <th>1</th>\n",
       "      <td>Нет и не планирую</td>\n",
       "      <td>20.0</td>\n",
       "    </tr>\n",
       "    <tr>\n",
       "      <th>2</th>\n",
       "      <td>Нет, но планирую</td>\n",
       "      <td>6.7</td>\n",
       "    </tr>\n",
       "  </tbody>\n",
       "</table>\n",
       "</div>"
      ],
      "text/plain": [
       "  Вы когда-нибудь покупали мерч?     %\n",
       "0                             Да  73.3\n",
       "1              Нет и не планирую  20.0\n",
       "2               Нет, но планирую   6.7"
      ]
     },
     "execution_count": 28,
     "metadata": {},
     "output_type": "execute_result"
    }
   ],
   "source": [
    "df_f_30_39_MSC_SPT_9 = round(df_f_30_39_MSC_SPT.iloc[:,[9]].value_counts() / df_f_30_39_MSC_SPT.iloc[:,[9]].value_counts().sum() * 100, 1).reset_index()\n",
    "df_f_30_39_MSC_SPT_9.columns = ['Вы когда-нибудь покупали мерч?', '%']\n",
    "print('Доверительный интервал:', mean_confidence_interval(df_f_30_39_MSC_SPT_9['%'], 0.67))\n",
    "df_f_30_39_MSC_SPT_9"
   ]
  },
  {
   "cell_type": "code",
   "execution_count": 29,
   "metadata": {},
   "outputs": [
    {
     "name": "stdout",
     "output_type": "stream",
     "text": [
      "Доверительный интервал: (1.1006431336115057, 5.0, 8.899356866388494)\n"
     ]
    },
    {
     "data": {
      "text/html": [
       "<div>\n",
       "<style scoped>\n",
       "    .dataframe tbody tr th:only-of-type {\n",
       "        vertical-align: middle;\n",
       "    }\n",
       "\n",
       "    .dataframe tbody tr th {\n",
       "        vertical-align: top;\n",
       "    }\n",
       "\n",
       "    .dataframe thead th {\n",
       "        text-align: right;\n",
       "    }\n",
       "</style>\n",
       "<table border=\"1\" class=\"dataframe\">\n",
       "  <thead>\n",
       "    <tr style=\"text-align: right;\">\n",
       "      <th></th>\n",
       "      <th>Вы когда-нибудь покупали мерч?</th>\n",
       "      <th>Count</th>\n",
       "    </tr>\n",
       "  </thead>\n",
       "  <tbody>\n",
       "    <tr>\n",
       "      <th>0</th>\n",
       "      <td>Да</td>\n",
       "      <td>11</td>\n",
       "    </tr>\n",
       "    <tr>\n",
       "      <th>1</th>\n",
       "      <td>Нет и не планирую</td>\n",
       "      <td>3</td>\n",
       "    </tr>\n",
       "    <tr>\n",
       "      <th>2</th>\n",
       "      <td>Нет, но планирую</td>\n",
       "      <td>1</td>\n",
       "    </tr>\n",
       "  </tbody>\n",
       "</table>\n",
       "</div>"
      ],
      "text/plain": [
       "  Вы когда-нибудь покупали мерч?  Count\n",
       "0                             Да     11\n",
       "1              Нет и не планирую      3\n",
       "2               Нет, но планирую      1"
      ]
     },
     "execution_count": 29,
     "metadata": {},
     "output_type": "execute_result"
    }
   ],
   "source": [
    "f_30_39_MSC_SPT_9 = df_f_30_39_MSC_SPT.iloc[:,[9]].value_counts().reset_index()\n",
    "f_30_39_MSC_SPT_9.columns = ['Вы когда-нибудь покупали мерч?', 'Count']\n",
    "print('Доверительный интервал:', mean_confidence_interval(f_30_39_MSC_SPT_9['Count'], 0.67))\n",
    "f_30_39_MSC_SPT_9"
   ]
  },
  {
   "cell_type": "code",
   "execution_count": null,
   "metadata": {},
   "outputs": [],
   "source": [
    "\n"
   ]
  },
  {
   "cell_type": "code",
   "execution_count": 30,
   "metadata": {},
   "outputs": [
    {
     "name": "stdout",
     "output_type": "stream",
     "text": [
      "Доверительный интервал: (6.7710365520018065, 25.025000000000002, 43.278963447998194)\n"
     ]
    },
    {
     "data": {
      "text/html": [
       "<div>\n",
       "<style scoped>\n",
       "    .dataframe tbody tr th:only-of-type {\n",
       "        vertical-align: middle;\n",
       "    }\n",
       "\n",
       "    .dataframe tbody tr th {\n",
       "        vertical-align: top;\n",
       "    }\n",
       "\n",
       "    .dataframe thead th {\n",
       "        text-align: right;\n",
       "    }\n",
       "</style>\n",
       "<table border=\"1\" class=\"dataframe\">\n",
       "  <thead>\n",
       "    <tr style=\"text-align: right;\">\n",
       "      <th></th>\n",
       "      <th>Вам важно, какого размера будет логотип на мерче?</th>\n",
       "      <th>%</th>\n",
       "    </tr>\n",
       "  </thead>\n",
       "  <tbody>\n",
       "    <tr>\n",
       "      <th>0</th>\n",
       "      <td>Да, нравится, когда логотип маленького размера</td>\n",
       "      <td>66.7</td>\n",
       "    </tr>\n",
       "    <tr>\n",
       "      <th>1</th>\n",
       "      <td>Не люблю, когда на мерче есть логотип</td>\n",
       "      <td>20.0</td>\n",
       "    </tr>\n",
       "    <tr>\n",
       "      <th>2</th>\n",
       "      <td>Нет, мне неважно, какого размера будет логотип</td>\n",
       "      <td>6.7</td>\n",
       "    </tr>\n",
       "    <tr>\n",
       "      <th>3</th>\n",
       "      <td>Да, нравится, когда логотип крупный</td>\n",
       "      <td>6.7</td>\n",
       "    </tr>\n",
       "  </tbody>\n",
       "</table>\n",
       "</div>"
      ],
      "text/plain": [
       "  Вам важно, какого размера будет логотип на мерче?     %\n",
       "0    Да, нравится, когда логотип маленького размера  66.7\n",
       "1             Не люблю, когда на мерче есть логотип  20.0\n",
       "2    Нет, мне неважно, какого размера будет логотип   6.7\n",
       "3               Да, нравится, когда логотип крупный   6.7"
      ]
     },
     "execution_count": 30,
     "metadata": {},
     "output_type": "execute_result"
    }
   ],
   "source": [
    "df_f_30_39_MSC_SPT_10 = round(df_f_30_39_MSC_SPT.iloc[:,[10]].value_counts() / df_f_30_39_MSC_SPT.iloc[:,[10]].value_counts().sum() * 100, 1).reset_index()\n",
    "df_f_30_39_MSC_SPT_10.columns = ['Вам важно, какого размера будет логотип на мерче?', '%']\n",
    "print('Доверительный интервал:', mean_confidence_interval(df_f_30_39_MSC_SPT_10['%'], 0.71))\n",
    "df_f_30_39_MSC_SPT_10"
   ]
  },
  {
   "cell_type": "code",
   "execution_count": 31,
   "metadata": {},
   "outputs": [
    {
     "name": "stdout",
     "output_type": "stream",
     "text": [
      "Доверительный интервал: (1.0120934730103013, 3.75, 6.487906526989699)\n"
     ]
    },
    {
     "data": {
      "text/html": [
       "<div>\n",
       "<style scoped>\n",
       "    .dataframe tbody tr th:only-of-type {\n",
       "        vertical-align: middle;\n",
       "    }\n",
       "\n",
       "    .dataframe tbody tr th {\n",
       "        vertical-align: top;\n",
       "    }\n",
       "\n",
       "    .dataframe thead th {\n",
       "        text-align: right;\n",
       "    }\n",
       "</style>\n",
       "<table border=\"1\" class=\"dataframe\">\n",
       "  <thead>\n",
       "    <tr style=\"text-align: right;\">\n",
       "      <th></th>\n",
       "      <th>Вам важно, какого размера будет логотип на мерче?</th>\n",
       "      <th>Count</th>\n",
       "    </tr>\n",
       "  </thead>\n",
       "  <tbody>\n",
       "    <tr>\n",
       "      <th>0</th>\n",
       "      <td>Да, нравится, когда логотип маленького размера</td>\n",
       "      <td>10</td>\n",
       "    </tr>\n",
       "    <tr>\n",
       "      <th>1</th>\n",
       "      <td>Не люблю, когда на мерче есть логотип</td>\n",
       "      <td>3</td>\n",
       "    </tr>\n",
       "    <tr>\n",
       "      <th>2</th>\n",
       "      <td>Нет, мне неважно, какого размера будет логотип</td>\n",
       "      <td>1</td>\n",
       "    </tr>\n",
       "    <tr>\n",
       "      <th>3</th>\n",
       "      <td>Да, нравится, когда логотип крупный</td>\n",
       "      <td>1</td>\n",
       "    </tr>\n",
       "  </tbody>\n",
       "</table>\n",
       "</div>"
      ],
      "text/plain": [
       "  Вам важно, какого размера будет логотип на мерче?  Count\n",
       "0    Да, нравится, когда логотип маленького размера     10\n",
       "1             Не люблю, когда на мерче есть логотип      3\n",
       "2    Нет, мне неважно, какого размера будет логотип      1\n",
       "3               Да, нравится, когда логотип крупный      1"
      ]
     },
     "execution_count": 31,
     "metadata": {},
     "output_type": "execute_result"
    }
   ],
   "source": [
    "f_30_39_MSC_SPT_10 = df_f_30_39_MSC_SPT.iloc[:,[10]].value_counts().reset_index()\n",
    "f_30_39_MSC_SPT_10.columns = ['Вам важно, какого размера будет логотип на мерче?', 'Count']\n",
    "print('Доверительный интервал:', mean_confidence_interval(f_30_39_MSC_SPT_10['Count'], 0.71))\n",
    "f_30_39_MSC_SPT_10"
   ]
  },
  {
   "cell_type": "code",
   "execution_count": null,
   "metadata": {},
   "outputs": [],
   "source": [
    "\n"
   ]
  },
  {
   "cell_type": "code",
   "execution_count": 32,
   "metadata": {},
   "outputs": [
    {
     "name": "stdout",
     "output_type": "stream",
     "text": [
      "Доверительный интервал: (20.1076384408585, 25.0, 29.8923615591415)\n"
     ]
    },
    {
     "data": {
      "text/html": [
       "<div>\n",
       "<style scoped>\n",
       "    .dataframe tbody tr th:only-of-type {\n",
       "        vertical-align: middle;\n",
       "    }\n",
       "\n",
       "    .dataframe tbody tr th {\n",
       "        vertical-align: top;\n",
       "    }\n",
       "\n",
       "    .dataframe thead th {\n",
       "        text-align: right;\n",
       "    }\n",
       "</style>\n",
       "<table border=\"1\" class=\"dataframe\">\n",
       "  <thead>\n",
       "    <tr style=\"text-align: right;\">\n",
       "      <th></th>\n",
       "      <th>Какой мерч вам интереснее всего?</th>\n",
       "      <th>%</th>\n",
       "    </tr>\n",
       "  </thead>\n",
       "  <tbody>\n",
       "    <tr>\n",
       "      <th>0</th>\n",
       "      <td>Канцтовары (блокноты, ручки, стикеры и др.)</td>\n",
       "      <td>40.0</td>\n",
       "    </tr>\n",
       "    <tr>\n",
       "      <th>1</th>\n",
       "      <td>Посуда (кружки, термокружки и др.)</td>\n",
       "      <td>20.0</td>\n",
       "    </tr>\n",
       "    <tr>\n",
       "      <th>2</th>\n",
       "      <td>Одежда (футболки, худи и др.)</td>\n",
       "      <td>20.0</td>\n",
       "    </tr>\n",
       "    <tr>\n",
       "      <th>3</th>\n",
       "      <td>Аксессуары (шоперы, шарфы и др.)</td>\n",
       "      <td>20.0</td>\n",
       "    </tr>\n",
       "  </tbody>\n",
       "</table>\n",
       "</div>"
      ],
      "text/plain": [
       "              Какой мерч вам интереснее всего?     %\n",
       "0  Канцтовары (блокноты, ручки, стикеры и др.)  40.0\n",
       "1           Посуда (кружки, термокружки и др.)  20.0\n",
       "2                Одежда (футболки, худи и др.)  20.0\n",
       "3             Аксессуары (шоперы, шарфы и др.)  20.0"
      ]
     },
     "execution_count": 32,
     "metadata": {},
     "output_type": "execute_result"
    }
   ],
   "source": [
    "df_f_30_39_MSC_SPT_11 = round(df_f_30_39_MSC_SPT.iloc[:,[11]].value_counts() / df_f_30_39_MSC_SPT.iloc[:,[11]].value_counts().sum() * 100, 1).reset_index()\n",
    "df_f_30_39_MSC_SPT_11.columns = ['Какой мерч вам интереснее всего?', '%']\n",
    "print('Доверительный интервал:', mean_confidence_interval(df_f_30_39_MSC_SPT_11['%'], 0.60))\n",
    "df_f_30_39_MSC_SPT_11"
   ]
  },
  {
   "cell_type": "code",
   "execution_count": 33,
   "metadata": {},
   "outputs": [
    {
     "name": "stdout",
     "output_type": "stream",
     "text": [
      "Доверительный интервал: (3.0161457661287754, 3.75, 4.483854233871225)\n"
     ]
    },
    {
     "data": {
      "text/html": [
       "<div>\n",
       "<style scoped>\n",
       "    .dataframe tbody tr th:only-of-type {\n",
       "        vertical-align: middle;\n",
       "    }\n",
       "\n",
       "    .dataframe tbody tr th {\n",
       "        vertical-align: top;\n",
       "    }\n",
       "\n",
       "    .dataframe thead th {\n",
       "        text-align: right;\n",
       "    }\n",
       "</style>\n",
       "<table border=\"1\" class=\"dataframe\">\n",
       "  <thead>\n",
       "    <tr style=\"text-align: right;\">\n",
       "      <th></th>\n",
       "      <th>Какой мерч вам интереснее всего?</th>\n",
       "      <th>Count</th>\n",
       "    </tr>\n",
       "  </thead>\n",
       "  <tbody>\n",
       "    <tr>\n",
       "      <th>0</th>\n",
       "      <td>Канцтовары (блокноты, ручки, стикеры и др.)</td>\n",
       "      <td>6</td>\n",
       "    </tr>\n",
       "    <tr>\n",
       "      <th>1</th>\n",
       "      <td>Посуда (кружки, термокружки и др.)</td>\n",
       "      <td>3</td>\n",
       "    </tr>\n",
       "    <tr>\n",
       "      <th>2</th>\n",
       "      <td>Одежда (футболки, худи и др.)</td>\n",
       "      <td>3</td>\n",
       "    </tr>\n",
       "    <tr>\n",
       "      <th>3</th>\n",
       "      <td>Аксессуары (шоперы, шарфы и др.)</td>\n",
       "      <td>3</td>\n",
       "    </tr>\n",
       "  </tbody>\n",
       "</table>\n",
       "</div>"
      ],
      "text/plain": [
       "              Какой мерч вам интереснее всего?  Count\n",
       "0  Канцтовары (блокноты, ручки, стикеры и др.)      6\n",
       "1           Посуда (кружки, термокружки и др.)      3\n",
       "2                Одежда (футболки, худи и др.)      3\n",
       "3             Аксессуары (шоперы, шарфы и др.)      3"
      ]
     },
     "execution_count": 33,
     "metadata": {},
     "output_type": "execute_result"
    }
   ],
   "source": [
    "f_30_39_MSC_SPT_11 = df_f_30_39_MSC_SPT.iloc[:,[11]].value_counts().reset_index()\n",
    "f_30_39_MSC_SPT_11.columns = ['Какой мерч вам интереснее всего?', 'Count']\n",
    "print('Доверительный интервал:', mean_confidence_interval(f_30_39_MSC_SPT_11['Count'], 0.60))\n",
    "f_30_39_MSC_SPT_11"
   ]
  },
  {
   "cell_type": "code",
   "execution_count": null,
   "metadata": {},
   "outputs": [],
   "source": [
    "\n"
   ]
  },
  {
   "cell_type": "code",
   "execution_count": 34,
   "metadata": {},
   "outputs": [
    {
     "data": {
      "text/html": [
       "<div>\n",
       "<style scoped>\n",
       "    .dataframe tbody tr th:only-of-type {\n",
       "        vertical-align: middle;\n",
       "    }\n",
       "\n",
       "    .dataframe tbody tr th {\n",
       "        vertical-align: top;\n",
       "    }\n",
       "\n",
       "    .dataframe thead th {\n",
       "        text-align: right;\n",
       "    }\n",
       "</style>\n",
       "<table border=\"1\" class=\"dataframe\">\n",
       "  <thead>\n",
       "    <tr style=\"text-align: right;\">\n",
       "      <th></th>\n",
       "      <th>Вам был бы интересен мерч без логотипа, который отражал бы философию конкретного бренда? Пример - футболки с надписью \"Иноагент\", выпущенные \"Медузой\" совместно с другими брендами</th>\n",
       "      <th>%</th>\n",
       "    </tr>\n",
       "  </thead>\n",
       "  <tbody>\n",
       "    <tr>\n",
       "      <th>0</th>\n",
       "      <td>Да</td>\n",
       "      <td>100.0</td>\n",
       "    </tr>\n",
       "  </tbody>\n",
       "</table>\n",
       "</div>"
      ],
      "text/plain": [
       "  Вам был бы интересен мерч без логотипа, который отражал бы философию конкретного бренда? Пример - футболки с надписью \"Иноагент\", выпущенные \"Медузой\" совместно с другими брендами  \\\n",
       "0                                                 Да                                                                                                                                    \n",
       "\n",
       "       %  \n",
       "0  100.0  "
      ]
     },
     "execution_count": 34,
     "metadata": {},
     "output_type": "execute_result"
    }
   ],
   "source": [
    "df_f_30_39_MSC_SPT_12 = round(df_f_30_39_MSC_SPT.iloc[:,[12]].value_counts() / df_f_30_39_MSC_SPT.iloc[:,[12]].value_counts().sum() * 100, 1).reset_index()\n",
    "df_f_30_39_MSC_SPT_12.columns = ['Вам был бы интересен мерч без логотипа, который отражал бы философию конкретного бренда? Пример - футболки с надписью \"Иноагент\", выпущенные \"Медузой\" совместно с другими брендами', '%']\n",
    "#print('Доверительный интервал:', mean_confidence_interval(df_f_30_39_MSC_SPT_12['%'], 1.0))\n",
    "df_f_30_39_MSC_SPT_12"
   ]
  },
  {
   "cell_type": "code",
   "execution_count": 35,
   "metadata": {},
   "outputs": [
    {
     "data": {
      "text/html": [
       "<div>\n",
       "<style scoped>\n",
       "    .dataframe tbody tr th:only-of-type {\n",
       "        vertical-align: middle;\n",
       "    }\n",
       "\n",
       "    .dataframe tbody tr th {\n",
       "        vertical-align: top;\n",
       "    }\n",
       "\n",
       "    .dataframe thead th {\n",
       "        text-align: right;\n",
       "    }\n",
       "</style>\n",
       "<table border=\"1\" class=\"dataframe\">\n",
       "  <thead>\n",
       "    <tr style=\"text-align: right;\">\n",
       "      <th></th>\n",
       "      <th>Вам был бы интересен мерч без логотипа, который отражал бы философию конкретного бренда? Пример - футболки с надписью \"Иноагент\", выпущенные \"Медузой\" совместно с другими брендами</th>\n",
       "      <th>Count</th>\n",
       "    </tr>\n",
       "  </thead>\n",
       "  <tbody>\n",
       "    <tr>\n",
       "      <th>0</th>\n",
       "      <td>Да</td>\n",
       "      <td>15</td>\n",
       "    </tr>\n",
       "  </tbody>\n",
       "</table>\n",
       "</div>"
      ],
      "text/plain": [
       "  Вам был бы интересен мерч без логотипа, который отражал бы философию конкретного бренда? Пример - футболки с надписью \"Иноагент\", выпущенные \"Медузой\" совместно с другими брендами  \\\n",
       "0                                                 Да                                                                                                                                    \n",
       "\n",
       "   Count  \n",
       "0     15  "
      ]
     },
     "execution_count": 35,
     "metadata": {},
     "output_type": "execute_result"
    }
   ],
   "source": [
    "f_30_39_MSC_SPT_12 = df_f_30_39_MSC_SPT.iloc[:,[12]].value_counts().reset_index()\n",
    "f_30_39_MSC_SPT_12.columns = ['Вам был бы интересен мерч без логотипа, который отражал бы философию конкретного бренда? Пример - футболки с надписью \"Иноагент\", выпущенные \"Медузой\" совместно с другими брендами', 'Count']\n",
    "#print('Доверительный интервал:', mean_confidence_interval(f_30_39_MSC_SPT_12['Count'], 0.60))\n",
    "f_30_39_MSC_SPT_12"
   ]
  },
  {
   "cell_type": "code",
   "execution_count": null,
   "metadata": {},
   "outputs": [],
   "source": [
    "\n"
   ]
  },
  {
   "cell_type": "code",
   "execution_count": 36,
   "metadata": {},
   "outputs": [
    {
     "name": "stdout",
     "output_type": "stream",
     "text": [
      "Доверительный интервал: (20.009423297428388, 50.0, 79.99057670257162)\n"
     ]
    },
    {
     "data": {
      "text/html": [
       "<div>\n",
       "<style scoped>\n",
       "    .dataframe tbody tr th:only-of-type {\n",
       "        vertical-align: middle;\n",
       "    }\n",
       "\n",
       "    .dataframe tbody tr th {\n",
       "        vertical-align: top;\n",
       "    }\n",
       "\n",
       "    .dataframe thead th {\n",
       "        text-align: right;\n",
       "    }\n",
       "</style>\n",
       "<table border=\"1\" class=\"dataframe\">\n",
       "  <thead>\n",
       "    <tr style=\"text-align: right;\">\n",
       "      <th></th>\n",
       "      <th>Вам нравятся цитаты в виде принта на мерче?</th>\n",
       "      <th>%</th>\n",
       "    </tr>\n",
       "  </thead>\n",
       "  <tbody>\n",
       "    <tr>\n",
       "      <th>0</th>\n",
       "      <td>Да</td>\n",
       "      <td>80.0</td>\n",
       "    </tr>\n",
       "    <tr>\n",
       "      <th>1</th>\n",
       "      <td>Нет</td>\n",
       "      <td>20.0</td>\n",
       "    </tr>\n",
       "  </tbody>\n",
       "</table>\n",
       "</div>"
      ],
      "text/plain": [
       "  Вам нравятся цитаты в виде принта на мерче?     %\n",
       "0                                          Да  80.0\n",
       "1                                         Нет  20.0"
      ]
     },
     "execution_count": 36,
     "metadata": {},
     "output_type": "execute_result"
    }
   ],
   "source": [
    "df_f_30_39_MSC_SPT_13 = round(df_f_30_39_MSC_SPT.iloc[:,[13]].value_counts() / df_f_30_39_MSC_SPT.iloc[:,[13]].value_counts().sum() * 100, 1).reset_index()\n",
    "df_f_30_39_MSC_SPT_13.columns = ['Вам нравятся цитаты в виде принта на мерче?', '%']\n",
    "print('Доверительный интервал:', mean_confidence_interval(df_f_30_39_MSC_SPT_13['%'], 0.4999))\n",
    "df_f_30_39_MSC_SPT_13"
   ]
  },
  {
   "cell_type": "code",
   "execution_count": 37,
   "metadata": {},
   "outputs": [
    {
     "name": "stdout",
     "output_type": "stream",
     "text": [
      "Доверительный интервал: (3.0014134946142583, 7.5, 11.998586505385742)\n"
     ]
    },
    {
     "data": {
      "text/html": [
       "<div>\n",
       "<style scoped>\n",
       "    .dataframe tbody tr th:only-of-type {\n",
       "        vertical-align: middle;\n",
       "    }\n",
       "\n",
       "    .dataframe tbody tr th {\n",
       "        vertical-align: top;\n",
       "    }\n",
       "\n",
       "    .dataframe thead th {\n",
       "        text-align: right;\n",
       "    }\n",
       "</style>\n",
       "<table border=\"1\" class=\"dataframe\">\n",
       "  <thead>\n",
       "    <tr style=\"text-align: right;\">\n",
       "      <th></th>\n",
       "      <th>Вам нравятся цитаты в виде принта на мерче?</th>\n",
       "      <th>Count</th>\n",
       "    </tr>\n",
       "  </thead>\n",
       "  <tbody>\n",
       "    <tr>\n",
       "      <th>0</th>\n",
       "      <td>Да</td>\n",
       "      <td>12</td>\n",
       "    </tr>\n",
       "    <tr>\n",
       "      <th>1</th>\n",
       "      <td>Нет</td>\n",
       "      <td>3</td>\n",
       "    </tr>\n",
       "  </tbody>\n",
       "</table>\n",
       "</div>"
      ],
      "text/plain": [
       "  Вам нравятся цитаты в виде принта на мерче?  Count\n",
       "0                                          Да     12\n",
       "1                                         Нет      3"
      ]
     },
     "execution_count": 37,
     "metadata": {},
     "output_type": "execute_result"
    }
   ],
   "source": [
    "f_30_39_MSC_SPT_13 = df_f_30_39_MSC_SPT.iloc[:,[13]].value_counts().reset_index()\n",
    "f_30_39_MSC_SPT_13.columns = ['Вам нравятся цитаты в виде принта на мерче?', 'Count']\n",
    "print('Доверительный интервал:', mean_confidence_interval(f_30_39_MSC_SPT_13['Count'], 0.4999))\n",
    "f_30_39_MSC_SPT_13"
   ]
  },
  {
   "cell_type": "code",
   "execution_count": null,
   "metadata": {},
   "outputs": [],
   "source": [
    "\n"
   ]
  },
  {
   "cell_type": "code",
   "execution_count": 38,
   "metadata": {},
   "outputs": [
    {
     "name": "stdout",
     "output_type": "stream",
     "text": [
      "Доверительный интервал: (33.30524563556847, 50.0, 66.69475436443153)\n"
     ]
    },
    {
     "data": {
      "text/html": [
       "<div>\n",
       "<style scoped>\n",
       "    .dataframe tbody tr th:only-of-type {\n",
       "        vertical-align: middle;\n",
       "    }\n",
       "\n",
       "    .dataframe tbody tr th {\n",
       "        vertical-align: top;\n",
       "    }\n",
       "\n",
       "    .dataframe thead th {\n",
       "        text-align: right;\n",
       "    }\n",
       "</style>\n",
       "<table border=\"1\" class=\"dataframe\">\n",
       "  <thead>\n",
       "    <tr style=\"text-align: right;\">\n",
       "      <th></th>\n",
       "      <th>Как вы относитесь к юмористическим цитатам на мерче?</th>\n",
       "      <th>%</th>\n",
       "    </tr>\n",
       "  </thead>\n",
       "  <tbody>\n",
       "    <tr>\n",
       "      <th>0</th>\n",
       "      <td>Нравится</td>\n",
       "      <td>66.7</td>\n",
       "    </tr>\n",
       "    <tr>\n",
       "      <th>1</th>\n",
       "      <td>Не нравится</td>\n",
       "      <td>33.3</td>\n",
       "    </tr>\n",
       "  </tbody>\n",
       "</table>\n",
       "</div>"
      ],
      "text/plain": [
       "  Как вы относитесь к юмористическим цитатам на мерче?     %\n",
       "0                                           Нравится    66.7\n",
       "1                                        Не нравится    33.3"
      ]
     },
     "execution_count": 38,
     "metadata": {},
     "output_type": "execute_result"
    }
   ],
   "source": [
    "df_f_30_39_MSC_SPT_14 = round(df_f_30_39_MSC_SPT.iloc[:,[14]].value_counts() / df_f_30_39_MSC_SPT.iloc[:,[14]].value_counts().sum() * 100, 1).reset_index()\n",
    "df_f_30_39_MSC_SPT_14.columns = ['Как вы относитесь к юмористическим цитатам на мерче?', '%']\n",
    "print('Доверительный интервал:', mean_confidence_interval(df_f_30_39_MSC_SPT_14['%'], 0.4999))\n",
    "df_f_30_39_MSC_SPT_14"
   ]
  },
  {
   "cell_type": "code",
   "execution_count": 39,
   "metadata": {},
   "outputs": [
    {
     "name": "stdout",
     "output_type": "stream",
     "text": [
      "Доверительный интервал: (5.000785274785699, 7.5, 9.999214725214301)\n"
     ]
    },
    {
     "data": {
      "text/html": [
       "<div>\n",
       "<style scoped>\n",
       "    .dataframe tbody tr th:only-of-type {\n",
       "        vertical-align: middle;\n",
       "    }\n",
       "\n",
       "    .dataframe tbody tr th {\n",
       "        vertical-align: top;\n",
       "    }\n",
       "\n",
       "    .dataframe thead th {\n",
       "        text-align: right;\n",
       "    }\n",
       "</style>\n",
       "<table border=\"1\" class=\"dataframe\">\n",
       "  <thead>\n",
       "    <tr style=\"text-align: right;\">\n",
       "      <th></th>\n",
       "      <th>Как вы относитесь к юмористическим цитатам на мерче?</th>\n",
       "      <th>Count</th>\n",
       "    </tr>\n",
       "  </thead>\n",
       "  <tbody>\n",
       "    <tr>\n",
       "      <th>0</th>\n",
       "      <td>Нравится</td>\n",
       "      <td>10</td>\n",
       "    </tr>\n",
       "    <tr>\n",
       "      <th>1</th>\n",
       "      <td>Не нравится</td>\n",
       "      <td>5</td>\n",
       "    </tr>\n",
       "  </tbody>\n",
       "</table>\n",
       "</div>"
      ],
      "text/plain": [
       "  Как вы относитесь к юмористическим цитатам на мерче?  Count\n",
       "0                                           Нравится       10\n",
       "1                                        Не нравится        5"
      ]
     },
     "execution_count": 39,
     "metadata": {},
     "output_type": "execute_result"
    }
   ],
   "source": [
    "f_30_39_MSC_SPT_14 = df_f_30_39_MSC_SPT.iloc[:,[14]].value_counts().reset_index()\n",
    "f_30_39_MSC_SPT_14.columns = ['Как вы относитесь к юмористическим цитатам на мерче?', 'Count']\n",
    "print('Доверительный интервал:', mean_confidence_interval(f_30_39_MSC_SPT_14['Count'], 0.4999))\n",
    "f_30_39_MSC_SPT_14"
   ]
  },
  {
   "cell_type": "code",
   "execution_count": null,
   "metadata": {},
   "outputs": [],
   "source": [
    "\n"
   ]
  },
  {
   "cell_type": "code",
   "execution_count": 40,
   "metadata": {},
   "outputs": [
    {
     "name": "stdout",
     "output_type": "stream",
     "text": [
      "Доверительный интервал: (20.310884199314774, 33.333333333333336, 46.3557824673519)\n"
     ]
    },
    {
     "data": {
      "text/html": [
       "<div>\n",
       "<style scoped>\n",
       "    .dataframe tbody tr th:only-of-type {\n",
       "        vertical-align: middle;\n",
       "    }\n",
       "\n",
       "    .dataframe tbody tr th {\n",
       "        vertical-align: top;\n",
       "    }\n",
       "\n",
       "    .dataframe thead th {\n",
       "        text-align: right;\n",
       "    }\n",
       "</style>\n",
       "<table border=\"1\" class=\"dataframe\">\n",
       "  <thead>\n",
       "    <tr style=\"text-align: right;\">\n",
       "      <th></th>\n",
       "      <th>Вы обычно покупаете мерч после важных мероприятий? Например, после концерта или интересной отраслевой конференции</th>\n",
       "      <th>%</th>\n",
       "    </tr>\n",
       "  </thead>\n",
       "  <tbody>\n",
       "    <tr>\n",
       "      <th>0</th>\n",
       "      <td>Нет</td>\n",
       "      <td>40.0</td>\n",
       "    </tr>\n",
       "    <tr>\n",
       "      <th>1</th>\n",
       "      <td>Да</td>\n",
       "      <td>40.0</td>\n",
       "    </tr>\n",
       "    <tr>\n",
       "      <th>2</th>\n",
       "      <td>Я никогда не покупал мерч</td>\n",
       "      <td>20.0</td>\n",
       "    </tr>\n",
       "  </tbody>\n",
       "</table>\n",
       "</div>"
      ],
      "text/plain": [
       "  Вы обычно покупаете мерч после важных мероприятий? Например, после концерта или интересной отраслевой конференции  \\\n",
       "0                                                Нет                                                                  \n",
       "1                                                 Да                                                                  \n",
       "2                          Я никогда не покупал мерч                                                                  \n",
       "\n",
       "      %  \n",
       "0  40.0  \n",
       "1  40.0  \n",
       "2  20.0  "
      ]
     },
     "execution_count": 40,
     "metadata": {},
     "output_type": "execute_result"
    }
   ],
   "source": [
    "df_f_30_39_MSC_SPT_15 = round(df_f_30_39_MSC_SPT.iloc[:,[15]].value_counts() / df_f_30_39_MSC_SPT.iloc[:,[15]].value_counts().sum() * 100, 1).reset_index()\n",
    "df_f_30_39_MSC_SPT_15.columns = ['Вы обычно покупаете мерч после важных мероприятий? Например, после концерта или интересной отраслевой конференции', '%']\n",
    "print('Доверительный интервал:', mean_confidence_interval(df_f_30_39_MSC_SPT_15['%'], 0.81))\n",
    "df_f_30_39_MSC_SPT_15"
   ]
  },
  {
   "cell_type": "code",
   "execution_count": 41,
   "metadata": {},
   "outputs": [
    {
     "name": "stdout",
     "output_type": "stream",
     "text": [
      "Доверительный интервал: (4.183721129724482, 5.0, 5.816278870275518)\n"
     ]
    },
    {
     "data": {
      "text/html": [
       "<div>\n",
       "<style scoped>\n",
       "    .dataframe tbody tr th:only-of-type {\n",
       "        vertical-align: middle;\n",
       "    }\n",
       "\n",
       "    .dataframe tbody tr th {\n",
       "        vertical-align: top;\n",
       "    }\n",
       "\n",
       "    .dataframe thead th {\n",
       "        text-align: right;\n",
       "    }\n",
       "</style>\n",
       "<table border=\"1\" class=\"dataframe\">\n",
       "  <thead>\n",
       "    <tr style=\"text-align: right;\">\n",
       "      <th></th>\n",
       "      <th>Вы обычно покупаете мерч после важных мероприятий? Например, после концерта или интересной отраслевой конференции</th>\n",
       "      <th>Count</th>\n",
       "    </tr>\n",
       "  </thead>\n",
       "  <tbody>\n",
       "    <tr>\n",
       "      <th>0</th>\n",
       "      <td>Нет</td>\n",
       "      <td>6</td>\n",
       "    </tr>\n",
       "    <tr>\n",
       "      <th>1</th>\n",
       "      <td>Да</td>\n",
       "      <td>6</td>\n",
       "    </tr>\n",
       "    <tr>\n",
       "      <th>2</th>\n",
       "      <td>Я никогда не покупал мерч</td>\n",
       "      <td>3</td>\n",
       "    </tr>\n",
       "  </tbody>\n",
       "</table>\n",
       "</div>"
      ],
      "text/plain": [
       "  Вы обычно покупаете мерч после важных мероприятий? Например, после концерта или интересной отраслевой конференции  \\\n",
       "0                                                Нет                                                                  \n",
       "1                                                 Да                                                                  \n",
       "2                          Я никогда не покупал мерч                                                                  \n",
       "\n",
       "   Count  \n",
       "0      6  \n",
       "1      6  \n",
       "2      3  "
      ]
     },
     "execution_count": 41,
     "metadata": {},
     "output_type": "execute_result"
    }
   ],
   "source": [
    "f_30_39_MSC_SPT_15 = df_f_30_39_MSC_SPT.iloc[:,[15]].value_counts().reset_index()\n",
    "f_30_39_MSC_SPT_15.columns = ['Вы обычно покупаете мерч после важных мероприятий? Например, после концерта или интересной отраслевой конференции', 'Count']\n",
    "print('Доверительный интервал:', mean_confidence_interval(f_30_39_MSC_SPT_15['Count'], 0.4999))\n",
    "f_30_39_MSC_SPT_15"
   ]
  },
  {
   "cell_type": "code",
   "execution_count": null,
   "metadata": {},
   "outputs": [],
   "source": [
    "\n"
   ]
  },
  {
   "cell_type": "code",
   "execution_count": 42,
   "metadata": {},
   "outputs": [
    {
     "name": "stdout",
     "output_type": "stream",
     "text": [
      "Доверительный интервал: (33.30524563556847, 50.0, 66.69475436443153)\n"
     ]
    },
    {
     "data": {
      "text/html": [
       "<div>\n",
       "<style scoped>\n",
       "    .dataframe tbody tr th:only-of-type {\n",
       "        vertical-align: middle;\n",
       "    }\n",
       "\n",
       "    .dataframe tbody tr th {\n",
       "        vertical-align: top;\n",
       "    }\n",
       "\n",
       "    .dataframe thead th {\n",
       "        text-align: right;\n",
       "    }\n",
       "</style>\n",
       "<table border=\"1\" class=\"dataframe\">\n",
       "  <thead>\n",
       "    <tr style=\"text-align: right;\">\n",
       "      <th></th>\n",
       "      <th>Вам важно, чтобы вы сами могли придумать свой дизайн для мерча: выбрать уникальное сочетание цвета и принта?</th>\n",
       "      <th>%</th>\n",
       "    </tr>\n",
       "  </thead>\n",
       "  <tbody>\n",
       "    <tr>\n",
       "      <th>0</th>\n",
       "      <td>Нет, дизайнерам виднее</td>\n",
       "      <td>66.7</td>\n",
       "    </tr>\n",
       "    <tr>\n",
       "      <th>1</th>\n",
       "      <td>Да, люблю эксперименты</td>\n",
       "      <td>33.3</td>\n",
       "    </tr>\n",
       "  </tbody>\n",
       "</table>\n",
       "</div>"
      ],
      "text/plain": [
       "  Вам важно, чтобы вы сами могли придумать свой дизайн для мерча: выбрать уникальное сочетание цвета и принта?  \\\n",
       "0                             Нет, дизайнерам виднее                                                             \n",
       "1                             Да, люблю эксперименты                                                             \n",
       "\n",
       "      %  \n",
       "0  66.7  \n",
       "1  33.3  "
      ]
     },
     "execution_count": 42,
     "metadata": {},
     "output_type": "execute_result"
    }
   ],
   "source": [
    "df_f_30_39_MSC_SPT_16 = round(df_f_30_39_MSC_SPT.iloc[:,[16]].value_counts() / df_f_30_39_MSC_SPT.iloc[:,[16]].value_counts().sum() * 100, 1).reset_index()\n",
    "df_f_30_39_MSC_SPT_16.columns = ['Вам важно, чтобы вы сами могли придумать свой дизайн для мерча: выбрать уникальное сочетание цвета и принта?', '%']\n",
    "print('Доверительный интервал:', mean_confidence_interval(df_f_30_39_MSC_SPT_16['%'], 0.4999))\n",
    "df_f_30_39_MSC_SPT_16"
   ]
  },
  {
   "cell_type": "code",
   "execution_count": 43,
   "metadata": {},
   "outputs": [
    {
     "name": "stdout",
     "output_type": "stream",
     "text": [
      "Доверительный интервал: (5.000785274785699, 7.5, 9.999214725214301)\n"
     ]
    },
    {
     "data": {
      "text/html": [
       "<div>\n",
       "<style scoped>\n",
       "    .dataframe tbody tr th:only-of-type {\n",
       "        vertical-align: middle;\n",
       "    }\n",
       "\n",
       "    .dataframe tbody tr th {\n",
       "        vertical-align: top;\n",
       "    }\n",
       "\n",
       "    .dataframe thead th {\n",
       "        text-align: right;\n",
       "    }\n",
       "</style>\n",
       "<table border=\"1\" class=\"dataframe\">\n",
       "  <thead>\n",
       "    <tr style=\"text-align: right;\">\n",
       "      <th></th>\n",
       "      <th>Вам важно, чтобы вы сами могли придумать свой дизайн для мерча: выбрать уникальное сочетание цвета и принта?</th>\n",
       "      <th>Count</th>\n",
       "    </tr>\n",
       "  </thead>\n",
       "  <tbody>\n",
       "    <tr>\n",
       "      <th>0</th>\n",
       "      <td>Нет, дизайнерам виднее</td>\n",
       "      <td>10</td>\n",
       "    </tr>\n",
       "    <tr>\n",
       "      <th>1</th>\n",
       "      <td>Да, люблю эксперименты</td>\n",
       "      <td>5</td>\n",
       "    </tr>\n",
       "  </tbody>\n",
       "</table>\n",
       "</div>"
      ],
      "text/plain": [
       "  Вам важно, чтобы вы сами могли придумать свой дизайн для мерча: выбрать уникальное сочетание цвета и принта?  \\\n",
       "0                             Нет, дизайнерам виднее                                                             \n",
       "1                             Да, люблю эксперименты                                                             \n",
       "\n",
       "   Count  \n",
       "0     10  \n",
       "1      5  "
      ]
     },
     "execution_count": 43,
     "metadata": {},
     "output_type": "execute_result"
    }
   ],
   "source": [
    "f_30_39_MSC_SPT_16 = df_f_30_39_MSC_SPT.iloc[:,[16]].value_counts().reset_index()\n",
    "f_30_39_MSC_SPT_16.columns = ['Вам важно, чтобы вы сами могли придумать свой дизайн для мерча: выбрать уникальное сочетание цвета и принта?', 'Count']\n",
    "print('Доверительный интервал:', mean_confidence_interval(f_30_39_MSC_SPT_16['Count'], 0.4999))\n",
    "f_30_39_MSC_SPT_16"
   ]
  },
  {
   "cell_type": "code",
   "execution_count": null,
   "metadata": {},
   "outputs": [],
   "source": [
    "\n"
   ]
  },
  {
   "cell_type": "code",
   "execution_count": 44,
   "metadata": {},
   "outputs": [
    {
     "name": "stdout",
     "output_type": "stream",
     "text": [
      "Доверительный интервал: (33.30524563556847, 50.0, 66.69475436443153)\n"
     ]
    },
    {
     "data": {
      "text/html": [
       "<div>\n",
       "<style scoped>\n",
       "    .dataframe tbody tr th:only-of-type {\n",
       "        vertical-align: middle;\n",
       "    }\n",
       "\n",
       "    .dataframe tbody tr th {\n",
       "        vertical-align: top;\n",
       "    }\n",
       "\n",
       "    .dataframe thead th {\n",
       "        text-align: right;\n",
       "    }\n",
       "</style>\n",
       "<table border=\"1\" class=\"dataframe\">\n",
       "  <thead>\n",
       "    <tr style=\"text-align: right;\">\n",
       "      <th></th>\n",
       "      <th>Мерч в качестве бонуса мотивировал бы вас лучше учиться?</th>\n",
       "      <th>%</th>\n",
       "    </tr>\n",
       "  </thead>\n",
       "  <tbody>\n",
       "    <tr>\n",
       "      <th>0</th>\n",
       "      <td>Да</td>\n",
       "      <td>66.7</td>\n",
       "    </tr>\n",
       "    <tr>\n",
       "      <th>1</th>\n",
       "      <td>Нет</td>\n",
       "      <td>33.3</td>\n",
       "    </tr>\n",
       "  </tbody>\n",
       "</table>\n",
       "</div>"
      ],
      "text/plain": [
       "  Мерч в качестве бонуса мотивировал бы вас лучше учиться?     %\n",
       "0                                                 Да        66.7\n",
       "1                                                Нет        33.3"
      ]
     },
     "execution_count": 44,
     "metadata": {},
     "output_type": "execute_result"
    }
   ],
   "source": [
    "df_f_30_39_MSC_SPT_17 = round(df_f_30_39_MSC_SPT.iloc[:,[17]].value_counts() / df_f_30_39_MSC_SPT.iloc[:,[17]].value_counts().sum() * 100, 1).reset_index()\n",
    "df_f_30_39_MSC_SPT_17.columns = ['Мерч в качестве бонуса мотивировал бы вас лучше учиться?', '%']\n",
    "print('Доверительный интервал:', mean_confidence_interval(df_f_30_39_MSC_SPT_17['%'], 0.4999))\n",
    "df_f_30_39_MSC_SPT_17"
   ]
  },
  {
   "cell_type": "code",
   "execution_count": 45,
   "metadata": {},
   "outputs": [
    {
     "name": "stdout",
     "output_type": "stream",
     "text": [
      "Доверительный интервал: (5.000785274785699, 7.5, 9.999214725214301)\n"
     ]
    },
    {
     "data": {
      "text/html": [
       "<div>\n",
       "<style scoped>\n",
       "    .dataframe tbody tr th:only-of-type {\n",
       "        vertical-align: middle;\n",
       "    }\n",
       "\n",
       "    .dataframe tbody tr th {\n",
       "        vertical-align: top;\n",
       "    }\n",
       "\n",
       "    .dataframe thead th {\n",
       "        text-align: right;\n",
       "    }\n",
       "</style>\n",
       "<table border=\"1\" class=\"dataframe\">\n",
       "  <thead>\n",
       "    <tr style=\"text-align: right;\">\n",
       "      <th></th>\n",
       "      <th>Мерч в качестве бонуса мотивировал бы вас лучше учиться?</th>\n",
       "      <th>Count</th>\n",
       "    </tr>\n",
       "  </thead>\n",
       "  <tbody>\n",
       "    <tr>\n",
       "      <th>0</th>\n",
       "      <td>Да</td>\n",
       "      <td>10</td>\n",
       "    </tr>\n",
       "    <tr>\n",
       "      <th>1</th>\n",
       "      <td>Нет</td>\n",
       "      <td>5</td>\n",
       "    </tr>\n",
       "  </tbody>\n",
       "</table>\n",
       "</div>"
      ],
      "text/plain": [
       "  Мерч в качестве бонуса мотивировал бы вас лучше учиться?  Count\n",
       "0                                                 Да           10\n",
       "1                                                Нет            5"
      ]
     },
     "execution_count": 45,
     "metadata": {},
     "output_type": "execute_result"
    }
   ],
   "source": [
    "f_30_39_MSC_SPT_17 = df_f_30_39_MSC_SPT.iloc[:,[17]].value_counts().reset_index()\n",
    "f_30_39_MSC_SPT_17.columns = ['Мерч в качестве бонуса мотивировал бы вас лучше учиться?', 'Count']\n",
    "print('Доверительный интервал:', mean_confidence_interval(f_30_39_MSC_SPT_17['Count'], 0.4999))\n",
    "f_30_39_MSC_SPT_17"
   ]
  },
  {
   "cell_type": "code",
   "execution_count": null,
   "metadata": {},
   "outputs": [],
   "source": [
    "\n"
   ]
  },
  {
   "cell_type": "code",
   "execution_count": 46,
   "metadata": {},
   "outputs": [
    {
     "name": "stdout",
     "output_type": "stream",
     "text": [
      "Доверительный интервал: (33.30524563556847, 50.0, 66.69475436443153)\n"
     ]
    },
    {
     "data": {
      "text/html": [
       "<div>\n",
       "<style scoped>\n",
       "    .dataframe tbody tr th:only-of-type {\n",
       "        vertical-align: middle;\n",
       "    }\n",
       "\n",
       "    .dataframe tbody tr th {\n",
       "        vertical-align: top;\n",
       "    }\n",
       "\n",
       "    .dataframe thead th {\n",
       "        text-align: right;\n",
       "    }\n",
       "</style>\n",
       "<table border=\"1\" class=\"dataframe\">\n",
       "  <thead>\n",
       "    <tr style=\"text-align: right;\">\n",
       "      <th></th>\n",
       "      <th>Вам важно, чтобы мерч был уникальным продуктом, который больше ни у кого не встретишь?</th>\n",
       "      <th>%</th>\n",
       "    </tr>\n",
       "  </thead>\n",
       "  <tbody>\n",
       "    <tr>\n",
       "      <th>0</th>\n",
       "      <td>Да</td>\n",
       "      <td>66.7</td>\n",
       "    </tr>\n",
       "    <tr>\n",
       "      <th>1</th>\n",
       "      <td>Нет</td>\n",
       "      <td>33.3</td>\n",
       "    </tr>\n",
       "  </tbody>\n",
       "</table>\n",
       "</div>"
      ],
      "text/plain": [
       "  Вам важно, чтобы мерч был уникальным продуктом, который больше ни у кого не встретишь?  \\\n",
       "0                                                 Да                                       \n",
       "1                                                Нет                                       \n",
       "\n",
       "      %  \n",
       "0  66.7  \n",
       "1  33.3  "
      ]
     },
     "execution_count": 46,
     "metadata": {},
     "output_type": "execute_result"
    }
   ],
   "source": [
    "df_f_30_39_MSC_SPT_18 = round(df_f_30_39_MSC_SPT.iloc[:,[18]].value_counts() / df_f_30_39_MSC_SPT.iloc[:,[18]].value_counts().sum() * 100, 1).reset_index()\n",
    "df_f_30_39_MSC_SPT_18.columns = ['Вам важно, чтобы мерч был уникальным продуктом, который больше ни у кого не встретишь?', '%']\n",
    "print('Доверительный интервал:', mean_confidence_interval(df_f_30_39_MSC_SPT_18['%'], 0.4999))\n",
    "df_f_30_39_MSC_SPT_18"
   ]
  },
  {
   "cell_type": "code",
   "execution_count": 47,
   "metadata": {},
   "outputs": [
    {
     "name": "stdout",
     "output_type": "stream",
     "text": [
      "Доверительный интервал: (5.000785274785699, 7.5, 9.999214725214301)\n"
     ]
    },
    {
     "data": {
      "text/html": [
       "<div>\n",
       "<style scoped>\n",
       "    .dataframe tbody tr th:only-of-type {\n",
       "        vertical-align: middle;\n",
       "    }\n",
       "\n",
       "    .dataframe tbody tr th {\n",
       "        vertical-align: top;\n",
       "    }\n",
       "\n",
       "    .dataframe thead th {\n",
       "        text-align: right;\n",
       "    }\n",
       "</style>\n",
       "<table border=\"1\" class=\"dataframe\">\n",
       "  <thead>\n",
       "    <tr style=\"text-align: right;\">\n",
       "      <th></th>\n",
       "      <th>Вам важно, чтобы мерч был уникальным продуктом, который больше ни у кого не встретишь?</th>\n",
       "      <th>Count</th>\n",
       "    </tr>\n",
       "  </thead>\n",
       "  <tbody>\n",
       "    <tr>\n",
       "      <th>0</th>\n",
       "      <td>Да</td>\n",
       "      <td>10</td>\n",
       "    </tr>\n",
       "    <tr>\n",
       "      <th>1</th>\n",
       "      <td>Нет</td>\n",
       "      <td>5</td>\n",
       "    </tr>\n",
       "  </tbody>\n",
       "</table>\n",
       "</div>"
      ],
      "text/plain": [
       "  Вам важно, чтобы мерч был уникальным продуктом, который больше ни у кого не встретишь?  \\\n",
       "0                                                 Да                                       \n",
       "1                                                Нет                                       \n",
       "\n",
       "   Count  \n",
       "0     10  \n",
       "1      5  "
      ]
     },
     "execution_count": 47,
     "metadata": {},
     "output_type": "execute_result"
    }
   ],
   "source": [
    "f_30_39_MSC_SPT_18 = df_f_30_39_MSC_SPT.iloc[:,[18]].value_counts().reset_index()\n",
    "f_30_39_MSC_SPT_18.columns = ['Вам важно, чтобы мерч был уникальным продуктом, который больше ни у кого не встретишь?', 'Count']\n",
    "print('Доверительный интервал:', mean_confidence_interval(f_30_39_MSC_SPT_18['Count'], 0.4999))\n",
    "f_30_39_MSC_SPT_18"
   ]
  },
  {
   "cell_type": "code",
   "execution_count": null,
   "metadata": {},
   "outputs": [],
   "source": [
    "\n"
   ]
  },
  {
   "cell_type": "code",
   "execution_count": 48,
   "metadata": {},
   "outputs": [
    {
     "name": "stdout",
     "output_type": "stream",
     "text": [
      "Доверительный интервал: (40.003141099142795, 50.0, 59.996858900857205)\n"
     ]
    },
    {
     "data": {
      "text/html": [
       "<div>\n",
       "<style scoped>\n",
       "    .dataframe tbody tr th:only-of-type {\n",
       "        vertical-align: middle;\n",
       "    }\n",
       "\n",
       "    .dataframe tbody tr th {\n",
       "        vertical-align: top;\n",
       "    }\n",
       "\n",
       "    .dataframe thead th {\n",
       "        text-align: right;\n",
       "    }\n",
       "</style>\n",
       "<table border=\"1\" class=\"dataframe\">\n",
       "  <thead>\n",
       "    <tr style=\"text-align: right;\">\n",
       "      <th></th>\n",
       "      <th>Вы готовы платить за лимитированный мерч? Лимитированная коллекция - та, которая выпускается один раз ограниченным тиражом</th>\n",
       "      <th>%</th>\n",
       "    </tr>\n",
       "  </thead>\n",
       "  <tbody>\n",
       "    <tr>\n",
       "      <th>0</th>\n",
       "      <td>Нет</td>\n",
       "      <td>60.0</td>\n",
       "    </tr>\n",
       "    <tr>\n",
       "      <th>1</th>\n",
       "      <td>Да</td>\n",
       "      <td>40.0</td>\n",
       "    </tr>\n",
       "  </tbody>\n",
       "</table>\n",
       "</div>"
      ],
      "text/plain": [
       "  Вы готовы платить за лимитированный мерч? Лимитированная коллекция - та, которая выпускается один раз ограниченным тиражом  \\\n",
       "0                                                Нет                                                                           \n",
       "1                                                 Да                                                                           \n",
       "\n",
       "      %  \n",
       "0  60.0  \n",
       "1  40.0  "
      ]
     },
     "execution_count": 48,
     "metadata": {},
     "output_type": "execute_result"
    }
   ],
   "source": [
    "df_f_30_39_MSC_SPT_19 = round(df_f_30_39_MSC_SPT.iloc[:,[19]].value_counts() / df_f_30_39_MSC_SPT.iloc[:,[19]].value_counts().sum() * 100, 1).reset_index()\n",
    "df_f_30_39_MSC_SPT_19.columns = ['Вы готовы платить за лимитированный мерч? Лимитированная коллекция - та, которая выпускается один раз ограниченным тиражом', '%']\n",
    "print('Доверительный интервал:', mean_confidence_interval(df_f_30_39_MSC_SPT_19['%'], 0.4999))\n",
    "df_f_30_39_MSC_SPT_19"
   ]
  },
  {
   "cell_type": "code",
   "execution_count": 49,
   "metadata": {},
   "outputs": [
    {
     "name": "stdout",
     "output_type": "stream",
     "text": [
      "Доверительный интервал: (6.00047116487142, 7.5, 8.999528835128581)\n"
     ]
    },
    {
     "data": {
      "text/html": [
       "<div>\n",
       "<style scoped>\n",
       "    .dataframe tbody tr th:only-of-type {\n",
       "        vertical-align: middle;\n",
       "    }\n",
       "\n",
       "    .dataframe tbody tr th {\n",
       "        vertical-align: top;\n",
       "    }\n",
       "\n",
       "    .dataframe thead th {\n",
       "        text-align: right;\n",
       "    }\n",
       "</style>\n",
       "<table border=\"1\" class=\"dataframe\">\n",
       "  <thead>\n",
       "    <tr style=\"text-align: right;\">\n",
       "      <th></th>\n",
       "      <th>Вы готовы платить за лимитированный мерч? Лимитированная коллекция - та, которая выпускается один раз ограниченным тиражом</th>\n",
       "      <th>Count</th>\n",
       "    </tr>\n",
       "  </thead>\n",
       "  <tbody>\n",
       "    <tr>\n",
       "      <th>0</th>\n",
       "      <td>Нет</td>\n",
       "      <td>9</td>\n",
       "    </tr>\n",
       "    <tr>\n",
       "      <th>1</th>\n",
       "      <td>Да</td>\n",
       "      <td>6</td>\n",
       "    </tr>\n",
       "  </tbody>\n",
       "</table>\n",
       "</div>"
      ],
      "text/plain": [
       "  Вы готовы платить за лимитированный мерч? Лимитированная коллекция - та, которая выпускается один раз ограниченным тиражом  \\\n",
       "0                                                Нет                                                                           \n",
       "1                                                 Да                                                                           \n",
       "\n",
       "   Count  \n",
       "0      9  \n",
       "1      6  "
      ]
     },
     "execution_count": 49,
     "metadata": {},
     "output_type": "execute_result"
    }
   ],
   "source": [
    "f_30_39_MSC_SPT_19 = df_f_30_39_MSC_SPT.iloc[:,[19]].value_counts().reset_index()\n",
    "f_30_39_MSC_SPT_19.columns = ['Вы готовы платить за лимитированный мерч? Лимитированная коллекция - та, которая выпускается один раз ограниченным тиражом', 'Count']\n",
    "print('Доверительный интервал:', mean_confidence_interval(f_30_39_MSC_SPT_19['Count'], 0.4999))\n",
    "f_30_39_MSC_SPT_19"
   ]
  },
  {
   "cell_type": "code",
   "execution_count": null,
   "metadata": {},
   "outputs": [],
   "source": [
    "\n"
   ]
  },
  {
   "cell_type": "code",
   "execution_count": 50,
   "metadata": {},
   "outputs": [
    {
     "name": "stdout",
     "output_type": "stream",
     "text": [
      "Доверительный интервал: (46.70103656271713, 50.0, 53.29896343728287)\n"
     ]
    },
    {
     "data": {
      "text/html": [
       "<div>\n",
       "<style scoped>\n",
       "    .dataframe tbody tr th:only-of-type {\n",
       "        vertical-align: middle;\n",
       "    }\n",
       "\n",
       "    .dataframe tbody tr th {\n",
       "        vertical-align: top;\n",
       "    }\n",
       "\n",
       "    .dataframe thead th {\n",
       "        text-align: right;\n",
       "    }\n",
       "</style>\n",
       "<table border=\"1\" class=\"dataframe\">\n",
       "  <thead>\n",
       "    <tr style=\"text-align: right;\">\n",
       "      <th></th>\n",
       "      <th>Обращаете ли вы внимание на экологичность товаров при покупке вещей?</th>\n",
       "      <th>%</th>\n",
       "    </tr>\n",
       "  </thead>\n",
       "  <tbody>\n",
       "    <tr>\n",
       "      <th>0</th>\n",
       "      <td>Да, большая часть моих вещей - экологичные</td>\n",
       "      <td>53.3</td>\n",
       "    </tr>\n",
       "    <tr>\n",
       "      <th>1</th>\n",
       "      <td>Нет, для меня это неважный критерий при выборе...</td>\n",
       "      <td>46.7</td>\n",
       "    </tr>\n",
       "  </tbody>\n",
       "</table>\n",
       "</div>"
      ],
      "text/plain": [
       "  Обращаете ли вы внимание на экологичность товаров при покупке вещей?     %\n",
       "0         Да, большая часть моих вещей - экологичные                    53.3\n",
       "1  Нет, для меня это неважный критерий при выборе...                    46.7"
      ]
     },
     "execution_count": 50,
     "metadata": {},
     "output_type": "execute_result"
    }
   ],
   "source": [
    "df_f_30_39_MSC_SPT_20 = round(df_f_30_39_MSC_SPT.iloc[:,[20]].value_counts() / df_f_30_39_MSC_SPT.iloc[:,[20]].value_counts().sum() * 100, 1).reset_index()\n",
    "df_f_30_39_MSC_SPT_20.columns = ['Обращаете ли вы внимание на экологичность товаров при покупке вещей?', '%']\n",
    "print('Доверительный интервал:', mean_confidence_interval(df_f_30_39_MSC_SPT_20['%'], 0.4999))\n",
    "df_f_30_39_MSC_SPT_20"
   ]
  },
  {
   "cell_type": "code",
   "execution_count": 51,
   "metadata": {},
   "outputs": [
    {
     "name": "stdout",
     "output_type": "stream",
     "text": [
      "Доверительный интервал: (7.00015705495714, 7.5, 7.99984294504286)\n"
     ]
    },
    {
     "data": {
      "text/html": [
       "<div>\n",
       "<style scoped>\n",
       "    .dataframe tbody tr th:only-of-type {\n",
       "        vertical-align: middle;\n",
       "    }\n",
       "\n",
       "    .dataframe tbody tr th {\n",
       "        vertical-align: top;\n",
       "    }\n",
       "\n",
       "    .dataframe thead th {\n",
       "        text-align: right;\n",
       "    }\n",
       "</style>\n",
       "<table border=\"1\" class=\"dataframe\">\n",
       "  <thead>\n",
       "    <tr style=\"text-align: right;\">\n",
       "      <th></th>\n",
       "      <th>Обращаете ли вы внимание на экологичность товаров при покупке вещей?</th>\n",
       "      <th>Count</th>\n",
       "    </tr>\n",
       "  </thead>\n",
       "  <tbody>\n",
       "    <tr>\n",
       "      <th>0</th>\n",
       "      <td>Да, большая часть моих вещей - экологичные</td>\n",
       "      <td>8</td>\n",
       "    </tr>\n",
       "    <tr>\n",
       "      <th>1</th>\n",
       "      <td>Нет, для меня это неважный критерий при выборе...</td>\n",
       "      <td>7</td>\n",
       "    </tr>\n",
       "  </tbody>\n",
       "</table>\n",
       "</div>"
      ],
      "text/plain": [
       "  Обращаете ли вы внимание на экологичность товаров при покупке вещей?  Count\n",
       "0         Да, большая часть моих вещей - экологичные                        8\n",
       "1  Нет, для меня это неважный критерий при выборе...                        7"
      ]
     },
     "execution_count": 51,
     "metadata": {},
     "output_type": "execute_result"
    }
   ],
   "source": [
    "f_30_39_MSC_SPT_20 = df_f_30_39_MSC_SPT.iloc[:,[20]].value_counts().reset_index()\n",
    "f_30_39_MSC_SPT_20.columns = ['Обращаете ли вы внимание на экологичность товаров при покупке вещей?', 'Count']\n",
    "print('Доверительный интервал:', mean_confidence_interval(f_30_39_MSC_SPT_20['Count'], 0.4999))\n",
    "f_30_39_MSC_SPT_20"
   ]
  },
  {
   "cell_type": "code",
   "execution_count": null,
   "metadata": {},
   "outputs": [],
   "source": [
    "\n"
   ]
  },
  {
   "cell_type": "code",
   "execution_count": 52,
   "metadata": {},
   "outputs": [
    {
     "name": "stdout",
     "output_type": "stream",
     "text": [
      "Доверительный интервал: (46.70103656271713, 50.0, 53.29896343728287)\n"
     ]
    },
    {
     "data": {
      "text/html": [
       "<div>\n",
       "<style scoped>\n",
       "    .dataframe tbody tr th:only-of-type {\n",
       "        vertical-align: middle;\n",
       "    }\n",
       "\n",
       "    .dataframe tbody tr th {\n",
       "        vertical-align: top;\n",
       "    }\n",
       "\n",
       "    .dataframe thead th {\n",
       "        text-align: right;\n",
       "    }\n",
       "</style>\n",
       "<table border=\"1\" class=\"dataframe\">\n",
       "  <thead>\n",
       "    <tr style=\"text-align: right;\">\n",
       "      <th></th>\n",
       "      <th>Вы с большей вероятностью купите мерч, если будете знать, что вырученные средства пойдут на благотворительность?</th>\n",
       "      <th>%</th>\n",
       "    </tr>\n",
       "  </thead>\n",
       "  <tbody>\n",
       "    <tr>\n",
       "      <th>0</th>\n",
       "      <td>Да</td>\n",
       "      <td>53.3</td>\n",
       "    </tr>\n",
       "    <tr>\n",
       "      <th>1</th>\n",
       "      <td>Нет</td>\n",
       "      <td>46.7</td>\n",
       "    </tr>\n",
       "  </tbody>\n",
       "</table>\n",
       "</div>"
      ],
      "text/plain": [
       "  Вы с большей вероятностью купите мерч, если будете знать, что вырученные средства пойдут на благотворительность?  \\\n",
       "0                                                 Да                                                                 \n",
       "1                                                Нет                                                                 \n",
       "\n",
       "      %  \n",
       "0  53.3  \n",
       "1  46.7  "
      ]
     },
     "execution_count": 52,
     "metadata": {},
     "output_type": "execute_result"
    }
   ],
   "source": [
    "df_f_30_39_MSC_SPT_21 = round(df_f_30_39_MSC_SPT.iloc[:,[21]].value_counts() / df_f_30_39_MSC_SPT.iloc[:,[21]].value_counts().sum() * 100, 1).reset_index()\n",
    "df_f_30_39_MSC_SPT_21.columns = ['Вы с большей вероятностью купите мерч, если будете знать, что вырученные средства пойдут на благотворительность?', '%']\n",
    "print('Доверительный интервал:', mean_confidence_interval(df_f_30_39_MSC_SPT_21['%'], 0.4999))\n",
    "df_f_30_39_MSC_SPT_21"
   ]
  },
  {
   "cell_type": "code",
   "execution_count": 53,
   "metadata": {},
   "outputs": [
    {
     "name": "stdout",
     "output_type": "stream",
     "text": [
      "Доверительный интервал: (7.00015705495714, 7.5, 7.99984294504286)\n"
     ]
    },
    {
     "data": {
      "text/html": [
       "<div>\n",
       "<style scoped>\n",
       "    .dataframe tbody tr th:only-of-type {\n",
       "        vertical-align: middle;\n",
       "    }\n",
       "\n",
       "    .dataframe tbody tr th {\n",
       "        vertical-align: top;\n",
       "    }\n",
       "\n",
       "    .dataframe thead th {\n",
       "        text-align: right;\n",
       "    }\n",
       "</style>\n",
       "<table border=\"1\" class=\"dataframe\">\n",
       "  <thead>\n",
       "    <tr style=\"text-align: right;\">\n",
       "      <th></th>\n",
       "      <th>Вы с большей вероятностью купите мерч, если будете знать, что вырученные средства пойдут на благотворительность?</th>\n",
       "      <th>Count</th>\n",
       "    </tr>\n",
       "  </thead>\n",
       "  <tbody>\n",
       "    <tr>\n",
       "      <th>0</th>\n",
       "      <td>Да</td>\n",
       "      <td>8</td>\n",
       "    </tr>\n",
       "    <tr>\n",
       "      <th>1</th>\n",
       "      <td>Нет</td>\n",
       "      <td>7</td>\n",
       "    </tr>\n",
       "  </tbody>\n",
       "</table>\n",
       "</div>"
      ],
      "text/plain": [
       "  Вы с большей вероятностью купите мерч, если будете знать, что вырученные средства пойдут на благотворительность?  \\\n",
       "0                                                 Да                                                                 \n",
       "1                                                Нет                                                                 \n",
       "\n",
       "   Count  \n",
       "0      8  \n",
       "1      7  "
      ]
     },
     "execution_count": 53,
     "metadata": {},
     "output_type": "execute_result"
    }
   ],
   "source": [
    "f_30_39_MSC_SPT_21 = df_f_30_39_MSC_SPT.iloc[:,[21]].value_counts().reset_index()\n",
    "f_30_39_MSC_SPT_21.columns = ['Вы с большей вероятностью купите мерч, если будете знать, что вырученные средства пойдут на благотворительность?', 'Count']\n",
    "print('Доверительный интервал:', mean_confidence_interval(f_30_39_MSC_SPT_21['Count'], 0.4999))\n",
    "f_30_39_MSC_SPT_21"
   ]
  },
  {
   "cell_type": "code",
   "execution_count": null,
   "metadata": {},
   "outputs": [],
   "source": [
    "\n"
   ]
  },
  {
   "cell_type": "code",
   "execution_count": 54,
   "metadata": {},
   "outputs": [
    {
     "name": "stdout",
     "output_type": "stream",
     "text": [
      "Доверительный интервал: (46.70103656271713, 50.0, 53.29896343728287)\n"
     ]
    },
    {
     "data": {
      "text/html": [
       "<div>\n",
       "<style scoped>\n",
       "    .dataframe tbody tr th:only-of-type {\n",
       "        vertical-align: middle;\n",
       "    }\n",
       "\n",
       "    .dataframe tbody tr th {\n",
       "        vertical-align: top;\n",
       "    }\n",
       "\n",
       "    .dataframe thead th {\n",
       "        text-align: right;\n",
       "    }\n",
       "</style>\n",
       "<table border=\"1\" class=\"dataframe\">\n",
       "  <thead>\n",
       "    <tr style=\"text-align: right;\">\n",
       "      <th></th>\n",
       "      <th>Вы бы купили мерч в подарок для благотворительного фонда/детского дома?</th>\n",
       "      <th>%</th>\n",
       "    </tr>\n",
       "  </thead>\n",
       "  <tbody>\n",
       "    <tr>\n",
       "      <th>0</th>\n",
       "      <td>Нет</td>\n",
       "      <td>53.3</td>\n",
       "    </tr>\n",
       "    <tr>\n",
       "      <th>1</th>\n",
       "      <td>Да</td>\n",
       "      <td>46.7</td>\n",
       "    </tr>\n",
       "  </tbody>\n",
       "</table>\n",
       "</div>"
      ],
      "text/plain": [
       "  Вы бы купили мерч в подарок для благотворительного фонда/детского дома?  \\\n",
       "0                                                Нет                        \n",
       "1                                                 Да                        \n",
       "\n",
       "      %  \n",
       "0  53.3  \n",
       "1  46.7  "
      ]
     },
     "execution_count": 54,
     "metadata": {},
     "output_type": "execute_result"
    }
   ],
   "source": [
    "df_f_30_39_MSC_SPT_22 = round(df_f_30_39_MSC_SPT.iloc[:,[22]].value_counts() / df_f_30_39_MSC_SPT.iloc[:,[22]].value_counts().sum() * 100, 1).reset_index()\n",
    "df_f_30_39_MSC_SPT_22.columns = ['Вы бы купили мерч в подарок для благотворительного фонда/детского дома?', '%']\n",
    "print('Доверительный интервал:', mean_confidence_interval(df_f_30_39_MSC_SPT_22['%'], 0.4999))\n",
    "df_f_30_39_MSC_SPT_22"
   ]
  },
  {
   "cell_type": "code",
   "execution_count": 55,
   "metadata": {},
   "outputs": [
    {
     "name": "stdout",
     "output_type": "stream",
     "text": [
      "Доверительный интервал: (7.00015705495714, 7.5, 7.99984294504286)\n"
     ]
    },
    {
     "data": {
      "text/html": [
       "<div>\n",
       "<style scoped>\n",
       "    .dataframe tbody tr th:only-of-type {\n",
       "        vertical-align: middle;\n",
       "    }\n",
       "\n",
       "    .dataframe tbody tr th {\n",
       "        vertical-align: top;\n",
       "    }\n",
       "\n",
       "    .dataframe thead th {\n",
       "        text-align: right;\n",
       "    }\n",
       "</style>\n",
       "<table border=\"1\" class=\"dataframe\">\n",
       "  <thead>\n",
       "    <tr style=\"text-align: right;\">\n",
       "      <th></th>\n",
       "      <th>Вы бы купили мерч в подарок для благотворительного фонда/детского дома?</th>\n",
       "      <th>Count</th>\n",
       "    </tr>\n",
       "  </thead>\n",
       "  <tbody>\n",
       "    <tr>\n",
       "      <th>0</th>\n",
       "      <td>Нет</td>\n",
       "      <td>8</td>\n",
       "    </tr>\n",
       "    <tr>\n",
       "      <th>1</th>\n",
       "      <td>Да</td>\n",
       "      <td>7</td>\n",
       "    </tr>\n",
       "  </tbody>\n",
       "</table>\n",
       "</div>"
      ],
      "text/plain": [
       "  Вы бы купили мерч в подарок для благотворительного фонда/детского дома?  \\\n",
       "0                                                Нет                        \n",
       "1                                                 Да                        \n",
       "\n",
       "   Count  \n",
       "0      8  \n",
       "1      7  "
      ]
     },
     "execution_count": 55,
     "metadata": {},
     "output_type": "execute_result"
    }
   ],
   "source": [
    "f_30_39_MSC_SPT_22 = df_f_30_39_MSC_SPT.iloc[:,[22]].value_counts().reset_index()\n",
    "f_30_39_MSC_SPT_22.columns = ['Вы бы купили мерч в подарок для благотворительного фонда/детского дома?', 'Count']\n",
    "print('Доверительный интервал:', mean_confidence_interval(f_30_39_MSC_SPT_22['Count'], 0.4999))\n",
    "f_30_39_MSC_SPT_22"
   ]
  },
  {
   "cell_type": "code",
   "execution_count": null,
   "metadata": {},
   "outputs": [],
   "source": [
    "\n"
   ]
  },
  {
   "cell_type": "markdown",
   "metadata": {},
   "source": [
    "# --------------------------------------------------------------------------------------------------------------\n"
   ]
  },
  {
   "cell_type": "markdown",
   "metadata": {},
   "source": [
    "### Женщины в возрасте 23-29 лет"
   ]
  },
  {
   "cell_type": "code",
   "execution_count": 56,
   "metadata": {},
   "outputs": [
    {
     "data": {
      "text/html": [
       "<div>\n",
       "<style scoped>\n",
       "    .dataframe tbody tr th:only-of-type {\n",
       "        vertical-align: middle;\n",
       "    }\n",
       "\n",
       "    .dataframe tbody tr th {\n",
       "        vertical-align: top;\n",
       "    }\n",
       "\n",
       "    .dataframe thead th {\n",
       "        text-align: right;\n",
       "    }\n",
       "</style>\n",
       "<table border=\"1\" class=\"dataframe\">\n",
       "  <thead>\n",
       "    <tr style=\"text-align: right;\">\n",
       "      <th></th>\n",
       "      <th>Отметка времени</th>\n",
       "    </tr>\n",
       "    <tr>\n",
       "      <th>Укажите ваш город</th>\n",
       "      <th></th>\n",
       "    </tr>\n",
       "  </thead>\n",
       "  <tbody>\n",
       "    <tr>\n",
       "      <th>Москва</th>\n",
       "      <td>10</td>\n",
       "    </tr>\n",
       "    <tr>\n",
       "      <th>Санкт-Петербург</th>\n",
       "      <td>7</td>\n",
       "    </tr>\n",
       "    <tr>\n",
       "      <th>Екатеринбург</th>\n",
       "      <td>2</td>\n",
       "    </tr>\n",
       "    <tr>\n",
       "      <th>Новосибирск</th>\n",
       "      <td>2</td>\n",
       "    </tr>\n",
       "    <tr>\n",
       "      <th>Владимир</th>\n",
       "      <td>1</td>\n",
       "    </tr>\n",
       "    <tr>\n",
       "      <th>Запорожье</th>\n",
       "      <td>1</td>\n",
       "    </tr>\n",
       "    <tr>\n",
       "      <th>Казань</th>\n",
       "      <td>1</td>\n",
       "    </tr>\n",
       "    <tr>\n",
       "      <th>Кемерово</th>\n",
       "      <td>1</td>\n",
       "    </tr>\n",
       "    <tr>\n",
       "      <th>Краснотурьинск</th>\n",
       "      <td>1</td>\n",
       "    </tr>\n",
       "    <tr>\n",
       "      <th>Ростов-на-Дону</th>\n",
       "      <td>1</td>\n",
       "    </tr>\n",
       "  </tbody>\n",
       "</table>\n",
       "</div>"
      ],
      "text/plain": [
       "                   Отметка времени\n",
       "Укажите ваш город                 \n",
       "Москва                          10\n",
       "Санкт-Петербург                  7\n",
       "Екатеринбург                     2\n",
       "Новосибирск                      2\n",
       "Владимир                         1\n",
       "Запорожье                        1\n",
       "Казань                           1\n",
       "Кемерово                         1\n",
       "Краснотурьинск                   1\n",
       "Ростов-на-Дону                   1"
      ]
     },
     "execution_count": 56,
     "metadata": {},
     "output_type": "execute_result"
    }
   ],
   "source": [
    "f_23_29 = f.loc[f['Укажите ваш возраст'] == '23-29 лет']\n",
    "f_23_29.groupby('Укажите ваш город').count()[['Отметка времени']].sort_values('Отметка времени', ascending=False).head(10)"
   ]
  },
  {
   "cell_type": "code",
   "execution_count": 57,
   "metadata": {},
   "outputs": [
    {
     "data": {
      "text/html": [
       "<div>\n",
       "<style scoped>\n",
       "    .dataframe tbody tr th:only-of-type {\n",
       "        vertical-align: middle;\n",
       "    }\n",
       "\n",
       "    .dataframe tbody tr th {\n",
       "        vertical-align: top;\n",
       "    }\n",
       "\n",
       "    .dataframe thead th {\n",
       "        text-align: right;\n",
       "    }\n",
       "</style>\n",
       "<table border=\"1\" class=\"dataframe\">\n",
       "  <thead>\n",
       "    <tr style=\"text-align: right;\">\n",
       "      <th></th>\n",
       "      <th>Укажите ваш город</th>\n",
       "      <th>Жен., %</th>\n",
       "    </tr>\n",
       "  </thead>\n",
       "  <tbody>\n",
       "    <tr>\n",
       "      <th>0</th>\n",
       "      <td>Москва</td>\n",
       "      <td>33.3</td>\n",
       "    </tr>\n",
       "    <tr>\n",
       "      <th>1</th>\n",
       "      <td>Санкт-Петербург</td>\n",
       "      <td>23.3</td>\n",
       "    </tr>\n",
       "    <tr>\n",
       "      <th>2</th>\n",
       "      <td>Новосибирск</td>\n",
       "      <td>6.7</td>\n",
       "    </tr>\n",
       "    <tr>\n",
       "      <th>3</th>\n",
       "      <td>Екатеринбург</td>\n",
       "      <td>6.7</td>\n",
       "    </tr>\n",
       "    <tr>\n",
       "      <th>4</th>\n",
       "      <td>Хабаровск</td>\n",
       "      <td>3.3</td>\n",
       "    </tr>\n",
       "    <tr>\n",
       "      <th>5</th>\n",
       "      <td>Усть-Джегута</td>\n",
       "      <td>3.3</td>\n",
       "    </tr>\n",
       "    <tr>\n",
       "      <th>6</th>\n",
       "      <td>Тула</td>\n",
       "      <td>3.3</td>\n",
       "    </tr>\n",
       "    <tr>\n",
       "      <th>7</th>\n",
       "      <td>Ростов-на-Дону</td>\n",
       "      <td>3.3</td>\n",
       "    </tr>\n",
       "    <tr>\n",
       "      <th>8</th>\n",
       "      <td>Краснотурьинск</td>\n",
       "      <td>3.3</td>\n",
       "    </tr>\n",
       "    <tr>\n",
       "      <th>9</th>\n",
       "      <td>Кемерово</td>\n",
       "      <td>3.3</td>\n",
       "    </tr>\n",
       "  </tbody>\n",
       "</table>\n",
       "</div>"
      ],
      "text/plain": [
       "  Укажите ваш город  Жен., %\n",
       "0            Москва     33.3\n",
       "1   Санкт-Петербург     23.3\n",
       "2       Новосибирск      6.7\n",
       "3      Екатеринбург      6.7\n",
       "4         Хабаровск      3.3\n",
       "5      Усть-Джегута      3.3\n",
       "6              Тула      3.3\n",
       "7    Ростов-на-Дону      3.3\n",
       "8   Краснотурьинск       3.3\n",
       "9          Кемерово      3.3"
      ]
     },
     "execution_count": 57,
     "metadata": {},
     "output_type": "execute_result"
    }
   ],
   "source": [
    "f_23_29_City = round(f_23_29.iloc[:,[3]].value_counts() / f_23_29.iloc[:,[3]].value_counts().sum() * 100, 1).reset_index()\n",
    "f_23_29_City.columns = ['Укажите ваш город', 'Жен., %']\n",
    "f_23_29_City.head(10)"
   ]
  },
  {
   "cell_type": "markdown",
   "metadata": {},
   "source": [
    "### Женщины в возрасте 23-29 лет, проживающие в Москве, СПб, Екатеринбурге и Новосибирске  \n",
    "#### (20 человек)"
   ]
  },
  {
   "cell_type": "code",
   "execution_count": 58,
   "metadata": {},
   "outputs": [],
   "source": [
    "df_f_23_29_Big_City = df.loc[(df['Укажите ваш возраст'] == '23-29 лет') & (df['Укажите ваш пол'] == 'Женский') & (df['Укажите ваш город'].isin(['Москва', 'Санкт-Петербург', 'Екатеринбург', 'Новосибирск']))]"
   ]
  },
  {
   "cell_type": "code",
   "execution_count": 59,
   "metadata": {},
   "outputs": [
    {
     "name": "stdout",
     "output_type": "stream",
     "text": [
      "Доверительный интервал: (30.642747805718546, 33.333333333333336, 36.02391886094813)\n"
     ]
    },
    {
     "data": {
      "text/html": [
       "<div>\n",
       "<style scoped>\n",
       "    .dataframe tbody tr th:only-of-type {\n",
       "        vertical-align: middle;\n",
       "    }\n",
       "\n",
       "    .dataframe tbody tr th {\n",
       "        vertical-align: top;\n",
       "    }\n",
       "\n",
       "    .dataframe thead th {\n",
       "        text-align: right;\n",
       "    }\n",
       "</style>\n",
       "<table border=\"1\" class=\"dataframe\">\n",
       "  <thead>\n",
       "    <tr style=\"text-align: right;\">\n",
       "      <th></th>\n",
       "      <th>Какая цветовая гамма интернет-магазина вам нравится?</th>\n",
       "      <th>%</th>\n",
       "    </tr>\n",
       "  </thead>\n",
       "  <tbody>\n",
       "    <tr>\n",
       "      <th>0</th>\n",
       "      <td>Сдержанные оттенки (белый, черный, серый)</td>\n",
       "      <td>38.1</td>\n",
       "    </tr>\n",
       "    <tr>\n",
       "      <th>1</th>\n",
       "      <td>Неважно</td>\n",
       "      <td>33.3</td>\n",
       "    </tr>\n",
       "    <tr>\n",
       "      <th>2</th>\n",
       "      <td>Яркая (синий, красный, зеленый и тд.)</td>\n",
       "      <td>28.6</td>\n",
       "    </tr>\n",
       "  </tbody>\n",
       "</table>\n",
       "</div>"
      ],
      "text/plain": [
       "  Какая цветовая гамма интернет-магазина вам нравится?     %\n",
       "0          Сдержанные оттенки (белый, черный, серый)    38.1\n",
       "1                                            Неважно    33.3\n",
       "2              Яркая (синий, красный, зеленый и тд.)    28.6"
      ]
     },
     "execution_count": 59,
     "metadata": {},
     "output_type": "execute_result"
    }
   ],
   "source": [
    "df_f_23_29_Big_City_4 = round(df_f_23_29_Big_City.iloc[:,[4]].value_counts() / df_f_23_29_Big_City.iloc[:,[4]].value_counts().sum() * 100, 1).reset_index()\n",
    "df_f_23_29_Big_City_4.columns = ['Какая цветовая гамма интернет-магазина вам нравится?', '%']\n",
    "print('Доверительный интервал:', mean_confidence_interval(df_f_23_29_Big_City_4['%'], 0.57))\n",
    "df_f_23_29_Big_City_4"
   ]
  },
  {
   "cell_type": "code",
   "execution_count": 60,
   "metadata": {},
   "outputs": [
    {
     "name": "stdout",
     "output_type": "stream",
     "text": [
      "Доверительный интервал: (6.433571401820119, 7.0, 7.566428598179881)\n"
     ]
    },
    {
     "data": {
      "text/html": [
       "<div>\n",
       "<style scoped>\n",
       "    .dataframe tbody tr th:only-of-type {\n",
       "        vertical-align: middle;\n",
       "    }\n",
       "\n",
       "    .dataframe tbody tr th {\n",
       "        vertical-align: top;\n",
       "    }\n",
       "\n",
       "    .dataframe thead th {\n",
       "        text-align: right;\n",
       "    }\n",
       "</style>\n",
       "<table border=\"1\" class=\"dataframe\">\n",
       "  <thead>\n",
       "    <tr style=\"text-align: right;\">\n",
       "      <th></th>\n",
       "      <th>Какая цветовая гамма интернет-магазина вам нравится?</th>\n",
       "      <th>Count</th>\n",
       "    </tr>\n",
       "  </thead>\n",
       "  <tbody>\n",
       "    <tr>\n",
       "      <th>0</th>\n",
       "      <td>Сдержанные оттенки (белый, черный, серый)</td>\n",
       "      <td>8</td>\n",
       "    </tr>\n",
       "    <tr>\n",
       "      <th>1</th>\n",
       "      <td>Неважно</td>\n",
       "      <td>7</td>\n",
       "    </tr>\n",
       "    <tr>\n",
       "      <th>2</th>\n",
       "      <td>Яркая (синий, красный, зеленый и тд.)</td>\n",
       "      <td>6</td>\n",
       "    </tr>\n",
       "  </tbody>\n",
       "</table>\n",
       "</div>"
      ],
      "text/plain": [
       "  Какая цветовая гамма интернет-магазина вам нравится?  Count\n",
       "0          Сдержанные оттенки (белый, черный, серый)        8\n",
       "1                                            Неважно        7\n",
       "2              Яркая (синий, красный, зеленый и тд.)        6"
      ]
     },
     "execution_count": 60,
     "metadata": {},
     "output_type": "execute_result"
    }
   ],
   "source": [
    "f_23_29_Big_City_4 = df_f_23_29_Big_City.iloc[:,[4]].value_counts().reset_index()\n",
    "f_23_29_Big_City_4.columns = ['Какая цветовая гамма интернет-магазина вам нравится?', 'Count']\n",
    "print('Доверительный интервал:', mean_confidence_interval(f_23_29_Big_City_4['Count'], 0.57))\n",
    "f_23_29_Big_City_4"
   ]
  },
  {
   "cell_type": "code",
   "execution_count": null,
   "metadata": {},
   "outputs": [],
   "source": [
    "\n"
   ]
  },
  {
   "cell_type": "code",
   "execution_count": 61,
   "metadata": {},
   "outputs": [
    {
     "name": "stdout",
     "output_type": "stream",
     "text": [
      "Доверительный интервал: (18.33672450458719, 33.333333333333336, 48.32994216207948)\n"
     ]
    },
    {
     "data": {
      "text/html": [
       "<div>\n",
       "<style scoped>\n",
       "    .dataframe tbody tr th:only-of-type {\n",
       "        vertical-align: middle;\n",
       "    }\n",
       "\n",
       "    .dataframe tbody tr th {\n",
       "        vertical-align: top;\n",
       "    }\n",
       "\n",
       "    .dataframe thead th {\n",
       "        text-align: right;\n",
       "    }\n",
       "</style>\n",
       "<table border=\"1\" class=\"dataframe\">\n",
       "  <thead>\n",
       "    <tr style=\"text-align: right;\">\n",
       "      <th></th>\n",
       "      <th>Сколько по времени вы готовы ждать свой заказ?</th>\n",
       "      <th>%</th>\n",
       "    </tr>\n",
       "  </thead>\n",
       "  <tbody>\n",
       "    <tr>\n",
       "      <th>0</th>\n",
       "      <td>4-7 рабочих дней</td>\n",
       "      <td>52.4</td>\n",
       "    </tr>\n",
       "    <tr>\n",
       "      <th>1</th>\n",
       "      <td>1-3 рабочих дня</td>\n",
       "      <td>28.6</td>\n",
       "    </tr>\n",
       "    <tr>\n",
       "      <th>2</th>\n",
       "      <td>Неважно</td>\n",
       "      <td>19.0</td>\n",
       "    </tr>\n",
       "  </tbody>\n",
       "</table>\n",
       "</div>"
      ],
      "text/plain": [
       "  Сколько по времени вы готовы ждать свой заказ?     %\n",
       "0                               4-7 рабочих дней  52.4\n",
       "1                                1-3 рабочих дня  28.6\n",
       "2                                        Неважно  19.0"
      ]
     },
     "execution_count": 61,
     "metadata": {},
     "output_type": "execute_result"
    }
   ],
   "source": [
    "df_f_23_29_Big_City_5 = round(df_f_23_29_Big_City.iloc[:,[5]].value_counts() / df_f_23_29_Big_City.iloc[:,[5]].value_counts().sum() * 100, 1).reset_index()\n",
    "df_f_23_29_Big_City_5.columns = ['Сколько по времени вы готовы ждать свой заказ?', '%']\n",
    "print('Доверительный интервал:', mean_confidence_interval(df_f_23_29_Big_City_5['%'], 0.73))\n",
    "df_f_23_29_Big_City_5"
   ]
  },
  {
   "cell_type": "code",
   "execution_count": 62,
   "metadata": {},
   "outputs": [
    {
     "name": "stdout",
     "output_type": "stream",
     "text": [
      "Доверительный интервал: (3.8555552151346673, 7.0, 10.144444784865332)\n"
     ]
    },
    {
     "data": {
      "text/html": [
       "<div>\n",
       "<style scoped>\n",
       "    .dataframe tbody tr th:only-of-type {\n",
       "        vertical-align: middle;\n",
       "    }\n",
       "\n",
       "    .dataframe tbody tr th {\n",
       "        vertical-align: top;\n",
       "    }\n",
       "\n",
       "    .dataframe thead th {\n",
       "        text-align: right;\n",
       "    }\n",
       "</style>\n",
       "<table border=\"1\" class=\"dataframe\">\n",
       "  <thead>\n",
       "    <tr style=\"text-align: right;\">\n",
       "      <th></th>\n",
       "      <th>Сколько по времени вы готовы ждать свой заказ?</th>\n",
       "      <th>Count</th>\n",
       "    </tr>\n",
       "  </thead>\n",
       "  <tbody>\n",
       "    <tr>\n",
       "      <th>0</th>\n",
       "      <td>4-7 рабочих дней</td>\n",
       "      <td>11</td>\n",
       "    </tr>\n",
       "    <tr>\n",
       "      <th>1</th>\n",
       "      <td>1-3 рабочих дня</td>\n",
       "      <td>6</td>\n",
       "    </tr>\n",
       "    <tr>\n",
       "      <th>2</th>\n",
       "      <td>Неважно</td>\n",
       "      <td>4</td>\n",
       "    </tr>\n",
       "  </tbody>\n",
       "</table>\n",
       "</div>"
      ],
      "text/plain": [
       "  Сколько по времени вы готовы ждать свой заказ?  Count\n",
       "0                               4-7 рабочих дней     11\n",
       "1                                1-3 рабочих дня      6\n",
       "2                                        Неважно      4"
      ]
     },
     "execution_count": 62,
     "metadata": {},
     "output_type": "execute_result"
    }
   ],
   "source": [
    "f_23_29_Big_City_5 = df_f_23_29_Big_City.iloc[:,[5]].value_counts().reset_index()\n",
    "f_23_29_Big_City_5.columns = ['Сколько по времени вы готовы ждать свой заказ?', 'Count']\n",
    "print('Доверительный интервал:', mean_confidence_interval(f_23_29_Big_City_5['Count'], 0.73))\n",
    "f_23_29_Big_City_5"
   ]
  },
  {
   "cell_type": "code",
   "execution_count": null,
   "metadata": {},
   "outputs": [],
   "source": [
    "\n"
   ]
  },
  {
   "cell_type": "code",
   "execution_count": 63,
   "metadata": {},
   "outputs": [
    {
     "name": "stdout",
     "output_type": "stream",
     "text": [
      "Доверительный интервал: (6.65357038130796, 16.650000000000002, 26.646429618692046)\n"
     ]
    },
    {
     "data": {
      "text/html": [
       "<div>\n",
       "<style scoped>\n",
       "    .dataframe tbody tr th:only-of-type {\n",
       "        vertical-align: middle;\n",
       "    }\n",
       "\n",
       "    .dataframe tbody tr th {\n",
       "        vertical-align: top;\n",
       "    }\n",
       "\n",
       "    .dataframe thead th {\n",
       "        text-align: right;\n",
       "    }\n",
       "</style>\n",
       "<table border=\"1\" class=\"dataframe\">\n",
       "  <thead>\n",
       "    <tr style=\"text-align: right;\">\n",
       "      <th></th>\n",
       "      <th>Что из перечисленного могло бы мотивировать вас к покупке?</th>\n",
       "      <th>%</th>\n",
       "    </tr>\n",
       "  </thead>\n",
       "  <tbody>\n",
       "    <tr>\n",
       "      <th>0</th>\n",
       "      <td>Скидка</td>\n",
       "      <td>33.3</td>\n",
       "    </tr>\n",
       "    <tr>\n",
       "      <th>1</th>\n",
       "      <td>Наличие промокода, Скидка</td>\n",
       "      <td>28.6</td>\n",
       "    </tr>\n",
       "    <tr>\n",
       "      <th>2</th>\n",
       "      <td>Скидка, Система лояльности</td>\n",
       "      <td>9.5</td>\n",
       "    </tr>\n",
       "    <tr>\n",
       "      <th>3</th>\n",
       "      <td>Ничего из перечисленного</td>\n",
       "      <td>9.5</td>\n",
       "    </tr>\n",
       "    <tr>\n",
       "      <th>4</th>\n",
       "      <td>Наличие промокода, Скидка, Система лояльности</td>\n",
       "      <td>9.5</td>\n",
       "    </tr>\n",
       "    <tr>\n",
       "      <th>5</th>\n",
       "      <td>Наличие промокода</td>\n",
       "      <td>9.5</td>\n",
       "    </tr>\n",
       "  </tbody>\n",
       "</table>\n",
       "</div>"
      ],
      "text/plain": [
       "  Что из перечисленного могло бы мотивировать вас к покупке?     %\n",
       "0                                             Скидка          33.3\n",
       "1                          Наличие промокода, Скидка          28.6\n",
       "2                         Скидка, Система лояльности           9.5\n",
       "3                           Ничего из перечисленного           9.5\n",
       "4      Наличие промокода, Скидка, Система лояльности           9.5\n",
       "5                                  Наличие промокода           9.5"
      ]
     },
     "execution_count": 63,
     "metadata": {},
     "output_type": "execute_result"
    }
   ],
   "source": [
    "df_f_23_29_Big_City_6 = round(df_f_23_29_Big_City.iloc[:,[6]].value_counts() / df_f_23_29_Big_City.iloc[:,[6]].value_counts().sum() * 100, 1).reset_index()\n",
    "df_f_23_29_Big_City_6.columns = ['Что из перечисленного могло бы мотивировать вас к покупке?', '%']\n",
    "print('Доверительный интервал:', mean_confidence_interval(df_f_23_29_Big_City_6['%'], 0.92))\n",
    "df_f_23_29_Big_City_6"
   ]
  },
  {
   "cell_type": "code",
   "execution_count": 64,
   "metadata": {},
   "outputs": [
    {
     "name": "stdout",
     "output_type": "stream",
     "text": [
      "Доверительный интервал: (1.4023171742666625, 3.5, 5.5976828257333375)\n"
     ]
    },
    {
     "data": {
      "text/html": [
       "<div>\n",
       "<style scoped>\n",
       "    .dataframe tbody tr th:only-of-type {\n",
       "        vertical-align: middle;\n",
       "    }\n",
       "\n",
       "    .dataframe tbody tr th {\n",
       "        vertical-align: top;\n",
       "    }\n",
       "\n",
       "    .dataframe thead th {\n",
       "        text-align: right;\n",
       "    }\n",
       "</style>\n",
       "<table border=\"1\" class=\"dataframe\">\n",
       "  <thead>\n",
       "    <tr style=\"text-align: right;\">\n",
       "      <th></th>\n",
       "      <th>Что из перечисленного могло бы мотивировать вас к покупке?</th>\n",
       "      <th>Count</th>\n",
       "    </tr>\n",
       "  </thead>\n",
       "  <tbody>\n",
       "    <tr>\n",
       "      <th>0</th>\n",
       "      <td>Скидка</td>\n",
       "      <td>7</td>\n",
       "    </tr>\n",
       "    <tr>\n",
       "      <th>1</th>\n",
       "      <td>Наличие промокода, Скидка</td>\n",
       "      <td>6</td>\n",
       "    </tr>\n",
       "    <tr>\n",
       "      <th>2</th>\n",
       "      <td>Скидка, Система лояльности</td>\n",
       "      <td>2</td>\n",
       "    </tr>\n",
       "    <tr>\n",
       "      <th>3</th>\n",
       "      <td>Ничего из перечисленного</td>\n",
       "      <td>2</td>\n",
       "    </tr>\n",
       "    <tr>\n",
       "      <th>4</th>\n",
       "      <td>Наличие промокода, Скидка, Система лояльности</td>\n",
       "      <td>2</td>\n",
       "    </tr>\n",
       "    <tr>\n",
       "      <th>5</th>\n",
       "      <td>Наличие промокода</td>\n",
       "      <td>2</td>\n",
       "    </tr>\n",
       "  </tbody>\n",
       "</table>\n",
       "</div>"
      ],
      "text/plain": [
       "  Что из перечисленного могло бы мотивировать вас к покупке?  Count\n",
       "0                                             Скидка              7\n",
       "1                          Наличие промокода, Скидка              6\n",
       "2                         Скидка, Система лояльности              2\n",
       "3                           Ничего из перечисленного              2\n",
       "4      Наличие промокода, Скидка, Система лояльности              2\n",
       "5                                  Наличие промокода              2"
      ]
     },
     "execution_count": 64,
     "metadata": {},
     "output_type": "execute_result"
    }
   ],
   "source": [
    "f_23_29_Big_City_6 = df_f_23_29_Big_City.iloc[:,[6]].value_counts().reset_index()\n",
    "f_23_29_Big_City_6.columns = ['Что из перечисленного могло бы мотивировать вас к покупке?', 'Count']\n",
    "print('Доверительный интервал:', mean_confidence_interval(f_23_29_Big_City_6['Count'], 0.92))\n",
    "f_23_29_Big_City_6"
   ]
  },
  {
   "cell_type": "code",
   "execution_count": null,
   "metadata": {},
   "outputs": [],
   "source": [
    "\n"
   ]
  },
  {
   "cell_type": "code",
   "execution_count": 65,
   "metadata": {},
   "outputs": [
    {
     "name": "stdout",
     "output_type": "stream",
     "text": [
      "Доверительный интервал: (7.084005648393877, 25.0, 42.91599435160612)\n"
     ]
    },
    {
     "data": {
      "text/html": [
       "<div>\n",
       "<style scoped>\n",
       "    .dataframe tbody tr th:only-of-type {\n",
       "        vertical-align: middle;\n",
       "    }\n",
       "\n",
       "    .dataframe tbody tr th {\n",
       "        vertical-align: top;\n",
       "    }\n",
       "\n",
       "    .dataframe thead th {\n",
       "        text-align: right;\n",
       "    }\n",
       "</style>\n",
       "<table border=\"1\" class=\"dataframe\">\n",
       "  <thead>\n",
       "    <tr style=\"text-align: right;\">\n",
       "      <th></th>\n",
       "      <th>Как долго вы готовы ждать ответа от менеджера  по вашему заказу?</th>\n",
       "      <th>%</th>\n",
       "    </tr>\n",
       "  </thead>\n",
       "  <tbody>\n",
       "    <tr>\n",
       "      <th>0</th>\n",
       "      <td>1-3 часа</td>\n",
       "      <td>47.6</td>\n",
       "    </tr>\n",
       "    <tr>\n",
       "      <th>1</th>\n",
       "      <td>В течение суток</td>\n",
       "      <td>28.6</td>\n",
       "    </tr>\n",
       "    <tr>\n",
       "      <th>2</th>\n",
       "      <td>В течение часа</td>\n",
       "      <td>19.0</td>\n",
       "    </tr>\n",
       "    <tr>\n",
       "      <th>3</th>\n",
       "      <td>Неважно</td>\n",
       "      <td>4.8</td>\n",
       "    </tr>\n",
       "  </tbody>\n",
       "</table>\n",
       "</div>"
      ],
      "text/plain": [
       "  Как долго вы готовы ждать ответа от менеджера  по вашему заказу?     %\n",
       "0                                           1-3 часа                47.6\n",
       "1                                    В течение суток                28.6\n",
       "2                                     В течение часа                19.0\n",
       "3                                            Неважно                 4.8"
      ]
     },
     "execution_count": 65,
     "metadata": {},
     "output_type": "execute_result"
    }
   ],
   "source": [
    "df_f_23_29_Big_City_7 = round(df_f_23_29_Big_City.iloc[:,[7]].value_counts() / df_f_23_29_Big_City.iloc[:,[7]].value_counts().sum() * 100, 1).reset_index()\n",
    "df_f_23_29_Big_City_7.columns = ['Как долго вы готовы ждать ответа от менеджера  по вашему заказу?', '%']\n",
    "print('Доверительный интервал:', mean_confidence_interval(df_f_23_29_Big_City_7['%'], 0.86))\n",
    "df_f_23_29_Big_City_7"
   ]
  },
  {
   "cell_type": "code",
   "execution_count": 66,
   "metadata": {},
   "outputs": [
    {
     "name": "stdout",
     "output_type": "stream",
     "text": [
      "Доверительный интервал: (1.484478405245937, 5.25, 9.015521594754063)\n"
     ]
    },
    {
     "data": {
      "text/html": [
       "<div>\n",
       "<style scoped>\n",
       "    .dataframe tbody tr th:only-of-type {\n",
       "        vertical-align: middle;\n",
       "    }\n",
       "\n",
       "    .dataframe tbody tr th {\n",
       "        vertical-align: top;\n",
       "    }\n",
       "\n",
       "    .dataframe thead th {\n",
       "        text-align: right;\n",
       "    }\n",
       "</style>\n",
       "<table border=\"1\" class=\"dataframe\">\n",
       "  <thead>\n",
       "    <tr style=\"text-align: right;\">\n",
       "      <th></th>\n",
       "      <th>Как долго вы готовы ждать ответа от менеджера  по вашему заказу?</th>\n",
       "      <th>Count</th>\n",
       "    </tr>\n",
       "  </thead>\n",
       "  <tbody>\n",
       "    <tr>\n",
       "      <th>0</th>\n",
       "      <td>1-3 часа</td>\n",
       "      <td>10</td>\n",
       "    </tr>\n",
       "    <tr>\n",
       "      <th>1</th>\n",
       "      <td>В течение суток</td>\n",
       "      <td>6</td>\n",
       "    </tr>\n",
       "    <tr>\n",
       "      <th>2</th>\n",
       "      <td>В течение часа</td>\n",
       "      <td>4</td>\n",
       "    </tr>\n",
       "    <tr>\n",
       "      <th>3</th>\n",
       "      <td>Неважно</td>\n",
       "      <td>1</td>\n",
       "    </tr>\n",
       "  </tbody>\n",
       "</table>\n",
       "</div>"
      ],
      "text/plain": [
       "  Как долго вы готовы ждать ответа от менеджера  по вашему заказу?  Count\n",
       "0                                           1-3 часа                   10\n",
       "1                                    В течение суток                    6\n",
       "2                                     В течение часа                    4\n",
       "3                                            Неважно                    1"
      ]
     },
     "execution_count": 66,
     "metadata": {},
     "output_type": "execute_result"
    }
   ],
   "source": [
    "f_23_29_Big_City_7 = df_f_23_29_Big_City.iloc[:,[7]].value_counts().reset_index()\n",
    "f_23_29_Big_City_7.columns = ['Как долго вы готовы ждать ответа от менеджера  по вашему заказу?', 'Count']\n",
    "print('Доверительный интервал:', mean_confidence_interval(f_23_29_Big_City_7['Count'], 0.86))\n",
    "f_23_29_Big_City_7"
   ]
  },
  {
   "cell_type": "code",
   "execution_count": null,
   "metadata": {},
   "outputs": [],
   "source": [
    "\n"
   ]
  },
  {
   "cell_type": "code",
   "execution_count": 67,
   "metadata": {},
   "outputs": [
    {
     "name": "stdout",
     "output_type": "stream",
     "text": [
      "Доверительный интервал: (4.512307498771341, 11.122222222222222, 17.7321369456731)\n"
     ]
    },
    {
     "data": {
      "text/html": [
       "<div>\n",
       "<style scoped>\n",
       "    .dataframe tbody tr th:only-of-type {\n",
       "        vertical-align: middle;\n",
       "    }\n",
       "\n",
       "    .dataframe tbody tr th {\n",
       "        vertical-align: top;\n",
       "    }\n",
       "\n",
       "    .dataframe thead th {\n",
       "        text-align: right;\n",
       "    }\n",
       "</style>\n",
       "<table border=\"1\" class=\"dataframe\">\n",
       "  <thead>\n",
       "    <tr style=\"text-align: right;\">\n",
       "      <th></th>\n",
       "      <th>Какой способ обратной связи с менеджером вам наиболее удобен?</th>\n",
       "      <th>%</th>\n",
       "    </tr>\n",
       "  </thead>\n",
       "  <tbody>\n",
       "    <tr>\n",
       "      <th>0</th>\n",
       "      <td>Получить ответ в мессенджере/в соцсетях</td>\n",
       "      <td>28.6</td>\n",
       "    </tr>\n",
       "    <tr>\n",
       "      <th>1</th>\n",
       "      <td>Получить ответ на телефон (звонок), Получить о...</td>\n",
       "      <td>14.3</td>\n",
       "    </tr>\n",
       "    <tr>\n",
       "      <th>2</th>\n",
       "      <td>На самом сайте (чат), Получить ответ на почту,...</td>\n",
       "      <td>14.3</td>\n",
       "    </tr>\n",
       "    <tr>\n",
       "      <th>3</th>\n",
       "      <td>Получить ответ на телефон (звонок)</td>\n",
       "      <td>9.5</td>\n",
       "    </tr>\n",
       "    <tr>\n",
       "      <th>4</th>\n",
       "      <td>Получить ответ на почту, Получить ответ на тел...</td>\n",
       "      <td>9.5</td>\n",
       "    </tr>\n",
       "    <tr>\n",
       "      <th>5</th>\n",
       "      <td>Получить ответ на почту, Получить ответ на тел...</td>\n",
       "      <td>9.5</td>\n",
       "    </tr>\n",
       "    <tr>\n",
       "      <th>6</th>\n",
       "      <td>Получить ответ на почту, Получить ответ на тел...</td>\n",
       "      <td>4.8</td>\n",
       "    </tr>\n",
       "    <tr>\n",
       "      <th>7</th>\n",
       "      <td>Получить ответ на почту, Получить ответ на тел...</td>\n",
       "      <td>4.8</td>\n",
       "    </tr>\n",
       "    <tr>\n",
       "      <th>8</th>\n",
       "      <td>На самом сайте (чат), Получить ответ на телефо...</td>\n",
       "      <td>4.8</td>\n",
       "    </tr>\n",
       "  </tbody>\n",
       "</table>\n",
       "</div>"
      ],
      "text/plain": [
       "  Какой способ обратной связи с менеджером вам наиболее удобен?     %\n",
       "0            Получить ответ в мессенджере/в соцсетях             28.6\n",
       "1  Получить ответ на телефон (звонок), Получить о...             14.3\n",
       "2  На самом сайте (чат), Получить ответ на почту,...             14.3\n",
       "3                 Получить ответ на телефон (звонок)              9.5\n",
       "4  Получить ответ на почту, Получить ответ на тел...              9.5\n",
       "5  Получить ответ на почту, Получить ответ на тел...              9.5\n",
       "6  Получить ответ на почту, Получить ответ на тел...              4.8\n",
       "7  Получить ответ на почту, Получить ответ на тел...              4.8\n",
       "8  На самом сайте (чат), Получить ответ на телефо...              4.8"
      ]
     },
     "execution_count": 67,
     "metadata": {},
     "output_type": "execute_result"
    }
   ],
   "source": [
    "df_f_23_29_Big_City_8 = round(df_f_23_29_Big_City.iloc[:,[8]].value_counts() / df_f_23_29_Big_City.iloc[:,[8]].value_counts().sum() * 100, 1).reset_index()\n",
    "df_f_23_29_Big_City_8.columns = ['Какой способ обратной связи с менеджером вам наиболее удобен?', '%']\n",
    "print('Доверительный интервал:', mean_confidence_interval(df_f_23_29_Big_City_8['%'], 0.97))\n",
    "df_f_23_29_Big_City_8"
   ]
  },
  {
   "cell_type": "code",
   "execution_count": 68,
   "metadata": {},
   "outputs": [
    {
     "name": "stdout",
     "output_type": "stream",
     "text": [
      "Доверительный интервал: (0.9451912723762561, 2.3333333333333335, 3.721475394290411)\n"
     ]
    },
    {
     "data": {
      "text/html": [
       "<div>\n",
       "<style scoped>\n",
       "    .dataframe tbody tr th:only-of-type {\n",
       "        vertical-align: middle;\n",
       "    }\n",
       "\n",
       "    .dataframe tbody tr th {\n",
       "        vertical-align: top;\n",
       "    }\n",
       "\n",
       "    .dataframe thead th {\n",
       "        text-align: right;\n",
       "    }\n",
       "</style>\n",
       "<table border=\"1\" class=\"dataframe\">\n",
       "  <thead>\n",
       "    <tr style=\"text-align: right;\">\n",
       "      <th></th>\n",
       "      <th>Какой способ обратной связи с менеджером вам наиболее удобен?</th>\n",
       "      <th>Count</th>\n",
       "    </tr>\n",
       "  </thead>\n",
       "  <tbody>\n",
       "    <tr>\n",
       "      <th>0</th>\n",
       "      <td>Получить ответ в мессенджере/в соцсетях</td>\n",
       "      <td>6</td>\n",
       "    </tr>\n",
       "    <tr>\n",
       "      <th>1</th>\n",
       "      <td>Получить ответ на телефон (звонок), Получить о...</td>\n",
       "      <td>3</td>\n",
       "    </tr>\n",
       "    <tr>\n",
       "      <th>2</th>\n",
       "      <td>На самом сайте (чат), Получить ответ на почту,...</td>\n",
       "      <td>3</td>\n",
       "    </tr>\n",
       "    <tr>\n",
       "      <th>3</th>\n",
       "      <td>Получить ответ на телефон (звонок)</td>\n",
       "      <td>2</td>\n",
       "    </tr>\n",
       "    <tr>\n",
       "      <th>4</th>\n",
       "      <td>Получить ответ на почту, Получить ответ на тел...</td>\n",
       "      <td>2</td>\n",
       "    </tr>\n",
       "    <tr>\n",
       "      <th>5</th>\n",
       "      <td>Получить ответ на почту, Получить ответ на тел...</td>\n",
       "      <td>2</td>\n",
       "    </tr>\n",
       "    <tr>\n",
       "      <th>6</th>\n",
       "      <td>Получить ответ на почту, Получить ответ на тел...</td>\n",
       "      <td>1</td>\n",
       "    </tr>\n",
       "    <tr>\n",
       "      <th>7</th>\n",
       "      <td>Получить ответ на почту, Получить ответ на тел...</td>\n",
       "      <td>1</td>\n",
       "    </tr>\n",
       "    <tr>\n",
       "      <th>8</th>\n",
       "      <td>На самом сайте (чат), Получить ответ на телефо...</td>\n",
       "      <td>1</td>\n",
       "    </tr>\n",
       "  </tbody>\n",
       "</table>\n",
       "</div>"
      ],
      "text/plain": [
       "  Какой способ обратной связи с менеджером вам наиболее удобен?  Count\n",
       "0            Получить ответ в мессенджере/в соцсетях                 6\n",
       "1  Получить ответ на телефон (звонок), Получить о...                 3\n",
       "2  На самом сайте (чат), Получить ответ на почту,...                 3\n",
       "3                 Получить ответ на телефон (звонок)                 2\n",
       "4  Получить ответ на почту, Получить ответ на тел...                 2\n",
       "5  Получить ответ на почту, Получить ответ на тел...                 2\n",
       "6  Получить ответ на почту, Получить ответ на тел...                 1\n",
       "7  Получить ответ на почту, Получить ответ на тел...                 1\n",
       "8  На самом сайте (чат), Получить ответ на телефо...                 1"
      ]
     },
     "execution_count": 68,
     "metadata": {},
     "output_type": "execute_result"
    }
   ],
   "source": [
    "f_23_29_Big_City_8 = df_f_23_29_Big_City.iloc[:,[8]].value_counts().reset_index()\n",
    "f_23_29_Big_City_8.columns = ['Какой способ обратной связи с менеджером вам наиболее удобен?', 'Count']\n",
    "print('Доверительный интервал:', mean_confidence_interval(f_23_29_Big_City_8['Count'], 0.97))\n",
    "f_23_29_Big_City_8"
   ]
  },
  {
   "cell_type": "code",
   "execution_count": null,
   "metadata": {},
   "outputs": [],
   "source": [
    "\n"
   ]
  },
  {
   "cell_type": "code",
   "execution_count": 69,
   "metadata": {},
   "outputs": [
    {
     "name": "stdout",
     "output_type": "stream",
     "text": [
      "Доверительный интервал: (7.628639252254107, 33.333333333333336, 59.03802741441257)\n"
     ]
    },
    {
     "data": {
      "text/html": [
       "<div>\n",
       "<style scoped>\n",
       "    .dataframe tbody tr th:only-of-type {\n",
       "        vertical-align: middle;\n",
       "    }\n",
       "\n",
       "    .dataframe tbody tr th {\n",
       "        vertical-align: top;\n",
       "    }\n",
       "\n",
       "    .dataframe thead th {\n",
       "        text-align: right;\n",
       "    }\n",
       "</style>\n",
       "<table border=\"1\" class=\"dataframe\">\n",
       "  <thead>\n",
       "    <tr style=\"text-align: right;\">\n",
       "      <th></th>\n",
       "      <th>Вы когда-нибудь покупали мерч?</th>\n",
       "      <th>%</th>\n",
       "    </tr>\n",
       "  </thead>\n",
       "  <tbody>\n",
       "    <tr>\n",
       "      <th>0</th>\n",
       "      <td>Да</td>\n",
       "      <td>76.2</td>\n",
       "    </tr>\n",
       "    <tr>\n",
       "      <th>1</th>\n",
       "      <td>Нет, но планирую</td>\n",
       "      <td>19.0</td>\n",
       "    </tr>\n",
       "    <tr>\n",
       "      <th>2</th>\n",
       "      <td>Нет и не планирую</td>\n",
       "      <td>4.8</td>\n",
       "    </tr>\n",
       "  </tbody>\n",
       "</table>\n",
       "</div>"
      ],
      "text/plain": [
       "  Вы когда-нибудь покупали мерч?     %\n",
       "0                             Да  76.2\n",
       "1               Нет, но планирую  19.0\n",
       "2              Нет и не планирую   4.8"
      ]
     },
     "execution_count": 69,
     "metadata": {},
     "output_type": "execute_result"
    }
   ],
   "source": [
    "df_f_23_29_Big_City_9 = round(df_f_23_29_Big_City.iloc[:,[9]].value_counts() / df_f_23_29_Big_City.iloc[:,[9]].value_counts().sum() * 100, 1).reset_index()\n",
    "df_f_23_29_Big_City_9.columns = ['Вы когда-нибудь покупали мерч?', '%']\n",
    "print('Доверительный интервал:', mean_confidence_interval(df_f_23_29_Big_City_9['%'], 0.64))\n",
    "df_f_23_29_Big_City_9"
   ]
  },
  {
   "cell_type": "code",
   "execution_count": 70,
   "metadata": {},
   "outputs": [
    {
     "name": "stdout",
     "output_type": "stream",
     "text": [
      "Доверительный интервал: (1.6020178416269344, 7.0, 12.397982158373065)\n"
     ]
    },
    {
     "data": {
      "text/html": [
       "<div>\n",
       "<style scoped>\n",
       "    .dataframe tbody tr th:only-of-type {\n",
       "        vertical-align: middle;\n",
       "    }\n",
       "\n",
       "    .dataframe tbody tr th {\n",
       "        vertical-align: top;\n",
       "    }\n",
       "\n",
       "    .dataframe thead th {\n",
       "        text-align: right;\n",
       "    }\n",
       "</style>\n",
       "<table border=\"1\" class=\"dataframe\">\n",
       "  <thead>\n",
       "    <tr style=\"text-align: right;\">\n",
       "      <th></th>\n",
       "      <th>Вы когда-нибудь покупали мерч?</th>\n",
       "      <th>Count</th>\n",
       "    </tr>\n",
       "  </thead>\n",
       "  <tbody>\n",
       "    <tr>\n",
       "      <th>0</th>\n",
       "      <td>Да</td>\n",
       "      <td>16</td>\n",
       "    </tr>\n",
       "    <tr>\n",
       "      <th>1</th>\n",
       "      <td>Нет, но планирую</td>\n",
       "      <td>4</td>\n",
       "    </tr>\n",
       "    <tr>\n",
       "      <th>2</th>\n",
       "      <td>Нет и не планирую</td>\n",
       "      <td>1</td>\n",
       "    </tr>\n",
       "  </tbody>\n",
       "</table>\n",
       "</div>"
      ],
      "text/plain": [
       "  Вы когда-нибудь покупали мерч?  Count\n",
       "0                             Да     16\n",
       "1               Нет, но планирую      4\n",
       "2              Нет и не планирую      1"
      ]
     },
     "execution_count": 70,
     "metadata": {},
     "output_type": "execute_result"
    }
   ],
   "source": [
    "f_23_29_Big_City_9 = df_f_23_29_Big_City.iloc[:,[9]].value_counts().reset_index()\n",
    "f_23_29_Big_City_9.columns = ['Вы когда-нибудь покупали мерч?', 'Count']\n",
    "print('Доверительный интервал:', mean_confidence_interval(f_23_29_Big_City_9['Count'], 0.64))\n",
    "f_23_29_Big_City_9"
   ]
  },
  {
   "cell_type": "code",
   "execution_count": null,
   "metadata": {},
   "outputs": [],
   "source": [
    "\n"
   ]
  },
  {
   "cell_type": "code",
   "execution_count": 71,
   "metadata": {},
   "outputs": [
    {
     "name": "stdout",
     "output_type": "stream",
     "text": [
      "Доверительный интервал: (26.17202395949257, 33.333333333333336, 40.4946427071741)\n"
     ]
    },
    {
     "data": {
      "text/html": [
       "<div>\n",
       "<style scoped>\n",
       "    .dataframe tbody tr th:only-of-type {\n",
       "        vertical-align: middle;\n",
       "    }\n",
       "\n",
       "    .dataframe tbody tr th {\n",
       "        vertical-align: top;\n",
       "    }\n",
       "\n",
       "    .dataframe thead th {\n",
       "        text-align: right;\n",
       "    }\n",
       "</style>\n",
       "<table border=\"1\" class=\"dataframe\">\n",
       "  <thead>\n",
       "    <tr style=\"text-align: right;\">\n",
       "      <th></th>\n",
       "      <th>Вам важно, какого размера будет логотип на мерче?</th>\n",
       "      <th>%</th>\n",
       "    </tr>\n",
       "  </thead>\n",
       "  <tbody>\n",
       "    <tr>\n",
       "      <th>0</th>\n",
       "      <td>Да, нравится, когда логотип маленького размера</td>\n",
       "      <td>42.9</td>\n",
       "    </tr>\n",
       "    <tr>\n",
       "      <th>1</th>\n",
       "      <td>Нет, мне неважно, какого размера будет логотип</td>\n",
       "      <td>38.1</td>\n",
       "    </tr>\n",
       "    <tr>\n",
       "      <th>2</th>\n",
       "      <td>Не люблю, когда на мерче есть логотип</td>\n",
       "      <td>19.0</td>\n",
       "    </tr>\n",
       "  </tbody>\n",
       "</table>\n",
       "</div>"
      ],
      "text/plain": [
       "  Вам важно, какого размера будет логотип на мерче?     %\n",
       "0    Да, нравится, когда логотип маленького размера  42.9\n",
       "1    Нет, мне неважно, какого размера будет логотип  38.1\n",
       "2             Не люблю, когда на мерче есть логотип  19.0"
      ]
     },
     "execution_count": 71,
     "metadata": {},
     "output_type": "execute_result"
    }
   ],
   "source": [
    "df_f_23_29_Big_City_10 = round(df_f_23_29_Big_City.iloc[:,[10]].value_counts() / df_f_23_29_Big_City.iloc[:,[10]].value_counts().sum() * 100, 1).reset_index()\n",
    "df_f_23_29_Big_City_10.columns = ['Вам важно, какого размера будет логотип на мерче?', '%']\n",
    "print('Доверительный интервал:', mean_confidence_interval(df_f_23_29_Big_City_10['%'], 0.57))\n",
    "df_f_23_29_Big_City_10"
   ]
  },
  {
   "cell_type": "code",
   "execution_count": 72,
   "metadata": {},
   "outputs": [
    {
     "name": "stdout",
     "output_type": "stream",
     "text": [
      "Доверительный интервал: (5.501370793741104, 7.0, 8.498629206258897)\n"
     ]
    },
    {
     "data": {
      "text/html": [
       "<div>\n",
       "<style scoped>\n",
       "    .dataframe tbody tr th:only-of-type {\n",
       "        vertical-align: middle;\n",
       "    }\n",
       "\n",
       "    .dataframe tbody tr th {\n",
       "        vertical-align: top;\n",
       "    }\n",
       "\n",
       "    .dataframe thead th {\n",
       "        text-align: right;\n",
       "    }\n",
       "</style>\n",
       "<table border=\"1\" class=\"dataframe\">\n",
       "  <thead>\n",
       "    <tr style=\"text-align: right;\">\n",
       "      <th></th>\n",
       "      <th>Вам важно, какого размера будет логотип на мерче?</th>\n",
       "      <th>Count</th>\n",
       "    </tr>\n",
       "  </thead>\n",
       "  <tbody>\n",
       "    <tr>\n",
       "      <th>0</th>\n",
       "      <td>Да, нравится, когда логотип маленького размера</td>\n",
       "      <td>9</td>\n",
       "    </tr>\n",
       "    <tr>\n",
       "      <th>1</th>\n",
       "      <td>Нет, мне неважно, какого размера будет логотип</td>\n",
       "      <td>8</td>\n",
       "    </tr>\n",
       "    <tr>\n",
       "      <th>2</th>\n",
       "      <td>Не люблю, когда на мерче есть логотип</td>\n",
       "      <td>4</td>\n",
       "    </tr>\n",
       "  </tbody>\n",
       "</table>\n",
       "</div>"
      ],
      "text/plain": [
       "  Вам важно, какого размера будет логотип на мерче?  Count\n",
       "0    Да, нравится, когда логотип маленького размера      9\n",
       "1    Нет, мне неважно, какого размера будет логотип      8\n",
       "2             Не люблю, когда на мерче есть логотип      4"
      ]
     },
     "execution_count": 72,
     "metadata": {},
     "output_type": "execute_result"
    }
   ],
   "source": [
    "f_23_29_Big_City_10 = df_f_23_29_Big_City.iloc[:,[10]].value_counts().reset_index()\n",
    "f_23_29_Big_City_10.columns = ['Вам важно, какого размера будет логотип на мерче?', 'Count']\n",
    "print('Доверительный интервал:', mean_confidence_interval(f_23_29_Big_City_10['Count'], 0.57))\n",
    "f_23_29_Big_City_10"
   ]
  },
  {
   "cell_type": "code",
   "execution_count": null,
   "metadata": {},
   "outputs": [],
   "source": [
    "\n"
   ]
  },
  {
   "cell_type": "code",
   "execution_count": 73,
   "metadata": {},
   "outputs": [
    {
     "name": "stdout",
     "output_type": "stream",
     "text": [
      "Доверительный интервал: (5.693106470291287, 16.683333333333334, 27.67356019637538)\n"
     ]
    },
    {
     "data": {
      "text/html": [
       "<div>\n",
       "<style scoped>\n",
       "    .dataframe tbody tr th:only-of-type {\n",
       "        vertical-align: middle;\n",
       "    }\n",
       "\n",
       "    .dataframe tbody tr th {\n",
       "        vertical-align: top;\n",
       "    }\n",
       "\n",
       "    .dataframe thead th {\n",
       "        text-align: right;\n",
       "    }\n",
       "</style>\n",
       "<table border=\"1\" class=\"dataframe\">\n",
       "  <thead>\n",
       "    <tr style=\"text-align: right;\">\n",
       "      <th></th>\n",
       "      <th>Какой мерч вам интереснее всего?</th>\n",
       "      <th>%</th>\n",
       "    </tr>\n",
       "  </thead>\n",
       "  <tbody>\n",
       "    <tr>\n",
       "      <th>0</th>\n",
       "      <td>Одежда (футболки, худи и др.)</td>\n",
       "      <td>33.3</td>\n",
       "    </tr>\n",
       "    <tr>\n",
       "      <th>1</th>\n",
       "      <td>Аксессуары (шоперы, шарфы и др.)</td>\n",
       "      <td>28.6</td>\n",
       "    </tr>\n",
       "    <tr>\n",
       "      <th>2</th>\n",
       "      <td>Канцтовары (блокноты, ручки, стикеры и др.)</td>\n",
       "      <td>23.8</td>\n",
       "    </tr>\n",
       "    <tr>\n",
       "      <th>3</th>\n",
       "      <td>Посуда (кружки, термокружки и др.)</td>\n",
       "      <td>4.8</td>\n",
       "    </tr>\n",
       "    <tr>\n",
       "      <th>4</th>\n",
       "      <td>Канцтовары, аксессуары и посуда</td>\n",
       "      <td>4.8</td>\n",
       "    </tr>\n",
       "    <tr>\n",
       "      <th>5</th>\n",
       "      <td>Всё вышеперечисленное</td>\n",
       "      <td>4.8</td>\n",
       "    </tr>\n",
       "  </tbody>\n",
       "</table>\n",
       "</div>"
      ],
      "text/plain": [
       "              Какой мерч вам интереснее всего?     %\n",
       "0                Одежда (футболки, худи и др.)  33.3\n",
       "1             Аксессуары (шоперы, шарфы и др.)  28.6\n",
       "2  Канцтовары (блокноты, ручки, стикеры и др.)  23.8\n",
       "3           Посуда (кружки, термокружки и др.)   4.8\n",
       "4              Канцтовары, аксессуары и посуда   4.8\n",
       "5                        Всё вышеперечисленное   4.8"
      ]
     },
     "execution_count": 73,
     "metadata": {},
     "output_type": "execute_result"
    }
   ],
   "source": [
    "df_f_23_29_Big_City_11 = round(df_f_23_29_Big_City.iloc[:,[11]].value_counts() / df_f_23_29_Big_City.iloc[:,[11]].value_counts().sum() * 100, 1).reset_index()\n",
    "df_f_23_29_Big_City_11.columns = ['Какой мерч вам интереснее всего?', '%']\n",
    "print('Доверительный интервал:', mean_confidence_interval(df_f_23_29_Big_City_11['%'], 0.90))\n",
    "df_f_23_29_Big_City_11"
   ]
  },
  {
   "cell_type": "code",
   "execution_count": 74,
   "metadata": {},
   "outputs": [
    {
     "name": "stdout",
     "output_type": "stream",
     "text": [
      "Доверительный интервал: (1.1878106493645002, 3.5, 5.812189350635499)\n"
     ]
    },
    {
     "data": {
      "text/html": [
       "<div>\n",
       "<style scoped>\n",
       "    .dataframe tbody tr th:only-of-type {\n",
       "        vertical-align: middle;\n",
       "    }\n",
       "\n",
       "    .dataframe tbody tr th {\n",
       "        vertical-align: top;\n",
       "    }\n",
       "\n",
       "    .dataframe thead th {\n",
       "        text-align: right;\n",
       "    }\n",
       "</style>\n",
       "<table border=\"1\" class=\"dataframe\">\n",
       "  <thead>\n",
       "    <tr style=\"text-align: right;\">\n",
       "      <th></th>\n",
       "      <th>Какой мерч вам интереснее всего?</th>\n",
       "      <th>Count</th>\n",
       "    </tr>\n",
       "  </thead>\n",
       "  <tbody>\n",
       "    <tr>\n",
       "      <th>0</th>\n",
       "      <td>Одежда (футболки, худи и др.)</td>\n",
       "      <td>7</td>\n",
       "    </tr>\n",
       "    <tr>\n",
       "      <th>1</th>\n",
       "      <td>Аксессуары (шоперы, шарфы и др.)</td>\n",
       "      <td>6</td>\n",
       "    </tr>\n",
       "    <tr>\n",
       "      <th>2</th>\n",
       "      <td>Канцтовары (блокноты, ручки, стикеры и др.)</td>\n",
       "      <td>5</td>\n",
       "    </tr>\n",
       "    <tr>\n",
       "      <th>3</th>\n",
       "      <td>Посуда (кружки, термокружки и др.)</td>\n",
       "      <td>1</td>\n",
       "    </tr>\n",
       "    <tr>\n",
       "      <th>4</th>\n",
       "      <td>Канцтовары, аксессуары и посуда</td>\n",
       "      <td>1</td>\n",
       "    </tr>\n",
       "    <tr>\n",
       "      <th>5</th>\n",
       "      <td>Всё вышеперечисленное</td>\n",
       "      <td>1</td>\n",
       "    </tr>\n",
       "  </tbody>\n",
       "</table>\n",
       "</div>"
      ],
      "text/plain": [
       "              Какой мерч вам интереснее всего?  Count\n",
       "0                Одежда (футболки, худи и др.)      7\n",
       "1             Аксессуары (шоперы, шарфы и др.)      6\n",
       "2  Канцтовары (блокноты, ручки, стикеры и др.)      5\n",
       "3           Посуда (кружки, термокружки и др.)      1\n",
       "4              Канцтовары, аксессуары и посуда      1\n",
       "5                        Всё вышеперечисленное      1"
      ]
     },
     "execution_count": 74,
     "metadata": {},
     "output_type": "execute_result"
    }
   ],
   "source": [
    "f_23_29_Big_City_11 = df_f_23_29_Big_City.iloc[:,[11]].value_counts().reset_index()\n",
    "f_23_29_Big_City_11.columns = ['Какой мерч вам интереснее всего?', 'Count']\n",
    "print('Доверительный интервал:', mean_confidence_interval(f_23_29_Big_City_11['Count'], 0.90))\n",
    "f_23_29_Big_City_11"
   ]
  },
  {
   "cell_type": "code",
   "execution_count": null,
   "metadata": {},
   "outputs": [],
   "source": [
    "\n"
   ]
  },
  {
   "cell_type": "code",
   "execution_count": 75,
   "metadata": {},
   "outputs": [
    {
     "name": "stdout",
     "output_type": "stream",
     "text": [
      "Доверительный интервал: (14.31121372393978, 50.0, 85.68878627606023)\n"
     ]
    },
    {
     "data": {
      "text/html": [
       "<div>\n",
       "<style scoped>\n",
       "    .dataframe tbody tr th:only-of-type {\n",
       "        vertical-align: middle;\n",
       "    }\n",
       "\n",
       "    .dataframe tbody tr th {\n",
       "        vertical-align: top;\n",
       "    }\n",
       "\n",
       "    .dataframe thead th {\n",
       "        text-align: right;\n",
       "    }\n",
       "</style>\n",
       "<table border=\"1\" class=\"dataframe\">\n",
       "  <thead>\n",
       "    <tr style=\"text-align: right;\">\n",
       "      <th></th>\n",
       "      <th>Вам был бы интересен мерч без логотипа, который отражал бы философию конкретного бренда? Пример - футболки с надписью \"Иноагент\", выпущенные \"Медузой\" совместно с другими брендами</th>\n",
       "      <th>%</th>\n",
       "    </tr>\n",
       "  </thead>\n",
       "  <tbody>\n",
       "    <tr>\n",
       "      <th>0</th>\n",
       "      <td>Да</td>\n",
       "      <td>85.7</td>\n",
       "    </tr>\n",
       "    <tr>\n",
       "      <th>1</th>\n",
       "      <td>Нет</td>\n",
       "      <td>14.3</td>\n",
       "    </tr>\n",
       "  </tbody>\n",
       "</table>\n",
       "</div>"
      ],
      "text/plain": [
       "  Вам был бы интересен мерч без логотипа, который отражал бы философию конкретного бренда? Пример - футболки с надписью \"Иноагент\", выпущенные \"Медузой\" совместно с другими брендами  \\\n",
       "0                                                 Да                                                                                                                                    \n",
       "1                                                Нет                                                                                                                                    \n",
       "\n",
       "      %  \n",
       "0  85.7  \n",
       "1  14.3  "
      ]
     },
     "execution_count": 75,
     "metadata": {},
     "output_type": "execute_result"
    }
   ],
   "source": [
    "df_f_23_29_Big_City_12 = round(df_f_23_29_Big_City.iloc[:,[12]].value_counts() / df_f_23_29_Big_City.iloc[:,[12]].value_counts().sum() * 100, 1).reset_index()\n",
    "df_f_23_29_Big_City_12.columns = ['Вам был бы интересен мерч без логотипа, который отражал бы философию конкретного бренда? Пример - футболки с надписью \"Иноагент\", выпущенные \"Медузой\" совместно с другими брендами', '%']\n",
    "print('Доверительный интервал:', mean_confidence_interval(df_f_23_29_Big_City_12['%'], 0.4999))\n",
    "df_f_23_29_Big_City_12"
   ]
  },
  {
   "cell_type": "code",
   "execution_count": 76,
   "metadata": {},
   "outputs": [
    {
     "name": "stdout",
     "output_type": "stream",
     "text": [
      "Доверительный интервал: (3.002355824357097, 10.5, 17.997644175642904)\n"
     ]
    },
    {
     "data": {
      "text/html": [
       "<div>\n",
       "<style scoped>\n",
       "    .dataframe tbody tr th:only-of-type {\n",
       "        vertical-align: middle;\n",
       "    }\n",
       "\n",
       "    .dataframe tbody tr th {\n",
       "        vertical-align: top;\n",
       "    }\n",
       "\n",
       "    .dataframe thead th {\n",
       "        text-align: right;\n",
       "    }\n",
       "</style>\n",
       "<table border=\"1\" class=\"dataframe\">\n",
       "  <thead>\n",
       "    <tr style=\"text-align: right;\">\n",
       "      <th></th>\n",
       "      <th>Вам был бы интересен мерч без логотипа, который отражал бы философию конкретного бренда? Пример - футболки с надписью \"Иноагент\", выпущенные \"Медузой\" совместно с другими брендами</th>\n",
       "      <th>Count</th>\n",
       "    </tr>\n",
       "  </thead>\n",
       "  <tbody>\n",
       "    <tr>\n",
       "      <th>0</th>\n",
       "      <td>Да</td>\n",
       "      <td>18</td>\n",
       "    </tr>\n",
       "    <tr>\n",
       "      <th>1</th>\n",
       "      <td>Нет</td>\n",
       "      <td>3</td>\n",
       "    </tr>\n",
       "  </tbody>\n",
       "</table>\n",
       "</div>"
      ],
      "text/plain": [
       "  Вам был бы интересен мерч без логотипа, который отражал бы философию конкретного бренда? Пример - футболки с надписью \"Иноагент\", выпущенные \"Медузой\" совместно с другими брендами  \\\n",
       "0                                                 Да                                                                                                                                    \n",
       "1                                                Нет                                                                                                                                    \n",
       "\n",
       "   Count  \n",
       "0     18  \n",
       "1      3  "
      ]
     },
     "execution_count": 76,
     "metadata": {},
     "output_type": "execute_result"
    }
   ],
   "source": [
    "f_23_29_Big_City_12 = df_f_23_29_Big_City.iloc[:,[12]].value_counts().reset_index()\n",
    "f_23_29_Big_City_12.columns = ['Вам был бы интересен мерч без логотипа, который отражал бы философию конкретного бренда? Пример - футболки с надписью \"Иноагент\", выпущенные \"Медузой\" совместно с другими брендами', 'Count']\n",
    "print('Доверительный интервал:', mean_confidence_interval(f_23_29_Big_City_12['Count'], 0.4999))\n",
    "f_23_29_Big_City_12"
   ]
  },
  {
   "cell_type": "code",
   "execution_count": null,
   "metadata": {},
   "outputs": [],
   "source": [
    "\n"
   ]
  },
  {
   "cell_type": "code",
   "execution_count": 77,
   "metadata": {},
   "outputs": [
    {
     "name": "stdout",
     "output_type": "stream",
     "text": [
      "Доверительный интервал: (14.31121372393978, 50.0, 85.68878627606023)\n"
     ]
    },
    {
     "data": {
      "text/html": [
       "<div>\n",
       "<style scoped>\n",
       "    .dataframe tbody tr th:only-of-type {\n",
       "        vertical-align: middle;\n",
       "    }\n",
       "\n",
       "    .dataframe tbody tr th {\n",
       "        vertical-align: top;\n",
       "    }\n",
       "\n",
       "    .dataframe thead th {\n",
       "        text-align: right;\n",
       "    }\n",
       "</style>\n",
       "<table border=\"1\" class=\"dataframe\">\n",
       "  <thead>\n",
       "    <tr style=\"text-align: right;\">\n",
       "      <th></th>\n",
       "      <th>Вам нравятся цитаты в виде принта на мерче?</th>\n",
       "      <th>%</th>\n",
       "    </tr>\n",
       "  </thead>\n",
       "  <tbody>\n",
       "    <tr>\n",
       "      <th>0</th>\n",
       "      <td>Да</td>\n",
       "      <td>85.7</td>\n",
       "    </tr>\n",
       "    <tr>\n",
       "      <th>1</th>\n",
       "      <td>Нет</td>\n",
       "      <td>14.3</td>\n",
       "    </tr>\n",
       "  </tbody>\n",
       "</table>\n",
       "</div>"
      ],
      "text/plain": [
       "  Вам нравятся цитаты в виде принта на мерче?     %\n",
       "0                                          Да  85.7\n",
       "1                                         Нет  14.3"
      ]
     },
     "execution_count": 77,
     "metadata": {},
     "output_type": "execute_result"
    }
   ],
   "source": [
    "df_f_23_29_Big_City_13 = round(df_f_23_29_Big_City.iloc[:,[13]].value_counts() / df_f_23_29_Big_City.iloc[:,[13]].value_counts().sum() * 100, 1).reset_index()\n",
    "df_f_23_29_Big_City_13.columns = ['Вам нравятся цитаты в виде принта на мерче?', '%']\n",
    "print('Доверительный интервал:', mean_confidence_interval(df_f_23_29_Big_City_13['%'], 0.4999))\n",
    "df_f_23_29_Big_City_13"
   ]
  },
  {
   "cell_type": "code",
   "execution_count": 78,
   "metadata": {},
   "outputs": [
    {
     "name": "stdout",
     "output_type": "stream",
     "text": [
      "Доверительный интервал: (3.002355824357097, 10.5, 17.997644175642904)\n"
     ]
    },
    {
     "data": {
      "text/html": [
       "<div>\n",
       "<style scoped>\n",
       "    .dataframe tbody tr th:only-of-type {\n",
       "        vertical-align: middle;\n",
       "    }\n",
       "\n",
       "    .dataframe tbody tr th {\n",
       "        vertical-align: top;\n",
       "    }\n",
       "\n",
       "    .dataframe thead th {\n",
       "        text-align: right;\n",
       "    }\n",
       "</style>\n",
       "<table border=\"1\" class=\"dataframe\">\n",
       "  <thead>\n",
       "    <tr style=\"text-align: right;\">\n",
       "      <th></th>\n",
       "      <th>Вам нравятся цитаты в виде принта на мерче?</th>\n",
       "      <th>Count</th>\n",
       "    </tr>\n",
       "  </thead>\n",
       "  <tbody>\n",
       "    <tr>\n",
       "      <th>0</th>\n",
       "      <td>Да</td>\n",
       "      <td>18</td>\n",
       "    </tr>\n",
       "    <tr>\n",
       "      <th>1</th>\n",
       "      <td>Нет</td>\n",
       "      <td>3</td>\n",
       "    </tr>\n",
       "  </tbody>\n",
       "</table>\n",
       "</div>"
      ],
      "text/plain": [
       "  Вам нравятся цитаты в виде принта на мерче?  Count\n",
       "0                                          Да     18\n",
       "1                                         Нет      3"
      ]
     },
     "execution_count": 78,
     "metadata": {},
     "output_type": "execute_result"
    }
   ],
   "source": [
    "f_23_29_Big_City_13 = df_f_23_29_Big_City.iloc[:,[13]].value_counts().reset_index()\n",
    "f_23_29_Big_City_13.columns = ['Вам нравятся цитаты в виде принта на мерче?', 'Count']\n",
    "print('Доверительный интервал:', mean_confidence_interval(f_23_29_Big_City_13['Count'], 0.4999))\n",
    "f_23_29_Big_City_13"
   ]
  },
  {
   "cell_type": "code",
   "execution_count": null,
   "metadata": {},
   "outputs": [],
   "source": [
    "\n"
   ]
  },
  {
   "cell_type": "code",
   "execution_count": 79,
   "metadata": {},
   "outputs": [
    {
     "name": "stdout",
     "output_type": "stream",
     "text": [
      "Доверительный интервал: (19.009737407342673, 50.0, 80.99026259265733)\n"
     ]
    },
    {
     "data": {
      "text/html": [
       "<div>\n",
       "<style scoped>\n",
       "    .dataframe tbody tr th:only-of-type {\n",
       "        vertical-align: middle;\n",
       "    }\n",
       "\n",
       "    .dataframe tbody tr th {\n",
       "        vertical-align: top;\n",
       "    }\n",
       "\n",
       "    .dataframe thead th {\n",
       "        text-align: right;\n",
       "    }\n",
       "</style>\n",
       "<table border=\"1\" class=\"dataframe\">\n",
       "  <thead>\n",
       "    <tr style=\"text-align: right;\">\n",
       "      <th></th>\n",
       "      <th>Как вы относитесь к юмористическим цитатам на мерче?</th>\n",
       "      <th>%</th>\n",
       "    </tr>\n",
       "  </thead>\n",
       "  <tbody>\n",
       "    <tr>\n",
       "      <th>0</th>\n",
       "      <td>Нравится</td>\n",
       "      <td>81.0</td>\n",
       "    </tr>\n",
       "    <tr>\n",
       "      <th>1</th>\n",
       "      <td>Не нравится</td>\n",
       "      <td>19.0</td>\n",
       "    </tr>\n",
       "  </tbody>\n",
       "</table>\n",
       "</div>"
      ],
      "text/plain": [
       "  Как вы относитесь к юмористическим цитатам на мерче?     %\n",
       "0                                           Нравится    81.0\n",
       "1                                        Не нравится    19.0"
      ]
     },
     "execution_count": 79,
     "metadata": {},
     "output_type": "execute_result"
    }
   ],
   "source": [
    "df_f_23_29_Big_City_14 = round(df_f_23_29_Big_City.iloc[:,[14]].value_counts() / df_f_23_29_Big_City.iloc[:,[14]].value_counts().sum() * 100, 1).reset_index()\n",
    "df_f_23_29_Big_City_14.columns = ['Как вы относитесь к юмористическим цитатам на мерче?', '%']\n",
    "print('Доверительный интервал:', mean_confidence_interval(df_f_23_29_Big_City_14['%'], 0.4999))\n",
    "df_f_23_29_Big_City_14"
   ]
  },
  {
   "cell_type": "code",
   "execution_count": 80,
   "metadata": {},
   "outputs": [
    {
     "name": "stdout",
     "output_type": "stream",
     "text": [
      "Доверительный интервал: (4.002041714442818, 10.5, 16.997958285557182)\n"
     ]
    },
    {
     "data": {
      "text/html": [
       "<div>\n",
       "<style scoped>\n",
       "    .dataframe tbody tr th:only-of-type {\n",
       "        vertical-align: middle;\n",
       "    }\n",
       "\n",
       "    .dataframe tbody tr th {\n",
       "        vertical-align: top;\n",
       "    }\n",
       "\n",
       "    .dataframe thead th {\n",
       "        text-align: right;\n",
       "    }\n",
       "</style>\n",
       "<table border=\"1\" class=\"dataframe\">\n",
       "  <thead>\n",
       "    <tr style=\"text-align: right;\">\n",
       "      <th></th>\n",
       "      <th>Как вы относитесь к юмористическим цитатам на мерче?</th>\n",
       "      <th>Count</th>\n",
       "    </tr>\n",
       "  </thead>\n",
       "  <tbody>\n",
       "    <tr>\n",
       "      <th>0</th>\n",
       "      <td>Нравится</td>\n",
       "      <td>17</td>\n",
       "    </tr>\n",
       "    <tr>\n",
       "      <th>1</th>\n",
       "      <td>Не нравится</td>\n",
       "      <td>4</td>\n",
       "    </tr>\n",
       "  </tbody>\n",
       "</table>\n",
       "</div>"
      ],
      "text/plain": [
       "  Как вы относитесь к юмористическим цитатам на мерче?  Count\n",
       "0                                           Нравится       17\n",
       "1                                        Не нравится        4"
      ]
     },
     "execution_count": 80,
     "metadata": {},
     "output_type": "execute_result"
    }
   ],
   "source": [
    "f_23_29_Big_City_14 = df_f_23_29_Big_City.iloc[:,[14]].value_counts().reset_index()\n",
    "f_23_29_Big_City_14.columns = ['Как вы относитесь к юмористическим цитатам на мерче?', 'Count']\n",
    "print('Доверительный интервал:', mean_confidence_interval(f_23_29_Big_City_14['Count'], 0.4999))\n",
    "f_23_29_Big_City_14"
   ]
  },
  {
   "cell_type": "code",
   "execution_count": null,
   "metadata": {},
   "outputs": [],
   "source": [
    "\n"
   ]
  },
  {
   "cell_type": "code",
   "execution_count": 81,
   "metadata": {},
   "outputs": [
    {
     "name": "stdout",
     "output_type": "stream",
     "text": [
      "Доверительный интервал: (13.172034960715596, 33.333333333333336, 53.49463170595108)\n"
     ]
    },
    {
     "data": {
      "text/html": [
       "<div>\n",
       "<style scoped>\n",
       "    .dataframe tbody tr th:only-of-type {\n",
       "        vertical-align: middle;\n",
       "    }\n",
       "\n",
       "    .dataframe tbody tr th {\n",
       "        vertical-align: top;\n",
       "    }\n",
       "\n",
       "    .dataframe thead th {\n",
       "        text-align: right;\n",
       "    }\n",
       "</style>\n",
       "<table border=\"1\" class=\"dataframe\">\n",
       "  <thead>\n",
       "    <tr style=\"text-align: right;\">\n",
       "      <th></th>\n",
       "      <th>Вы обычно покупаете мерч после важных мероприятий? Например, после концерта или интересной отраслевой конференции</th>\n",
       "      <th>%</th>\n",
       "    </tr>\n",
       "  </thead>\n",
       "  <tbody>\n",
       "    <tr>\n",
       "      <th>0</th>\n",
       "      <td>Да</td>\n",
       "      <td>61.9</td>\n",
       "    </tr>\n",
       "    <tr>\n",
       "      <th>1</th>\n",
       "      <td>Нет</td>\n",
       "      <td>23.8</td>\n",
       "    </tr>\n",
       "    <tr>\n",
       "      <th>2</th>\n",
       "      <td>Я никогда не покупал мерч</td>\n",
       "      <td>14.3</td>\n",
       "    </tr>\n",
       "  </tbody>\n",
       "</table>\n",
       "</div>"
      ],
      "text/plain": [
       "  Вы обычно покупаете мерч после важных мероприятий? Например, после концерта или интересной отраслевой конференции  \\\n",
       "0                                                 Да                                                                  \n",
       "1                                                Нет                                                                  \n",
       "2                          Я никогда не покупал мерч                                                                  \n",
       "\n",
       "      %  \n",
       "0  61.9  \n",
       "1  23.8  \n",
       "2  14.3  "
      ]
     },
     "execution_count": 81,
     "metadata": {},
     "output_type": "execute_result"
    }
   ],
   "source": [
    "df_f_23_29_Big_City_15 = round(df_f_23_29_Big_City.iloc[:,[15]].value_counts() / df_f_23_29_Big_City.iloc[:,[15]].value_counts().sum() * 100, 1).reset_index()\n",
    "df_f_23_29_Big_City_15.columns = ['Вы обычно покупаете мерч после важных мероприятий? Например, после концерта или интересной отраслевой конференции', '%']\n",
    "print('Доверительный интервал:', mean_confidence_interval(df_f_23_29_Big_City_15['%'], 0.70))\n",
    "df_f_23_29_Big_City_15"
   ]
  },
  {
   "cell_type": "code",
   "execution_count": 82,
   "metadata": {},
   "outputs": [
    {
     "name": "stdout",
     "output_type": "stream",
     "text": [
      "Доверительный интервал: (4.5062268591796, 7.0, 9.4937731408204)\n"
     ]
    },
    {
     "data": {
      "text/html": [
       "<div>\n",
       "<style scoped>\n",
       "    .dataframe tbody tr th:only-of-type {\n",
       "        vertical-align: middle;\n",
       "    }\n",
       "\n",
       "    .dataframe tbody tr th {\n",
       "        vertical-align: top;\n",
       "    }\n",
       "\n",
       "    .dataframe thead th {\n",
       "        text-align: right;\n",
       "    }\n",
       "</style>\n",
       "<table border=\"1\" class=\"dataframe\">\n",
       "  <thead>\n",
       "    <tr style=\"text-align: right;\">\n",
       "      <th></th>\n",
       "      <th>Вы обычно покупаете мерч после важных мероприятий? Например, после концерта или интересной отраслевой конференции</th>\n",
       "      <th>Count</th>\n",
       "    </tr>\n",
       "  </thead>\n",
       "  <tbody>\n",
       "    <tr>\n",
       "      <th>0</th>\n",
       "      <td>Да</td>\n",
       "      <td>13</td>\n",
       "    </tr>\n",
       "    <tr>\n",
       "      <th>1</th>\n",
       "      <td>Нет</td>\n",
       "      <td>5</td>\n",
       "    </tr>\n",
       "    <tr>\n",
       "      <th>2</th>\n",
       "      <td>Я никогда не покупал мерч</td>\n",
       "      <td>3</td>\n",
       "    </tr>\n",
       "  </tbody>\n",
       "</table>\n",
       "</div>"
      ],
      "text/plain": [
       "  Вы обычно покупаете мерч после важных мероприятий? Например, после концерта или интересной отраслевой конференции  \\\n",
       "0                                                 Да                                                                  \n",
       "1                                                Нет                                                                  \n",
       "2                          Я никогда не покупал мерч                                                                  \n",
       "\n",
       "   Count  \n",
       "0     13  \n",
       "1      5  \n",
       "2      3  "
      ]
     },
     "execution_count": 82,
     "metadata": {},
     "output_type": "execute_result"
    }
   ],
   "source": [
    "f_23_29_Big_City_15 = df_f_23_29_Big_City.iloc[:,[15]].value_counts().reset_index()\n",
    "f_23_29_Big_City_15.columns = ['Вы обычно покупаете мерч после важных мероприятий? Например, после концерта или интересной отраслевой конференции', 'Count']\n",
    "print('Доверительный интервал:', mean_confidence_interval(f_23_29_Big_City_15['Count'], 0.4999))\n",
    "f_23_29_Big_City_15"
   ]
  },
  {
   "cell_type": "code",
   "execution_count": null,
   "metadata": {},
   "outputs": [],
   "source": [
    "\n"
   ]
  },
  {
   "cell_type": "code",
   "execution_count": 83,
   "metadata": {},
   "outputs": [
    {
     "name": "stdout",
     "output_type": "stream",
     "text": [
      "Доверительный интервал: (47.600753863794274, 50.0, 52.399246136205726)\n"
     ]
    },
    {
     "data": {
      "text/html": [
       "<div>\n",
       "<style scoped>\n",
       "    .dataframe tbody tr th:only-of-type {\n",
       "        vertical-align: middle;\n",
       "    }\n",
       "\n",
       "    .dataframe tbody tr th {\n",
       "        vertical-align: top;\n",
       "    }\n",
       "\n",
       "    .dataframe thead th {\n",
       "        text-align: right;\n",
       "    }\n",
       "</style>\n",
       "<table border=\"1\" class=\"dataframe\">\n",
       "  <thead>\n",
       "    <tr style=\"text-align: right;\">\n",
       "      <th></th>\n",
       "      <th>Вам важно, чтобы вы сами могли придумать свой дизайн для мерча: выбрать уникальное сочетание цвета и принта?</th>\n",
       "      <th>%</th>\n",
       "    </tr>\n",
       "  </thead>\n",
       "  <tbody>\n",
       "    <tr>\n",
       "      <th>0</th>\n",
       "      <td>Нет, дизайнерам виднее</td>\n",
       "      <td>52.4</td>\n",
       "    </tr>\n",
       "    <tr>\n",
       "      <th>1</th>\n",
       "      <td>Да, люблю эксперименты</td>\n",
       "      <td>47.6</td>\n",
       "    </tr>\n",
       "  </tbody>\n",
       "</table>\n",
       "</div>"
      ],
      "text/plain": [
       "  Вам важно, чтобы вы сами могли придумать свой дизайн для мерча: выбрать уникальное сочетание цвета и принта?  \\\n",
       "0                             Нет, дизайнерам виднее                                                             \n",
       "1                             Да, люблю эксперименты                                                             \n",
       "\n",
       "      %  \n",
       "0  52.4  \n",
       "1  47.6  "
      ]
     },
     "execution_count": 83,
     "metadata": {},
     "output_type": "execute_result"
    }
   ],
   "source": [
    "df_f_23_29_Big_City_16 = round(df_f_23_29_Big_City.iloc[:,[16]].value_counts() / df_f_23_29_Big_City.iloc[:,[16]].value_counts().sum() * 100, 1).reset_index()\n",
    "df_f_23_29_Big_City_16.columns = ['Вам важно, чтобы вы сами могли придумать свой дизайн для мерча: выбрать уникальное сочетание цвета и принта?', '%']\n",
    "print('Доверительный интервал:', mean_confidence_interval(df_f_23_29_Big_City_16['%'], 0.4999))\n",
    "df_f_23_29_Big_City_16"
   ]
  },
  {
   "cell_type": "code",
   "execution_count": 84,
   "metadata": {},
   "outputs": [
    {
     "name": "stdout",
     "output_type": "stream",
     "text": [
      "Доверительный интервал: (10.000157054957139, 10.5, 10.999842945042861)\n"
     ]
    },
    {
     "data": {
      "text/html": [
       "<div>\n",
       "<style scoped>\n",
       "    .dataframe tbody tr th:only-of-type {\n",
       "        vertical-align: middle;\n",
       "    }\n",
       "\n",
       "    .dataframe tbody tr th {\n",
       "        vertical-align: top;\n",
       "    }\n",
       "\n",
       "    .dataframe thead th {\n",
       "        text-align: right;\n",
       "    }\n",
       "</style>\n",
       "<table border=\"1\" class=\"dataframe\">\n",
       "  <thead>\n",
       "    <tr style=\"text-align: right;\">\n",
       "      <th></th>\n",
       "      <th>Вам важно, чтобы вы сами могли придумать свой дизайн для мерча: выбрать уникальное сочетание цвета и принта?</th>\n",
       "      <th>Count</th>\n",
       "    </tr>\n",
       "  </thead>\n",
       "  <tbody>\n",
       "    <tr>\n",
       "      <th>0</th>\n",
       "      <td>Нет, дизайнерам виднее</td>\n",
       "      <td>11</td>\n",
       "    </tr>\n",
       "    <tr>\n",
       "      <th>1</th>\n",
       "      <td>Да, люблю эксперименты</td>\n",
       "      <td>10</td>\n",
       "    </tr>\n",
       "  </tbody>\n",
       "</table>\n",
       "</div>"
      ],
      "text/plain": [
       "  Вам важно, чтобы вы сами могли придумать свой дизайн для мерча: выбрать уникальное сочетание цвета и принта?  \\\n",
       "0                             Нет, дизайнерам виднее                                                             \n",
       "1                             Да, люблю эксперименты                                                             \n",
       "\n",
       "   Count  \n",
       "0     11  \n",
       "1     10  "
      ]
     },
     "execution_count": 84,
     "metadata": {},
     "output_type": "execute_result"
    }
   ],
   "source": [
    "f_23_29_Big_City_16 = df_f_23_29_Big_City.iloc[:,[16]].value_counts().reset_index()\n",
    "f_23_29_Big_City_16.columns = ['Вам важно, чтобы вы сами могли придумать свой дизайн для мерча: выбрать уникальное сочетание цвета и принта?', 'Count']\n",
    "print('Доверительный интервал:', mean_confidence_interval(f_23_29_Big_City_16['Count'], 0.4999))\n",
    "f_23_29_Big_City_16"
   ]
  },
  {
   "cell_type": "code",
   "execution_count": null,
   "metadata": {},
   "outputs": [],
   "source": [
    "\n"
   ]
  },
  {
   "cell_type": "code",
   "execution_count": 85,
   "metadata": {},
   "outputs": [
    {
     "name": "stdout",
     "output_type": "stream",
     "text": [
      "Доверительный интервал: (23.80822967975413, 50.0, 76.19177032024587)\n"
     ]
    },
    {
     "data": {
      "text/html": [
       "<div>\n",
       "<style scoped>\n",
       "    .dataframe tbody tr th:only-of-type {\n",
       "        vertical-align: middle;\n",
       "    }\n",
       "\n",
       "    .dataframe tbody tr th {\n",
       "        vertical-align: top;\n",
       "    }\n",
       "\n",
       "    .dataframe thead th {\n",
       "        text-align: right;\n",
       "    }\n",
       "</style>\n",
       "<table border=\"1\" class=\"dataframe\">\n",
       "  <thead>\n",
       "    <tr style=\"text-align: right;\">\n",
       "      <th></th>\n",
       "      <th>Мерч в качестве бонуса мотивировал бы вас лучше учиться?</th>\n",
       "      <th>%</th>\n",
       "    </tr>\n",
       "  </thead>\n",
       "  <tbody>\n",
       "    <tr>\n",
       "      <th>0</th>\n",
       "      <td>Да</td>\n",
       "      <td>76.2</td>\n",
       "    </tr>\n",
       "    <tr>\n",
       "      <th>1</th>\n",
       "      <td>Нет</td>\n",
       "      <td>23.8</td>\n",
       "    </tr>\n",
       "  </tbody>\n",
       "</table>\n",
       "</div>"
      ],
      "text/plain": [
       "  Мерч в качестве бонуса мотивировал бы вас лучше учиться?     %\n",
       "0                                                 Да        76.2\n",
       "1                                                Нет        23.8"
      ]
     },
     "execution_count": 85,
     "metadata": {},
     "output_type": "execute_result"
    }
   ],
   "source": [
    "df_f_23_29_Big_City_17 = round(df_f_23_29_Big_City.iloc[:,[17]].value_counts() / df_f_23_29_Big_City.iloc[:,[17]].value_counts().sum() * 100, 1).reset_index()\n",
    "df_f_23_29_Big_City_17.columns = ['Мерч в качестве бонуса мотивировал бы вас лучше учиться?', '%']\n",
    "print('Доверительный интервал:', mean_confidence_interval(df_f_23_29_Big_City_17['%'], 0.4999))\n",
    "df_f_23_29_Big_City_17"
   ]
  },
  {
   "cell_type": "code",
   "execution_count": 86,
   "metadata": {},
   "outputs": [
    {
     "name": "stdout",
     "output_type": "stream",
     "text": [
      "Доверительный интервал: (5.001727604528539, 10.5, 15.99827239547146)\n"
     ]
    },
    {
     "data": {
      "text/html": [
       "<div>\n",
       "<style scoped>\n",
       "    .dataframe tbody tr th:only-of-type {\n",
       "        vertical-align: middle;\n",
       "    }\n",
       "\n",
       "    .dataframe tbody tr th {\n",
       "        vertical-align: top;\n",
       "    }\n",
       "\n",
       "    .dataframe thead th {\n",
       "        text-align: right;\n",
       "    }\n",
       "</style>\n",
       "<table border=\"1\" class=\"dataframe\">\n",
       "  <thead>\n",
       "    <tr style=\"text-align: right;\">\n",
       "      <th></th>\n",
       "      <th>Мерч в качестве бонуса мотивировал бы вас лучше учиться?</th>\n",
       "      <th>Count</th>\n",
       "    </tr>\n",
       "  </thead>\n",
       "  <tbody>\n",
       "    <tr>\n",
       "      <th>0</th>\n",
       "      <td>Да</td>\n",
       "      <td>16</td>\n",
       "    </tr>\n",
       "    <tr>\n",
       "      <th>1</th>\n",
       "      <td>Нет</td>\n",
       "      <td>5</td>\n",
       "    </tr>\n",
       "  </tbody>\n",
       "</table>\n",
       "</div>"
      ],
      "text/plain": [
       "  Мерч в качестве бонуса мотивировал бы вас лучше учиться?  Count\n",
       "0                                                 Да           16\n",
       "1                                                Нет            5"
      ]
     },
     "execution_count": 86,
     "metadata": {},
     "output_type": "execute_result"
    }
   ],
   "source": [
    "f_23_29_Big_City_17 = df_f_23_29_Big_City.iloc[:,[17]].value_counts().reset_index()\n",
    "f_23_29_Big_City_17.columns = ['Мерч в качестве бонуса мотивировал бы вас лучше учиться?', 'Count']\n",
    "print('Доверительный интервал:', mean_confidence_interval(f_23_29_Big_City_17['Count'], 0.4999))\n",
    "f_23_29_Big_City_17"
   ]
  },
  {
   "cell_type": "code",
   "execution_count": null,
   "metadata": {},
   "outputs": [],
   "source": [
    "\n"
   ]
  },
  {
   "cell_type": "code",
   "execution_count": 87,
   "metadata": {},
   "outputs": [
    {
     "name": "stdout",
     "output_type": "stream",
     "text": [
      "Доверительный интервал: (33.30524563556847, 50.0, 66.69475436443153)\n"
     ]
    },
    {
     "data": {
      "text/html": [
       "<div>\n",
       "<style scoped>\n",
       "    .dataframe tbody tr th:only-of-type {\n",
       "        vertical-align: middle;\n",
       "    }\n",
       "\n",
       "    .dataframe tbody tr th {\n",
       "        vertical-align: top;\n",
       "    }\n",
       "\n",
       "    .dataframe thead th {\n",
       "        text-align: right;\n",
       "    }\n",
       "</style>\n",
       "<table border=\"1\" class=\"dataframe\">\n",
       "  <thead>\n",
       "    <tr style=\"text-align: right;\">\n",
       "      <th></th>\n",
       "      <th>Вам важно, чтобы мерч был уникальным продуктом, который больше ни у кого не встретишь?</th>\n",
       "      <th>%</th>\n",
       "    </tr>\n",
       "  </thead>\n",
       "  <tbody>\n",
       "    <tr>\n",
       "      <th>0</th>\n",
       "      <td>Да</td>\n",
       "      <td>66.7</td>\n",
       "    </tr>\n",
       "    <tr>\n",
       "      <th>1</th>\n",
       "      <td>Нет</td>\n",
       "      <td>33.3</td>\n",
       "    </tr>\n",
       "  </tbody>\n",
       "</table>\n",
       "</div>"
      ],
      "text/plain": [
       "  Вам важно, чтобы мерч был уникальным продуктом, который больше ни у кого не встретишь?  \\\n",
       "0                                                 Да                                       \n",
       "1                                                Нет                                       \n",
       "\n",
       "      %  \n",
       "0  66.7  \n",
       "1  33.3  "
      ]
     },
     "execution_count": 87,
     "metadata": {},
     "output_type": "execute_result"
    }
   ],
   "source": [
    "df_f_23_29_Big_City_18 = round(df_f_23_29_Big_City.iloc[:,[18]].value_counts() / df_f_23_29_Big_City.iloc[:,[18]].value_counts().sum() * 100, 1).reset_index()\n",
    "df_f_23_29_Big_City_18.columns = ['Вам важно, чтобы мерч был уникальным продуктом, который больше ни у кого не встретишь?', '%']\n",
    "print('Доверительный интервал:', mean_confidence_interval(df_f_23_29_Big_City_18['%'], 0.4999))\n",
    "df_f_23_29_Big_City_18"
   ]
  },
  {
   "cell_type": "code",
   "execution_count": 88,
   "metadata": {},
   "outputs": [
    {
     "name": "stdout",
     "output_type": "stream",
     "text": [
      "Доверительный интервал: (7.0010993846999785, 10.5, 13.998900615300021)\n"
     ]
    },
    {
     "data": {
      "text/html": [
       "<div>\n",
       "<style scoped>\n",
       "    .dataframe tbody tr th:only-of-type {\n",
       "        vertical-align: middle;\n",
       "    }\n",
       "\n",
       "    .dataframe tbody tr th {\n",
       "        vertical-align: top;\n",
       "    }\n",
       "\n",
       "    .dataframe thead th {\n",
       "        text-align: right;\n",
       "    }\n",
       "</style>\n",
       "<table border=\"1\" class=\"dataframe\">\n",
       "  <thead>\n",
       "    <tr style=\"text-align: right;\">\n",
       "      <th></th>\n",
       "      <th>Вам важно, чтобы мерч был уникальным продуктом, который больше ни у кого не встретишь?</th>\n",
       "      <th>Count</th>\n",
       "    </tr>\n",
       "  </thead>\n",
       "  <tbody>\n",
       "    <tr>\n",
       "      <th>0</th>\n",
       "      <td>Да</td>\n",
       "      <td>14</td>\n",
       "    </tr>\n",
       "    <tr>\n",
       "      <th>1</th>\n",
       "      <td>Нет</td>\n",
       "      <td>7</td>\n",
       "    </tr>\n",
       "  </tbody>\n",
       "</table>\n",
       "</div>"
      ],
      "text/plain": [
       "  Вам важно, чтобы мерч был уникальным продуктом, который больше ни у кого не встретишь?  \\\n",
       "0                                                 Да                                       \n",
       "1                                                Нет                                       \n",
       "\n",
       "   Count  \n",
       "0     14  \n",
       "1      7  "
      ]
     },
     "execution_count": 88,
     "metadata": {},
     "output_type": "execute_result"
    }
   ],
   "source": [
    "f_23_29_Big_City_18 = df_f_23_29_Big_City.iloc[:,[18]].value_counts().reset_index()\n",
    "f_23_29_Big_City_18.columns = ['Вам важно, чтобы мерч был уникальным продуктом, который больше ни у кого не встретишь?', 'Count']\n",
    "print('Доверительный интервал:', mean_confidence_interval(f_23_29_Big_City_18['Count'], 0.4999))\n",
    "f_23_29_Big_City_18"
   ]
  },
  {
   "cell_type": "code",
   "execution_count": null,
   "metadata": {},
   "outputs": [],
   "source": [
    "\n"
   ]
  },
  {
   "cell_type": "code",
   "execution_count": 89,
   "metadata": {},
   "outputs": [
    {
     "name": "stdout",
     "output_type": "stream",
     "text": [
      "Доверительный интервал: (38.10373790797993, 50.0, 61.89626209202007)\n"
     ]
    },
    {
     "data": {
      "text/html": [
       "<div>\n",
       "<style scoped>\n",
       "    .dataframe tbody tr th:only-of-type {\n",
       "        vertical-align: middle;\n",
       "    }\n",
       "\n",
       "    .dataframe tbody tr th {\n",
       "        vertical-align: top;\n",
       "    }\n",
       "\n",
       "    .dataframe thead th {\n",
       "        text-align: right;\n",
       "    }\n",
       "</style>\n",
       "<table border=\"1\" class=\"dataframe\">\n",
       "  <thead>\n",
       "    <tr style=\"text-align: right;\">\n",
       "      <th></th>\n",
       "      <th>Вы готовы платить за лимитированный мерч? Лимитированная коллекция - та, которая выпускается один раз ограниченным тиражом</th>\n",
       "      <th>%</th>\n",
       "    </tr>\n",
       "  </thead>\n",
       "  <tbody>\n",
       "    <tr>\n",
       "      <th>0</th>\n",
       "      <td>Да</td>\n",
       "      <td>61.9</td>\n",
       "    </tr>\n",
       "    <tr>\n",
       "      <th>1</th>\n",
       "      <td>Нет</td>\n",
       "      <td>38.1</td>\n",
       "    </tr>\n",
       "  </tbody>\n",
       "</table>\n",
       "</div>"
      ],
      "text/plain": [
       "  Вы готовы платить за лимитированный мерч? Лимитированная коллекция - та, которая выпускается один раз ограниченным тиражом  \\\n",
       "0                                                 Да                                                                           \n",
       "1                                                Нет                                                                           \n",
       "\n",
       "      %  \n",
       "0  61.9  \n",
       "1  38.1  "
      ]
     },
     "execution_count": 89,
     "metadata": {},
     "output_type": "execute_result"
    }
   ],
   "source": [
    "df_f_23_29_Big_City_19 = round(df_f_23_29_Big_City.iloc[:,[19]].value_counts() / df_f_23_29_Big_City.iloc[:,[19]].value_counts().sum() * 100, 1).reset_index()\n",
    "df_f_23_29_Big_City_19.columns = ['Вы готовы платить за лимитированный мерч? Лимитированная коллекция - та, которая выпускается один раз ограниченным тиражом', '%']\n",
    "print('Доверительный интервал:', mean_confidence_interval(df_f_23_29_Big_City_19['%'], 0.4999))\n",
    "df_f_23_29_Big_City_19"
   ]
  },
  {
   "cell_type": "code",
   "execution_count": 90,
   "metadata": {},
   "outputs": [
    {
     "name": "stdout",
     "output_type": "stream",
     "text": [
      "Доверительный интервал: (8.000785274785699, 10.5, 12.999214725214301)\n"
     ]
    },
    {
     "data": {
      "text/html": [
       "<div>\n",
       "<style scoped>\n",
       "    .dataframe tbody tr th:only-of-type {\n",
       "        vertical-align: middle;\n",
       "    }\n",
       "\n",
       "    .dataframe tbody tr th {\n",
       "        vertical-align: top;\n",
       "    }\n",
       "\n",
       "    .dataframe thead th {\n",
       "        text-align: right;\n",
       "    }\n",
       "</style>\n",
       "<table border=\"1\" class=\"dataframe\">\n",
       "  <thead>\n",
       "    <tr style=\"text-align: right;\">\n",
       "      <th></th>\n",
       "      <th>Вы готовы платить за лимитированный мерч? Лимитированная коллекция - та, которая выпускается один раз ограниченным тиражом</th>\n",
       "      <th>Count</th>\n",
       "    </tr>\n",
       "  </thead>\n",
       "  <tbody>\n",
       "    <tr>\n",
       "      <th>0</th>\n",
       "      <td>Да</td>\n",
       "      <td>13</td>\n",
       "    </tr>\n",
       "    <tr>\n",
       "      <th>1</th>\n",
       "      <td>Нет</td>\n",
       "      <td>8</td>\n",
       "    </tr>\n",
       "  </tbody>\n",
       "</table>\n",
       "</div>"
      ],
      "text/plain": [
       "  Вы готовы платить за лимитированный мерч? Лимитированная коллекция - та, которая выпускается один раз ограниченным тиражом  \\\n",
       "0                                                 Да                                                                           \n",
       "1                                                Нет                                                                           \n",
       "\n",
       "   Count  \n",
       "0     13  \n",
       "1      8  "
      ]
     },
     "execution_count": 90,
     "metadata": {},
     "output_type": "execute_result"
    }
   ],
   "source": [
    "f_23_29_Big_City_19 = df_f_23_29_Big_City.iloc[:,[19]].value_counts().reset_index()\n",
    "f_23_29_Big_City_19.columns = ['Вы готовы платить за лимитированный мерч? Лимитированная коллекция - та, которая выпускается один раз ограниченным тиражом', 'Count']\n",
    "print('Доверительный интервал:', mean_confidence_interval(f_23_29_Big_City_19['Count'], 0.4999))\n",
    "f_23_29_Big_City_19"
   ]
  },
  {
   "cell_type": "code",
   "execution_count": null,
   "metadata": {},
   "outputs": [],
   "source": [
    "\n"
   ]
  },
  {
   "cell_type": "code",
   "execution_count": 91,
   "metadata": {},
   "outputs": [
    {
     "name": "stdout",
     "output_type": "stream",
     "text": [
      "Доверительный интервал: (42.902230180391385, 50.0, 57.097769819608615)\n"
     ]
    },
    {
     "data": {
      "text/html": [
       "<div>\n",
       "<style scoped>\n",
       "    .dataframe tbody tr th:only-of-type {\n",
       "        vertical-align: middle;\n",
       "    }\n",
       "\n",
       "    .dataframe tbody tr th {\n",
       "        vertical-align: top;\n",
       "    }\n",
       "\n",
       "    .dataframe thead th {\n",
       "        text-align: right;\n",
       "    }\n",
       "</style>\n",
       "<table border=\"1\" class=\"dataframe\">\n",
       "  <thead>\n",
       "    <tr style=\"text-align: right;\">\n",
       "      <th></th>\n",
       "      <th>Обращаете ли вы внимание на экологичность товаров при покупке вещей?</th>\n",
       "      <th>%</th>\n",
       "    </tr>\n",
       "  </thead>\n",
       "  <tbody>\n",
       "    <tr>\n",
       "      <th>0</th>\n",
       "      <td>Да, большая часть моих вещей - экологичные</td>\n",
       "      <td>57.1</td>\n",
       "    </tr>\n",
       "    <tr>\n",
       "      <th>1</th>\n",
       "      <td>Нет, для меня это неважный критерий при выборе...</td>\n",
       "      <td>42.9</td>\n",
       "    </tr>\n",
       "  </tbody>\n",
       "</table>\n",
       "</div>"
      ],
      "text/plain": [
       "  Обращаете ли вы внимание на экологичность товаров при покупке вещей?     %\n",
       "0         Да, большая часть моих вещей - экологичные                    57.1\n",
       "1  Нет, для меня это неважный критерий при выборе...                    42.9"
      ]
     },
     "execution_count": 91,
     "metadata": {},
     "output_type": "execute_result"
    }
   ],
   "source": [
    "df_f_23_29_Big_City_20 = round(df_f_23_29_Big_City.iloc[:,[20]].value_counts() / df_f_23_29_Big_City.iloc[:,[20]].value_counts().sum() * 100, 1).reset_index()\n",
    "df_f_23_29_Big_City_20.columns = ['Обращаете ли вы внимание на экологичность товаров при покупке вещей?', '%']\n",
    "print('Доверительный интервал:', mean_confidence_interval(df_f_23_29_Big_City_20['%'], 0.4999))\n",
    "df_f_23_29_Big_City_20"
   ]
  },
  {
   "cell_type": "code",
   "execution_count": 92,
   "metadata": {},
   "outputs": [
    {
     "name": "stdout",
     "output_type": "stream",
     "text": [
      "Доверительный интервал: (9.000471164871419, 10.5, 11.999528835128581)\n"
     ]
    },
    {
     "data": {
      "text/html": [
       "<div>\n",
       "<style scoped>\n",
       "    .dataframe tbody tr th:only-of-type {\n",
       "        vertical-align: middle;\n",
       "    }\n",
       "\n",
       "    .dataframe tbody tr th {\n",
       "        vertical-align: top;\n",
       "    }\n",
       "\n",
       "    .dataframe thead th {\n",
       "        text-align: right;\n",
       "    }\n",
       "</style>\n",
       "<table border=\"1\" class=\"dataframe\">\n",
       "  <thead>\n",
       "    <tr style=\"text-align: right;\">\n",
       "      <th></th>\n",
       "      <th>Обращаете ли вы внимание на экологичность товаров при покупке вещей?</th>\n",
       "      <th>Count</th>\n",
       "    </tr>\n",
       "  </thead>\n",
       "  <tbody>\n",
       "    <tr>\n",
       "      <th>0</th>\n",
       "      <td>Да, большая часть моих вещей - экологичные</td>\n",
       "      <td>12</td>\n",
       "    </tr>\n",
       "    <tr>\n",
       "      <th>1</th>\n",
       "      <td>Нет, для меня это неважный критерий при выборе...</td>\n",
       "      <td>9</td>\n",
       "    </tr>\n",
       "  </tbody>\n",
       "</table>\n",
       "</div>"
      ],
      "text/plain": [
       "  Обращаете ли вы внимание на экологичность товаров при покупке вещей?  Count\n",
       "0         Да, большая часть моих вещей - экологичные                       12\n",
       "1  Нет, для меня это неважный критерий при выборе...                        9"
      ]
     },
     "execution_count": 92,
     "metadata": {},
     "output_type": "execute_result"
    }
   ],
   "source": [
    "f_23_29_Big_City_20 = df_f_23_29_Big_City.iloc[:,[20]].value_counts().reset_index()\n",
    "f_23_29_Big_City_20.columns = ['Обращаете ли вы внимание на экологичность товаров при покупке вещей?', 'Count']\n",
    "print('Доверительный интервал:', mean_confidence_interval(f_23_29_Big_City_20['Count'], 0.4999))\n",
    "f_23_29_Big_City_20"
   ]
  },
  {
   "cell_type": "code",
   "execution_count": null,
   "metadata": {},
   "outputs": [],
   "source": [
    "\n"
   ]
  },
  {
   "cell_type": "code",
   "execution_count": 93,
   "metadata": {},
   "outputs": [
    {
     "name": "stdout",
     "output_type": "stream",
     "text": [
      "Доверительный интервал: (42.902230180391385, 50.0, 57.097769819608615)\n"
     ]
    },
    {
     "data": {
      "text/html": [
       "<div>\n",
       "<style scoped>\n",
       "    .dataframe tbody tr th:only-of-type {\n",
       "        vertical-align: middle;\n",
       "    }\n",
       "\n",
       "    .dataframe tbody tr th {\n",
       "        vertical-align: top;\n",
       "    }\n",
       "\n",
       "    .dataframe thead th {\n",
       "        text-align: right;\n",
       "    }\n",
       "</style>\n",
       "<table border=\"1\" class=\"dataframe\">\n",
       "  <thead>\n",
       "    <tr style=\"text-align: right;\">\n",
       "      <th></th>\n",
       "      <th>Вы с большей вероятностью купите мерч, если будете знать, что вырученные средства пойдут на благотворительность?</th>\n",
       "      <th>%</th>\n",
       "    </tr>\n",
       "  </thead>\n",
       "  <tbody>\n",
       "    <tr>\n",
       "      <th>0</th>\n",
       "      <td>Да</td>\n",
       "      <td>57.1</td>\n",
       "    </tr>\n",
       "    <tr>\n",
       "      <th>1</th>\n",
       "      <td>Нет</td>\n",
       "      <td>42.9</td>\n",
       "    </tr>\n",
       "  </tbody>\n",
       "</table>\n",
       "</div>"
      ],
      "text/plain": [
       "  Вы с большей вероятностью купите мерч, если будете знать, что вырученные средства пойдут на благотворительность?  \\\n",
       "0                                                 Да                                                                 \n",
       "1                                                Нет                                                                 \n",
       "\n",
       "      %  \n",
       "0  57.1  \n",
       "1  42.9  "
      ]
     },
     "execution_count": 93,
     "metadata": {},
     "output_type": "execute_result"
    }
   ],
   "source": [
    "df_f_23_29_Big_City_21 = round(df_f_23_29_Big_City.iloc[:,[21]].value_counts() / df_f_23_29_Big_City.iloc[:,[21]].value_counts().sum() * 100, 1).reset_index()\n",
    "df_f_23_29_Big_City_21.columns = ['Вы с большей вероятностью купите мерч, если будете знать, что вырученные средства пойдут на благотворительность?', '%']\n",
    "print('Доверительный интервал:', mean_confidence_interval(df_f_23_29_Big_City_21['%'], 0.4999))\n",
    "df_f_23_29_Big_City_21"
   ]
  },
  {
   "cell_type": "code",
   "execution_count": 94,
   "metadata": {},
   "outputs": [
    {
     "name": "stdout",
     "output_type": "stream",
     "text": [
      "Доверительный интервал: (9.000471164871419, 10.5, 11.999528835128581)\n"
     ]
    },
    {
     "data": {
      "text/html": [
       "<div>\n",
       "<style scoped>\n",
       "    .dataframe tbody tr th:only-of-type {\n",
       "        vertical-align: middle;\n",
       "    }\n",
       "\n",
       "    .dataframe tbody tr th {\n",
       "        vertical-align: top;\n",
       "    }\n",
       "\n",
       "    .dataframe thead th {\n",
       "        text-align: right;\n",
       "    }\n",
       "</style>\n",
       "<table border=\"1\" class=\"dataframe\">\n",
       "  <thead>\n",
       "    <tr style=\"text-align: right;\">\n",
       "      <th></th>\n",
       "      <th>Вы с большей вероятностью купите мерч, если будете знать, что вырученные средства пойдут на благотворительность?</th>\n",
       "      <th>Count</th>\n",
       "    </tr>\n",
       "  </thead>\n",
       "  <tbody>\n",
       "    <tr>\n",
       "      <th>0</th>\n",
       "      <td>Да</td>\n",
       "      <td>12</td>\n",
       "    </tr>\n",
       "    <tr>\n",
       "      <th>1</th>\n",
       "      <td>Нет</td>\n",
       "      <td>9</td>\n",
       "    </tr>\n",
       "  </tbody>\n",
       "</table>\n",
       "</div>"
      ],
      "text/plain": [
       "  Вы с большей вероятностью купите мерч, если будете знать, что вырученные средства пойдут на благотворительность?  \\\n",
       "0                                                 Да                                                                 \n",
       "1                                                Нет                                                                 \n",
       "\n",
       "   Count  \n",
       "0     12  \n",
       "1      9  "
      ]
     },
     "execution_count": 94,
     "metadata": {},
     "output_type": "execute_result"
    }
   ],
   "source": [
    "f_23_29_Big_City_21 = df_f_23_29_Big_City.iloc[:,[21]].value_counts().reset_index()\n",
    "f_23_29_Big_City_21.columns = ['Вы с большей вероятностью купите мерч, если будете знать, что вырученные средства пойдут на благотворительность?', 'Count']\n",
    "print('Доверительный интервал:', mean_confidence_interval(f_23_29_Big_City_21['Count'], 0.4999))\n",
    "f_23_29_Big_City_21"
   ]
  },
  {
   "cell_type": "code",
   "execution_count": null,
   "metadata": {},
   "outputs": [],
   "source": [
    "\n"
   ]
  },
  {
   "cell_type": "code",
   "execution_count": 95,
   "metadata": {},
   "outputs": [
    {
     "name": "stdout",
     "output_type": "stream",
     "text": [
      "Доверительный интервал: (47.600753863794274, 50.0, 52.399246136205726)\n"
     ]
    },
    {
     "data": {
      "text/html": [
       "<div>\n",
       "<style scoped>\n",
       "    .dataframe tbody tr th:only-of-type {\n",
       "        vertical-align: middle;\n",
       "    }\n",
       "\n",
       "    .dataframe tbody tr th {\n",
       "        vertical-align: top;\n",
       "    }\n",
       "\n",
       "    .dataframe thead th {\n",
       "        text-align: right;\n",
       "    }\n",
       "</style>\n",
       "<table border=\"1\" class=\"dataframe\">\n",
       "  <thead>\n",
       "    <tr style=\"text-align: right;\">\n",
       "      <th></th>\n",
       "      <th>Вы бы купили мерч в подарок для благотворительного фонда/детского дома?</th>\n",
       "      <th>%</th>\n",
       "    </tr>\n",
       "  </thead>\n",
       "  <tbody>\n",
       "    <tr>\n",
       "      <th>0</th>\n",
       "      <td>Нет</td>\n",
       "      <td>52.4</td>\n",
       "    </tr>\n",
       "    <tr>\n",
       "      <th>1</th>\n",
       "      <td>Да</td>\n",
       "      <td>47.6</td>\n",
       "    </tr>\n",
       "  </tbody>\n",
       "</table>\n",
       "</div>"
      ],
      "text/plain": [
       "  Вы бы купили мерч в подарок для благотворительного фонда/детского дома?  \\\n",
       "0                                                Нет                        \n",
       "1                                                 Да                        \n",
       "\n",
       "      %  \n",
       "0  52.4  \n",
       "1  47.6  "
      ]
     },
     "execution_count": 95,
     "metadata": {},
     "output_type": "execute_result"
    }
   ],
   "source": [
    "df_f_23_29_Big_City_22 = round(df_f_23_29_Big_City.iloc[:,[22]].value_counts() / df_f_23_29_Big_City.iloc[:,[22]].value_counts().sum() * 100, 1).reset_index()\n",
    "df_f_23_29_Big_City_22.columns = ['Вы бы купили мерч в подарок для благотворительного фонда/детского дома?', '%']\n",
    "print('Доверительный интервал:', mean_confidence_interval(df_f_23_29_Big_City_22['%'], 0.4999))\n",
    "df_f_23_29_Big_City_22"
   ]
  },
  {
   "cell_type": "code",
   "execution_count": 96,
   "metadata": {},
   "outputs": [
    {
     "name": "stdout",
     "output_type": "stream",
     "text": [
      "Доверительный интервал: (10.000157054957139, 10.5, 10.999842945042861)\n"
     ]
    },
    {
     "data": {
      "text/html": [
       "<div>\n",
       "<style scoped>\n",
       "    .dataframe tbody tr th:only-of-type {\n",
       "        vertical-align: middle;\n",
       "    }\n",
       "\n",
       "    .dataframe tbody tr th {\n",
       "        vertical-align: top;\n",
       "    }\n",
       "\n",
       "    .dataframe thead th {\n",
       "        text-align: right;\n",
       "    }\n",
       "</style>\n",
       "<table border=\"1\" class=\"dataframe\">\n",
       "  <thead>\n",
       "    <tr style=\"text-align: right;\">\n",
       "      <th></th>\n",
       "      <th>Вы бы купили мерч в подарок для благотворительного фонда/детского дома?</th>\n",
       "      <th>Count</th>\n",
       "    </tr>\n",
       "  </thead>\n",
       "  <tbody>\n",
       "    <tr>\n",
       "      <th>0</th>\n",
       "      <td>Нет</td>\n",
       "      <td>11</td>\n",
       "    </tr>\n",
       "    <tr>\n",
       "      <th>1</th>\n",
       "      <td>Да</td>\n",
       "      <td>10</td>\n",
       "    </tr>\n",
       "  </tbody>\n",
       "</table>\n",
       "</div>"
      ],
      "text/plain": [
       "  Вы бы купили мерч в подарок для благотворительного фонда/детского дома?  \\\n",
       "0                                                Нет                        \n",
       "1                                                 Да                        \n",
       "\n",
       "   Count  \n",
       "0     11  \n",
       "1     10  "
      ]
     },
     "execution_count": 96,
     "metadata": {},
     "output_type": "execute_result"
    }
   ],
   "source": [
    "f_23_29_Big_City_22 = df_f_23_29_Big_City.iloc[:,[22]].value_counts().reset_index()\n",
    "f_23_29_Big_City_22.columns = ['Вы бы купили мерч в подарок для благотворительного фонда/детского дома?', 'Count']\n",
    "print('Доверительный интервал:', mean_confidence_interval(f_23_29_Big_City_22['Count'], 0.4999))\n",
    "f_23_29_Big_City_22"
   ]
  },
  {
   "cell_type": "code",
   "execution_count": null,
   "metadata": {},
   "outputs": [],
   "source": [
    "\n"
   ]
  },
  {
   "cell_type": "markdown",
   "metadata": {},
   "source": [
    "# --------------------------------------------------------------------------------------------------------------\n"
   ]
  },
  {
   "cell_type": "markdown",
   "metadata": {},
   "source": [
    "### Женщины в возрасте 40-49 лет"
   ]
  },
  {
   "cell_type": "code",
   "execution_count": 97,
   "metadata": {},
   "outputs": [
    {
     "data": {
      "text/html": [
       "<div>\n",
       "<style scoped>\n",
       "    .dataframe tbody tr th:only-of-type {\n",
       "        vertical-align: middle;\n",
       "    }\n",
       "\n",
       "    .dataframe tbody tr th {\n",
       "        vertical-align: top;\n",
       "    }\n",
       "\n",
       "    .dataframe thead th {\n",
       "        text-align: right;\n",
       "    }\n",
       "</style>\n",
       "<table border=\"1\" class=\"dataframe\">\n",
       "  <thead>\n",
       "    <tr style=\"text-align: right;\">\n",
       "      <th></th>\n",
       "      <th>Отметка времени</th>\n",
       "    </tr>\n",
       "    <tr>\n",
       "      <th>Укажите ваш город</th>\n",
       "      <th></th>\n",
       "    </tr>\n",
       "  </thead>\n",
       "  <tbody>\n",
       "    <tr>\n",
       "      <th>Москва</th>\n",
       "      <td>6</td>\n",
       "    </tr>\n",
       "    <tr>\n",
       "      <th>Новосибирск</th>\n",
       "      <td>3</td>\n",
       "    </tr>\n",
       "    <tr>\n",
       "      <th>Севастополь</th>\n",
       "      <td>2</td>\n",
       "    </tr>\n",
       "    <tr>\n",
       "      <th>Ростов-на-Дону</th>\n",
       "      <td>2</td>\n",
       "    </tr>\n",
       "    <tr>\n",
       "      <th>Березники</th>\n",
       "      <td>1</td>\n",
       "    </tr>\n",
       "    <tr>\n",
       "      <th>Челябинск</th>\n",
       "      <td>1</td>\n",
       "    </tr>\n",
       "    <tr>\n",
       "      <th>Хотьково</th>\n",
       "      <td>1</td>\n",
       "    </tr>\n",
       "    <tr>\n",
       "      <th>Санкт-Петербург</th>\n",
       "      <td>1</td>\n",
       "    </tr>\n",
       "    <tr>\n",
       "      <th>Петропавловск</th>\n",
       "      <td>1</td>\n",
       "    </tr>\n",
       "    <tr>\n",
       "      <th>Новосибирск</th>\n",
       "      <td>1</td>\n",
       "    </tr>\n",
       "  </tbody>\n",
       "</table>\n",
       "</div>"
      ],
      "text/plain": [
       "                   Отметка времени\n",
       "Укажите ваш город                 \n",
       "Москва                           6\n",
       "Новосибирск                      3\n",
       "Севастополь                      2\n",
       "Ростов-на-Дону                   2\n",
       "Березники                        1\n",
       "Челябинск                        1\n",
       "Хотьково                         1\n",
       "Санкт-Петербург                  1\n",
       "Петропавловск                    1\n",
       "Новосибирск                      1"
      ]
     },
     "execution_count": 97,
     "metadata": {},
     "output_type": "execute_result"
    }
   ],
   "source": [
    "f_40_49 = f.loc[f['Укажите ваш возраст'] == '40-49 лет']\n",
    "f_40_49.groupby('Укажите ваш город').count()[['Отметка времени']].sort_values('Отметка времени', ascending=False).head(10)"
   ]
  },
  {
   "cell_type": "code",
   "execution_count": 98,
   "metadata": {},
   "outputs": [
    {
     "data": {
      "text/html": [
       "<div>\n",
       "<style scoped>\n",
       "    .dataframe tbody tr th:only-of-type {\n",
       "        vertical-align: middle;\n",
       "    }\n",
       "\n",
       "    .dataframe tbody tr th {\n",
       "        vertical-align: top;\n",
       "    }\n",
       "\n",
       "    .dataframe thead th {\n",
       "        text-align: right;\n",
       "    }\n",
       "</style>\n",
       "<table border=\"1\" class=\"dataframe\">\n",
       "  <thead>\n",
       "    <tr style=\"text-align: right;\">\n",
       "      <th></th>\n",
       "      <th>Укажите ваш город</th>\n",
       "      <th>Жен., %</th>\n",
       "    </tr>\n",
       "  </thead>\n",
       "  <tbody>\n",
       "    <tr>\n",
       "      <th>0</th>\n",
       "      <td>Москва</td>\n",
       "      <td>21.4</td>\n",
       "    </tr>\n",
       "    <tr>\n",
       "      <th>1</th>\n",
       "      <td>Новосибирск</td>\n",
       "      <td>10.7</td>\n",
       "    </tr>\n",
       "    <tr>\n",
       "      <th>2</th>\n",
       "      <td>Севастополь</td>\n",
       "      <td>7.1</td>\n",
       "    </tr>\n",
       "    <tr>\n",
       "      <th>3</th>\n",
       "      <td>Ростов-на-Дону</td>\n",
       "      <td>7.1</td>\n",
       "    </tr>\n",
       "    <tr>\n",
       "      <th>4</th>\n",
       "      <td>Чехов</td>\n",
       "      <td>3.6</td>\n",
       "    </tr>\n",
       "    <tr>\n",
       "      <th>5</th>\n",
       "      <td>Муром</td>\n",
       "      <td>3.6</td>\n",
       "    </tr>\n",
       "    <tr>\n",
       "      <th>6</th>\n",
       "      <td>Братск</td>\n",
       "      <td>3.6</td>\n",
       "    </tr>\n",
       "    <tr>\n",
       "      <th>7</th>\n",
       "      <td>Владимир</td>\n",
       "      <td>3.6</td>\n",
       "    </tr>\n",
       "    <tr>\n",
       "      <th>8</th>\n",
       "      <td>Ижевск</td>\n",
       "      <td>3.6</td>\n",
       "    </tr>\n",
       "    <tr>\n",
       "      <th>9</th>\n",
       "      <td>Кемерово</td>\n",
       "      <td>3.6</td>\n",
       "    </tr>\n",
       "  </tbody>\n",
       "</table>\n",
       "</div>"
      ],
      "text/plain": [
       "  Укажите ваш город  Жен., %\n",
       "0            Москва     21.4\n",
       "1       Новосибирск     10.7\n",
       "2       Севастополь      7.1\n",
       "3    Ростов-на-Дону      7.1\n",
       "4            Чехов       3.6\n",
       "5             Муром      3.6\n",
       "6            Братск      3.6\n",
       "7          Владимир      3.6\n",
       "8            Ижевск      3.6\n",
       "9          Кемерово      3.6"
      ]
     },
     "execution_count": 98,
     "metadata": {},
     "output_type": "execute_result"
    }
   ],
   "source": [
    "f_40_49_City = round(f_40_49.iloc[:,[3]].value_counts() / f_40_49.iloc[:,[3]].value_counts().sum() * 100, 1).reset_index()\n",
    "f_40_49_City.columns = ['Укажите ваш город', 'Жен., %']\n",
    "f_40_49_City.head(10)"
   ]
  },
  {
   "cell_type": "markdown",
   "metadata": {},
   "source": [
    "### Женщины в возрасте 40-49 лет, проживающие в Москве, Новосибирске, Севастополе и Ростове-на-Дону  \n",
    "#### (12 человек)"
   ]
  },
  {
   "cell_type": "code",
   "execution_count": 99,
   "metadata": {},
   "outputs": [],
   "source": [
    "df_f_40_49_Four_City = df.loc[(df['Укажите ваш возраст'] == '23-29 лет') & (df['Укажите ваш пол'] == 'Женский') & (df['Укажите ваш город'].isin(['Москва', 'Севастополь', 'Ростове-на-Дону', 'Новосибирск']))]"
   ]
  },
  {
   "cell_type": "code",
   "execution_count": 100,
   "metadata": {},
   "outputs": [
    {
     "name": "stdout",
     "output_type": "stream",
     "text": [
      "Доверительный интервал: (33.3, 33.3, 33.3)\n"
     ]
    },
    {
     "data": {
      "text/html": [
       "<div>\n",
       "<style scoped>\n",
       "    .dataframe tbody tr th:only-of-type {\n",
       "        vertical-align: middle;\n",
       "    }\n",
       "\n",
       "    .dataframe tbody tr th {\n",
       "        vertical-align: top;\n",
       "    }\n",
       "\n",
       "    .dataframe thead th {\n",
       "        text-align: right;\n",
       "    }\n",
       "</style>\n",
       "<table border=\"1\" class=\"dataframe\">\n",
       "  <thead>\n",
       "    <tr style=\"text-align: right;\">\n",
       "      <th></th>\n",
       "      <th>Какая цветовая гамма интернет-магазина вам нравится?</th>\n",
       "      <th>%</th>\n",
       "    </tr>\n",
       "  </thead>\n",
       "  <tbody>\n",
       "    <tr>\n",
       "      <th>0</th>\n",
       "      <td>Яркая (синий, красный, зеленый и тд.)</td>\n",
       "      <td>33.3</td>\n",
       "    </tr>\n",
       "    <tr>\n",
       "      <th>1</th>\n",
       "      <td>Сдержанные оттенки (белый, черный, серый)</td>\n",
       "      <td>33.3</td>\n",
       "    </tr>\n",
       "    <tr>\n",
       "      <th>2</th>\n",
       "      <td>Неважно</td>\n",
       "      <td>33.3</td>\n",
       "    </tr>\n",
       "  </tbody>\n",
       "</table>\n",
       "</div>"
      ],
      "text/plain": [
       "  Какая цветовая гамма интернет-магазина вам нравится?     %\n",
       "0              Яркая (синий, красный, зеленый и тд.)    33.3\n",
       "1          Сдержанные оттенки (белый, черный, серый)    33.3\n",
       "2                                            Неважно    33.3"
      ]
     },
     "execution_count": 100,
     "metadata": {},
     "output_type": "execute_result"
    }
   ],
   "source": [
    "df_f_40_49_Four_City_4 = round(df_f_40_49_Four_City.iloc[:,[4]].value_counts() / df_f_40_49_Four_City.iloc[:,[4]].value_counts().sum() * 100, 1).reset_index()\n",
    "df_f_40_49_Four_City_4.columns = ['Какая цветовая гамма интернет-магазина вам нравится?', '%']\n",
    "print('Доверительный интервал:', mean_confidence_interval(df_f_40_49_Four_City_4['%'], 0.9999))\n",
    "df_f_40_49_Four_City_4"
   ]
  },
  {
   "cell_type": "code",
   "execution_count": 101,
   "metadata": {},
   "outputs": [
    {
     "name": "stdout",
     "output_type": "stream",
     "text": [
      "Доверительный интервал: (4.0, 4.0, 4.0)\n"
     ]
    },
    {
     "data": {
      "text/html": [
       "<div>\n",
       "<style scoped>\n",
       "    .dataframe tbody tr th:only-of-type {\n",
       "        vertical-align: middle;\n",
       "    }\n",
       "\n",
       "    .dataframe tbody tr th {\n",
       "        vertical-align: top;\n",
       "    }\n",
       "\n",
       "    .dataframe thead th {\n",
       "        text-align: right;\n",
       "    }\n",
       "</style>\n",
       "<table border=\"1\" class=\"dataframe\">\n",
       "  <thead>\n",
       "    <tr style=\"text-align: right;\">\n",
       "      <th></th>\n",
       "      <th>Какая цветовая гамма интернет-магазина вам нравится?</th>\n",
       "      <th>Count</th>\n",
       "    </tr>\n",
       "  </thead>\n",
       "  <tbody>\n",
       "    <tr>\n",
       "      <th>0</th>\n",
       "      <td>Яркая (синий, красный, зеленый и тд.)</td>\n",
       "      <td>4</td>\n",
       "    </tr>\n",
       "    <tr>\n",
       "      <th>1</th>\n",
       "      <td>Сдержанные оттенки (белый, черный, серый)</td>\n",
       "      <td>4</td>\n",
       "    </tr>\n",
       "    <tr>\n",
       "      <th>2</th>\n",
       "      <td>Неважно</td>\n",
       "      <td>4</td>\n",
       "    </tr>\n",
       "  </tbody>\n",
       "</table>\n",
       "</div>"
      ],
      "text/plain": [
       "  Какая цветовая гамма интернет-магазина вам нравится?  Count\n",
       "0              Яркая (синий, красный, зеленый и тд.)        4\n",
       "1          Сдержанные оттенки (белый, черный, серый)        4\n",
       "2                                            Неважно        4"
      ]
     },
     "execution_count": 101,
     "metadata": {},
     "output_type": "execute_result"
    }
   ],
   "source": [
    "f_40_49_Four_City_4 = df_f_40_49_Four_City.iloc[:,[4]].value_counts().reset_index()\n",
    "f_40_49_Four_City_4.columns = ['Какая цветовая гамма интернет-магазина вам нравится?', 'Count']\n",
    "print('Доверительный интервал:', mean_confidence_interval(f_40_49_Four_City_4['Count'], 0.9999))\n",
    "f_40_49_Four_City_4"
   ]
  },
  {
   "cell_type": "code",
   "execution_count": null,
   "metadata": {},
   "outputs": [],
   "source": [
    "\n"
   ]
  },
  {
   "cell_type": "code",
   "execution_count": 102,
   "metadata": {},
   "outputs": [
    {
     "name": "stdout",
     "output_type": "stream",
     "text": [
      "Доверительный интервал: (17.0674367418993, 33.333333333333336, 49.59922992476737)\n"
     ]
    },
    {
     "data": {
      "text/html": [
       "<div>\n",
       "<style scoped>\n",
       "    .dataframe tbody tr th:only-of-type {\n",
       "        vertical-align: middle;\n",
       "    }\n",
       "\n",
       "    .dataframe tbody tr th {\n",
       "        vertical-align: top;\n",
       "    }\n",
       "\n",
       "    .dataframe thead th {\n",
       "        text-align: right;\n",
       "    }\n",
       "</style>\n",
       "<table border=\"1\" class=\"dataframe\">\n",
       "  <thead>\n",
       "    <tr style=\"text-align: right;\">\n",
       "      <th></th>\n",
       "      <th>Сколько по времени вы готовы ждать свой заказ?</th>\n",
       "      <th>%</th>\n",
       "    </tr>\n",
       "  </thead>\n",
       "  <tbody>\n",
       "    <tr>\n",
       "      <th>0</th>\n",
       "      <td>4-7 рабочих дней</td>\n",
       "      <td>50.0</td>\n",
       "    </tr>\n",
       "    <tr>\n",
       "      <th>1</th>\n",
       "      <td>1-3 рабочих дня</td>\n",
       "      <td>41.7</td>\n",
       "    </tr>\n",
       "    <tr>\n",
       "      <th>2</th>\n",
       "      <td>Неважно</td>\n",
       "      <td>8.3</td>\n",
       "    </tr>\n",
       "  </tbody>\n",
       "</table>\n",
       "</div>"
      ],
      "text/plain": [
       "  Сколько по времени вы готовы ждать свой заказ?     %\n",
       "0                               4-7 рабочих дней  50.0\n",
       "1                                1-3 рабочих дня  41.7\n",
       "2                                        Неважно   8.3"
      ]
     },
     "execution_count": 102,
     "metadata": {},
     "output_type": "execute_result"
    }
   ],
   "source": [
    "df_f_40_49_Four_City_5 = round(df_f_40_49_Four_City.iloc[:,[5]].value_counts() / df_f_40_49_Four_City.iloc[:,[5]].value_counts().sum() * 100, 1).reset_index()\n",
    "df_f_40_49_Four_City_5.columns = ['Сколько по времени вы готовы ждать свой заказ?', '%']\n",
    "print('Доверительный интервал:', mean_confidence_interval(df_f_40_49_Four_City_5['%'], 0.67))\n",
    "df_f_40_49_Four_City_5"
   ]
  },
  {
   "cell_type": "code",
   "execution_count": 103,
   "metadata": {},
   "outputs": [
    {
     "name": "stdout",
     "output_type": "stream",
     "text": [
      "Доверительный интервал: (2.050321566805753, 4.0, 5.949678433194247)\n"
     ]
    },
    {
     "data": {
      "text/html": [
       "<div>\n",
       "<style scoped>\n",
       "    .dataframe tbody tr th:only-of-type {\n",
       "        vertical-align: middle;\n",
       "    }\n",
       "\n",
       "    .dataframe tbody tr th {\n",
       "        vertical-align: top;\n",
       "    }\n",
       "\n",
       "    .dataframe thead th {\n",
       "        text-align: right;\n",
       "    }\n",
       "</style>\n",
       "<table border=\"1\" class=\"dataframe\">\n",
       "  <thead>\n",
       "    <tr style=\"text-align: right;\">\n",
       "      <th></th>\n",
       "      <th>Сколько по времени вы готовы ждать свой заказ?</th>\n",
       "      <th>Count</th>\n",
       "    </tr>\n",
       "  </thead>\n",
       "  <tbody>\n",
       "    <tr>\n",
       "      <th>0</th>\n",
       "      <td>4-7 рабочих дней</td>\n",
       "      <td>6</td>\n",
       "    </tr>\n",
       "    <tr>\n",
       "      <th>1</th>\n",
       "      <td>1-3 рабочих дня</td>\n",
       "      <td>5</td>\n",
       "    </tr>\n",
       "    <tr>\n",
       "      <th>2</th>\n",
       "      <td>Неважно</td>\n",
       "      <td>1</td>\n",
       "    </tr>\n",
       "  </tbody>\n",
       "</table>\n",
       "</div>"
      ],
      "text/plain": [
       "  Сколько по времени вы готовы ждать свой заказ?  Count\n",
       "0                               4-7 рабочих дней      6\n",
       "1                                1-3 рабочих дня      5\n",
       "2                                        Неважно      1"
      ]
     },
     "execution_count": 103,
     "metadata": {},
     "output_type": "execute_result"
    }
   ],
   "source": [
    "f_40_49_Four_City_5 = df_f_40_49_Four_City.iloc[:,[5]].value_counts().reset_index()\n",
    "f_40_49_Four_City_5.columns = ['Сколько по времени вы готовы ждать свой заказ?', 'Count']\n",
    "print('Доверительный интервал:', mean_confidence_interval(f_40_49_Four_City_5['Count'], 0.67))\n",
    "f_40_49_Four_City_5"
   ]
  },
  {
   "cell_type": "code",
   "execution_count": null,
   "metadata": {},
   "outputs": [],
   "source": [
    "\n"
   ]
  },
  {
   "cell_type": "code",
   "execution_count": 104,
   "metadata": {},
   "outputs": [
    {
     "name": "stdout",
     "output_type": "stream",
     "text": [
      "Доверительный интервал: (8.433439906757824, 20.020000000000003, 31.60656009324218)\n"
     ]
    },
    {
     "data": {
      "text/html": [
       "<div>\n",
       "<style scoped>\n",
       "    .dataframe tbody tr th:only-of-type {\n",
       "        vertical-align: middle;\n",
       "    }\n",
       "\n",
       "    .dataframe tbody tr th {\n",
       "        vertical-align: top;\n",
       "    }\n",
       "\n",
       "    .dataframe thead th {\n",
       "        text-align: right;\n",
       "    }\n",
       "</style>\n",
       "<table border=\"1\" class=\"dataframe\">\n",
       "  <thead>\n",
       "    <tr style=\"text-align: right;\">\n",
       "      <th></th>\n",
       "      <th>Что из перечисленного могло бы мотивировать вас к покупке?</th>\n",
       "      <th>%</th>\n",
       "    </tr>\n",
       "  </thead>\n",
       "  <tbody>\n",
       "    <tr>\n",
       "      <th>0</th>\n",
       "      <td>Скидка</td>\n",
       "      <td>41.7</td>\n",
       "    </tr>\n",
       "    <tr>\n",
       "      <th>1</th>\n",
       "      <td>Наличие промокода, Скидка, Система лояльности</td>\n",
       "      <td>16.7</td>\n",
       "    </tr>\n",
       "    <tr>\n",
       "      <th>2</th>\n",
       "      <td>Наличие промокода, Скидка</td>\n",
       "      <td>16.7</td>\n",
       "    </tr>\n",
       "    <tr>\n",
       "      <th>3</th>\n",
       "      <td>Наличие промокода</td>\n",
       "      <td>16.7</td>\n",
       "    </tr>\n",
       "    <tr>\n",
       "      <th>4</th>\n",
       "      <td>Скидка, Система лояльности</td>\n",
       "      <td>8.3</td>\n",
       "    </tr>\n",
       "  </tbody>\n",
       "</table>\n",
       "</div>"
      ],
      "text/plain": [
       "  Что из перечисленного могло бы мотивировать вас к покупке?     %\n",
       "0                                             Скидка          41.7\n",
       "1      Наличие промокода, Скидка, Система лояльности          16.7\n",
       "2                          Наличие промокода, Скидка          16.7\n",
       "3                                  Наличие промокода          16.7\n",
       "4                         Скидка, Система лояльности           8.3"
      ]
     },
     "execution_count": 104,
     "metadata": {},
     "output_type": "execute_result"
    }
   ],
   "source": [
    "df_f_40_49_Four_City_6 = round(df_f_40_49_Four_City.iloc[:,[6]].value_counts() / df_f_40_49_Four_City.iloc[:,[6]].value_counts().sum() * 100, 1).reset_index()\n",
    "df_f_40_49_Four_City_6.columns = ['Что из перечисленного могло бы мотивировать вас к покупке?', '%']\n",
    "print('Доверительный интервал:', mean_confidence_interval(df_f_40_49_Four_City_6['%'], 0.89))\n",
    "df_f_40_49_Four_City_6"
   ]
  },
  {
   "cell_type": "code",
   "execution_count": 105,
   "metadata": {},
   "outputs": [
    {
     "name": "stdout",
     "output_type": "stream",
     "text": [
      "Доверительный интервал: (1.0113062042525736, 2.4, 3.7886937957474265)\n"
     ]
    },
    {
     "data": {
      "text/html": [
       "<div>\n",
       "<style scoped>\n",
       "    .dataframe tbody tr th:only-of-type {\n",
       "        vertical-align: middle;\n",
       "    }\n",
       "\n",
       "    .dataframe tbody tr th {\n",
       "        vertical-align: top;\n",
       "    }\n",
       "\n",
       "    .dataframe thead th {\n",
       "        text-align: right;\n",
       "    }\n",
       "</style>\n",
       "<table border=\"1\" class=\"dataframe\">\n",
       "  <thead>\n",
       "    <tr style=\"text-align: right;\">\n",
       "      <th></th>\n",
       "      <th>Что из перечисленного могло бы мотивировать вас к покупке?</th>\n",
       "      <th>Count</th>\n",
       "    </tr>\n",
       "  </thead>\n",
       "  <tbody>\n",
       "    <tr>\n",
       "      <th>0</th>\n",
       "      <td>Скидка</td>\n",
       "      <td>5</td>\n",
       "    </tr>\n",
       "    <tr>\n",
       "      <th>1</th>\n",
       "      <td>Наличие промокода, Скидка, Система лояльности</td>\n",
       "      <td>2</td>\n",
       "    </tr>\n",
       "    <tr>\n",
       "      <th>2</th>\n",
       "      <td>Наличие промокода, Скидка</td>\n",
       "      <td>2</td>\n",
       "    </tr>\n",
       "    <tr>\n",
       "      <th>3</th>\n",
       "      <td>Наличие промокода</td>\n",
       "      <td>2</td>\n",
       "    </tr>\n",
       "    <tr>\n",
       "      <th>4</th>\n",
       "      <td>Скидка, Система лояльности</td>\n",
       "      <td>1</td>\n",
       "    </tr>\n",
       "  </tbody>\n",
       "</table>\n",
       "</div>"
      ],
      "text/plain": [
       "  Что из перечисленного могло бы мотивировать вас к покупке?  Count\n",
       "0                                             Скидка              5\n",
       "1      Наличие промокода, Скидка, Система лояльности              2\n",
       "2                          Наличие промокода, Скидка              2\n",
       "3                                  Наличие промокода              2\n",
       "4                         Скидка, Система лояльности              1"
      ]
     },
     "execution_count": 105,
     "metadata": {},
     "output_type": "execute_result"
    }
   ],
   "source": [
    "f_40_49_Four_City_6 = df_f_40_49_Four_City.iloc[:,[6]].value_counts().reset_index()\n",
    "f_40_49_Four_City_6.columns = ['Что из перечисленного могло бы мотивировать вас к покупке?', 'Count']\n",
    "print('Доверительный интервал:', mean_confidence_interval(f_40_49_Four_City_6['Count'], 0.89))\n",
    "f_40_49_Four_City_6"
   ]
  },
  {
   "cell_type": "code",
   "execution_count": null,
   "metadata": {},
   "outputs": [],
   "source": [
    "\n"
   ]
  },
  {
   "cell_type": "code",
   "execution_count": 106,
   "metadata": {},
   "outputs": [
    {
     "name": "stdout",
     "output_type": "stream",
     "text": [
      "Доверительный интервал: (17.109221521938807, 33.333333333333336, 49.557445144727865)\n"
     ]
    },
    {
     "data": {
      "text/html": [
       "<div>\n",
       "<style scoped>\n",
       "    .dataframe tbody tr th:only-of-type {\n",
       "        vertical-align: middle;\n",
       "    }\n",
       "\n",
       "    .dataframe tbody tr th {\n",
       "        vertical-align: top;\n",
       "    }\n",
       "\n",
       "    .dataframe thead th {\n",
       "        text-align: right;\n",
       "    }\n",
       "</style>\n",
       "<table border=\"1\" class=\"dataframe\">\n",
       "  <thead>\n",
       "    <tr style=\"text-align: right;\">\n",
       "      <th></th>\n",
       "      <th>Как долго вы готовы ждать ответа от менеджера  по вашему заказу?</th>\n",
       "      <th>%</th>\n",
       "    </tr>\n",
       "  </thead>\n",
       "  <tbody>\n",
       "    <tr>\n",
       "      <th>0</th>\n",
       "      <td>1-3 часа</td>\n",
       "      <td>58.3</td>\n",
       "    </tr>\n",
       "    <tr>\n",
       "      <th>1</th>\n",
       "      <td>В течение суток</td>\n",
       "      <td>25.0</td>\n",
       "    </tr>\n",
       "    <tr>\n",
       "      <th>2</th>\n",
       "      <td>В течение часа</td>\n",
       "      <td>16.7</td>\n",
       "    </tr>\n",
       "  </tbody>\n",
       "</table>\n",
       "</div>"
      ],
      "text/plain": [
       "  Как долго вы готовы ждать ответа от менеджера  по вашему заказу?     %\n",
       "0                                           1-3 часа                58.3\n",
       "1                                    В течение суток                25.0\n",
       "2                                     В течение часа                16.7"
      ]
     },
     "execution_count": 106,
     "metadata": {},
     "output_type": "execute_result"
    }
   ],
   "source": [
    "df_f_40_49_Four_City_7 = round(df_f_40_49_Four_City.iloc[:,[7]].value_counts() / df_f_40_49_Four_City.iloc[:,[7]].value_counts().sum() * 100, 1).reset_index()\n",
    "df_f_40_49_Four_City_7.columns = ['Как долго вы готовы ждать ответа от менеджера  по вашему заказу?', '%']\n",
    "print('Доверительный интервал:', mean_confidence_interval(df_f_40_49_Four_City_7['%'], 0.67))\n",
    "df_f_40_49_Four_City_7"
   ]
  },
  {
   "cell_type": "code",
   "execution_count": 107,
   "metadata": {},
   "outputs": [
    {
     "name": "stdout",
     "output_type": "stream",
     "text": [
      "Доверительный интервал: (2.050321566805753, 4.0, 5.949678433194247)\n"
     ]
    },
    {
     "data": {
      "text/html": [
       "<div>\n",
       "<style scoped>\n",
       "    .dataframe tbody tr th:only-of-type {\n",
       "        vertical-align: middle;\n",
       "    }\n",
       "\n",
       "    .dataframe tbody tr th {\n",
       "        vertical-align: top;\n",
       "    }\n",
       "\n",
       "    .dataframe thead th {\n",
       "        text-align: right;\n",
       "    }\n",
       "</style>\n",
       "<table border=\"1\" class=\"dataframe\">\n",
       "  <thead>\n",
       "    <tr style=\"text-align: right;\">\n",
       "      <th></th>\n",
       "      <th>Как долго вы готовы ждать ответа от менеджера  по вашему заказу?</th>\n",
       "      <th>Count</th>\n",
       "    </tr>\n",
       "  </thead>\n",
       "  <tbody>\n",
       "    <tr>\n",
       "      <th>0</th>\n",
       "      <td>1-3 часа</td>\n",
       "      <td>7</td>\n",
       "    </tr>\n",
       "    <tr>\n",
       "      <th>1</th>\n",
       "      <td>В течение суток</td>\n",
       "      <td>3</td>\n",
       "    </tr>\n",
       "    <tr>\n",
       "      <th>2</th>\n",
       "      <td>В течение часа</td>\n",
       "      <td>2</td>\n",
       "    </tr>\n",
       "  </tbody>\n",
       "</table>\n",
       "</div>"
      ],
      "text/plain": [
       "  Как долго вы готовы ждать ответа от менеджера  по вашему заказу?  Count\n",
       "0                                           1-3 часа                    7\n",
       "1                                    В течение суток                    3\n",
       "2                                     В течение часа                    2"
      ]
     },
     "execution_count": 107,
     "metadata": {},
     "output_type": "execute_result"
    }
   ],
   "source": [
    "f_40_49_Four_City_7 = df_f_40_49_Four_City.iloc[:,[7]].value_counts().reset_index()\n",
    "f_40_49_Four_City_7.columns = ['Как долго вы готовы ждать ответа от менеджера  по вашему заказу?', 'Count']\n",
    "print('Доверительный интервал:', mean_confidence_interval(f_40_49_Four_City_7['Count'], 0.67))\n",
    "f_40_49_Four_City_7"
   ]
  },
  {
   "cell_type": "code",
   "execution_count": null,
   "metadata": {},
   "outputs": [],
   "source": [
    "\n"
   ]
  },
  {
   "cell_type": "code",
   "execution_count": 108,
   "metadata": {},
   "outputs": [
    {
     "name": "stdout",
     "output_type": "stream",
     "text": [
      "Доверительный интервал: (8.501382020077536, 16.666666666666668, 24.8319513132558)\n"
     ]
    },
    {
     "data": {
      "text/html": [
       "<div>\n",
       "<style scoped>\n",
       "    .dataframe tbody tr th:only-of-type {\n",
       "        vertical-align: middle;\n",
       "    }\n",
       "\n",
       "    .dataframe tbody tr th {\n",
       "        vertical-align: top;\n",
       "    }\n",
       "\n",
       "    .dataframe thead th {\n",
       "        text-align: right;\n",
       "    }\n",
       "</style>\n",
       "<table border=\"1\" class=\"dataframe\">\n",
       "  <thead>\n",
       "    <tr style=\"text-align: right;\">\n",
       "      <th></th>\n",
       "      <th>Какой способ обратной связи с менеджером вам наиболее удобен?</th>\n",
       "      <th>%</th>\n",
       "    </tr>\n",
       "  </thead>\n",
       "  <tbody>\n",
       "    <tr>\n",
       "      <th>0</th>\n",
       "      <td>Получить ответ в мессенджере/в соцсетях</td>\n",
       "      <td>33.3</td>\n",
       "    </tr>\n",
       "    <tr>\n",
       "      <th>1</th>\n",
       "      <td>Получить ответ на телефон (звонок), Получить о...</td>\n",
       "      <td>16.7</td>\n",
       "    </tr>\n",
       "    <tr>\n",
       "      <th>2</th>\n",
       "      <td>Получить ответ на почту, Получить ответ на тел...</td>\n",
       "      <td>16.7</td>\n",
       "    </tr>\n",
       "    <tr>\n",
       "      <th>3</th>\n",
       "      <td>Получить ответ на почту, Получить ответ на тел...</td>\n",
       "      <td>16.7</td>\n",
       "    </tr>\n",
       "    <tr>\n",
       "      <th>4</th>\n",
       "      <td>На самом сайте (чат), Получить ответ на телефо...</td>\n",
       "      <td>8.3</td>\n",
       "    </tr>\n",
       "    <tr>\n",
       "      <th>5</th>\n",
       "      <td>На самом сайте (чат), Получить ответ на почту,...</td>\n",
       "      <td>8.3</td>\n",
       "    </tr>\n",
       "  </tbody>\n",
       "</table>\n",
       "</div>"
      ],
      "text/plain": [
       "  Какой способ обратной связи с менеджером вам наиболее удобен?     %\n",
       "0            Получить ответ в мессенджере/в соцсетях             33.3\n",
       "1  Получить ответ на телефон (звонок), Получить о...             16.7\n",
       "2  Получить ответ на почту, Получить ответ на тел...             16.7\n",
       "3  Получить ответ на почту, Получить ответ на тел...             16.7\n",
       "4  На самом сайте (чат), Получить ответ на телефо...              8.3\n",
       "5  На самом сайте (чат), Получить ответ на почту,...              8.3"
      ]
     },
     "execution_count": 108,
     "metadata": {},
     "output_type": "execute_result"
    }
   ],
   "source": [
    "df_f_40_49_Four_City_8 = round(df_f_40_49_Four_City.iloc[:,[8]].value_counts() / df_f_40_49_Four_City.iloc[:,[8]].value_counts().sum() * 100, 1).reset_index()\n",
    "df_f_40_49_Four_City_8.columns = ['Какой способ обратной связи с менеджером вам наиболее удобен?', '%']\n",
    "print('Доверительный интервал:', mean_confidence_interval(df_f_40_49_Four_City_8['%'], 0.92))\n",
    "df_f_40_49_Four_City_8"
   ]
  },
  {
   "cell_type": "code",
   "execution_count": 109,
   "metadata": {},
   "outputs": [
    {
     "name": "stdout",
     "output_type": "stream",
     "text": [
      "Доверительный интервал: (1.0201736809885023, 2.0, 2.9798263190114977)\n"
     ]
    },
    {
     "data": {
      "text/html": [
       "<div>\n",
       "<style scoped>\n",
       "    .dataframe tbody tr th:only-of-type {\n",
       "        vertical-align: middle;\n",
       "    }\n",
       "\n",
       "    .dataframe tbody tr th {\n",
       "        vertical-align: top;\n",
       "    }\n",
       "\n",
       "    .dataframe thead th {\n",
       "        text-align: right;\n",
       "    }\n",
       "</style>\n",
       "<table border=\"1\" class=\"dataframe\">\n",
       "  <thead>\n",
       "    <tr style=\"text-align: right;\">\n",
       "      <th></th>\n",
       "      <th>Какой способ обратной связи с менеджером вам наиболее удобен?</th>\n",
       "      <th>Count</th>\n",
       "    </tr>\n",
       "  </thead>\n",
       "  <tbody>\n",
       "    <tr>\n",
       "      <th>0</th>\n",
       "      <td>Получить ответ в мессенджере/в соцсетях</td>\n",
       "      <td>4</td>\n",
       "    </tr>\n",
       "    <tr>\n",
       "      <th>1</th>\n",
       "      <td>Получить ответ на телефон (звонок), Получить о...</td>\n",
       "      <td>2</td>\n",
       "    </tr>\n",
       "    <tr>\n",
       "      <th>2</th>\n",
       "      <td>Получить ответ на почту, Получить ответ на тел...</td>\n",
       "      <td>2</td>\n",
       "    </tr>\n",
       "    <tr>\n",
       "      <th>3</th>\n",
       "      <td>Получить ответ на почту, Получить ответ на тел...</td>\n",
       "      <td>2</td>\n",
       "    </tr>\n",
       "    <tr>\n",
       "      <th>4</th>\n",
       "      <td>На самом сайте (чат), Получить ответ на телефо...</td>\n",
       "      <td>1</td>\n",
       "    </tr>\n",
       "    <tr>\n",
       "      <th>5</th>\n",
       "      <td>На самом сайте (чат), Получить ответ на почту,...</td>\n",
       "      <td>1</td>\n",
       "    </tr>\n",
       "  </tbody>\n",
       "</table>\n",
       "</div>"
      ],
      "text/plain": [
       "  Какой способ обратной связи с менеджером вам наиболее удобен?  Count\n",
       "0            Получить ответ в мессенджере/в соцсетях                 4\n",
       "1  Получить ответ на телефон (звонок), Получить о...                 2\n",
       "2  Получить ответ на почту, Получить ответ на тел...                 2\n",
       "3  Получить ответ на почту, Получить ответ на тел...                 2\n",
       "4  На самом сайте (чат), Получить ответ на телефо...                 1\n",
       "5  На самом сайте (чат), Получить ответ на почту,...                 1"
      ]
     },
     "execution_count": 109,
     "metadata": {},
     "output_type": "execute_result"
    }
   ],
   "source": [
    "f_40_49_Four_City_8 = df_f_40_49_Four_City.iloc[:,[8]].value_counts().reset_index()\n",
    "f_40_49_Four_City_8.columns = ['Какой способ обратной связи с менеджером вам наиболее удобен?', 'Count']\n",
    "print('Доверительный интервал:', mean_confidence_interval(f_40_49_Four_City_8['Count'], 0.92))\n",
    "f_40_49_Four_City_8"
   ]
  },
  {
   "cell_type": "code",
   "execution_count": null,
   "metadata": {},
   "outputs": [],
   "source": [
    "\n"
   ]
  },
  {
   "cell_type": "code",
   "execution_count": 110,
   "metadata": {},
   "outputs": [
    {
     "name": "stdout",
     "output_type": "stream",
     "text": [
      "Доверительный интервал: (8.313098383425455, 50.0, 91.68690161657454)\n"
     ]
    },
    {
     "data": {
      "text/html": [
       "<div>\n",
       "<style scoped>\n",
       "    .dataframe tbody tr th:only-of-type {\n",
       "        vertical-align: middle;\n",
       "    }\n",
       "\n",
       "    .dataframe tbody tr th {\n",
       "        vertical-align: top;\n",
       "    }\n",
       "\n",
       "    .dataframe thead th {\n",
       "        text-align: right;\n",
       "    }\n",
       "</style>\n",
       "<table border=\"1\" class=\"dataframe\">\n",
       "  <thead>\n",
       "    <tr style=\"text-align: right;\">\n",
       "      <th></th>\n",
       "      <th>Вы когда-нибудь покупали мерч?</th>\n",
       "      <th>%</th>\n",
       "    </tr>\n",
       "  </thead>\n",
       "  <tbody>\n",
       "    <tr>\n",
       "      <th>0</th>\n",
       "      <td>Да</td>\n",
       "      <td>91.7</td>\n",
       "    </tr>\n",
       "    <tr>\n",
       "      <th>1</th>\n",
       "      <td>Нет, но планирую</td>\n",
       "      <td>8.3</td>\n",
       "    </tr>\n",
       "  </tbody>\n",
       "</table>\n",
       "</div>"
      ],
      "text/plain": [
       "  Вы когда-нибудь покупали мерч?     %\n",
       "0                             Да  91.7\n",
       "1               Нет, но планирую   8.3"
      ]
     },
     "execution_count": 110,
     "metadata": {},
     "output_type": "execute_result"
    }
   ],
   "source": [
    "df_f_40_49_Four_City_9 = round(df_f_40_49_Four_City.iloc[:,[9]].value_counts() / df_f_40_49_Four_City.iloc[:,[9]].value_counts().sum() * 100, 1).reset_index()\n",
    "df_f_40_49_Four_City_9.columns = ['Вы когда-нибудь покупали мерч?', '%']\n",
    "print('Доверительный интервал:', mean_confidence_interval(df_f_40_49_Four_City_9['%'], 0.4999))\n",
    "df_f_40_49_Four_City_9"
   ]
  },
  {
   "cell_type": "code",
   "execution_count": 111,
   "metadata": {},
   "outputs": [
    {
     "name": "stdout",
     "output_type": "stream",
     "text": [
      "Доверительный интервал: (1.0015705495713982, 6.0, 10.998429450428603)\n"
     ]
    },
    {
     "data": {
      "text/html": [
       "<div>\n",
       "<style scoped>\n",
       "    .dataframe tbody tr th:only-of-type {\n",
       "        vertical-align: middle;\n",
       "    }\n",
       "\n",
       "    .dataframe tbody tr th {\n",
       "        vertical-align: top;\n",
       "    }\n",
       "\n",
       "    .dataframe thead th {\n",
       "        text-align: right;\n",
       "    }\n",
       "</style>\n",
       "<table border=\"1\" class=\"dataframe\">\n",
       "  <thead>\n",
       "    <tr style=\"text-align: right;\">\n",
       "      <th></th>\n",
       "      <th>Вы когда-нибудь покупали мерч?</th>\n",
       "      <th>Count</th>\n",
       "    </tr>\n",
       "  </thead>\n",
       "  <tbody>\n",
       "    <tr>\n",
       "      <th>0</th>\n",
       "      <td>Да</td>\n",
       "      <td>11</td>\n",
       "    </tr>\n",
       "    <tr>\n",
       "      <th>1</th>\n",
       "      <td>Нет, но планирую</td>\n",
       "      <td>1</td>\n",
       "    </tr>\n",
       "  </tbody>\n",
       "</table>\n",
       "</div>"
      ],
      "text/plain": [
       "  Вы когда-нибудь покупали мерч?  Count\n",
       "0                             Да     11\n",
       "1               Нет, но планирую      1"
      ]
     },
     "execution_count": 111,
     "metadata": {},
     "output_type": "execute_result"
    }
   ],
   "source": [
    "f_40_49_Four_City_9 = df_f_40_49_Four_City.iloc[:,[9]].value_counts().reset_index()\n",
    "f_40_49_Four_City_9.columns = ['Вы когда-нибудь покупали мерч?', 'Count']\n",
    "print('Доверительный интервал:', mean_confidence_interval(f_40_49_Four_City_9['Count'], 0.4999))\n",
    "f_40_49_Four_City_9"
   ]
  },
  {
   "cell_type": "code",
   "execution_count": null,
   "metadata": {},
   "outputs": [],
   "source": [
    "\n"
   ]
  },
  {
   "cell_type": "code",
   "execution_count": 112,
   "metadata": {},
   "outputs": [
    {
     "name": "stdout",
     "output_type": "stream",
     "text": [
      "Доверительный интервал: (25.15764074243693, 33.333333333333336, 41.509025924229746)\n"
     ]
    },
    {
     "data": {
      "text/html": [
       "<div>\n",
       "<style scoped>\n",
       "    .dataframe tbody tr th:only-of-type {\n",
       "        vertical-align: middle;\n",
       "    }\n",
       "\n",
       "    .dataframe tbody tr th {\n",
       "        vertical-align: top;\n",
       "    }\n",
       "\n",
       "    .dataframe thead th {\n",
       "        text-align: right;\n",
       "    }\n",
       "</style>\n",
       "<table border=\"1\" class=\"dataframe\">\n",
       "  <thead>\n",
       "    <tr style=\"text-align: right;\">\n",
       "      <th></th>\n",
       "      <th>Вам важно, какого размера будет логотип на мерче?</th>\n",
       "      <th>%</th>\n",
       "    </tr>\n",
       "  </thead>\n",
       "  <tbody>\n",
       "    <tr>\n",
       "      <th>0</th>\n",
       "      <td>Нет, мне неважно, какого размера будет логотип</td>\n",
       "      <td>50.0</td>\n",
       "    </tr>\n",
       "    <tr>\n",
       "      <th>1</th>\n",
       "      <td>Не люблю, когда на мерче есть логотип</td>\n",
       "      <td>25.0</td>\n",
       "    </tr>\n",
       "    <tr>\n",
       "      <th>2</th>\n",
       "      <td>Да, нравится, когда логотип маленького размера</td>\n",
       "      <td>25.0</td>\n",
       "    </tr>\n",
       "  </tbody>\n",
       "</table>\n",
       "</div>"
      ],
      "text/plain": [
       "  Вам важно, какого размера будет логотип на мерче?     %\n",
       "0    Нет, мне неважно, какого размера будет логотип  50.0\n",
       "1             Не люблю, когда на мерче есть логотип  25.0\n",
       "2    Да, нравится, когда логотип маленького размера  25.0"
      ]
     },
     "execution_count": 112,
     "metadata": {},
     "output_type": "execute_result"
    }
   ],
   "source": [
    "df_f_40_49_Four_City_10 = round(df_f_40_49_Four_City.iloc[:,[10]].value_counts() / df_f_40_49_Four_City.iloc[:,[10]].value_counts().sum() * 100, 1).reset_index()\n",
    "df_f_40_49_Four_City_10.columns = ['Вам важно, какого размера будет логотип на мерче?', '%']\n",
    "print('Доверительный интервал:', mean_confidence_interval(df_f_40_49_Four_City_10['%'], 0.57))\n",
    "df_f_40_49_Four_City_10"
   ]
  },
  {
   "cell_type": "code",
   "execution_count": 113,
   "metadata": {},
   "outputs": [
    {
     "name": "stdout",
     "output_type": "stream",
     "text": [
      "Доверительный интервал: (3.018916889092431, 4.0, 4.981083110907569)\n"
     ]
    },
    {
     "data": {
      "text/html": [
       "<div>\n",
       "<style scoped>\n",
       "    .dataframe tbody tr th:only-of-type {\n",
       "        vertical-align: middle;\n",
       "    }\n",
       "\n",
       "    .dataframe tbody tr th {\n",
       "        vertical-align: top;\n",
       "    }\n",
       "\n",
       "    .dataframe thead th {\n",
       "        text-align: right;\n",
       "    }\n",
       "</style>\n",
       "<table border=\"1\" class=\"dataframe\">\n",
       "  <thead>\n",
       "    <tr style=\"text-align: right;\">\n",
       "      <th></th>\n",
       "      <th>Вам важно, какого размера будет логотип на мерче?</th>\n",
       "      <th>Count</th>\n",
       "    </tr>\n",
       "  </thead>\n",
       "  <tbody>\n",
       "    <tr>\n",
       "      <th>0</th>\n",
       "      <td>Нет, мне неважно, какого размера будет логотип</td>\n",
       "      <td>6</td>\n",
       "    </tr>\n",
       "    <tr>\n",
       "      <th>1</th>\n",
       "      <td>Не люблю, когда на мерче есть логотип</td>\n",
       "      <td>3</td>\n",
       "    </tr>\n",
       "    <tr>\n",
       "      <th>2</th>\n",
       "      <td>Да, нравится, когда логотип маленького размера</td>\n",
       "      <td>3</td>\n",
       "    </tr>\n",
       "  </tbody>\n",
       "</table>\n",
       "</div>"
      ],
      "text/plain": [
       "  Вам важно, какого размера будет логотип на мерче?  Count\n",
       "0    Нет, мне неважно, какого размера будет логотип      6\n",
       "1             Не люблю, когда на мерче есть логотип      3\n",
       "2    Да, нравится, когда логотип маленького размера      3"
      ]
     },
     "execution_count": 113,
     "metadata": {},
     "output_type": "execute_result"
    }
   ],
   "source": [
    "f_40_49_Four_City_10 = df_f_40_49_Four_City.iloc[:,[10]].value_counts().reset_index()\n",
    "f_40_49_Four_City_10.columns = ['Вам важно, какого размера будет логотип на мерче?', 'Count']\n",
    "print('Доверительный интервал:', mean_confidence_interval(f_40_49_Four_City_10['Count'], 0.57))\n",
    "f_40_49_Four_City_10"
   ]
  },
  {
   "cell_type": "code",
   "execution_count": null,
   "metadata": {},
   "outputs": [],
   "source": [
    "\n"
   ]
  },
  {
   "cell_type": "code",
   "execution_count": 114,
   "metadata": {},
   "outputs": [
    {
     "name": "stdout",
     "output_type": "stream",
     "text": [
      "Доверительный интервал: (16.81217413734071, 24.974999999999998, 33.137825862659284)\n"
     ]
    },
    {
     "data": {
      "text/html": [
       "<div>\n",
       "<style scoped>\n",
       "    .dataframe tbody tr th:only-of-type {\n",
       "        vertical-align: middle;\n",
       "    }\n",
       "\n",
       "    .dataframe tbody tr th {\n",
       "        vertical-align: top;\n",
       "    }\n",
       "\n",
       "    .dataframe thead th {\n",
       "        text-align: right;\n",
       "    }\n",
       "</style>\n",
       "<table border=\"1\" class=\"dataframe\">\n",
       "  <thead>\n",
       "    <tr style=\"text-align: right;\">\n",
       "      <th></th>\n",
       "      <th>Какой мерч вам интереснее всего?</th>\n",
       "      <th>%</th>\n",
       "    </tr>\n",
       "  </thead>\n",
       "  <tbody>\n",
       "    <tr>\n",
       "      <th>0</th>\n",
       "      <td>Одежда (футболки, худи и др.)</td>\n",
       "      <td>33.3</td>\n",
       "    </tr>\n",
       "    <tr>\n",
       "      <th>1</th>\n",
       "      <td>Аксессуары (шоперы, шарфы и др.)</td>\n",
       "      <td>33.3</td>\n",
       "    </tr>\n",
       "    <tr>\n",
       "      <th>2</th>\n",
       "      <td>Канцтовары (блокноты, ручки, стикеры и др.)</td>\n",
       "      <td>25.0</td>\n",
       "    </tr>\n",
       "    <tr>\n",
       "      <th>3</th>\n",
       "      <td>Посуда (кружки, термокружки и др.)</td>\n",
       "      <td>8.3</td>\n",
       "    </tr>\n",
       "  </tbody>\n",
       "</table>\n",
       "</div>"
      ],
      "text/plain": [
       "              Какой мерч вам интереснее всего?     %\n",
       "0                Одежда (футболки, худи и др.)  33.3\n",
       "1             Аксессуары (шоперы, шарфы и др.)  33.3\n",
       "2  Канцтовары (блокноты, ручки, стикеры и др.)  25.0\n",
       "3           Посуда (кружки, термокружки и др.)   8.3"
      ]
     },
     "execution_count": 114,
     "metadata": {},
     "output_type": "execute_result"
    }
   ],
   "source": [
    "df_f_40_49_Four_City_11 = round(df_f_40_49_Four_City.iloc[:,[11]].value_counts() / df_f_40_49_Four_City.iloc[:,[11]].value_counts().sum() * 100, 1).reset_index()\n",
    "df_f_40_49_Four_City_11.columns = ['Какой мерч вам интереснее всего?', '%']\n",
    "print('Доверительный интервал:', mean_confidence_interval(df_f_40_49_Four_City_11['%'], 0.74))\n",
    "df_f_40_49_Four_City_11"
   ]
  },
  {
   "cell_type": "code",
   "execution_count": 115,
   "metadata": {},
   "outputs": [
    {
     "name": "stdout",
     "output_type": "stream",
     "text": [
      "Доверительный интервал: (2.020461876018519, 3.0, 3.979538123981481)\n"
     ]
    },
    {
     "data": {
      "text/html": [
       "<div>\n",
       "<style scoped>\n",
       "    .dataframe tbody tr th:only-of-type {\n",
       "        vertical-align: middle;\n",
       "    }\n",
       "\n",
       "    .dataframe tbody tr th {\n",
       "        vertical-align: top;\n",
       "    }\n",
       "\n",
       "    .dataframe thead th {\n",
       "        text-align: right;\n",
       "    }\n",
       "</style>\n",
       "<table border=\"1\" class=\"dataframe\">\n",
       "  <thead>\n",
       "    <tr style=\"text-align: right;\">\n",
       "      <th></th>\n",
       "      <th>Какой мерч вам интереснее всего?</th>\n",
       "      <th>Count</th>\n",
       "    </tr>\n",
       "  </thead>\n",
       "  <tbody>\n",
       "    <tr>\n",
       "      <th>0</th>\n",
       "      <td>Одежда (футболки, худи и др.)</td>\n",
       "      <td>4</td>\n",
       "    </tr>\n",
       "    <tr>\n",
       "      <th>1</th>\n",
       "      <td>Аксессуары (шоперы, шарфы и др.)</td>\n",
       "      <td>4</td>\n",
       "    </tr>\n",
       "    <tr>\n",
       "      <th>2</th>\n",
       "      <td>Канцтовары (блокноты, ручки, стикеры и др.)</td>\n",
       "      <td>3</td>\n",
       "    </tr>\n",
       "    <tr>\n",
       "      <th>3</th>\n",
       "      <td>Посуда (кружки, термокружки и др.)</td>\n",
       "      <td>1</td>\n",
       "    </tr>\n",
       "  </tbody>\n",
       "</table>\n",
       "</div>"
      ],
      "text/plain": [
       "              Какой мерч вам интереснее всего?  Count\n",
       "0                Одежда (футболки, худи и др.)      4\n",
       "1             Аксессуары (шоперы, шарфы и др.)      4\n",
       "2  Канцтовары (блокноты, ручки, стикеры и др.)      3\n",
       "3           Посуда (кружки, термокружки и др.)      1"
      ]
     },
     "execution_count": 115,
     "metadata": {},
     "output_type": "execute_result"
    }
   ],
   "source": [
    "f_40_49_Four_City_11 = df_f_40_49_Four_City.iloc[:,[11]].value_counts().reset_index()\n",
    "f_40_49_Four_City_11.columns = ['Какой мерч вам интереснее всего?', 'Count']\n",
    "print('Доверительный интервал:', mean_confidence_interval(f_40_49_Four_City_11['Count'], 0.74))\n",
    "f_40_49_Four_City_11"
   ]
  },
  {
   "cell_type": "code",
   "execution_count": null,
   "metadata": {},
   "outputs": [],
   "source": [
    "\n"
   ]
  },
  {
   "cell_type": "code",
   "execution_count": 116,
   "metadata": {},
   "outputs": [
    {
     "name": "stdout",
     "output_type": "stream",
     "text": [
      "Доверительный интервал: (16.710459860145512, 50.0, 83.2895401398545)\n"
     ]
    },
    {
     "data": {
      "text/html": [
       "<div>\n",
       "<style scoped>\n",
       "    .dataframe tbody tr th:only-of-type {\n",
       "        vertical-align: middle;\n",
       "    }\n",
       "\n",
       "    .dataframe tbody tr th {\n",
       "        vertical-align: top;\n",
       "    }\n",
       "\n",
       "    .dataframe thead th {\n",
       "        text-align: right;\n",
       "    }\n",
       "</style>\n",
       "<table border=\"1\" class=\"dataframe\">\n",
       "  <thead>\n",
       "    <tr style=\"text-align: right;\">\n",
       "      <th></th>\n",
       "      <th>Вам был бы интересен мерч без логотипа, который отражал бы философию конкретного бренда? Пример - футболки с надписью \"Иноагент\", выпущенные \"Медузой\" совместно с другими брендами</th>\n",
       "      <th>%</th>\n",
       "    </tr>\n",
       "  </thead>\n",
       "  <tbody>\n",
       "    <tr>\n",
       "      <th>0</th>\n",
       "      <td>Да</td>\n",
       "      <td>83.3</td>\n",
       "    </tr>\n",
       "    <tr>\n",
       "      <th>1</th>\n",
       "      <td>Нет</td>\n",
       "      <td>16.7</td>\n",
       "    </tr>\n",
       "  </tbody>\n",
       "</table>\n",
       "</div>"
      ],
      "text/plain": [
       "  Вам был бы интересен мерч без логотипа, который отражал бы философию конкретного бренда? Пример - футболки с надписью \"Иноагент\", выпущенные \"Медузой\" совместно с другими брендами  \\\n",
       "0                                                 Да                                                                                                                                    \n",
       "1                                                Нет                                                                                                                                    \n",
       "\n",
       "      %  \n",
       "0  83.3  \n",
       "1  16.7  "
      ]
     },
     "execution_count": 116,
     "metadata": {},
     "output_type": "execute_result"
    }
   ],
   "source": [
    "df_f_40_49_Four_City_12 = round(df_f_40_49_Four_City.iloc[:,[12]].value_counts() / df_f_40_49_Four_City.iloc[:,[12]].value_counts().sum() * 100, 1).reset_index()\n",
    "df_f_40_49_Four_City_12.columns = ['Вам был бы интересен мерч без логотипа, который отражал бы философию конкретного бренда? Пример - футболки с надписью \"Иноагент\", выпущенные \"Медузой\" совместно с другими брендами', '%']\n",
    "print('Доверительный интервал:', mean_confidence_interval(df_f_40_49_Four_City_12['%'], 0.4999))\n",
    "df_f_40_49_Four_City_12"
   ]
  },
  {
   "cell_type": "code",
   "execution_count": 117,
   "metadata": {},
   "outputs": [
    {
     "name": "stdout",
     "output_type": "stream",
     "text": [
      "Доверительный интервал: (2.0012564396571184, 6.0, 9.99874356034288)\n"
     ]
    },
    {
     "data": {
      "text/html": [
       "<div>\n",
       "<style scoped>\n",
       "    .dataframe tbody tr th:only-of-type {\n",
       "        vertical-align: middle;\n",
       "    }\n",
       "\n",
       "    .dataframe tbody tr th {\n",
       "        vertical-align: top;\n",
       "    }\n",
       "\n",
       "    .dataframe thead th {\n",
       "        text-align: right;\n",
       "    }\n",
       "</style>\n",
       "<table border=\"1\" class=\"dataframe\">\n",
       "  <thead>\n",
       "    <tr style=\"text-align: right;\">\n",
       "      <th></th>\n",
       "      <th>Вам был бы интересен мерч без логотипа, который отражал бы философию конкретного бренда? Пример - футболки с надписью \"Иноагент\", выпущенные \"Медузой\" совместно с другими брендами</th>\n",
       "      <th>Count</th>\n",
       "    </tr>\n",
       "  </thead>\n",
       "  <tbody>\n",
       "    <tr>\n",
       "      <th>0</th>\n",
       "      <td>Да</td>\n",
       "      <td>10</td>\n",
       "    </tr>\n",
       "    <tr>\n",
       "      <th>1</th>\n",
       "      <td>Нет</td>\n",
       "      <td>2</td>\n",
       "    </tr>\n",
       "  </tbody>\n",
       "</table>\n",
       "</div>"
      ],
      "text/plain": [
       "  Вам был бы интересен мерч без логотипа, который отражал бы философию конкретного бренда? Пример - футболки с надписью \"Иноагент\", выпущенные \"Медузой\" совместно с другими брендами  \\\n",
       "0                                                 Да                                                                                                                                    \n",
       "1                                                Нет                                                                                                                                    \n",
       "\n",
       "   Count  \n",
       "0     10  \n",
       "1      2  "
      ]
     },
     "execution_count": 117,
     "metadata": {},
     "output_type": "execute_result"
    }
   ],
   "source": [
    "f_40_49_Four_City_12 = df_f_40_49_Four_City.iloc[:,[12]].value_counts().reset_index()\n",
    "f_40_49_Four_City_12.columns = ['Вам был бы интересен мерч без логотипа, который отражал бы философию конкретного бренда? Пример - футболки с надписью \"Иноагент\", выпущенные \"Медузой\" совместно с другими брендами', 'Count']\n",
    "print('Доверительный интервал:', mean_confidence_interval(f_40_49_Four_City_12['Count'], 0.4999))\n",
    "f_40_49_Four_City_12"
   ]
  },
  {
   "cell_type": "code",
   "execution_count": null,
   "metadata": {},
   "outputs": [],
   "source": [
    "\n"
   ]
  },
  {
   "cell_type": "code",
   "execution_count": 118,
   "metadata": {},
   "outputs": [
    {
     "name": "stdout",
     "output_type": "stream",
     "text": [
      "Доверительный интервал: (16.710459860145512, 50.0, 83.2895401398545)\n"
     ]
    },
    {
     "data": {
      "text/html": [
       "<div>\n",
       "<style scoped>\n",
       "    .dataframe tbody tr th:only-of-type {\n",
       "        vertical-align: middle;\n",
       "    }\n",
       "\n",
       "    .dataframe tbody tr th {\n",
       "        vertical-align: top;\n",
       "    }\n",
       "\n",
       "    .dataframe thead th {\n",
       "        text-align: right;\n",
       "    }\n",
       "</style>\n",
       "<table border=\"1\" class=\"dataframe\">\n",
       "  <thead>\n",
       "    <tr style=\"text-align: right;\">\n",
       "      <th></th>\n",
       "      <th>Вам нравятся цитаты в виде принта на мерче?</th>\n",
       "      <th>%</th>\n",
       "    </tr>\n",
       "  </thead>\n",
       "  <tbody>\n",
       "    <tr>\n",
       "      <th>0</th>\n",
       "      <td>Да</td>\n",
       "      <td>83.3</td>\n",
       "    </tr>\n",
       "    <tr>\n",
       "      <th>1</th>\n",
       "      <td>Нет</td>\n",
       "      <td>16.7</td>\n",
       "    </tr>\n",
       "  </tbody>\n",
       "</table>\n",
       "</div>"
      ],
      "text/plain": [
       "  Вам нравятся цитаты в виде принта на мерче?     %\n",
       "0                                          Да  83.3\n",
       "1                                         Нет  16.7"
      ]
     },
     "execution_count": 118,
     "metadata": {},
     "output_type": "execute_result"
    }
   ],
   "source": [
    "df_f_40_49_Four_City_13 = round(df_f_40_49_Four_City.iloc[:,[13]].value_counts() / df_f_40_49_Four_City.iloc[:,[13]].value_counts().sum() * 100, 1).reset_index()\n",
    "df_f_40_49_Four_City_13.columns = ['Вам нравятся цитаты в виде принта на мерче?', '%']\n",
    "print('Доверительный интервал:', mean_confidence_interval(df_f_40_49_Four_City_13['%'], 0.4999))\n",
    "df_f_40_49_Four_City_13"
   ]
  },
  {
   "cell_type": "code",
   "execution_count": 119,
   "metadata": {},
   "outputs": [
    {
     "name": "stdout",
     "output_type": "stream",
     "text": [
      "Доверительный интервал: (2.0012564396571184, 6.0, 9.99874356034288)\n"
     ]
    },
    {
     "data": {
      "text/html": [
       "<div>\n",
       "<style scoped>\n",
       "    .dataframe tbody tr th:only-of-type {\n",
       "        vertical-align: middle;\n",
       "    }\n",
       "\n",
       "    .dataframe tbody tr th {\n",
       "        vertical-align: top;\n",
       "    }\n",
       "\n",
       "    .dataframe thead th {\n",
       "        text-align: right;\n",
       "    }\n",
       "</style>\n",
       "<table border=\"1\" class=\"dataframe\">\n",
       "  <thead>\n",
       "    <tr style=\"text-align: right;\">\n",
       "      <th></th>\n",
       "      <th>Вам нравятся цитаты в виде принта на мерче?</th>\n",
       "      <th>Count</th>\n",
       "    </tr>\n",
       "  </thead>\n",
       "  <tbody>\n",
       "    <tr>\n",
       "      <th>0</th>\n",
       "      <td>Да</td>\n",
       "      <td>10</td>\n",
       "    </tr>\n",
       "    <tr>\n",
       "      <th>1</th>\n",
       "      <td>Нет</td>\n",
       "      <td>2</td>\n",
       "    </tr>\n",
       "  </tbody>\n",
       "</table>\n",
       "</div>"
      ],
      "text/plain": [
       "  Вам нравятся цитаты в виде принта на мерче?  Count\n",
       "0                                          Да     10\n",
       "1                                         Нет      2"
      ]
     },
     "execution_count": 119,
     "metadata": {},
     "output_type": "execute_result"
    }
   ],
   "source": [
    "f_40_49_Four_City_13 = df_f_40_49_Four_City.iloc[:,[13]].value_counts().reset_index()\n",
    "f_40_49_Four_City_13.columns = ['Вам нравятся цитаты в виде принта на мерче?', 'Count']\n",
    "print('Доверительный интервал:', mean_confidence_interval(f_40_49_Four_City_13['Count'], 0.4999))\n",
    "f_40_49_Four_City_13"
   ]
  },
  {
   "cell_type": "code",
   "execution_count": null,
   "metadata": {},
   "outputs": [],
   "source": [
    "\n"
   ]
  },
  {
   "cell_type": "code",
   "execution_count": 120,
   "metadata": {},
   "outputs": [
    {
     "name": "stdout",
     "output_type": "stream",
     "text": [
      "Доверительный интервал: (16.710459860145512, 50.0, 83.2895401398545)\n"
     ]
    },
    {
     "data": {
      "text/html": [
       "<div>\n",
       "<style scoped>\n",
       "    .dataframe tbody tr th:only-of-type {\n",
       "        vertical-align: middle;\n",
       "    }\n",
       "\n",
       "    .dataframe tbody tr th {\n",
       "        vertical-align: top;\n",
       "    }\n",
       "\n",
       "    .dataframe thead th {\n",
       "        text-align: right;\n",
       "    }\n",
       "</style>\n",
       "<table border=\"1\" class=\"dataframe\">\n",
       "  <thead>\n",
       "    <tr style=\"text-align: right;\">\n",
       "      <th></th>\n",
       "      <th>Как вы относитесь к юмористическим цитатам на мерче?</th>\n",
       "      <th>%</th>\n",
       "    </tr>\n",
       "  </thead>\n",
       "  <tbody>\n",
       "    <tr>\n",
       "      <th>0</th>\n",
       "      <td>Нравится</td>\n",
       "      <td>83.3</td>\n",
       "    </tr>\n",
       "    <tr>\n",
       "      <th>1</th>\n",
       "      <td>Не нравится</td>\n",
       "      <td>16.7</td>\n",
       "    </tr>\n",
       "  </tbody>\n",
       "</table>\n",
       "</div>"
      ],
      "text/plain": [
       "  Как вы относитесь к юмористическим цитатам на мерче?     %\n",
       "0                                           Нравится    83.3\n",
       "1                                        Не нравится    16.7"
      ]
     },
     "execution_count": 120,
     "metadata": {},
     "output_type": "execute_result"
    }
   ],
   "source": [
    "df_f_40_49_Four_City_14 = round(df_f_40_49_Four_City.iloc[:,[14]].value_counts() / df_f_40_49_Four_City.iloc[:,[14]].value_counts().sum() * 100, 1).reset_index()\n",
    "df_f_40_49_Four_City_14.columns = ['Как вы относитесь к юмористическим цитатам на мерче?', '%']\n",
    "print('Доверительный интервал:', mean_confidence_interval(df_f_40_49_Four_City_14['%'], 0.4999))\n",
    "df_f_40_49_Four_City_14"
   ]
  },
  {
   "cell_type": "code",
   "execution_count": 121,
   "metadata": {},
   "outputs": [
    {
     "name": "stdout",
     "output_type": "stream",
     "text": [
      "Доверительный интервал: (2.0012564396571184, 6.0, 9.99874356034288)\n"
     ]
    },
    {
     "data": {
      "text/html": [
       "<div>\n",
       "<style scoped>\n",
       "    .dataframe tbody tr th:only-of-type {\n",
       "        vertical-align: middle;\n",
       "    }\n",
       "\n",
       "    .dataframe tbody tr th {\n",
       "        vertical-align: top;\n",
       "    }\n",
       "\n",
       "    .dataframe thead th {\n",
       "        text-align: right;\n",
       "    }\n",
       "</style>\n",
       "<table border=\"1\" class=\"dataframe\">\n",
       "  <thead>\n",
       "    <tr style=\"text-align: right;\">\n",
       "      <th></th>\n",
       "      <th>Как вы относитесь к юмористическим цитатам на мерче?</th>\n",
       "      <th>Count</th>\n",
       "    </tr>\n",
       "  </thead>\n",
       "  <tbody>\n",
       "    <tr>\n",
       "      <th>0</th>\n",
       "      <td>Нравится</td>\n",
       "      <td>10</td>\n",
       "    </tr>\n",
       "    <tr>\n",
       "      <th>1</th>\n",
       "      <td>Не нравится</td>\n",
       "      <td>2</td>\n",
       "    </tr>\n",
       "  </tbody>\n",
       "</table>\n",
       "</div>"
      ],
      "text/plain": [
       "  Как вы относитесь к юмористическим цитатам на мерче?  Count\n",
       "0                                           Нравится       10\n",
       "1                                        Не нравится        2"
      ]
     },
     "execution_count": 121,
     "metadata": {},
     "output_type": "execute_result"
    }
   ],
   "source": [
    "f_40_49_Four_City_14 = df_f_40_49_Four_City.iloc[:,[14]].value_counts().reset_index()\n",
    "f_40_49_Four_City_14.columns = ['Как вы относитесь к юмористическим цитатам на мерче?', 'Count']\n",
    "print('Доверительный интервал:', mean_confidence_interval(f_40_49_Four_City_14['Count'], 0.4999))\n",
    "f_40_49_Four_City_14"
   ]
  },
  {
   "cell_type": "code",
   "execution_count": null,
   "metadata": {},
   "outputs": [],
   "source": [
    "\n"
   ]
  },
  {
   "cell_type": "code",
   "execution_count": 122,
   "metadata": {},
   "outputs": [
    {
     "name": "stdout",
     "output_type": "stream",
     "text": [
      "Доверительный интервал: (8.6273230586722, 33.333333333333336, 58.03934360799447)\n"
     ]
    },
    {
     "data": {
      "text/html": [
       "<div>\n",
       "<style scoped>\n",
       "    .dataframe tbody tr th:only-of-type {\n",
       "        vertical-align: middle;\n",
       "    }\n",
       "\n",
       "    .dataframe tbody tr th {\n",
       "        vertical-align: top;\n",
       "    }\n",
       "\n",
       "    .dataframe thead th {\n",
       "        text-align: right;\n",
       "    }\n",
       "</style>\n",
       "<table border=\"1\" class=\"dataframe\">\n",
       "  <thead>\n",
       "    <tr style=\"text-align: right;\">\n",
       "      <th></th>\n",
       "      <th>Вы обычно покупаете мерч после важных мероприятий? Например, после концерта или интересной отраслевой конференции</th>\n",
       "      <th>%</th>\n",
       "    </tr>\n",
       "  </thead>\n",
       "  <tbody>\n",
       "    <tr>\n",
       "      <th>0</th>\n",
       "      <td>Да</td>\n",
       "      <td>75.0</td>\n",
       "    </tr>\n",
       "    <tr>\n",
       "      <th>1</th>\n",
       "      <td>Нет</td>\n",
       "      <td>16.7</td>\n",
       "    </tr>\n",
       "    <tr>\n",
       "      <th>2</th>\n",
       "      <td>Я никогда не покупал мерч</td>\n",
       "      <td>8.3</td>\n",
       "    </tr>\n",
       "  </tbody>\n",
       "</table>\n",
       "</div>"
      ],
      "text/plain": [
       "  Вы обычно покупаете мерч после важных мероприятий? Например, после концерта или интересной отраслевой конференции  \\\n",
       "0                                                 Да                                                                  \n",
       "1                                                Нет                                                                  \n",
       "2                          Я никогда не покупал мерч                                                                  \n",
       "\n",
       "      %  \n",
       "0  75.0  \n",
       "1  16.7  \n",
       "2   8.3  "
      ]
     },
     "execution_count": 122,
     "metadata": {},
     "output_type": "execute_result"
    }
   ],
   "source": [
    "df_f_40_49_Four_City_15 = round(df_f_40_49_Four_City.iloc[:,[15]].value_counts() / df_f_40_49_Four_City.iloc[:,[15]].value_counts().sum() * 100, 1).reset_index()\n",
    "df_f_40_49_Four_City_15.columns = ['Вы обычно покупаете мерч после важных мероприятий? Например, после концерта или интересной отраслевой конференции', '%']\n",
    "print('Доверительный интервал:', mean_confidence_interval(df_f_40_49_Four_City_15['%'], 0.64))\n",
    "df_f_40_49_Four_City_15"
   ]
  },
  {
   "cell_type": "code",
   "execution_count": 123,
   "metadata": {},
   "outputs": [
    {
     "name": "stdout",
     "output_type": "stream",
     "text": [
      "Доверительный интервал: (1.9457432254699967, 4.0, 6.054256774530003)\n"
     ]
    },
    {
     "data": {
      "text/html": [
       "<div>\n",
       "<style scoped>\n",
       "    .dataframe tbody tr th:only-of-type {\n",
       "        vertical-align: middle;\n",
       "    }\n",
       "\n",
       "    .dataframe tbody tr th {\n",
       "        vertical-align: top;\n",
       "    }\n",
       "\n",
       "    .dataframe thead th {\n",
       "        text-align: right;\n",
       "    }\n",
       "</style>\n",
       "<table border=\"1\" class=\"dataframe\">\n",
       "  <thead>\n",
       "    <tr style=\"text-align: right;\">\n",
       "      <th></th>\n",
       "      <th>Вы обычно покупаете мерч после важных мероприятий? Например, после концерта или интересной отраслевой конференции</th>\n",
       "      <th>Count</th>\n",
       "    </tr>\n",
       "  </thead>\n",
       "  <tbody>\n",
       "    <tr>\n",
       "      <th>0</th>\n",
       "      <td>Да</td>\n",
       "      <td>9</td>\n",
       "    </tr>\n",
       "    <tr>\n",
       "      <th>1</th>\n",
       "      <td>Нет</td>\n",
       "      <td>2</td>\n",
       "    </tr>\n",
       "    <tr>\n",
       "      <th>2</th>\n",
       "      <td>Я никогда не покупал мерч</td>\n",
       "      <td>1</td>\n",
       "    </tr>\n",
       "  </tbody>\n",
       "</table>\n",
       "</div>"
      ],
      "text/plain": [
       "  Вы обычно покупаете мерч после важных мероприятий? Например, после концерта или интересной отраслевой конференции  \\\n",
       "0                                                 Да                                                                  \n",
       "1                                                Нет                                                                  \n",
       "2                          Я никогда не покупал мерч                                                                  \n",
       "\n",
       "   Count  \n",
       "0      9  \n",
       "1      2  \n",
       "2      1  "
      ]
     },
     "execution_count": 123,
     "metadata": {},
     "output_type": "execute_result"
    }
   ],
   "source": [
    "f_40_49_Four_City_15 = df_f_40_49_Four_City.iloc[:,[15]].value_counts().reset_index()\n",
    "f_40_49_Four_City_15.columns = ['Вы обычно покупаете мерч после важных мероприятий? Например, после концерта или интересной отраслевой конференции', 'Count']\n",
    "print('Доверительный интервал:', mean_confidence_interval(f_40_49_Four_City_15['Count'], 0.4999))\n",
    "f_40_49_Four_City_15"
   ]
  },
  {
   "cell_type": "code",
   "execution_count": null,
   "metadata": {},
   "outputs": [],
   "source": [
    "\n"
   ]
  },
  {
   "cell_type": "code",
   "execution_count": 124,
   "metadata": {},
   "outputs": [
    {
     "name": "stdout",
     "output_type": "stream",
     "text": [
      "Доверительный интервал: (16.710459860145512, 50.0, 83.2895401398545)\n"
     ]
    },
    {
     "data": {
      "text/html": [
       "<div>\n",
       "<style scoped>\n",
       "    .dataframe tbody tr th:only-of-type {\n",
       "        vertical-align: middle;\n",
       "    }\n",
       "\n",
       "    .dataframe tbody tr th {\n",
       "        vertical-align: top;\n",
       "    }\n",
       "\n",
       "    .dataframe thead th {\n",
       "        text-align: right;\n",
       "    }\n",
       "</style>\n",
       "<table border=\"1\" class=\"dataframe\">\n",
       "  <thead>\n",
       "    <tr style=\"text-align: right;\">\n",
       "      <th></th>\n",
       "      <th>Вам важно, чтобы вы сами могли придумать свой дизайн для мерча: выбрать уникальное сочетание цвета и принта?</th>\n",
       "      <th>%</th>\n",
       "    </tr>\n",
       "  </thead>\n",
       "  <tbody>\n",
       "    <tr>\n",
       "      <th>0</th>\n",
       "      <td>Нет, дизайнерам виднее</td>\n",
       "      <td>83.3</td>\n",
       "    </tr>\n",
       "    <tr>\n",
       "      <th>1</th>\n",
       "      <td>Да, люблю эксперименты</td>\n",
       "      <td>16.7</td>\n",
       "    </tr>\n",
       "  </tbody>\n",
       "</table>\n",
       "</div>"
      ],
      "text/plain": [
       "  Вам важно, чтобы вы сами могли придумать свой дизайн для мерча: выбрать уникальное сочетание цвета и принта?  \\\n",
       "0                             Нет, дизайнерам виднее                                                             \n",
       "1                             Да, люблю эксперименты                                                             \n",
       "\n",
       "      %  \n",
       "0  83.3  \n",
       "1  16.7  "
      ]
     },
     "execution_count": 124,
     "metadata": {},
     "output_type": "execute_result"
    }
   ],
   "source": [
    "df_f_40_49_Four_City_16 = round(df_f_40_49_Four_City.iloc[:,[16]].value_counts() / df_f_40_49_Four_City.iloc[:,[16]].value_counts().sum() * 100, 1).reset_index()\n",
    "df_f_40_49_Four_City_16.columns = ['Вам важно, чтобы вы сами могли придумать свой дизайн для мерча: выбрать уникальное сочетание цвета и принта?', '%']\n",
    "print('Доверительный интервал:', mean_confidence_interval(df_f_40_49_Four_City_16['%'], 0.4999))\n",
    "df_f_40_49_Four_City_16"
   ]
  },
  {
   "cell_type": "code",
   "execution_count": 125,
   "metadata": {},
   "outputs": [
    {
     "name": "stdout",
     "output_type": "stream",
     "text": [
      "Доверительный интервал: (2.0012564396571184, 6.0, 9.99874356034288)\n"
     ]
    },
    {
     "data": {
      "text/html": [
       "<div>\n",
       "<style scoped>\n",
       "    .dataframe tbody tr th:only-of-type {\n",
       "        vertical-align: middle;\n",
       "    }\n",
       "\n",
       "    .dataframe tbody tr th {\n",
       "        vertical-align: top;\n",
       "    }\n",
       "\n",
       "    .dataframe thead th {\n",
       "        text-align: right;\n",
       "    }\n",
       "</style>\n",
       "<table border=\"1\" class=\"dataframe\">\n",
       "  <thead>\n",
       "    <tr style=\"text-align: right;\">\n",
       "      <th></th>\n",
       "      <th>Вам важно, чтобы вы сами могли придумать свой дизайн для мерча: выбрать уникальное сочетание цвета и принта?</th>\n",
       "      <th>Count</th>\n",
       "    </tr>\n",
       "  </thead>\n",
       "  <tbody>\n",
       "    <tr>\n",
       "      <th>0</th>\n",
       "      <td>Нет, дизайнерам виднее</td>\n",
       "      <td>10</td>\n",
       "    </tr>\n",
       "    <tr>\n",
       "      <th>1</th>\n",
       "      <td>Да, люблю эксперименты</td>\n",
       "      <td>2</td>\n",
       "    </tr>\n",
       "  </tbody>\n",
       "</table>\n",
       "</div>"
      ],
      "text/plain": [
       "  Вам важно, чтобы вы сами могли придумать свой дизайн для мерча: выбрать уникальное сочетание цвета и принта?  \\\n",
       "0                             Нет, дизайнерам виднее                                                             \n",
       "1                             Да, люблю эксперименты                                                             \n",
       "\n",
       "   Count  \n",
       "0     10  \n",
       "1      2  "
      ]
     },
     "execution_count": 125,
     "metadata": {},
     "output_type": "execute_result"
    }
   ],
   "source": [
    "f_40_49_Four_City_16 = df_f_40_49_Four_City.iloc[:,[16]].value_counts().reset_index()\n",
    "f_40_49_Four_City_16.columns = ['Вам важно, чтобы вы сами могли придумать свой дизайн для мерча: выбрать уникальное сочетание цвета и принта?', 'Count']\n",
    "print('Доверительный интервал:', mean_confidence_interval(f_40_49_Four_City_16['Count'], 0.4999))\n",
    "f_40_49_Four_City_16"
   ]
  },
  {
   "cell_type": "code",
   "execution_count": null,
   "metadata": {},
   "outputs": [],
   "source": [
    "\n"
   ]
  },
  {
   "cell_type": "code",
   "execution_count": 126,
   "metadata": {},
   "outputs": [
    {
     "name": "stdout",
     "output_type": "stream",
     "text": [
      "Доверительный интервал: (25.00785274785699, 50.0, 74.99214725214301)\n"
     ]
    },
    {
     "data": {
      "text/html": [
       "<div>\n",
       "<style scoped>\n",
       "    .dataframe tbody tr th:only-of-type {\n",
       "        vertical-align: middle;\n",
       "    }\n",
       "\n",
       "    .dataframe tbody tr th {\n",
       "        vertical-align: top;\n",
       "    }\n",
       "\n",
       "    .dataframe thead th {\n",
       "        text-align: right;\n",
       "    }\n",
       "</style>\n",
       "<table border=\"1\" class=\"dataframe\">\n",
       "  <thead>\n",
       "    <tr style=\"text-align: right;\">\n",
       "      <th></th>\n",
       "      <th>Мерч в качестве бонуса мотивировал бы вас лучше учиться?</th>\n",
       "      <th>%</th>\n",
       "    </tr>\n",
       "  </thead>\n",
       "  <tbody>\n",
       "    <tr>\n",
       "      <th>0</th>\n",
       "      <td>Да</td>\n",
       "      <td>75.0</td>\n",
       "    </tr>\n",
       "    <tr>\n",
       "      <th>1</th>\n",
       "      <td>Нет</td>\n",
       "      <td>25.0</td>\n",
       "    </tr>\n",
       "  </tbody>\n",
       "</table>\n",
       "</div>"
      ],
      "text/plain": [
       "  Мерч в качестве бонуса мотивировал бы вас лучше учиться?     %\n",
       "0                                                 Да        75.0\n",
       "1                                                Нет        25.0"
      ]
     },
     "execution_count": 126,
     "metadata": {},
     "output_type": "execute_result"
    }
   ],
   "source": [
    "df_f_40_49_Four_City_17 = round(df_f_40_49_Four_City.iloc[:,[17]].value_counts() / df_f_40_49_Four_City.iloc[:,[17]].value_counts().sum() * 100, 1).reset_index()\n",
    "df_f_40_49_Four_City_17.columns = ['Мерч в качестве бонуса мотивировал бы вас лучше учиться?', '%']\n",
    "print('Доверительный интервал:', mean_confidence_interval(df_f_40_49_Four_City_17['%'], 0.4999))\n",
    "df_f_40_49_Four_City_17"
   ]
  },
  {
   "cell_type": "code",
   "execution_count": 127,
   "metadata": {},
   "outputs": [
    {
     "name": "stdout",
     "output_type": "stream",
     "text": [
      "Доверительный интервал: (3.000942329742839, 6.0, 8.99905767025716)\n"
     ]
    },
    {
     "data": {
      "text/html": [
       "<div>\n",
       "<style scoped>\n",
       "    .dataframe tbody tr th:only-of-type {\n",
       "        vertical-align: middle;\n",
       "    }\n",
       "\n",
       "    .dataframe tbody tr th {\n",
       "        vertical-align: top;\n",
       "    }\n",
       "\n",
       "    .dataframe thead th {\n",
       "        text-align: right;\n",
       "    }\n",
       "</style>\n",
       "<table border=\"1\" class=\"dataframe\">\n",
       "  <thead>\n",
       "    <tr style=\"text-align: right;\">\n",
       "      <th></th>\n",
       "      <th>Мерч в качестве бонуса мотивировал бы вас лучше учиться?</th>\n",
       "      <th>Count</th>\n",
       "    </tr>\n",
       "  </thead>\n",
       "  <tbody>\n",
       "    <tr>\n",
       "      <th>0</th>\n",
       "      <td>Да</td>\n",
       "      <td>9</td>\n",
       "    </tr>\n",
       "    <tr>\n",
       "      <th>1</th>\n",
       "      <td>Нет</td>\n",
       "      <td>3</td>\n",
       "    </tr>\n",
       "  </tbody>\n",
       "</table>\n",
       "</div>"
      ],
      "text/plain": [
       "  Мерч в качестве бонуса мотивировал бы вас лучше учиться?  Count\n",
       "0                                                 Да            9\n",
       "1                                                Нет            3"
      ]
     },
     "execution_count": 127,
     "metadata": {},
     "output_type": "execute_result"
    }
   ],
   "source": [
    "f_40_49_Four_City_17 = df_f_40_49_Four_City.iloc[:,[17]].value_counts().reset_index()\n",
    "f_40_49_Four_City_17.columns = ['Мерч в качестве бонуса мотивировал бы вас лучше учиться?', 'Count']\n",
    "print('Доверительный интервал:', mean_confidence_interval(f_40_49_Four_City_17['Count'], 0.4999))\n",
    "f_40_49_Four_City_17"
   ]
  },
  {
   "cell_type": "code",
   "execution_count": null,
   "metadata": {},
   "outputs": [],
   "source": [
    "\n"
   ]
  },
  {
   "cell_type": "code",
   "execution_count": 128,
   "metadata": {},
   "outputs": [
    {
     "name": "stdout",
     "output_type": "stream",
     "text": [
      "Доверительный интервал: (33.30524563556847, 50.0, 66.69475436443153)\n"
     ]
    },
    {
     "data": {
      "text/html": [
       "<div>\n",
       "<style scoped>\n",
       "    .dataframe tbody tr th:only-of-type {\n",
       "        vertical-align: middle;\n",
       "    }\n",
       "\n",
       "    .dataframe tbody tr th {\n",
       "        vertical-align: top;\n",
       "    }\n",
       "\n",
       "    .dataframe thead th {\n",
       "        text-align: right;\n",
       "    }\n",
       "</style>\n",
       "<table border=\"1\" class=\"dataframe\">\n",
       "  <thead>\n",
       "    <tr style=\"text-align: right;\">\n",
       "      <th></th>\n",
       "      <th>Вам важно, чтобы мерч был уникальным продуктом, который больше ни у кого не встретишь?</th>\n",
       "      <th>%</th>\n",
       "    </tr>\n",
       "  </thead>\n",
       "  <tbody>\n",
       "    <tr>\n",
       "      <th>0</th>\n",
       "      <td>Да</td>\n",
       "      <td>66.7</td>\n",
       "    </tr>\n",
       "    <tr>\n",
       "      <th>1</th>\n",
       "      <td>Нет</td>\n",
       "      <td>33.3</td>\n",
       "    </tr>\n",
       "  </tbody>\n",
       "</table>\n",
       "</div>"
      ],
      "text/plain": [
       "  Вам важно, чтобы мерч был уникальным продуктом, который больше ни у кого не встретишь?  \\\n",
       "0                                                 Да                                       \n",
       "1                                                Нет                                       \n",
       "\n",
       "      %  \n",
       "0  66.7  \n",
       "1  33.3  "
      ]
     },
     "execution_count": 128,
     "metadata": {},
     "output_type": "execute_result"
    }
   ],
   "source": [
    "df_f_40_49_Four_City_18 = round(df_f_40_49_Four_City.iloc[:,[18]].value_counts() / df_f_40_49_Four_City.iloc[:,[18]].value_counts().sum() * 100, 1).reset_index()\n",
    "df_f_40_49_Four_City_18.columns = ['Вам важно, чтобы мерч был уникальным продуктом, который больше ни у кого не встретишь?', '%']\n",
    "print('Доверительный интервал:', mean_confidence_interval(df_f_40_49_Four_City_18['%'], 0.4999))\n",
    "df_f_40_49_Four_City_18"
   ]
  },
  {
   "cell_type": "code",
   "execution_count": 129,
   "metadata": {},
   "outputs": [
    {
     "name": "stdout",
     "output_type": "stream",
     "text": [
      "Доверительный интервал: (4.00062821982856, 6.0, 7.99937178017144)\n"
     ]
    },
    {
     "data": {
      "text/html": [
       "<div>\n",
       "<style scoped>\n",
       "    .dataframe tbody tr th:only-of-type {\n",
       "        vertical-align: middle;\n",
       "    }\n",
       "\n",
       "    .dataframe tbody tr th {\n",
       "        vertical-align: top;\n",
       "    }\n",
       "\n",
       "    .dataframe thead th {\n",
       "        text-align: right;\n",
       "    }\n",
       "</style>\n",
       "<table border=\"1\" class=\"dataframe\">\n",
       "  <thead>\n",
       "    <tr style=\"text-align: right;\">\n",
       "      <th></th>\n",
       "      <th>Вам важно, чтобы мерч был уникальным продуктом, который больше ни у кого не встретишь?</th>\n",
       "      <th>Count</th>\n",
       "    </tr>\n",
       "  </thead>\n",
       "  <tbody>\n",
       "    <tr>\n",
       "      <th>0</th>\n",
       "      <td>Да</td>\n",
       "      <td>8</td>\n",
       "    </tr>\n",
       "    <tr>\n",
       "      <th>1</th>\n",
       "      <td>Нет</td>\n",
       "      <td>4</td>\n",
       "    </tr>\n",
       "  </tbody>\n",
       "</table>\n",
       "</div>"
      ],
      "text/plain": [
       "  Вам важно, чтобы мерч был уникальным продуктом, который больше ни у кого не встретишь?  \\\n",
       "0                                                 Да                                       \n",
       "1                                                Нет                                       \n",
       "\n",
       "   Count  \n",
       "0      8  \n",
       "1      4  "
      ]
     },
     "execution_count": 129,
     "metadata": {},
     "output_type": "execute_result"
    }
   ],
   "source": [
    "f_40_49_Four_City_18 = df_f_40_49_Four_City.iloc[:,[18]].value_counts().reset_index()\n",
    "f_40_49_Four_City_18.columns = ['Вам важно, чтобы мерч был уникальным продуктом, который больше ни у кого не встретишь?', 'Count']\n",
    "print('Доверительный интервал:', mean_confidence_interval(f_40_49_Four_City_18['Count'], 0.4999))\n",
    "f_40_49_Four_City_18"
   ]
  },
  {
   "cell_type": "code",
   "execution_count": null,
   "metadata": {},
   "outputs": [],
   "source": [
    "\n"
   ]
  },
  {
   "cell_type": "code",
   "execution_count": 130,
   "metadata": {},
   "outputs": [
    {
     "name": "stdout",
     "output_type": "stream",
     "text": [
      "Доверительный интервал: (33.30524563556847, 50.0, 66.69475436443153)\n"
     ]
    },
    {
     "data": {
      "text/html": [
       "<div>\n",
       "<style scoped>\n",
       "    .dataframe tbody tr th:only-of-type {\n",
       "        vertical-align: middle;\n",
       "    }\n",
       "\n",
       "    .dataframe tbody tr th {\n",
       "        vertical-align: top;\n",
       "    }\n",
       "\n",
       "    .dataframe thead th {\n",
       "        text-align: right;\n",
       "    }\n",
       "</style>\n",
       "<table border=\"1\" class=\"dataframe\">\n",
       "  <thead>\n",
       "    <tr style=\"text-align: right;\">\n",
       "      <th></th>\n",
       "      <th>Вы готовы платить за лимитированный мерч? Лимитированная коллекция - та, которая выпускается один раз ограниченным тиражом</th>\n",
       "      <th>%</th>\n",
       "    </tr>\n",
       "  </thead>\n",
       "  <tbody>\n",
       "    <tr>\n",
       "      <th>0</th>\n",
       "      <td>Да</td>\n",
       "      <td>66.7</td>\n",
       "    </tr>\n",
       "    <tr>\n",
       "      <th>1</th>\n",
       "      <td>Нет</td>\n",
       "      <td>33.3</td>\n",
       "    </tr>\n",
       "  </tbody>\n",
       "</table>\n",
       "</div>"
      ],
      "text/plain": [
       "  Вы готовы платить за лимитированный мерч? Лимитированная коллекция - та, которая выпускается один раз ограниченным тиражом  \\\n",
       "0                                                 Да                                                                           \n",
       "1                                                Нет                                                                           \n",
       "\n",
       "      %  \n",
       "0  66.7  \n",
       "1  33.3  "
      ]
     },
     "execution_count": 130,
     "metadata": {},
     "output_type": "execute_result"
    }
   ],
   "source": [
    "df_f_40_49_Four_City_19 = round(df_f_40_49_Four_City.iloc[:,[19]].value_counts() / df_f_40_49_Four_City.iloc[:,[19]].value_counts().sum() * 100, 1).reset_index()\n",
    "df_f_40_49_Four_City_19.columns = ['Вы готовы платить за лимитированный мерч? Лимитированная коллекция - та, которая выпускается один раз ограниченным тиражом', '%']\n",
    "print('Доверительный интервал:', mean_confidence_interval(df_f_40_49_Four_City_19['%'], 0.4999))\n",
    "df_f_40_49_Four_City_19"
   ]
  },
  {
   "cell_type": "code",
   "execution_count": 131,
   "metadata": {},
   "outputs": [
    {
     "name": "stdout",
     "output_type": "stream",
     "text": [
      "Доверительный интервал: (4.00062821982856, 6.0, 7.99937178017144)\n"
     ]
    },
    {
     "data": {
      "text/html": [
       "<div>\n",
       "<style scoped>\n",
       "    .dataframe tbody tr th:only-of-type {\n",
       "        vertical-align: middle;\n",
       "    }\n",
       "\n",
       "    .dataframe tbody tr th {\n",
       "        vertical-align: top;\n",
       "    }\n",
       "\n",
       "    .dataframe thead th {\n",
       "        text-align: right;\n",
       "    }\n",
       "</style>\n",
       "<table border=\"1\" class=\"dataframe\">\n",
       "  <thead>\n",
       "    <tr style=\"text-align: right;\">\n",
       "      <th></th>\n",
       "      <th>Вы готовы платить за лимитированный мерч? Лимитированная коллекция - та, которая выпускается один раз ограниченным тиражом</th>\n",
       "      <th>Count</th>\n",
       "    </tr>\n",
       "  </thead>\n",
       "  <tbody>\n",
       "    <tr>\n",
       "      <th>0</th>\n",
       "      <td>Да</td>\n",
       "      <td>8</td>\n",
       "    </tr>\n",
       "    <tr>\n",
       "      <th>1</th>\n",
       "      <td>Нет</td>\n",
       "      <td>4</td>\n",
       "    </tr>\n",
       "  </tbody>\n",
       "</table>\n",
       "</div>"
      ],
      "text/plain": [
       "  Вы готовы платить за лимитированный мерч? Лимитированная коллекция - та, которая выпускается один раз ограниченным тиражом  \\\n",
       "0                                                 Да                                                                           \n",
       "1                                                Нет                                                                           \n",
       "\n",
       "   Count  \n",
       "0      8  \n",
       "1      4  "
      ]
     },
     "execution_count": 131,
     "metadata": {},
     "output_type": "execute_result"
    }
   ],
   "source": [
    "f_40_49_Four_City_19 = df_f_40_49_Four_City.iloc[:,[19]].value_counts().reset_index()\n",
    "f_40_49_Four_City_19.columns = ['Вы готовы платить за лимитированный мерч? Лимитированная коллекция - та, которая выпускается один раз ограниченным тиражом', 'Count']\n",
    "print('Доверительный интервал:', mean_confidence_interval(f_40_49_Four_City_19['Count'], 0.4999))\n",
    "f_40_49_Four_City_19"
   ]
  },
  {
   "cell_type": "code",
   "execution_count": null,
   "metadata": {},
   "outputs": [],
   "source": [
    "\n"
   ]
  },
  {
   "cell_type": "code",
   "execution_count": 132,
   "metadata": {},
   "outputs": [
    {
     "name": "stdout",
     "output_type": "stream",
     "text": [
      "Доверительный интервал: (50.0, 50.0, 50.0)\n"
     ]
    },
    {
     "data": {
      "text/html": [
       "<div>\n",
       "<style scoped>\n",
       "    .dataframe tbody tr th:only-of-type {\n",
       "        vertical-align: middle;\n",
       "    }\n",
       "\n",
       "    .dataframe tbody tr th {\n",
       "        vertical-align: top;\n",
       "    }\n",
       "\n",
       "    .dataframe thead th {\n",
       "        text-align: right;\n",
       "    }\n",
       "</style>\n",
       "<table border=\"1\" class=\"dataframe\">\n",
       "  <thead>\n",
       "    <tr style=\"text-align: right;\">\n",
       "      <th></th>\n",
       "      <th>Обращаете ли вы внимание на экологичность товаров при покупке вещей?</th>\n",
       "      <th>%</th>\n",
       "    </tr>\n",
       "  </thead>\n",
       "  <tbody>\n",
       "    <tr>\n",
       "      <th>0</th>\n",
       "      <td>Нет, для меня это неважный критерий при выборе...</td>\n",
       "      <td>50.0</td>\n",
       "    </tr>\n",
       "    <tr>\n",
       "      <th>1</th>\n",
       "      <td>Да, большая часть моих вещей - экологичные</td>\n",
       "      <td>50.0</td>\n",
       "    </tr>\n",
       "  </tbody>\n",
       "</table>\n",
       "</div>"
      ],
      "text/plain": [
       "  Обращаете ли вы внимание на экологичность товаров при покупке вещей?     %\n",
       "0  Нет, для меня это неважный критерий при выборе...                    50.0\n",
       "1         Да, большая часть моих вещей - экологичные                    50.0"
      ]
     },
     "execution_count": 132,
     "metadata": {},
     "output_type": "execute_result"
    }
   ],
   "source": [
    "df_f_40_49_Four_City_20 = round(df_f_40_49_Four_City.iloc[:,[20]].value_counts() / df_f_40_49_Four_City.iloc[:,[20]].value_counts().sum() * 100, 1).reset_index()\n",
    "df_f_40_49_Four_City_20.columns = ['Обращаете ли вы внимание на экологичность товаров при покупке вещей?', '%']\n",
    "print('Доверительный интервал:', mean_confidence_interval(df_f_40_49_Four_City_20['%'], 0.999))\n",
    "df_f_40_49_Four_City_20"
   ]
  },
  {
   "cell_type": "code",
   "execution_count": 133,
   "metadata": {},
   "outputs": [
    {
     "name": "stdout",
     "output_type": "stream",
     "text": [
      "Доверительный интервал: (6.0, 6.0, 6.0)\n"
     ]
    },
    {
     "data": {
      "text/html": [
       "<div>\n",
       "<style scoped>\n",
       "    .dataframe tbody tr th:only-of-type {\n",
       "        vertical-align: middle;\n",
       "    }\n",
       "\n",
       "    .dataframe tbody tr th {\n",
       "        vertical-align: top;\n",
       "    }\n",
       "\n",
       "    .dataframe thead th {\n",
       "        text-align: right;\n",
       "    }\n",
       "</style>\n",
       "<table border=\"1\" class=\"dataframe\">\n",
       "  <thead>\n",
       "    <tr style=\"text-align: right;\">\n",
       "      <th></th>\n",
       "      <th>Обращаете ли вы внимание на экологичность товаров при покупке вещей?</th>\n",
       "      <th>Count</th>\n",
       "    </tr>\n",
       "  </thead>\n",
       "  <tbody>\n",
       "    <tr>\n",
       "      <th>0</th>\n",
       "      <td>Нет, для меня это неважный критерий при выборе...</td>\n",
       "      <td>6</td>\n",
       "    </tr>\n",
       "    <tr>\n",
       "      <th>1</th>\n",
       "      <td>Да, большая часть моих вещей - экологичные</td>\n",
       "      <td>6</td>\n",
       "    </tr>\n",
       "  </tbody>\n",
       "</table>\n",
       "</div>"
      ],
      "text/plain": [
       "  Обращаете ли вы внимание на экологичность товаров при покупке вещей?  Count\n",
       "0  Нет, для меня это неважный критерий при выборе...                        6\n",
       "1         Да, большая часть моих вещей - экологичные                        6"
      ]
     },
     "execution_count": 133,
     "metadata": {},
     "output_type": "execute_result"
    }
   ],
   "source": [
    "f_40_49_Four_City_20 = df_f_40_49_Four_City.iloc[:,[20]].value_counts().reset_index()\n",
    "f_40_49_Four_City_20.columns = ['Обращаете ли вы внимание на экологичность товаров при покупке вещей?', 'Count']\n",
    "print('Доверительный интервал:', mean_confidence_interval(f_40_49_Four_City_20['Count'], 0.4999))\n",
    "f_40_49_Four_City_20"
   ]
  },
  {
   "cell_type": "code",
   "execution_count": null,
   "metadata": {},
   "outputs": [],
   "source": [
    "\n"
   ]
  },
  {
   "cell_type": "code",
   "execution_count": 134,
   "metadata": {},
   "outputs": [
    {
     "name": "stdout",
     "output_type": "stream",
     "text": [
      "Доверительный интервал: (50.0, 50.0, 50.0)\n"
     ]
    },
    {
     "data": {
      "text/html": [
       "<div>\n",
       "<style scoped>\n",
       "    .dataframe tbody tr th:only-of-type {\n",
       "        vertical-align: middle;\n",
       "    }\n",
       "\n",
       "    .dataframe tbody tr th {\n",
       "        vertical-align: top;\n",
       "    }\n",
       "\n",
       "    .dataframe thead th {\n",
       "        text-align: right;\n",
       "    }\n",
       "</style>\n",
       "<table border=\"1\" class=\"dataframe\">\n",
       "  <thead>\n",
       "    <tr style=\"text-align: right;\">\n",
       "      <th></th>\n",
       "      <th>Вы с большей вероятностью купите мерч, если будете знать, что вырученные средства пойдут на благотворительность?</th>\n",
       "      <th>%</th>\n",
       "    </tr>\n",
       "  </thead>\n",
       "  <tbody>\n",
       "    <tr>\n",
       "      <th>0</th>\n",
       "      <td>Нет</td>\n",
       "      <td>50.0</td>\n",
       "    </tr>\n",
       "    <tr>\n",
       "      <th>1</th>\n",
       "      <td>Да</td>\n",
       "      <td>50.0</td>\n",
       "    </tr>\n",
       "  </tbody>\n",
       "</table>\n",
       "</div>"
      ],
      "text/plain": [
       "  Вы с большей вероятностью купите мерч, если будете знать, что вырученные средства пойдут на благотворительность?  \\\n",
       "0                                                Нет                                                                 \n",
       "1                                                 Да                                                                 \n",
       "\n",
       "      %  \n",
       "0  50.0  \n",
       "1  50.0  "
      ]
     },
     "execution_count": 134,
     "metadata": {},
     "output_type": "execute_result"
    }
   ],
   "source": [
    "df_f_40_49_Four_City_21 = round(df_f_40_49_Four_City.iloc[:,[21]].value_counts() / df_f_40_49_Four_City.iloc[:,[21]].value_counts().sum() * 100, 1).reset_index()\n",
    "df_f_40_49_Four_City_21.columns = ['Вы с большей вероятностью купите мерч, если будете знать, что вырученные средства пойдут на благотворительность?', '%']\n",
    "print('Доверительный интервал:', mean_confidence_interval(df_f_40_49_Four_City_21['%'], 0.999))\n",
    "df_f_40_49_Four_City_21"
   ]
  },
  {
   "cell_type": "code",
   "execution_count": 135,
   "metadata": {},
   "outputs": [
    {
     "name": "stdout",
     "output_type": "stream",
     "text": [
      "Доверительный интервал: (6.0, 6.0, 6.0)\n"
     ]
    },
    {
     "data": {
      "text/html": [
       "<div>\n",
       "<style scoped>\n",
       "    .dataframe tbody tr th:only-of-type {\n",
       "        vertical-align: middle;\n",
       "    }\n",
       "\n",
       "    .dataframe tbody tr th {\n",
       "        vertical-align: top;\n",
       "    }\n",
       "\n",
       "    .dataframe thead th {\n",
       "        text-align: right;\n",
       "    }\n",
       "</style>\n",
       "<table border=\"1\" class=\"dataframe\">\n",
       "  <thead>\n",
       "    <tr style=\"text-align: right;\">\n",
       "      <th></th>\n",
       "      <th>Вы с большей вероятностью купите мерч, если будете знать, что вырученные средства пойдут на благотворительность?</th>\n",
       "      <th>Count</th>\n",
       "    </tr>\n",
       "  </thead>\n",
       "  <tbody>\n",
       "    <tr>\n",
       "      <th>0</th>\n",
       "      <td>Нет</td>\n",
       "      <td>6</td>\n",
       "    </tr>\n",
       "    <tr>\n",
       "      <th>1</th>\n",
       "      <td>Да</td>\n",
       "      <td>6</td>\n",
       "    </tr>\n",
       "  </tbody>\n",
       "</table>\n",
       "</div>"
      ],
      "text/plain": [
       "  Вы с большей вероятностью купите мерч, если будете знать, что вырученные средства пойдут на благотворительность?  \\\n",
       "0                                                Нет                                                                 \n",
       "1                                                 Да                                                                 \n",
       "\n",
       "   Count  \n",
       "0      6  \n",
       "1      6  "
      ]
     },
     "execution_count": 135,
     "metadata": {},
     "output_type": "execute_result"
    }
   ],
   "source": [
    "f_40_49_Four_City_21 = df_f_40_49_Four_City.iloc[:,[21]].value_counts().reset_index()\n",
    "f_40_49_Four_City_21.columns = ['Вы с большей вероятностью купите мерч, если будете знать, что вырученные средства пойдут на благотворительность?', 'Count']\n",
    "print('Доверительный интервал:', mean_confidence_interval(f_40_49_Four_City_21['Count'], 0.4999))\n",
    "f_40_49_Four_City_21"
   ]
  },
  {
   "cell_type": "code",
   "execution_count": null,
   "metadata": {},
   "outputs": [],
   "source": [
    "\n"
   ]
  },
  {
   "cell_type": "code",
   "execution_count": 136,
   "metadata": {},
   "outputs": [
    {
     "name": "stdout",
     "output_type": "stream",
     "text": [
      "Доверительный интервал: (50.0, 50.0, 50.0)\n"
     ]
    },
    {
     "data": {
      "text/html": [
       "<div>\n",
       "<style scoped>\n",
       "    .dataframe tbody tr th:only-of-type {\n",
       "        vertical-align: middle;\n",
       "    }\n",
       "\n",
       "    .dataframe tbody tr th {\n",
       "        vertical-align: top;\n",
       "    }\n",
       "\n",
       "    .dataframe thead th {\n",
       "        text-align: right;\n",
       "    }\n",
       "</style>\n",
       "<table border=\"1\" class=\"dataframe\">\n",
       "  <thead>\n",
       "    <tr style=\"text-align: right;\">\n",
       "      <th></th>\n",
       "      <th>Вы бы купили мерч в подарок для благотворительного фонда/детского дома?</th>\n",
       "      <th>%</th>\n",
       "    </tr>\n",
       "  </thead>\n",
       "  <tbody>\n",
       "    <tr>\n",
       "      <th>0</th>\n",
       "      <td>Нет</td>\n",
       "      <td>50.0</td>\n",
       "    </tr>\n",
       "    <tr>\n",
       "      <th>1</th>\n",
       "      <td>Да</td>\n",
       "      <td>50.0</td>\n",
       "    </tr>\n",
       "  </tbody>\n",
       "</table>\n",
       "</div>"
      ],
      "text/plain": [
       "  Вы бы купили мерч в подарок для благотворительного фонда/детского дома?  \\\n",
       "0                                                Нет                        \n",
       "1                                                 Да                        \n",
       "\n",
       "      %  \n",
       "0  50.0  \n",
       "1  50.0  "
      ]
     },
     "execution_count": 136,
     "metadata": {},
     "output_type": "execute_result"
    }
   ],
   "source": [
    "df_f_40_49_Four_City_22 = round(df_f_40_49_Four_City.iloc[:,[22]].value_counts() / df_f_40_49_Four_City.iloc[:,[22]].value_counts().sum() * 100, 1).reset_index()\n",
    "df_f_40_49_Four_City_22.columns = ['Вы бы купили мерч в подарок для благотворительного фонда/детского дома?', '%']\n",
    "print('Доверительный интервал:', mean_confidence_interval(df_f_40_49_Four_City_22['%'], 0.999))\n",
    "df_f_40_49_Four_City_22"
   ]
  },
  {
   "cell_type": "code",
   "execution_count": 137,
   "metadata": {},
   "outputs": [
    {
     "name": "stdout",
     "output_type": "stream",
     "text": [
      "Доверительный интервал: (6.0, 6.0, 6.0)\n"
     ]
    },
    {
     "data": {
      "text/html": [
       "<div>\n",
       "<style scoped>\n",
       "    .dataframe tbody tr th:only-of-type {\n",
       "        vertical-align: middle;\n",
       "    }\n",
       "\n",
       "    .dataframe tbody tr th {\n",
       "        vertical-align: top;\n",
       "    }\n",
       "\n",
       "    .dataframe thead th {\n",
       "        text-align: right;\n",
       "    }\n",
       "</style>\n",
       "<table border=\"1\" class=\"dataframe\">\n",
       "  <thead>\n",
       "    <tr style=\"text-align: right;\">\n",
       "      <th></th>\n",
       "      <th>Вы бы купили мерч в подарок для благотворительного фонда/детского дома?</th>\n",
       "      <th>Count</th>\n",
       "    </tr>\n",
       "  </thead>\n",
       "  <tbody>\n",
       "    <tr>\n",
       "      <th>0</th>\n",
       "      <td>Нет</td>\n",
       "      <td>6</td>\n",
       "    </tr>\n",
       "    <tr>\n",
       "      <th>1</th>\n",
       "      <td>Да</td>\n",
       "      <td>6</td>\n",
       "    </tr>\n",
       "  </tbody>\n",
       "</table>\n",
       "</div>"
      ],
      "text/plain": [
       "  Вы бы купили мерч в подарок для благотворительного фонда/детского дома?  \\\n",
       "0                                                Нет                        \n",
       "1                                                 Да                        \n",
       "\n",
       "   Count  \n",
       "0      6  \n",
       "1      6  "
      ]
     },
     "execution_count": 137,
     "metadata": {},
     "output_type": "execute_result"
    }
   ],
   "source": [
    "f_40_49_Four_City_22 = df_f_40_49_Four_City.iloc[:,[22]].value_counts().reset_index()\n",
    "f_40_49_Four_City_22.columns = ['Вы бы купили мерч в подарок для благотворительного фонда/детского дома?', 'Count']\n",
    "print('Доверительный интервал:', mean_confidence_interval(f_40_49_Four_City_22['Count'], 0.4999))\n",
    "f_40_49_Four_City_22"
   ]
  },
  {
   "cell_type": "code",
   "execution_count": null,
   "metadata": {},
   "outputs": [],
   "source": []
  },
  {
   "cell_type": "markdown",
   "metadata": {},
   "source": [
    "# =============================================================\n"
   ]
  },
  {
   "cell_type": "markdown",
   "metadata": {},
   "source": [
    "## Все мужчины (42 человека)"
   ]
  },
  {
   "cell_type": "code",
   "execution_count": 138,
   "metadata": {},
   "outputs": [],
   "source": [
    "m = df.loc[df['Укажите ваш пол'] == 'Мужской']\n"
   ]
  },
  {
   "cell_type": "markdown",
   "metadata": {},
   "source": [
    "### Все мужчины по возрастным категориям"
   ]
  },
  {
   "cell_type": "code",
   "execution_count": 139,
   "metadata": {},
   "outputs": [
    {
     "data": {
      "text/html": [
       "<div>\n",
       "<style scoped>\n",
       "    .dataframe tbody tr th:only-of-type {\n",
       "        vertical-align: middle;\n",
       "    }\n",
       "\n",
       "    .dataframe tbody tr th {\n",
       "        vertical-align: top;\n",
       "    }\n",
       "\n",
       "    .dataframe thead th {\n",
       "        text-align: right;\n",
       "    }\n",
       "</style>\n",
       "<table border=\"1\" class=\"dataframe\">\n",
       "  <thead>\n",
       "    <tr style=\"text-align: right;\">\n",
       "      <th></th>\n",
       "      <th>Отметка времени</th>\n",
       "    </tr>\n",
       "    <tr>\n",
       "      <th>Укажите ваш возраст</th>\n",
       "      <th></th>\n",
       "    </tr>\n",
       "  </thead>\n",
       "  <tbody>\n",
       "    <tr>\n",
       "      <th>30-39 лет</th>\n",
       "      <td>14</td>\n",
       "    </tr>\n",
       "    <tr>\n",
       "      <th>40-49 лет</th>\n",
       "      <td>11</td>\n",
       "    </tr>\n",
       "    <tr>\n",
       "      <th>23-29 лет</th>\n",
       "      <td>6</td>\n",
       "    </tr>\n",
       "    <tr>\n",
       "      <th>18-22 лет</th>\n",
       "      <td>5</td>\n",
       "    </tr>\n",
       "    <tr>\n",
       "      <th>больше 50 лет</th>\n",
       "      <td>4</td>\n",
       "    </tr>\n",
       "    <tr>\n",
       "      <th>до 18 лет</th>\n",
       "      <td>3</td>\n",
       "    </tr>\n",
       "  </tbody>\n",
       "</table>\n",
       "</div>"
      ],
      "text/plain": [
       "                     Отметка времени\n",
       "Укажите ваш возраст                 \n",
       "30-39 лет                         14\n",
       "40-49 лет                         11\n",
       "23-29 лет                          6\n",
       "18-22 лет                          5\n",
       "больше 50 лет                      4\n",
       "до 18 лет                          3"
      ]
     },
     "execution_count": 139,
     "metadata": {},
     "output_type": "execute_result"
    }
   ],
   "source": [
    "m.groupby('Укажите ваш возраст').count()[['Отметка времени']].sort_values('Отметка времени', ascending=False)"
   ]
  },
  {
   "cell_type": "code",
   "execution_count": 140,
   "metadata": {},
   "outputs": [
    {
     "data": {
      "text/html": [
       "<div>\n",
       "<style scoped>\n",
       "    .dataframe tbody tr th:only-of-type {\n",
       "        vertical-align: middle;\n",
       "    }\n",
       "\n",
       "    .dataframe tbody tr th {\n",
       "        vertical-align: top;\n",
       "    }\n",
       "\n",
       "    .dataframe thead th {\n",
       "        text-align: right;\n",
       "    }\n",
       "</style>\n",
       "<table border=\"1\" class=\"dataframe\">\n",
       "  <thead>\n",
       "    <tr style=\"text-align: right;\">\n",
       "      <th></th>\n",
       "      <th>Укажите ваш возраст</th>\n",
       "      <th>Муж., %</th>\n",
       "    </tr>\n",
       "  </thead>\n",
       "  <tbody>\n",
       "    <tr>\n",
       "      <th>0</th>\n",
       "      <td>30-39 лет</td>\n",
       "      <td>32.6</td>\n",
       "    </tr>\n",
       "    <tr>\n",
       "      <th>1</th>\n",
       "      <td>40-49 лет</td>\n",
       "      <td>25.6</td>\n",
       "    </tr>\n",
       "    <tr>\n",
       "      <th>2</th>\n",
       "      <td>23-29 лет</td>\n",
       "      <td>14.0</td>\n",
       "    </tr>\n",
       "    <tr>\n",
       "      <th>3</th>\n",
       "      <td>18-22 лет</td>\n",
       "      <td>11.6</td>\n",
       "    </tr>\n",
       "    <tr>\n",
       "      <th>4</th>\n",
       "      <td>больше 50 лет</td>\n",
       "      <td>9.3</td>\n",
       "    </tr>\n",
       "    <tr>\n",
       "      <th>5</th>\n",
       "      <td>до 18 лет</td>\n",
       "      <td>7.0</td>\n",
       "    </tr>\n",
       "  </tbody>\n",
       "</table>\n",
       "</div>"
      ],
      "text/plain": [
       "  Укажите ваш возраст  Муж., %\n",
       "0           30-39 лет     32.6\n",
       "1           40-49 лет     25.6\n",
       "2           23-29 лет     14.0\n",
       "3           18-22 лет     11.6\n",
       "4       больше 50 лет      9.3\n",
       "5           до 18 лет      7.0"
      ]
     },
     "execution_count": 140,
     "metadata": {},
     "output_type": "execute_result"
    }
   ],
   "source": [
    "m_age = round(m.iloc[:,[1]].value_counts() / m.iloc[:,[1]].value_counts().sum() * 100, 1).reset_index()\n",
    "m_age.columns = ['Укажите ваш возраст', 'Муж., %']\n",
    "m_age"
   ]
  },
  {
   "cell_type": "markdown",
   "metadata": {},
   "source": [
    "### Все мужчины по городам проживания"
   ]
  },
  {
   "cell_type": "code",
   "execution_count": 141,
   "metadata": {},
   "outputs": [
    {
     "data": {
      "text/html": [
       "<div>\n",
       "<style scoped>\n",
       "    .dataframe tbody tr th:only-of-type {\n",
       "        vertical-align: middle;\n",
       "    }\n",
       "\n",
       "    .dataframe tbody tr th {\n",
       "        vertical-align: top;\n",
       "    }\n",
       "\n",
       "    .dataframe thead th {\n",
       "        text-align: right;\n",
       "    }\n",
       "</style>\n",
       "<table border=\"1\" class=\"dataframe\">\n",
       "  <thead>\n",
       "    <tr style=\"text-align: right;\">\n",
       "      <th></th>\n",
       "      <th>Отметка времени</th>\n",
       "    </tr>\n",
       "    <tr>\n",
       "      <th>Укажите ваш город</th>\n",
       "      <th></th>\n",
       "    </tr>\n",
       "  </thead>\n",
       "  <tbody>\n",
       "    <tr>\n",
       "      <th>Москва</th>\n",
       "      <td>10</td>\n",
       "    </tr>\n",
       "    <tr>\n",
       "      <th>Самара</th>\n",
       "      <td>4</td>\n",
       "    </tr>\n",
       "    <tr>\n",
       "      <th>Санкт-Петербург</th>\n",
       "      <td>3</td>\n",
       "    </tr>\n",
       "    <tr>\n",
       "      <th>Чехов</th>\n",
       "      <td>3</td>\n",
       "    </tr>\n",
       "    <tr>\n",
       "      <th>Минск</th>\n",
       "      <td>2</td>\n",
       "    </tr>\n",
       "    <tr>\n",
       "      <th>Симферополь</th>\n",
       "      <td>2</td>\n",
       "    </tr>\n",
       "    <tr>\n",
       "      <th>Екатеринбург</th>\n",
       "      <td>1</td>\n",
       "    </tr>\n",
       "    <tr>\n",
       "      <th>Ростов-на-Дону</th>\n",
       "      <td>1</td>\n",
       "    </tr>\n",
       "    <tr>\n",
       "      <th>Черемхово</th>\n",
       "      <td>1</td>\n",
       "    </tr>\n",
       "    <tr>\n",
       "      <th>Ульяновск</th>\n",
       "      <td>1</td>\n",
       "    </tr>\n",
       "  </tbody>\n",
       "</table>\n",
       "</div>"
      ],
      "text/plain": [
       "                   Отметка времени\n",
       "Укажите ваш город                 \n",
       "Москва                          10\n",
       "Самара                           4\n",
       "Санкт-Петербург                  3\n",
       "Чехов                            3\n",
       "Минск                            2\n",
       "Симферополь                      2\n",
       "Екатеринбург                     1\n",
       "Ростов-на-Дону                   1\n",
       "Черемхово                        1\n",
       "Ульяновск                        1"
      ]
     },
     "execution_count": 141,
     "metadata": {},
     "output_type": "execute_result"
    }
   ],
   "source": [
    "m.groupby('Укажите ваш город').count()[['Отметка времени']].sort_values('Отметка времени', ascending=False).head(10)"
   ]
  },
  {
   "cell_type": "code",
   "execution_count": 142,
   "metadata": {},
   "outputs": [
    {
     "data": {
      "text/html": [
       "<div>\n",
       "<style scoped>\n",
       "    .dataframe tbody tr th:only-of-type {\n",
       "        vertical-align: middle;\n",
       "    }\n",
       "\n",
       "    .dataframe tbody tr th {\n",
       "        vertical-align: top;\n",
       "    }\n",
       "\n",
       "    .dataframe thead th {\n",
       "        text-align: right;\n",
       "    }\n",
       "</style>\n",
       "<table border=\"1\" class=\"dataframe\">\n",
       "  <thead>\n",
       "    <tr style=\"text-align: right;\">\n",
       "      <th></th>\n",
       "      <th>Укажите ваш город</th>\n",
       "      <th>Муж., %</th>\n",
       "    </tr>\n",
       "  </thead>\n",
       "  <tbody>\n",
       "    <tr>\n",
       "      <th>0</th>\n",
       "      <td>Москва</td>\n",
       "      <td>23.3</td>\n",
       "    </tr>\n",
       "    <tr>\n",
       "      <th>1</th>\n",
       "      <td>Самара</td>\n",
       "      <td>9.3</td>\n",
       "    </tr>\n",
       "    <tr>\n",
       "      <th>2</th>\n",
       "      <td>Санкт-Петербург</td>\n",
       "      <td>7.0</td>\n",
       "    </tr>\n",
       "    <tr>\n",
       "      <th>3</th>\n",
       "      <td>Чехов</td>\n",
       "      <td>7.0</td>\n",
       "    </tr>\n",
       "    <tr>\n",
       "      <th>4</th>\n",
       "      <td>Симферополь</td>\n",
       "      <td>4.7</td>\n",
       "    </tr>\n",
       "    <tr>\n",
       "      <th>5</th>\n",
       "      <td>Минск</td>\n",
       "      <td>4.7</td>\n",
       "    </tr>\n",
       "    <tr>\n",
       "      <th>6</th>\n",
       "      <td>Тольятти</td>\n",
       "      <td>2.3</td>\n",
       "    </tr>\n",
       "    <tr>\n",
       "      <th>7</th>\n",
       "      <td>Краснодар</td>\n",
       "      <td>2.3</td>\n",
       "    </tr>\n",
       "    <tr>\n",
       "      <th>8</th>\n",
       "      <td>Владивосток</td>\n",
       "      <td>2.3</td>\n",
       "    </tr>\n",
       "    <tr>\n",
       "      <th>9</th>\n",
       "      <td>Владимир</td>\n",
       "      <td>2.3</td>\n",
       "    </tr>\n",
       "  </tbody>\n",
       "</table>\n",
       "</div>"
      ],
      "text/plain": [
       "  Укажите ваш город  Муж., %\n",
       "0            Москва     23.3\n",
       "1            Самара      9.3\n",
       "2   Санкт-Петербург      7.0\n",
       "3             Чехов      7.0\n",
       "4       Симферополь      4.7\n",
       "5             Минск      4.7\n",
       "6         Тольятти       2.3\n",
       "7         Краснодар      2.3\n",
       "8       Владивосток      2.3\n",
       "9          Владимир      2.3"
      ]
     },
     "execution_count": 142,
     "metadata": {},
     "output_type": "execute_result"
    }
   ],
   "source": [
    "m_city = round(m.iloc[:,[3]].value_counts() / m.iloc[:,[3]].value_counts().sum() * 100, 1).reset_index()\n",
    "m_city.columns = ['Укажите ваш город', 'Муж., %']\n",
    "m_city.head(10)"
   ]
  },
  {
   "cell_type": "code",
   "execution_count": 143,
   "metadata": {},
   "outputs": [
    {
     "name": "stdout",
     "output_type": "stream",
     "text": [
      "Доверительный интервал: (9.499563773555828, 33.333333333333336, 57.167102893110844)\n"
     ]
    },
    {
     "data": {
      "text/html": [
       "<div>\n",
       "<style scoped>\n",
       "    .dataframe tbody tr th:only-of-type {\n",
       "        vertical-align: middle;\n",
       "    }\n",
       "\n",
       "    .dataframe tbody tr th {\n",
       "        vertical-align: top;\n",
       "    }\n",
       "\n",
       "    .dataframe thead th {\n",
       "        text-align: right;\n",
       "    }\n",
       "</style>\n",
       "<table border=\"1\" class=\"dataframe\">\n",
       "  <thead>\n",
       "    <tr style=\"text-align: right;\">\n",
       "      <th></th>\n",
       "      <th>Какая цветовая гамма интернет-магазина вам нравится?</th>\n",
       "      <th>%</th>\n",
       "    </tr>\n",
       "  </thead>\n",
       "  <tbody>\n",
       "    <tr>\n",
       "      <th>0</th>\n",
       "      <td>Сдержанные оттенки (белый, черный, серый)</td>\n",
       "      <td>60.5</td>\n",
       "    </tr>\n",
       "    <tr>\n",
       "      <th>1</th>\n",
       "      <td>Яркая (синий, красный, зеленый и тд.)</td>\n",
       "      <td>30.2</td>\n",
       "    </tr>\n",
       "    <tr>\n",
       "      <th>2</th>\n",
       "      <td>Неважно</td>\n",
       "      <td>9.3</td>\n",
       "    </tr>\n",
       "  </tbody>\n",
       "</table>\n",
       "</div>"
      ],
      "text/plain": [
       "  Какая цветовая гамма интернет-магазина вам нравится?     %\n",
       "0          Сдержанные оттенки (белый, черный, серый)    60.5\n",
       "1              Яркая (синий, красный, зеленый и тд.)    30.2\n",
       "2                                            Неважно     9.3"
      ]
     },
     "execution_count": 143,
     "metadata": {},
     "output_type": "execute_result"
    }
   ],
   "source": [
    "df_m_4 = round(m.iloc[:,[4]].value_counts() / m.iloc[:,[4]].value_counts().sum() * 100, 1).reset_index()\n",
    "df_m_4.columns = ['Какая цветовая гамма интернет-магазина вам нравится?', '%']\n",
    "print('Доверительный интервал:', mean_confidence_interval(df_m_4['%'], 0.75))\n",
    "df_m_4"
   ]
  },
  {
   "cell_type": "code",
   "execution_count": 144,
   "metadata": {},
   "outputs": [
    {
     "name": "stdout",
     "output_type": "stream",
     "text": [
      "Доверительный интервал: (4.093355654786185, 14.333333333333334, 24.573311011880485)\n"
     ]
    },
    {
     "data": {
      "text/html": [
       "<div>\n",
       "<style scoped>\n",
       "    .dataframe tbody tr th:only-of-type {\n",
       "        vertical-align: middle;\n",
       "    }\n",
       "\n",
       "    .dataframe tbody tr th {\n",
       "        vertical-align: top;\n",
       "    }\n",
       "\n",
       "    .dataframe thead th {\n",
       "        text-align: right;\n",
       "    }\n",
       "</style>\n",
       "<table border=\"1\" class=\"dataframe\">\n",
       "  <thead>\n",
       "    <tr style=\"text-align: right;\">\n",
       "      <th></th>\n",
       "      <th>Какая цветовая гамма интернет-магазина вам нравится?</th>\n",
       "      <th>Count</th>\n",
       "    </tr>\n",
       "  </thead>\n",
       "  <tbody>\n",
       "    <tr>\n",
       "      <th>0</th>\n",
       "      <td>Сдержанные оттенки (белый, черный, серый)</td>\n",
       "      <td>26</td>\n",
       "    </tr>\n",
       "    <tr>\n",
       "      <th>1</th>\n",
       "      <td>Яркая (синий, красный, зеленый и тд.)</td>\n",
       "      <td>13</td>\n",
       "    </tr>\n",
       "    <tr>\n",
       "      <th>2</th>\n",
       "      <td>Неважно</td>\n",
       "      <td>4</td>\n",
       "    </tr>\n",
       "  </tbody>\n",
       "</table>\n",
       "</div>"
      ],
      "text/plain": [
       "  Какая цветовая гамма интернет-магазина вам нравится?  Count\n",
       "0          Сдержанные оттенки (белый, черный, серый)       26\n",
       "1              Яркая (синий, красный, зеленый и тд.)       13\n",
       "2                                            Неважно        4"
      ]
     },
     "execution_count": 144,
     "metadata": {},
     "output_type": "execute_result"
    }
   ],
   "source": [
    "m_4 = m.iloc[:,[4]].value_counts().reset_index()\n",
    "m_4.columns = ['Какая цветовая гамма интернет-магазина вам нравится?', 'Count']\n",
    "print('Доверительный интервал:', mean_confidence_interval(m_4['Count'], 0.75))\n",
    "m_4"
   ]
  },
  {
   "cell_type": "code",
   "execution_count": null,
   "metadata": {},
   "outputs": [],
   "source": [
    "\n"
   ]
  },
  {
   "cell_type": "code",
   "execution_count": 145,
   "metadata": {},
   "outputs": [
    {
     "name": "stdout",
     "output_type": "stream",
     "text": [
      "Доверительный интервал: (11.865398006582913, 25.0, 38.134601993417085)\n"
     ]
    },
    {
     "data": {
      "text/html": [
       "<div>\n",
       "<style scoped>\n",
       "    .dataframe tbody tr th:only-of-type {\n",
       "        vertical-align: middle;\n",
       "    }\n",
       "\n",
       "    .dataframe tbody tr th {\n",
       "        vertical-align: top;\n",
       "    }\n",
       "\n",
       "    .dataframe thead th {\n",
       "        text-align: right;\n",
       "    }\n",
       "</style>\n",
       "<table border=\"1\" class=\"dataframe\">\n",
       "  <thead>\n",
       "    <tr style=\"text-align: right;\">\n",
       "      <th></th>\n",
       "      <th>Сколько по времени вы готовы ждать свой заказ?</th>\n",
       "      <th>%</th>\n",
       "    </tr>\n",
       "  </thead>\n",
       "  <tbody>\n",
       "    <tr>\n",
       "      <th>0</th>\n",
       "      <td>4-7 рабочих дней</td>\n",
       "      <td>39.5</td>\n",
       "    </tr>\n",
       "    <tr>\n",
       "      <th>1</th>\n",
       "      <td>1-3 рабочих дня</td>\n",
       "      <td>37.2</td>\n",
       "    </tr>\n",
       "    <tr>\n",
       "      <th>2</th>\n",
       "      <td>более 7 рабочих дней</td>\n",
       "      <td>14.0</td>\n",
       "    </tr>\n",
       "    <tr>\n",
       "      <th>3</th>\n",
       "      <td>Неважно</td>\n",
       "      <td>9.3</td>\n",
       "    </tr>\n",
       "  </tbody>\n",
       "</table>\n",
       "</div>"
      ],
      "text/plain": [
       "  Сколько по времени вы готовы ждать свой заказ?     %\n",
       "0                               4-7 рабочих дней  39.5\n",
       "1                                1-3 рабочих дня  37.2\n",
       "2                           более 7 рабочих дней  14.0\n",
       "3                                        Неважно   9.3"
      ]
     },
     "execution_count": 145,
     "metadata": {},
     "output_type": "execute_result"
    }
   ],
   "source": [
    "df_m_5 = round(m.iloc[:,[5]].value_counts() / m.iloc[:,[5]].value_counts().sum() * 100, 1).reset_index()\n",
    "df_m_5.columns = ['Сколько по времени вы готовы ждать свой заказ?', '%']\n",
    "print('Доверительный интервал:', mean_confidence_interval(df_m_5['%'], 0.81))\n",
    "df_m_5"
   ]
  },
  {
   "cell_type": "code",
   "execution_count": 146,
   "metadata": {},
   "outputs": [
    {
     "name": "stdout",
     "output_type": "stream",
     "text": [
      "Доверительный интервал: (5.093606889924058, 10.75, 16.406393110075943)\n"
     ]
    },
    {
     "data": {
      "text/html": [
       "<div>\n",
       "<style scoped>\n",
       "    .dataframe tbody tr th:only-of-type {\n",
       "        vertical-align: middle;\n",
       "    }\n",
       "\n",
       "    .dataframe tbody tr th {\n",
       "        vertical-align: top;\n",
       "    }\n",
       "\n",
       "    .dataframe thead th {\n",
       "        text-align: right;\n",
       "    }\n",
       "</style>\n",
       "<table border=\"1\" class=\"dataframe\">\n",
       "  <thead>\n",
       "    <tr style=\"text-align: right;\">\n",
       "      <th></th>\n",
       "      <th>Сколько по времени вы готовы ждать свой заказ?</th>\n",
       "      <th>Count</th>\n",
       "    </tr>\n",
       "  </thead>\n",
       "  <tbody>\n",
       "    <tr>\n",
       "      <th>0</th>\n",
       "      <td>4-7 рабочих дней</td>\n",
       "      <td>17</td>\n",
       "    </tr>\n",
       "    <tr>\n",
       "      <th>1</th>\n",
       "      <td>1-3 рабочих дня</td>\n",
       "      <td>16</td>\n",
       "    </tr>\n",
       "    <tr>\n",
       "      <th>2</th>\n",
       "      <td>более 7 рабочих дней</td>\n",
       "      <td>6</td>\n",
       "    </tr>\n",
       "    <tr>\n",
       "      <th>3</th>\n",
       "      <td>Неважно</td>\n",
       "      <td>4</td>\n",
       "    </tr>\n",
       "  </tbody>\n",
       "</table>\n",
       "</div>"
      ],
      "text/plain": [
       "  Сколько по времени вы готовы ждать свой заказ?  Count\n",
       "0                               4-7 рабочих дней     17\n",
       "1                                1-3 рабочих дня     16\n",
       "2                           более 7 рабочих дней      6\n",
       "3                                        Неважно      4"
      ]
     },
     "execution_count": 146,
     "metadata": {},
     "output_type": "execute_result"
    }
   ],
   "source": [
    "m_5 = m.iloc[:,[5]].value_counts().reset_index()\n",
    "m_5.columns = ['Сколько по времени вы готовы ждать свой заказ?', 'Count']\n",
    "print('Доверительный интервал:', mean_confidence_interval(m_5['Count'], 0.81))\n",
    "m_5"
   ]
  },
  {
   "cell_type": "code",
   "execution_count": null,
   "metadata": {},
   "outputs": [],
   "source": [
    "\n"
   ]
  },
  {
   "cell_type": "code",
   "execution_count": 147,
   "metadata": {},
   "outputs": [
    {
     "name": "stdout",
     "output_type": "stream",
     "text": [
      "Доверительный интервал: (3.197322135180106, 11.122222222222222, 19.04712230926434)\n"
     ]
    },
    {
     "data": {
      "text/html": [
       "<div>\n",
       "<style scoped>\n",
       "    .dataframe tbody tr th:only-of-type {\n",
       "        vertical-align: middle;\n",
       "    }\n",
       "\n",
       "    .dataframe tbody tr th {\n",
       "        vertical-align: top;\n",
       "    }\n",
       "\n",
       "    .dataframe thead th {\n",
       "        text-align: right;\n",
       "    }\n",
       "</style>\n",
       "<table border=\"1\" class=\"dataframe\">\n",
       "  <thead>\n",
       "    <tr style=\"text-align: right;\">\n",
       "      <th></th>\n",
       "      <th>Что из перечисленного могло бы мотивировать вас к покупке?</th>\n",
       "      <th>%</th>\n",
       "    </tr>\n",
       "  </thead>\n",
       "  <tbody>\n",
       "    <tr>\n",
       "      <th>0</th>\n",
       "      <td>Наличие промокода, Скидка, Система лояльности</td>\n",
       "      <td>25.6</td>\n",
       "    </tr>\n",
       "    <tr>\n",
       "      <th>1</th>\n",
       "      <td>Наличие промокода, Скидка</td>\n",
       "      <td>20.9</td>\n",
       "    </tr>\n",
       "    <tr>\n",
       "      <th>2</th>\n",
       "      <td>Скидка, Система лояльности</td>\n",
       "      <td>14.0</td>\n",
       "    </tr>\n",
       "    <tr>\n",
       "      <th>3</th>\n",
       "      <td>Система лояльности</td>\n",
       "      <td>14.0</td>\n",
       "    </tr>\n",
       "    <tr>\n",
       "      <th>4</th>\n",
       "      <td>Скидка</td>\n",
       "      <td>9.3</td>\n",
       "    </tr>\n",
       "    <tr>\n",
       "      <th>5</th>\n",
       "      <td>Наличие промокода, Система лояльности</td>\n",
       "      <td>7.0</td>\n",
       "    </tr>\n",
       "    <tr>\n",
       "      <th>6</th>\n",
       "      <td>Наличие промокода</td>\n",
       "      <td>4.7</td>\n",
       "    </tr>\n",
       "    <tr>\n",
       "      <th>7</th>\n",
       "      <td>Скидка, Ничего из перечисленного</td>\n",
       "      <td>2.3</td>\n",
       "    </tr>\n",
       "    <tr>\n",
       "      <th>8</th>\n",
       "      <td>Ничего из перечисленного</td>\n",
       "      <td>2.3</td>\n",
       "    </tr>\n",
       "  </tbody>\n",
       "</table>\n",
       "</div>"
      ],
      "text/plain": [
       "  Что из перечисленного могло бы мотивировать вас к покупке?     %\n",
       "0      Наличие промокода, Скидка, Система лояльности          25.6\n",
       "1                          Наличие промокода, Скидка          20.9\n",
       "2                         Скидка, Система лояльности          14.0\n",
       "3                                 Система лояльности          14.0\n",
       "4                                             Скидка           9.3\n",
       "5              Наличие промокода, Система лояльности           7.0\n",
       "6                                  Наличие промокода           4.7\n",
       "7                   Скидка, Ничего из перечисленного           2.3\n",
       "8                           Ничего из перечисленного           2.3"
      ]
     },
     "execution_count": 147,
     "metadata": {},
     "output_type": "execute_result"
    }
   ],
   "source": [
    "df_m_6 = round(m.iloc[:,[6]].value_counts() / m.iloc[:,[6]].value_counts().sum() * 100, 1).reset_index()\n",
    "df_m_6.columns = ['Что из перечисленного могло бы мотивировать вас к покупке?', '%']\n",
    "print('Доверительный интервал:', mean_confidence_interval(df_m_6['%'], 0.98))\n",
    "df_m_6"
   ]
  },
  {
   "cell_type": "code",
   "execution_count": 148,
   "metadata": {},
   "outputs": [
    {
     "name": "stdout",
     "output_type": "stream",
     "text": [
      "Доверительный интервал: (1.3718616141648599, 4.777777777777778, 8.183693941390695)\n"
     ]
    },
    {
     "data": {
      "text/html": [
       "<div>\n",
       "<style scoped>\n",
       "    .dataframe tbody tr th:only-of-type {\n",
       "        vertical-align: middle;\n",
       "    }\n",
       "\n",
       "    .dataframe tbody tr th {\n",
       "        vertical-align: top;\n",
       "    }\n",
       "\n",
       "    .dataframe thead th {\n",
       "        text-align: right;\n",
       "    }\n",
       "</style>\n",
       "<table border=\"1\" class=\"dataframe\">\n",
       "  <thead>\n",
       "    <tr style=\"text-align: right;\">\n",
       "      <th></th>\n",
       "      <th>Что из перечисленного могло бы мотивировать вас к покупке?</th>\n",
       "      <th>Count</th>\n",
       "    </tr>\n",
       "  </thead>\n",
       "  <tbody>\n",
       "    <tr>\n",
       "      <th>0</th>\n",
       "      <td>Наличие промокода, Скидка, Система лояльности</td>\n",
       "      <td>11</td>\n",
       "    </tr>\n",
       "    <tr>\n",
       "      <th>1</th>\n",
       "      <td>Наличие промокода, Скидка</td>\n",
       "      <td>9</td>\n",
       "    </tr>\n",
       "    <tr>\n",
       "      <th>2</th>\n",
       "      <td>Скидка, Система лояльности</td>\n",
       "      <td>6</td>\n",
       "    </tr>\n",
       "    <tr>\n",
       "      <th>3</th>\n",
       "      <td>Система лояльности</td>\n",
       "      <td>6</td>\n",
       "    </tr>\n",
       "    <tr>\n",
       "      <th>4</th>\n",
       "      <td>Скидка</td>\n",
       "      <td>4</td>\n",
       "    </tr>\n",
       "    <tr>\n",
       "      <th>5</th>\n",
       "      <td>Наличие промокода, Система лояльности</td>\n",
       "      <td>3</td>\n",
       "    </tr>\n",
       "    <tr>\n",
       "      <th>6</th>\n",
       "      <td>Наличие промокода</td>\n",
       "      <td>2</td>\n",
       "    </tr>\n",
       "    <tr>\n",
       "      <th>7</th>\n",
       "      <td>Скидка, Ничего из перечисленного</td>\n",
       "      <td>1</td>\n",
       "    </tr>\n",
       "    <tr>\n",
       "      <th>8</th>\n",
       "      <td>Ничего из перечисленного</td>\n",
       "      <td>1</td>\n",
       "    </tr>\n",
       "  </tbody>\n",
       "</table>\n",
       "</div>"
      ],
      "text/plain": [
       "  Что из перечисленного могло бы мотивировать вас к покупке?  Count\n",
       "0      Наличие промокода, Скидка, Система лояльности             11\n",
       "1                          Наличие промокода, Скидка              9\n",
       "2                         Скидка, Система лояльности              6\n",
       "3                                 Система лояльности              6\n",
       "4                                             Скидка              4\n",
       "5              Наличие промокода, Система лояльности              3\n",
       "6                                  Наличие промокода              2\n",
       "7                   Скидка, Ничего из перечисленного              1\n",
       "8                           Ничего из перечисленного              1"
      ]
     },
     "execution_count": 148,
     "metadata": {},
     "output_type": "execute_result"
    }
   ],
   "source": [
    "m_6 = m.iloc[:,[6]].value_counts().reset_index()\n",
    "m_6.columns = ['Что из перечисленного могло бы мотивировать вас к покупке?', 'Count']\n",
    "print('Доверительный интервал:', mean_confidence_interval(m_6['Count'], 0.98))\n",
    "m_6"
   ]
  },
  {
   "cell_type": "code",
   "execution_count": null,
   "metadata": {},
   "outputs": [],
   "source": [
    "\n"
   ]
  },
  {
   "cell_type": "code",
   "execution_count": 149,
   "metadata": {},
   "outputs": [
    {
     "name": "stdout",
     "output_type": "stream",
     "text": [
      "Доверительный интервал: (8.170837955222805, 25.025, 41.87916204477719)\n"
     ]
    },
    {
     "data": {
      "text/html": [
       "<div>\n",
       "<style scoped>\n",
       "    .dataframe tbody tr th:only-of-type {\n",
       "        vertical-align: middle;\n",
       "    }\n",
       "\n",
       "    .dataframe tbody tr th {\n",
       "        vertical-align: top;\n",
       "    }\n",
       "\n",
       "    .dataframe thead th {\n",
       "        text-align: right;\n",
       "    }\n",
       "</style>\n",
       "<table border=\"1\" class=\"dataframe\">\n",
       "  <thead>\n",
       "    <tr style=\"text-align: right;\">\n",
       "      <th></th>\n",
       "      <th>Как долго вы готовы ждать ответа от менеджера  по вашему заказу?</th>\n",
       "      <th>%</th>\n",
       "    </tr>\n",
       "  </thead>\n",
       "  <tbody>\n",
       "    <tr>\n",
       "      <th>0</th>\n",
       "      <td>В течение часа</td>\n",
       "      <td>51.2</td>\n",
       "    </tr>\n",
       "    <tr>\n",
       "      <th>1</th>\n",
       "      <td>В течение суток</td>\n",
       "      <td>23.3</td>\n",
       "    </tr>\n",
       "    <tr>\n",
       "      <th>2</th>\n",
       "      <td>1-3 часа</td>\n",
       "      <td>18.6</td>\n",
       "    </tr>\n",
       "    <tr>\n",
       "      <th>3</th>\n",
       "      <td>Неважно</td>\n",
       "      <td>7.0</td>\n",
       "    </tr>\n",
       "  </tbody>\n",
       "</table>\n",
       "</div>"
      ],
      "text/plain": [
       "  Как долго вы готовы ждать ответа от менеджера  по вашему заказу?     %\n",
       "0                                     В течение часа                51.2\n",
       "1                                    В течение суток                23.3\n",
       "2                                           1-3 часа                18.6\n",
       "3                                            Неважно                 7.0"
      ]
     },
     "execution_count": 149,
     "metadata": {},
     "output_type": "execute_result"
    }
   ],
   "source": [
    "df_m_7 = round(m.iloc[:,[7]].value_counts() / m.iloc[:,[7]].value_counts().sum() * 100, 1).reset_index()\n",
    "df_m_7.columns = ['Как долго вы готовы ждать ответа от менеджера  по вашему заказу?', '%']\n",
    "print('Доверительный интервал:', mean_confidence_interval(df_m_7['%'], 0.83))\n",
    "df_m_7"
   ]
  },
  {
   "cell_type": "code",
   "execution_count": 150,
   "metadata": {},
   "outputs": [
    {
     "name": "stdout",
     "output_type": "stream",
     "text": [
      "Доверительный интервал: (3.5062013577699354, 10.75, 17.993798642230065)\n"
     ]
    },
    {
     "data": {
      "text/html": [
       "<div>\n",
       "<style scoped>\n",
       "    .dataframe tbody tr th:only-of-type {\n",
       "        vertical-align: middle;\n",
       "    }\n",
       "\n",
       "    .dataframe tbody tr th {\n",
       "        vertical-align: top;\n",
       "    }\n",
       "\n",
       "    .dataframe thead th {\n",
       "        text-align: right;\n",
       "    }\n",
       "</style>\n",
       "<table border=\"1\" class=\"dataframe\">\n",
       "  <thead>\n",
       "    <tr style=\"text-align: right;\">\n",
       "      <th></th>\n",
       "      <th>Как долго вы готовы ждать ответа от менеджера  по вашему заказу?</th>\n",
       "      <th>Count</th>\n",
       "    </tr>\n",
       "  </thead>\n",
       "  <tbody>\n",
       "    <tr>\n",
       "      <th>0</th>\n",
       "      <td>В течение часа</td>\n",
       "      <td>22</td>\n",
       "    </tr>\n",
       "    <tr>\n",
       "      <th>1</th>\n",
       "      <td>В течение суток</td>\n",
       "      <td>10</td>\n",
       "    </tr>\n",
       "    <tr>\n",
       "      <th>2</th>\n",
       "      <td>1-3 часа</td>\n",
       "      <td>8</td>\n",
       "    </tr>\n",
       "    <tr>\n",
       "      <th>3</th>\n",
       "      <td>Неважно</td>\n",
       "      <td>3</td>\n",
       "    </tr>\n",
       "  </tbody>\n",
       "</table>\n",
       "</div>"
      ],
      "text/plain": [
       "  Как долго вы готовы ждать ответа от менеджера  по вашему заказу?  Count\n",
       "0                                     В течение часа                   22\n",
       "1                                    В течение суток                   10\n",
       "2                                           1-3 часа                    8\n",
       "3                                            Неважно                    3"
      ]
     },
     "execution_count": 150,
     "metadata": {},
     "output_type": "execute_result"
    }
   ],
   "source": [
    "m_7 = m.iloc[:,[7]].value_counts().reset_index()\n",
    "m_7.columns = ['Как долго вы готовы ждать ответа от менеджера  по вашему заказу?', 'Count']\n",
    "print('Доверительный интервал:', mean_confidence_interval(m_7['Count'], 0.83))\n",
    "m_7"
   ]
  },
  {
   "cell_type": "code",
   "execution_count": null,
   "metadata": {},
   "outputs": [],
   "source": [
    "\n"
   ]
  },
  {
   "cell_type": "code",
   "execution_count": 151,
   "metadata": {},
   "outputs": [
    {
     "name": "stdout",
     "output_type": "stream",
     "text": [
      "Доверительный интервал: (2.9527076942192814, 4.55, 6.147292305780718)\n"
     ]
    },
    {
     "data": {
      "text/html": [
       "<div>\n",
       "<style scoped>\n",
       "    .dataframe tbody tr th:only-of-type {\n",
       "        vertical-align: middle;\n",
       "    }\n",
       "\n",
       "    .dataframe tbody tr th {\n",
       "        vertical-align: top;\n",
       "    }\n",
       "\n",
       "    .dataframe thead th {\n",
       "        text-align: right;\n",
       "    }\n",
       "</style>\n",
       "<table border=\"1\" class=\"dataframe\">\n",
       "  <thead>\n",
       "    <tr style=\"text-align: right;\">\n",
       "      <th></th>\n",
       "      <th>Какой способ обратной связи с менеджером вам наиболее удобен?</th>\n",
       "      <th>%</th>\n",
       "    </tr>\n",
       "  </thead>\n",
       "  <tbody>\n",
       "    <tr>\n",
       "      <th>0</th>\n",
       "      <td>На самом сайте (чат)</td>\n",
       "      <td>9.3</td>\n",
       "    </tr>\n",
       "    <tr>\n",
       "      <th>1</th>\n",
       "      <td>На самом сайте (чат), Получить ответ на почту,...</td>\n",
       "      <td>9.3</td>\n",
       "    </tr>\n",
       "    <tr>\n",
       "      <th>2</th>\n",
       "      <td>Получить ответ на почту, Получить ответ на тел...</td>\n",
       "      <td>9.3</td>\n",
       "    </tr>\n",
       "    <tr>\n",
       "      <th>3</th>\n",
       "      <td>Получить ответ на почту, Получить ответ в месс...</td>\n",
       "      <td>9.3</td>\n",
       "    </tr>\n",
       "    <tr>\n",
       "      <th>4</th>\n",
       "      <td>На самом сайте (чат), Получить ответ на почту,...</td>\n",
       "      <td>7.0</td>\n",
       "    </tr>\n",
       "    <tr>\n",
       "      <th>5</th>\n",
       "      <td>На самом сайте (чат), Получить ответ на телефо...</td>\n",
       "      <td>4.7</td>\n",
       "    </tr>\n",
       "    <tr>\n",
       "      <th>6</th>\n",
       "      <td>Получить ответ на телефон (звонок)</td>\n",
       "      <td>4.7</td>\n",
       "    </tr>\n",
       "    <tr>\n",
       "      <th>7</th>\n",
       "      <td>Получить ответ на почту, Получить ответ на тел...</td>\n",
       "      <td>4.7</td>\n",
       "    </tr>\n",
       "    <tr>\n",
       "      <th>8</th>\n",
       "      <td>Получить ответ на почту, Получить ответ на тел...</td>\n",
       "      <td>4.7</td>\n",
       "    </tr>\n",
       "    <tr>\n",
       "      <th>9</th>\n",
       "      <td>Получить ответ на почту, Получить ответ на тел...</td>\n",
       "      <td>4.7</td>\n",
       "    </tr>\n",
       "    <tr>\n",
       "      <th>10</th>\n",
       "      <td>Получить ответ в мессенджере/в соцсетях</td>\n",
       "      <td>4.7</td>\n",
       "    </tr>\n",
       "    <tr>\n",
       "      <th>11</th>\n",
       "      <td>На самом сайте (чат), Получить ответ на почту,...</td>\n",
       "      <td>4.7</td>\n",
       "    </tr>\n",
       "    <tr>\n",
       "      <th>12</th>\n",
       "      <td>На самом сайте (чат), Получить ответ на почту</td>\n",
       "      <td>2.3</td>\n",
       "    </tr>\n",
       "    <tr>\n",
       "      <th>13</th>\n",
       "      <td>На самом сайте (чат), Получить ответ на почту,...</td>\n",
       "      <td>2.3</td>\n",
       "    </tr>\n",
       "    <tr>\n",
       "      <th>14</th>\n",
       "      <td>Получить ответ на телефон (смс), Получить отве...</td>\n",
       "      <td>2.3</td>\n",
       "    </tr>\n",
       "    <tr>\n",
       "      <th>15</th>\n",
       "      <td>На самом сайте (чат), Получить ответ на телефо...</td>\n",
       "      <td>2.3</td>\n",
       "    </tr>\n",
       "    <tr>\n",
       "      <th>16</th>\n",
       "      <td>На самом сайте (чат), Получить ответ на телефо...</td>\n",
       "      <td>2.3</td>\n",
       "    </tr>\n",
       "    <tr>\n",
       "      <th>17</th>\n",
       "      <td>Получить ответ на телефон (звонок), Получить о...</td>\n",
       "      <td>2.3</td>\n",
       "    </tr>\n",
       "    <tr>\n",
       "      <th>18</th>\n",
       "      <td>Получить ответ на почту, Получить ответ на тел...</td>\n",
       "      <td>2.3</td>\n",
       "    </tr>\n",
       "    <tr>\n",
       "      <th>19</th>\n",
       "      <td>Получить ответ на почту, Получить ответ на тел...</td>\n",
       "      <td>2.3</td>\n",
       "    </tr>\n",
       "    <tr>\n",
       "      <th>20</th>\n",
       "      <td>Получить ответ на телефон (звонок), Получить о...</td>\n",
       "      <td>2.3</td>\n",
       "    </tr>\n",
       "    <tr>\n",
       "      <th>21</th>\n",
       "      <td>Получить ответ на почту</td>\n",
       "      <td>2.3</td>\n",
       "    </tr>\n",
       "  </tbody>\n",
       "</table>\n",
       "</div>"
      ],
      "text/plain": [
       "   Какой способ обратной связи с менеджером вам наиболее удобен?    %\n",
       "0                                На самом сайте (чат)             9.3\n",
       "1   На самом сайте (чат), Получить ответ на почту,...             9.3\n",
       "2   Получить ответ на почту, Получить ответ на тел...             9.3\n",
       "3   Получить ответ на почту, Получить ответ в месс...             9.3\n",
       "4   На самом сайте (чат), Получить ответ на почту,...             7.0\n",
       "5   На самом сайте (чат), Получить ответ на телефо...             4.7\n",
       "6                  Получить ответ на телефон (звонок)             4.7\n",
       "7   Получить ответ на почту, Получить ответ на тел...             4.7\n",
       "8   Получить ответ на почту, Получить ответ на тел...             4.7\n",
       "9   Получить ответ на почту, Получить ответ на тел...             4.7\n",
       "10            Получить ответ в мессенджере/в соцсетях             4.7\n",
       "11  На самом сайте (чат), Получить ответ на почту,...             4.7\n",
       "12      На самом сайте (чат), Получить ответ на почту             2.3\n",
       "13  На самом сайте (чат), Получить ответ на почту,...             2.3\n",
       "14  Получить ответ на телефон (смс), Получить отве...             2.3\n",
       "15  На самом сайте (чат), Получить ответ на телефо...             2.3\n",
       "16  На самом сайте (чат), Получить ответ на телефо...             2.3\n",
       "17  Получить ответ на телефон (звонок), Получить о...             2.3\n",
       "18  Получить ответ на почту, Получить ответ на тел...             2.3\n",
       "19  Получить ответ на почту, Получить ответ на тел...             2.3\n",
       "20  Получить ответ на телефон (звонок), Получить о...             2.3\n",
       "21                            Получить ответ на почту             2.3"
      ]
     },
     "execution_count": 151,
     "metadata": {},
     "output_type": "execute_result"
    }
   ],
   "source": [
    "df_m_8 = round(m.iloc[:,[8]].value_counts() / m.iloc[:,[8]].value_counts().sum() * 100, 1).reset_index()\n",
    "df_m_8.columns = ['Какой способ обратной связи с менеджером вам наиболее удобен?', '%']\n",
    "print('Доверительный интервал:', mean_confidence_interval(df_m_8['%'], 0.99))\n",
    "df_m_8"
   ]
  },
  {
   "cell_type": "code",
   "execution_count": 152,
   "metadata": {},
   "outputs": [
    {
     "name": "stdout",
     "output_type": "stream",
     "text": [
      "Доверительный интервал: (1.2706494870501563, 1.9545454545454546, 2.638441422040753)\n"
     ]
    },
    {
     "data": {
      "text/html": [
       "<div>\n",
       "<style scoped>\n",
       "    .dataframe tbody tr th:only-of-type {\n",
       "        vertical-align: middle;\n",
       "    }\n",
       "\n",
       "    .dataframe tbody tr th {\n",
       "        vertical-align: top;\n",
       "    }\n",
       "\n",
       "    .dataframe thead th {\n",
       "        text-align: right;\n",
       "    }\n",
       "</style>\n",
       "<table border=\"1\" class=\"dataframe\">\n",
       "  <thead>\n",
       "    <tr style=\"text-align: right;\">\n",
       "      <th></th>\n",
       "      <th>Какой способ обратной связи с менеджером вам наиболее удобен?</th>\n",
       "      <th>Count</th>\n",
       "    </tr>\n",
       "  </thead>\n",
       "  <tbody>\n",
       "    <tr>\n",
       "      <th>0</th>\n",
       "      <td>На самом сайте (чат)</td>\n",
       "      <td>4</td>\n",
       "    </tr>\n",
       "    <tr>\n",
       "      <th>1</th>\n",
       "      <td>На самом сайте (чат), Получить ответ на почту,...</td>\n",
       "      <td>4</td>\n",
       "    </tr>\n",
       "    <tr>\n",
       "      <th>2</th>\n",
       "      <td>Получить ответ на почту, Получить ответ на тел...</td>\n",
       "      <td>4</td>\n",
       "    </tr>\n",
       "    <tr>\n",
       "      <th>3</th>\n",
       "      <td>Получить ответ на почту, Получить ответ в месс...</td>\n",
       "      <td>4</td>\n",
       "    </tr>\n",
       "    <tr>\n",
       "      <th>4</th>\n",
       "      <td>На самом сайте (чат), Получить ответ на почту,...</td>\n",
       "      <td>3</td>\n",
       "    </tr>\n",
       "    <tr>\n",
       "      <th>5</th>\n",
       "      <td>На самом сайте (чат), Получить ответ на телефо...</td>\n",
       "      <td>2</td>\n",
       "    </tr>\n",
       "    <tr>\n",
       "      <th>6</th>\n",
       "      <td>Получить ответ на телефон (звонок)</td>\n",
       "      <td>2</td>\n",
       "    </tr>\n",
       "    <tr>\n",
       "      <th>7</th>\n",
       "      <td>Получить ответ на почту, Получить ответ на тел...</td>\n",
       "      <td>2</td>\n",
       "    </tr>\n",
       "    <tr>\n",
       "      <th>8</th>\n",
       "      <td>Получить ответ на почту, Получить ответ на тел...</td>\n",
       "      <td>2</td>\n",
       "    </tr>\n",
       "    <tr>\n",
       "      <th>9</th>\n",
       "      <td>Получить ответ на почту, Получить ответ на тел...</td>\n",
       "      <td>2</td>\n",
       "    </tr>\n",
       "    <tr>\n",
       "      <th>10</th>\n",
       "      <td>Получить ответ в мессенджере/в соцсетях</td>\n",
       "      <td>2</td>\n",
       "    </tr>\n",
       "    <tr>\n",
       "      <th>11</th>\n",
       "      <td>На самом сайте (чат), Получить ответ на почту,...</td>\n",
       "      <td>2</td>\n",
       "    </tr>\n",
       "    <tr>\n",
       "      <th>12</th>\n",
       "      <td>На самом сайте (чат), Получить ответ на почту</td>\n",
       "      <td>1</td>\n",
       "    </tr>\n",
       "    <tr>\n",
       "      <th>13</th>\n",
       "      <td>На самом сайте (чат), Получить ответ на почту,...</td>\n",
       "      <td>1</td>\n",
       "    </tr>\n",
       "    <tr>\n",
       "      <th>14</th>\n",
       "      <td>Получить ответ на телефон (смс), Получить отве...</td>\n",
       "      <td>1</td>\n",
       "    </tr>\n",
       "    <tr>\n",
       "      <th>15</th>\n",
       "      <td>На самом сайте (чат), Получить ответ на телефо...</td>\n",
       "      <td>1</td>\n",
       "    </tr>\n",
       "    <tr>\n",
       "      <th>16</th>\n",
       "      <td>На самом сайте (чат), Получить ответ на телефо...</td>\n",
       "      <td>1</td>\n",
       "    </tr>\n",
       "    <tr>\n",
       "      <th>17</th>\n",
       "      <td>Получить ответ на телефон (звонок), Получить о...</td>\n",
       "      <td>1</td>\n",
       "    </tr>\n",
       "    <tr>\n",
       "      <th>18</th>\n",
       "      <td>Получить ответ на почту, Получить ответ на тел...</td>\n",
       "      <td>1</td>\n",
       "    </tr>\n",
       "    <tr>\n",
       "      <th>19</th>\n",
       "      <td>Получить ответ на почту, Получить ответ на тел...</td>\n",
       "      <td>1</td>\n",
       "    </tr>\n",
       "    <tr>\n",
       "      <th>20</th>\n",
       "      <td>Получить ответ на телефон (звонок), Получить о...</td>\n",
       "      <td>1</td>\n",
       "    </tr>\n",
       "    <tr>\n",
       "      <th>21</th>\n",
       "      <td>Получить ответ на почту</td>\n",
       "      <td>1</td>\n",
       "    </tr>\n",
       "  </tbody>\n",
       "</table>\n",
       "</div>"
      ],
      "text/plain": [
       "   Какой способ обратной связи с менеджером вам наиболее удобен?  Count\n",
       "0                                На самом сайте (чат)                 4\n",
       "1   На самом сайте (чат), Получить ответ на почту,...                 4\n",
       "2   Получить ответ на почту, Получить ответ на тел...                 4\n",
       "3   Получить ответ на почту, Получить ответ в месс...                 4\n",
       "4   На самом сайте (чат), Получить ответ на почту,...                 3\n",
       "5   На самом сайте (чат), Получить ответ на телефо...                 2\n",
       "6                  Получить ответ на телефон (звонок)                 2\n",
       "7   Получить ответ на почту, Получить ответ на тел...                 2\n",
       "8   Получить ответ на почту, Получить ответ на тел...                 2\n",
       "9   Получить ответ на почту, Получить ответ на тел...                 2\n",
       "10            Получить ответ в мессенджере/в соцсетях                 2\n",
       "11  На самом сайте (чат), Получить ответ на почту,...                 2\n",
       "12      На самом сайте (чат), Получить ответ на почту                 1\n",
       "13  На самом сайте (чат), Получить ответ на почту,...                 1\n",
       "14  Получить ответ на телефон (смс), Получить отве...                 1\n",
       "15  На самом сайте (чат), Получить ответ на телефо...                 1\n",
       "16  На самом сайте (чат), Получить ответ на телефо...                 1\n",
       "17  Получить ответ на телефон (звонок), Получить о...                 1\n",
       "18  Получить ответ на почту, Получить ответ на тел...                 1\n",
       "19  Получить ответ на почту, Получить ответ на тел...                 1\n",
       "20  Получить ответ на телефон (звонок), Получить о...                 1\n",
       "21                            Получить ответ на почту                 1"
      ]
     },
     "execution_count": 152,
     "metadata": {},
     "output_type": "execute_result"
    }
   ],
   "source": [
    "m_8 = m.iloc[:,[8]].value_counts().reset_index()\n",
    "m_8.columns = ['Какой способ обратной связи с менеджером вам наиболее удобен?', 'Count']\n",
    "print('Доверительный интервал:', mean_confidence_interval(m_8['Count'], 0.99))\n",
    "m_8"
   ]
  },
  {
   "cell_type": "code",
   "execution_count": null,
   "metadata": {},
   "outputs": [],
   "source": [
    "\n"
   ]
  },
  {
   "cell_type": "code",
   "execution_count": 153,
   "metadata": {},
   "outputs": [
    {
     "name": "stdout",
     "output_type": "stream",
     "text": [
      "Доверительный интервал: (16.322224982935605, 33.333333333333336, 50.34444168373106)\n"
     ]
    },
    {
     "data": {
      "text/html": [
       "<div>\n",
       "<style scoped>\n",
       "    .dataframe tbody tr th:only-of-type {\n",
       "        vertical-align: middle;\n",
       "    }\n",
       "\n",
       "    .dataframe tbody tr th {\n",
       "        vertical-align: top;\n",
       "    }\n",
       "\n",
       "    .dataframe thead th {\n",
       "        text-align: right;\n",
       "    }\n",
       "</style>\n",
       "<table border=\"1\" class=\"dataframe\">\n",
       "  <thead>\n",
       "    <tr style=\"text-align: right;\">\n",
       "      <th></th>\n",
       "      <th>Вы когда-нибудь покупали мерч?</th>\n",
       "      <th>%</th>\n",
       "    </tr>\n",
       "  </thead>\n",
       "  <tbody>\n",
       "    <tr>\n",
       "      <th>0</th>\n",
       "      <td>Нет, но планирую</td>\n",
       "      <td>51.2</td>\n",
       "    </tr>\n",
       "    <tr>\n",
       "      <th>1</th>\n",
       "      <td>Да</td>\n",
       "      <td>37.2</td>\n",
       "    </tr>\n",
       "    <tr>\n",
       "      <th>2</th>\n",
       "      <td>Нет и не планирую</td>\n",
       "      <td>11.6</td>\n",
       "    </tr>\n",
       "  </tbody>\n",
       "</table>\n",
       "</div>"
      ],
      "text/plain": [
       "  Вы когда-нибудь покупали мерч?     %\n",
       "0               Нет, но планирую  51.2\n",
       "1                             Да  37.2\n",
       "2              Нет и не планирую  11.6"
      ]
     },
     "execution_count": 153,
     "metadata": {},
     "output_type": "execute_result"
    }
   ],
   "source": [
    "df_m_9 = round(m.iloc[:,[9]].value_counts() / m.iloc[:,[9]].value_counts().sum() * 100, 1).reset_index()\n",
    "df_m_9.columns = ['Вы когда-нибудь покупали мерч?', '%']\n",
    "print('Доверительный интервал:', mean_confidence_interval(df_m_9['%'], 0.72))\n",
    "df_m_9"
   ]
  },
  {
   "cell_type": "code",
   "execution_count": 154,
   "metadata": {},
   "outputs": [
    {
     "name": "stdout",
     "output_type": "stream",
     "text": [
      "Доверительный интервал: (7.029759366361399, 14.333333333333334, 21.636907300305268)\n"
     ]
    },
    {
     "data": {
      "text/html": [
       "<div>\n",
       "<style scoped>\n",
       "    .dataframe tbody tr th:only-of-type {\n",
       "        vertical-align: middle;\n",
       "    }\n",
       "\n",
       "    .dataframe tbody tr th {\n",
       "        vertical-align: top;\n",
       "    }\n",
       "\n",
       "    .dataframe thead th {\n",
       "        text-align: right;\n",
       "    }\n",
       "</style>\n",
       "<table border=\"1\" class=\"dataframe\">\n",
       "  <thead>\n",
       "    <tr style=\"text-align: right;\">\n",
       "      <th></th>\n",
       "      <th>Вы когда-нибудь покупали мерч?</th>\n",
       "      <th>Count</th>\n",
       "    </tr>\n",
       "  </thead>\n",
       "  <tbody>\n",
       "    <tr>\n",
       "      <th>0</th>\n",
       "      <td>Нет, но планирую</td>\n",
       "      <td>22</td>\n",
       "    </tr>\n",
       "    <tr>\n",
       "      <th>1</th>\n",
       "      <td>Да</td>\n",
       "      <td>16</td>\n",
       "    </tr>\n",
       "    <tr>\n",
       "      <th>2</th>\n",
       "      <td>Нет и не планирую</td>\n",
       "      <td>5</td>\n",
       "    </tr>\n",
       "  </tbody>\n",
       "</table>\n",
       "</div>"
      ],
      "text/plain": [
       "  Вы когда-нибудь покупали мерч?  Count\n",
       "0               Нет, но планирую     22\n",
       "1                             Да     16\n",
       "2              Нет и не планирую      5"
      ]
     },
     "execution_count": 154,
     "metadata": {},
     "output_type": "execute_result"
    }
   ],
   "source": [
    "m_9 = m.iloc[:,[9]].value_counts().reset_index()\n",
    "m_9.columns = ['Вы когда-нибудь покупали мерч?', 'Count']\n",
    "print('Доверительный интервал:', mean_confidence_interval(m_9['Count'], 0.72))\n",
    "m_9"
   ]
  },
  {
   "cell_type": "code",
   "execution_count": null,
   "metadata": {},
   "outputs": [],
   "source": [
    "\n"
   ]
  },
  {
   "cell_type": "code",
   "execution_count": 155,
   "metadata": {},
   "outputs": [
    {
     "name": "stdout",
     "output_type": "stream",
     "text": [
      "Доверительный интервал: (6.798035809121178, 25.0, 43.201964190878826)\n"
     ]
    },
    {
     "data": {
      "text/html": [
       "<div>\n",
       "<style scoped>\n",
       "    .dataframe tbody tr th:only-of-type {\n",
       "        vertical-align: middle;\n",
       "    }\n",
       "\n",
       "    .dataframe tbody tr th {\n",
       "        vertical-align: top;\n",
       "    }\n",
       "\n",
       "    .dataframe thead th {\n",
       "        text-align: right;\n",
       "    }\n",
       "</style>\n",
       "<table border=\"1\" class=\"dataframe\">\n",
       "  <thead>\n",
       "    <tr style=\"text-align: right;\">\n",
       "      <th></th>\n",
       "      <th>Вам важно, какого размера будет логотип на мерче?</th>\n",
       "      <th>%</th>\n",
       "    </tr>\n",
       "  </thead>\n",
       "  <tbody>\n",
       "    <tr>\n",
       "      <th>0</th>\n",
       "      <td>Да, нравится, когда логотип маленького размера</td>\n",
       "      <td>44.2</td>\n",
       "    </tr>\n",
       "    <tr>\n",
       "      <th>1</th>\n",
       "      <td>Да, нравится, когда логотип крупный</td>\n",
       "      <td>27.9</td>\n",
       "    </tr>\n",
       "    <tr>\n",
       "      <th>2</th>\n",
       "      <td>Нет, мне неважно, какого размера будет логотип</td>\n",
       "      <td>20.9</td>\n",
       "    </tr>\n",
       "    <tr>\n",
       "      <th>3</th>\n",
       "      <td>Не люблю, когда на мерче есть логотип</td>\n",
       "      <td>7.0</td>\n",
       "    </tr>\n",
       "  </tbody>\n",
       "</table>\n",
       "</div>"
      ],
      "text/plain": [
       "  Вам важно, какого размера будет логотип на мерче?     %\n",
       "0    Да, нравится, когда логотип маленького размера  44.2\n",
       "1               Да, нравится, когда логотип крупный  27.9\n",
       "2    Нет, мне неважно, какого размера будет логотип  20.9\n",
       "3             Не люблю, когда на мерче есть логотип   7.0"
      ]
     },
     "execution_count": 155,
     "metadata": {},
     "output_type": "execute_result"
    }
   ],
   "source": [
    "df_m_10 = round(m.iloc[:,[10]].value_counts() / m.iloc[:,[10]].value_counts().sum() * 100, 1).reset_index()\n",
    "df_m_10.columns = ['Вам важно, какого размера будет логотип на мерче?', '%']\n",
    "print('Доверительный интервал:', mean_confidence_interval(df_m_10['%'], 0.90))\n",
    "df_m_10"
   ]
  },
  {
   "cell_type": "code",
   "execution_count": 156,
   "metadata": {},
   "outputs": [
    {
     "name": "stdout",
     "output_type": "stream",
     "text": [
      "Доверительный интервал: (2.9226339688947, 10.75, 18.5773660311053)\n"
     ]
    },
    {
     "data": {
      "text/html": [
       "<div>\n",
       "<style scoped>\n",
       "    .dataframe tbody tr th:only-of-type {\n",
       "        vertical-align: middle;\n",
       "    }\n",
       "\n",
       "    .dataframe tbody tr th {\n",
       "        vertical-align: top;\n",
       "    }\n",
       "\n",
       "    .dataframe thead th {\n",
       "        text-align: right;\n",
       "    }\n",
       "</style>\n",
       "<table border=\"1\" class=\"dataframe\">\n",
       "  <thead>\n",
       "    <tr style=\"text-align: right;\">\n",
       "      <th></th>\n",
       "      <th>Вам важно, какого размера будет логотип на мерче?</th>\n",
       "      <th>Count</th>\n",
       "    </tr>\n",
       "  </thead>\n",
       "  <tbody>\n",
       "    <tr>\n",
       "      <th>0</th>\n",
       "      <td>Да, нравится, когда логотип маленького размера</td>\n",
       "      <td>19</td>\n",
       "    </tr>\n",
       "    <tr>\n",
       "      <th>1</th>\n",
       "      <td>Да, нравится, когда логотип крупный</td>\n",
       "      <td>12</td>\n",
       "    </tr>\n",
       "    <tr>\n",
       "      <th>2</th>\n",
       "      <td>Нет, мне неважно, какого размера будет логотип</td>\n",
       "      <td>9</td>\n",
       "    </tr>\n",
       "    <tr>\n",
       "      <th>3</th>\n",
       "      <td>Не люблю, когда на мерче есть логотип</td>\n",
       "      <td>3</td>\n",
       "    </tr>\n",
       "  </tbody>\n",
       "</table>\n",
       "</div>"
      ],
      "text/plain": [
       "  Вам важно, какого размера будет логотип на мерче?  Count\n",
       "0    Да, нравится, когда логотип маленького размера     19\n",
       "1               Да, нравится, когда логотип крупный     12\n",
       "2    Нет, мне неважно, какого размера будет логотип      9\n",
       "3             Не люблю, когда на мерче есть логотип      3"
      ]
     },
     "execution_count": 156,
     "metadata": {},
     "output_type": "execute_result"
    }
   ],
   "source": [
    "m_10 = m.iloc[:,[10]].value_counts().reset_index()\n",
    "m_10.columns = ['Вам важно, какого размера будет логотип на мерче?', 'Count']\n",
    "print('Доверительный интервал:', mean_confidence_interval(m_10['Count'], 0.90))\n",
    "m_10"
   ]
  },
  {
   "cell_type": "code",
   "execution_count": null,
   "metadata": {},
   "outputs": [],
   "source": [
    "\n"
   ]
  },
  {
   "cell_type": "code",
   "execution_count": 157,
   "metadata": {},
   "outputs": [
    {
     "name": "stdout",
     "output_type": "stream",
     "text": [
      "Доверительный интервал: (2.993657964430245, 20.0, 37.00634203556976)\n"
     ]
    },
    {
     "data": {
      "text/html": [
       "<div>\n",
       "<style scoped>\n",
       "    .dataframe tbody tr th:only-of-type {\n",
       "        vertical-align: middle;\n",
       "    }\n",
       "\n",
       "    .dataframe tbody tr th {\n",
       "        vertical-align: top;\n",
       "    }\n",
       "\n",
       "    .dataframe thead th {\n",
       "        text-align: right;\n",
       "    }\n",
       "</style>\n",
       "<table border=\"1\" class=\"dataframe\">\n",
       "  <thead>\n",
       "    <tr style=\"text-align: right;\">\n",
       "      <th></th>\n",
       "      <th>Какой мерч вам интереснее всего?</th>\n",
       "      <th>%</th>\n",
       "    </tr>\n",
       "  </thead>\n",
       "  <tbody>\n",
       "    <tr>\n",
       "      <th>0</th>\n",
       "      <td>Одежда (футболки, худи и др.)</td>\n",
       "      <td>51.2</td>\n",
       "    </tr>\n",
       "    <tr>\n",
       "      <th>1</th>\n",
       "      <td>Канцтовары (блокноты, ручки, стикеры и др.)</td>\n",
       "      <td>32.6</td>\n",
       "    </tr>\n",
       "    <tr>\n",
       "      <th>2</th>\n",
       "      <td>Посуда (кружки, термокружки и др.)</td>\n",
       "      <td>11.6</td>\n",
       "    </tr>\n",
       "    <tr>\n",
       "      <th>3</th>\n",
       "      <td>значки-пины</td>\n",
       "      <td>2.3</td>\n",
       "    </tr>\n",
       "    <tr>\n",
       "      <th>4</th>\n",
       "      <td>Аксессуары (шоперы, шарфы и др.)</td>\n",
       "      <td>2.3</td>\n",
       "    </tr>\n",
       "  </tbody>\n",
       "</table>\n",
       "</div>"
      ],
      "text/plain": [
       "              Какой мерч вам интереснее всего?     %\n",
       "0                Одежда (футболки, худи и др.)  51.2\n",
       "1  Канцтовары (блокноты, ручки, стикеры и др.)  32.6\n",
       "2           Посуда (кружки, термокружки и др.)  11.6\n",
       "3                                  значки-пины   2.3\n",
       "4             Аксессуары (шоперы, шарфы и др.)   2.3"
      ]
     },
     "execution_count": 157,
     "metadata": {},
     "output_type": "execute_result"
    }
   ],
   "source": [
    "df_m_11 = round(m.iloc[:,[11]].value_counts() / m.iloc[:,[11]].value_counts().sum() * 100, 1).reset_index()\n",
    "df_m_11.columns = ['Какой мерч вам интереснее всего?', '%']\n",
    "print('Доверительный интервал:', mean_confidence_interval(df_m_11['%'], 0.85))\n",
    "df_m_11"
   ]
  },
  {
   "cell_type": "code",
   "execution_count": 158,
   "metadata": {},
   "outputs": [
    {
     "name": "stdout",
     "output_type": "stream",
     "text": [
      "Доверительный интервал: (1.298577545572705, 8.6, 15.901422454427294)\n"
     ]
    },
    {
     "data": {
      "text/html": [
       "<div>\n",
       "<style scoped>\n",
       "    .dataframe tbody tr th:only-of-type {\n",
       "        vertical-align: middle;\n",
       "    }\n",
       "\n",
       "    .dataframe tbody tr th {\n",
       "        vertical-align: top;\n",
       "    }\n",
       "\n",
       "    .dataframe thead th {\n",
       "        text-align: right;\n",
       "    }\n",
       "</style>\n",
       "<table border=\"1\" class=\"dataframe\">\n",
       "  <thead>\n",
       "    <tr style=\"text-align: right;\">\n",
       "      <th></th>\n",
       "      <th>Какой мерч вам интереснее всего?</th>\n",
       "      <th>Count</th>\n",
       "    </tr>\n",
       "  </thead>\n",
       "  <tbody>\n",
       "    <tr>\n",
       "      <th>0</th>\n",
       "      <td>Одежда (футболки, худи и др.)</td>\n",
       "      <td>22</td>\n",
       "    </tr>\n",
       "    <tr>\n",
       "      <th>1</th>\n",
       "      <td>Канцтовары (блокноты, ручки, стикеры и др.)</td>\n",
       "      <td>14</td>\n",
       "    </tr>\n",
       "    <tr>\n",
       "      <th>2</th>\n",
       "      <td>Посуда (кружки, термокружки и др.)</td>\n",
       "      <td>5</td>\n",
       "    </tr>\n",
       "    <tr>\n",
       "      <th>3</th>\n",
       "      <td>значки-пины</td>\n",
       "      <td>1</td>\n",
       "    </tr>\n",
       "    <tr>\n",
       "      <th>4</th>\n",
       "      <td>Аксессуары (шоперы, шарфы и др.)</td>\n",
       "      <td>1</td>\n",
       "    </tr>\n",
       "  </tbody>\n",
       "</table>\n",
       "</div>"
      ],
      "text/plain": [
       "              Какой мерч вам интереснее всего?  Count\n",
       "0                Одежда (футболки, худи и др.)     22\n",
       "1  Канцтовары (блокноты, ручки, стикеры и др.)     14\n",
       "2           Посуда (кружки, термокружки и др.)      5\n",
       "3                                  значки-пины      1\n",
       "4             Аксессуары (шоперы, шарфы и др.)      1"
      ]
     },
     "execution_count": 158,
     "metadata": {},
     "output_type": "execute_result"
    }
   ],
   "source": [
    "m_11 = m.iloc[:,[11]].value_counts().reset_index()\n",
    "m_11.columns = ['Какой мерч вам интереснее всего?', 'Count']\n",
    "print('Доверительный интервал:', mean_confidence_interval(m_11['Count'], 0.85))\n",
    "m_11"
   ]
  },
  {
   "cell_type": "code",
   "execution_count": null,
   "metadata": {},
   "outputs": [],
   "source": [
    "\n"
   ]
  },
  {
   "cell_type": "code",
   "execution_count": 159,
   "metadata": {},
   "outputs": [
    {
     "name": "stdout",
     "output_type": "stream",
     "text": [
      "Доверительный интервал: (30.206219376302737, 50.0, 69.79378062369726)\n"
     ]
    },
    {
     "data": {
      "text/html": [
       "<div>\n",
       "<style scoped>\n",
       "    .dataframe tbody tr th:only-of-type {\n",
       "        vertical-align: middle;\n",
       "    }\n",
       "\n",
       "    .dataframe tbody tr th {\n",
       "        vertical-align: top;\n",
       "    }\n",
       "\n",
       "    .dataframe thead th {\n",
       "        text-align: right;\n",
       "    }\n",
       "</style>\n",
       "<table border=\"1\" class=\"dataframe\">\n",
       "  <thead>\n",
       "    <tr style=\"text-align: right;\">\n",
       "      <th></th>\n",
       "      <th>Вам был бы интересен мерч без логотипа, который отражал бы философию конкретного бренда? Пример - футболки с надписью \"Иноагент\", выпущенные \"Медузой\" совместно с другими брендами</th>\n",
       "      <th>%</th>\n",
       "    </tr>\n",
       "  </thead>\n",
       "  <tbody>\n",
       "    <tr>\n",
       "      <th>0</th>\n",
       "      <td>Да</td>\n",
       "      <td>69.8</td>\n",
       "    </tr>\n",
       "    <tr>\n",
       "      <th>1</th>\n",
       "      <td>Нет</td>\n",
       "      <td>30.2</td>\n",
       "    </tr>\n",
       "  </tbody>\n",
       "</table>\n",
       "</div>"
      ],
      "text/plain": [
       "  Вам был бы интересен мерч без логотипа, который отражал бы философию конкретного бренда? Пример - футболки с надписью \"Иноагент\", выпущенные \"Медузой\" совместно с другими брендами  \\\n",
       "0                                                 Да                                                                                                                                    \n",
       "1                                                Нет                                                                                                                                    \n",
       "\n",
       "      %  \n",
       "0  69.8  \n",
       "1  30.2  "
      ]
     },
     "execution_count": 159,
     "metadata": {},
     "output_type": "execute_result"
    }
   ],
   "source": [
    "df_m_12 = round(m.iloc[:,[12]].value_counts() / m.iloc[:,[12]].value_counts().sum() * 100, 1).reset_index()\n",
    "df_m_12.columns = ['Вам был бы интересен мерч без логотипа, который отражал бы философию конкретного бренда? Пример - футболки с надписью \"Иноагент\", выпущенные \"Медузой\" совместно с другими брендами', '%']\n",
    "print('Доверительный интервал:', mean_confidence_interval(df_m_12['%'], 0.4999))\n",
    "df_m_12"
   ]
  },
  {
   "cell_type": "code",
   "execution_count": 160,
   "metadata": {},
   "outputs": [
    {
     "name": "stdout",
     "output_type": "stream",
     "text": [
      "Доверительный интервал: (13.002669934271378, 21.5, 29.997330065728622)\n"
     ]
    },
    {
     "data": {
      "text/html": [
       "<div>\n",
       "<style scoped>\n",
       "    .dataframe tbody tr th:only-of-type {\n",
       "        vertical-align: middle;\n",
       "    }\n",
       "\n",
       "    .dataframe tbody tr th {\n",
       "        vertical-align: top;\n",
       "    }\n",
       "\n",
       "    .dataframe thead th {\n",
       "        text-align: right;\n",
       "    }\n",
       "</style>\n",
       "<table border=\"1\" class=\"dataframe\">\n",
       "  <thead>\n",
       "    <tr style=\"text-align: right;\">\n",
       "      <th></th>\n",
       "      <th>Вам был бы интересен мерч без логотипа, который отражал бы философию конкретного бренда? Пример - футболки с надписью \"Иноагент\", выпущенные \"Медузой\" совместно с другими брендами</th>\n",
       "      <th>Count</th>\n",
       "    </tr>\n",
       "  </thead>\n",
       "  <tbody>\n",
       "    <tr>\n",
       "      <th>0</th>\n",
       "      <td>Да</td>\n",
       "      <td>30</td>\n",
       "    </tr>\n",
       "    <tr>\n",
       "      <th>1</th>\n",
       "      <td>Нет</td>\n",
       "      <td>13</td>\n",
       "    </tr>\n",
       "  </tbody>\n",
       "</table>\n",
       "</div>"
      ],
      "text/plain": [
       "  Вам был бы интересен мерч без логотипа, который отражал бы философию конкретного бренда? Пример - футболки с надписью \"Иноагент\", выпущенные \"Медузой\" совместно с другими брендами  \\\n",
       "0                                                 Да                                                                                                                                    \n",
       "1                                                Нет                                                                                                                                    \n",
       "\n",
       "   Count  \n",
       "0     30  \n",
       "1     13  "
      ]
     },
     "execution_count": 160,
     "metadata": {},
     "output_type": "execute_result"
    }
   ],
   "source": [
    "m_12 = m.iloc[:,[12]].value_counts().reset_index()\n",
    "m_12.columns = ['Вам был бы интересен мерч без логотипа, который отражал бы философию конкретного бренда? Пример - футболки с надписью \"Иноагент\", выпущенные \"Медузой\" совместно с другими брендами', 'Count']\n",
    "print('Доверительный интервал:', mean_confidence_interval(m_12['Count'], 0.4999))\n",
    "m_12"
   ]
  },
  {
   "cell_type": "code",
   "execution_count": null,
   "metadata": {},
   "outputs": [],
   "source": [
    "\n"
   ]
  },
  {
   "cell_type": "code",
   "execution_count": 161,
   "metadata": {},
   "outputs": [
    {
     "name": "stdout",
     "output_type": "stream",
     "text": [
      "Доверительный интервал: (30.206219376302737, 50.0, 69.79378062369726)\n"
     ]
    },
    {
     "data": {
      "text/html": [
       "<div>\n",
       "<style scoped>\n",
       "    .dataframe tbody tr th:only-of-type {\n",
       "        vertical-align: middle;\n",
       "    }\n",
       "\n",
       "    .dataframe tbody tr th {\n",
       "        vertical-align: top;\n",
       "    }\n",
       "\n",
       "    .dataframe thead th {\n",
       "        text-align: right;\n",
       "    }\n",
       "</style>\n",
       "<table border=\"1\" class=\"dataframe\">\n",
       "  <thead>\n",
       "    <tr style=\"text-align: right;\">\n",
       "      <th></th>\n",
       "      <th>Вам нравятся цитаты в виде принта на мерче?</th>\n",
       "      <th>%</th>\n",
       "    </tr>\n",
       "  </thead>\n",
       "  <tbody>\n",
       "    <tr>\n",
       "      <th>0</th>\n",
       "      <td>Да</td>\n",
       "      <td>69.8</td>\n",
       "    </tr>\n",
       "    <tr>\n",
       "      <th>1</th>\n",
       "      <td>Нет</td>\n",
       "      <td>30.2</td>\n",
       "    </tr>\n",
       "  </tbody>\n",
       "</table>\n",
       "</div>"
      ],
      "text/plain": [
       "  Вам нравятся цитаты в виде принта на мерче?     %\n",
       "0                                          Да  69.8\n",
       "1                                         Нет  30.2"
      ]
     },
     "execution_count": 161,
     "metadata": {},
     "output_type": "execute_result"
    }
   ],
   "source": [
    "df_m_13 = round(m.iloc[:,[13]].value_counts() / m.iloc[:,[13]].value_counts().sum() * 100, 1).reset_index()\n",
    "df_m_13.columns = ['Вам нравятся цитаты в виде принта на мерче?', '%']\n",
    "print('Доверительный интервал:', mean_confidence_interval(df_m_13['%'], 0.4999))\n",
    "df_m_13"
   ]
  },
  {
   "cell_type": "code",
   "execution_count": 162,
   "metadata": {},
   "outputs": [
    {
     "name": "stdout",
     "output_type": "stream",
     "text": [
      "Доверительный интервал: (13.002669934271378, 21.5, 29.997330065728622)\n"
     ]
    },
    {
     "data": {
      "text/html": [
       "<div>\n",
       "<style scoped>\n",
       "    .dataframe tbody tr th:only-of-type {\n",
       "        vertical-align: middle;\n",
       "    }\n",
       "\n",
       "    .dataframe tbody tr th {\n",
       "        vertical-align: top;\n",
       "    }\n",
       "\n",
       "    .dataframe thead th {\n",
       "        text-align: right;\n",
       "    }\n",
       "</style>\n",
       "<table border=\"1\" class=\"dataframe\">\n",
       "  <thead>\n",
       "    <tr style=\"text-align: right;\">\n",
       "      <th></th>\n",
       "      <th>Вам нравятся цитаты в виде принта на мерче?</th>\n",
       "      <th>Count</th>\n",
       "    </tr>\n",
       "  </thead>\n",
       "  <tbody>\n",
       "    <tr>\n",
       "      <th>0</th>\n",
       "      <td>Да</td>\n",
       "      <td>30</td>\n",
       "    </tr>\n",
       "    <tr>\n",
       "      <th>1</th>\n",
       "      <td>Нет</td>\n",
       "      <td>13</td>\n",
       "    </tr>\n",
       "  </tbody>\n",
       "</table>\n",
       "</div>"
      ],
      "text/plain": [
       "  Вам нравятся цитаты в виде принта на мерче?  Count\n",
       "0                                          Да     30\n",
       "1                                         Нет     13"
      ]
     },
     "execution_count": 162,
     "metadata": {},
     "output_type": "execute_result"
    }
   ],
   "source": [
    "m_13 = m.iloc[:,[13]].value_counts().reset_index()\n",
    "m_13.columns = ['Вам нравятся цитаты в виде принта на мерче?', 'Count']\n",
    "print('Доверительный интервал:', mean_confidence_interval(m_13['Count'], 0.4999))\n",
    "m_13"
   ]
  },
  {
   "cell_type": "code",
   "execution_count": null,
   "metadata": {},
   "outputs": [],
   "source": [
    "\n"
   ]
  },
  {
   "cell_type": "code",
   "execution_count": 163,
   "metadata": {},
   "outputs": [
    {
     "name": "stdout",
     "output_type": "stream",
     "text": [
      "Доверительный интервал: (27.90694182910558, 50.0, 72.09305817089442)\n"
     ]
    },
    {
     "data": {
      "text/html": [
       "<div>\n",
       "<style scoped>\n",
       "    .dataframe tbody tr th:only-of-type {\n",
       "        vertical-align: middle;\n",
       "    }\n",
       "\n",
       "    .dataframe tbody tr th {\n",
       "        vertical-align: top;\n",
       "    }\n",
       "\n",
       "    .dataframe thead th {\n",
       "        text-align: right;\n",
       "    }\n",
       "</style>\n",
       "<table border=\"1\" class=\"dataframe\">\n",
       "  <thead>\n",
       "    <tr style=\"text-align: right;\">\n",
       "      <th></th>\n",
       "      <th>Как вы относитесь к юмористическим цитатам на мерче?</th>\n",
       "      <th>%</th>\n",
       "    </tr>\n",
       "  </thead>\n",
       "  <tbody>\n",
       "    <tr>\n",
       "      <th>0</th>\n",
       "      <td>Нравится</td>\n",
       "      <td>72.1</td>\n",
       "    </tr>\n",
       "    <tr>\n",
       "      <th>1</th>\n",
       "      <td>Не нравится</td>\n",
       "      <td>27.9</td>\n",
       "    </tr>\n",
       "  </tbody>\n",
       "</table>\n",
       "</div>"
      ],
      "text/plain": [
       "  Как вы относитесь к юмористическим цитатам на мерче?     %\n",
       "0                                           Нравится    72.1\n",
       "1                                        Не нравится    27.9"
      ]
     },
     "execution_count": 163,
     "metadata": {},
     "output_type": "execute_result"
    }
   ],
   "source": [
    "df_m_14 = round(m.iloc[:,[14]].value_counts() / m.iloc[:,[14]].value_counts().sum() * 100, 1).reset_index()\n",
    "df_m_14.columns = ['Как вы относитесь к юмористическим цитатам на мерче?', '%']\n",
    "print('Доверительный интервал:', mean_confidence_interval(df_m_14['%'], 0.4999))\n",
    "df_m_14"
   ]
  },
  {
   "cell_type": "code",
   "execution_count": 164,
   "metadata": {},
   "outputs": [
    {
     "name": "stdout",
     "output_type": "stream",
     "text": [
      "Доверительный интервал: (12.002984044185656, 21.5, 30.997015955814344)\n"
     ]
    },
    {
     "data": {
      "text/html": [
       "<div>\n",
       "<style scoped>\n",
       "    .dataframe tbody tr th:only-of-type {\n",
       "        vertical-align: middle;\n",
       "    }\n",
       "\n",
       "    .dataframe tbody tr th {\n",
       "        vertical-align: top;\n",
       "    }\n",
       "\n",
       "    .dataframe thead th {\n",
       "        text-align: right;\n",
       "    }\n",
       "</style>\n",
       "<table border=\"1\" class=\"dataframe\">\n",
       "  <thead>\n",
       "    <tr style=\"text-align: right;\">\n",
       "      <th></th>\n",
       "      <th>Как вы относитесь к юмористическим цитатам на мерче?</th>\n",
       "      <th>Count</th>\n",
       "    </tr>\n",
       "  </thead>\n",
       "  <tbody>\n",
       "    <tr>\n",
       "      <th>0</th>\n",
       "      <td>Нравится</td>\n",
       "      <td>31</td>\n",
       "    </tr>\n",
       "    <tr>\n",
       "      <th>1</th>\n",
       "      <td>Не нравится</td>\n",
       "      <td>12</td>\n",
       "    </tr>\n",
       "  </tbody>\n",
       "</table>\n",
       "</div>"
      ],
      "text/plain": [
       "  Как вы относитесь к юмористическим цитатам на мерче?  Count\n",
       "0                                           Нравится       31\n",
       "1                                        Не нравится       12"
      ]
     },
     "execution_count": 164,
     "metadata": {},
     "output_type": "execute_result"
    }
   ],
   "source": [
    "m_14 = m.iloc[:,[14]].value_counts().reset_index()\n",
    "m_14.columns = ['Как вы относитесь к юмористическим цитатам на мерче?', 'Count']\n",
    "print('Доверительный интервал:', mean_confidence_interval(m_14['Count'], 0.4999))\n",
    "m_14"
   ]
  },
  {
   "cell_type": "code",
   "execution_count": null,
   "metadata": {},
   "outputs": [],
   "source": [
    "\n"
   ]
  },
  {
   "cell_type": "code",
   "execution_count": 165,
   "metadata": {},
   "outputs": [
    {
     "name": "stdout",
     "output_type": "stream",
     "text": [
      "Доверительный интервал: (23.048901011821556, 33.36666666666667, 43.68443232151178)\n"
     ]
    },
    {
     "data": {
      "text/html": [
       "<div>\n",
       "<style scoped>\n",
       "    .dataframe tbody tr th:only-of-type {\n",
       "        vertical-align: middle;\n",
       "    }\n",
       "\n",
       "    .dataframe tbody tr th {\n",
       "        vertical-align: top;\n",
       "    }\n",
       "\n",
       "    .dataframe thead th {\n",
       "        text-align: right;\n",
       "    }\n",
       "</style>\n",
       "<table border=\"1\" class=\"dataframe\">\n",
       "  <thead>\n",
       "    <tr style=\"text-align: right;\">\n",
       "      <th></th>\n",
       "      <th>Вы обычно покупаете мерч после важных мероприятий? Например, после концерта или интересной отраслевой конференции</th>\n",
       "      <th>%</th>\n",
       "    </tr>\n",
       "  </thead>\n",
       "  <tbody>\n",
       "    <tr>\n",
       "      <th>0</th>\n",
       "      <td>Я никогда не покупал мерч</td>\n",
       "      <td>44.2</td>\n",
       "    </tr>\n",
       "    <tr>\n",
       "      <th>1</th>\n",
       "      <td>Нет</td>\n",
       "      <td>32.6</td>\n",
       "    </tr>\n",
       "    <tr>\n",
       "      <th>2</th>\n",
       "      <td>Да</td>\n",
       "      <td>23.3</td>\n",
       "    </tr>\n",
       "  </tbody>\n",
       "</table>\n",
       "</div>"
      ],
      "text/plain": [
       "  Вы обычно покупаете мерч после важных мероприятий? Например, после концерта или интересной отраслевой конференции  \\\n",
       "0                          Я никогда не покупал мерч                                                                  \n",
       "1                                                Нет                                                                  \n",
       "2                                                 Да                                                                  \n",
       "\n",
       "      %  \n",
       "0  44.2  \n",
       "1  32.6  \n",
       "2  23.3  "
      ]
     },
     "execution_count": 165,
     "metadata": {},
     "output_type": "execute_result"
    }
   ],
   "source": [
    "df_m_15 = round(m.iloc[:,[15]].value_counts() / m.iloc[:,[15]].value_counts().sum() * 100, 1).reset_index()\n",
    "df_m_15.columns = ['Вы обычно покупаете мерч после важных мероприятий? Например, после концерта или интересной отраслевой конференции', '%']\n",
    "print('Доверительный интервал:', mean_confidence_interval(df_m_15['%'], 0.77))\n",
    "df_m_15"
   ]
  },
  {
   "cell_type": "code",
   "execution_count": 166,
   "metadata": {},
   "outputs": [
    {
     "name": "stdout",
     "output_type": "stream",
     "text": [
      "Доверительный интервал: (9.890102925166715, 14.333333333333334, 18.776563741499952)\n"
     ]
    },
    {
     "data": {
      "text/html": [
       "<div>\n",
       "<style scoped>\n",
       "    .dataframe tbody tr th:only-of-type {\n",
       "        vertical-align: middle;\n",
       "    }\n",
       "\n",
       "    .dataframe tbody tr th {\n",
       "        vertical-align: top;\n",
       "    }\n",
       "\n",
       "    .dataframe thead th {\n",
       "        text-align: right;\n",
       "    }\n",
       "</style>\n",
       "<table border=\"1\" class=\"dataframe\">\n",
       "  <thead>\n",
       "    <tr style=\"text-align: right;\">\n",
       "      <th></th>\n",
       "      <th>Вы обычно покупаете мерч после важных мероприятий? Например, после концерта или интересной отраслевой конференции</th>\n",
       "      <th>Count</th>\n",
       "    </tr>\n",
       "  </thead>\n",
       "  <tbody>\n",
       "    <tr>\n",
       "      <th>0</th>\n",
       "      <td>Я никогда не покупал мерч</td>\n",
       "      <td>19</td>\n",
       "    </tr>\n",
       "    <tr>\n",
       "      <th>1</th>\n",
       "      <td>Нет</td>\n",
       "      <td>14</td>\n",
       "    </tr>\n",
       "    <tr>\n",
       "      <th>2</th>\n",
       "      <td>Да</td>\n",
       "      <td>10</td>\n",
       "    </tr>\n",
       "  </tbody>\n",
       "</table>\n",
       "</div>"
      ],
      "text/plain": [
       "  Вы обычно покупаете мерч после важных мероприятий? Например, после концерта или интересной отраслевой конференции  \\\n",
       "0                          Я никогда не покупал мерч                                                                  \n",
       "1                                                Нет                                                                  \n",
       "2                                                 Да                                                                  \n",
       "\n",
       "   Count  \n",
       "0     19  \n",
       "1     14  \n",
       "2     10  "
      ]
     },
     "execution_count": 166,
     "metadata": {},
     "output_type": "execute_result"
    }
   ],
   "source": [
    "m_15 = m.iloc[:,[15]].value_counts().reset_index()\n",
    "m_15.columns = ['Вы обычно покупаете мерч после важных мероприятий? Например, после концерта или интересной отраслевой конференции', 'Count']\n",
    "print('Доверительный интервал:', mean_confidence_interval(m_15['Count'], 0.77))\n",
    "m_15"
   ]
  },
  {
   "cell_type": "code",
   "execution_count": null,
   "metadata": {},
   "outputs": [],
   "source": [
    "\n"
   ]
  },
  {
   "cell_type": "code",
   "execution_count": 167,
   "metadata": {},
   "outputs": [
    {
     "name": "stdout",
     "output_type": "stream",
     "text": [
      "Доверительный интервал: (48.800376931897134, 50.0, 51.199623068102866)\n"
     ]
    },
    {
     "data": {
      "text/html": [
       "<div>\n",
       "<style scoped>\n",
       "    .dataframe tbody tr th:only-of-type {\n",
       "        vertical-align: middle;\n",
       "    }\n",
       "\n",
       "    .dataframe tbody tr th {\n",
       "        vertical-align: top;\n",
       "    }\n",
       "\n",
       "    .dataframe thead th {\n",
       "        text-align: right;\n",
       "    }\n",
       "</style>\n",
       "<table border=\"1\" class=\"dataframe\">\n",
       "  <thead>\n",
       "    <tr style=\"text-align: right;\">\n",
       "      <th></th>\n",
       "      <th>Вам важно, чтобы вы сами могли придумать свой дизайн для мерча: выбрать уникальное сочетание цвета и принта?</th>\n",
       "      <th>%</th>\n",
       "    </tr>\n",
       "  </thead>\n",
       "  <tbody>\n",
       "    <tr>\n",
       "      <th>0</th>\n",
       "      <td>Нет, дизайнерам виднее</td>\n",
       "      <td>51.2</td>\n",
       "    </tr>\n",
       "    <tr>\n",
       "      <th>1</th>\n",
       "      <td>Да, люблю эксперименты</td>\n",
       "      <td>48.8</td>\n",
       "    </tr>\n",
       "  </tbody>\n",
       "</table>\n",
       "</div>"
      ],
      "text/plain": [
       "  Вам важно, чтобы вы сами могли придумать свой дизайн для мерча: выбрать уникальное сочетание цвета и принта?  \\\n",
       "0                             Нет, дизайнерам виднее                                                             \n",
       "1                             Да, люблю эксперименты                                                             \n",
       "\n",
       "      %  \n",
       "0  51.2  \n",
       "1  48.8  "
      ]
     },
     "execution_count": 167,
     "metadata": {},
     "output_type": "execute_result"
    }
   ],
   "source": [
    "df_m_16 = round(m.iloc[:,[16]].value_counts() / m.iloc[:,[16]].value_counts().sum() * 100, 1).reset_index()\n",
    "df_m_16.columns = ['Вам важно, чтобы вы сами могли придумать свой дизайн для мерча: выбрать уникальное сочетание цвета и принта?', '%']\n",
    "print('Доверительный интервал:', mean_confidence_interval(df_m_16['%'], 0.4999))\n",
    "df_m_16"
   ]
  },
  {
   "cell_type": "code",
   "execution_count": 168,
   "metadata": {},
   "outputs": [
    {
     "name": "stdout",
     "output_type": "stream",
     "text": [
      "Доверительный интервал: (21.00015705495714, 21.5, 21.99984294504286)\n"
     ]
    },
    {
     "data": {
      "text/html": [
       "<div>\n",
       "<style scoped>\n",
       "    .dataframe tbody tr th:only-of-type {\n",
       "        vertical-align: middle;\n",
       "    }\n",
       "\n",
       "    .dataframe tbody tr th {\n",
       "        vertical-align: top;\n",
       "    }\n",
       "\n",
       "    .dataframe thead th {\n",
       "        text-align: right;\n",
       "    }\n",
       "</style>\n",
       "<table border=\"1\" class=\"dataframe\">\n",
       "  <thead>\n",
       "    <tr style=\"text-align: right;\">\n",
       "      <th></th>\n",
       "      <th>Вам важно, чтобы вы сами могли придумать свой дизайн для мерча: выбрать уникальное сочетание цвета и принта?</th>\n",
       "      <th>Count</th>\n",
       "    </tr>\n",
       "  </thead>\n",
       "  <tbody>\n",
       "    <tr>\n",
       "      <th>0</th>\n",
       "      <td>Нет, дизайнерам виднее</td>\n",
       "      <td>22</td>\n",
       "    </tr>\n",
       "    <tr>\n",
       "      <th>1</th>\n",
       "      <td>Да, люблю эксперименты</td>\n",
       "      <td>21</td>\n",
       "    </tr>\n",
       "  </tbody>\n",
       "</table>\n",
       "</div>"
      ],
      "text/plain": [
       "  Вам важно, чтобы вы сами могли придумать свой дизайн для мерча: выбрать уникальное сочетание цвета и принта?  \\\n",
       "0                             Нет, дизайнерам виднее                                                             \n",
       "1                             Да, люблю эксперименты                                                             \n",
       "\n",
       "   Count  \n",
       "0     22  \n",
       "1     21  "
      ]
     },
     "execution_count": 168,
     "metadata": {},
     "output_type": "execute_result"
    }
   ],
   "source": [
    "m_16 = m.iloc[:,[16]].value_counts().reset_index()\n",
    "m_16.columns = ['Вам важно, чтобы вы сами могли придумать свой дизайн для мерча: выбрать уникальное сочетание цвета и принта?', 'Count']\n",
    "print('Доверительный интервал:', mean_confidence_interval(m_16['Count'], 0.4999))\n",
    "m_16"
   ]
  },
  {
   "cell_type": "code",
   "execution_count": null,
   "metadata": {},
   "outputs": [],
   "source": [
    "\n"
   ]
  },
  {
   "cell_type": "code",
   "execution_count": 169,
   "metadata": {},
   "outputs": [
    {
     "name": "stdout",
     "output_type": "stream",
     "text": [
      "Доверительный интервал: (30.206219376302737, 50.0, 69.79378062369726)\n"
     ]
    },
    {
     "data": {
      "text/html": [
       "<div>\n",
       "<style scoped>\n",
       "    .dataframe tbody tr th:only-of-type {\n",
       "        vertical-align: middle;\n",
       "    }\n",
       "\n",
       "    .dataframe tbody tr th {\n",
       "        vertical-align: top;\n",
       "    }\n",
       "\n",
       "    .dataframe thead th {\n",
       "        text-align: right;\n",
       "    }\n",
       "</style>\n",
       "<table border=\"1\" class=\"dataframe\">\n",
       "  <thead>\n",
       "    <tr style=\"text-align: right;\">\n",
       "      <th></th>\n",
       "      <th>Мерч в качестве бонуса мотивировал бы вас лучше учиться?</th>\n",
       "      <th>%</th>\n",
       "    </tr>\n",
       "  </thead>\n",
       "  <tbody>\n",
       "    <tr>\n",
       "      <th>0</th>\n",
       "      <td>Да</td>\n",
       "      <td>69.8</td>\n",
       "    </tr>\n",
       "    <tr>\n",
       "      <th>1</th>\n",
       "      <td>Нет</td>\n",
       "      <td>30.2</td>\n",
       "    </tr>\n",
       "  </tbody>\n",
       "</table>\n",
       "</div>"
      ],
      "text/plain": [
       "  Мерч в качестве бонуса мотивировал бы вас лучше учиться?     %\n",
       "0                                                 Да        69.8\n",
       "1                                                Нет        30.2"
      ]
     },
     "execution_count": 169,
     "metadata": {},
     "output_type": "execute_result"
    }
   ],
   "source": [
    "df_m_17 = round(m.iloc[:,[17]].value_counts() / m.iloc[:,[17]].value_counts().sum() * 100, 1).reset_index()\n",
    "df_m_17.columns = ['Мерч в качестве бонуса мотивировал бы вас лучше учиться?', '%']\n",
    "print('Доверительный интервал:', mean_confidence_interval(df_m_17['%'], 0.4999))\n",
    "df_m_17"
   ]
  },
  {
   "cell_type": "code",
   "execution_count": 170,
   "metadata": {},
   "outputs": [
    {
     "name": "stdout",
     "output_type": "stream",
     "text": [
      "Доверительный интервал: (13.002669934271378, 21.5, 29.997330065728622)\n"
     ]
    },
    {
     "data": {
      "text/html": [
       "<div>\n",
       "<style scoped>\n",
       "    .dataframe tbody tr th:only-of-type {\n",
       "        vertical-align: middle;\n",
       "    }\n",
       "\n",
       "    .dataframe tbody tr th {\n",
       "        vertical-align: top;\n",
       "    }\n",
       "\n",
       "    .dataframe thead th {\n",
       "        text-align: right;\n",
       "    }\n",
       "</style>\n",
       "<table border=\"1\" class=\"dataframe\">\n",
       "  <thead>\n",
       "    <tr style=\"text-align: right;\">\n",
       "      <th></th>\n",
       "      <th>Мерч в качестве бонуса мотивировал бы вас лучше учиться?</th>\n",
       "      <th>Count</th>\n",
       "    </tr>\n",
       "  </thead>\n",
       "  <tbody>\n",
       "    <tr>\n",
       "      <th>0</th>\n",
       "      <td>Да</td>\n",
       "      <td>30</td>\n",
       "    </tr>\n",
       "    <tr>\n",
       "      <th>1</th>\n",
       "      <td>Нет</td>\n",
       "      <td>13</td>\n",
       "    </tr>\n",
       "  </tbody>\n",
       "</table>\n",
       "</div>"
      ],
      "text/plain": [
       "  Мерч в качестве бонуса мотивировал бы вас лучше учиться?  Count\n",
       "0                                                 Да           30\n",
       "1                                                Нет           13"
      ]
     },
     "execution_count": 170,
     "metadata": {},
     "output_type": "execute_result"
    }
   ],
   "source": [
    "m_17 = m.iloc[:,[17]].value_counts().reset_index()\n",
    "m_17.columns = ['Мерч в качестве бонуса мотивировал бы вас лучше учиться?', 'Count']\n",
    "print('Доверительный интервал:', mean_confidence_interval(m_17['Count'], 0.4999))\n",
    "m_17"
   ]
  },
  {
   "cell_type": "code",
   "execution_count": null,
   "metadata": {},
   "outputs": [],
   "source": [
    "\n"
   ]
  },
  {
   "cell_type": "code",
   "execution_count": 171,
   "metadata": {},
   "outputs": [
    {
     "name": "stdout",
     "output_type": "stream",
     "text": [
      "Доверительный интервал: (20.90914059850554, 50.0, 79.09085940149446)\n"
     ]
    },
    {
     "data": {
      "text/html": [
       "<div>\n",
       "<style scoped>\n",
       "    .dataframe tbody tr th:only-of-type {\n",
       "        vertical-align: middle;\n",
       "    }\n",
       "\n",
       "    .dataframe tbody tr th {\n",
       "        vertical-align: top;\n",
       "    }\n",
       "\n",
       "    .dataframe thead th {\n",
       "        text-align: right;\n",
       "    }\n",
       "</style>\n",
       "<table border=\"1\" class=\"dataframe\">\n",
       "  <thead>\n",
       "    <tr style=\"text-align: right;\">\n",
       "      <th></th>\n",
       "      <th>Вам важно, чтобы мерч был уникальным продуктом, который больше ни у кого не встретишь?</th>\n",
       "      <th>%</th>\n",
       "    </tr>\n",
       "  </thead>\n",
       "  <tbody>\n",
       "    <tr>\n",
       "      <th>0</th>\n",
       "      <td>Да</td>\n",
       "      <td>79.1</td>\n",
       "    </tr>\n",
       "    <tr>\n",
       "      <th>1</th>\n",
       "      <td>Нет</td>\n",
       "      <td>20.9</td>\n",
       "    </tr>\n",
       "  </tbody>\n",
       "</table>\n",
       "</div>"
      ],
      "text/plain": [
       "  Вам важно, чтобы мерч был уникальным продуктом, который больше ни у кого не встретишь?  \\\n",
       "0                                                 Да                                       \n",
       "1                                                Нет                                       \n",
       "\n",
       "      %  \n",
       "0  79.1  \n",
       "1  20.9  "
      ]
     },
     "execution_count": 171,
     "metadata": {},
     "output_type": "execute_result"
    }
   ],
   "source": [
    "df_m_18 = round(m.iloc[:,[18]].value_counts() / m.iloc[:,[18]].value_counts().sum() * 100, 1).reset_index()\n",
    "df_m_18.columns = ['Вам важно, чтобы мерч был уникальным продуктом, который больше ни у кого не встретишь?', '%']\n",
    "print('Доверительный интервал:', mean_confidence_interval(df_m_18['%'], 0.4999))\n",
    "df_m_18"
   ]
  },
  {
   "cell_type": "code",
   "execution_count": 172,
   "metadata": {},
   "outputs": [
    {
     "name": "stdout",
     "output_type": "stream",
     "text": [
      "Доверительный интервал: (9.003926373928495, 21.5, 33.99607362607151)\n"
     ]
    },
    {
     "data": {
      "text/html": [
       "<div>\n",
       "<style scoped>\n",
       "    .dataframe tbody tr th:only-of-type {\n",
       "        vertical-align: middle;\n",
       "    }\n",
       "\n",
       "    .dataframe tbody tr th {\n",
       "        vertical-align: top;\n",
       "    }\n",
       "\n",
       "    .dataframe thead th {\n",
       "        text-align: right;\n",
       "    }\n",
       "</style>\n",
       "<table border=\"1\" class=\"dataframe\">\n",
       "  <thead>\n",
       "    <tr style=\"text-align: right;\">\n",
       "      <th></th>\n",
       "      <th>Вам важно, чтобы мерч был уникальным продуктом, который больше ни у кого не встретишь?</th>\n",
       "      <th>Count</th>\n",
       "    </tr>\n",
       "  </thead>\n",
       "  <tbody>\n",
       "    <tr>\n",
       "      <th>0</th>\n",
       "      <td>Да</td>\n",
       "      <td>34</td>\n",
       "    </tr>\n",
       "    <tr>\n",
       "      <th>1</th>\n",
       "      <td>Нет</td>\n",
       "      <td>9</td>\n",
       "    </tr>\n",
       "  </tbody>\n",
       "</table>\n",
       "</div>"
      ],
      "text/plain": [
       "  Вам важно, чтобы мерч был уникальным продуктом, который больше ни у кого не встретишь?  \\\n",
       "0                                                 Да                                       \n",
       "1                                                Нет                                       \n",
       "\n",
       "   Count  \n",
       "0     34  \n",
       "1      9  "
      ]
     },
     "execution_count": 172,
     "metadata": {},
     "output_type": "execute_result"
    }
   ],
   "source": [
    "m_18 = m.iloc[:,[18]].value_counts().reset_index()\n",
    "m_18.columns = ['Вам важно, чтобы мерч был уникальным продуктом, который больше ни у кого не встретишь?', 'Count']\n",
    "print('Доверительный интервал:', mean_confidence_interval(m_18['Count'], 0.4999))\n",
    "m_18"
   ]
  },
  {
   "cell_type": "code",
   "execution_count": null,
   "metadata": {},
   "outputs": [],
   "source": [
    "\n"
   ]
  },
  {
   "cell_type": "code",
   "execution_count": 173,
   "metadata": {},
   "outputs": [
    {
     "name": "stdout",
     "output_type": "stream",
     "text": [
      "Доверительный интервал: (32.60546551250846, 50.0, 67.39453448749154)\n"
     ]
    },
    {
     "data": {
      "text/html": [
       "<div>\n",
       "<style scoped>\n",
       "    .dataframe tbody tr th:only-of-type {\n",
       "        vertical-align: middle;\n",
       "    }\n",
       "\n",
       "    .dataframe tbody tr th {\n",
       "        vertical-align: top;\n",
       "    }\n",
       "\n",
       "    .dataframe thead th {\n",
       "        text-align: right;\n",
       "    }\n",
       "</style>\n",
       "<table border=\"1\" class=\"dataframe\">\n",
       "  <thead>\n",
       "    <tr style=\"text-align: right;\">\n",
       "      <th></th>\n",
       "      <th>Вы готовы платить за лимитированный мерч? Лимитированная коллекция - та, которая выпускается один раз ограниченным тиражом</th>\n",
       "      <th>%</th>\n",
       "    </tr>\n",
       "  </thead>\n",
       "  <tbody>\n",
       "    <tr>\n",
       "      <th>0</th>\n",
       "      <td>Да</td>\n",
       "      <td>67.4</td>\n",
       "    </tr>\n",
       "    <tr>\n",
       "      <th>1</th>\n",
       "      <td>Нет</td>\n",
       "      <td>32.6</td>\n",
       "    </tr>\n",
       "  </tbody>\n",
       "</table>\n",
       "</div>"
      ],
      "text/plain": [
       "  Вы готовы платить за лимитированный мерч? Лимитированная коллекция - та, которая выпускается один раз ограниченным тиражом  \\\n",
       "0                                                 Да                                                                           \n",
       "1                                                Нет                                                                           \n",
       "\n",
       "      %  \n",
       "0  67.4  \n",
       "1  32.6  "
      ]
     },
     "execution_count": 173,
     "metadata": {},
     "output_type": "execute_result"
    }
   ],
   "source": [
    "df_m_19 = round(m.iloc[:,[19]].value_counts() / m.iloc[:,[19]].value_counts().sum() * 100, 1).reset_index()\n",
    "df_m_19.columns = ['Вы готовы платить за лимитированный мерч? Лимитированная коллекция - та, которая выпускается один раз ограниченным тиражом', '%']\n",
    "print('Доверительный интервал:', mean_confidence_interval(df_m_19['%'], 0.4999))\n",
    "df_m_19"
   ]
  },
  {
   "cell_type": "code",
   "execution_count": 174,
   "metadata": {},
   "outputs": [
    {
     "name": "stdout",
     "output_type": "stream",
     "text": [
      "Доверительный интервал: (14.002355824357096, 21.5, 28.997644175642904)\n"
     ]
    },
    {
     "data": {
      "text/html": [
       "<div>\n",
       "<style scoped>\n",
       "    .dataframe tbody tr th:only-of-type {\n",
       "        vertical-align: middle;\n",
       "    }\n",
       "\n",
       "    .dataframe tbody tr th {\n",
       "        vertical-align: top;\n",
       "    }\n",
       "\n",
       "    .dataframe thead th {\n",
       "        text-align: right;\n",
       "    }\n",
       "</style>\n",
       "<table border=\"1\" class=\"dataframe\">\n",
       "  <thead>\n",
       "    <tr style=\"text-align: right;\">\n",
       "      <th></th>\n",
       "      <th>Вы готовы платить за лимитированный мерч? Лимитированная коллекция - та, которая выпускается один раз ограниченным тиражом</th>\n",
       "      <th>Count</th>\n",
       "    </tr>\n",
       "  </thead>\n",
       "  <tbody>\n",
       "    <tr>\n",
       "      <th>0</th>\n",
       "      <td>Да</td>\n",
       "      <td>29</td>\n",
       "    </tr>\n",
       "    <tr>\n",
       "      <th>1</th>\n",
       "      <td>Нет</td>\n",
       "      <td>14</td>\n",
       "    </tr>\n",
       "  </tbody>\n",
       "</table>\n",
       "</div>"
      ],
      "text/plain": [
       "  Вы готовы платить за лимитированный мерч? Лимитированная коллекция - та, которая выпускается один раз ограниченным тиражом  \\\n",
       "0                                                 Да                                                                           \n",
       "1                                                Нет                                                                           \n",
       "\n",
       "   Count  \n",
       "0     29  \n",
       "1     14  "
      ]
     },
     "execution_count": 174,
     "metadata": {},
     "output_type": "execute_result"
    }
   ],
   "source": [
    "m_19 = m.iloc[:,[19]].value_counts().reset_index()\n",
    "m_19.columns = ['Вы готовы платить за лимитированный мерч? Лимитированная коллекция - та, которая выпускается один раз ограниченным тиражом', 'Count']\n",
    "print('Доверительный интервал:', mean_confidence_interval(m_19['Count'], 0.4999))\n",
    "m_19"
   ]
  },
  {
   "cell_type": "code",
   "execution_count": null,
   "metadata": {},
   "outputs": [],
   "source": [
    "\n"
   ]
  },
  {
   "cell_type": "code",
   "execution_count": 175,
   "metadata": {},
   "outputs": [
    {
     "name": "stdout",
     "output_type": "stream",
     "text": [
      "Доверительный интервал: (41.90254429030566, 50.0, 58.09745570969434)\n"
     ]
    },
    {
     "data": {
      "text/html": [
       "<div>\n",
       "<style scoped>\n",
       "    .dataframe tbody tr th:only-of-type {\n",
       "        vertical-align: middle;\n",
       "    }\n",
       "\n",
       "    .dataframe tbody tr th {\n",
       "        vertical-align: top;\n",
       "    }\n",
       "\n",
       "    .dataframe thead th {\n",
       "        text-align: right;\n",
       "    }\n",
       "</style>\n",
       "<table border=\"1\" class=\"dataframe\">\n",
       "  <thead>\n",
       "    <tr style=\"text-align: right;\">\n",
       "      <th></th>\n",
       "      <th>Обращаете ли вы внимание на экологичность товаров при покупке вещей?</th>\n",
       "      <th>%</th>\n",
       "    </tr>\n",
       "  </thead>\n",
       "  <tbody>\n",
       "    <tr>\n",
       "      <th>0</th>\n",
       "      <td>Нет, для меня это неважный критерий при выборе...</td>\n",
       "      <td>58.1</td>\n",
       "    </tr>\n",
       "    <tr>\n",
       "      <th>1</th>\n",
       "      <td>Да, большая часть моих вещей - экологичные</td>\n",
       "      <td>41.9</td>\n",
       "    </tr>\n",
       "  </tbody>\n",
       "</table>\n",
       "</div>"
      ],
      "text/plain": [
       "  Обращаете ли вы внимание на экологичность товаров при покупке вещей?     %\n",
       "0  Нет, для меня это неважный критерий при выборе...                    58.1\n",
       "1         Да, большая часть моих вещей - экологичные                    41.9"
      ]
     },
     "execution_count": 175,
     "metadata": {},
     "output_type": "execute_result"
    }
   ],
   "source": [
    "df_m_20 = round(m.iloc[:,[20]].value_counts() / m.iloc[:,[20]].value_counts().sum() * 100, 1).reset_index()\n",
    "df_m_20.columns = ['Обращаете ли вы внимание на экологичность товаров при покупке вещей?', '%']\n",
    "print('Доверительный интервал:', mean_confidence_interval(df_m_20['%'], 0.4999))\n",
    "df_m_20"
   ]
  },
  {
   "cell_type": "code",
   "execution_count": 176,
   "metadata": {},
   "outputs": [
    {
     "name": "stdout",
     "output_type": "stream",
     "text": [
      "Доверительный интервал: (18.00109938469998, 21.5, 24.99890061530002)\n"
     ]
    },
    {
     "data": {
      "text/html": [
       "<div>\n",
       "<style scoped>\n",
       "    .dataframe tbody tr th:only-of-type {\n",
       "        vertical-align: middle;\n",
       "    }\n",
       "\n",
       "    .dataframe tbody tr th {\n",
       "        vertical-align: top;\n",
       "    }\n",
       "\n",
       "    .dataframe thead th {\n",
       "        text-align: right;\n",
       "    }\n",
       "</style>\n",
       "<table border=\"1\" class=\"dataframe\">\n",
       "  <thead>\n",
       "    <tr style=\"text-align: right;\">\n",
       "      <th></th>\n",
       "      <th>Обращаете ли вы внимание на экологичность товаров при покупке вещей?</th>\n",
       "      <th>Count</th>\n",
       "    </tr>\n",
       "  </thead>\n",
       "  <tbody>\n",
       "    <tr>\n",
       "      <th>0</th>\n",
       "      <td>Нет, для меня это неважный критерий при выборе...</td>\n",
       "      <td>25</td>\n",
       "    </tr>\n",
       "    <tr>\n",
       "      <th>1</th>\n",
       "      <td>Да, большая часть моих вещей - экологичные</td>\n",
       "      <td>18</td>\n",
       "    </tr>\n",
       "  </tbody>\n",
       "</table>\n",
       "</div>"
      ],
      "text/plain": [
       "  Обращаете ли вы внимание на экологичность товаров при покупке вещей?  Count\n",
       "0  Нет, для меня это неважный критерий при выборе...                       25\n",
       "1         Да, большая часть моих вещей - экологичные                       18"
      ]
     },
     "execution_count": 176,
     "metadata": {},
     "output_type": "execute_result"
    }
   ],
   "source": [
    "m_20 = m.iloc[:,[20]].value_counts().reset_index()\n",
    "m_20.columns = ['Обращаете ли вы внимание на экологичность товаров при покупке вещей?', 'Count']\n",
    "print('Доверительный интервал:', mean_confidence_interval(m_20['Count'], 0.4999))\n",
    "m_20"
   ]
  },
  {
   "cell_type": "code",
   "execution_count": null,
   "metadata": {},
   "outputs": [],
   "source": [
    "\n"
   ]
  },
  {
   "cell_type": "code",
   "execution_count": 177,
   "metadata": {},
   "outputs": [
    {
     "name": "stdout",
     "output_type": "stream",
     "text": [
      "Доверительный интервал: (32.60546551250846, 50.0, 67.39453448749154)\n"
     ]
    },
    {
     "data": {
      "text/html": [
       "<div>\n",
       "<style scoped>\n",
       "    .dataframe tbody tr th:only-of-type {\n",
       "        vertical-align: middle;\n",
       "    }\n",
       "\n",
       "    .dataframe tbody tr th {\n",
       "        vertical-align: top;\n",
       "    }\n",
       "\n",
       "    .dataframe thead th {\n",
       "        text-align: right;\n",
       "    }\n",
       "</style>\n",
       "<table border=\"1\" class=\"dataframe\">\n",
       "  <thead>\n",
       "    <tr style=\"text-align: right;\">\n",
       "      <th></th>\n",
       "      <th>Вы с большей вероятностью купите мерч, если будете знать, что вырученные средства пойдут на благотворительность?</th>\n",
       "      <th>%</th>\n",
       "    </tr>\n",
       "  </thead>\n",
       "  <tbody>\n",
       "    <tr>\n",
       "      <th>0</th>\n",
       "      <td>Да</td>\n",
       "      <td>67.4</td>\n",
       "    </tr>\n",
       "    <tr>\n",
       "      <th>1</th>\n",
       "      <td>Нет</td>\n",
       "      <td>32.6</td>\n",
       "    </tr>\n",
       "  </tbody>\n",
       "</table>\n",
       "</div>"
      ],
      "text/plain": [
       "  Вы с большей вероятностью купите мерч, если будете знать, что вырученные средства пойдут на благотворительность?  \\\n",
       "0                                                 Да                                                                 \n",
       "1                                                Нет                                                                 \n",
       "\n",
       "      %  \n",
       "0  67.4  \n",
       "1  32.6  "
      ]
     },
     "execution_count": 177,
     "metadata": {},
     "output_type": "execute_result"
    }
   ],
   "source": [
    "df_m_21 = round(m.iloc[:,[21]].value_counts() / m.iloc[:,[21]].value_counts().sum() * 100, 1).reset_index()\n",
    "df_m_21.columns = ['Вы с большей вероятностью купите мерч, если будете знать, что вырученные средства пойдут на благотворительность?', '%']\n",
    "print('Доверительный интервал:', mean_confidence_interval(df_m_21['%'], 0.4999))\n",
    "df_m_21"
   ]
  },
  {
   "cell_type": "code",
   "execution_count": 178,
   "metadata": {},
   "outputs": [
    {
     "name": "stdout",
     "output_type": "stream",
     "text": [
      "Доверительный интервал: (14.002355824357096, 21.5, 28.997644175642904)\n"
     ]
    },
    {
     "data": {
      "text/html": [
       "<div>\n",
       "<style scoped>\n",
       "    .dataframe tbody tr th:only-of-type {\n",
       "        vertical-align: middle;\n",
       "    }\n",
       "\n",
       "    .dataframe tbody tr th {\n",
       "        vertical-align: top;\n",
       "    }\n",
       "\n",
       "    .dataframe thead th {\n",
       "        text-align: right;\n",
       "    }\n",
       "</style>\n",
       "<table border=\"1\" class=\"dataframe\">\n",
       "  <thead>\n",
       "    <tr style=\"text-align: right;\">\n",
       "      <th></th>\n",
       "      <th>Вы с большей вероятностью купите мерч, если будете знать, что вырученные средства пойдут на благотворительность?</th>\n",
       "      <th>Count</th>\n",
       "    </tr>\n",
       "  </thead>\n",
       "  <tbody>\n",
       "    <tr>\n",
       "      <th>0</th>\n",
       "      <td>Да</td>\n",
       "      <td>29</td>\n",
       "    </tr>\n",
       "    <tr>\n",
       "      <th>1</th>\n",
       "      <td>Нет</td>\n",
       "      <td>14</td>\n",
       "    </tr>\n",
       "  </tbody>\n",
       "</table>\n",
       "</div>"
      ],
      "text/plain": [
       "  Вы с большей вероятностью купите мерч, если будете знать, что вырученные средства пойдут на благотворительность?  \\\n",
       "0                                                 Да                                                                 \n",
       "1                                                Нет                                                                 \n",
       "\n",
       "   Count  \n",
       "0     29  \n",
       "1     14  "
      ]
     },
     "execution_count": 178,
     "metadata": {},
     "output_type": "execute_result"
    }
   ],
   "source": [
    "m_21 = m.iloc[:,[21]].value_counts().reset_index()\n",
    "m_21.columns = ['Вы с большей вероятностью купите мерч, если будете знать, что вырученные средства пойдут на благотворительность?', 'Count']\n",
    "print('Доверительный интервал:', mean_confidence_interval(m_21['Count'], 0.4999))\n",
    "m_21"
   ]
  },
  {
   "cell_type": "code",
   "execution_count": null,
   "metadata": {},
   "outputs": [],
   "source": [
    "\n"
   ]
  },
  {
   "cell_type": "code",
   "execution_count": 179,
   "metadata": {},
   "outputs": [
    {
     "name": "stdout",
     "output_type": "stream",
     "text": [
      "Доверительный интервал: (30.206219376302737, 50.0, 69.79378062369726)\n"
     ]
    },
    {
     "data": {
      "text/html": [
       "<div>\n",
       "<style scoped>\n",
       "    .dataframe tbody tr th:only-of-type {\n",
       "        vertical-align: middle;\n",
       "    }\n",
       "\n",
       "    .dataframe tbody tr th {\n",
       "        vertical-align: top;\n",
       "    }\n",
       "\n",
       "    .dataframe thead th {\n",
       "        text-align: right;\n",
       "    }\n",
       "</style>\n",
       "<table border=\"1\" class=\"dataframe\">\n",
       "  <thead>\n",
       "    <tr style=\"text-align: right;\">\n",
       "      <th></th>\n",
       "      <th>Вы бы купили мерч в подарок для благотворительного фонда/детского дома?</th>\n",
       "      <th>%</th>\n",
       "    </tr>\n",
       "  </thead>\n",
       "  <tbody>\n",
       "    <tr>\n",
       "      <th>0</th>\n",
       "      <td>Да</td>\n",
       "      <td>69.8</td>\n",
       "    </tr>\n",
       "    <tr>\n",
       "      <th>1</th>\n",
       "      <td>Нет</td>\n",
       "      <td>30.2</td>\n",
       "    </tr>\n",
       "  </tbody>\n",
       "</table>\n",
       "</div>"
      ],
      "text/plain": [
       "  Вы бы купили мерч в подарок для благотворительного фонда/детского дома?  \\\n",
       "0                                                 Да                        \n",
       "1                                                Нет                        \n",
       "\n",
       "      %  \n",
       "0  69.8  \n",
       "1  30.2  "
      ]
     },
     "execution_count": 179,
     "metadata": {},
     "output_type": "execute_result"
    }
   ],
   "source": [
    "df_m_22 = round(m.iloc[:,[22]].value_counts() / m.iloc[:,[22]].value_counts().sum() * 100, 1).reset_index()\n",
    "df_m_22.columns = ['Вы бы купили мерч в подарок для благотворительного фонда/детского дома?', '%']\n",
    "print('Доверительный интервал:', mean_confidence_interval(df_m_22['%'], 0.4999))\n",
    "df_m_22"
   ]
  },
  {
   "cell_type": "code",
   "execution_count": 180,
   "metadata": {},
   "outputs": [
    {
     "name": "stdout",
     "output_type": "stream",
     "text": [
      "Доверительный интервал: (13.002669934271378, 21.5, 29.997330065728622)\n"
     ]
    },
    {
     "data": {
      "text/html": [
       "<div>\n",
       "<style scoped>\n",
       "    .dataframe tbody tr th:only-of-type {\n",
       "        vertical-align: middle;\n",
       "    }\n",
       "\n",
       "    .dataframe tbody tr th {\n",
       "        vertical-align: top;\n",
       "    }\n",
       "\n",
       "    .dataframe thead th {\n",
       "        text-align: right;\n",
       "    }\n",
       "</style>\n",
       "<table border=\"1\" class=\"dataframe\">\n",
       "  <thead>\n",
       "    <tr style=\"text-align: right;\">\n",
       "      <th></th>\n",
       "      <th>Вы бы купили мерч в подарок для благотворительного фонда/детского дома?</th>\n",
       "      <th>Count</th>\n",
       "    </tr>\n",
       "  </thead>\n",
       "  <tbody>\n",
       "    <tr>\n",
       "      <th>0</th>\n",
       "      <td>Да</td>\n",
       "      <td>30</td>\n",
       "    </tr>\n",
       "    <tr>\n",
       "      <th>1</th>\n",
       "      <td>Нет</td>\n",
       "      <td>13</td>\n",
       "    </tr>\n",
       "  </tbody>\n",
       "</table>\n",
       "</div>"
      ],
      "text/plain": [
       "  Вы бы купили мерч в подарок для благотворительного фонда/детского дома?  \\\n",
       "0                                                 Да                        \n",
       "1                                                Нет                        \n",
       "\n",
       "   Count  \n",
       "0     30  \n",
       "1     13  "
      ]
     },
     "execution_count": 180,
     "metadata": {},
     "output_type": "execute_result"
    }
   ],
   "source": [
    "m_22 = m.iloc[:,[22]].value_counts().reset_index()\n",
    "m_22.columns = ['Вы бы купили мерч в подарок для благотворительного фонда/детского дома?', 'Count']\n",
    "print('Доверительный интервал:', mean_confidence_interval(m_22['Count'], 0.4999))\n",
    "m_22"
   ]
  },
  {
   "cell_type": "code",
   "execution_count": null,
   "metadata": {},
   "outputs": [],
   "source": [
    "\n",
    "\n"
   ]
  },
  {
   "cell_type": "markdown",
   "metadata": {},
   "source": [
    "# =============================================================\n"
   ]
  },
  {
   "cell_type": "markdown",
   "metadata": {},
   "source": [
    "## % опрошенных пользователей, которые так ответили:"
   ]
  },
  {
   "cell_type": "code",
   "execution_count": 181,
   "metadata": {},
   "outputs": [],
   "source": [
    "df_f = df.loc[df['Укажите ваш пол'] == 'Женский']\n",
    "df_m = df.loc[df['Укажите ваш пол'] == 'Мужской']"
   ]
  },
  {
   "cell_type": "code",
   "execution_count": 182,
   "metadata": {},
   "outputs": [
    {
     "data": {
      "text/html": [
       "<div>\n",
       "<style scoped>\n",
       "    .dataframe tbody tr th:only-of-type {\n",
       "        vertical-align: middle;\n",
       "    }\n",
       "\n",
       "    .dataframe tbody tr th {\n",
       "        vertical-align: top;\n",
       "    }\n",
       "\n",
       "    .dataframe thead th {\n",
       "        text-align: right;\n",
       "    }\n",
       "</style>\n",
       "<table border=\"1\" class=\"dataframe\">\n",
       "  <thead>\n",
       "    <tr style=\"text-align: right;\">\n",
       "      <th></th>\n",
       "      <th>Укажите ваш возраст</th>\n",
       "      <th>Жен., %</th>\n",
       "    </tr>\n",
       "  </thead>\n",
       "  <tbody>\n",
       "    <tr>\n",
       "      <th>0</th>\n",
       "      <td>30-39 лет</td>\n",
       "      <td>40.0</td>\n",
       "    </tr>\n",
       "    <tr>\n",
       "      <th>1</th>\n",
       "      <td>23-29 лет</td>\n",
       "      <td>23.1</td>\n",
       "    </tr>\n",
       "    <tr>\n",
       "      <th>2</th>\n",
       "      <td>40-49 лет</td>\n",
       "      <td>21.5</td>\n",
       "    </tr>\n",
       "    <tr>\n",
       "      <th>3</th>\n",
       "      <td>больше 50 лет</td>\n",
       "      <td>7.7</td>\n",
       "    </tr>\n",
       "    <tr>\n",
       "      <th>4</th>\n",
       "      <td>18-22 лет</td>\n",
       "      <td>5.4</td>\n",
       "    </tr>\n",
       "    <tr>\n",
       "      <th>5</th>\n",
       "      <td>до 18 лет</td>\n",
       "      <td>2.3</td>\n",
       "    </tr>\n",
       "  </tbody>\n",
       "</table>\n",
       "</div>"
      ],
      "text/plain": [
       "  Укажите ваш возраст  Жен., %\n",
       "0           30-39 лет     40.0\n",
       "1           23-29 лет     23.1\n",
       "2           40-49 лет     21.5\n",
       "3       больше 50 лет      7.7\n",
       "4           18-22 лет      5.4\n",
       "5           до 18 лет      2.3"
      ]
     },
     "execution_count": 182,
     "metadata": {},
     "output_type": "execute_result"
    }
   ],
   "source": [
    "df1_f = round(df_f.iloc[:,[1]].value_counts() / df_f.iloc[:,[1]].value_counts().sum() * 100, 1).reset_index()\n",
    "df1_f.columns = ['Укажите ваш возраст', 'Жен., %']\n",
    "df1_f"
   ]
  },
  {
   "cell_type": "code",
   "execution_count": 183,
   "metadata": {},
   "outputs": [
    {
     "data": {
      "text/html": [
       "<div>\n",
       "<style scoped>\n",
       "    .dataframe tbody tr th:only-of-type {\n",
       "        vertical-align: middle;\n",
       "    }\n",
       "\n",
       "    .dataframe tbody tr th {\n",
       "        vertical-align: top;\n",
       "    }\n",
       "\n",
       "    .dataframe thead th {\n",
       "        text-align: right;\n",
       "    }\n",
       "</style>\n",
       "<table border=\"1\" class=\"dataframe\">\n",
       "  <thead>\n",
       "    <tr style=\"text-align: right;\">\n",
       "      <th></th>\n",
       "      <th>Укажите ваш возраст</th>\n",
       "      <th>Муж., %</th>\n",
       "    </tr>\n",
       "  </thead>\n",
       "  <tbody>\n",
       "    <tr>\n",
       "      <th>0</th>\n",
       "      <td>30-39 лет</td>\n",
       "      <td>32.6</td>\n",
       "    </tr>\n",
       "    <tr>\n",
       "      <th>1</th>\n",
       "      <td>40-49 лет</td>\n",
       "      <td>25.6</td>\n",
       "    </tr>\n",
       "    <tr>\n",
       "      <th>2</th>\n",
       "      <td>23-29 лет</td>\n",
       "      <td>14.0</td>\n",
       "    </tr>\n",
       "    <tr>\n",
       "      <th>3</th>\n",
       "      <td>18-22 лет</td>\n",
       "      <td>11.6</td>\n",
       "    </tr>\n",
       "    <tr>\n",
       "      <th>4</th>\n",
       "      <td>больше 50 лет</td>\n",
       "      <td>9.3</td>\n",
       "    </tr>\n",
       "    <tr>\n",
       "      <th>5</th>\n",
       "      <td>до 18 лет</td>\n",
       "      <td>7.0</td>\n",
       "    </tr>\n",
       "  </tbody>\n",
       "</table>\n",
       "</div>"
      ],
      "text/plain": [
       "  Укажите ваш возраст  Муж., %\n",
       "0           30-39 лет     32.6\n",
       "1           40-49 лет     25.6\n",
       "2           23-29 лет     14.0\n",
       "3           18-22 лет     11.6\n",
       "4       больше 50 лет      9.3\n",
       "5           до 18 лет      7.0"
      ]
     },
     "execution_count": 183,
     "metadata": {},
     "output_type": "execute_result"
    }
   ],
   "source": [
    "df1_m = round(df_m.iloc[:,[1]].value_counts() / df_m.iloc[:,[1]].value_counts().sum() * 100, 1).reset_index()\n",
    "df1_m.columns = ['Укажите ваш возраст', 'Муж., %']\n",
    "df1_m"
   ]
  },
  {
   "cell_type": "code",
   "execution_count": 184,
   "metadata": {},
   "outputs": [
    {
     "data": {
      "text/html": [
       "<div>\n",
       "<style scoped>\n",
       "    .dataframe tbody tr th:only-of-type {\n",
       "        vertical-align: middle;\n",
       "    }\n",
       "\n",
       "    .dataframe tbody tr th {\n",
       "        vertical-align: top;\n",
       "    }\n",
       "\n",
       "    .dataframe thead th {\n",
       "        text-align: right;\n",
       "    }\n",
       "</style>\n",
       "<table border=\"1\" class=\"dataframe\">\n",
       "  <thead>\n",
       "    <tr style=\"text-align: right;\">\n",
       "      <th></th>\n",
       "      <th>Укажите ваш пол</th>\n",
       "      <th>%</th>\n",
       "    </tr>\n",
       "  </thead>\n",
       "  <tbody>\n",
       "    <tr>\n",
       "      <th>0</th>\n",
       "      <td>Женский</td>\n",
       "      <td>75.1</td>\n",
       "    </tr>\n",
       "    <tr>\n",
       "      <th>1</th>\n",
       "      <td>Мужской</td>\n",
       "      <td>24.9</td>\n",
       "    </tr>\n",
       "  </tbody>\n",
       "</table>\n",
       "</div>"
      ],
      "text/plain": [
       "  Укажите ваш пол     %\n",
       "0         Женский  75.1\n",
       "1         Мужской  24.9"
      ]
     },
     "execution_count": 184,
     "metadata": {},
     "output_type": "execute_result"
    }
   ],
   "source": [
    "df2 = round(df.iloc[:,[2]].value_counts() / df.iloc[:,[2]].value_counts().sum() * 100, 1).reset_index()\n",
    "df2.columns = ['Укажите ваш пол', '%']\n",
    "df2"
   ]
  },
  {
   "cell_type": "code",
   "execution_count": 185,
   "metadata": {},
   "outputs": [
    {
     "data": {
      "text/html": [
       "<div>\n",
       "<style scoped>\n",
       "    .dataframe tbody tr th:only-of-type {\n",
       "        vertical-align: middle;\n",
       "    }\n",
       "\n",
       "    .dataframe tbody tr th {\n",
       "        vertical-align: top;\n",
       "    }\n",
       "\n",
       "    .dataframe thead th {\n",
       "        text-align: right;\n",
       "    }\n",
       "</style>\n",
       "<table border=\"1\" class=\"dataframe\">\n",
       "  <thead>\n",
       "    <tr style=\"text-align: right;\">\n",
       "      <th></th>\n",
       "      <th>Укажите ваш город</th>\n",
       "      <th>Жен., %</th>\n",
       "    </tr>\n",
       "  </thead>\n",
       "  <tbody>\n",
       "    <tr>\n",
       "      <th>0</th>\n",
       "      <td>Москва</td>\n",
       "      <td>24.6</td>\n",
       "    </tr>\n",
       "    <tr>\n",
       "      <th>1</th>\n",
       "      <td>Санкт-Петербург</td>\n",
       "      <td>11.5</td>\n",
       "    </tr>\n",
       "    <tr>\n",
       "      <th>2</th>\n",
       "      <td>Новосибирск</td>\n",
       "      <td>4.6</td>\n",
       "    </tr>\n",
       "    <tr>\n",
       "      <th>3</th>\n",
       "      <td>Екатеринбург</td>\n",
       "      <td>3.1</td>\n",
       "    </tr>\n",
       "    <tr>\n",
       "      <th>4</th>\n",
       "      <td>Ростов-на-Дону</td>\n",
       "      <td>3.1</td>\n",
       "    </tr>\n",
       "    <tr>\n",
       "      <th>5</th>\n",
       "      <td>Алмере</td>\n",
       "      <td>2.3</td>\n",
       "    </tr>\n",
       "    <tr>\n",
       "      <th>6</th>\n",
       "      <td>Краснодар</td>\n",
       "      <td>2.3</td>\n",
       "    </tr>\n",
       "    <tr>\n",
       "      <th>7</th>\n",
       "      <td>Челябинск</td>\n",
       "      <td>2.3</td>\n",
       "    </tr>\n",
       "    <tr>\n",
       "      <th>8</th>\n",
       "      <td>Нижний Новгород</td>\n",
       "      <td>2.3</td>\n",
       "    </tr>\n",
       "    <tr>\n",
       "      <th>9</th>\n",
       "      <td>Самара</td>\n",
       "      <td>1.5</td>\n",
       "    </tr>\n",
       "  </tbody>\n",
       "</table>\n",
       "</div>"
      ],
      "text/plain": [
       "  Укажите ваш город  Жен., %\n",
       "0            Москва     24.6\n",
       "1   Санкт-Петербург     11.5\n",
       "2       Новосибирск      4.6\n",
       "3      Екатеринбург      3.1\n",
       "4    Ростов-на-Дону      3.1\n",
       "5           Алмере       2.3\n",
       "6         Краснодар      2.3\n",
       "7         Челябинск      2.3\n",
       "8   Нижний Новгород      2.3\n",
       "9            Самара      1.5"
      ]
     },
     "execution_count": 185,
     "metadata": {},
     "output_type": "execute_result"
    }
   ],
   "source": [
    "df3_f = round(df_f.iloc[:,[3]].value_counts() / df_f.iloc[:,[3]].value_counts().sum() * 100, 1).reset_index()\n",
    "df3_f.columns = ['Укажите ваш город', 'Жен., %']\n",
    "df3_f.head(10)"
   ]
  },
  {
   "cell_type": "code",
   "execution_count": 186,
   "metadata": {},
   "outputs": [
    {
     "data": {
      "text/html": [
       "<div>\n",
       "<style scoped>\n",
       "    .dataframe tbody tr th:only-of-type {\n",
       "        vertical-align: middle;\n",
       "    }\n",
       "\n",
       "    .dataframe tbody tr th {\n",
       "        vertical-align: top;\n",
       "    }\n",
       "\n",
       "    .dataframe thead th {\n",
       "        text-align: right;\n",
       "    }\n",
       "</style>\n",
       "<table border=\"1\" class=\"dataframe\">\n",
       "  <thead>\n",
       "    <tr style=\"text-align: right;\">\n",
       "      <th></th>\n",
       "      <th>Укажите ваш город</th>\n",
       "      <th>Муж., %</th>\n",
       "    </tr>\n",
       "  </thead>\n",
       "  <tbody>\n",
       "    <tr>\n",
       "      <th>0</th>\n",
       "      <td>Москва</td>\n",
       "      <td>23.3</td>\n",
       "    </tr>\n",
       "    <tr>\n",
       "      <th>1</th>\n",
       "      <td>Самара</td>\n",
       "      <td>9.3</td>\n",
       "    </tr>\n",
       "    <tr>\n",
       "      <th>2</th>\n",
       "      <td>Санкт-Петербург</td>\n",
       "      <td>7.0</td>\n",
       "    </tr>\n",
       "    <tr>\n",
       "      <th>3</th>\n",
       "      <td>Чехов</td>\n",
       "      <td>7.0</td>\n",
       "    </tr>\n",
       "    <tr>\n",
       "      <th>4</th>\n",
       "      <td>Симферополь</td>\n",
       "      <td>4.7</td>\n",
       "    </tr>\n",
       "    <tr>\n",
       "      <th>5</th>\n",
       "      <td>Минск</td>\n",
       "      <td>4.7</td>\n",
       "    </tr>\n",
       "    <tr>\n",
       "      <th>6</th>\n",
       "      <td>Тольятти</td>\n",
       "      <td>2.3</td>\n",
       "    </tr>\n",
       "    <tr>\n",
       "      <th>7</th>\n",
       "      <td>Краснодар</td>\n",
       "      <td>2.3</td>\n",
       "    </tr>\n",
       "    <tr>\n",
       "      <th>8</th>\n",
       "      <td>Владивосток</td>\n",
       "      <td>2.3</td>\n",
       "    </tr>\n",
       "    <tr>\n",
       "      <th>9</th>\n",
       "      <td>Владимир</td>\n",
       "      <td>2.3</td>\n",
       "    </tr>\n",
       "    <tr>\n",
       "      <th>10</th>\n",
       "      <td>Домодедово</td>\n",
       "      <td>2.3</td>\n",
       "    </tr>\n",
       "    <tr>\n",
       "      <th>11</th>\n",
       "      <td>Екатеринбург</td>\n",
       "      <td>2.3</td>\n",
       "    </tr>\n",
       "    <tr>\n",
       "      <th>12</th>\n",
       "      <td>Зеленокумск</td>\n",
       "      <td>2.3</td>\n",
       "    </tr>\n",
       "    <tr>\n",
       "      <th>13</th>\n",
       "      <td>Ижевск</td>\n",
       "      <td>2.3</td>\n",
       "    </tr>\n",
       "    <tr>\n",
       "      <th>14</th>\n",
       "      <td>Краматорск</td>\n",
       "      <td>2.3</td>\n",
       "    </tr>\n",
       "  </tbody>\n",
       "</table>\n",
       "</div>"
      ],
      "text/plain": [
       "   Укажите ваш город  Муж., %\n",
       "0             Москва     23.3\n",
       "1             Самара      9.3\n",
       "2    Санкт-Петербург      7.0\n",
       "3              Чехов      7.0\n",
       "4        Симферополь      4.7\n",
       "5              Минск      4.7\n",
       "6          Тольятти       2.3\n",
       "7          Краснодар      2.3\n",
       "8        Владивосток      2.3\n",
       "9           Владимир      2.3\n",
       "10        Домодедово      2.3\n",
       "11      Екатеринбург      2.3\n",
       "12       Зеленокумск      2.3\n",
       "13            Ижевск      2.3\n",
       "14        Краматорск      2.3"
      ]
     },
     "execution_count": 186,
     "metadata": {},
     "output_type": "execute_result"
    }
   ],
   "source": [
    "df3_m = round(df_m.iloc[:,[3]].value_counts() / df_m.iloc[:,[3]].value_counts().sum() * 100, 1).reset_index()\n",
    "df3_m.columns = ['Укажите ваш город', 'Муж., %']\n",
    "df3_m.head(15)"
   ]
  },
  {
   "cell_type": "code",
   "execution_count": 187,
   "metadata": {},
   "outputs": [
    {
     "data": {
      "text/html": [
       "<div>\n",
       "<style scoped>\n",
       "    .dataframe tbody tr th:only-of-type {\n",
       "        vertical-align: middle;\n",
       "    }\n",
       "\n",
       "    .dataframe tbody tr th {\n",
       "        vertical-align: top;\n",
       "    }\n",
       "\n",
       "    .dataframe thead th {\n",
       "        text-align: right;\n",
       "    }\n",
       "</style>\n",
       "<table border=\"1\" class=\"dataframe\">\n",
       "  <thead>\n",
       "    <tr style=\"text-align: right;\">\n",
       "      <th></th>\n",
       "      <th>Какая цветовая гамма интернет-магазина вам нравится?</th>\n",
       "      <th>Жен., %</th>\n",
       "    </tr>\n",
       "  </thead>\n",
       "  <tbody>\n",
       "    <tr>\n",
       "      <th>0</th>\n",
       "      <td>Сдержанные оттенки (белый, черный, серый)</td>\n",
       "      <td>46.9</td>\n",
       "    </tr>\n",
       "    <tr>\n",
       "      <th>1</th>\n",
       "      <td>Яркая (синий, красный, зеленый и тд.)</td>\n",
       "      <td>30.0</td>\n",
       "    </tr>\n",
       "    <tr>\n",
       "      <th>2</th>\n",
       "      <td>Неважно</td>\n",
       "      <td>23.1</td>\n",
       "    </tr>\n",
       "  </tbody>\n",
       "</table>\n",
       "</div>"
      ],
      "text/plain": [
       "  Какая цветовая гамма интернет-магазина вам нравится?  Жен., %\n",
       "0          Сдержанные оттенки (белый, черный, серый)       46.9\n",
       "1              Яркая (синий, красный, зеленый и тд.)       30.0\n",
       "2                                            Неважно       23.1"
      ]
     },
     "execution_count": 187,
     "metadata": {},
     "output_type": "execute_result"
    }
   ],
   "source": [
    "df4_f = round(df_f.iloc[:,[4]].value_counts() / df_f.iloc[:,[4]].value_counts().sum() * 100, 1).reset_index()\n",
    "df4_f.columns = ['Какая цветовая гамма интернет-магазина вам нравится?', 'Жен., %']\n",
    "df4_f"
   ]
  },
  {
   "cell_type": "code",
   "execution_count": 188,
   "metadata": {},
   "outputs": [
    {
     "data": {
      "text/html": [
       "<div>\n",
       "<style scoped>\n",
       "    .dataframe tbody tr th:only-of-type {\n",
       "        vertical-align: middle;\n",
       "    }\n",
       "\n",
       "    .dataframe tbody tr th {\n",
       "        vertical-align: top;\n",
       "    }\n",
       "\n",
       "    .dataframe thead th {\n",
       "        text-align: right;\n",
       "    }\n",
       "</style>\n",
       "<table border=\"1\" class=\"dataframe\">\n",
       "  <thead>\n",
       "    <tr style=\"text-align: right;\">\n",
       "      <th></th>\n",
       "      <th>Какая цветовая гамма интернет-магазина вам нравится?</th>\n",
       "      <th>Муж., %</th>\n",
       "    </tr>\n",
       "  </thead>\n",
       "  <tbody>\n",
       "    <tr>\n",
       "      <th>0</th>\n",
       "      <td>Сдержанные оттенки (белый, черный, серый)</td>\n",
       "      <td>60.5</td>\n",
       "    </tr>\n",
       "    <tr>\n",
       "      <th>1</th>\n",
       "      <td>Яркая (синий, красный, зеленый и тд.)</td>\n",
       "      <td>30.2</td>\n",
       "    </tr>\n",
       "    <tr>\n",
       "      <th>2</th>\n",
       "      <td>Неважно</td>\n",
       "      <td>9.3</td>\n",
       "    </tr>\n",
       "  </tbody>\n",
       "</table>\n",
       "</div>"
      ],
      "text/plain": [
       "  Какая цветовая гамма интернет-магазина вам нравится?  Муж., %\n",
       "0          Сдержанные оттенки (белый, черный, серый)       60.5\n",
       "1              Яркая (синий, красный, зеленый и тд.)       30.2\n",
       "2                                            Неважно        9.3"
      ]
     },
     "execution_count": 188,
     "metadata": {},
     "output_type": "execute_result"
    }
   ],
   "source": [
    "df4_m = round(df_m.iloc[:,[4]].value_counts() / df_m.iloc[:,[4]].value_counts().sum() * 100, 1).reset_index()\n",
    "df4_m.columns = ['Какая цветовая гамма интернет-магазина вам нравится?', 'Муж., %']\n",
    "df4_m"
   ]
  },
  {
   "cell_type": "code",
   "execution_count": 189,
   "metadata": {},
   "outputs": [
    {
     "data": {
      "text/html": [
       "<div>\n",
       "<style scoped>\n",
       "    .dataframe tbody tr th:only-of-type {\n",
       "        vertical-align: middle;\n",
       "    }\n",
       "\n",
       "    .dataframe tbody tr th {\n",
       "        vertical-align: top;\n",
       "    }\n",
       "\n",
       "    .dataframe thead th {\n",
       "        text-align: right;\n",
       "    }\n",
       "</style>\n",
       "<table border=\"1\" class=\"dataframe\">\n",
       "  <thead>\n",
       "    <tr style=\"text-align: right;\">\n",
       "      <th></th>\n",
       "      <th>Сколько по времени вы готовы ждать свой заказ?</th>\n",
       "      <th>%</th>\n",
       "    </tr>\n",
       "  </thead>\n",
       "  <tbody>\n",
       "    <tr>\n",
       "      <th>0</th>\n",
       "      <td>4-7 рабочих дней</td>\n",
       "      <td>42.8</td>\n",
       "    </tr>\n",
       "    <tr>\n",
       "      <th>1</th>\n",
       "      <td>1-3 рабочих дня</td>\n",
       "      <td>38.7</td>\n",
       "    </tr>\n",
       "    <tr>\n",
       "      <th>2</th>\n",
       "      <td>Неважно</td>\n",
       "      <td>11.0</td>\n",
       "    </tr>\n",
       "    <tr>\n",
       "      <th>3</th>\n",
       "      <td>более 7 рабочих дней</td>\n",
       "      <td>7.5</td>\n",
       "    </tr>\n",
       "  </tbody>\n",
       "</table>\n",
       "</div>"
      ],
      "text/plain": [
       "  Сколько по времени вы готовы ждать свой заказ?     %\n",
       "0                               4-7 рабочих дней  42.8\n",
       "1                                1-3 рабочих дня  38.7\n",
       "2                                        Неважно  11.0\n",
       "3                           более 7 рабочих дней   7.5"
      ]
     },
     "execution_count": 189,
     "metadata": {},
     "output_type": "execute_result"
    }
   ],
   "source": [
    "df5 = round(df.iloc[:,[5]].value_counts() / df.iloc[:,[5]].value_counts().sum() * 100, 1).reset_index()\n",
    "df5.columns = ['Сколько по времени вы готовы ждать свой заказ?', '%']\n",
    "df5"
   ]
  },
  {
   "cell_type": "code",
   "execution_count": 190,
   "metadata": {},
   "outputs": [
    {
     "data": {
      "text/html": [
       "<div>\n",
       "<style scoped>\n",
       "    .dataframe tbody tr th:only-of-type {\n",
       "        vertical-align: middle;\n",
       "    }\n",
       "\n",
       "    .dataframe tbody tr th {\n",
       "        vertical-align: top;\n",
       "    }\n",
       "\n",
       "    .dataframe thead th {\n",
       "        text-align: right;\n",
       "    }\n",
       "</style>\n",
       "<table border=\"1\" class=\"dataframe\">\n",
       "  <thead>\n",
       "    <tr style=\"text-align: right;\">\n",
       "      <th></th>\n",
       "      <th>Что из перечисленного могло бы мотивировать вас к покупке?</th>\n",
       "      <th>%</th>\n",
       "    </tr>\n",
       "  </thead>\n",
       "  <tbody>\n",
       "    <tr>\n",
       "      <th>0</th>\n",
       "      <td>Наличие промокода, Скидка</td>\n",
       "      <td>20.8</td>\n",
       "    </tr>\n",
       "    <tr>\n",
       "      <th>1</th>\n",
       "      <td>Скидка</td>\n",
       "      <td>20.2</td>\n",
       "    </tr>\n",
       "    <tr>\n",
       "      <th>2</th>\n",
       "      <td>Наличие промокода, Скидка, Система лояльности</td>\n",
       "      <td>18.5</td>\n",
       "    </tr>\n",
       "    <tr>\n",
       "      <th>3</th>\n",
       "      <td>Наличие промокода</td>\n",
       "      <td>10.4</td>\n",
       "    </tr>\n",
       "    <tr>\n",
       "      <th>4</th>\n",
       "      <td>Скидка, Система лояльности</td>\n",
       "      <td>9.8</td>\n",
       "    </tr>\n",
       "    <tr>\n",
       "      <th>5</th>\n",
       "      <td>Система лояльности</td>\n",
       "      <td>8.7</td>\n",
       "    </tr>\n",
       "    <tr>\n",
       "      <th>6</th>\n",
       "      <td>Ничего из перечисленного</td>\n",
       "      <td>6.4</td>\n",
       "    </tr>\n",
       "    <tr>\n",
       "      <th>7</th>\n",
       "      <td>Наличие промокода, Система лояльности</td>\n",
       "      <td>4.6</td>\n",
       "    </tr>\n",
       "    <tr>\n",
       "      <th>8</th>\n",
       "      <td>Скидка, Ничего из перечисленного</td>\n",
       "      <td>0.6</td>\n",
       "    </tr>\n",
       "  </tbody>\n",
       "</table>\n",
       "</div>"
      ],
      "text/plain": [
       "  Что из перечисленного могло бы мотивировать вас к покупке?     %\n",
       "0                          Наличие промокода, Скидка          20.8\n",
       "1                                             Скидка          20.2\n",
       "2      Наличие промокода, Скидка, Система лояльности          18.5\n",
       "3                                  Наличие промокода          10.4\n",
       "4                         Скидка, Система лояльности           9.8\n",
       "5                                 Система лояльности           8.7\n",
       "6                           Ничего из перечисленного           6.4\n",
       "7              Наличие промокода, Система лояльности           4.6\n",
       "8                   Скидка, Ничего из перечисленного           0.6"
      ]
     },
     "execution_count": 190,
     "metadata": {},
     "output_type": "execute_result"
    }
   ],
   "source": [
    "df6 = round(df.iloc[:,[6]].value_counts() / df.iloc[:,[6]].value_counts().sum() * 100, 1).reset_index()\n",
    "df6.columns = ['Что из перечисленного могло бы мотивировать вас к покупке?', '%']\n",
    "df6"
   ]
  },
  {
   "cell_type": "code",
   "execution_count": 191,
   "metadata": {},
   "outputs": [
    {
     "data": {
      "text/html": [
       "<div>\n",
       "<style scoped>\n",
       "    .dataframe tbody tr th:only-of-type {\n",
       "        vertical-align: middle;\n",
       "    }\n",
       "\n",
       "    .dataframe tbody tr th {\n",
       "        vertical-align: top;\n",
       "    }\n",
       "\n",
       "    .dataframe thead th {\n",
       "        text-align: right;\n",
       "    }\n",
       "</style>\n",
       "<table border=\"1\" class=\"dataframe\">\n",
       "  <thead>\n",
       "    <tr style=\"text-align: right;\">\n",
       "      <th></th>\n",
       "      <th>Как долго вы готовы ждать ответа от менеджера по вашему заказу?</th>\n",
       "      <th>%</th>\n",
       "    </tr>\n",
       "  </thead>\n",
       "  <tbody>\n",
       "    <tr>\n",
       "      <th>0</th>\n",
       "      <td>В течение часа</td>\n",
       "      <td>41.0</td>\n",
       "    </tr>\n",
       "    <tr>\n",
       "      <th>1</th>\n",
       "      <td>В течение суток</td>\n",
       "      <td>30.6</td>\n",
       "    </tr>\n",
       "    <tr>\n",
       "      <th>2</th>\n",
       "      <td>1-3 часа</td>\n",
       "      <td>24.9</td>\n",
       "    </tr>\n",
       "    <tr>\n",
       "      <th>3</th>\n",
       "      <td>Неважно</td>\n",
       "      <td>3.5</td>\n",
       "    </tr>\n",
       "  </tbody>\n",
       "</table>\n",
       "</div>"
      ],
      "text/plain": [
       "  Как долго вы готовы ждать ответа от менеджера по вашему заказу?     %\n",
       "0                                     В течение часа               41.0\n",
       "1                                    В течение суток               30.6\n",
       "2                                           1-3 часа               24.9\n",
       "3                                            Неважно                3.5"
      ]
     },
     "execution_count": 191,
     "metadata": {},
     "output_type": "execute_result"
    }
   ],
   "source": [
    "df7 = round(df.iloc[:,[7]].value_counts() / df.iloc[:,[7]].value_counts().sum() * 100, 1).reset_index()\n",
    "df7.columns = ['Как долго вы готовы ждать ответа от менеджера по вашему заказу?', '%']\n",
    "df7"
   ]
  },
  {
   "cell_type": "code",
   "execution_count": 192,
   "metadata": {},
   "outputs": [
    {
     "data": {
      "text/html": [
       "<div>\n",
       "<style scoped>\n",
       "    .dataframe tbody tr th:only-of-type {\n",
       "        vertical-align: middle;\n",
       "    }\n",
       "\n",
       "    .dataframe tbody tr th {\n",
       "        vertical-align: top;\n",
       "    }\n",
       "\n",
       "    .dataframe thead th {\n",
       "        text-align: right;\n",
       "    }\n",
       "</style>\n",
       "<table border=\"1\" class=\"dataframe\">\n",
       "  <thead>\n",
       "    <tr style=\"text-align: right;\">\n",
       "      <th></th>\n",
       "      <th>Какой способ обратной связи с менеджером вам наиболее удобен?</th>\n",
       "      <th>%</th>\n",
       "    </tr>\n",
       "  </thead>\n",
       "  <tbody>\n",
       "    <tr>\n",
       "      <th>0</th>\n",
       "      <td>Получить ответ в мессенджере/в соцсетях</td>\n",
       "      <td>14.5</td>\n",
       "    </tr>\n",
       "    <tr>\n",
       "      <th>1</th>\n",
       "      <td>На самом сайте (чат)</td>\n",
       "      <td>11.6</td>\n",
       "    </tr>\n",
       "    <tr>\n",
       "      <th>2</th>\n",
       "      <td>На самом сайте (чат), Получить ответ в мессенд...</td>\n",
       "      <td>9.8</td>\n",
       "    </tr>\n",
       "    <tr>\n",
       "      <th>3</th>\n",
       "      <td>На самом сайте (чат), Получить ответ на почту,...</td>\n",
       "      <td>7.5</td>\n",
       "    </tr>\n",
       "    <tr>\n",
       "      <th>4</th>\n",
       "      <td>Получить ответ на почту, Получить ответ в месс...</td>\n",
       "      <td>5.8</td>\n",
       "    </tr>\n",
       "    <tr>\n",
       "      <th>5</th>\n",
       "      <td>Получить ответ на телефон (звонок), Получить о...</td>\n",
       "      <td>4.6</td>\n",
       "    </tr>\n",
       "    <tr>\n",
       "      <th>6</th>\n",
       "      <td>Получить ответ на телефон (звонок)</td>\n",
       "      <td>4.6</td>\n",
       "    </tr>\n",
       "    <tr>\n",
       "      <th>7</th>\n",
       "      <td>Получить ответ на почту, Получить ответ на тел...</td>\n",
       "      <td>4.6</td>\n",
       "    </tr>\n",
       "    <tr>\n",
       "      <th>8</th>\n",
       "      <td>Получить ответ на почту</td>\n",
       "      <td>4.0</td>\n",
       "    </tr>\n",
       "    <tr>\n",
       "      <th>9</th>\n",
       "      <td>Получить ответ на телефон (смс)</td>\n",
       "      <td>4.0</td>\n",
       "    </tr>\n",
       "    <tr>\n",
       "      <th>10</th>\n",
       "      <td>На самом сайте (чат), Получить ответ на почту</td>\n",
       "      <td>3.5</td>\n",
       "    </tr>\n",
       "    <tr>\n",
       "      <th>11</th>\n",
       "      <td>Получить ответ на почту, Получить ответ на тел...</td>\n",
       "      <td>3.5</td>\n",
       "    </tr>\n",
       "    <tr>\n",
       "      <th>12</th>\n",
       "      <td>Получить ответ на телефон (смс), Получить отве...</td>\n",
       "      <td>2.9</td>\n",
       "    </tr>\n",
       "    <tr>\n",
       "      <th>13</th>\n",
       "      <td>Получить ответ на почту, Получить ответ на тел...</td>\n",
       "      <td>2.9</td>\n",
       "    </tr>\n",
       "    <tr>\n",
       "      <th>14</th>\n",
       "      <td>Получить ответ на почту, Получить ответ на тел...</td>\n",
       "      <td>2.3</td>\n",
       "    </tr>\n",
       "    <tr>\n",
       "      <th>15</th>\n",
       "      <td>На самом сайте (чат), Получить ответ на почту,...</td>\n",
       "      <td>1.7</td>\n",
       "    </tr>\n",
       "    <tr>\n",
       "      <th>16</th>\n",
       "      <td>Получить ответ на почту, Получить ответ на тел...</td>\n",
       "      <td>1.2</td>\n",
       "    </tr>\n",
       "    <tr>\n",
       "      <th>17</th>\n",
       "      <td>На самом сайте (чат), Получить ответ на телефо...</td>\n",
       "      <td>1.2</td>\n",
       "    </tr>\n",
       "    <tr>\n",
       "      <th>18</th>\n",
       "      <td>На самом сайте (чат), Получить ответ на телефо...</td>\n",
       "      <td>1.2</td>\n",
       "    </tr>\n",
       "    <tr>\n",
       "      <th>19</th>\n",
       "      <td>На самом сайте (чат), Получить ответ на телефо...</td>\n",
       "      <td>1.2</td>\n",
       "    </tr>\n",
       "    <tr>\n",
       "      <th>20</th>\n",
       "      <td>На самом сайте (чат), Получить ответ на почту,...</td>\n",
       "      <td>1.2</td>\n",
       "    </tr>\n",
       "    <tr>\n",
       "      <th>21</th>\n",
       "      <td>На самом сайте (чат), Получить ответ на почту,...</td>\n",
       "      <td>1.2</td>\n",
       "    </tr>\n",
       "    <tr>\n",
       "      <th>22</th>\n",
       "      <td>Получить ответ на почту, Получить ответ на тел...</td>\n",
       "      <td>1.2</td>\n",
       "    </tr>\n",
       "    <tr>\n",
       "      <th>23</th>\n",
       "      <td>Получить ответ на телефон (звонок), Получить о...</td>\n",
       "      <td>1.2</td>\n",
       "    </tr>\n",
       "    <tr>\n",
       "      <th>24</th>\n",
       "      <td>Неважно</td>\n",
       "      <td>1.2</td>\n",
       "    </tr>\n",
       "    <tr>\n",
       "      <th>25</th>\n",
       "      <td>На самом сайте (чат), Получить ответ на телефо...</td>\n",
       "      <td>0.6</td>\n",
       "    </tr>\n",
       "    <tr>\n",
       "      <th>26</th>\n",
       "      <td>На самом сайте (чат), Получить ответ на почту,...</td>\n",
       "      <td>0.6</td>\n",
       "    </tr>\n",
       "    <tr>\n",
       "      <th>27</th>\n",
       "      <td>На самом сайте (чат), Получить ответ на почту,...</td>\n",
       "      <td>0.6</td>\n",
       "    </tr>\n",
       "  </tbody>\n",
       "</table>\n",
       "</div>"
      ],
      "text/plain": [
       "   Какой способ обратной связи с менеджером вам наиболее удобен?     %\n",
       "0             Получить ответ в мессенджере/в соцсетях             14.5\n",
       "1                                На самом сайте (чат)             11.6\n",
       "2   На самом сайте (чат), Получить ответ в мессенд...              9.8\n",
       "3   На самом сайте (чат), Получить ответ на почту,...              7.5\n",
       "4   Получить ответ на почту, Получить ответ в месс...              5.8\n",
       "5   Получить ответ на телефон (звонок), Получить о...              4.6\n",
       "6                  Получить ответ на телефон (звонок)              4.6\n",
       "7   Получить ответ на почту, Получить ответ на тел...              4.6\n",
       "8                             Получить ответ на почту              4.0\n",
       "9                     Получить ответ на телефон (смс)              4.0\n",
       "10      На самом сайте (чат), Получить ответ на почту              3.5\n",
       "11  Получить ответ на почту, Получить ответ на тел...              3.5\n",
       "12  Получить ответ на телефон (смс), Получить отве...              2.9\n",
       "13  Получить ответ на почту, Получить ответ на тел...              2.9\n",
       "14  Получить ответ на почту, Получить ответ на тел...              2.3\n",
       "15  На самом сайте (чат), Получить ответ на почту,...              1.7\n",
       "16  Получить ответ на почту, Получить ответ на тел...              1.2\n",
       "17  На самом сайте (чат), Получить ответ на телефо...              1.2\n",
       "18  На самом сайте (чат), Получить ответ на телефо...              1.2\n",
       "19  На самом сайте (чат), Получить ответ на телефо...              1.2\n",
       "20  На самом сайте (чат), Получить ответ на почту,...              1.2\n",
       "21  На самом сайте (чат), Получить ответ на почту,...              1.2\n",
       "22  Получить ответ на почту, Получить ответ на тел...              1.2\n",
       "23  Получить ответ на телефон (звонок), Получить о...              1.2\n",
       "24                                            Неважно              1.2\n",
       "25  На самом сайте (чат), Получить ответ на телефо...              0.6\n",
       "26  На самом сайте (чат), Получить ответ на почту,...              0.6\n",
       "27  На самом сайте (чат), Получить ответ на почту,...              0.6"
      ]
     },
     "execution_count": 192,
     "metadata": {},
     "output_type": "execute_result"
    }
   ],
   "source": [
    "df8 = round(df.iloc[:,[8]].value_counts() / df.iloc[:,[8]].value_counts().sum() * 100, 1).reset_index()\n",
    "df8.columns = ['Какой способ обратной связи с менеджером вам наиболее удобен?', '%']\n",
    "df8"
   ]
  },
  {
   "cell_type": "code",
   "execution_count": 193,
   "metadata": {},
   "outputs": [
    {
     "data": {
      "text/html": [
       "<div>\n",
       "<style scoped>\n",
       "    .dataframe tbody tr th:only-of-type {\n",
       "        vertical-align: middle;\n",
       "    }\n",
       "\n",
       "    .dataframe tbody tr th {\n",
       "        vertical-align: top;\n",
       "    }\n",
       "\n",
       "    .dataframe thead th {\n",
       "        text-align: right;\n",
       "    }\n",
       "</style>\n",
       "<table border=\"1\" class=\"dataframe\">\n",
       "  <thead>\n",
       "    <tr style=\"text-align: right;\">\n",
       "      <th></th>\n",
       "      <th>Вы когда-нибудь покупали мерч?</th>\n",
       "      <th>%</th>\n",
       "    </tr>\n",
       "  </thead>\n",
       "  <tbody>\n",
       "    <tr>\n",
       "      <th>0</th>\n",
       "      <td>Да</td>\n",
       "      <td>52.0</td>\n",
       "    </tr>\n",
       "    <tr>\n",
       "      <th>1</th>\n",
       "      <td>Нет, но планирую</td>\n",
       "      <td>34.1</td>\n",
       "    </tr>\n",
       "    <tr>\n",
       "      <th>2</th>\n",
       "      <td>Нет и не планирую</td>\n",
       "      <td>13.9</td>\n",
       "    </tr>\n",
       "  </tbody>\n",
       "</table>\n",
       "</div>"
      ],
      "text/plain": [
       "  Вы когда-нибудь покупали мерч?     %\n",
       "0                             Да  52.0\n",
       "1               Нет, но планирую  34.1\n",
       "2              Нет и не планирую  13.9"
      ]
     },
     "execution_count": 193,
     "metadata": {},
     "output_type": "execute_result"
    }
   ],
   "source": [
    "df9 = round(df.iloc[:,[9]].value_counts() / df.iloc[:,[9]].value_counts().sum() * 100, 1).reset_index()\n",
    "df9.columns = ['Вы когда-нибудь покупали мерч?', '%']\n",
    "df9"
   ]
  },
  {
   "cell_type": "code",
   "execution_count": 194,
   "metadata": {},
   "outputs": [
    {
     "data": {
      "text/html": [
       "<div>\n",
       "<style scoped>\n",
       "    .dataframe tbody tr th:only-of-type {\n",
       "        vertical-align: middle;\n",
       "    }\n",
       "\n",
       "    .dataframe tbody tr th {\n",
       "        vertical-align: top;\n",
       "    }\n",
       "\n",
       "    .dataframe thead th {\n",
       "        text-align: right;\n",
       "    }\n",
       "</style>\n",
       "<table border=\"1\" class=\"dataframe\">\n",
       "  <thead>\n",
       "    <tr style=\"text-align: right;\">\n",
       "      <th></th>\n",
       "      <th>Вам важно, какого размера будет логотип на мерче?</th>\n",
       "      <th>%</th>\n",
       "    </tr>\n",
       "  </thead>\n",
       "  <tbody>\n",
       "    <tr>\n",
       "      <th>0</th>\n",
       "      <td>Да, нравится, когда логотип маленького размера</td>\n",
       "      <td>55.5</td>\n",
       "    </tr>\n",
       "    <tr>\n",
       "      <th>1</th>\n",
       "      <td>Нет, мне неважно, какого размера будет логотип</td>\n",
       "      <td>20.8</td>\n",
       "    </tr>\n",
       "    <tr>\n",
       "      <th>2</th>\n",
       "      <td>Не люблю, когда на мерче есть логотип</td>\n",
       "      <td>12.7</td>\n",
       "    </tr>\n",
       "    <tr>\n",
       "      <th>3</th>\n",
       "      <td>Да, нравится, когда логотип крупный</td>\n",
       "      <td>11.0</td>\n",
       "    </tr>\n",
       "  </tbody>\n",
       "</table>\n",
       "</div>"
      ],
      "text/plain": [
       "  Вам важно, какого размера будет логотип на мерче?     %\n",
       "0    Да, нравится, когда логотип маленького размера  55.5\n",
       "1    Нет, мне неважно, какого размера будет логотип  20.8\n",
       "2             Не люблю, когда на мерче есть логотип  12.7\n",
       "3               Да, нравится, когда логотип крупный  11.0"
      ]
     },
     "execution_count": 194,
     "metadata": {},
     "output_type": "execute_result"
    }
   ],
   "source": [
    "df10 = round(df.iloc[:,[10]].value_counts() / df.iloc[:,[10]].value_counts().sum() * 100, 1).reset_index()\n",
    "df10.columns = ['Вам важно, какого размера будет логотип на мерче?', '%']\n",
    "df10"
   ]
  },
  {
   "cell_type": "code",
   "execution_count": 195,
   "metadata": {},
   "outputs": [
    {
     "data": {
      "text/html": [
       "<div>\n",
       "<style scoped>\n",
       "    .dataframe tbody tr th:only-of-type {\n",
       "        vertical-align: middle;\n",
       "    }\n",
       "\n",
       "    .dataframe tbody tr th {\n",
       "        vertical-align: top;\n",
       "    }\n",
       "\n",
       "    .dataframe thead th {\n",
       "        text-align: right;\n",
       "    }\n",
       "</style>\n",
       "<table border=\"1\" class=\"dataframe\">\n",
       "  <thead>\n",
       "    <tr style=\"text-align: right;\">\n",
       "      <th></th>\n",
       "      <th>Какой мерч вам интереснее всего?</th>\n",
       "      <th>%</th>\n",
       "    </tr>\n",
       "  </thead>\n",
       "  <tbody>\n",
       "    <tr>\n",
       "      <th>0</th>\n",
       "      <td>Одежда (футболки, худи и др.)</td>\n",
       "      <td>35.8</td>\n",
       "    </tr>\n",
       "    <tr>\n",
       "      <th>1</th>\n",
       "      <td>Канцтовары (блокноты, ручки, стикеры и др.)</td>\n",
       "      <td>31.2</td>\n",
       "    </tr>\n",
       "    <tr>\n",
       "      <th>2</th>\n",
       "      <td>Аксессуары (шоперы, шарфы и др.)</td>\n",
       "      <td>17.9</td>\n",
       "    </tr>\n",
       "    <tr>\n",
       "      <th>3</th>\n",
       "      <td>Посуда (кружки, термокружки и др.)</td>\n",
       "      <td>9.8</td>\n",
       "    </tr>\n",
       "    <tr>\n",
       "      <th>4</th>\n",
       "      <td>канцтовары и аксессуары</td>\n",
       "      <td>0.6</td>\n",
       "    </tr>\n",
       "    <tr>\n",
       "      <th>5</th>\n",
       "      <td>значки-пины</td>\n",
       "      <td>0.6</td>\n",
       "    </tr>\n",
       "    <tr>\n",
       "      <th>6</th>\n",
       "      <td>все</td>\n",
       "      <td>0.6</td>\n",
       "    </tr>\n",
       "    <tr>\n",
       "      <th>7</th>\n",
       "      <td>Одежды сликом много у всех - я бы предпочла те...</td>\n",
       "      <td>0.6</td>\n",
       "    </tr>\n",
       "    <tr>\n",
       "      <th>8</th>\n",
       "      <td>Канцтовары, аксессуары и посуда</td>\n",
       "      <td>0.6</td>\n",
       "    </tr>\n",
       "    <tr>\n",
       "      <th>9</th>\n",
       "      <td>Всё из перечисленного и можно больше</td>\n",
       "      <td>0.6</td>\n",
       "    </tr>\n",
       "    <tr>\n",
       "      <th>10</th>\n",
       "      <td>Всё вышеперечисленное</td>\n",
       "      <td>0.6</td>\n",
       "    </tr>\n",
       "    <tr>\n",
       "      <th>11</th>\n",
       "      <td>Все, что касается здоровьч</td>\n",
       "      <td>0.6</td>\n",
       "    </tr>\n",
       "    <tr>\n",
       "      <th>12</th>\n",
       "      <td>Все перечисленное</td>\n",
       "      <td>0.6</td>\n",
       "    </tr>\n",
       "  </tbody>\n",
       "</table>\n",
       "</div>"
      ],
      "text/plain": [
       "                     Какой мерч вам интереснее всего?     %\n",
       "0                       Одежда (футболки, худи и др.)  35.8\n",
       "1         Канцтовары (блокноты, ручки, стикеры и др.)  31.2\n",
       "2                    Аксессуары (шоперы, шарфы и др.)  17.9\n",
       "3                  Посуда (кружки, термокружки и др.)   9.8\n",
       "4                             канцтовары и аксессуары   0.6\n",
       "5                                         значки-пины   0.6\n",
       "6                                                 все   0.6\n",
       "7   Одежды сликом много у всех - я бы предпочла те...   0.6\n",
       "8                     Канцтовары, аксессуары и посуда   0.6\n",
       "9                Всё из перечисленного и можно больше   0.6\n",
       "10                              Всё вышеперечисленное   0.6\n",
       "11                         Все, что касается здоровьч   0.6\n",
       "12                                 Все перечисленное    0.6"
      ]
     },
     "execution_count": 195,
     "metadata": {},
     "output_type": "execute_result"
    }
   ],
   "source": [
    "df11 = round(df.iloc[:,[11]].value_counts() / df.iloc[:,[11]].value_counts().sum() * 100, 1).reset_index()\n",
    "df11.columns = ['Какой мерч вам интереснее всего?', '%']\n",
    "df11"
   ]
  },
  {
   "cell_type": "code",
   "execution_count": 196,
   "metadata": {},
   "outputs": [
    {
     "data": {
      "text/html": [
       "<div>\n",
       "<style scoped>\n",
       "    .dataframe tbody tr th:only-of-type {\n",
       "        vertical-align: middle;\n",
       "    }\n",
       "\n",
       "    .dataframe tbody tr th {\n",
       "        vertical-align: top;\n",
       "    }\n",
       "\n",
       "    .dataframe thead th {\n",
       "        text-align: right;\n",
       "    }\n",
       "</style>\n",
       "<table border=\"1\" class=\"dataframe\">\n",
       "  <thead>\n",
       "    <tr style=\"text-align: right;\">\n",
       "      <th></th>\n",
       "      <th>Вам был бы интересен мерч без логотипа, который отражал бы философию конкретного бренда? Пример - футболки с надписью \"Иноагент\", выпущенные \"Медузой\" совместно с другими брендами</th>\n",
       "      <th>%</th>\n",
       "    </tr>\n",
       "  </thead>\n",
       "  <tbody>\n",
       "    <tr>\n",
       "      <th>0</th>\n",
       "      <td>Да</td>\n",
       "      <td>76.3</td>\n",
       "    </tr>\n",
       "    <tr>\n",
       "      <th>1</th>\n",
       "      <td>Нет</td>\n",
       "      <td>23.7</td>\n",
       "    </tr>\n",
       "  </tbody>\n",
       "</table>\n",
       "</div>"
      ],
      "text/plain": [
       "  Вам был бы интересен мерч без логотипа, который отражал бы философию конкретного бренда? Пример - футболки с надписью \"Иноагент\", выпущенные \"Медузой\" совместно с другими брендами  \\\n",
       "0                                                 Да                                                                                                                                    \n",
       "1                                                Нет                                                                                                                                    \n",
       "\n",
       "      %  \n",
       "0  76.3  \n",
       "1  23.7  "
      ]
     },
     "execution_count": 196,
     "metadata": {},
     "output_type": "execute_result"
    }
   ],
   "source": [
    "df12 = round(df.iloc[:,[12]].value_counts() / df.iloc[:,[12]].value_counts().sum() * 100, 1).reset_index()\n",
    "df12.columns = ['Вам был бы интересен мерч без логотипа, который отражал бы философию конкретного бренда? Пример - футболки с надписью \"Иноагент\", выпущенные \"Медузой\" совместно с другими брендами', '%']\n",
    "df12"
   ]
  },
  {
   "cell_type": "code",
   "execution_count": 197,
   "metadata": {},
   "outputs": [
    {
     "data": {
      "text/html": [
       "<div>\n",
       "<style scoped>\n",
       "    .dataframe tbody tr th:only-of-type {\n",
       "        vertical-align: middle;\n",
       "    }\n",
       "\n",
       "    .dataframe tbody tr th {\n",
       "        vertical-align: top;\n",
       "    }\n",
       "\n",
       "    .dataframe thead th {\n",
       "        text-align: right;\n",
       "    }\n",
       "</style>\n",
       "<table border=\"1\" class=\"dataframe\">\n",
       "  <thead>\n",
       "    <tr style=\"text-align: right;\">\n",
       "      <th></th>\n",
       "      <th>Вам нравятся цитаты в виде принта на мерче?</th>\n",
       "      <th>%</th>\n",
       "    </tr>\n",
       "  </thead>\n",
       "  <tbody>\n",
       "    <tr>\n",
       "      <th>0</th>\n",
       "      <td>Да</td>\n",
       "      <td>77.5</td>\n",
       "    </tr>\n",
       "    <tr>\n",
       "      <th>1</th>\n",
       "      <td>Нет</td>\n",
       "      <td>22.5</td>\n",
       "    </tr>\n",
       "  </tbody>\n",
       "</table>\n",
       "</div>"
      ],
      "text/plain": [
       "  Вам нравятся цитаты в виде принта на мерче?     %\n",
       "0                                          Да  77.5\n",
       "1                                         Нет  22.5"
      ]
     },
     "execution_count": 197,
     "metadata": {},
     "output_type": "execute_result"
    }
   ],
   "source": [
    "df13 = round(df.iloc[:,[13]].value_counts() / df.iloc[:,[13]].value_counts().sum() * 100, 1).reset_index()\n",
    "df13.columns = ['Вам нравятся цитаты в виде принта на мерче?', '%']\n",
    "df13"
   ]
  },
  {
   "cell_type": "code",
   "execution_count": 198,
   "metadata": {},
   "outputs": [
    {
     "data": {
      "text/html": [
       "<div>\n",
       "<style scoped>\n",
       "    .dataframe tbody tr th:only-of-type {\n",
       "        vertical-align: middle;\n",
       "    }\n",
       "\n",
       "    .dataframe tbody tr th {\n",
       "        vertical-align: top;\n",
       "    }\n",
       "\n",
       "    .dataframe thead th {\n",
       "        text-align: right;\n",
       "    }\n",
       "</style>\n",
       "<table border=\"1\" class=\"dataframe\">\n",
       "  <thead>\n",
       "    <tr style=\"text-align: right;\">\n",
       "      <th></th>\n",
       "      <th>Как вы относитесь к юмористическим цитатам на мерче?</th>\n",
       "      <th>%</th>\n",
       "    </tr>\n",
       "  </thead>\n",
       "  <tbody>\n",
       "    <tr>\n",
       "      <th>0</th>\n",
       "      <td>Нравится</td>\n",
       "      <td>74.6</td>\n",
       "    </tr>\n",
       "    <tr>\n",
       "      <th>1</th>\n",
       "      <td>Не нравится</td>\n",
       "      <td>25.4</td>\n",
       "    </tr>\n",
       "  </tbody>\n",
       "</table>\n",
       "</div>"
      ],
      "text/plain": [
       "  Как вы относитесь к юмористическим цитатам на мерче?     %\n",
       "0                                           Нравится    74.6\n",
       "1                                        Не нравится    25.4"
      ]
     },
     "execution_count": 198,
     "metadata": {},
     "output_type": "execute_result"
    }
   ],
   "source": [
    "df14 = round(df.iloc[:,[14]].value_counts() / df.iloc[:,[14]].value_counts().sum() * 100, 1).reset_index()\n",
    "df14.columns = ['Как вы относитесь к юмористическим цитатам на мерче?', '%']\n",
    "df14"
   ]
  },
  {
   "cell_type": "code",
   "execution_count": 199,
   "metadata": {},
   "outputs": [
    {
     "data": {
      "text/html": [
       "<div>\n",
       "<style scoped>\n",
       "    .dataframe tbody tr th:only-of-type {\n",
       "        vertical-align: middle;\n",
       "    }\n",
       "\n",
       "    .dataframe tbody tr th {\n",
       "        vertical-align: top;\n",
       "    }\n",
       "\n",
       "    .dataframe thead th {\n",
       "        text-align: right;\n",
       "    }\n",
       "</style>\n",
       "<table border=\"1\" class=\"dataframe\">\n",
       "  <thead>\n",
       "    <tr style=\"text-align: right;\">\n",
       "      <th></th>\n",
       "      <th>Вы обычно покупаете мерч после важных мероприятий? Например, после концерта или интересной отраслевой конференции</th>\n",
       "      <th>%</th>\n",
       "    </tr>\n",
       "  </thead>\n",
       "  <tbody>\n",
       "    <tr>\n",
       "      <th>0</th>\n",
       "      <td>Да</td>\n",
       "      <td>36.4</td>\n",
       "    </tr>\n",
       "    <tr>\n",
       "      <th>1</th>\n",
       "      <td>Нет</td>\n",
       "      <td>32.4</td>\n",
       "    </tr>\n",
       "    <tr>\n",
       "      <th>2</th>\n",
       "      <td>Я никогда не покупал мерч</td>\n",
       "      <td>31.2</td>\n",
       "    </tr>\n",
       "  </tbody>\n",
       "</table>\n",
       "</div>"
      ],
      "text/plain": [
       "  Вы обычно покупаете мерч после важных мероприятий? Например, после концерта или интересной отраслевой конференции  \\\n",
       "0                                                 Да                                                                  \n",
       "1                                                Нет                                                                  \n",
       "2                          Я никогда не покупал мерч                                                                  \n",
       "\n",
       "      %  \n",
       "0  36.4  \n",
       "1  32.4  \n",
       "2  31.2  "
      ]
     },
     "execution_count": 199,
     "metadata": {},
     "output_type": "execute_result"
    }
   ],
   "source": [
    "df15 = round(df.iloc[:,[15]].value_counts() / df.iloc[:,[15]].value_counts().sum() * 100, 1).reset_index()\n",
    "df15.columns = ['Вы обычно покупаете мерч после важных мероприятий? Например, после концерта или интересной отраслевой конференции', '%']\n",
    "df15"
   ]
  },
  {
   "cell_type": "code",
   "execution_count": 200,
   "metadata": {},
   "outputs": [
    {
     "data": {
      "text/html": [
       "<div>\n",
       "<style scoped>\n",
       "    .dataframe tbody tr th:only-of-type {\n",
       "        vertical-align: middle;\n",
       "    }\n",
       "\n",
       "    .dataframe tbody tr th {\n",
       "        vertical-align: top;\n",
       "    }\n",
       "\n",
       "    .dataframe thead th {\n",
       "        text-align: right;\n",
       "    }\n",
       "</style>\n",
       "<table border=\"1\" class=\"dataframe\">\n",
       "  <thead>\n",
       "    <tr style=\"text-align: right;\">\n",
       "      <th></th>\n",
       "      <th>Вам важно, чтобы вы сами могли придумать свой дизайн для мерча: выбрать уникальное сочетание цвета и принта?</th>\n",
       "      <th>%</th>\n",
       "    </tr>\n",
       "  </thead>\n",
       "  <tbody>\n",
       "    <tr>\n",
       "      <th>0</th>\n",
       "      <td>Нет, дизайнерам виднее</td>\n",
       "      <td>54.9</td>\n",
       "    </tr>\n",
       "    <tr>\n",
       "      <th>1</th>\n",
       "      <td>Да, люблю эксперименты</td>\n",
       "      <td>45.1</td>\n",
       "    </tr>\n",
       "  </tbody>\n",
       "</table>\n",
       "</div>"
      ],
      "text/plain": [
       "  Вам важно, чтобы вы сами могли придумать свой дизайн для мерча: выбрать уникальное сочетание цвета и принта?  \\\n",
       "0                             Нет, дизайнерам виднее                                                             \n",
       "1                             Да, люблю эксперименты                                                             \n",
       "\n",
       "      %  \n",
       "0  54.9  \n",
       "1  45.1  "
      ]
     },
     "execution_count": 200,
     "metadata": {},
     "output_type": "execute_result"
    }
   ],
   "source": [
    "df16 = round(df.iloc[:,[16]].value_counts() / df.iloc[:,[16]].value_counts().sum() * 100, 1).reset_index()\n",
    "df16.columns = ['Вам важно, чтобы вы сами могли придумать свой дизайн для мерча: выбрать уникальное сочетание цвета и принта?', '%']\n",
    "df16"
   ]
  },
  {
   "cell_type": "code",
   "execution_count": 201,
   "metadata": {},
   "outputs": [
    {
     "data": {
      "text/html": [
       "<div>\n",
       "<style scoped>\n",
       "    .dataframe tbody tr th:only-of-type {\n",
       "        vertical-align: middle;\n",
       "    }\n",
       "\n",
       "    .dataframe tbody tr th {\n",
       "        vertical-align: top;\n",
       "    }\n",
       "\n",
       "    .dataframe thead th {\n",
       "        text-align: right;\n",
       "    }\n",
       "</style>\n",
       "<table border=\"1\" class=\"dataframe\">\n",
       "  <thead>\n",
       "    <tr style=\"text-align: right;\">\n",
       "      <th></th>\n",
       "      <th>Мерч в качестве бонуса мотивировал бы вас лучше учиться?</th>\n",
       "      <th>%</th>\n",
       "    </tr>\n",
       "  </thead>\n",
       "  <tbody>\n",
       "    <tr>\n",
       "      <th>0</th>\n",
       "      <td>Да</td>\n",
       "      <td>70.5</td>\n",
       "    </tr>\n",
       "    <tr>\n",
       "      <th>1</th>\n",
       "      <td>Нет</td>\n",
       "      <td>29.5</td>\n",
       "    </tr>\n",
       "  </tbody>\n",
       "</table>\n",
       "</div>"
      ],
      "text/plain": [
       "  Мерч в качестве бонуса мотивировал бы вас лучше учиться?     %\n",
       "0                                                 Да        70.5\n",
       "1                                                Нет        29.5"
      ]
     },
     "execution_count": 201,
     "metadata": {},
     "output_type": "execute_result"
    }
   ],
   "source": [
    "df17 = round(df.iloc[:,[17]].value_counts() / df.iloc[:,[17]].value_counts().sum() * 100, 1).reset_index()\n",
    "df17.columns = ['Мерч в качестве бонуса мотивировал бы вас лучше учиться?', '%']\n",
    "df17"
   ]
  },
  {
   "cell_type": "code",
   "execution_count": 202,
   "metadata": {},
   "outputs": [
    {
     "data": {
      "text/html": [
       "<div>\n",
       "<style scoped>\n",
       "    .dataframe tbody tr th:only-of-type {\n",
       "        vertical-align: middle;\n",
       "    }\n",
       "\n",
       "    .dataframe tbody tr th {\n",
       "        vertical-align: top;\n",
       "    }\n",
       "\n",
       "    .dataframe thead th {\n",
       "        text-align: right;\n",
       "    }\n",
       "</style>\n",
       "<table border=\"1\" class=\"dataframe\">\n",
       "  <thead>\n",
       "    <tr style=\"text-align: right;\">\n",
       "      <th></th>\n",
       "      <th>Вам важно, чтобы мерч был уникальным продуктом, который больше ни у кого не встретишь?</th>\n",
       "      <th>%</th>\n",
       "    </tr>\n",
       "  </thead>\n",
       "  <tbody>\n",
       "    <tr>\n",
       "      <th>0</th>\n",
       "      <td>Да</td>\n",
       "      <td>68.2</td>\n",
       "    </tr>\n",
       "    <tr>\n",
       "      <th>1</th>\n",
       "      <td>Нет</td>\n",
       "      <td>31.8</td>\n",
       "    </tr>\n",
       "  </tbody>\n",
       "</table>\n",
       "</div>"
      ],
      "text/plain": [
       "  Вам важно, чтобы мерч был уникальным продуктом, который больше ни у кого не встретишь?  \\\n",
       "0                                                 Да                                       \n",
       "1                                                Нет                                       \n",
       "\n",
       "      %  \n",
       "0  68.2  \n",
       "1  31.8  "
      ]
     },
     "execution_count": 202,
     "metadata": {},
     "output_type": "execute_result"
    }
   ],
   "source": [
    "df18 = round(df.iloc[:,[18]].value_counts() / df.iloc[:,[18]].value_counts().sum() * 100, 1).reset_index()\n",
    "df18.columns = ['Вам важно, чтобы мерч был уникальным продуктом, который больше ни у кого не встретишь?', '%']\n",
    "df18"
   ]
  },
  {
   "cell_type": "code",
   "execution_count": 203,
   "metadata": {},
   "outputs": [
    {
     "data": {
      "text/html": [
       "<div>\n",
       "<style scoped>\n",
       "    .dataframe tbody tr th:only-of-type {\n",
       "        vertical-align: middle;\n",
       "    }\n",
       "\n",
       "    .dataframe tbody tr th {\n",
       "        vertical-align: top;\n",
       "    }\n",
       "\n",
       "    .dataframe thead th {\n",
       "        text-align: right;\n",
       "    }\n",
       "</style>\n",
       "<table border=\"1\" class=\"dataframe\">\n",
       "  <thead>\n",
       "    <tr style=\"text-align: right;\">\n",
       "      <th></th>\n",
       "      <th>Вы готовы платить за лимитированный мерч? Лимитированная коллекция - та, которая выпускается один раз ограниченным тиражом</th>\n",
       "      <th>%</th>\n",
       "    </tr>\n",
       "  </thead>\n",
       "  <tbody>\n",
       "    <tr>\n",
       "      <th>0</th>\n",
       "      <td>Да</td>\n",
       "      <td>50.9</td>\n",
       "    </tr>\n",
       "    <tr>\n",
       "      <th>1</th>\n",
       "      <td>Нет</td>\n",
       "      <td>49.1</td>\n",
       "    </tr>\n",
       "  </tbody>\n",
       "</table>\n",
       "</div>"
      ],
      "text/plain": [
       "  Вы готовы платить за лимитированный мерч? Лимитированная коллекция - та, которая выпускается один раз ограниченным тиражом  \\\n",
       "0                                                 Да                                                                           \n",
       "1                                                Нет                                                                           \n",
       "\n",
       "      %  \n",
       "0  50.9  \n",
       "1  49.1  "
      ]
     },
     "execution_count": 203,
     "metadata": {},
     "output_type": "execute_result"
    }
   ],
   "source": [
    "df19 = round(df.iloc[:,[19]].value_counts() / df.iloc[:,[19]].value_counts().sum() * 100, 1).reset_index()\n",
    "df19.columns = ['Вы готовы платить за лимитированный мерч? Лимитированная коллекция - та, которая выпускается один раз ограниченным тиражом', '%']\n",
    "df19"
   ]
  },
  {
   "cell_type": "code",
   "execution_count": 204,
   "metadata": {},
   "outputs": [
    {
     "data": {
      "text/html": [
       "<div>\n",
       "<style scoped>\n",
       "    .dataframe tbody tr th:only-of-type {\n",
       "        vertical-align: middle;\n",
       "    }\n",
       "\n",
       "    .dataframe tbody tr th {\n",
       "        vertical-align: top;\n",
       "    }\n",
       "\n",
       "    .dataframe thead th {\n",
       "        text-align: right;\n",
       "    }\n",
       "</style>\n",
       "<table border=\"1\" class=\"dataframe\">\n",
       "  <thead>\n",
       "    <tr style=\"text-align: right;\">\n",
       "      <th></th>\n",
       "      <th>Обращаете ли вы внимание на экологичность товаров при покупке вещей?</th>\n",
       "      <th>%</th>\n",
       "    </tr>\n",
       "  </thead>\n",
       "  <tbody>\n",
       "    <tr>\n",
       "      <th>0</th>\n",
       "      <td>Да, большая часть моих вещей - экологичные</td>\n",
       "      <td>54.3</td>\n",
       "    </tr>\n",
       "    <tr>\n",
       "      <th>1</th>\n",
       "      <td>Нет, для меня это неважный критерий при выборе...</td>\n",
       "      <td>45.7</td>\n",
       "    </tr>\n",
       "  </tbody>\n",
       "</table>\n",
       "</div>"
      ],
      "text/plain": [
       "  Обращаете ли вы внимание на экологичность товаров при покупке вещей?     %\n",
       "0         Да, большая часть моих вещей - экологичные                    54.3\n",
       "1  Нет, для меня это неважный критерий при выборе...                    45.7"
      ]
     },
     "execution_count": 204,
     "metadata": {},
     "output_type": "execute_result"
    }
   ],
   "source": [
    "df20 = round(df.iloc[:,[20]].value_counts() / df.iloc[:,[20]].value_counts().sum() * 100, 1).reset_index()\n",
    "df20.columns = ['Обращаете ли вы внимание на экологичность товаров при покупке вещей?', '%']\n",
    "df20"
   ]
  },
  {
   "cell_type": "code",
   "execution_count": 205,
   "metadata": {},
   "outputs": [
    {
     "data": {
      "text/html": [
       "<div>\n",
       "<style scoped>\n",
       "    .dataframe tbody tr th:only-of-type {\n",
       "        vertical-align: middle;\n",
       "    }\n",
       "\n",
       "    .dataframe tbody tr th {\n",
       "        vertical-align: top;\n",
       "    }\n",
       "\n",
       "    .dataframe thead th {\n",
       "        text-align: right;\n",
       "    }\n",
       "</style>\n",
       "<table border=\"1\" class=\"dataframe\">\n",
       "  <thead>\n",
       "    <tr style=\"text-align: right;\">\n",
       "      <th></th>\n",
       "      <th>Вы с большей вероятностью купите мерч, если будете знать, что вырученные средства пойдут на благотворительность?</th>\n",
       "      <th>%</th>\n",
       "    </tr>\n",
       "  </thead>\n",
       "  <tbody>\n",
       "    <tr>\n",
       "      <th>0</th>\n",
       "      <td>Да</td>\n",
       "      <td>59.5</td>\n",
       "    </tr>\n",
       "    <tr>\n",
       "      <th>1</th>\n",
       "      <td>Нет</td>\n",
       "      <td>40.5</td>\n",
       "    </tr>\n",
       "  </tbody>\n",
       "</table>\n",
       "</div>"
      ],
      "text/plain": [
       "  Вы с большей вероятностью купите мерч, если будете знать, что вырученные средства пойдут на благотворительность?  \\\n",
       "0                                                 Да                                                                 \n",
       "1                                                Нет                                                                 \n",
       "\n",
       "      %  \n",
       "0  59.5  \n",
       "1  40.5  "
      ]
     },
     "execution_count": 205,
     "metadata": {},
     "output_type": "execute_result"
    }
   ],
   "source": [
    "df21 = round(df.iloc[:,[21]].value_counts() / df.iloc[:,[21]].value_counts().sum() * 100, 1).reset_index()\n",
    "df21.columns = ['Вы с большей вероятностью купите мерч, если будете знать, что вырученные средства пойдут на благотворительность?', '%']\n",
    "df21"
   ]
  },
  {
   "cell_type": "code",
   "execution_count": 206,
   "metadata": {},
   "outputs": [
    {
     "data": {
      "text/html": [
       "<div>\n",
       "<style scoped>\n",
       "    .dataframe tbody tr th:only-of-type {\n",
       "        vertical-align: middle;\n",
       "    }\n",
       "\n",
       "    .dataframe tbody tr th {\n",
       "        vertical-align: top;\n",
       "    }\n",
       "\n",
       "    .dataframe thead th {\n",
       "        text-align: right;\n",
       "    }\n",
       "</style>\n",
       "<table border=\"1\" class=\"dataframe\">\n",
       "  <thead>\n",
       "    <tr style=\"text-align: right;\">\n",
       "      <th></th>\n",
       "      <th>Вы бы купили мерч в подарок для благотворительного фонда/детского дома?</th>\n",
       "      <th>Count</th>\n",
       "    </tr>\n",
       "  </thead>\n",
       "  <tbody>\n",
       "    <tr>\n",
       "      <th>0</th>\n",
       "      <td>Да</td>\n",
       "      <td>103</td>\n",
       "    </tr>\n",
       "    <tr>\n",
       "      <th>1</th>\n",
       "      <td>Нет</td>\n",
       "      <td>70</td>\n",
       "    </tr>\n",
       "  </tbody>\n",
       "</table>\n",
       "</div>"
      ],
      "text/plain": [
       "  Вы бы купили мерч в подарок для благотворительного фонда/детского дома?  \\\n",
       "0                                                 Да                        \n",
       "1                                                Нет                        \n",
       "\n",
       "   Count  \n",
       "0    103  \n",
       "1     70  "
      ]
     },
     "execution_count": 206,
     "metadata": {},
     "output_type": "execute_result"
    }
   ],
   "source": [
    "cnt21 = df.iloc[:,[21]].value_counts().reset_index()\n",
    "cnt21.columns = ['Вы бы купили мерч в подарок для благотворительного фонда/детского дома?', 'Count']\n",
    "cnt21"
   ]
  },
  {
   "cell_type": "code",
   "execution_count": 207,
   "metadata": {},
   "outputs": [
    {
     "data": {
      "text/html": [
       "<div>\n",
       "<style scoped>\n",
       "    .dataframe tbody tr th:only-of-type {\n",
       "        vertical-align: middle;\n",
       "    }\n",
       "\n",
       "    .dataframe tbody tr th {\n",
       "        vertical-align: top;\n",
       "    }\n",
       "\n",
       "    .dataframe thead th {\n",
       "        text-align: right;\n",
       "    }\n",
       "</style>\n",
       "<table border=\"1\" class=\"dataframe\">\n",
       "  <thead>\n",
       "    <tr style=\"text-align: right;\">\n",
       "      <th></th>\n",
       "      <th>Вы бы купили мерч в подарок для благотворительного фонда/детского дома?</th>\n",
       "      <th>%</th>\n",
       "    </tr>\n",
       "  </thead>\n",
       "  <tbody>\n",
       "    <tr>\n",
       "      <th>0</th>\n",
       "      <td>Да</td>\n",
       "      <td>64.7</td>\n",
       "    </tr>\n",
       "    <tr>\n",
       "      <th>1</th>\n",
       "      <td>Нет</td>\n",
       "      <td>35.3</td>\n",
       "    </tr>\n",
       "  </tbody>\n",
       "</table>\n",
       "</div>"
      ],
      "text/plain": [
       "  Вы бы купили мерч в подарок для благотворительного фонда/детского дома?  \\\n",
       "0                                                 Да                        \n",
       "1                                                Нет                        \n",
       "\n",
       "      %  \n",
       "0  64.7  \n",
       "1  35.3  "
      ]
     },
     "execution_count": 207,
     "metadata": {},
     "output_type": "execute_result"
    }
   ],
   "source": [
    "df22 = round(df.iloc[:,[22]].value_counts() / df.iloc[:,[22]].value_counts().sum() * 100, 1).reset_index()\n",
    "df22.columns = ['Вы бы купили мерч в подарок для благотворительного фонда/детского дома?', '%']\n",
    "df22"
   ]
  },
  {
   "cell_type": "code",
   "execution_count": 208,
   "metadata": {},
   "outputs": [
    {
     "data": {
      "text/html": [
       "<div>\n",
       "<style scoped>\n",
       "    .dataframe tbody tr th:only-of-type {\n",
       "        vertical-align: middle;\n",
       "    }\n",
       "\n",
       "    .dataframe tbody tr th {\n",
       "        vertical-align: top;\n",
       "    }\n",
       "\n",
       "    .dataframe thead th {\n",
       "        text-align: right;\n",
       "    }\n",
       "</style>\n",
       "<table border=\"1\" class=\"dataframe\">\n",
       "  <thead>\n",
       "    <tr style=\"text-align: right;\">\n",
       "      <th></th>\n",
       "      <th>Вы бы купили мерч в подарок для благотворительного фонда/детского дома?</th>\n",
       "      <th>Count</th>\n",
       "    </tr>\n",
       "  </thead>\n",
       "  <tbody>\n",
       "    <tr>\n",
       "      <th>0</th>\n",
       "      <td>Да</td>\n",
       "      <td>112</td>\n",
       "    </tr>\n",
       "    <tr>\n",
       "      <th>1</th>\n",
       "      <td>Нет</td>\n",
       "      <td>61</td>\n",
       "    </tr>\n",
       "  </tbody>\n",
       "</table>\n",
       "</div>"
      ],
      "text/plain": [
       "  Вы бы купили мерч в подарок для благотворительного фонда/детского дома?  \\\n",
       "0                                                 Да                        \n",
       "1                                                Нет                        \n",
       "\n",
       "   Count  \n",
       "0    112  \n",
       "1     61  "
      ]
     },
     "execution_count": 208,
     "metadata": {},
     "output_type": "execute_result"
    }
   ],
   "source": [
    "cnt22 = df.iloc[:,[22]].value_counts().reset_index()\n",
    "cnt22.columns = ['Вы бы купили мерч в подарок для благотворительного фонда/детского дома?', 'Count']\n",
    "cnt22"
   ]
  },
  {
   "cell_type": "code",
   "execution_count": null,
   "metadata": {},
   "outputs": [],
   "source": []
  },
  {
   "cell_type": "code",
   "execution_count": null,
   "metadata": {},
   "outputs": [],
   "source": []
  },
  {
   "cell_type": "code",
   "execution_count": null,
   "metadata": {},
   "outputs": [],
   "source": []
  },
  {
   "cell_type": "code",
   "execution_count": null,
   "metadata": {},
   "outputs": [],
   "source": []
  },
  {
   "cell_type": "code",
   "execution_count": null,
   "metadata": {},
   "outputs": [],
   "source": []
  },
  {
   "cell_type": "code",
   "execution_count": null,
   "metadata": {},
   "outputs": [],
   "source": []
  },
  {
   "cell_type": "code",
   "execution_count": null,
   "metadata": {},
   "outputs": [],
   "source": []
  },
  {
   "cell_type": "code",
   "execution_count": null,
   "metadata": {},
   "outputs": [],
   "source": []
  },
  {
   "cell_type": "code",
   "execution_count": null,
   "metadata": {},
   "outputs": [],
   "source": []
  },
  {
   "cell_type": "code",
   "execution_count": null,
   "metadata": {},
   "outputs": [],
   "source": [
    "def mean_confidence_interval_1(data, confidence=0.95):\n",
    "    a = 1.0 * np.array(data)\n",
    "    n = len(a)\n",
    "    m, se = np.mean(a), stats.sem(data)\n",
    "    h = se * stats.t.ppf((1 + confidence) / 2., n-1)\n",
    "    return m-h, m, m+h                                    "
   ]
  }
 ],
 "metadata": {
  "kernelspec": {
   "display_name": "Python 3",
   "language": "python",
   "name": "python3"
  },
  "language_info": {
   "codemirror_mode": {
    "name": "ipython",
    "version": 3
   },
   "file_extension": ".py",
   "mimetype": "text/x-python",
   "name": "python",
   "nbconvert_exporter": "python",
   "pygments_lexer": "ipython3",
   "version": "3.8.5"
  }
 },
 "nbformat": 4,
 "nbformat_minor": 4
}
