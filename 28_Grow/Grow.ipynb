{
 "cells": [
  {
   "cell_type": "code",
   "execution_count": 1,
   "metadata": {},
   "outputs": [],
   "source": [
    "import pandas as pd\n",
    "import numpy as np\n",
    "import math\n",
    "from scipy import stats"
   ]
  },
  {
   "cell_type": "code",
   "execution_count": 2,
   "metadata": {},
   "outputs": [],
   "source": [
    "df = pd.read_csv('Merch.csv')\n",
    "df.iloc[[83], [3]] = 'Самара'"
   ]
  },
  {
   "cell_type": "code",
   "execution_count": 3,
   "metadata": {},
   "outputs": [],
   "source": [
    "def mean_confidence_interval(data, confidence=0.95): \n",
    "    n = len(data)\n",
    "    m, se = np.mean(data), stats.sem(data)\n",
    "    h = se * stats.t.ppf((1 + confidence)/2, n)\n",
    "    return m-h, m, m+h"
   ]
  },
  {
   "cell_type": "markdown",
   "metadata": {},
   "source": [
    "## По всей выборке:"
   ]
  },
  {
   "cell_type": "code",
   "execution_count": 4,
   "metadata": {},
   "outputs": [
    {
     "data": {
      "text/html": [
       "<div>\n",
       "<style scoped>\n",
       "    .dataframe tbody tr th:only-of-type {\n",
       "        vertical-align: middle;\n",
       "    }\n",
       "\n",
       "    .dataframe tbody tr th {\n",
       "        vertical-align: top;\n",
       "    }\n",
       "\n",
       "    .dataframe thead th {\n",
       "        text-align: right;\n",
       "    }\n",
       "</style>\n",
       "<table border=\"1\" class=\"dataframe\">\n",
       "  <thead>\n",
       "    <tr style=\"text-align: right;\">\n",
       "      <th></th>\n",
       "      <th>Отметка времени</th>\n",
       "    </tr>\n",
       "    <tr>\n",
       "      <th>Укажите ваш пол</th>\n",
       "      <th></th>\n",
       "    </tr>\n",
       "  </thead>\n",
       "  <tbody>\n",
       "    <tr>\n",
       "      <th>Женский</th>\n",
       "      <td>124</td>\n",
       "    </tr>\n",
       "    <tr>\n",
       "      <th>Мужской</th>\n",
       "      <td>40</td>\n",
       "    </tr>\n",
       "  </tbody>\n",
       "</table>\n",
       "</div>"
      ],
      "text/plain": [
       "                 Отметка времени\n",
       "Укажите ваш пол                 \n",
       "Женский                      124\n",
       "Мужской                       40"
      ]
     },
     "execution_count": 4,
     "metadata": {},
     "output_type": "execute_result"
    }
   ],
   "source": [
    "# Вычисляем количество опрошенных пользователей по полу\n",
    "df.groupby('Укажите ваш пол').count()[['Отметка времени']]"
   ]
  },
  {
   "cell_type": "code",
   "execution_count": 5,
   "metadata": {},
   "outputs": [
    {
     "data": {
      "text/html": [
       "<div>\n",
       "<style scoped>\n",
       "    .dataframe tbody tr th:only-of-type {\n",
       "        vertical-align: middle;\n",
       "    }\n",
       "\n",
       "    .dataframe tbody tr th {\n",
       "        vertical-align: top;\n",
       "    }\n",
       "\n",
       "    .dataframe thead th {\n",
       "        text-align: right;\n",
       "    }\n",
       "</style>\n",
       "<table border=\"1\" class=\"dataframe\">\n",
       "  <thead>\n",
       "    <tr style=\"text-align: right;\">\n",
       "      <th></th>\n",
       "      <th>Укажите ваш пол</th>\n",
       "      <th>%</th>\n",
       "    </tr>\n",
       "  </thead>\n",
       "  <tbody>\n",
       "    <tr>\n",
       "      <th>0</th>\n",
       "      <td>Женский</td>\n",
       "      <td>75.6</td>\n",
       "    </tr>\n",
       "    <tr>\n",
       "      <th>1</th>\n",
       "      <td>Мужской</td>\n",
       "      <td>24.4</td>\n",
       "    </tr>\n",
       "  </tbody>\n",
       "</table>\n",
       "</div>"
      ],
      "text/plain": [
       "  Укажите ваш пол     %\n",
       "0         Женский  75.6\n",
       "1         Мужской  24.4"
      ]
     },
     "execution_count": 5,
     "metadata": {},
     "output_type": "execute_result"
    }
   ],
   "source": [
    "df2 = round(df.iloc[:,[2]].value_counts() / df.iloc[:,[2]].value_counts().sum() * 100, 1).reset_index()\n",
    "df2.columns = ['Укажите ваш пол', '%']\n",
    "df2"
   ]
  },
  {
   "cell_type": "code",
   "execution_count": 6,
   "metadata": {},
   "outputs": [
    {
     "data": {
      "text/html": [
       "<div>\n",
       "<style scoped>\n",
       "    .dataframe tbody tr th:only-of-type {\n",
       "        vertical-align: middle;\n",
       "    }\n",
       "\n",
       "    .dataframe tbody tr th {\n",
       "        vertical-align: top;\n",
       "    }\n",
       "\n",
       "    .dataframe thead th {\n",
       "        text-align: right;\n",
       "    }\n",
       "</style>\n",
       "<table border=\"1\" class=\"dataframe\">\n",
       "  <thead>\n",
       "    <tr style=\"text-align: right;\">\n",
       "      <th></th>\n",
       "      <th>Отметка времени</th>\n",
       "    </tr>\n",
       "    <tr>\n",
       "      <th>Укажите ваш возраст</th>\n",
       "      <th></th>\n",
       "    </tr>\n",
       "  </thead>\n",
       "  <tbody>\n",
       "    <tr>\n",
       "      <th>30-39 лет</th>\n",
       "      <td>63</td>\n",
       "    </tr>\n",
       "    <tr>\n",
       "      <th>40-49 лет</th>\n",
       "      <td>38</td>\n",
       "    </tr>\n",
       "    <tr>\n",
       "      <th>23-29 лет</th>\n",
       "      <td>33</td>\n",
       "    </tr>\n",
       "    <tr>\n",
       "      <th>больше 50 лет</th>\n",
       "      <td>14</td>\n",
       "    </tr>\n",
       "    <tr>\n",
       "      <th>18-22 лет</th>\n",
       "      <td>10</td>\n",
       "    </tr>\n",
       "    <tr>\n",
       "      <th>до 18 лет</th>\n",
       "      <td>6</td>\n",
       "    </tr>\n",
       "  </tbody>\n",
       "</table>\n",
       "</div>"
      ],
      "text/plain": [
       "                     Отметка времени\n",
       "Укажите ваш возраст                 \n",
       "30-39 лет                         63\n",
       "40-49 лет                         38\n",
       "23-29 лет                         33\n",
       "больше 50 лет                     14\n",
       "18-22 лет                         10\n",
       "до 18 лет                          6"
      ]
     },
     "execution_count": 6,
     "metadata": {},
     "output_type": "execute_result"
    }
   ],
   "source": [
    "# Вычисляем количество опрошенных пользователей по возрасту\n",
    "df.groupby('Укажите ваш возраст').count()[['Отметка времени']].sort_values('Отметка времени', ascending=False)"
   ]
  },
  {
   "cell_type": "code",
   "execution_count": 7,
   "metadata": {},
   "outputs": [
    {
     "data": {
      "text/html": [
       "<div>\n",
       "<style scoped>\n",
       "    .dataframe tbody tr th:only-of-type {\n",
       "        vertical-align: middle;\n",
       "    }\n",
       "\n",
       "    .dataframe tbody tr th {\n",
       "        vertical-align: top;\n",
       "    }\n",
       "\n",
       "    .dataframe thead th {\n",
       "        text-align: right;\n",
       "    }\n",
       "</style>\n",
       "<table border=\"1\" class=\"dataframe\">\n",
       "  <thead>\n",
       "    <tr style=\"text-align: right;\">\n",
       "      <th></th>\n",
       "      <th>Укажите ваш возраст</th>\n",
       "      <th>%</th>\n",
       "    </tr>\n",
       "  </thead>\n",
       "  <tbody>\n",
       "    <tr>\n",
       "      <th>0</th>\n",
       "      <td>30-39 лет</td>\n",
       "      <td>38.4</td>\n",
       "    </tr>\n",
       "    <tr>\n",
       "      <th>1</th>\n",
       "      <td>40-49 лет</td>\n",
       "      <td>23.2</td>\n",
       "    </tr>\n",
       "    <tr>\n",
       "      <th>2</th>\n",
       "      <td>23-29 лет</td>\n",
       "      <td>20.1</td>\n",
       "    </tr>\n",
       "    <tr>\n",
       "      <th>3</th>\n",
       "      <td>больше 50 лет</td>\n",
       "      <td>8.5</td>\n",
       "    </tr>\n",
       "    <tr>\n",
       "      <th>4</th>\n",
       "      <td>18-22 лет</td>\n",
       "      <td>6.1</td>\n",
       "    </tr>\n",
       "    <tr>\n",
       "      <th>5</th>\n",
       "      <td>до 18 лет</td>\n",
       "      <td>3.7</td>\n",
       "    </tr>\n",
       "  </tbody>\n",
       "</table>\n",
       "</div>"
      ],
      "text/plain": [
       "  Укажите ваш возраст     %\n",
       "0           30-39 лет  38.4\n",
       "1           40-49 лет  23.2\n",
       "2           23-29 лет  20.1\n",
       "3       больше 50 лет   8.5\n",
       "4           18-22 лет   6.1\n",
       "5           до 18 лет   3.7"
      ]
     },
     "execution_count": 7,
     "metadata": {},
     "output_type": "execute_result"
    }
   ],
   "source": [
    "df1 = round(df.iloc[:,[1]].value_counts() / df.iloc[:,[1]].value_counts().sum() * 100, 1).reset_index()\n",
    "df1.columns = ['Укажите ваш возраст', '%']\n",
    "df1"
   ]
  },
  {
   "cell_type": "code",
   "execution_count": 8,
   "metadata": {},
   "outputs": [
    {
     "data": {
      "text/html": [
       "<div>\n",
       "<style scoped>\n",
       "    .dataframe tbody tr th:only-of-type {\n",
       "        vertical-align: middle;\n",
       "    }\n",
       "\n",
       "    .dataframe tbody tr th {\n",
       "        vertical-align: top;\n",
       "    }\n",
       "\n",
       "    .dataframe thead th {\n",
       "        text-align: right;\n",
       "    }\n",
       "</style>\n",
       "<table border=\"1\" class=\"dataframe\">\n",
       "  <thead>\n",
       "    <tr style=\"text-align: right;\">\n",
       "      <th></th>\n",
       "      <th>Отметка времени</th>\n",
       "    </tr>\n",
       "    <tr>\n",
       "      <th>Укажите ваш город</th>\n",
       "      <th></th>\n",
       "    </tr>\n",
       "  </thead>\n",
       "  <tbody>\n",
       "    <tr>\n",
       "      <th>Москва</th>\n",
       "      <td>41</td>\n",
       "    </tr>\n",
       "    <tr>\n",
       "      <th>Санкт-Петербург</th>\n",
       "      <td>15</td>\n",
       "    </tr>\n",
       "    <tr>\n",
       "      <th>Новосибирск</th>\n",
       "      <td>6</td>\n",
       "    </tr>\n",
       "    <tr>\n",
       "      <th>Самара</th>\n",
       "      <td>6</td>\n",
       "    </tr>\n",
       "    <tr>\n",
       "      <th>Ростов-на-Дону</th>\n",
       "      <td>5</td>\n",
       "    </tr>\n",
       "    <tr>\n",
       "      <th>Екатеринбург</th>\n",
       "      <td>5</td>\n",
       "    </tr>\n",
       "    <tr>\n",
       "      <th>Нижний Новгород</th>\n",
       "      <td>4</td>\n",
       "    </tr>\n",
       "    <tr>\n",
       "      <th>Краснодар</th>\n",
       "      <td>4</td>\n",
       "    </tr>\n",
       "    <tr>\n",
       "      <th>Чехов</th>\n",
       "      <td>3</td>\n",
       "    </tr>\n",
       "    <tr>\n",
       "      <th>Владимир</th>\n",
       "      <td>3</td>\n",
       "    </tr>\n",
       "  </tbody>\n",
       "</table>\n",
       "</div>"
      ],
      "text/plain": [
       "                   Отметка времени\n",
       "Укажите ваш город                 \n",
       "Москва                          41\n",
       "Санкт-Петербург                 15\n",
       "Новосибирск                      6\n",
       "Самара                           6\n",
       "Ростов-на-Дону                   5\n",
       "Екатеринбург                     5\n",
       "Нижний Новгород                  4\n",
       "Краснодар                        4\n",
       "Чехов                            3\n",
       "Владимир                         3"
      ]
     },
     "execution_count": 8,
     "metadata": {},
     "output_type": "execute_result"
    }
   ],
   "source": [
    "# Вычисляем количество опрошенных пользователей по городу проживания\n",
    "df.groupby('Укажите ваш город').count()[['Отметка времени']].sort_values('Отметка времени', ascending=False).head(10)"
   ]
  },
  {
   "cell_type": "code",
   "execution_count": 9,
   "metadata": {
    "scrolled": false
   },
   "outputs": [
    {
     "data": {
      "text/html": [
       "<div>\n",
       "<style scoped>\n",
       "    .dataframe tbody tr th:only-of-type {\n",
       "        vertical-align: middle;\n",
       "    }\n",
       "\n",
       "    .dataframe tbody tr th {\n",
       "        vertical-align: top;\n",
       "    }\n",
       "\n",
       "    .dataframe thead th {\n",
       "        text-align: right;\n",
       "    }\n",
       "</style>\n",
       "<table border=\"1\" class=\"dataframe\">\n",
       "  <thead>\n",
       "    <tr style=\"text-align: right;\">\n",
       "      <th></th>\n",
       "      <th>Укажите ваш возраст</th>\n",
       "      <th>%</th>\n",
       "    </tr>\n",
       "  </thead>\n",
       "  <tbody>\n",
       "    <tr>\n",
       "      <th>0</th>\n",
       "      <td>Москва</td>\n",
       "      <td>25.0</td>\n",
       "    </tr>\n",
       "    <tr>\n",
       "      <th>1</th>\n",
       "      <td>Санкт-Петербург</td>\n",
       "      <td>9.1</td>\n",
       "    </tr>\n",
       "    <tr>\n",
       "      <th>2</th>\n",
       "      <td>Новосибирск</td>\n",
       "      <td>3.7</td>\n",
       "    </tr>\n",
       "    <tr>\n",
       "      <th>3</th>\n",
       "      <td>Самара</td>\n",
       "      <td>3.7</td>\n",
       "    </tr>\n",
       "    <tr>\n",
       "      <th>4</th>\n",
       "      <td>Екатеринбург</td>\n",
       "      <td>3.0</td>\n",
       "    </tr>\n",
       "    <tr>\n",
       "      <th>...</th>\n",
       "      <td>...</td>\n",
       "      <td>...</td>\n",
       "    </tr>\n",
       "    <tr>\n",
       "      <th>63</th>\n",
       "      <td>Новокузнецк</td>\n",
       "      <td>0.6</td>\n",
       "    </tr>\n",
       "    <tr>\n",
       "      <th>64</th>\n",
       "      <td>Шадринск Курганской области</td>\n",
       "      <td>0.6</td>\n",
       "    </tr>\n",
       "    <tr>\n",
       "      <th>65</th>\n",
       "      <td>Нижегородская область</td>\n",
       "      <td>0.6</td>\n",
       "    </tr>\n",
       "    <tr>\n",
       "      <th>66</th>\n",
       "      <td>Невьянск</td>\n",
       "      <td>0.6</td>\n",
       "    </tr>\n",
       "    <tr>\n",
       "      <th>67</th>\n",
       "      <td>Алмере</td>\n",
       "      <td>0.6</td>\n",
       "    </tr>\n",
       "  </tbody>\n",
       "</table>\n",
       "<p>68 rows × 2 columns</p>\n",
       "</div>"
      ],
      "text/plain": [
       "            Укажите ваш возраст     %\n",
       "0                        Москва  25.0\n",
       "1               Санкт-Петербург   9.1\n",
       "2                   Новосибирск   3.7\n",
       "3                        Самара   3.7\n",
       "4                  Екатеринбург   3.0\n",
       "..                          ...   ...\n",
       "63                  Новокузнецк   0.6\n",
       "64  Шадринск Курганской области   0.6\n",
       "65        Нижегородская область   0.6\n",
       "66                    Невьянск    0.6\n",
       "67                       Алмере   0.6\n",
       "\n",
       "[68 rows x 2 columns]"
      ]
     },
     "execution_count": 9,
     "metadata": {},
     "output_type": "execute_result"
    }
   ],
   "source": [
    "df3 = round(df.iloc[:,[3]].value_counts() / df.iloc[:,[3]].value_counts().sum() * 100, 1).reset_index()\n",
    "df3.columns = ['Укажите ваш возраст', '%']\n",
    "df3"
   ]
  },
  {
   "cell_type": "markdown",
   "metadata": {},
   "source": [
    "# --------------------------------------------------------------------------------------------------------------"
   ]
  },
  {
   "cell_type": "markdown",
   "metadata": {},
   "source": [
    "## Все женщины"
   ]
  },
  {
   "cell_type": "code",
   "execution_count": 10,
   "metadata": {},
   "outputs": [],
   "source": [
    "# Все женщины (124 чел)\n",
    "f = df.loc[df['Укажите ваш пол'] == 'Женский']"
   ]
  },
  {
   "cell_type": "markdown",
   "metadata": {},
   "source": [
    "### Все женщины по возрастным категориям"
   ]
  },
  {
   "cell_type": "code",
   "execution_count": 11,
   "metadata": {},
   "outputs": [
    {
     "data": {
      "text/html": [
       "<div>\n",
       "<style scoped>\n",
       "    .dataframe tbody tr th:only-of-type {\n",
       "        vertical-align: middle;\n",
       "    }\n",
       "\n",
       "    .dataframe tbody tr th {\n",
       "        vertical-align: top;\n",
       "    }\n",
       "\n",
       "    .dataframe thead th {\n",
       "        text-align: right;\n",
       "    }\n",
       "</style>\n",
       "<table border=\"1\" class=\"dataframe\">\n",
       "  <thead>\n",
       "    <tr style=\"text-align: right;\">\n",
       "      <th></th>\n",
       "      <th>Отметка времени</th>\n",
       "    </tr>\n",
       "    <tr>\n",
       "      <th>Укажите ваш возраст</th>\n",
       "      <th></th>\n",
       "    </tr>\n",
       "  </thead>\n",
       "  <tbody>\n",
       "    <tr>\n",
       "      <th>30-39 лет</th>\n",
       "      <td>49</td>\n",
       "    </tr>\n",
       "    <tr>\n",
       "      <th>23-29 лет</th>\n",
       "      <td>28</td>\n",
       "    </tr>\n",
       "    <tr>\n",
       "      <th>40-49 лет</th>\n",
       "      <td>28</td>\n",
       "    </tr>\n",
       "    <tr>\n",
       "      <th>больше 50 лет</th>\n",
       "      <td>10</td>\n",
       "    </tr>\n",
       "    <tr>\n",
       "      <th>18-22 лет</th>\n",
       "      <td>6</td>\n",
       "    </tr>\n",
       "    <tr>\n",
       "      <th>до 18 лет</th>\n",
       "      <td>3</td>\n",
       "    </tr>\n",
       "  </tbody>\n",
       "</table>\n",
       "</div>"
      ],
      "text/plain": [
       "                     Отметка времени\n",
       "Укажите ваш возраст                 \n",
       "30-39 лет                         49\n",
       "23-29 лет                         28\n",
       "40-49 лет                         28\n",
       "больше 50 лет                     10\n",
       "18-22 лет                          6\n",
       "до 18 лет                          3"
      ]
     },
     "execution_count": 11,
     "metadata": {},
     "output_type": "execute_result"
    }
   ],
   "source": [
    "f.groupby('Укажите ваш возраст').count()[['Отметка времени']].sort_values('Отметка времени', ascending=False)"
   ]
  },
  {
   "cell_type": "code",
   "execution_count": 12,
   "metadata": {},
   "outputs": [
    {
     "data": {
      "text/html": [
       "<div>\n",
       "<style scoped>\n",
       "    .dataframe tbody tr th:only-of-type {\n",
       "        vertical-align: middle;\n",
       "    }\n",
       "\n",
       "    .dataframe tbody tr th {\n",
       "        vertical-align: top;\n",
       "    }\n",
       "\n",
       "    .dataframe thead th {\n",
       "        text-align: right;\n",
       "    }\n",
       "</style>\n",
       "<table border=\"1\" class=\"dataframe\">\n",
       "  <thead>\n",
       "    <tr style=\"text-align: right;\">\n",
       "      <th></th>\n",
       "      <th>Укажите ваш возраст</th>\n",
       "      <th>Жен., %</th>\n",
       "    </tr>\n",
       "  </thead>\n",
       "  <tbody>\n",
       "    <tr>\n",
       "      <th>0</th>\n",
       "      <td>30-39 лет</td>\n",
       "      <td>39.5</td>\n",
       "    </tr>\n",
       "    <tr>\n",
       "      <th>1</th>\n",
       "      <td>40-49 лет</td>\n",
       "      <td>22.6</td>\n",
       "    </tr>\n",
       "    <tr>\n",
       "      <th>2</th>\n",
       "      <td>23-29 лет</td>\n",
       "      <td>22.6</td>\n",
       "    </tr>\n",
       "    <tr>\n",
       "      <th>3</th>\n",
       "      <td>больше 50 лет</td>\n",
       "      <td>8.1</td>\n",
       "    </tr>\n",
       "    <tr>\n",
       "      <th>4</th>\n",
       "      <td>18-22 лет</td>\n",
       "      <td>4.8</td>\n",
       "    </tr>\n",
       "    <tr>\n",
       "      <th>5</th>\n",
       "      <td>до 18 лет</td>\n",
       "      <td>2.4</td>\n",
       "    </tr>\n",
       "  </tbody>\n",
       "</table>\n",
       "</div>"
      ],
      "text/plain": [
       "  Укажите ваш возраст  Жен., %\n",
       "0           30-39 лет     39.5\n",
       "1           40-49 лет     22.6\n",
       "2           23-29 лет     22.6\n",
       "3       больше 50 лет      8.1\n",
       "4           18-22 лет      4.8\n",
       "5           до 18 лет      2.4"
      ]
     },
     "execution_count": 12,
     "metadata": {},
     "output_type": "execute_result"
    }
   ],
   "source": [
    "f_age = round(f.iloc[:,[1]].value_counts() / f.iloc[:,[1]].value_counts().sum() * 100, 1).reset_index()\n",
    "f_age.columns = ['Укажите ваш возраст', 'Жен., %']\n",
    "f_age.head(10)"
   ]
  },
  {
   "cell_type": "markdown",
   "metadata": {},
   "source": [
    "### Все женщины по городам проживания"
   ]
  },
  {
   "cell_type": "code",
   "execution_count": 13,
   "metadata": {},
   "outputs": [
    {
     "data": {
      "text/html": [
       "<div>\n",
       "<style scoped>\n",
       "    .dataframe tbody tr th:only-of-type {\n",
       "        vertical-align: middle;\n",
       "    }\n",
       "\n",
       "    .dataframe tbody tr th {\n",
       "        vertical-align: top;\n",
       "    }\n",
       "\n",
       "    .dataframe thead th {\n",
       "        text-align: right;\n",
       "    }\n",
       "</style>\n",
       "<table border=\"1\" class=\"dataframe\">\n",
       "  <thead>\n",
       "    <tr style=\"text-align: right;\">\n",
       "      <th></th>\n",
       "      <th>Отметка времени</th>\n",
       "    </tr>\n",
       "    <tr>\n",
       "      <th>Укажите ваш город</th>\n",
       "      <th></th>\n",
       "    </tr>\n",
       "  </thead>\n",
       "  <tbody>\n",
       "    <tr>\n",
       "      <th>Москва</th>\n",
       "      <td>32</td>\n",
       "    </tr>\n",
       "    <tr>\n",
       "      <th>Санкт-Петербург</th>\n",
       "      <td>12</td>\n",
       "    </tr>\n",
       "    <tr>\n",
       "      <th>Новосибирск</th>\n",
       "      <td>6</td>\n",
       "    </tr>\n",
       "    <tr>\n",
       "      <th>Екатеринбург</th>\n",
       "      <td>4</td>\n",
       "    </tr>\n",
       "    <tr>\n",
       "      <th>Ростов-на-Дону</th>\n",
       "      <td>4</td>\n",
       "    </tr>\n",
       "    <tr>\n",
       "      <th>Челябинск</th>\n",
       "      <td>3</td>\n",
       "    </tr>\n",
       "    <tr>\n",
       "      <th>Алмере</th>\n",
       "      <td>3</td>\n",
       "    </tr>\n",
       "    <tr>\n",
       "      <th>Нижний Новгород</th>\n",
       "      <td>3</td>\n",
       "    </tr>\n",
       "    <tr>\n",
       "      <th>Краснодар</th>\n",
       "      <td>3</td>\n",
       "    </tr>\n",
       "    <tr>\n",
       "      <th>Владимир</th>\n",
       "      <td>2</td>\n",
       "    </tr>\n",
       "  </tbody>\n",
       "</table>\n",
       "</div>"
      ],
      "text/plain": [
       "                   Отметка времени\n",
       "Укажите ваш город                 \n",
       "Москва                          32\n",
       "Санкт-Петербург                 12\n",
       "Новосибирск                      6\n",
       "Екатеринбург                     4\n",
       "Ростов-на-Дону                   4\n",
       "Челябинск                        3\n",
       "Алмере                           3\n",
       "Нижний Новгород                  3\n",
       "Краснодар                        3\n",
       "Владимир                         2"
      ]
     },
     "execution_count": 13,
     "metadata": {},
     "output_type": "execute_result"
    }
   ],
   "source": [
    "f.groupby('Укажите ваш город').count()[['Отметка времени']].sort_values('Отметка времени', ascending=False).head(10)"
   ]
  },
  {
   "cell_type": "code",
   "execution_count": 14,
   "metadata": {},
   "outputs": [
    {
     "data": {
      "text/html": [
       "<div>\n",
       "<style scoped>\n",
       "    .dataframe tbody tr th:only-of-type {\n",
       "        vertical-align: middle;\n",
       "    }\n",
       "\n",
       "    .dataframe tbody tr th {\n",
       "        vertical-align: top;\n",
       "    }\n",
       "\n",
       "    .dataframe thead th {\n",
       "        text-align: right;\n",
       "    }\n",
       "</style>\n",
       "<table border=\"1\" class=\"dataframe\">\n",
       "  <thead>\n",
       "    <tr style=\"text-align: right;\">\n",
       "      <th></th>\n",
       "      <th>Укажите ваш город</th>\n",
       "      <th>Жен., %</th>\n",
       "    </tr>\n",
       "  </thead>\n",
       "  <tbody>\n",
       "    <tr>\n",
       "      <th>0</th>\n",
       "      <td>Москва</td>\n",
       "      <td>25.8</td>\n",
       "    </tr>\n",
       "    <tr>\n",
       "      <th>1</th>\n",
       "      <td>Санкт-Петербург</td>\n",
       "      <td>9.7</td>\n",
       "    </tr>\n",
       "    <tr>\n",
       "      <th>2</th>\n",
       "      <td>Новосибирск</td>\n",
       "      <td>4.8</td>\n",
       "    </tr>\n",
       "    <tr>\n",
       "      <th>3</th>\n",
       "      <td>Екатеринбург</td>\n",
       "      <td>3.2</td>\n",
       "    </tr>\n",
       "    <tr>\n",
       "      <th>4</th>\n",
       "      <td>Ростов-на-Дону</td>\n",
       "      <td>3.2</td>\n",
       "    </tr>\n",
       "    <tr>\n",
       "      <th>5</th>\n",
       "      <td>Алмере</td>\n",
       "      <td>2.4</td>\n",
       "    </tr>\n",
       "    <tr>\n",
       "      <th>6</th>\n",
       "      <td>Краснодар</td>\n",
       "      <td>2.4</td>\n",
       "    </tr>\n",
       "    <tr>\n",
       "      <th>7</th>\n",
       "      <td>Челябинск</td>\n",
       "      <td>2.4</td>\n",
       "    </tr>\n",
       "    <tr>\n",
       "      <th>8</th>\n",
       "      <td>Нижний Новгород</td>\n",
       "      <td>2.4</td>\n",
       "    </tr>\n",
       "    <tr>\n",
       "      <th>9</th>\n",
       "      <td>Самара</td>\n",
       "      <td>1.6</td>\n",
       "    </tr>\n",
       "  </tbody>\n",
       "</table>\n",
       "</div>"
      ],
      "text/plain": [
       "  Укажите ваш город  Жен., %\n",
       "0            Москва     25.8\n",
       "1   Санкт-Петербург      9.7\n",
       "2       Новосибирск      4.8\n",
       "3      Екатеринбург      3.2\n",
       "4    Ростов-на-Дону      3.2\n",
       "5           Алмере       2.4\n",
       "6         Краснодар      2.4\n",
       "7         Челябинск      2.4\n",
       "8   Нижний Новгород      2.4\n",
       "9            Самара      1.6"
      ]
     },
     "execution_count": 14,
     "metadata": {},
     "output_type": "execute_result"
    }
   ],
   "source": [
    "f_city = round(f.iloc[:,[3]].value_counts() / f.iloc[:,[3]].value_counts().sum() * 100, 1).reset_index()\n",
    "f_city.columns = ['Укажите ваш город', 'Жен., %']\n",
    "f_city.head(10)"
   ]
  },
  {
   "cell_type": "markdown",
   "metadata": {},
   "source": [
    "# --------------------------------------------------------------------------------------------------------------"
   ]
  },
  {
   "cell_type": "markdown",
   "metadata": {},
   "source": [
    "### Женщины в возрасте 30-39 лет"
   ]
  },
  {
   "cell_type": "code",
   "execution_count": 15,
   "metadata": {},
   "outputs": [
    {
     "data": {
      "text/html": [
       "<div>\n",
       "<style scoped>\n",
       "    .dataframe tbody tr th:only-of-type {\n",
       "        vertical-align: middle;\n",
       "    }\n",
       "\n",
       "    .dataframe tbody tr th {\n",
       "        vertical-align: top;\n",
       "    }\n",
       "\n",
       "    .dataframe thead th {\n",
       "        text-align: right;\n",
       "    }\n",
       "</style>\n",
       "<table border=\"1\" class=\"dataframe\">\n",
       "  <thead>\n",
       "    <tr style=\"text-align: right;\">\n",
       "      <th></th>\n",
       "      <th>Отметка времени</th>\n",
       "    </tr>\n",
       "    <tr>\n",
       "      <th>Укажите ваш город</th>\n",
       "      <th></th>\n",
       "    </tr>\n",
       "  </thead>\n",
       "  <tbody>\n",
       "    <tr>\n",
       "      <th>Москва</th>\n",
       "      <td>10</td>\n",
       "    </tr>\n",
       "    <tr>\n",
       "      <th>Санкт-Петербург</th>\n",
       "      <td>5</td>\n",
       "    </tr>\n",
       "    <tr>\n",
       "      <th>Алмере</th>\n",
       "      <td>3</td>\n",
       "    </tr>\n",
       "    <tr>\n",
       "      <th>Пенза</th>\n",
       "      <td>2</td>\n",
       "    </tr>\n",
       "    <tr>\n",
       "      <th>Екатеринбург</th>\n",
       "      <td>2</td>\n",
       "    </tr>\n",
       "    <tr>\n",
       "      <th>Краснодар</th>\n",
       "      <td>2</td>\n",
       "    </tr>\n",
       "    <tr>\n",
       "      <th>Нидерланды</th>\n",
       "      <td>2</td>\n",
       "    </tr>\n",
       "    <tr>\n",
       "      <th>Саратов</th>\n",
       "      <td>2</td>\n",
       "    </tr>\n",
       "    <tr>\n",
       "      <th>Ростов-на-Дону</th>\n",
       "      <td>1</td>\n",
       "    </tr>\n",
       "    <tr>\n",
       "      <th>Салехард</th>\n",
       "      <td>1</td>\n",
       "    </tr>\n",
       "  </tbody>\n",
       "</table>\n",
       "</div>"
      ],
      "text/plain": [
       "                   Отметка времени\n",
       "Укажите ваш город                 \n",
       "Москва                          10\n",
       "Санкт-Петербург                  5\n",
       "Алмере                           3\n",
       "Пенза                            2\n",
       "Екатеринбург                     2\n",
       "Краснодар                        2\n",
       "Нидерланды                       2\n",
       "Саратов                          2\n",
       "Ростов-на-Дону                   1\n",
       "Салехард                         1"
      ]
     },
     "execution_count": 15,
     "metadata": {},
     "output_type": "execute_result"
    }
   ],
   "source": [
    "f_30_39 = f.loc[f['Укажите ваш возраст'] == '30-39 лет']\n",
    "f_30_39.groupby('Укажите ваш город').count()[['Отметка времени']].sort_values('Отметка времени', ascending=False).head(10)"
   ]
  },
  {
   "cell_type": "code",
   "execution_count": 16,
   "metadata": {},
   "outputs": [
    {
     "data": {
      "text/html": [
       "<div>\n",
       "<style scoped>\n",
       "    .dataframe tbody tr th:only-of-type {\n",
       "        vertical-align: middle;\n",
       "    }\n",
       "\n",
       "    .dataframe tbody tr th {\n",
       "        vertical-align: top;\n",
       "    }\n",
       "\n",
       "    .dataframe thead th {\n",
       "        text-align: right;\n",
       "    }\n",
       "</style>\n",
       "<table border=\"1\" class=\"dataframe\">\n",
       "  <thead>\n",
       "    <tr style=\"text-align: right;\">\n",
       "      <th></th>\n",
       "      <th>Укажите ваш город</th>\n",
       "      <th>Жен., %</th>\n",
       "    </tr>\n",
       "  </thead>\n",
       "  <tbody>\n",
       "    <tr>\n",
       "      <th>0</th>\n",
       "      <td>Москва</td>\n",
       "      <td>20.4</td>\n",
       "    </tr>\n",
       "    <tr>\n",
       "      <th>1</th>\n",
       "      <td>Санкт-Петербург</td>\n",
       "      <td>10.2</td>\n",
       "    </tr>\n",
       "    <tr>\n",
       "      <th>2</th>\n",
       "      <td>Алмере</td>\n",
       "      <td>6.1</td>\n",
       "    </tr>\n",
       "    <tr>\n",
       "      <th>3</th>\n",
       "      <td>Саратов</td>\n",
       "      <td>4.1</td>\n",
       "    </tr>\n",
       "    <tr>\n",
       "      <th>4</th>\n",
       "      <td>Екатеринбург</td>\n",
       "      <td>4.1</td>\n",
       "    </tr>\n",
       "    <tr>\n",
       "      <th>5</th>\n",
       "      <td>Краснодар</td>\n",
       "      <td>4.1</td>\n",
       "    </tr>\n",
       "    <tr>\n",
       "      <th>6</th>\n",
       "      <td>Пенза</td>\n",
       "      <td>4.1</td>\n",
       "    </tr>\n",
       "    <tr>\n",
       "      <th>7</th>\n",
       "      <td>Нидерланды</td>\n",
       "      <td>4.1</td>\n",
       "    </tr>\n",
       "    <tr>\n",
       "      <th>8</th>\n",
       "      <td>Челябинск</td>\n",
       "      <td>2.0</td>\n",
       "    </tr>\n",
       "    <tr>\n",
       "      <th>9</th>\n",
       "      <td>Н Новгород</td>\n",
       "      <td>2.0</td>\n",
       "    </tr>\n",
       "  </tbody>\n",
       "</table>\n",
       "</div>"
      ],
      "text/plain": [
       "  Укажите ваш город  Жен., %\n",
       "0            Москва     20.4\n",
       "1   Санкт-Петербург     10.2\n",
       "2           Алмере       6.1\n",
       "3           Саратов      4.1\n",
       "4      Екатеринбург      4.1\n",
       "5         Краснодар      4.1\n",
       "6             Пенза      4.1\n",
       "7       Нидерланды       4.1\n",
       "8         Челябинск      2.0\n",
       "9        Н Новгород      2.0"
      ]
     },
     "execution_count": 16,
     "metadata": {},
     "output_type": "execute_result"
    }
   ],
   "source": [
    "f_30_39_City = round(f_30_39.iloc[:,[3]].value_counts() / f_30_39.iloc[:,[3]].value_counts().sum() * 100, 1).reset_index()\n",
    "f_30_39_City.columns = ['Укажите ваш город', 'Жен., %']\n",
    "f_30_39_City.head(10)"
   ]
  },
  {
   "cell_type": "markdown",
   "metadata": {},
   "source": [
    "# --------------------------------------------------------------------------------------------------------------\n"
   ]
  },
  {
   "cell_type": "markdown",
   "metadata": {},
   "source": [
    "### Женщины в возрасте 30-39 лет, проживающие в Москве и СПб (15 человек)"
   ]
  },
  {
   "cell_type": "code",
   "execution_count": 17,
   "metadata": {},
   "outputs": [],
   "source": [
    "df_f_30_39_MSC_SPT = df.loc[(df['Укажите ваш возраст'] == '30-39 лет') & (df['Укажите ваш пол'] == 'Женский') & (df['Укажите ваш город'].isin(['Москва', 'Санкт-Петербург']))]"
   ]
  },
  {
   "cell_type": "code",
   "execution_count": 18,
   "metadata": {},
   "outputs": [
    {
     "data": {
      "text/html": [
       "<div>\n",
       "<style scoped>\n",
       "    .dataframe tbody tr th:only-of-type {\n",
       "        vertical-align: middle;\n",
       "    }\n",
       "\n",
       "    .dataframe tbody tr th {\n",
       "        vertical-align: top;\n",
       "    }\n",
       "\n",
       "    .dataframe thead th {\n",
       "        text-align: right;\n",
       "    }\n",
       "</style>\n",
       "<table border=\"1\" class=\"dataframe\">\n",
       "  <thead>\n",
       "    <tr style=\"text-align: right;\">\n",
       "      <th></th>\n",
       "      <th>Какая цветовая гамма интернет-магазина вам нравится?</th>\n",
       "      <th>%</th>\n",
       "    </tr>\n",
       "  </thead>\n",
       "  <tbody>\n",
       "    <tr>\n",
       "      <th>0</th>\n",
       "      <td>Сдержанные оттенки (белый, черный, серый)</td>\n",
       "      <td>86.7</td>\n",
       "    </tr>\n",
       "    <tr>\n",
       "      <th>1</th>\n",
       "      <td>Яркая (синий, красный, зеленый и тд.)</td>\n",
       "      <td>13.3</td>\n",
       "    </tr>\n",
       "  </tbody>\n",
       "</table>\n",
       "</div>"
      ],
      "text/plain": [
       "  Какая цветовая гамма интернет-магазина вам нравится?     %\n",
       "0          Сдержанные оттенки (белый, черный, серый)    86.7\n",
       "1              Яркая (синий, красный, зеленый и тд.)    13.3"
      ]
     },
     "execution_count": 18,
     "metadata": {},
     "output_type": "execute_result"
    }
   ],
   "source": [
    "df_f_30_39_MSC_SPT_4 = round(df_f_30_39_MSC_SPT.iloc[:,[4]].value_counts() / df_f_30_39_MSC_SPT.iloc[:,[4]].value_counts().sum() * 100, 1).reset_index()\n",
    "df_f_30_39_MSC_SPT_4.columns = ['Какая цветовая гамма интернет-магазина вам нравится?', '%']\n",
    "df_f_30_39_MSC_SPT_4"
   ]
  },
  {
   "cell_type": "code",
   "execution_count": 19,
   "metadata": {},
   "outputs": [
    {
     "name": "stdout",
     "output_type": "stream",
     "text": [
      "Доверительный интервал: (13.523415796641189, 50.0, 86.47658420335881)\n"
     ]
    }
   ],
   "source": [
    "print('Доверительный интервал:', mean_confidence_interval(df_f_30_39_MSC_SPT_4['%'], 0.575))"
   ]
  },
  {
   "cell_type": "code",
   "execution_count": null,
   "metadata": {},
   "outputs": [],
   "source": [
    "\n"
   ]
  },
  {
   "cell_type": "code",
   "execution_count": 20,
   "metadata": {},
   "outputs": [
    {
     "data": {
      "text/html": [
       "<div>\n",
       "<style scoped>\n",
       "    .dataframe tbody tr th:only-of-type {\n",
       "        vertical-align: middle;\n",
       "    }\n",
       "\n",
       "    .dataframe tbody tr th {\n",
       "        vertical-align: top;\n",
       "    }\n",
       "\n",
       "    .dataframe thead th {\n",
       "        text-align: right;\n",
       "    }\n",
       "</style>\n",
       "<table border=\"1\" class=\"dataframe\">\n",
       "  <thead>\n",
       "    <tr style=\"text-align: right;\">\n",
       "      <th></th>\n",
       "      <th>Сколько по времени вы готовы ждать свой заказ?</th>\n",
       "      <th>%</th>\n",
       "    </tr>\n",
       "  </thead>\n",
       "  <tbody>\n",
       "    <tr>\n",
       "      <th>0</th>\n",
       "      <td>1-3 рабочих дня</td>\n",
       "      <td>66.7</td>\n",
       "    </tr>\n",
       "    <tr>\n",
       "      <th>1</th>\n",
       "      <td>4-7 рабочих дней</td>\n",
       "      <td>20.0</td>\n",
       "    </tr>\n",
       "    <tr>\n",
       "      <th>2</th>\n",
       "      <td>более 7 рабочих дней</td>\n",
       "      <td>6.7</td>\n",
       "    </tr>\n",
       "    <tr>\n",
       "      <th>3</th>\n",
       "      <td>Неважно</td>\n",
       "      <td>6.7</td>\n",
       "    </tr>\n",
       "  </tbody>\n",
       "</table>\n",
       "</div>"
      ],
      "text/plain": [
       "  Сколько по времени вы готовы ждать свой заказ?     %\n",
       "0                                1-3 рабочих дня  66.7\n",
       "1                               4-7 рабочих дней  20.0\n",
       "2                           более 7 рабочих дней   6.7\n",
       "3                                        Неважно   6.7"
      ]
     },
     "execution_count": 20,
     "metadata": {},
     "output_type": "execute_result"
    }
   ],
   "source": [
    "df_f_30_39_MSC_SPT_5 = round(df_f_30_39_MSC_SPT.iloc[:,[5]].value_counts() / df_f_30_39_MSC_SPT.iloc[:,[5]].value_counts().sum() * 100, 1).reset_index()\n",
    "df_f_30_39_MSC_SPT_5.columns = ['Сколько по времени вы готовы ждать свой заказ?', '%']\n",
    "df_f_30_39_MSC_SPT_5"
   ]
  },
  {
   "cell_type": "code",
   "execution_count": 21,
   "metadata": {},
   "outputs": [
    {
     "name": "stdout",
     "output_type": "stream",
     "text": [
      "Доверительный интервал: (6.808259046904556, 25.025000000000002, 43.241740953095444)\n"
     ]
    }
   ],
   "source": [
    "print('Доверительный интервал:', mean_confidence_interval(df_f_30_39_MSC_SPT_5['%'], 0.73))"
   ]
  },
  {
   "cell_type": "code",
   "execution_count": null,
   "metadata": {},
   "outputs": [],
   "source": [
    "\n"
   ]
  },
  {
   "cell_type": "code",
   "execution_count": 22,
   "metadata": {},
   "outputs": [
    {
     "data": {
      "text/html": [
       "<div>\n",
       "<style scoped>\n",
       "    .dataframe tbody tr th:only-of-type {\n",
       "        vertical-align: middle;\n",
       "    }\n",
       "\n",
       "    .dataframe tbody tr th {\n",
       "        vertical-align: top;\n",
       "    }\n",
       "\n",
       "    .dataframe thead th {\n",
       "        text-align: right;\n",
       "    }\n",
       "</style>\n",
       "<table border=\"1\" class=\"dataframe\">\n",
       "  <thead>\n",
       "    <tr style=\"text-align: right;\">\n",
       "      <th></th>\n",
       "      <th>Что из перечисленного могло бы мотивировать вас к покупке?</th>\n",
       "      <th>%</th>\n",
       "    </tr>\n",
       "  </thead>\n",
       "  <tbody>\n",
       "    <tr>\n",
       "      <th>0</th>\n",
       "      <td>Скидка</td>\n",
       "      <td>46.7</td>\n",
       "    </tr>\n",
       "    <tr>\n",
       "      <th>1</th>\n",
       "      <td>Скидка, Система лояльности</td>\n",
       "      <td>13.3</td>\n",
       "    </tr>\n",
       "    <tr>\n",
       "      <th>2</th>\n",
       "      <td>Ничего из перечисленного</td>\n",
       "      <td>13.3</td>\n",
       "    </tr>\n",
       "    <tr>\n",
       "      <th>3</th>\n",
       "      <td>Наличие промокода, Скидка, Система лояльности</td>\n",
       "      <td>6.7</td>\n",
       "    </tr>\n",
       "    <tr>\n",
       "      <th>4</th>\n",
       "      <td>Наличие промокода, Скидка</td>\n",
       "      <td>6.7</td>\n",
       "    </tr>\n",
       "    <tr>\n",
       "      <th>5</th>\n",
       "      <td>Наличие промокода, Система лояльности</td>\n",
       "      <td>6.7</td>\n",
       "    </tr>\n",
       "    <tr>\n",
       "      <th>6</th>\n",
       "      <td>Наличие промокода</td>\n",
       "      <td>6.7</td>\n",
       "    </tr>\n",
       "  </tbody>\n",
       "</table>\n",
       "</div>"
      ],
      "text/plain": [
       "  Что из перечисленного могло бы мотивировать вас к покупке?     %\n",
       "0                                             Скидка          46.7\n",
       "1                         Скидка, Система лояльности          13.3\n",
       "2                           Ничего из перечисленного          13.3\n",
       "3      Наличие промокода, Скидка, Система лояльности           6.7\n",
       "4                          Наличие промокода, Скидка           6.7\n",
       "5              Наличие промокода, Система лояльности           6.7\n",
       "6                                  Наличие промокода           6.7"
      ]
     },
     "execution_count": 22,
     "metadata": {},
     "output_type": "execute_result"
    }
   ],
   "source": [
    "df_f_30_39_MSC_SPT_6 = round(df_f_30_39_MSC_SPT.iloc[:,[6]].value_counts() / df_f_30_39_MSC_SPT.iloc[:,[6]].value_counts().sum() * 100, 1).reset_index()\n",
    "df_f_30_39_MSC_SPT_6.columns = ['Что из перечисленного могло бы мотивировать вас к покупке?', '%']\n",
    "df_f_30_39_MSC_SPT_6"
   ]
  },
  {
   "cell_type": "code",
   "execution_count": 23,
   "metadata": {},
   "outputs": [
    {
     "name": "stdout",
     "output_type": "stream",
     "text": [
      "Доверительный интервал: (6.765419824943738, 14.3, 21.834580175056264)\n"
     ]
    }
   ],
   "source": [
    "print('Доверительный интервал:', mean_confidence_interval(df_f_30_39_MSC_SPT_6['%'], 0.785))"
   ]
  },
  {
   "cell_type": "code",
   "execution_count": null,
   "metadata": {},
   "outputs": [],
   "source": [
    "\n"
   ]
  },
  {
   "cell_type": "code",
   "execution_count": 24,
   "metadata": {},
   "outputs": [
    {
     "data": {
      "text/html": [
       "<div>\n",
       "<style scoped>\n",
       "    .dataframe tbody tr th:only-of-type {\n",
       "        vertical-align: middle;\n",
       "    }\n",
       "\n",
       "    .dataframe tbody tr th {\n",
       "        vertical-align: top;\n",
       "    }\n",
       "\n",
       "    .dataframe thead th {\n",
       "        text-align: right;\n",
       "    }\n",
       "</style>\n",
       "<table border=\"1\" class=\"dataframe\">\n",
       "  <thead>\n",
       "    <tr style=\"text-align: right;\">\n",
       "      <th></th>\n",
       "      <th>Как долго вы готовы ждать ответа от менеджера  по вашему заказу?</th>\n",
       "      <th>%</th>\n",
       "    </tr>\n",
       "  </thead>\n",
       "  <tbody>\n",
       "    <tr>\n",
       "      <th>0</th>\n",
       "      <td>В течение часа</td>\n",
       "      <td>40.0</td>\n",
       "    </tr>\n",
       "    <tr>\n",
       "      <th>1</th>\n",
       "      <td>1-3 часа</td>\n",
       "      <td>33.3</td>\n",
       "    </tr>\n",
       "    <tr>\n",
       "      <th>2</th>\n",
       "      <td>В течение суток</td>\n",
       "      <td>26.7</td>\n",
       "    </tr>\n",
       "  </tbody>\n",
       "</table>\n",
       "</div>"
      ],
      "text/plain": [
       "  Как долго вы готовы ждать ответа от менеджера  по вашему заказу?     %\n",
       "0                                     В течение часа                40.0\n",
       "1                                           1-3 часа                33.3\n",
       "2                                    В течение суток                26.7"
      ]
     },
     "execution_count": 24,
     "metadata": {},
     "output_type": "execute_result"
    }
   ],
   "source": [
    "df_f_30_39_MSC_SPT_7 = round(df_f_30_39_MSC_SPT.iloc[:,[7]].value_counts() / df_f_30_39_MSC_SPT.iloc[:,[7]].value_counts().sum() * 100, 1).reset_index()\n",
    "df_f_30_39_MSC_SPT_7.columns = ['Как долго вы готовы ждать ответа от менеджера  по вашему заказу?', '%']\n",
    "df_f_30_39_MSC_SPT_7"
   ]
  },
  {
   "cell_type": "code",
   "execution_count": 25,
   "metadata": {},
   "outputs": [
    {
     "name": "stdout",
     "output_type": "stream",
     "text": [
      "Доверительный интервал: (26.7517108923533, 33.333333333333336, 39.91495577431337)\n"
     ]
    }
   ],
   "source": [
    "print('Доверительный интервал:', mean_confidence_interval(df_f_30_39_MSC_SPT_7['%'], 0.815))"
   ]
  },
  {
   "cell_type": "code",
   "execution_count": null,
   "metadata": {},
   "outputs": [],
   "source": [
    "\n"
   ]
  },
  {
   "cell_type": "code",
   "execution_count": 26,
   "metadata": {},
   "outputs": [
    {
     "data": {
      "text/html": [
       "<div>\n",
       "<style scoped>\n",
       "    .dataframe tbody tr th:only-of-type {\n",
       "        vertical-align: middle;\n",
       "    }\n",
       "\n",
       "    .dataframe tbody tr th {\n",
       "        vertical-align: top;\n",
       "    }\n",
       "\n",
       "    .dataframe thead th {\n",
       "        text-align: right;\n",
       "    }\n",
       "</style>\n",
       "<table border=\"1\" class=\"dataframe\">\n",
       "  <thead>\n",
       "    <tr style=\"text-align: right;\">\n",
       "      <th></th>\n",
       "      <th>Какой способ обратной связи с менеджером вам наиболее удобен?</th>\n",
       "      <th>%</th>\n",
       "    </tr>\n",
       "  </thead>\n",
       "  <tbody>\n",
       "    <tr>\n",
       "      <th>0</th>\n",
       "      <td>На самом сайте (чат), Получить ответ в мессенд...</td>\n",
       "      <td>26.7</td>\n",
       "    </tr>\n",
       "    <tr>\n",
       "      <th>1</th>\n",
       "      <td>Получить ответ на телефон (смс)</td>\n",
       "      <td>13.3</td>\n",
       "    </tr>\n",
       "    <tr>\n",
       "      <th>2</th>\n",
       "      <td>Получить ответ на почту, Получить ответ в месс...</td>\n",
       "      <td>13.3</td>\n",
       "    </tr>\n",
       "    <tr>\n",
       "      <th>3</th>\n",
       "      <td>На самом сайте (чат)</td>\n",
       "      <td>13.3</td>\n",
       "    </tr>\n",
       "    <tr>\n",
       "      <th>4</th>\n",
       "      <td>Получить ответ на телефон (звонок), Получить о...</td>\n",
       "      <td>6.7</td>\n",
       "    </tr>\n",
       "    <tr>\n",
       "      <th>5</th>\n",
       "      <td>Получить ответ на почту</td>\n",
       "      <td>6.7</td>\n",
       "    </tr>\n",
       "    <tr>\n",
       "      <th>6</th>\n",
       "      <td>Получить ответ в мессенджере/в соцсетях</td>\n",
       "      <td>6.7</td>\n",
       "    </tr>\n",
       "    <tr>\n",
       "      <th>7</th>\n",
       "      <td>На самом сайте (чат), Получить ответ на почту,...</td>\n",
       "      <td>6.7</td>\n",
       "    </tr>\n",
       "    <tr>\n",
       "      <th>8</th>\n",
       "      <td>На самом сайте (чат), Получить ответ на почту,...</td>\n",
       "      <td>6.7</td>\n",
       "    </tr>\n",
       "  </tbody>\n",
       "</table>\n",
       "</div>"
      ],
      "text/plain": [
       "  Какой способ обратной связи с менеджером вам наиболее удобен?     %\n",
       "0  На самом сайте (чат), Получить ответ в мессенд...             26.7\n",
       "1                    Получить ответ на телефон (смс)             13.3\n",
       "2  Получить ответ на почту, Получить ответ в месс...             13.3\n",
       "3                               На самом сайте (чат)             13.3\n",
       "4  Получить ответ на телефон (звонок), Получить о...              6.7\n",
       "5                            Получить ответ на почту              6.7\n",
       "6            Получить ответ в мессенджере/в соцсетях              6.7\n",
       "7  На самом сайте (чат), Получить ответ на почту,...              6.7\n",
       "8  На самом сайте (чат), Получить ответ на почту,...              6.7"
      ]
     },
     "execution_count": 26,
     "metadata": {},
     "output_type": "execute_result"
    }
   ],
   "source": [
    "df_f_30_39_MSC_SPT_8 = round(df_f_30_39_MSC_SPT.iloc[:,[8]].value_counts() / df_f_30_39_MSC_SPT.iloc[:,[8]].value_counts().sum() * 100, 1).reset_index()\n",
    "df_f_30_39_MSC_SPT_8.columns = ['Какой способ обратной связи с менеджером вам наиболее удобен?', '%']\n",
    "df_f_30_39_MSC_SPT_8"
   ]
  },
  {
   "cell_type": "code",
   "execution_count": 27,
   "metadata": {},
   "outputs": [
    {
     "name": "stdout",
     "output_type": "stream",
     "text": [
      "Доверительный интервал: (6.743977817620759, 11.122222222222224, 15.500466626823687)\n"
     ]
    }
   ],
   "source": [
    "print('Доверительный интервал:', mean_confidence_interval(df_f_30_39_MSC_SPT_8['%'], 0.92))"
   ]
  },
  {
   "cell_type": "code",
   "execution_count": null,
   "metadata": {},
   "outputs": [],
   "source": [
    "\n"
   ]
  },
  {
   "cell_type": "code",
   "execution_count": 28,
   "metadata": {},
   "outputs": [
    {
     "data": {
      "text/html": [
       "<div>\n",
       "<style scoped>\n",
       "    .dataframe tbody tr th:only-of-type {\n",
       "        vertical-align: middle;\n",
       "    }\n",
       "\n",
       "    .dataframe tbody tr th {\n",
       "        vertical-align: top;\n",
       "    }\n",
       "\n",
       "    .dataframe thead th {\n",
       "        text-align: right;\n",
       "    }\n",
       "</style>\n",
       "<table border=\"1\" class=\"dataframe\">\n",
       "  <thead>\n",
       "    <tr style=\"text-align: right;\">\n",
       "      <th></th>\n",
       "      <th>Вы когда-нибудь покупали мерч?</th>\n",
       "      <th>%</th>\n",
       "    </tr>\n",
       "  </thead>\n",
       "  <tbody>\n",
       "    <tr>\n",
       "      <th>0</th>\n",
       "      <td>Да</td>\n",
       "      <td>73.3</td>\n",
       "    </tr>\n",
       "    <tr>\n",
       "      <th>1</th>\n",
       "      <td>Нет и не планирую</td>\n",
       "      <td>20.0</td>\n",
       "    </tr>\n",
       "    <tr>\n",
       "      <th>2</th>\n",
       "      <td>Нет, но планирую</td>\n",
       "      <td>6.7</td>\n",
       "    </tr>\n",
       "  </tbody>\n",
       "</table>\n",
       "</div>"
      ],
      "text/plain": [
       "  Вы когда-нибудь покупали мерч?     %\n",
       "0                             Да  73.3\n",
       "1              Нет и не планирую  20.0\n",
       "2               Нет, но планирую   6.7"
      ]
     },
     "execution_count": 28,
     "metadata": {},
     "output_type": "execute_result"
    }
   ],
   "source": [
    "df_f_30_39_MSC_SPT_9 = round(df_f_30_39_MSC_SPT.iloc[:,[9]].value_counts() / df_f_30_39_MSC_SPT.iloc[:,[9]].value_counts().sum() * 100, 1).reset_index()\n",
    "df_f_30_39_MSC_SPT_9.columns = ['Вы когда-нибудь покупали мерч?', '%']\n",
    "df_f_30_39_MSC_SPT_9"
   ]
  },
  {
   "cell_type": "code",
   "execution_count": 29,
   "metadata": {},
   "outputs": [
    {
     "name": "stdout",
     "output_type": "stream",
     "text": [
      "Доверительный интервал: (6.915858164426517, 33.333333333333336, 59.750808502240154)\n"
     ]
    }
   ],
   "source": [
    "print('Доверительный интервал:', mean_confidence_interval(df_f_30_39_MSC_SPT_9['%'], 0.715))"
   ]
  },
  {
   "cell_type": "code",
   "execution_count": null,
   "metadata": {},
   "outputs": [],
   "source": [
    "\n"
   ]
  },
  {
   "cell_type": "code",
   "execution_count": 30,
   "metadata": {},
   "outputs": [
    {
     "data": {
      "text/html": [
       "<div>\n",
       "<style scoped>\n",
       "    .dataframe tbody tr th:only-of-type {\n",
       "        vertical-align: middle;\n",
       "    }\n",
       "\n",
       "    .dataframe tbody tr th {\n",
       "        vertical-align: top;\n",
       "    }\n",
       "\n",
       "    .dataframe thead th {\n",
       "        text-align: right;\n",
       "    }\n",
       "</style>\n",
       "<table border=\"1\" class=\"dataframe\">\n",
       "  <thead>\n",
       "    <tr style=\"text-align: right;\">\n",
       "      <th></th>\n",
       "      <th>Вам важно, какого размера будет логотип на мерче?</th>\n",
       "      <th>%</th>\n",
       "    </tr>\n",
       "  </thead>\n",
       "  <tbody>\n",
       "    <tr>\n",
       "      <th>0</th>\n",
       "      <td>Да, нравится, когда логотип маленького размера</td>\n",
       "      <td>66.7</td>\n",
       "    </tr>\n",
       "    <tr>\n",
       "      <th>1</th>\n",
       "      <td>Не люблю, когда на мерче есть логотип</td>\n",
       "      <td>20.0</td>\n",
       "    </tr>\n",
       "    <tr>\n",
       "      <th>2</th>\n",
       "      <td>Нет, мне неважно, какого размера будет логотип</td>\n",
       "      <td>6.7</td>\n",
       "    </tr>\n",
       "    <tr>\n",
       "      <th>3</th>\n",
       "      <td>Да, нравится, когда логотип крупный</td>\n",
       "      <td>6.7</td>\n",
       "    </tr>\n",
       "  </tbody>\n",
       "</table>\n",
       "</div>"
      ],
      "text/plain": [
       "  Вам важно, какого размера будет логотип на мерче?     %\n",
       "0    Да, нравится, когда логотип маленького размера  66.7\n",
       "1             Не люблю, когда на мерче есть логотип  20.0\n",
       "2    Нет, мне неважно, какого размера будет логотип   6.7\n",
       "3               Да, нравится, когда логотип крупный   6.7"
      ]
     },
     "execution_count": 30,
     "metadata": {},
     "output_type": "execute_result"
    }
   ],
   "source": [
    "df_f_30_39_MSC_SPT_10 = round(df_f_30_39_MSC_SPT.iloc[:,[10]].value_counts() / df_f_30_39_MSC_SPT.iloc[:,[10]].value_counts().sum() * 100, 1).reset_index()\n",
    "df_f_30_39_MSC_SPT_10.columns = ['Вам важно, какого размера будет логотип на мерче?', '%']\n",
    "df_f_30_39_MSC_SPT_10"
   ]
  },
  {
   "cell_type": "code",
   "execution_count": 31,
   "metadata": {},
   "outputs": [
    {
     "name": "stdout",
     "output_type": "stream",
     "text": [
      "Доверительный интервал: (6.808259046904556, 25.025000000000002, 43.241740953095444)\n"
     ]
    }
   ],
   "source": [
    "print('Доверительный интервал:', mean_confidence_interval(df_f_30_39_MSC_SPT_10['%'], 0.73))"
   ]
  },
  {
   "cell_type": "code",
   "execution_count": null,
   "metadata": {},
   "outputs": [],
   "source": [
    "\n"
   ]
  },
  {
   "cell_type": "code",
   "execution_count": 32,
   "metadata": {},
   "outputs": [
    {
     "data": {
      "text/html": [
       "<div>\n",
       "<style scoped>\n",
       "    .dataframe tbody tr th:only-of-type {\n",
       "        vertical-align: middle;\n",
       "    }\n",
       "\n",
       "    .dataframe tbody tr th {\n",
       "        vertical-align: top;\n",
       "    }\n",
       "\n",
       "    .dataframe thead th {\n",
       "        text-align: right;\n",
       "    }\n",
       "</style>\n",
       "<table border=\"1\" class=\"dataframe\">\n",
       "  <thead>\n",
       "    <tr style=\"text-align: right;\">\n",
       "      <th></th>\n",
       "      <th>Какой мерч вам интереснее всего?</th>\n",
       "      <th>%</th>\n",
       "    </tr>\n",
       "  </thead>\n",
       "  <tbody>\n",
       "    <tr>\n",
       "      <th>0</th>\n",
       "      <td>Канцтовары (блокноты, ручки, стикеры и др.)</td>\n",
       "      <td>40.0</td>\n",
       "    </tr>\n",
       "    <tr>\n",
       "      <th>1</th>\n",
       "      <td>Посуда (кружки, термокружки и др.)</td>\n",
       "      <td>20.0</td>\n",
       "    </tr>\n",
       "    <tr>\n",
       "      <th>2</th>\n",
       "      <td>Одежда (футболки, худи и др.)</td>\n",
       "      <td>20.0</td>\n",
       "    </tr>\n",
       "    <tr>\n",
       "      <th>3</th>\n",
       "      <td>Аксессуары (шоперы, шарфы и др.)</td>\n",
       "      <td>20.0</td>\n",
       "    </tr>\n",
       "  </tbody>\n",
       "</table>\n",
       "</div>"
      ],
      "text/plain": [
       "              Какой мерч вам интереснее всего?     %\n",
       "0  Канцтовары (блокноты, ручки, стикеры и др.)  40.0\n",
       "1           Посуда (кружки, термокружки и др.)  20.0\n",
       "2                Одежда (футболки, худи и др.)  20.0\n",
       "3             Аксессуары (шоперы, шарфы и др.)  20.0"
      ]
     },
     "execution_count": 32,
     "metadata": {},
     "output_type": "execute_result"
    }
   ],
   "source": [
    "df_f_30_39_MSC_SPT_11 = round(df_f_30_39_MSC_SPT.iloc[:,[11]].value_counts() / df_f_30_39_MSC_SPT.iloc[:,[11]].value_counts().sum() * 100, 1).reset_index()\n",
    "df_f_30_39_MSC_SPT_11.columns = ['Какой мерч вам интереснее всего?', '%']\n",
    "df_f_30_39_MSC_SPT_11"
   ]
  },
  {
   "cell_type": "code",
   "execution_count": 33,
   "metadata": {},
   "outputs": [
    {
     "name": "stdout",
     "output_type": "stream",
     "text": [
      "Доверительный интервал: (19.954360575937912, 25.0, 30.045639424062088)\n"
     ]
    }
   ],
   "source": [
    "print('Доверительный интервал:', mean_confidence_interval(df_f_30_39_MSC_SPT_11['%'], 0.63))"
   ]
  },
  {
   "cell_type": "code",
   "execution_count": null,
   "metadata": {},
   "outputs": [],
   "source": [
    "\n"
   ]
  },
  {
   "cell_type": "code",
   "execution_count": 34,
   "metadata": {},
   "outputs": [
    {
     "data": {
      "text/html": [
       "<div>\n",
       "<style scoped>\n",
       "    .dataframe tbody tr th:only-of-type {\n",
       "        vertical-align: middle;\n",
       "    }\n",
       "\n",
       "    .dataframe tbody tr th {\n",
       "        vertical-align: top;\n",
       "    }\n",
       "\n",
       "    .dataframe thead th {\n",
       "        text-align: right;\n",
       "    }\n",
       "</style>\n",
       "<table border=\"1\" class=\"dataframe\">\n",
       "  <thead>\n",
       "    <tr style=\"text-align: right;\">\n",
       "      <th></th>\n",
       "      <th>Вам был бы интересен мерч без логотипа, который отражал бы философию конкретного бренда? Пример - футболки с надписью \"Иноагент\", выпущенные \"Медузой\" совместно с другими брендами</th>\n",
       "      <th>%</th>\n",
       "    </tr>\n",
       "  </thead>\n",
       "  <tbody>\n",
       "    <tr>\n",
       "      <th>0</th>\n",
       "      <td>Да</td>\n",
       "      <td>100.0</td>\n",
       "    </tr>\n",
       "  </tbody>\n",
       "</table>\n",
       "</div>"
      ],
      "text/plain": [
       "  Вам был бы интересен мерч без логотипа, который отражал бы философию конкретного бренда? Пример - футболки с надписью \"Иноагент\", выпущенные \"Медузой\" совместно с другими брендами  \\\n",
       "0                                                 Да                                                                                                                                    \n",
       "\n",
       "       %  \n",
       "0  100.0  "
      ]
     },
     "execution_count": 34,
     "metadata": {},
     "output_type": "execute_result"
    }
   ],
   "source": [
    "df_f_30_39_MSC_SPT_12 = round(df_f_30_39_MSC_SPT.iloc[:,[12]].value_counts() / df_f_30_39_MSC_SPT.iloc[:,[12]].value_counts().sum() * 100, 1).reset_index()\n",
    "df_f_30_39_MSC_SPT_12.columns = ['Вам был бы интересен мерч без логотипа, который отражал бы философию конкретного бренда? Пример - футболки с надписью \"Иноагент\", выпущенные \"Медузой\" совместно с другими брендами', '%']\n",
    "df_f_30_39_MSC_SPT_12"
   ]
  },
  {
   "cell_type": "code",
   "execution_count": 35,
   "metadata": {},
   "outputs": [
    {
     "name": "stdout",
     "output_type": "stream",
     "text": [
      "Доверительный интервал: (nan, 100.0, nan)\n"
     ]
    },
    {
     "name": "stderr",
     "output_type": "stream",
     "text": [
      "C:\\Users\\GRALEX\\anaconda3\\lib\\site-packages\\numpy\\core\\_methods.py:233: RuntimeWarning: Degrees of freedom <= 0 for slice\n",
      "  ret = _var(a, axis=axis, dtype=dtype, out=out, ddof=ddof,\n",
      "C:\\Users\\GRALEX\\anaconda3\\lib\\site-packages\\numpy\\core\\_methods.py:226: RuntimeWarning: invalid value encountered in double_scalars\n",
      "  ret = ret.dtype.type(ret / rcount)\n"
     ]
    }
   ],
   "source": [
    "print('Доверительный интервал:', mean_confidence_interval(df_f_30_39_MSC_SPT_12['%'], 1.0))"
   ]
  },
  {
   "cell_type": "code",
   "execution_count": null,
   "metadata": {},
   "outputs": [],
   "source": [
    "\n"
   ]
  },
  {
   "cell_type": "code",
   "execution_count": 36,
   "metadata": {},
   "outputs": [
    {
     "data": {
      "text/html": [
       "<div>\n",
       "<style scoped>\n",
       "    .dataframe tbody tr th:only-of-type {\n",
       "        vertical-align: middle;\n",
       "    }\n",
       "\n",
       "    .dataframe tbody tr th {\n",
       "        vertical-align: top;\n",
       "    }\n",
       "\n",
       "    .dataframe thead th {\n",
       "        text-align: right;\n",
       "    }\n",
       "</style>\n",
       "<table border=\"1\" class=\"dataframe\">\n",
       "  <thead>\n",
       "    <tr style=\"text-align: right;\">\n",
       "      <th></th>\n",
       "      <th>Вам нравятся цитаты в виде принта на мерче?</th>\n",
       "      <th>%</th>\n",
       "    </tr>\n",
       "  </thead>\n",
       "  <tbody>\n",
       "    <tr>\n",
       "      <th>0</th>\n",
       "      <td>Да</td>\n",
       "      <td>80.0</td>\n",
       "    </tr>\n",
       "    <tr>\n",
       "      <th>1</th>\n",
       "      <td>Нет</td>\n",
       "      <td>20.0</td>\n",
       "    </tr>\n",
       "  </tbody>\n",
       "</table>\n",
       "</div>"
      ],
      "text/plain": [
       "  Вам нравятся цитаты в виде принта на мерче?     %\n",
       "0                                          Да  80.0\n",
       "1                                         Нет  20.0"
      ]
     },
     "execution_count": 36,
     "metadata": {},
     "output_type": "execute_result"
    }
   ],
   "source": [
    "df_f_30_39_MSC_SPT_13 = round(df_f_30_39_MSC_SPT.iloc[:,[13]].value_counts() / df_f_30_39_MSC_SPT.iloc[:,[13]].value_counts().sum() * 100, 1).reset_index()\n",
    "df_f_30_39_MSC_SPT_13.columns = ['Вам нравятся цитаты в виде принта на мерче?', '%']\n",
    "df_f_30_39_MSC_SPT_13"
   ]
  },
  {
   "cell_type": "code",
   "execution_count": 37,
   "metadata": {},
   "outputs": [
    {
     "name": "stdout",
     "output_type": "stream",
     "text": [
      "Доверительный интервал: (20.182628716600426, 50.0, 79.81737128339958)\n"
     ]
    }
   ],
   "source": [
    "print('Доверительный интервал:', mean_confidence_interval(df_f_30_39_MSC_SPT_13['%'], 0.575))"
   ]
  },
  {
   "cell_type": "code",
   "execution_count": null,
   "metadata": {},
   "outputs": [],
   "source": [
    "\n"
   ]
  },
  {
   "cell_type": "code",
   "execution_count": 38,
   "metadata": {},
   "outputs": [
    {
     "data": {
      "text/html": [
       "<div>\n",
       "<style scoped>\n",
       "    .dataframe tbody tr th:only-of-type {\n",
       "        vertical-align: middle;\n",
       "    }\n",
       "\n",
       "    .dataframe tbody tr th {\n",
       "        vertical-align: top;\n",
       "    }\n",
       "\n",
       "    .dataframe thead th {\n",
       "        text-align: right;\n",
       "    }\n",
       "</style>\n",
       "<table border=\"1\" class=\"dataframe\">\n",
       "  <thead>\n",
       "    <tr style=\"text-align: right;\">\n",
       "      <th></th>\n",
       "      <th>Как вы относитесь к юмористическим цитатам на мерче?</th>\n",
       "      <th>%</th>\n",
       "    </tr>\n",
       "  </thead>\n",
       "  <tbody>\n",
       "    <tr>\n",
       "      <th>0</th>\n",
       "      <td>Нравится</td>\n",
       "      <td>66.7</td>\n",
       "    </tr>\n",
       "    <tr>\n",
       "      <th>1</th>\n",
       "      <td>Не нравится</td>\n",
       "      <td>33.3</td>\n",
       "    </tr>\n",
       "  </tbody>\n",
       "</table>\n",
       "</div>"
      ],
      "text/plain": [
       "  Как вы относитесь к юмористическим цитатам на мерче?     %\n",
       "0                                           Нравится    66.7\n",
       "1                                        Не нравится    33.3"
      ]
     },
     "execution_count": 38,
     "metadata": {},
     "output_type": "execute_result"
    }
   ],
   "source": [
    "df_f_30_39_MSC_SPT_14 = round(df_f_30_39_MSC_SPT.iloc[:,[14]].value_counts() / df_f_30_39_MSC_SPT.iloc[:,[14]].value_counts().sum() * 100, 1).reset_index()\n",
    "df_f_30_39_MSC_SPT_14.columns = ['Как вы относитесь к юмористическим цитатам на мерче?', '%']\n",
    "df_f_30_39_MSC_SPT_14"
   ]
  },
  {
   "cell_type": "code",
   "execution_count": 39,
   "metadata": {},
   "outputs": [
    {
     "name": "stdout",
     "output_type": "stream",
     "text": [
      "Доверительный интервал: (33.401663318907566, 50.0, 66.59833668109243)\n"
     ]
    }
   ],
   "source": [
    "print('Доверительный интервал:', mean_confidence_interval(df_f_30_39_MSC_SPT_14['%'], 0.575))"
   ]
  },
  {
   "cell_type": "code",
   "execution_count": null,
   "metadata": {},
   "outputs": [],
   "source": [
    "\n"
   ]
  },
  {
   "cell_type": "code",
   "execution_count": 40,
   "metadata": {},
   "outputs": [
    {
     "data": {
      "text/html": [
       "<div>\n",
       "<style scoped>\n",
       "    .dataframe tbody tr th:only-of-type {\n",
       "        vertical-align: middle;\n",
       "    }\n",
       "\n",
       "    .dataframe tbody tr th {\n",
       "        vertical-align: top;\n",
       "    }\n",
       "\n",
       "    .dataframe thead th {\n",
       "        text-align: right;\n",
       "    }\n",
       "</style>\n",
       "<table border=\"1\" class=\"dataframe\">\n",
       "  <thead>\n",
       "    <tr style=\"text-align: right;\">\n",
       "      <th></th>\n",
       "      <th>Вы обычно покупаете мерч после важных мероприятий? Например, после концерта или интересной отраслевой конференции</th>\n",
       "      <th>%</th>\n",
       "    </tr>\n",
       "  </thead>\n",
       "  <tbody>\n",
       "    <tr>\n",
       "      <th>0</th>\n",
       "      <td>Нет</td>\n",
       "      <td>40.0</td>\n",
       "    </tr>\n",
       "    <tr>\n",
       "      <th>1</th>\n",
       "      <td>Да</td>\n",
       "      <td>40.0</td>\n",
       "    </tr>\n",
       "    <tr>\n",
       "      <th>2</th>\n",
       "      <td>Я никогда не покупал мерч</td>\n",
       "      <td>20.0</td>\n",
       "    </tr>\n",
       "  </tbody>\n",
       "</table>\n",
       "</div>"
      ],
      "text/plain": [
       "  Вы обычно покупаете мерч после важных мероприятий? Например, после концерта или интересной отраслевой конференции  \\\n",
       "0                                                Нет                                                                  \n",
       "1                                                 Да                                                                  \n",
       "2                          Я никогда не покупал мерч                                                                  \n",
       "\n",
       "      %  \n",
       "0  40.0  \n",
       "1  40.0  \n",
       "2  20.0  "
      ]
     },
     "execution_count": 40,
     "metadata": {},
     "output_type": "execute_result"
    }
   ],
   "source": [
    "df_f_30_39_MSC_SPT_15 = round(df_f_30_39_MSC_SPT.iloc[:,[15]].value_counts() / df_f_30_39_MSC_SPT.iloc[:,[15]].value_counts().sum() * 100, 1).reset_index()\n",
    "df_f_30_39_MSC_SPT_15.columns = ['Вы обычно покупаете мерч после важных мероприятий? Например, после концерта или интересной отраслевой конференции', '%']\n",
    "df_f_30_39_MSC_SPT_15"
   ]
  },
  {
   "cell_type": "code",
   "execution_count": 41,
   "metadata": {},
   "outputs": [
    {
     "name": "stdout",
     "output_type": "stream",
     "text": [
      "Доверительный интервал: (26.810184587811335, 33.333333333333336, 39.856482078855336)\n"
     ]
    }
   ],
   "source": [
    "print('Доверительный интервал:', mean_confidence_interval(df_f_30_39_MSC_SPT_15['%'], 0.60))"
   ]
  },
  {
   "cell_type": "code",
   "execution_count": null,
   "metadata": {},
   "outputs": [],
   "source": [
    "\n"
   ]
  },
  {
   "cell_type": "code",
   "execution_count": 42,
   "metadata": {},
   "outputs": [
    {
     "data": {
      "text/html": [
       "<div>\n",
       "<style scoped>\n",
       "    .dataframe tbody tr th:only-of-type {\n",
       "        vertical-align: middle;\n",
       "    }\n",
       "\n",
       "    .dataframe tbody tr th {\n",
       "        vertical-align: top;\n",
       "    }\n",
       "\n",
       "    .dataframe thead th {\n",
       "        text-align: right;\n",
       "    }\n",
       "</style>\n",
       "<table border=\"1\" class=\"dataframe\">\n",
       "  <thead>\n",
       "    <tr style=\"text-align: right;\">\n",
       "      <th></th>\n",
       "      <th>Вам важно, чтобы вы сами могли придумать свой дизайн для мерча: выбрать уникальное сочетание цвета и принта?</th>\n",
       "      <th>%</th>\n",
       "    </tr>\n",
       "  </thead>\n",
       "  <tbody>\n",
       "    <tr>\n",
       "      <th>0</th>\n",
       "      <td>Нет, дизайнерам виднее</td>\n",
       "      <td>66.7</td>\n",
       "    </tr>\n",
       "    <tr>\n",
       "      <th>1</th>\n",
       "      <td>Да, люблю эксперименты</td>\n",
       "      <td>33.3</td>\n",
       "    </tr>\n",
       "  </tbody>\n",
       "</table>\n",
       "</div>"
      ],
      "text/plain": [
       "  Вам важно, чтобы вы сами могли придумать свой дизайн для мерча: выбрать уникальное сочетание цвета и принта?  \\\n",
       "0                             Нет, дизайнерам виднее                                                             \n",
       "1                             Да, люблю эксперименты                                                             \n",
       "\n",
       "      %  \n",
       "0  66.7  \n",
       "1  33.3  "
      ]
     },
     "execution_count": 42,
     "metadata": {},
     "output_type": "execute_result"
    }
   ],
   "source": [
    "df_f_30_39_MSC_SPT_16 = round(df_f_30_39_MSC_SPT.iloc[:,[16]].value_counts() / df_f_30_39_MSC_SPT.iloc[:,[16]].value_counts().sum() * 100, 1).reset_index()\n",
    "df_f_30_39_MSC_SPT_16.columns = ['Вам важно, чтобы вы сами могли придумать свой дизайн для мерча: выбрать уникальное сочетание цвета и принта?', '%']\n",
    "df_f_30_39_MSC_SPT_16"
   ]
  },
  {
   "cell_type": "code",
   "execution_count": 43,
   "metadata": {},
   "outputs": [
    {
     "name": "stdout",
     "output_type": "stream",
     "text": [
      "Доверительный интервал: (33.401663318907566, 50.0, 66.59833668109243)\n"
     ]
    }
   ],
   "source": [
    "print('Доверительный интервал:', mean_confidence_interval(df_f_30_39_MSC_SPT_16['%'], 0.575))"
   ]
  },
  {
   "cell_type": "code",
   "execution_count": null,
   "metadata": {},
   "outputs": [],
   "source": [
    "\n"
   ]
  },
  {
   "cell_type": "code",
   "execution_count": 44,
   "metadata": {},
   "outputs": [
    {
     "data": {
      "text/html": [
       "<div>\n",
       "<style scoped>\n",
       "    .dataframe tbody tr th:only-of-type {\n",
       "        vertical-align: middle;\n",
       "    }\n",
       "\n",
       "    .dataframe tbody tr th {\n",
       "        vertical-align: top;\n",
       "    }\n",
       "\n",
       "    .dataframe thead th {\n",
       "        text-align: right;\n",
       "    }\n",
       "</style>\n",
       "<table border=\"1\" class=\"dataframe\">\n",
       "  <thead>\n",
       "    <tr style=\"text-align: right;\">\n",
       "      <th></th>\n",
       "      <th>Мерч в качестве бонуса мотивировал бы вас лучше учиться?</th>\n",
       "      <th>%</th>\n",
       "    </tr>\n",
       "  </thead>\n",
       "  <tbody>\n",
       "    <tr>\n",
       "      <th>0</th>\n",
       "      <td>Да</td>\n",
       "      <td>66.7</td>\n",
       "    </tr>\n",
       "    <tr>\n",
       "      <th>1</th>\n",
       "      <td>Нет</td>\n",
       "      <td>33.3</td>\n",
       "    </tr>\n",
       "  </tbody>\n",
       "</table>\n",
       "</div>"
      ],
      "text/plain": [
       "  Мерч в качестве бонуса мотивировал бы вас лучше учиться?     %\n",
       "0                                                 Да        66.7\n",
       "1                                                Нет        33.3"
      ]
     },
     "execution_count": 44,
     "metadata": {},
     "output_type": "execute_result"
    }
   ],
   "source": [
    "df_f_30_39_MSC_SPT_17 = round(df_f_30_39_MSC_SPT.iloc[:,[17]].value_counts() / df_f_30_39_MSC_SPT.iloc[:,[17]].value_counts().sum() * 100, 1).reset_index()\n",
    "df_f_30_39_MSC_SPT_17.columns = ['Мерч в качестве бонуса мотивировал бы вас лучше учиться?', '%']\n",
    "df_f_30_39_MSC_SPT_17"
   ]
  },
  {
   "cell_type": "code",
   "execution_count": 45,
   "metadata": {},
   "outputs": [
    {
     "name": "stdout",
     "output_type": "stream",
     "text": [
      "Доверительный интервал: (33.401663318907566, 50.0, 66.59833668109243)\n"
     ]
    }
   ],
   "source": [
    "print('Доверительный интервал:', mean_confidence_interval(df_f_30_39_MSC_SPT_17['%'], 0.575))"
   ]
  },
  {
   "cell_type": "code",
   "execution_count": null,
   "metadata": {},
   "outputs": [],
   "source": [
    "\n"
   ]
  },
  {
   "cell_type": "code",
   "execution_count": 46,
   "metadata": {},
   "outputs": [
    {
     "data": {
      "text/html": [
       "<div>\n",
       "<style scoped>\n",
       "    .dataframe tbody tr th:only-of-type {\n",
       "        vertical-align: middle;\n",
       "    }\n",
       "\n",
       "    .dataframe tbody tr th {\n",
       "        vertical-align: top;\n",
       "    }\n",
       "\n",
       "    .dataframe thead th {\n",
       "        text-align: right;\n",
       "    }\n",
       "</style>\n",
       "<table border=\"1\" class=\"dataframe\">\n",
       "  <thead>\n",
       "    <tr style=\"text-align: right;\">\n",
       "      <th></th>\n",
       "      <th>Вам важно, чтобы мерч был уникальным продуктом, который больше ни у кого не встретишь?</th>\n",
       "      <th>%</th>\n",
       "    </tr>\n",
       "  </thead>\n",
       "  <tbody>\n",
       "    <tr>\n",
       "      <th>0</th>\n",
       "      <td>Да</td>\n",
       "      <td>66.7</td>\n",
       "    </tr>\n",
       "    <tr>\n",
       "      <th>1</th>\n",
       "      <td>Нет</td>\n",
       "      <td>33.3</td>\n",
       "    </tr>\n",
       "  </tbody>\n",
       "</table>\n",
       "</div>"
      ],
      "text/plain": [
       "  Вам важно, чтобы мерч был уникальным продуктом, который больше ни у кого не встретишь?  \\\n",
       "0                                                 Да                                       \n",
       "1                                                Нет                                       \n",
       "\n",
       "      %  \n",
       "0  66.7  \n",
       "1  33.3  "
      ]
     },
     "execution_count": 46,
     "metadata": {},
     "output_type": "execute_result"
    }
   ],
   "source": [
    "df_f_30_39_MSC_SPT_18 = round(df_f_30_39_MSC_SPT.iloc[:,[18]].value_counts() / df_f_30_39_MSC_SPT.iloc[:,[18]].value_counts().sum() * 100, 1).reset_index()\n",
    "df_f_30_39_MSC_SPT_18.columns = ['Вам важно, чтобы мерч был уникальным продуктом, который больше ни у кого не встретишь?', '%']\n",
    "df_f_30_39_MSC_SPT_18"
   ]
  },
  {
   "cell_type": "code",
   "execution_count": 47,
   "metadata": {},
   "outputs": [
    {
     "name": "stdout",
     "output_type": "stream",
     "text": [
      "Доверительный интервал: (33.401663318907566, 50.0, 66.59833668109243)\n"
     ]
    }
   ],
   "source": [
    "print('Доверительный интервал:', mean_confidence_interval(df_f_30_39_MSC_SPT_18['%'], 0.575))"
   ]
  },
  {
   "cell_type": "code",
   "execution_count": null,
   "metadata": {},
   "outputs": [],
   "source": [
    "\n"
   ]
  },
  {
   "cell_type": "code",
   "execution_count": 48,
   "metadata": {},
   "outputs": [
    {
     "data": {
      "text/html": [
       "<div>\n",
       "<style scoped>\n",
       "    .dataframe tbody tr th:only-of-type {\n",
       "        vertical-align: middle;\n",
       "    }\n",
       "\n",
       "    .dataframe tbody tr th {\n",
       "        vertical-align: top;\n",
       "    }\n",
       "\n",
       "    .dataframe thead th {\n",
       "        text-align: right;\n",
       "    }\n",
       "</style>\n",
       "<table border=\"1\" class=\"dataframe\">\n",
       "  <thead>\n",
       "    <tr style=\"text-align: right;\">\n",
       "      <th></th>\n",
       "      <th>Вы готовы платить за лимитированный мерч? Лимитированная коллекция - та, которая выпускается один раз ограниченным тиражом</th>\n",
       "      <th>%</th>\n",
       "    </tr>\n",
       "  </thead>\n",
       "  <tbody>\n",
       "    <tr>\n",
       "      <th>0</th>\n",
       "      <td>Нет</td>\n",
       "      <td>60.0</td>\n",
       "    </tr>\n",
       "    <tr>\n",
       "      <th>1</th>\n",
       "      <td>Да</td>\n",
       "      <td>40.0</td>\n",
       "    </tr>\n",
       "  </tbody>\n",
       "</table>\n",
       "</div>"
      ],
      "text/plain": [
       "  Вы готовы платить за лимитированный мерч? Лимитированная коллекция - та, которая выпускается один раз ограниченным тиражом  \\\n",
       "0                                                Нет                                                                           \n",
       "1                                                 Да                                                                           \n",
       "\n",
       "      %  \n",
       "0  60.0  \n",
       "1  40.0  "
      ]
     },
     "execution_count": 48,
     "metadata": {},
     "output_type": "execute_result"
    }
   ],
   "source": [
    "df_f_30_39_MSC_SPT_19 = round(df_f_30_39_MSC_SPT.iloc[:,[19]].value_counts() / df_f_30_39_MSC_SPT.iloc[:,[19]].value_counts().sum() * 100, 1).reset_index()\n",
    "df_f_30_39_MSC_SPT_19.columns = ['Вы готовы платить за лимитированный мерч? Лимитированная коллекция - та, которая выпускается один раз ограниченным тиражом', '%']\n",
    "df_f_30_39_MSC_SPT_19"
   ]
  },
  {
   "cell_type": "code",
   "execution_count": 49,
   "metadata": {},
   "outputs": [
    {
     "name": "stdout",
     "output_type": "stream",
     "text": [
      "Доверительный интервал: (40.06087623886681, 50.0, 59.93912376113319)\n"
     ]
    }
   ],
   "source": [
    "print('Доверительный интервал:', mean_confidence_interval(df_f_30_39_MSC_SPT_19['%'], 0.575))"
   ]
  },
  {
   "cell_type": "code",
   "execution_count": null,
   "metadata": {},
   "outputs": [],
   "source": [
    "\n"
   ]
  },
  {
   "cell_type": "code",
   "execution_count": 50,
   "metadata": {},
   "outputs": [
    {
     "data": {
      "text/html": [
       "<div>\n",
       "<style scoped>\n",
       "    .dataframe tbody tr th:only-of-type {\n",
       "        vertical-align: middle;\n",
       "    }\n",
       "\n",
       "    .dataframe tbody tr th {\n",
       "        vertical-align: top;\n",
       "    }\n",
       "\n",
       "    .dataframe thead th {\n",
       "        text-align: right;\n",
       "    }\n",
       "</style>\n",
       "<table border=\"1\" class=\"dataframe\">\n",
       "  <thead>\n",
       "    <tr style=\"text-align: right;\">\n",
       "      <th></th>\n",
       "      <th>Обращаете ли вы внимание на экологичность товаров при покупке вещей?</th>\n",
       "      <th>%</th>\n",
       "    </tr>\n",
       "  </thead>\n",
       "  <tbody>\n",
       "    <tr>\n",
       "      <th>0</th>\n",
       "      <td>Да, большая часть моих вещей - экологичные</td>\n",
       "      <td>53.3</td>\n",
       "    </tr>\n",
       "    <tr>\n",
       "      <th>1</th>\n",
       "      <td>Нет, для меня это неважный критерий при выборе...</td>\n",
       "      <td>46.7</td>\n",
       "    </tr>\n",
       "  </tbody>\n",
       "</table>\n",
       "</div>"
      ],
      "text/plain": [
       "  Обращаете ли вы внимание на экологичность товаров при покупке вещей?     %\n",
       "0         Да, большая часть моих вещей - экологичные                    53.3\n",
       "1  Нет, для меня это неважный критерий при выборе...                    46.7"
      ]
     },
     "execution_count": 50,
     "metadata": {},
     "output_type": "execute_result"
    }
   ],
   "source": [
    "df_f_30_39_MSC_SPT_20 = round(df_f_30_39_MSC_SPT.iloc[:,[20]].value_counts() / df_f_30_39_MSC_SPT.iloc[:,[20]].value_counts().sum() * 100, 1).reset_index()\n",
    "df_f_30_39_MSC_SPT_20.columns = ['Обращаете ли вы внимание на экологичность товаров при покупке вещей?', '%']\n",
    "df_f_30_39_MSC_SPT_20"
   ]
  },
  {
   "cell_type": "code",
   "execution_count": 51,
   "metadata": {},
   "outputs": [
    {
     "name": "stdout",
     "output_type": "stream",
     "text": [
      "Доверительный интервал: (46.966419669204996, 50.0, 53.033580330795004)\n"
     ]
    }
   ],
   "source": [
    "print('Доверительный интервал:', mean_confidence_interval(df_f_30_39_MSC_SPT_20['%'], 0.545))"
   ]
  },
  {
   "cell_type": "code",
   "execution_count": null,
   "metadata": {},
   "outputs": [],
   "source": [
    "\n"
   ]
  },
  {
   "cell_type": "code",
   "execution_count": 52,
   "metadata": {},
   "outputs": [
    {
     "data": {
      "text/html": [
       "<div>\n",
       "<style scoped>\n",
       "    .dataframe tbody tr th:only-of-type {\n",
       "        vertical-align: middle;\n",
       "    }\n",
       "\n",
       "    .dataframe tbody tr th {\n",
       "        vertical-align: top;\n",
       "    }\n",
       "\n",
       "    .dataframe thead th {\n",
       "        text-align: right;\n",
       "    }\n",
       "</style>\n",
       "<table border=\"1\" class=\"dataframe\">\n",
       "  <thead>\n",
       "    <tr style=\"text-align: right;\">\n",
       "      <th></th>\n",
       "      <th>Вы с большей вероятностью купите мерч, если будете знать, что вырученные средства пойдут на благотворительность?</th>\n",
       "      <th>%</th>\n",
       "    </tr>\n",
       "  </thead>\n",
       "  <tbody>\n",
       "    <tr>\n",
       "      <th>0</th>\n",
       "      <td>Да</td>\n",
       "      <td>53.3</td>\n",
       "    </tr>\n",
       "    <tr>\n",
       "      <th>1</th>\n",
       "      <td>Нет</td>\n",
       "      <td>46.7</td>\n",
       "    </tr>\n",
       "  </tbody>\n",
       "</table>\n",
       "</div>"
      ],
      "text/plain": [
       "  Вы с большей вероятностью купите мерч, если будете знать, что вырученные средства пойдут на благотворительность?  \\\n",
       "0                                                 Да                                                                 \n",
       "1                                                Нет                                                                 \n",
       "\n",
       "      %  \n",
       "0  53.3  \n",
       "1  46.7  "
      ]
     },
     "execution_count": 52,
     "metadata": {},
     "output_type": "execute_result"
    }
   ],
   "source": [
    "df_f_30_39_MSC_SPT_21 = round(df_f_30_39_MSC_SPT.iloc[:,[21]].value_counts() / df_f_30_39_MSC_SPT.iloc[:,[21]].value_counts().sum() * 100, 1).reset_index()\n",
    "df_f_30_39_MSC_SPT_21.columns = ['Вы с большей вероятностью купите мерч, если будете знать, что вырученные средства пойдут на благотворительность?', '%']\n",
    "df_f_30_39_MSC_SPT_21"
   ]
  },
  {
   "cell_type": "code",
   "execution_count": 53,
   "metadata": {},
   "outputs": [
    {
     "name": "stdout",
     "output_type": "stream",
     "text": [
      "Доверительный интервал: (46.966419669204996, 50.0, 53.033580330795004)\n"
     ]
    }
   ],
   "source": [
    "print('Доверительный интервал:', mean_confidence_interval(df_f_30_39_MSC_SPT_21['%'], 0.545))"
   ]
  },
  {
   "cell_type": "code",
   "execution_count": null,
   "metadata": {},
   "outputs": [],
   "source": [
    "\n"
   ]
  },
  {
   "cell_type": "code",
   "execution_count": 54,
   "metadata": {},
   "outputs": [
    {
     "data": {
      "text/html": [
       "<div>\n",
       "<style scoped>\n",
       "    .dataframe tbody tr th:only-of-type {\n",
       "        vertical-align: middle;\n",
       "    }\n",
       "\n",
       "    .dataframe tbody tr th {\n",
       "        vertical-align: top;\n",
       "    }\n",
       "\n",
       "    .dataframe thead th {\n",
       "        text-align: right;\n",
       "    }\n",
       "</style>\n",
       "<table border=\"1\" class=\"dataframe\">\n",
       "  <thead>\n",
       "    <tr style=\"text-align: right;\">\n",
       "      <th></th>\n",
       "      <th>Вы бы купили мерч в подарок для благотворительного фонда/детского дома?</th>\n",
       "      <th>%</th>\n",
       "    </tr>\n",
       "  </thead>\n",
       "  <tbody>\n",
       "    <tr>\n",
       "      <th>0</th>\n",
       "      <td>Нет</td>\n",
       "      <td>53.3</td>\n",
       "    </tr>\n",
       "    <tr>\n",
       "      <th>1</th>\n",
       "      <td>Да</td>\n",
       "      <td>46.7</td>\n",
       "    </tr>\n",
       "  </tbody>\n",
       "</table>\n",
       "</div>"
      ],
      "text/plain": [
       "  Вы бы купили мерч в подарок для благотворительного фонда/детского дома?  \\\n",
       "0                                                Нет                        \n",
       "1                                                 Да                        \n",
       "\n",
       "      %  \n",
       "0  53.3  \n",
       "1  46.7  "
      ]
     },
     "execution_count": 54,
     "metadata": {},
     "output_type": "execute_result"
    }
   ],
   "source": [
    "df_f_30_39_MSC_SPT_22 = round(df_f_30_39_MSC_SPT.iloc[:,[22]].value_counts() / df_f_30_39_MSC_SPT.iloc[:,[22]].value_counts().sum() * 100, 1).reset_index()\n",
    "df_f_30_39_MSC_SPT_22.columns = ['Вы бы купили мерч в подарок для благотворительного фонда/детского дома?', '%']\n",
    "df_f_30_39_MSC_SPT_22"
   ]
  },
  {
   "cell_type": "code",
   "execution_count": 55,
   "metadata": {},
   "outputs": [
    {
     "name": "stdout",
     "output_type": "stream",
     "text": [
      "Доверительный интервал: (46.72008915882605, 50.0, 53.27991084117395)\n"
     ]
    }
   ],
   "source": [
    "print('Доверительный интервал:', mean_confidence_interval(df_f_30_39_MSC_SPT_22['%'], 0.575))"
   ]
  },
  {
   "cell_type": "markdown",
   "metadata": {},
   "source": [
    "# --------------------------------------------------------------------------------------------------------------\n"
   ]
  },
  {
   "cell_type": "markdown",
   "metadata": {},
   "source": [
    "### Женщины в возрасте 23-29 лет"
   ]
  },
  {
   "cell_type": "code",
   "execution_count": 56,
   "metadata": {},
   "outputs": [
    {
     "data": {
      "text/html": [
       "<div>\n",
       "<style scoped>\n",
       "    .dataframe tbody tr th:only-of-type {\n",
       "        vertical-align: middle;\n",
       "    }\n",
       "\n",
       "    .dataframe tbody tr th {\n",
       "        vertical-align: top;\n",
       "    }\n",
       "\n",
       "    .dataframe thead th {\n",
       "        text-align: right;\n",
       "    }\n",
       "</style>\n",
       "<table border=\"1\" class=\"dataframe\">\n",
       "  <thead>\n",
       "    <tr style=\"text-align: right;\">\n",
       "      <th></th>\n",
       "      <th>Отметка времени</th>\n",
       "    </tr>\n",
       "    <tr>\n",
       "      <th>Укажите ваш город</th>\n",
       "      <th></th>\n",
       "    </tr>\n",
       "  </thead>\n",
       "  <tbody>\n",
       "    <tr>\n",
       "      <th>Москва</th>\n",
       "      <td>10</td>\n",
       "    </tr>\n",
       "    <tr>\n",
       "      <th>Санкт-Петербург</th>\n",
       "      <td>5</td>\n",
       "    </tr>\n",
       "    <tr>\n",
       "      <th>Екатеринбург</th>\n",
       "      <td>2</td>\n",
       "    </tr>\n",
       "    <tr>\n",
       "      <th>Новосибирск</th>\n",
       "      <td>2</td>\n",
       "    </tr>\n",
       "    <tr>\n",
       "      <th>Владимир</th>\n",
       "      <td>1</td>\n",
       "    </tr>\n",
       "    <tr>\n",
       "      <th>Запорожье</th>\n",
       "      <td>1</td>\n",
       "    </tr>\n",
       "    <tr>\n",
       "      <th>Казань</th>\n",
       "      <td>1</td>\n",
       "    </tr>\n",
       "    <tr>\n",
       "      <th>Кемерово</th>\n",
       "      <td>1</td>\n",
       "    </tr>\n",
       "    <tr>\n",
       "      <th>Краснотурьинск</th>\n",
       "      <td>1</td>\n",
       "    </tr>\n",
       "    <tr>\n",
       "      <th>Ростов-на-Дону</th>\n",
       "      <td>1</td>\n",
       "    </tr>\n",
       "  </tbody>\n",
       "</table>\n",
       "</div>"
      ],
      "text/plain": [
       "                   Отметка времени\n",
       "Укажите ваш город                 \n",
       "Москва                          10\n",
       "Санкт-Петербург                  5\n",
       "Екатеринбург                     2\n",
       "Новосибирск                      2\n",
       "Владимир                         1\n",
       "Запорожье                        1\n",
       "Казань                           1\n",
       "Кемерово                         1\n",
       "Краснотурьинск                   1\n",
       "Ростов-на-Дону                   1"
      ]
     },
     "execution_count": 56,
     "metadata": {},
     "output_type": "execute_result"
    }
   ],
   "source": [
    "f_23_29 = f.loc[f['Укажите ваш возраст'] == '23-29 лет']\n",
    "f_23_29.groupby('Укажите ваш город').count()[['Отметка времени']].sort_values('Отметка времени', ascending=False).head(10)"
   ]
  },
  {
   "cell_type": "code",
   "execution_count": 57,
   "metadata": {},
   "outputs": [
    {
     "data": {
      "text/html": [
       "<div>\n",
       "<style scoped>\n",
       "    .dataframe tbody tr th:only-of-type {\n",
       "        vertical-align: middle;\n",
       "    }\n",
       "\n",
       "    .dataframe tbody tr th {\n",
       "        vertical-align: top;\n",
       "    }\n",
       "\n",
       "    .dataframe thead th {\n",
       "        text-align: right;\n",
       "    }\n",
       "</style>\n",
       "<table border=\"1\" class=\"dataframe\">\n",
       "  <thead>\n",
       "    <tr style=\"text-align: right;\">\n",
       "      <th></th>\n",
       "      <th>Укажите ваш город</th>\n",
       "      <th>Жен., %</th>\n",
       "    </tr>\n",
       "  </thead>\n",
       "  <tbody>\n",
       "    <tr>\n",
       "      <th>0</th>\n",
       "      <td>Москва</td>\n",
       "      <td>35.7</td>\n",
       "    </tr>\n",
       "    <tr>\n",
       "      <th>1</th>\n",
       "      <td>Санкт-Петербург</td>\n",
       "      <td>17.9</td>\n",
       "    </tr>\n",
       "    <tr>\n",
       "      <th>2</th>\n",
       "      <td>Новосибирск</td>\n",
       "      <td>7.1</td>\n",
       "    </tr>\n",
       "    <tr>\n",
       "      <th>3</th>\n",
       "      <td>Екатеринбург</td>\n",
       "      <td>7.1</td>\n",
       "    </tr>\n",
       "    <tr>\n",
       "      <th>4</th>\n",
       "      <td>Хабаровск</td>\n",
       "      <td>3.6</td>\n",
       "    </tr>\n",
       "    <tr>\n",
       "      <th>5</th>\n",
       "      <td>Усть-Джегута</td>\n",
       "      <td>3.6</td>\n",
       "    </tr>\n",
       "    <tr>\n",
       "      <th>6</th>\n",
       "      <td>Тула</td>\n",
       "      <td>3.6</td>\n",
       "    </tr>\n",
       "    <tr>\n",
       "      <th>7</th>\n",
       "      <td>Ростов-на-Дону</td>\n",
       "      <td>3.6</td>\n",
       "    </tr>\n",
       "    <tr>\n",
       "      <th>8</th>\n",
       "      <td>Краснотурьинск</td>\n",
       "      <td>3.6</td>\n",
       "    </tr>\n",
       "    <tr>\n",
       "      <th>9</th>\n",
       "      <td>Кемерово</td>\n",
       "      <td>3.6</td>\n",
       "    </tr>\n",
       "  </tbody>\n",
       "</table>\n",
       "</div>"
      ],
      "text/plain": [
       "  Укажите ваш город  Жен., %\n",
       "0            Москва     35.7\n",
       "1   Санкт-Петербург     17.9\n",
       "2       Новосибирск      7.1\n",
       "3      Екатеринбург      7.1\n",
       "4         Хабаровск      3.6\n",
       "5      Усть-Джегута      3.6\n",
       "6              Тула      3.6\n",
       "7    Ростов-на-Дону      3.6\n",
       "8   Краснотурьинск       3.6\n",
       "9          Кемерово      3.6"
      ]
     },
     "execution_count": 57,
     "metadata": {},
     "output_type": "execute_result"
    }
   ],
   "source": [
    "f_23_29_City = round(f_23_29.iloc[:,[3]].value_counts() / f_23_29.iloc[:,[3]].value_counts().sum() * 100, 1).reset_index()\n",
    "f_23_29_City.columns = ['Укажите ваш город', 'Жен., %']\n",
    "f_23_29_City.head(10)"
   ]
  },
  {
   "cell_type": "markdown",
   "metadata": {},
   "source": [
    "### Женщины в возрасте 23-29 лет, проживающие в Москве, СПб, Екатеринбурге и Новосибирске  (?, >5%)"
   ]
  },
  {
   "cell_type": "code",
   "execution_count": 58,
   "metadata": {},
   "outputs": [],
   "source": [
    "df_f_23_29_Big_City = df.loc[(df['Укажите ваш возраст'] == '23-29 лет') & (df['Укажите ваш пол'] == 'Женский') & (df['Укажите ваш город'].isin(['Москва', 'Санкт-Петербург', 'Екатеринбург', 'Новосибирск']))]"
   ]
  },
  {
   "cell_type": "code",
   "execution_count": 59,
   "metadata": {},
   "outputs": [
    {
     "data": {
      "text/html": [
       "<div>\n",
       "<style scoped>\n",
       "    .dataframe tbody tr th:only-of-type {\n",
       "        vertical-align: middle;\n",
       "    }\n",
       "\n",
       "    .dataframe tbody tr th {\n",
       "        vertical-align: top;\n",
       "    }\n",
       "\n",
       "    .dataframe thead th {\n",
       "        text-align: right;\n",
       "    }\n",
       "</style>\n",
       "<table border=\"1\" class=\"dataframe\">\n",
       "  <thead>\n",
       "    <tr style=\"text-align: right;\">\n",
       "      <th></th>\n",
       "      <th>Какая цветовая гамма интернет-магазина вам нравится?</th>\n",
       "      <th>%</th>\n",
       "    </tr>\n",
       "  </thead>\n",
       "  <tbody>\n",
       "    <tr>\n",
       "      <th>0</th>\n",
       "      <td>Сдержанные оттенки (белый, черный, серый)</td>\n",
       "      <td>36.8</td>\n",
       "    </tr>\n",
       "    <tr>\n",
       "      <th>1</th>\n",
       "      <td>Яркая (синий, красный, зеленый и тд.)</td>\n",
       "      <td>31.6</td>\n",
       "    </tr>\n",
       "    <tr>\n",
       "      <th>2</th>\n",
       "      <td>Неважно</td>\n",
       "      <td>31.6</td>\n",
       "    </tr>\n",
       "  </tbody>\n",
       "</table>\n",
       "</div>"
      ],
      "text/plain": [
       "  Какая цветовая гамма интернет-магазина вам нравится?     %\n",
       "0          Сдержанные оттенки (белый, черный, серый)    36.8\n",
       "1              Яркая (синий, красный, зеленый и тд.)    31.6\n",
       "2                                            Неважно    31.6"
      ]
     },
     "execution_count": 59,
     "metadata": {},
     "output_type": "execute_result"
    }
   ],
   "source": [
    "df_f_23_29_Big_City_4 = round(df_f_23_29_Big_City.iloc[:,[4]].value_counts() / df_f_23_29_Big_City.iloc[:,[4]].value_counts().sum() * 100, 1).reset_index()\n",
    "df_f_23_29_Big_City_4.columns = ['Какая цветовая гамма интернет-магазина вам нравится?', '%']\n",
    "df_f_23_29_Big_City_4"
   ]
  },
  {
   "cell_type": "code",
   "execution_count": 60,
   "metadata": {},
   "outputs": [
    {
     "name": "stdout",
     "output_type": "stream",
     "text": [
      "Доверительный интервал: (31.616677902776168, 33.333333333333336, 35.049988763890504)\n"
     ]
    }
   ],
   "source": [
    "print('Доверительный интервал:', mean_confidence_interval(df_f_23_29_Big_City_4['%'], 0.605))"
   ]
  },
  {
   "cell_type": "code",
   "execution_count": null,
   "metadata": {},
   "outputs": [],
   "source": [
    "\n"
   ]
  },
  {
   "cell_type": "code",
   "execution_count": 61,
   "metadata": {},
   "outputs": [
    {
     "data": {
      "text/html": [
       "<div>\n",
       "<style scoped>\n",
       "    .dataframe tbody tr th:only-of-type {\n",
       "        vertical-align: middle;\n",
       "    }\n",
       "\n",
       "    .dataframe tbody tr th {\n",
       "        vertical-align: top;\n",
       "    }\n",
       "\n",
       "    .dataframe thead th {\n",
       "        text-align: right;\n",
       "    }\n",
       "</style>\n",
       "<table border=\"1\" class=\"dataframe\">\n",
       "  <thead>\n",
       "    <tr style=\"text-align: right;\">\n",
       "      <th></th>\n",
       "      <th>Сколько по времени вы готовы ждать свой заказ?</th>\n",
       "      <th>%</th>\n",
       "    </tr>\n",
       "  </thead>\n",
       "  <tbody>\n",
       "    <tr>\n",
       "      <th>0</th>\n",
       "      <td>4-7 рабочих дней</td>\n",
       "      <td>52.6</td>\n",
       "    </tr>\n",
       "    <tr>\n",
       "      <th>1</th>\n",
       "      <td>1-3 рабочих дня</td>\n",
       "      <td>31.6</td>\n",
       "    </tr>\n",
       "    <tr>\n",
       "      <th>2</th>\n",
       "      <td>Неважно</td>\n",
       "      <td>15.8</td>\n",
       "    </tr>\n",
       "  </tbody>\n",
       "</table>\n",
       "</div>"
      ],
      "text/plain": [
       "  Сколько по времени вы готовы ждать свой заказ?     %\n",
       "0                               4-7 рабочих дней  52.6\n",
       "1                                1-3 рабочих дня  31.6\n",
       "2                                        Неважно  15.8"
      ]
     },
     "execution_count": 61,
     "metadata": {},
     "output_type": "execute_result"
    }
   ],
   "source": [
    "df_f_23_29_Big_City_5 = round(df_f_23_29_Big_City.iloc[:,[5]].value_counts() / df_f_23_29_Big_City.iloc[:,[5]].value_counts().sum() * 100, 1).reset_index()\n",
    "df_f_23_29_Big_City_5.columns = ['Сколько по времени вы готовы ждать свой заказ?', '%']\n",
    "df_f_23_29_Big_City_5"
   ]
  },
  {
   "cell_type": "code",
   "execution_count": 62,
   "metadata": {},
   "outputs": [
    {
     "name": "stdout",
     "output_type": "stream",
     "text": [
      "Доверительный интервал: (15.877371934434546, 33.333333333333336, 50.78929473223212)\n"
     ]
    }
   ],
   "source": [
    "print('Доверительный интервал:', mean_confidence_interval(df_f_23_29_Big_City_5['%'], 0.80))"
   ]
  },
  {
   "cell_type": "code",
   "execution_count": null,
   "metadata": {},
   "outputs": [],
   "source": [
    "\n"
   ]
  },
  {
   "cell_type": "code",
   "execution_count": 63,
   "metadata": {},
   "outputs": [
    {
     "data": {
      "text/html": [
       "<div>\n",
       "<style scoped>\n",
       "    .dataframe tbody tr th:only-of-type {\n",
       "        vertical-align: middle;\n",
       "    }\n",
       "\n",
       "    .dataframe tbody tr th {\n",
       "        vertical-align: top;\n",
       "    }\n",
       "\n",
       "    .dataframe thead th {\n",
       "        text-align: right;\n",
       "    }\n",
       "</style>\n",
       "<table border=\"1\" class=\"dataframe\">\n",
       "  <thead>\n",
       "    <tr style=\"text-align: right;\">\n",
       "      <th></th>\n",
       "      <th>Что из перечисленного могло бы мотивировать вас к покупке?</th>\n",
       "      <th>%</th>\n",
       "    </tr>\n",
       "  </thead>\n",
       "  <tbody>\n",
       "    <tr>\n",
       "      <th>0</th>\n",
       "      <td>Скидка</td>\n",
       "      <td>36.8</td>\n",
       "    </tr>\n",
       "    <tr>\n",
       "      <th>1</th>\n",
       "      <td>Наличие промокода, Скидка</td>\n",
       "      <td>26.3</td>\n",
       "    </tr>\n",
       "    <tr>\n",
       "      <th>2</th>\n",
       "      <td>Скидка, Система лояльности</td>\n",
       "      <td>10.5</td>\n",
       "    </tr>\n",
       "    <tr>\n",
       "      <th>3</th>\n",
       "      <td>Наличие промокода, Скидка, Система лояльности</td>\n",
       "      <td>10.5</td>\n",
       "    </tr>\n",
       "    <tr>\n",
       "      <th>4</th>\n",
       "      <td>Наличие промокода</td>\n",
       "      <td>10.5</td>\n",
       "    </tr>\n",
       "    <tr>\n",
       "      <th>5</th>\n",
       "      <td>Ничего из перечисленного</td>\n",
       "      <td>5.3</td>\n",
       "    </tr>\n",
       "  </tbody>\n",
       "</table>\n",
       "</div>"
      ],
      "text/plain": [
       "  Что из перечисленного могло бы мотивировать вас к покупке?     %\n",
       "0                                             Скидка          36.8\n",
       "1                          Наличие промокода, Скидка          26.3\n",
       "2                         Скидка, Система лояльности          10.5\n",
       "3      Наличие промокода, Скидка, Система лояльности          10.5\n",
       "4                                  Наличие промокода          10.5\n",
       "5                           Ничего из перечисленного           5.3"
      ]
     },
     "execution_count": 63,
     "metadata": {},
     "output_type": "execute_result"
    }
   ],
   "source": [
    "df_f_23_29_Big_City_6 = round(df_f_23_29_Big_City.iloc[:,[6]].value_counts() / df_f_23_29_Big_City.iloc[:,[6]].value_counts().sum() * 100, 1).reset_index()\n",
    "df_f_23_29_Big_City_6.columns = ['Что из перечисленного могло бы мотивировать вас к покупке?', '%']\n",
    "df_f_23_29_Big_City_6"
   ]
  },
  {
   "cell_type": "code",
   "execution_count": 64,
   "metadata": {},
   "outputs": [
    {
     "name": "stdout",
     "output_type": "stream",
     "text": [
      "Доверительный интервал: (5.439950124423014, 16.65, 27.860049875576983)\n"
     ]
    }
   ],
   "source": [
    "print('Доверительный интервал:', mean_confidence_interval(df_f_23_29_Big_City_6['%'], 0.935))"
   ]
  },
  {
   "cell_type": "code",
   "execution_count": null,
   "metadata": {},
   "outputs": [],
   "source": [
    "\n"
   ]
  },
  {
   "cell_type": "code",
   "execution_count": 65,
   "metadata": {},
   "outputs": [
    {
     "data": {
      "text/html": [
       "<div>\n",
       "<style scoped>\n",
       "    .dataframe tbody tr th:only-of-type {\n",
       "        vertical-align: middle;\n",
       "    }\n",
       "\n",
       "    .dataframe tbody tr th {\n",
       "        vertical-align: top;\n",
       "    }\n",
       "\n",
       "    .dataframe thead th {\n",
       "        text-align: right;\n",
       "    }\n",
       "</style>\n",
       "<table border=\"1\" class=\"dataframe\">\n",
       "  <thead>\n",
       "    <tr style=\"text-align: right;\">\n",
       "      <th></th>\n",
       "      <th>Как долго вы готовы ждать ответа от менеджера  по вашему заказу?</th>\n",
       "      <th>%</th>\n",
       "    </tr>\n",
       "  </thead>\n",
       "  <tbody>\n",
       "    <tr>\n",
       "      <th>0</th>\n",
       "      <td>1-3 часа</td>\n",
       "      <td>52.6</td>\n",
       "    </tr>\n",
       "    <tr>\n",
       "      <th>1</th>\n",
       "      <td>В течение суток</td>\n",
       "      <td>26.3</td>\n",
       "    </tr>\n",
       "    <tr>\n",
       "      <th>2</th>\n",
       "      <td>В течение часа</td>\n",
       "      <td>15.8</td>\n",
       "    </tr>\n",
       "    <tr>\n",
       "      <th>3</th>\n",
       "      <td>Неважно</td>\n",
       "      <td>5.3</td>\n",
       "    </tr>\n",
       "  </tbody>\n",
       "</table>\n",
       "</div>"
      ],
      "text/plain": [
       "  Как долго вы готовы ждать ответа от менеджера  по вашему заказу?     %\n",
       "0                                           1-3 часа                52.6\n",
       "1                                    В течение суток                26.3\n",
       "2                                     В течение часа                15.8\n",
       "3                                            Неважно                 5.3"
      ]
     },
     "execution_count": 65,
     "metadata": {},
     "output_type": "execute_result"
    }
   ],
   "source": [
    "df_f_23_29_Big_City_7 = round(df_f_23_29_Big_City.iloc[:,[7]].value_counts() / df_f_23_29_Big_City.iloc[:,[7]].value_counts().sum() * 100, 1).reset_index()\n",
    "df_f_23_29_Big_City_7.columns = ['Как долго вы готовы ждать ответа от менеджера  по вашему заказу?', '%']\n",
    "df_f_23_29_Big_City_7"
   ]
  },
  {
   "cell_type": "code",
   "execution_count": 66,
   "metadata": {},
   "outputs": [
    {
     "name": "stdout",
     "output_type": "stream",
     "text": [
      "Доверительный интервал: (5.353818327113089, 25.0, 44.64618167288691)\n"
     ]
    }
   ],
   "source": [
    "print('Доверительный интервал:', mean_confidence_interval(df_f_23_29_Big_City_7['%'], 0.875))"
   ]
  },
  {
   "cell_type": "code",
   "execution_count": null,
   "metadata": {},
   "outputs": [],
   "source": [
    "\n"
   ]
  },
  {
   "cell_type": "code",
   "execution_count": 67,
   "metadata": {},
   "outputs": [
    {
     "data": {
      "text/html": [
       "<div>\n",
       "<style scoped>\n",
       "    .dataframe tbody tr th:only-of-type {\n",
       "        vertical-align: middle;\n",
       "    }\n",
       "\n",
       "    .dataframe tbody tr th {\n",
       "        vertical-align: top;\n",
       "    }\n",
       "\n",
       "    .dataframe thead th {\n",
       "        text-align: right;\n",
       "    }\n",
       "</style>\n",
       "<table border=\"1\" class=\"dataframe\">\n",
       "  <thead>\n",
       "    <tr style=\"text-align: right;\">\n",
       "      <th></th>\n",
       "      <th>Какой способ обратной связи с менеджером вам наиболее удобен?</th>\n",
       "      <th>%</th>\n",
       "    </tr>\n",
       "  </thead>\n",
       "  <tbody>\n",
       "    <tr>\n",
       "      <th>0</th>\n",
       "      <td>Получить ответ в мессенджере/в соцсетях</td>\n",
       "      <td>26.3</td>\n",
       "    </tr>\n",
       "    <tr>\n",
       "      <th>1</th>\n",
       "      <td>Получить ответ на телефон (звонок), Получить о...</td>\n",
       "      <td>15.8</td>\n",
       "    </tr>\n",
       "    <tr>\n",
       "      <th>2</th>\n",
       "      <td>На самом сайте (чат), Получить ответ на почту,...</td>\n",
       "      <td>15.8</td>\n",
       "    </tr>\n",
       "    <tr>\n",
       "      <th>3</th>\n",
       "      <td>Получить ответ на телефон (звонок)</td>\n",
       "      <td>10.5</td>\n",
       "    </tr>\n",
       "    <tr>\n",
       "      <th>4</th>\n",
       "      <td>Получить ответ на почту, Получить ответ на тел...</td>\n",
       "      <td>10.5</td>\n",
       "    </tr>\n",
       "    <tr>\n",
       "      <th>5</th>\n",
       "      <td>Получить ответ на почту, Получить ответ на тел...</td>\n",
       "      <td>10.5</td>\n",
       "    </tr>\n",
       "    <tr>\n",
       "      <th>6</th>\n",
       "      <td>Получить ответ на почту, Получить ответ на тел...</td>\n",
       "      <td>5.3</td>\n",
       "    </tr>\n",
       "    <tr>\n",
       "      <th>7</th>\n",
       "      <td>На самом сайте (чат), Получить ответ на телефо...</td>\n",
       "      <td>5.3</td>\n",
       "    </tr>\n",
       "  </tbody>\n",
       "</table>\n",
       "</div>"
      ],
      "text/plain": [
       "  Какой способ обратной связи с менеджером вам наиболее удобен?     %\n",
       "0            Получить ответ в мессенджере/в соцсетях             26.3\n",
       "1  Получить ответ на телефон (звонок), Получить о...             15.8\n",
       "2  На самом сайте (чат), Получить ответ на почту,...             15.8\n",
       "3                 Получить ответ на телефон (звонок)             10.5\n",
       "4  Получить ответ на почту, Получить ответ на тел...             10.5\n",
       "5  Получить ответ на почту, Получить ответ на тел...             10.5\n",
       "6  Получить ответ на почту, Получить ответ на тел...              5.3\n",
       "7  На самом сайте (чат), Получить ответ на телефо...              5.3"
      ]
     },
     "execution_count": 67,
     "metadata": {},
     "output_type": "execute_result"
    }
   ],
   "source": [
    "df_f_23_29_Big_City_8 = round(df_f_23_29_Big_City.iloc[:,[8]].value_counts() / df_f_23_29_Big_City.iloc[:,[8]].value_counts().sum() * 100, 1).reset_index()\n",
    "df_f_23_29_Big_City_8.columns = ['Какой способ обратной связи с менеджером вам наиболее удобен?', '%']\n",
    "df_f_23_29_Big_City_8"
   ]
  },
  {
   "cell_type": "code",
   "execution_count": 68,
   "metadata": {},
   "outputs": [
    {
     "name": "stdout",
     "output_type": "stream",
     "text": [
      "Доверительный интервал: (5.491192265854485, 12.5, 19.508807734145513)\n"
     ]
    }
   ],
   "source": [
    "print('Доверительный интервал:', mean_confidence_interval(df_f_23_29_Big_City_8['%'], 0.98))"
   ]
  },
  {
   "cell_type": "code",
   "execution_count": null,
   "metadata": {},
   "outputs": [],
   "source": [
    "\n"
   ]
  },
  {
   "cell_type": "code",
   "execution_count": 69,
   "metadata": {},
   "outputs": [
    {
     "data": {
      "text/html": [
       "<div>\n",
       "<style scoped>\n",
       "    .dataframe tbody tr th:only-of-type {\n",
       "        vertical-align: middle;\n",
       "    }\n",
       "\n",
       "    .dataframe tbody tr th {\n",
       "        vertical-align: top;\n",
       "    }\n",
       "\n",
       "    .dataframe thead th {\n",
       "        text-align: right;\n",
       "    }\n",
       "</style>\n",
       "<table border=\"1\" class=\"dataframe\">\n",
       "  <thead>\n",
       "    <tr style=\"text-align: right;\">\n",
       "      <th></th>\n",
       "      <th>Вы когда-нибудь покупали мерч?</th>\n",
       "      <th>%</th>\n",
       "    </tr>\n",
       "  </thead>\n",
       "  <tbody>\n",
       "    <tr>\n",
       "      <th>0</th>\n",
       "      <td>Да</td>\n",
       "      <td>78.9</td>\n",
       "    </tr>\n",
       "    <tr>\n",
       "      <th>1</th>\n",
       "      <td>Нет, но планирую</td>\n",
       "      <td>15.8</td>\n",
       "    </tr>\n",
       "    <tr>\n",
       "      <th>2</th>\n",
       "      <td>Нет и не планирую</td>\n",
       "      <td>5.3</td>\n",
       "    </tr>\n",
       "  </tbody>\n",
       "</table>\n",
       "</div>"
      ],
      "text/plain": [
       "  Вы когда-нибудь покупали мерч?     %\n",
       "0                             Да  78.9\n",
       "1               Нет, но планирую  15.8\n",
       "2              Нет и не планирую   5.3"
      ]
     },
     "execution_count": 69,
     "metadata": {},
     "output_type": "execute_result"
    }
   ],
   "source": [
    "df_f_23_29_Big_City_9 = round(df_f_23_29_Big_City.iloc[:,[9]].value_counts() / df_f_23_29_Big_City.iloc[:,[9]].value_counts().sum() * 100, 1).reset_index()\n",
    "df_f_23_29_Big_City_9.columns = ['Вы когда-нибудь покупали мерч?', '%']\n",
    "df_f_23_29_Big_City_9"
   ]
  },
  {
   "cell_type": "code",
   "execution_count": 70,
   "metadata": {},
   "outputs": [
    {
     "name": "stdout",
     "output_type": "stream",
     "text": [
      "Доверительный интервал: (5.319182311721928, 33.333333333333336, 61.34748435494474)\n"
     ]
    }
   ],
   "source": [
    "print('Доверительный интервал:', mean_confidence_interval(df_f_23_29_Big_City_9['%'], 0.69))"
   ]
  },
  {
   "cell_type": "code",
   "execution_count": null,
   "metadata": {},
   "outputs": [],
   "source": [
    "\n"
   ]
  },
  {
   "cell_type": "code",
   "execution_count": 71,
   "metadata": {},
   "outputs": [
    {
     "data": {
      "text/html": [
       "<div>\n",
       "<style scoped>\n",
       "    .dataframe tbody tr th:only-of-type {\n",
       "        vertical-align: middle;\n",
       "    }\n",
       "\n",
       "    .dataframe tbody tr th {\n",
       "        vertical-align: top;\n",
       "    }\n",
       "\n",
       "    .dataframe thead th {\n",
       "        text-align: right;\n",
       "    }\n",
       "</style>\n",
       "<table border=\"1\" class=\"dataframe\">\n",
       "  <thead>\n",
       "    <tr style=\"text-align: right;\">\n",
       "      <th></th>\n",
       "      <th>Вам важно, какого размера будет логотип на мерче?</th>\n",
       "      <th>%</th>\n",
       "    </tr>\n",
       "  </thead>\n",
       "  <tbody>\n",
       "    <tr>\n",
       "      <th>0</th>\n",
       "      <td>Да, нравится, когда логотип маленького размера</td>\n",
       "      <td>42.1</td>\n",
       "    </tr>\n",
       "    <tr>\n",
       "      <th>1</th>\n",
       "      <td>Нет, мне неважно, какого размера будет логотип</td>\n",
       "      <td>36.8</td>\n",
       "    </tr>\n",
       "    <tr>\n",
       "      <th>2</th>\n",
       "      <td>Не люблю, когда на мерче есть логотип</td>\n",
       "      <td>21.1</td>\n",
       "    </tr>\n",
       "  </tbody>\n",
       "</table>\n",
       "</div>"
      ],
      "text/plain": [
       "  Вам важно, какого размера будет логотип на мерче?     %\n",
       "0    Да, нравится, когда логотип маленького размера  42.1\n",
       "1    Нет, мне неважно, какого размера будет логотип  36.8\n",
       "2             Не люблю, когда на мерче есть логотип  21.1"
      ]
     },
     "execution_count": 71,
     "metadata": {},
     "output_type": "execute_result"
    }
   ],
   "source": [
    "df_f_23_29_Big_City_10 = round(df_f_23_29_Big_City.iloc[:,[10]].value_counts() / df_f_23_29_Big_City.iloc[:,[10]].value_counts().sum() * 100, 1).reset_index()\n",
    "df_f_23_29_Big_City_10.columns = ['Вам важно, какого размера будет логотип на мерче?', '%']\n",
    "df_f_23_29_Big_City_10"
   ]
  },
  {
   "cell_type": "code",
   "execution_count": 72,
   "metadata": {},
   "outputs": [
    {
     "name": "stdout",
     "output_type": "stream",
     "text": [
      "Доверительный интервал: (21.200281288588833, 33.333333333333336, 45.46638537807784)\n"
     ]
    }
   ],
   "source": [
    "print('Доверительный интервал:', mean_confidence_interval(df_f_23_29_Big_City_10['%'], 0.85))"
   ]
  },
  {
   "cell_type": "code",
   "execution_count": null,
   "metadata": {},
   "outputs": [],
   "source": [
    "\n"
   ]
  },
  {
   "cell_type": "code",
   "execution_count": 73,
   "metadata": {},
   "outputs": [
    {
     "data": {
      "text/html": [
       "<div>\n",
       "<style scoped>\n",
       "    .dataframe tbody tr th:only-of-type {\n",
       "        vertical-align: middle;\n",
       "    }\n",
       "\n",
       "    .dataframe tbody tr th {\n",
       "        vertical-align: top;\n",
       "    }\n",
       "\n",
       "    .dataframe thead th {\n",
       "        text-align: right;\n",
       "    }\n",
       "</style>\n",
       "<table border=\"1\" class=\"dataframe\">\n",
       "  <thead>\n",
       "    <tr style=\"text-align: right;\">\n",
       "      <th></th>\n",
       "      <th>Какой мерч вам интереснее всего?</th>\n",
       "      <th>%</th>\n",
       "    </tr>\n",
       "  </thead>\n",
       "  <tbody>\n",
       "    <tr>\n",
       "      <th>0</th>\n",
       "      <td>Одежда (футболки, худи и др.)</td>\n",
       "      <td>36.8</td>\n",
       "    </tr>\n",
       "    <tr>\n",
       "      <th>1</th>\n",
       "      <td>Аксессуары (шоперы, шарфы и др.)</td>\n",
       "      <td>26.3</td>\n",
       "    </tr>\n",
       "    <tr>\n",
       "      <th>2</th>\n",
       "      <td>Канцтовары (блокноты, ручки, стикеры и др.)</td>\n",
       "      <td>21.1</td>\n",
       "    </tr>\n",
       "    <tr>\n",
       "      <th>3</th>\n",
       "      <td>Посуда (кружки, термокружки и др.)</td>\n",
       "      <td>5.3</td>\n",
       "    </tr>\n",
       "    <tr>\n",
       "      <th>4</th>\n",
       "      <td>Канцтовары, аксессуары и посуда</td>\n",
       "      <td>5.3</td>\n",
       "    </tr>\n",
       "    <tr>\n",
       "      <th>5</th>\n",
       "      <td>Всё вышеперечисленное</td>\n",
       "      <td>5.3</td>\n",
       "    </tr>\n",
       "  </tbody>\n",
       "</table>\n",
       "</div>"
      ],
      "text/plain": [
       "              Какой мерч вам интереснее всего?     %\n",
       "0                Одежда (футболки, худи и др.)  36.8\n",
       "1             Аксессуары (шоперы, шарфы и др.)  26.3\n",
       "2  Канцтовары (блокноты, ручки, стикеры и др.)  21.1\n",
       "3           Посуда (кружки, термокружки и др.)   5.3\n",
       "4              Канцтовары, аксессуары и посуда   5.3\n",
       "5                        Всё вышеперечисленное   5.3"
      ]
     },
     "execution_count": 73,
     "metadata": {},
     "output_type": "execute_result"
    }
   ],
   "source": [
    "df_f_23_29_Big_City_11 = round(df_f_23_29_Big_City.iloc[:,[11]].value_counts() / df_f_23_29_Big_City.iloc[:,[11]].value_counts().sum() * 100, 1).reset_index()\n",
    "df_f_23_29_Big_City_11.columns = ['Какой мерч вам интереснее всего?', '%']\n",
    "df_f_23_29_Big_City_11"
   ]
  },
  {
   "cell_type": "code",
   "execution_count": 74,
   "metadata": {},
   "outputs": [
    {
     "name": "stdout",
     "output_type": "stream",
     "text": [
      "Доверительный интервал: (5.363762822357641, 16.68333333333333, 28.002903844309017)\n"
     ]
    }
   ],
   "source": [
    "print('Доверительный интервал:', mean_confidence_interval(df_f_23_29_Big_City_11['%'], 0.915))"
   ]
  },
  {
   "cell_type": "code",
   "execution_count": null,
   "metadata": {},
   "outputs": [],
   "source": [
    "\n"
   ]
  },
  {
   "cell_type": "code",
   "execution_count": 75,
   "metadata": {},
   "outputs": [
    {
     "data": {
      "text/html": [
       "<div>\n",
       "<style scoped>\n",
       "    .dataframe tbody tr th:only-of-type {\n",
       "        vertical-align: middle;\n",
       "    }\n",
       "\n",
       "    .dataframe tbody tr th {\n",
       "        vertical-align: top;\n",
       "    }\n",
       "\n",
       "    .dataframe thead th {\n",
       "        text-align: right;\n",
       "    }\n",
       "</style>\n",
       "<table border=\"1\" class=\"dataframe\">\n",
       "  <thead>\n",
       "    <tr style=\"text-align: right;\">\n",
       "      <th></th>\n",
       "      <th>Вам был бы интересен мерч без логотипа, который отражал бы философию конкретного бренда? Пример - футболки с надписью \"Иноагент\", выпущенные \"Медузой\" совместно с другими брендами</th>\n",
       "      <th>%</th>\n",
       "    </tr>\n",
       "  </thead>\n",
       "  <tbody>\n",
       "    <tr>\n",
       "      <th>0</th>\n",
       "      <td>Да</td>\n",
       "      <td>89.5</td>\n",
       "    </tr>\n",
       "    <tr>\n",
       "      <th>1</th>\n",
       "      <td>Нет</td>\n",
       "      <td>10.5</td>\n",
       "    </tr>\n",
       "  </tbody>\n",
       "</table>\n",
       "</div>"
      ],
      "text/plain": [
       "  Вам был бы интересен мерч без логотипа, который отражал бы философию конкретного бренда? Пример - футболки с надписью \"Иноагент\", выпущенные \"Медузой\" совместно с другими брендами  \\\n",
       "0                                                 Да                                                                                                                                    \n",
       "1                                                Нет                                                                                                                                    \n",
       "\n",
       "      %  \n",
       "0  89.5  \n",
       "1  10.5  "
      ]
     },
     "execution_count": 75,
     "metadata": {},
     "output_type": "execute_result"
    }
   ],
   "source": [
    "df_f_23_29_Big_City_12 = round(df_f_23_29_Big_City.iloc[:,[12]].value_counts() / df_f_23_29_Big_City.iloc[:,[12]].value_counts().sum() * 100, 1).reset_index()\n",
    "df_f_23_29_Big_City_12.columns = ['Вам был бы интересен мерч без логотипа, который отражал бы философию конкретного бренда? Пример - футболки с надписью \"Иноагент\", выпущенные \"Медузой\" совместно с другими брендами', '%']\n",
    "df_f_23_29_Big_City_12"
   ]
  },
  {
   "cell_type": "code",
   "execution_count": 76,
   "metadata": {},
   "outputs": [
    {
     "name": "stdout",
     "output_type": "stream",
     "text": [
      "Доверительный интервал: (10.740461143523895, 50.0, 89.2595388564761)\n"
     ]
    }
   ],
   "source": [
    "print('Доверительный интервал:', mean_confidence_interval(df_f_23_29_Big_City_12['%'], 0.575))"
   ]
  },
  {
   "cell_type": "code",
   "execution_count": null,
   "metadata": {},
   "outputs": [],
   "source": [
    "\n"
   ]
  },
  {
   "cell_type": "code",
   "execution_count": 77,
   "metadata": {},
   "outputs": [
    {
     "data": {
      "text/html": [
       "<div>\n",
       "<style scoped>\n",
       "    .dataframe tbody tr th:only-of-type {\n",
       "        vertical-align: middle;\n",
       "    }\n",
       "\n",
       "    .dataframe tbody tr th {\n",
       "        vertical-align: top;\n",
       "    }\n",
       "\n",
       "    .dataframe thead th {\n",
       "        text-align: right;\n",
       "    }\n",
       "</style>\n",
       "<table border=\"1\" class=\"dataframe\">\n",
       "  <thead>\n",
       "    <tr style=\"text-align: right;\">\n",
       "      <th></th>\n",
       "      <th>Вам нравятся цитаты в виде принта на мерче?</th>\n",
       "      <th>%</th>\n",
       "    </tr>\n",
       "  </thead>\n",
       "  <tbody>\n",
       "    <tr>\n",
       "      <th>0</th>\n",
       "      <td>Да</td>\n",
       "      <td>84.2</td>\n",
       "    </tr>\n",
       "    <tr>\n",
       "      <th>1</th>\n",
       "      <td>Нет</td>\n",
       "      <td>15.8</td>\n",
       "    </tr>\n",
       "  </tbody>\n",
       "</table>\n",
       "</div>"
      ],
      "text/plain": [
       "  Вам нравятся цитаты в виде принта на мерче?     %\n",
       "0                                          Да  84.2\n",
       "1                                         Нет  15.8"
      ]
     },
     "execution_count": 77,
     "metadata": {},
     "output_type": "execute_result"
    }
   ],
   "source": [
    "df_f_23_29_Big_City_13 = round(df_f_23_29_Big_City.iloc[:,[13]].value_counts() / df_f_23_29_Big_City.iloc[:,[13]].value_counts().sum() * 100, 1).reset_index()\n",
    "df_f_23_29_Big_City_13.columns = ['Вам нравятся цитаты в виде принта на мерче?', '%']\n",
    "df_f_23_29_Big_City_13"
   ]
  },
  {
   "cell_type": "code",
   "execution_count": 78,
   "metadata": {},
   "outputs": [
    {
     "name": "stdout",
     "output_type": "stream",
     "text": [
      "Доверительный интервал: (16.008196736924482, 50.0, 83.99180326307552)\n"
     ]
    }
   ],
   "source": [
    "print('Доверительный интервал:', mean_confidence_interval(df_f_23_29_Big_City_13['%'], 0.575))"
   ]
  },
  {
   "cell_type": "code",
   "execution_count": null,
   "metadata": {},
   "outputs": [],
   "source": [
    "\n"
   ]
  },
  {
   "cell_type": "code",
   "execution_count": 79,
   "metadata": {},
   "outputs": [
    {
     "data": {
      "text/html": [
       "<div>\n",
       "<style scoped>\n",
       "    .dataframe tbody tr th:only-of-type {\n",
       "        vertical-align: middle;\n",
       "    }\n",
       "\n",
       "    .dataframe tbody tr th {\n",
       "        vertical-align: top;\n",
       "    }\n",
       "\n",
       "    .dataframe thead th {\n",
       "        text-align: right;\n",
       "    }\n",
       "</style>\n",
       "<table border=\"1\" class=\"dataframe\">\n",
       "  <thead>\n",
       "    <tr style=\"text-align: right;\">\n",
       "      <th></th>\n",
       "      <th>Как вы относитесь к юмористическим цитатам на мерче?</th>\n",
       "      <th>%</th>\n",
       "    </tr>\n",
       "  </thead>\n",
       "  <tbody>\n",
       "    <tr>\n",
       "      <th>0</th>\n",
       "      <td>Нравится</td>\n",
       "      <td>78.9</td>\n",
       "    </tr>\n",
       "    <tr>\n",
       "      <th>1</th>\n",
       "      <td>Не нравится</td>\n",
       "      <td>21.1</td>\n",
       "    </tr>\n",
       "  </tbody>\n",
       "</table>\n",
       "</div>"
      ],
      "text/plain": [
       "  Как вы относитесь к юмористическим цитатам на мерче?     %\n",
       "0                                           Нравится    78.9\n",
       "1                                        Не нравится    21.1"
      ]
     },
     "execution_count": 79,
     "metadata": {},
     "output_type": "execute_result"
    }
   ],
   "source": [
    "df_f_23_29_Big_City_14 = round(df_f_23_29_Big_City.iloc[:,[14]].value_counts() / df_f_23_29_Big_City.iloc[:,[14]].value_counts().sum() * 100, 1).reset_index()\n",
    "df_f_23_29_Big_City_14.columns = ['Как вы относитесь к юмористическим цитатам на мерче?', '%']\n",
    "df_f_23_29_Big_City_14"
   ]
  },
  {
   "cell_type": "code",
   "execution_count": 80,
   "metadata": {},
   "outputs": [
    {
     "name": "stdout",
     "output_type": "stream",
     "text": [
      "Доверительный интервал: (21.275932330325077, 50.0, 78.72406766967492)\n"
     ]
    }
   ],
   "source": [
    "print('Доверительный интервал:', mean_confidence_interval(df_f_23_29_Big_City_14['%'], 0.575))"
   ]
  },
  {
   "cell_type": "code",
   "execution_count": null,
   "metadata": {},
   "outputs": [],
   "source": [
    "\n"
   ]
  },
  {
   "cell_type": "code",
   "execution_count": 81,
   "metadata": {},
   "outputs": [
    {
     "data": {
      "text/html": [
       "<div>\n",
       "<style scoped>\n",
       "    .dataframe tbody tr th:only-of-type {\n",
       "        vertical-align: middle;\n",
       "    }\n",
       "\n",
       "    .dataframe tbody tr th {\n",
       "        vertical-align: top;\n",
       "    }\n",
       "\n",
       "    .dataframe thead th {\n",
       "        text-align: right;\n",
       "    }\n",
       "</style>\n",
       "<table border=\"1\" class=\"dataframe\">\n",
       "  <thead>\n",
       "    <tr style=\"text-align: right;\">\n",
       "      <th></th>\n",
       "      <th>Вы обычно покупаете мерч после важных мероприятий? Например, после концерта или интересной отраслевой конференции</th>\n",
       "      <th>%</th>\n",
       "    </tr>\n",
       "  </thead>\n",
       "  <tbody>\n",
       "    <tr>\n",
       "      <th>0</th>\n",
       "      <td>Да</td>\n",
       "      <td>63.2</td>\n",
       "    </tr>\n",
       "    <tr>\n",
       "      <th>1</th>\n",
       "      <td>Нет</td>\n",
       "      <td>26.3</td>\n",
       "    </tr>\n",
       "    <tr>\n",
       "      <th>2</th>\n",
       "      <td>Я никогда не покупал мерч</td>\n",
       "      <td>10.5</td>\n",
       "    </tr>\n",
       "  </tbody>\n",
       "</table>\n",
       "</div>"
      ],
      "text/plain": [
       "  Вы обычно покупаете мерч после важных мероприятий? Например, после концерта или интересной отраслевой конференции  \\\n",
       "0                                                 Да                                                                  \n",
       "1                                                Нет                                                                  \n",
       "2                          Я никогда не покупал мерч                                                                  \n",
       "\n",
       "      %  \n",
       "0  63.2  \n",
       "1  26.3  \n",
       "2  10.5  "
      ]
     },
     "execution_count": 81,
     "metadata": {},
     "output_type": "execute_result"
    }
   ],
   "source": [
    "df_f_23_29_Big_City_15 = round(df_f_23_29_Big_City.iloc[:,[15]].value_counts() / df_f_23_29_Big_City.iloc[:,[15]].value_counts().sum() * 100, 1).reset_index()\n",
    "df_f_23_29_Big_City_15.columns = ['Вы обычно покупаете мерч после важных мероприятий? Например, после концерта или интересной отраслевой конференции', '%']\n",
    "df_f_23_29_Big_City_15"
   ]
  },
  {
   "cell_type": "code",
   "execution_count": 82,
   "metadata": {},
   "outputs": [
    {
     "name": "stdout",
     "output_type": "stream",
     "text": [
      "Доверительный интервал: (10.511022652723494, 33.333333333333336, 56.155644013943174)\n"
     ]
    }
   ],
   "source": [
    "print('Доверительный интервал:', mean_confidence_interval(df_f_23_29_Big_City_15['%'], 0.76))"
   ]
  },
  {
   "cell_type": "code",
   "execution_count": null,
   "metadata": {},
   "outputs": [],
   "source": [
    "\n"
   ]
  },
  {
   "cell_type": "code",
   "execution_count": 83,
   "metadata": {},
   "outputs": [
    {
     "data": {
      "text/html": [
       "<div>\n",
       "<style scoped>\n",
       "    .dataframe tbody tr th:only-of-type {\n",
       "        vertical-align: middle;\n",
       "    }\n",
       "\n",
       "    .dataframe tbody tr th {\n",
       "        vertical-align: top;\n",
       "    }\n",
       "\n",
       "    .dataframe thead th {\n",
       "        text-align: right;\n",
       "    }\n",
       "</style>\n",
       "<table border=\"1\" class=\"dataframe\">\n",
       "  <thead>\n",
       "    <tr style=\"text-align: right;\">\n",
       "      <th></th>\n",
       "      <th>Вам важно, чтобы вы сами могли придумать свой дизайн для мерча: выбрать уникальное сочетание цвета и принта?</th>\n",
       "      <th>%</th>\n",
       "    </tr>\n",
       "  </thead>\n",
       "  <tbody>\n",
       "    <tr>\n",
       "      <th>0</th>\n",
       "      <td>Нет, дизайнерам виднее</td>\n",
       "      <td>57.9</td>\n",
       "    </tr>\n",
       "    <tr>\n",
       "      <th>1</th>\n",
       "      <td>Да, люблю эксперименты</td>\n",
       "      <td>42.1</td>\n",
       "    </tr>\n",
       "  </tbody>\n",
       "</table>\n",
       "</div>"
      ],
      "text/plain": [
       "  Вам важно, чтобы вы сами могли придумать свой дизайн для мерча: выбрать уникальное сочетание цвета и принта?  \\\n",
       "0                             Нет, дизайнерам виднее                                                             \n",
       "1                             Да, люблю эксперименты                                                             \n",
       "\n",
       "      %  \n",
       "0  57.9  \n",
       "1  42.1  "
      ]
     },
     "execution_count": 83,
     "metadata": {},
     "output_type": "execute_result"
    }
   ],
   "source": [
    "df_f_23_29_Big_City_16 = round(df_f_23_29_Big_City.iloc[:,[16]].value_counts() / df_f_23_29_Big_City.iloc[:,[16]].value_counts().sum() * 100, 1).reset_index()\n",
    "df_f_23_29_Big_City_16.columns = ['Вам важно, чтобы вы сами могли придумать свой дизайн для мерча: выбрать уникальное сочетание цвета и принта?', '%']\n",
    "df_f_23_29_Big_City_16"
   ]
  },
  {
   "cell_type": "code",
   "execution_count": 84,
   "metadata": {},
   "outputs": [
    {
     "name": "stdout",
     "output_type": "stream",
     "text": [
      "Доверительный интервал: (42.14809222870478, 50.0, 57.85190777129522)\n"
     ]
    }
   ],
   "source": [
    "print('Доверительный интервал:', mean_confidence_interval(df_f_23_29_Big_City_16['%'], 0.575))"
   ]
  },
  {
   "cell_type": "code",
   "execution_count": null,
   "metadata": {},
   "outputs": [],
   "source": [
    "\n"
   ]
  },
  {
   "cell_type": "code",
   "execution_count": 85,
   "metadata": {},
   "outputs": [
    {
     "data": {
      "text/html": [
       "<div>\n",
       "<style scoped>\n",
       "    .dataframe tbody tr th:only-of-type {\n",
       "        vertical-align: middle;\n",
       "    }\n",
       "\n",
       "    .dataframe tbody tr th {\n",
       "        vertical-align: top;\n",
       "    }\n",
       "\n",
       "    .dataframe thead th {\n",
       "        text-align: right;\n",
       "    }\n",
       "</style>\n",
       "<table border=\"1\" class=\"dataframe\">\n",
       "  <thead>\n",
       "    <tr style=\"text-align: right;\">\n",
       "      <th></th>\n",
       "      <th>Мерч в качестве бонуса мотивировал бы вас лучше учиться?</th>\n",
       "      <th>%</th>\n",
       "    </tr>\n",
       "  </thead>\n",
       "  <tbody>\n",
       "    <tr>\n",
       "      <th>0</th>\n",
       "      <td>Да</td>\n",
       "      <td>78.9</td>\n",
       "    </tr>\n",
       "    <tr>\n",
       "      <th>1</th>\n",
       "      <td>Нет</td>\n",
       "      <td>21.1</td>\n",
       "    </tr>\n",
       "  </tbody>\n",
       "</table>\n",
       "</div>"
      ],
      "text/plain": [
       "  Мерч в качестве бонуса мотивировал бы вас лучше учиться?     %\n",
       "0                                                 Да        78.9\n",
       "1                                                Нет        21.1"
      ]
     },
     "execution_count": 85,
     "metadata": {},
     "output_type": "execute_result"
    }
   ],
   "source": [
    "df_f_23_29_Big_City_17 = round(df_f_23_29_Big_City.iloc[:,[17]].value_counts() / df_f_23_29_Big_City.iloc[:,[17]].value_counts().sum() * 100, 1).reset_index()\n",
    "df_f_23_29_Big_City_17.columns = ['Мерч в качестве бонуса мотивировал бы вас лучше учиться?', '%']\n",
    "df_f_23_29_Big_City_17"
   ]
  },
  {
   "cell_type": "code",
   "execution_count": 86,
   "metadata": {},
   "outputs": [
    {
     "name": "stdout",
     "output_type": "stream",
     "text": [
      "Доверительный интервал: (21.275932330325077, 50.0, 78.72406766967492)\n"
     ]
    }
   ],
   "source": [
    "print('Доверительный интервал:', mean_confidence_interval(df_f_23_29_Big_City_17['%'], 0.575))"
   ]
  },
  {
   "cell_type": "code",
   "execution_count": null,
   "metadata": {},
   "outputs": [],
   "source": [
    "\n"
   ]
  },
  {
   "cell_type": "code",
   "execution_count": 87,
   "metadata": {},
   "outputs": [
    {
     "data": {
      "text/html": [
       "<div>\n",
       "<style scoped>\n",
       "    .dataframe tbody tr th:only-of-type {\n",
       "        vertical-align: middle;\n",
       "    }\n",
       "\n",
       "    .dataframe tbody tr th {\n",
       "        vertical-align: top;\n",
       "    }\n",
       "\n",
       "    .dataframe thead th {\n",
       "        text-align: right;\n",
       "    }\n",
       "</style>\n",
       "<table border=\"1\" class=\"dataframe\">\n",
       "  <thead>\n",
       "    <tr style=\"text-align: right;\">\n",
       "      <th></th>\n",
       "      <th>Вам важно, чтобы мерч был уникальным продуктом, который больше ни у кого не встретишь?</th>\n",
       "      <th>%</th>\n",
       "    </tr>\n",
       "  </thead>\n",
       "  <tbody>\n",
       "    <tr>\n",
       "      <th>0</th>\n",
       "      <td>Да</td>\n",
       "      <td>68.4</td>\n",
       "    </tr>\n",
       "    <tr>\n",
       "      <th>1</th>\n",
       "      <td>Нет</td>\n",
       "      <td>31.6</td>\n",
       "    </tr>\n",
       "  </tbody>\n",
       "</table>\n",
       "</div>"
      ],
      "text/plain": [
       "  Вам важно, чтобы мерч был уникальным продуктом, который больше ни у кого не встретишь?  \\\n",
       "0                                                 Да                                       \n",
       "1                                                Нет                                       \n",
       "\n",
       "      %  \n",
       "0  68.4  \n",
       "1  31.6  "
      ]
     },
     "execution_count": 87,
     "metadata": {},
     "output_type": "execute_result"
    }
   ],
   "source": [
    "df_f_23_29_Big_City_18 = round(df_f_23_29_Big_City.iloc[:,[18]].value_counts() / df_f_23_29_Big_City.iloc[:,[18]].value_counts().sum() * 100, 1).reset_index()\n",
    "df_f_23_29_Big_City_18.columns = ['Вам важно, чтобы мерч был уникальным продуктом, который больше ни у кого не встретишь?', '%']\n",
    "df_f_23_29_Big_City_18"
   ]
  },
  {
   "cell_type": "code",
   "execution_count": 88,
   "metadata": {},
   "outputs": [
    {
     "name": "stdout",
     "output_type": "stream",
     "text": [
      "Доверительный интервал: (31.71201227951493, 50.0, 68.28798772048506)\n"
     ]
    }
   ],
   "source": [
    "print('Доверительный интервал:', mean_confidence_interval(df_f_23_29_Big_City_18['%'], 0.575))"
   ]
  },
  {
   "cell_type": "code",
   "execution_count": null,
   "metadata": {},
   "outputs": [],
   "source": [
    "\n"
   ]
  },
  {
   "cell_type": "code",
   "execution_count": 89,
   "metadata": {},
   "outputs": [
    {
     "data": {
      "text/html": [
       "<div>\n",
       "<style scoped>\n",
       "    .dataframe tbody tr th:only-of-type {\n",
       "        vertical-align: middle;\n",
       "    }\n",
       "\n",
       "    .dataframe tbody tr th {\n",
       "        vertical-align: top;\n",
       "    }\n",
       "\n",
       "    .dataframe thead th {\n",
       "        text-align: right;\n",
       "    }\n",
       "</style>\n",
       "<table border=\"1\" class=\"dataframe\">\n",
       "  <thead>\n",
       "    <tr style=\"text-align: right;\">\n",
       "      <th></th>\n",
       "      <th>Вы готовы платить за лимитированный мерч? Лимитированная коллекция - та, которая выпускается один раз ограниченным тиражом</th>\n",
       "      <th>%</th>\n",
       "    </tr>\n",
       "  </thead>\n",
       "  <tbody>\n",
       "    <tr>\n",
       "      <th>0</th>\n",
       "      <td>Да</td>\n",
       "      <td>57.9</td>\n",
       "    </tr>\n",
       "    <tr>\n",
       "      <th>1</th>\n",
       "      <td>Нет</td>\n",
       "      <td>42.1</td>\n",
       "    </tr>\n",
       "  </tbody>\n",
       "</table>\n",
       "</div>"
      ],
      "text/plain": [
       "  Вы готовы платить за лимитированный мерч? Лимитированная коллекция - та, которая выпускается один раз ограниченным тиражом  \\\n",
       "0                                                 Да                                                                           \n",
       "1                                                Нет                                                                           \n",
       "\n",
       "      %  \n",
       "0  57.9  \n",
       "1  42.1  "
      ]
     },
     "execution_count": 89,
     "metadata": {},
     "output_type": "execute_result"
    }
   ],
   "source": [
    "df_f_23_29_Big_City_19 = round(df_f_23_29_Big_City.iloc[:,[19]].value_counts() / df_f_23_29_Big_City.iloc[:,[19]].value_counts().sum() * 100, 1).reset_index()\n",
    "df_f_23_29_Big_City_19.columns = ['Вы готовы платить за лимитированный мерч? Лимитированная коллекция - та, которая выпускается один раз ограниченным тиражом', '%']\n",
    "df_f_23_29_Big_City_19"
   ]
  },
  {
   "cell_type": "code",
   "execution_count": 90,
   "metadata": {},
   "outputs": [
    {
     "name": "stdout",
     "output_type": "stream",
     "text": [
      "Доверительный интервал: (42.14809222870478, 50.0, 57.85190777129522)\n"
     ]
    }
   ],
   "source": [
    "print('Доверительный интервал:', mean_confidence_interval(df_f_23_29_Big_City_19['%'], 0.575))"
   ]
  },
  {
   "cell_type": "code",
   "execution_count": null,
   "metadata": {},
   "outputs": [],
   "source": [
    "\n"
   ]
  },
  {
   "cell_type": "code",
   "execution_count": 91,
   "metadata": {},
   "outputs": [
    {
     "data": {
      "text/html": [
       "<div>\n",
       "<style scoped>\n",
       "    .dataframe tbody tr th:only-of-type {\n",
       "        vertical-align: middle;\n",
       "    }\n",
       "\n",
       "    .dataframe tbody tr th {\n",
       "        vertical-align: top;\n",
       "    }\n",
       "\n",
       "    .dataframe thead th {\n",
       "        text-align: right;\n",
       "    }\n",
       "</style>\n",
       "<table border=\"1\" class=\"dataframe\">\n",
       "  <thead>\n",
       "    <tr style=\"text-align: right;\">\n",
       "      <th></th>\n",
       "      <th>Обращаете ли вы внимание на экологичность товаров при покупке вещей?</th>\n",
       "      <th>%</th>\n",
       "    </tr>\n",
       "  </thead>\n",
       "  <tbody>\n",
       "    <tr>\n",
       "      <th>0</th>\n",
       "      <td>Да, большая часть моих вещей - экологичные</td>\n",
       "      <td>52.6</td>\n",
       "    </tr>\n",
       "    <tr>\n",
       "      <th>1</th>\n",
       "      <td>Нет, для меня это неважный критерий при выборе...</td>\n",
       "      <td>47.4</td>\n",
       "    </tr>\n",
       "  </tbody>\n",
       "</table>\n",
       "</div>"
      ],
      "text/plain": [
       "  Обращаете ли вы внимание на экологичность товаров при покупке вещей?     %\n",
       "0         Да, большая часть моих вещей - экологичные                    52.6\n",
       "1  Нет, для меня это неважный критерий при выборе...                    47.4"
      ]
     },
     "execution_count": 91,
     "metadata": {},
     "output_type": "execute_result"
    }
   ],
   "source": [
    "df_f_23_29_Big_City_20 = round(df_f_23_29_Big_City.iloc[:,[20]].value_counts() / df_f_23_29_Big_City.iloc[:,[20]].value_counts().sum() * 100, 1).reset_index()\n",
    "df_f_23_29_Big_City_20.columns = ['Обращаете ли вы внимание на экологичность товаров при покупке вещей?', '%']\n",
    "df_f_23_29_Big_City_20"
   ]
  },
  {
   "cell_type": "code",
   "execution_count": 92,
   "metadata": {},
   "outputs": [
    {
     "name": "stdout",
     "output_type": "stream",
     "text": [
      "Доверительный интервал: (47.41582782210537, 50.0, 52.58417217789463)\n"
     ]
    }
   ],
   "source": [
    "print('Доверительный интервал:', mean_confidence_interval(df_f_23_29_Big_City_20['%'], 0.575))"
   ]
  },
  {
   "cell_type": "code",
   "execution_count": null,
   "metadata": {},
   "outputs": [],
   "source": [
    "\n"
   ]
  },
  {
   "cell_type": "code",
   "execution_count": 93,
   "metadata": {},
   "outputs": [
    {
     "data": {
      "text/html": [
       "<div>\n",
       "<style scoped>\n",
       "    .dataframe tbody tr th:only-of-type {\n",
       "        vertical-align: middle;\n",
       "    }\n",
       "\n",
       "    .dataframe tbody tr th {\n",
       "        vertical-align: top;\n",
       "    }\n",
       "\n",
       "    .dataframe thead th {\n",
       "        text-align: right;\n",
       "    }\n",
       "</style>\n",
       "<table border=\"1\" class=\"dataframe\">\n",
       "  <thead>\n",
       "    <tr style=\"text-align: right;\">\n",
       "      <th></th>\n",
       "      <th>Вы с большей вероятностью купите мерч, если будете знать, что вырученные средства пойдут на благотворительность?</th>\n",
       "      <th>%</th>\n",
       "    </tr>\n",
       "  </thead>\n",
       "  <tbody>\n",
       "    <tr>\n",
       "      <th>0</th>\n",
       "      <td>Да</td>\n",
       "      <td>57.9</td>\n",
       "    </tr>\n",
       "    <tr>\n",
       "      <th>1</th>\n",
       "      <td>Нет</td>\n",
       "      <td>42.1</td>\n",
       "    </tr>\n",
       "  </tbody>\n",
       "</table>\n",
       "</div>"
      ],
      "text/plain": [
       "  Вы с большей вероятностью купите мерч, если будете знать, что вырученные средства пойдут на благотворительность?  \\\n",
       "0                                                 Да                                                                 \n",
       "1                                                Нет                                                                 \n",
       "\n",
       "      %  \n",
       "0  57.9  \n",
       "1  42.1  "
      ]
     },
     "execution_count": 93,
     "metadata": {},
     "output_type": "execute_result"
    }
   ],
   "source": [
    "df_f_23_29_Big_City_21 = round(df_f_23_29_Big_City.iloc[:,[21]].value_counts() / df_f_23_29_Big_City.iloc[:,[21]].value_counts().sum() * 100, 1).reset_index()\n",
    "df_f_23_29_Big_City_21.columns = ['Вы с большей вероятностью купите мерч, если будете знать, что вырученные средства пойдут на благотворительность?', '%']\n",
    "df_f_23_29_Big_City_21"
   ]
  },
  {
   "cell_type": "code",
   "execution_count": 94,
   "metadata": {},
   "outputs": [
    {
     "name": "stdout",
     "output_type": "stream",
     "text": [
      "Доверительный интервал: (42.14809222870478, 50.0, 57.85190777129522)\n"
     ]
    }
   ],
   "source": [
    "print('Доверительный интервал:', mean_confidence_interval(df_f_23_29_Big_City_21['%'], 0.575))"
   ]
  },
  {
   "cell_type": "code",
   "execution_count": null,
   "metadata": {},
   "outputs": [],
   "source": [
    "\n"
   ]
  },
  {
   "cell_type": "code",
   "execution_count": 95,
   "metadata": {},
   "outputs": [
    {
     "data": {
      "text/html": [
       "<div>\n",
       "<style scoped>\n",
       "    .dataframe tbody tr th:only-of-type {\n",
       "        vertical-align: middle;\n",
       "    }\n",
       "\n",
       "    .dataframe tbody tr th {\n",
       "        vertical-align: top;\n",
       "    }\n",
       "\n",
       "    .dataframe thead th {\n",
       "        text-align: right;\n",
       "    }\n",
       "</style>\n",
       "<table border=\"1\" class=\"dataframe\">\n",
       "  <thead>\n",
       "    <tr style=\"text-align: right;\">\n",
       "      <th></th>\n",
       "      <th>Вы бы купили мерч в подарок для благотворительного фонда/детского дома?</th>\n",
       "      <th>%</th>\n",
       "    </tr>\n",
       "  </thead>\n",
       "  <tbody>\n",
       "    <tr>\n",
       "      <th>0</th>\n",
       "      <td>Нет</td>\n",
       "      <td>52.6</td>\n",
       "    </tr>\n",
       "    <tr>\n",
       "      <th>1</th>\n",
       "      <td>Да</td>\n",
       "      <td>47.4</td>\n",
       "    </tr>\n",
       "  </tbody>\n",
       "</table>\n",
       "</div>"
      ],
      "text/plain": [
       "  Вы бы купили мерч в подарок для благотворительного фонда/детского дома?  \\\n",
       "0                                                Нет                        \n",
       "1                                                 Да                        \n",
       "\n",
       "      %  \n",
       "0  52.6  \n",
       "1  47.4  "
      ]
     },
     "execution_count": 95,
     "metadata": {},
     "output_type": "execute_result"
    }
   ],
   "source": [
    "df_f_23_29_Big_City_22 = round(df_f_23_29_Big_City.iloc[:,[22]].value_counts() / df_f_23_29_Big_City.iloc[:,[22]].value_counts().sum() * 100, 1).reset_index()\n",
    "df_f_23_29_Big_City_22.columns = ['Вы бы купили мерч в подарок для благотворительного фонда/детского дома?', '%']\n",
    "df_f_23_29_Big_City_22"
   ]
  },
  {
   "cell_type": "code",
   "execution_count": 96,
   "metadata": {},
   "outputs": [
    {
     "name": "stdout",
     "output_type": "stream",
     "text": [
      "Доверительный интервал: (47.41582782210537, 50.0, 52.58417217789463)\n"
     ]
    }
   ],
   "source": [
    "print('Доверительный интервал:', mean_confidence_interval(df_f_23_29_Big_City_22['%'], 0.575))"
   ]
  },
  {
   "cell_type": "markdown",
   "metadata": {},
   "source": [
    "# --------------------------------------------------------------------------------------------------------------\n"
   ]
  },
  {
   "cell_type": "markdown",
   "metadata": {},
   "source": [
    "### Женщины в возрасте 40-49 лет"
   ]
  },
  {
   "cell_type": "code",
   "execution_count": 97,
   "metadata": {},
   "outputs": [
    {
     "data": {
      "text/html": [
       "<div>\n",
       "<style scoped>\n",
       "    .dataframe tbody tr th:only-of-type {\n",
       "        vertical-align: middle;\n",
       "    }\n",
       "\n",
       "    .dataframe tbody tr th {\n",
       "        vertical-align: top;\n",
       "    }\n",
       "\n",
       "    .dataframe thead th {\n",
       "        text-align: right;\n",
       "    }\n",
       "</style>\n",
       "<table border=\"1\" class=\"dataframe\">\n",
       "  <thead>\n",
       "    <tr style=\"text-align: right;\">\n",
       "      <th></th>\n",
       "      <th>Отметка времени</th>\n",
       "    </tr>\n",
       "    <tr>\n",
       "      <th>Укажите ваш город</th>\n",
       "      <th></th>\n",
       "    </tr>\n",
       "  </thead>\n",
       "  <tbody>\n",
       "    <tr>\n",
       "      <th>Москва</th>\n",
       "      <td>6</td>\n",
       "    </tr>\n",
       "    <tr>\n",
       "      <th>Новосибирск</th>\n",
       "      <td>3</td>\n",
       "    </tr>\n",
       "    <tr>\n",
       "      <th>Севастополь</th>\n",
       "      <td>2</td>\n",
       "    </tr>\n",
       "    <tr>\n",
       "      <th>Ростов-на-Дону</th>\n",
       "      <td>2</td>\n",
       "    </tr>\n",
       "    <tr>\n",
       "      <th>Березники</th>\n",
       "      <td>1</td>\n",
       "    </tr>\n",
       "    <tr>\n",
       "      <th>Челябинск</th>\n",
       "      <td>1</td>\n",
       "    </tr>\n",
       "    <tr>\n",
       "      <th>Хотьково</th>\n",
       "      <td>1</td>\n",
       "    </tr>\n",
       "    <tr>\n",
       "      <th>Санкт-Петербург</th>\n",
       "      <td>1</td>\n",
       "    </tr>\n",
       "    <tr>\n",
       "      <th>Петропавловск</th>\n",
       "      <td>1</td>\n",
       "    </tr>\n",
       "    <tr>\n",
       "      <th>Новосибирск</th>\n",
       "      <td>1</td>\n",
       "    </tr>\n",
       "  </tbody>\n",
       "</table>\n",
       "</div>"
      ],
      "text/plain": [
       "                   Отметка времени\n",
       "Укажите ваш город                 \n",
       "Москва                           6\n",
       "Новосибирск                      3\n",
       "Севастополь                      2\n",
       "Ростов-на-Дону                   2\n",
       "Березники                        1\n",
       "Челябинск                        1\n",
       "Хотьково                         1\n",
       "Санкт-Петербург                  1\n",
       "Петропавловск                    1\n",
       "Новосибирск                      1"
      ]
     },
     "execution_count": 97,
     "metadata": {},
     "output_type": "execute_result"
    }
   ],
   "source": [
    "f_40_49 = f.loc[f['Укажите ваш возраст'] == '40-49 лет']\n",
    "f_40_49.groupby('Укажите ваш город').count()[['Отметка времени']].sort_values('Отметка времени', ascending=False).head(10)"
   ]
  },
  {
   "cell_type": "code",
   "execution_count": 98,
   "metadata": {},
   "outputs": [
    {
     "data": {
      "text/html": [
       "<div>\n",
       "<style scoped>\n",
       "    .dataframe tbody tr th:only-of-type {\n",
       "        vertical-align: middle;\n",
       "    }\n",
       "\n",
       "    .dataframe tbody tr th {\n",
       "        vertical-align: top;\n",
       "    }\n",
       "\n",
       "    .dataframe thead th {\n",
       "        text-align: right;\n",
       "    }\n",
       "</style>\n",
       "<table border=\"1\" class=\"dataframe\">\n",
       "  <thead>\n",
       "    <tr style=\"text-align: right;\">\n",
       "      <th></th>\n",
       "      <th>Укажите ваш город</th>\n",
       "      <th>Жен., %</th>\n",
       "    </tr>\n",
       "  </thead>\n",
       "  <tbody>\n",
       "    <tr>\n",
       "      <th>0</th>\n",
       "      <td>Москва</td>\n",
       "      <td>21.4</td>\n",
       "    </tr>\n",
       "    <tr>\n",
       "      <th>1</th>\n",
       "      <td>Новосибирск</td>\n",
       "      <td>10.7</td>\n",
       "    </tr>\n",
       "    <tr>\n",
       "      <th>2</th>\n",
       "      <td>Севастополь</td>\n",
       "      <td>7.1</td>\n",
       "    </tr>\n",
       "    <tr>\n",
       "      <th>3</th>\n",
       "      <td>Ростов-на-Дону</td>\n",
       "      <td>7.1</td>\n",
       "    </tr>\n",
       "    <tr>\n",
       "      <th>4</th>\n",
       "      <td>Чехов</td>\n",
       "      <td>3.6</td>\n",
       "    </tr>\n",
       "    <tr>\n",
       "      <th>5</th>\n",
       "      <td>Муром</td>\n",
       "      <td>3.6</td>\n",
       "    </tr>\n",
       "    <tr>\n",
       "      <th>6</th>\n",
       "      <td>Братск</td>\n",
       "      <td>3.6</td>\n",
       "    </tr>\n",
       "    <tr>\n",
       "      <th>7</th>\n",
       "      <td>Владимир</td>\n",
       "      <td>3.6</td>\n",
       "    </tr>\n",
       "    <tr>\n",
       "      <th>8</th>\n",
       "      <td>Ижевск</td>\n",
       "      <td>3.6</td>\n",
       "    </tr>\n",
       "    <tr>\n",
       "      <th>9</th>\n",
       "      <td>Кемерово</td>\n",
       "      <td>3.6</td>\n",
       "    </tr>\n",
       "  </tbody>\n",
       "</table>\n",
       "</div>"
      ],
      "text/plain": [
       "  Укажите ваш город  Жен., %\n",
       "0            Москва     21.4\n",
       "1       Новосибирск     10.7\n",
       "2       Севастополь      7.1\n",
       "3    Ростов-на-Дону      7.1\n",
       "4            Чехов       3.6\n",
       "5             Муром      3.6\n",
       "6            Братск      3.6\n",
       "7          Владимир      3.6\n",
       "8            Ижевск      3.6\n",
       "9          Кемерово      3.6"
      ]
     },
     "execution_count": 98,
     "metadata": {},
     "output_type": "execute_result"
    }
   ],
   "source": [
    "f_40_49_City = round(f_40_49.iloc[:,[3]].value_counts() / f_40_49.iloc[:,[3]].value_counts().sum() * 100, 1).reset_index()\n",
    "f_40_49_City.columns = ['Укажите ваш город', 'Жен., %']\n",
    "f_40_49_City.head(10)"
   ]
  },
  {
   "cell_type": "markdown",
   "metadata": {},
   "source": [
    "### Женщины в возрасте 40-49 лет, проживающие в Москве, Новосибирске, Севастополе и Ростове-на-Дону  (?, >5%)"
   ]
  },
  {
   "cell_type": "code",
   "execution_count": 99,
   "metadata": {},
   "outputs": [],
   "source": [
    "df_f_40_49_Four_City = df.loc[(df['Укажите ваш возраст'] == '23-29 лет') & (df['Укажите ваш пол'] == 'Женский') & (df['Укажите ваш город'].isin(['Москва', 'Севастополь', 'Ростове-на-Дону', 'Новосибирск']))]"
   ]
  },
  {
   "cell_type": "code",
   "execution_count": 100,
   "metadata": {},
   "outputs": [
    {
     "data": {
      "text/html": [
       "<div>\n",
       "<style scoped>\n",
       "    .dataframe tbody tr th:only-of-type {\n",
       "        vertical-align: middle;\n",
       "    }\n",
       "\n",
       "    .dataframe tbody tr th {\n",
       "        vertical-align: top;\n",
       "    }\n",
       "\n",
       "    .dataframe thead th {\n",
       "        text-align: right;\n",
       "    }\n",
       "</style>\n",
       "<table border=\"1\" class=\"dataframe\">\n",
       "  <thead>\n",
       "    <tr style=\"text-align: right;\">\n",
       "      <th></th>\n",
       "      <th>Какая цветовая гамма интернет-магазина вам нравится?</th>\n",
       "      <th>%</th>\n",
       "    </tr>\n",
       "  </thead>\n",
       "  <tbody>\n",
       "    <tr>\n",
       "      <th>0</th>\n",
       "      <td>Яркая (синий, красный, зеленый и тд.)</td>\n",
       "      <td>33.3</td>\n",
       "    </tr>\n",
       "    <tr>\n",
       "      <th>1</th>\n",
       "      <td>Сдержанные оттенки (белый, черный, серый)</td>\n",
       "      <td>33.3</td>\n",
       "    </tr>\n",
       "    <tr>\n",
       "      <th>2</th>\n",
       "      <td>Неважно</td>\n",
       "      <td>33.3</td>\n",
       "    </tr>\n",
       "  </tbody>\n",
       "</table>\n",
       "</div>"
      ],
      "text/plain": [
       "  Какая цветовая гамма интернет-магазина вам нравится?     %\n",
       "0              Яркая (синий, красный, зеленый и тд.)    33.3\n",
       "1          Сдержанные оттенки (белый, черный, серый)    33.3\n",
       "2                                            Неважно    33.3"
      ]
     },
     "execution_count": 100,
     "metadata": {},
     "output_type": "execute_result"
    }
   ],
   "source": [
    "df_f_40_49_Four_City_4 = round(df_f_40_49_Four_City.iloc[:,[4]].value_counts() / df_f_40_49_Four_City.iloc[:,[4]].value_counts().sum() * 100, 1).reset_index()\n",
    "df_f_40_49_Four_City_4.columns = ['Какая цветовая гамма интернет-магазина вам нравится?', '%']\n",
    "df_f_40_49_Four_City_4"
   ]
  },
  {
   "cell_type": "code",
   "execution_count": 101,
   "metadata": {},
   "outputs": [
    {
     "name": "stdout",
     "output_type": "stream",
     "text": [
      "Доверительный интервал: (33.3, 33.3, 33.3)\n"
     ]
    }
   ],
   "source": [
    "print('Доверительный интервал:', mean_confidence_interval(df_f_40_49_Four_City_4['%'], 0.999))"
   ]
  },
  {
   "cell_type": "code",
   "execution_count": null,
   "metadata": {},
   "outputs": [],
   "source": [
    "\n",
    "\n"
   ]
  },
  {
   "cell_type": "code",
   "execution_count": 102,
   "metadata": {},
   "outputs": [
    {
     "data": {
      "text/html": [
       "<div>\n",
       "<style scoped>\n",
       "    .dataframe tbody tr th:only-of-type {\n",
       "        vertical-align: middle;\n",
       "    }\n",
       "\n",
       "    .dataframe tbody tr th {\n",
       "        vertical-align: top;\n",
       "    }\n",
       "\n",
       "    .dataframe thead th {\n",
       "        text-align: right;\n",
       "    }\n",
       "</style>\n",
       "<table border=\"1\" class=\"dataframe\">\n",
       "  <thead>\n",
       "    <tr style=\"text-align: right;\">\n",
       "      <th></th>\n",
       "      <th>Сколько по времени вы готовы ждать свой заказ?</th>\n",
       "      <th>%</th>\n",
       "    </tr>\n",
       "  </thead>\n",
       "  <tbody>\n",
       "    <tr>\n",
       "      <th>0</th>\n",
       "      <td>4-7 рабочих дней</td>\n",
       "      <td>50.0</td>\n",
       "    </tr>\n",
       "    <tr>\n",
       "      <th>1</th>\n",
       "      <td>1-3 рабочих дня</td>\n",
       "      <td>41.7</td>\n",
       "    </tr>\n",
       "    <tr>\n",
       "      <th>2</th>\n",
       "      <td>Неважно</td>\n",
       "      <td>8.3</td>\n",
       "    </tr>\n",
       "  </tbody>\n",
       "</table>\n",
       "</div>"
      ],
      "text/plain": [
       "  Сколько по времени вы готовы ждать свой заказ?     %\n",
       "0                               4-7 рабочих дней  50.0\n",
       "1                                1-3 рабочих дня  41.7\n",
       "2                                        Неважно   8.3"
      ]
     },
     "execution_count": 102,
     "metadata": {},
     "output_type": "execute_result"
    }
   ],
   "source": [
    "df_f_40_49_Four_City_5 = round(df_f_40_49_Four_City.iloc[:,[5]].value_counts() / df_f_40_49_Four_City.iloc[:,[5]].value_counts().sum() * 100, 1).reset_index()\n",
    "df_f_40_49_Four_City_5.columns = ['Сколько по времени вы готовы ждать свой заказ?', '%']\n",
    "df_f_40_49_Four_City_5"
   ]
  },
  {
   "cell_type": "code",
   "execution_count": 103,
   "metadata": {},
   "outputs": [
    {
     "name": "stdout",
     "output_type": "stream",
     "text": [
      "Доверительный интервал: (8.368545832675892, 33.333333333333336, 58.29812083399078)\n"
     ]
    }
   ],
   "source": [
    "print('Доверительный интервал:', mean_confidence_interval(df_f_40_49_Four_City_5['%'], 0.855))"
   ]
  },
  {
   "cell_type": "code",
   "execution_count": null,
   "metadata": {},
   "outputs": [],
   "source": [
    "\n"
   ]
  },
  {
   "cell_type": "code",
   "execution_count": 104,
   "metadata": {},
   "outputs": [
    {
     "data": {
      "text/html": [
       "<div>\n",
       "<style scoped>\n",
       "    .dataframe tbody tr th:only-of-type {\n",
       "        vertical-align: middle;\n",
       "    }\n",
       "\n",
       "    .dataframe tbody tr th {\n",
       "        vertical-align: top;\n",
       "    }\n",
       "\n",
       "    .dataframe thead th {\n",
       "        text-align: right;\n",
       "    }\n",
       "</style>\n",
       "<table border=\"1\" class=\"dataframe\">\n",
       "  <thead>\n",
       "    <tr style=\"text-align: right;\">\n",
       "      <th></th>\n",
       "      <th>Что из перечисленного могло бы мотивировать вас к покупке?</th>\n",
       "      <th>%</th>\n",
       "    </tr>\n",
       "  </thead>\n",
       "  <tbody>\n",
       "    <tr>\n",
       "      <th>0</th>\n",
       "      <td>Скидка</td>\n",
       "      <td>41.7</td>\n",
       "    </tr>\n",
       "    <tr>\n",
       "      <th>1</th>\n",
       "      <td>Наличие промокода, Скидка, Система лояльности</td>\n",
       "      <td>16.7</td>\n",
       "    </tr>\n",
       "    <tr>\n",
       "      <th>2</th>\n",
       "      <td>Наличие промокода, Скидка</td>\n",
       "      <td>16.7</td>\n",
       "    </tr>\n",
       "    <tr>\n",
       "      <th>3</th>\n",
       "      <td>Наличие промокода</td>\n",
       "      <td>16.7</td>\n",
       "    </tr>\n",
       "    <tr>\n",
       "      <th>4</th>\n",
       "      <td>Скидка, Система лояльности</td>\n",
       "      <td>8.3</td>\n",
       "    </tr>\n",
       "  </tbody>\n",
       "</table>\n",
       "</div>"
      ],
      "text/plain": [
       "  Что из перечисленного могло бы мотивировать вас к покупке?     %\n",
       "0                                             Скидка          41.7\n",
       "1      Наличие промокода, Скидка, Система лояльности          16.7\n",
       "2                          Наличие промокода, Скидка          16.7\n",
       "3                                  Наличие промокода          16.7\n",
       "4                         Скидка, Система лояльности           8.3"
      ]
     },
     "execution_count": 104,
     "metadata": {},
     "output_type": "execute_result"
    }
   ],
   "source": [
    "df_f_40_49_Four_City_6 = round(df_f_40_49_Four_City.iloc[:,[6]].value_counts() / df_f_40_49_Four_City.iloc[:,[6]].value_counts().sum() * 100, 1).reset_index()\n",
    "df_f_40_49_Four_City_6.columns = ['Что из перечисленного могло бы мотивировать вас к покупке?', '%']\n",
    "df_f_40_49_Four_City_6"
   ]
  },
  {
   "cell_type": "code",
   "execution_count": 105,
   "metadata": {},
   "outputs": [
    {
     "name": "stdout",
     "output_type": "stream",
     "text": [
      "Доверительный интервал: (8.389411583929725, 20.020000000000003, 31.65058841607028)\n"
     ]
    }
   ],
   "source": [
    "print('Доверительный интервал:', mean_confidence_interval(df_f_40_49_Four_City_6['%'], 0.905))"
   ]
  },
  {
   "cell_type": "code",
   "execution_count": null,
   "metadata": {},
   "outputs": [],
   "source": [
    "\n"
   ]
  },
  {
   "cell_type": "code",
   "execution_count": 106,
   "metadata": {},
   "outputs": [
    {
     "data": {
      "text/html": [
       "<div>\n",
       "<style scoped>\n",
       "    .dataframe tbody tr th:only-of-type {\n",
       "        vertical-align: middle;\n",
       "    }\n",
       "\n",
       "    .dataframe tbody tr th {\n",
       "        vertical-align: top;\n",
       "    }\n",
       "\n",
       "    .dataframe thead th {\n",
       "        text-align: right;\n",
       "    }\n",
       "</style>\n",
       "<table border=\"1\" class=\"dataframe\">\n",
       "  <thead>\n",
       "    <tr style=\"text-align: right;\">\n",
       "      <th></th>\n",
       "      <th>Как долго вы готовы ждать ответа от менеджера  по вашему заказу?</th>\n",
       "      <th>%</th>\n",
       "    </tr>\n",
       "  </thead>\n",
       "  <tbody>\n",
       "    <tr>\n",
       "      <th>0</th>\n",
       "      <td>1-3 часа</td>\n",
       "      <td>58.3</td>\n",
       "    </tr>\n",
       "    <tr>\n",
       "      <th>1</th>\n",
       "      <td>В течение суток</td>\n",
       "      <td>25.0</td>\n",
       "    </tr>\n",
       "    <tr>\n",
       "      <th>2</th>\n",
       "      <td>В течение часа</td>\n",
       "      <td>16.7</td>\n",
       "    </tr>\n",
       "  </tbody>\n",
       "</table>\n",
       "</div>"
      ],
      "text/plain": [
       "  Как долго вы готовы ждать ответа от менеджера  по вашему заказу?     %\n",
       "0                                           1-3 часа                58.3\n",
       "1                                    В течение суток                25.0\n",
       "2                                     В течение часа                16.7"
      ]
     },
     "execution_count": 106,
     "metadata": {},
     "output_type": "execute_result"
    }
   ],
   "source": [
    "df_f_40_49_Four_City_7 = round(df_f_40_49_Four_City.iloc[:,[7]].value_counts() / df_f_40_49_Four_City.iloc[:,[7]].value_counts().sum() * 100, 1).reset_index()\n",
    "df_f_40_49_Four_City_7.columns = ['Как долго вы готовы ждать ответа от менеджера  по вашему заказу?', '%']\n",
    "df_f_40_49_Four_City_7"
   ]
  },
  {
   "cell_type": "code",
   "execution_count": 107,
   "metadata": {},
   "outputs": [
    {
     "name": "stdout",
     "output_type": "stream",
     "text": [
      "Доверительный интервал: (16.83126315832826, 33.333333333333336, 49.835403508338416)\n"
     ]
    }
   ],
   "source": [
    "print('Доверительный интервал:', mean_confidence_interval(df_f_40_49_Four_City_7['%'], 0.715))"
   ]
  },
  {
   "cell_type": "code",
   "execution_count": null,
   "metadata": {},
   "outputs": [],
   "source": [
    "\n"
   ]
  },
  {
   "cell_type": "code",
   "execution_count": 108,
   "metadata": {},
   "outputs": [
    {
     "data": {
      "text/html": [
       "<div>\n",
       "<style scoped>\n",
       "    .dataframe tbody tr th:only-of-type {\n",
       "        vertical-align: middle;\n",
       "    }\n",
       "\n",
       "    .dataframe tbody tr th {\n",
       "        vertical-align: top;\n",
       "    }\n",
       "\n",
       "    .dataframe thead th {\n",
       "        text-align: right;\n",
       "    }\n",
       "</style>\n",
       "<table border=\"1\" class=\"dataframe\">\n",
       "  <thead>\n",
       "    <tr style=\"text-align: right;\">\n",
       "      <th></th>\n",
       "      <th>Какой способ обратной связи с менеджером вам наиболее удобен?</th>\n",
       "      <th>%</th>\n",
       "    </tr>\n",
       "  </thead>\n",
       "  <tbody>\n",
       "    <tr>\n",
       "      <th>0</th>\n",
       "      <td>Получить ответ в мессенджере/в соцсетях</td>\n",
       "      <td>33.3</td>\n",
       "    </tr>\n",
       "    <tr>\n",
       "      <th>1</th>\n",
       "      <td>Получить ответ на телефон (звонок), Получить о...</td>\n",
       "      <td>16.7</td>\n",
       "    </tr>\n",
       "    <tr>\n",
       "      <th>2</th>\n",
       "      <td>Получить ответ на почту, Получить ответ на тел...</td>\n",
       "      <td>16.7</td>\n",
       "    </tr>\n",
       "    <tr>\n",
       "      <th>3</th>\n",
       "      <td>Получить ответ на почту, Получить ответ на тел...</td>\n",
       "      <td>16.7</td>\n",
       "    </tr>\n",
       "    <tr>\n",
       "      <th>4</th>\n",
       "      <td>На самом сайте (чат), Получить ответ на телефо...</td>\n",
       "      <td>8.3</td>\n",
       "    </tr>\n",
       "    <tr>\n",
       "      <th>5</th>\n",
       "      <td>На самом сайте (чат), Получить ответ на почту,...</td>\n",
       "      <td>8.3</td>\n",
       "    </tr>\n",
       "  </tbody>\n",
       "</table>\n",
       "</div>"
      ],
      "text/plain": [
       "  Какой способ обратной связи с менеджером вам наиболее удобен?     %\n",
       "0            Получить ответ в мессенджере/в соцсетях             33.3\n",
       "1  Получить ответ на телефон (звонок), Получить о...             16.7\n",
       "2  Получить ответ на почту, Получить ответ на тел...             16.7\n",
       "3  Получить ответ на почту, Получить ответ на тел...             16.7\n",
       "4  На самом сайте (чат), Получить ответ на телефо...              8.3\n",
       "5  На самом сайте (чат), Получить ответ на почту,...              8.3"
      ]
     },
     "execution_count": 108,
     "metadata": {},
     "output_type": "execute_result"
    }
   ],
   "source": [
    "df_f_40_49_Four_City_8 = round(df_f_40_49_Four_City.iloc[:,[8]].value_counts() / df_f_40_49_Four_City.iloc[:,[8]].value_counts().sum() * 100, 1).reset_index()\n",
    "df_f_40_49_Four_City_8.columns = ['Какой способ обратной связи с менеджером вам наиболее удобен?', '%']\n",
    "df_f_40_49_Four_City_8"
   ]
  },
  {
   "cell_type": "code",
   "execution_count": 109,
   "metadata": {},
   "outputs": [
    {
     "name": "stdout",
     "output_type": "stream",
     "text": [
      "Доверительный интервал: (8.463738732253839, 16.666666666666668, 24.8695946010795)\n"
     ]
    }
   ],
   "source": [
    "print('Доверительный интервал:', mean_confidence_interval(df_f_40_49_Four_City_8['%'], 0.93))"
   ]
  },
  {
   "cell_type": "code",
   "execution_count": null,
   "metadata": {},
   "outputs": [],
   "source": [
    "\n"
   ]
  },
  {
   "cell_type": "code",
   "execution_count": 110,
   "metadata": {},
   "outputs": [
    {
     "data": {
      "text/html": [
       "<div>\n",
       "<style scoped>\n",
       "    .dataframe tbody tr th:only-of-type {\n",
       "        vertical-align: middle;\n",
       "    }\n",
       "\n",
       "    .dataframe tbody tr th {\n",
       "        vertical-align: top;\n",
       "    }\n",
       "\n",
       "    .dataframe thead th {\n",
       "        text-align: right;\n",
       "    }\n",
       "</style>\n",
       "<table border=\"1\" class=\"dataframe\">\n",
       "  <thead>\n",
       "    <tr style=\"text-align: right;\">\n",
       "      <th></th>\n",
       "      <th>Вы когда-нибудь покупали мерч?</th>\n",
       "      <th>%</th>\n",
       "    </tr>\n",
       "  </thead>\n",
       "  <tbody>\n",
       "    <tr>\n",
       "      <th>0</th>\n",
       "      <td>Да</td>\n",
       "      <td>91.7</td>\n",
       "    </tr>\n",
       "    <tr>\n",
       "      <th>1</th>\n",
       "      <td>Нет, но планирую</td>\n",
       "      <td>8.3</td>\n",
       "    </tr>\n",
       "  </tbody>\n",
       "</table>\n",
       "</div>"
      ],
      "text/plain": [
       "  Вы когда-нибудь покупали мерч?     %\n",
       "0                             Да  91.7\n",
       "1               Нет, но планирую   8.3"
      ]
     },
     "execution_count": 110,
     "metadata": {},
     "output_type": "execute_result"
    }
   ],
   "source": [
    "df_f_40_49_Four_City_9 = round(df_f_40_49_Four_City.iloc[:,[9]].value_counts() / df_f_40_49_Four_City.iloc[:,[9]].value_counts().sum() * 100, 1).reset_index()\n",
    "df_f_40_49_Four_City_9.columns = ['Вы когда-нибудь покупали мерч?', '%']\n",
    "df_f_40_49_Four_City_9"
   ]
  },
  {
   "cell_type": "code",
   "execution_count": 111,
   "metadata": {},
   "outputs": [
    {
     "name": "stdout",
     "output_type": "stream",
     "text": [
      "Доверительный интервал: (8.553853916074594, 50.0, 91.44614608392541)\n"
     ]
    }
   ],
   "source": [
    "print('Доверительный интервал:', mean_confidence_interval(df_f_40_49_Four_City_9['%'], 0.575))"
   ]
  },
  {
   "cell_type": "code",
   "execution_count": null,
   "metadata": {},
   "outputs": [],
   "source": [
    "\n"
   ]
  },
  {
   "cell_type": "code",
   "execution_count": 112,
   "metadata": {},
   "outputs": [
    {
     "data": {
      "text/html": [
       "<div>\n",
       "<style scoped>\n",
       "    .dataframe tbody tr th:only-of-type {\n",
       "        vertical-align: middle;\n",
       "    }\n",
       "\n",
       "    .dataframe tbody tr th {\n",
       "        vertical-align: top;\n",
       "    }\n",
       "\n",
       "    .dataframe thead th {\n",
       "        text-align: right;\n",
       "    }\n",
       "</style>\n",
       "<table border=\"1\" class=\"dataframe\">\n",
       "  <thead>\n",
       "    <tr style=\"text-align: right;\">\n",
       "      <th></th>\n",
       "      <th>Вам важно, какого размера будет логотип на мерче?</th>\n",
       "      <th>%</th>\n",
       "    </tr>\n",
       "  </thead>\n",
       "  <tbody>\n",
       "    <tr>\n",
       "      <th>0</th>\n",
       "      <td>Нет, мне неважно, какого размера будет логотип</td>\n",
       "      <td>50.0</td>\n",
       "    </tr>\n",
       "    <tr>\n",
       "      <th>1</th>\n",
       "      <td>Не люблю, когда на мерче есть логотип</td>\n",
       "      <td>25.0</td>\n",
       "    </tr>\n",
       "    <tr>\n",
       "      <th>2</th>\n",
       "      <td>Да, нравится, когда логотип маленького размера</td>\n",
       "      <td>25.0</td>\n",
       "    </tr>\n",
       "  </tbody>\n",
       "</table>\n",
       "</div>"
      ],
      "text/plain": [
       "  Вам важно, какого размера будет логотип на мерче?     %\n",
       "0    Нет, мне неважно, какого размера будет логотип  50.0\n",
       "1             Не люблю, когда на мерче есть логотип  25.0\n",
       "2    Да, нравится, когда логотип маленького размера  25.0"
      ]
     },
     "execution_count": 112,
     "metadata": {},
     "output_type": "execute_result"
    }
   ],
   "source": [
    "df_f_40_49_Four_City_10 = round(df_f_40_49_Four_City.iloc[:,[10]].value_counts() / df_f_40_49_Four_City.iloc[:,[10]].value_counts().sum() * 100, 1).reset_index()\n",
    "df_f_40_49_Four_City_10.columns = ['Вам важно, какого размера будет логотип на мерче?', '%']\n",
    "df_f_40_49_Four_City_10"
   ]
  },
  {
   "cell_type": "code",
   "execution_count": 113,
   "metadata": {},
   "outputs": [
    {
     "name": "stdout",
     "output_type": "stream",
     "text": [
      "Доверительный интервал: (25.08018222488541, 33.333333333333336, 41.586484441781266)\n"
     ]
    }
   ],
   "source": [
    "print('Доверительный интервал:', mean_confidence_interval(df_f_40_49_Four_City_10['%'], 0.605))"
   ]
  },
  {
   "cell_type": "code",
   "execution_count": null,
   "metadata": {},
   "outputs": [],
   "source": [
    "\n"
   ]
  },
  {
   "cell_type": "code",
   "execution_count": 114,
   "metadata": {},
   "outputs": [
    {
     "data": {
      "text/html": [
       "<div>\n",
       "<style scoped>\n",
       "    .dataframe tbody tr th:only-of-type {\n",
       "        vertical-align: middle;\n",
       "    }\n",
       "\n",
       "    .dataframe tbody tr th {\n",
       "        vertical-align: top;\n",
       "    }\n",
       "\n",
       "    .dataframe thead th {\n",
       "        text-align: right;\n",
       "    }\n",
       "</style>\n",
       "<table border=\"1\" class=\"dataframe\">\n",
       "  <thead>\n",
       "    <tr style=\"text-align: right;\">\n",
       "      <th></th>\n",
       "      <th>Какой мерч вам интереснее всего?</th>\n",
       "      <th>%</th>\n",
       "    </tr>\n",
       "  </thead>\n",
       "  <tbody>\n",
       "    <tr>\n",
       "      <th>0</th>\n",
       "      <td>Одежда (футболки, худи и др.)</td>\n",
       "      <td>33.3</td>\n",
       "    </tr>\n",
       "    <tr>\n",
       "      <th>1</th>\n",
       "      <td>Аксессуары (шоперы, шарфы и др.)</td>\n",
       "      <td>33.3</td>\n",
       "    </tr>\n",
       "    <tr>\n",
       "      <th>2</th>\n",
       "      <td>Канцтовары (блокноты, ручки, стикеры и др.)</td>\n",
       "      <td>25.0</td>\n",
       "    </tr>\n",
       "    <tr>\n",
       "      <th>3</th>\n",
       "      <td>Посуда (кружки, термокружки и др.)</td>\n",
       "      <td>8.3</td>\n",
       "    </tr>\n",
       "  </tbody>\n",
       "</table>\n",
       "</div>"
      ],
      "text/plain": [
       "              Какой мерч вам интереснее всего?     %\n",
       "0                Одежда (футболки, худи и др.)  33.3\n",
       "1             Аксессуары (шоперы, шарфы и др.)  33.3\n",
       "2  Канцтовары (блокноты, ручки, стикеры и др.)  25.0\n",
       "3           Посуда (кружки, термокружки и др.)   8.3"
      ]
     },
     "execution_count": 114,
     "metadata": {},
     "output_type": "execute_result"
    }
   ],
   "source": [
    "df_f_40_49_Four_City_11 = round(df_f_40_49_Four_City.iloc[:,[11]].value_counts() / df_f_40_49_Four_City.iloc[:,[11]].value_counts().sum() * 100, 1).reset_index()\n",
    "df_f_40_49_Four_City_11.columns = ['Какой мерч вам интереснее всего?', '%']\n",
    "df_f_40_49_Four_City_11"
   ]
  },
  {
   "cell_type": "code",
   "execution_count": 115,
   "metadata": {},
   "outputs": [
    {
     "name": "stdout",
     "output_type": "stream",
     "text": [
      "Доверительный интервал: (8.61462396066883, 24.974999999999998, 41.335376039331166)\n"
     ]
    }
   ],
   "source": [
    "print('Доверительный интервал:', mean_confidence_interval(df_f_40_49_Four_City_11['%'], 0.95))"
   ]
  },
  {
   "cell_type": "code",
   "execution_count": null,
   "metadata": {},
   "outputs": [],
   "source": [
    "\n"
   ]
  },
  {
   "cell_type": "code",
   "execution_count": 116,
   "metadata": {},
   "outputs": [
    {
     "data": {
      "text/html": [
       "<div>\n",
       "<style scoped>\n",
       "    .dataframe tbody tr th:only-of-type {\n",
       "        vertical-align: middle;\n",
       "    }\n",
       "\n",
       "    .dataframe tbody tr th {\n",
       "        vertical-align: top;\n",
       "    }\n",
       "\n",
       "    .dataframe thead th {\n",
       "        text-align: right;\n",
       "    }\n",
       "</style>\n",
       "<table border=\"1\" class=\"dataframe\">\n",
       "  <thead>\n",
       "    <tr style=\"text-align: right;\">\n",
       "      <th></th>\n",
       "      <th>Вам был бы интересен мерч без логотипа, который отражал бы философию конкретного бренда? Пример - футболки с надписью \"Иноагент\", выпущенные \"Медузой\" совместно с другими брендами</th>\n",
       "      <th>%</th>\n",
       "    </tr>\n",
       "  </thead>\n",
       "  <tbody>\n",
       "    <tr>\n",
       "      <th>0</th>\n",
       "      <td>Да</td>\n",
       "      <td>83.3</td>\n",
       "    </tr>\n",
       "    <tr>\n",
       "      <th>1</th>\n",
       "      <td>Нет</td>\n",
       "      <td>16.7</td>\n",
       "    </tr>\n",
       "  </tbody>\n",
       "</table>\n",
       "</div>"
      ],
      "text/plain": [
       "  Вам был бы интересен мерч без логотипа, который отражал бы философию конкретного бренда? Пример - футболки с надписью \"Иноагент\", выпущенные \"Медузой\" совместно с другими брендами  \\\n",
       "0                                                 Да                                                                                                                                    \n",
       "1                                                Нет                                                                                                                                    \n",
       "\n",
       "      %  \n",
       "0  83.3  \n",
       "1  16.7  "
      ]
     },
     "execution_count": 116,
     "metadata": {},
     "output_type": "execute_result"
    }
   ],
   "source": [
    "df_f_40_49_Four_City_12 = round(df_f_40_49_Four_City.iloc[:,[12]].value_counts() / df_f_40_49_Four_City.iloc[:,[12]].value_counts().sum() * 100, 1).reset_index()\n",
    "df_f_40_49_Four_City_12.columns = ['Вам был бы интересен мерч без логотипа, который отражал бы философию конкретного бренда? Пример - футболки с надписью \"Иноагент\", выпущенные \"Медузой\" совместно с другими брендами', '%']\n",
    "df_f_40_49_Four_City_12"
   ]
  },
  {
   "cell_type": "code",
   "execution_count": 117,
   "metadata": {},
   "outputs": [
    {
     "name": "stdout",
     "output_type": "stream",
     "text": [
      "Доверительный интервал: (16.902717875426475, 50.0, 83.09728212457352)\n"
     ]
    }
   ],
   "source": [
    "print('Доверительный интервал:', mean_confidence_interval(df_f_40_49_Four_City_12['%'], 0.575))"
   ]
  },
  {
   "cell_type": "code",
   "execution_count": null,
   "metadata": {},
   "outputs": [],
   "source": [
    "\n"
   ]
  },
  {
   "cell_type": "code",
   "execution_count": 118,
   "metadata": {},
   "outputs": [
    {
     "data": {
      "text/html": [
       "<div>\n",
       "<style scoped>\n",
       "    .dataframe tbody tr th:only-of-type {\n",
       "        vertical-align: middle;\n",
       "    }\n",
       "\n",
       "    .dataframe tbody tr th {\n",
       "        vertical-align: top;\n",
       "    }\n",
       "\n",
       "    .dataframe thead th {\n",
       "        text-align: right;\n",
       "    }\n",
       "</style>\n",
       "<table border=\"1\" class=\"dataframe\">\n",
       "  <thead>\n",
       "    <tr style=\"text-align: right;\">\n",
       "      <th></th>\n",
       "      <th>Вам нравятся цитаты в виде принта на мерче?</th>\n",
       "      <th>%</th>\n",
       "    </tr>\n",
       "  </thead>\n",
       "  <tbody>\n",
       "    <tr>\n",
       "      <th>0</th>\n",
       "      <td>Да</td>\n",
       "      <td>83.3</td>\n",
       "    </tr>\n",
       "    <tr>\n",
       "      <th>1</th>\n",
       "      <td>Нет</td>\n",
       "      <td>16.7</td>\n",
       "    </tr>\n",
       "  </tbody>\n",
       "</table>\n",
       "</div>"
      ],
      "text/plain": [
       "  Вам нравятся цитаты в виде принта на мерче?     %\n",
       "0                                          Да  83.3\n",
       "1                                         Нет  16.7"
      ]
     },
     "execution_count": 118,
     "metadata": {},
     "output_type": "execute_result"
    }
   ],
   "source": [
    "df_f_40_49_Four_City_13 = round(df_f_40_49_Four_City.iloc[:,[13]].value_counts() / df_f_40_49_Four_City.iloc[:,[13]].value_counts().sum() * 100, 1).reset_index()\n",
    "df_f_40_49_Four_City_13.columns = ['Вам нравятся цитаты в виде принта на мерче?', '%']\n",
    "df_f_40_49_Four_City_13"
   ]
  },
  {
   "cell_type": "code",
   "execution_count": 119,
   "metadata": {},
   "outputs": [
    {
     "name": "stdout",
     "output_type": "stream",
     "text": [
      "Доверительный интервал: (16.902717875426475, 50.0, 83.09728212457352)\n"
     ]
    }
   ],
   "source": [
    "print('Доверительный интервал:', mean_confidence_interval(df_f_40_49_Four_City_13['%'], 0.575))"
   ]
  },
  {
   "cell_type": "code",
   "execution_count": null,
   "metadata": {},
   "outputs": [],
   "source": [
    "\n"
   ]
  },
  {
   "cell_type": "code",
   "execution_count": 120,
   "metadata": {},
   "outputs": [
    {
     "data": {
      "text/html": [
       "<div>\n",
       "<style scoped>\n",
       "    .dataframe tbody tr th:only-of-type {\n",
       "        vertical-align: middle;\n",
       "    }\n",
       "\n",
       "    .dataframe tbody tr th {\n",
       "        vertical-align: top;\n",
       "    }\n",
       "\n",
       "    .dataframe thead th {\n",
       "        text-align: right;\n",
       "    }\n",
       "</style>\n",
       "<table border=\"1\" class=\"dataframe\">\n",
       "  <thead>\n",
       "    <tr style=\"text-align: right;\">\n",
       "      <th></th>\n",
       "      <th>Как вы относитесь к юмористическим цитатам на мерче?</th>\n",
       "      <th>%</th>\n",
       "    </tr>\n",
       "  </thead>\n",
       "  <tbody>\n",
       "    <tr>\n",
       "      <th>0</th>\n",
       "      <td>Нравится</td>\n",
       "      <td>83.3</td>\n",
       "    </tr>\n",
       "    <tr>\n",
       "      <th>1</th>\n",
       "      <td>Не нравится</td>\n",
       "      <td>16.7</td>\n",
       "    </tr>\n",
       "  </tbody>\n",
       "</table>\n",
       "</div>"
      ],
      "text/plain": [
       "  Как вы относитесь к юмористическим цитатам на мерче?     %\n",
       "0                                           Нравится    83.3\n",
       "1                                        Не нравится    16.7"
      ]
     },
     "execution_count": 120,
     "metadata": {},
     "output_type": "execute_result"
    }
   ],
   "source": [
    "df_f_40_49_Four_City_14 = round(df_f_40_49_Four_City.iloc[:,[14]].value_counts() / df_f_40_49_Four_City.iloc[:,[14]].value_counts().sum() * 100, 1).reset_index()\n",
    "df_f_40_49_Four_City_14.columns = ['Как вы относитесь к юмористическим цитатам на мерче?', '%']\n",
    "df_f_40_49_Four_City_14"
   ]
  },
  {
   "cell_type": "code",
   "execution_count": 121,
   "metadata": {},
   "outputs": [
    {
     "name": "stdout",
     "output_type": "stream",
     "text": [
      "Доверительный интервал: (16.902717875426475, 50.0, 83.09728212457352)\n"
     ]
    }
   ],
   "source": [
    "print('Доверительный интервал:', mean_confidence_interval(df_f_40_49_Four_City_14['%'], 0.575))"
   ]
  },
  {
   "cell_type": "code",
   "execution_count": null,
   "metadata": {},
   "outputs": [],
   "source": [
    "\n"
   ]
  },
  {
   "cell_type": "code",
   "execution_count": 122,
   "metadata": {},
   "outputs": [
    {
     "data": {
      "text/html": [
       "<div>\n",
       "<style scoped>\n",
       "    .dataframe tbody tr th:only-of-type {\n",
       "        vertical-align: middle;\n",
       "    }\n",
       "\n",
       "    .dataframe tbody tr th {\n",
       "        vertical-align: top;\n",
       "    }\n",
       "\n",
       "    .dataframe thead th {\n",
       "        text-align: right;\n",
       "    }\n",
       "</style>\n",
       "<table border=\"1\" class=\"dataframe\">\n",
       "  <thead>\n",
       "    <tr style=\"text-align: right;\">\n",
       "      <th></th>\n",
       "      <th>Вы обычно покупаете мерч после важных мероприятий? Например, после концерта или интересной отраслевой конференции</th>\n",
       "      <th>%</th>\n",
       "    </tr>\n",
       "  </thead>\n",
       "  <tbody>\n",
       "    <tr>\n",
       "      <th>0</th>\n",
       "      <td>Да</td>\n",
       "      <td>75.0</td>\n",
       "    </tr>\n",
       "    <tr>\n",
       "      <th>1</th>\n",
       "      <td>Нет</td>\n",
       "      <td>16.7</td>\n",
       "    </tr>\n",
       "    <tr>\n",
       "      <th>2</th>\n",
       "      <td>Я никогда не покупал мерч</td>\n",
       "      <td>8.3</td>\n",
       "    </tr>\n",
       "  </tbody>\n",
       "</table>\n",
       "</div>"
      ],
      "text/plain": [
       "  Вы обычно покупаете мерч после важных мероприятий? Например, после концерта или интересной отраслевой конференции  \\\n",
       "0                                                 Да                                                                  \n",
       "1                                                Нет                                                                  \n",
       "2                          Я никогда не покупал мерч                                                                  \n",
       "\n",
       "      %  \n",
       "0  75.0  \n",
       "1  16.7  \n",
       "2   8.3  "
      ]
     },
     "execution_count": 122,
     "metadata": {},
     "output_type": "execute_result"
    }
   ],
   "source": [
    "df_f_40_49_Four_City_15 = round(df_f_40_49_Four_City.iloc[:,[15]].value_counts() / df_f_40_49_Four_City.iloc[:,[15]].value_counts().sum() * 100, 1).reset_index()\n",
    "df_f_40_49_Four_City_15.columns = ['Вы обычно покупаете мерч после важных мероприятий? Например, после концерта или интересной отраслевой конференции', '%']\n",
    "df_f_40_49_Four_City_15"
   ]
  },
  {
   "cell_type": "code",
   "execution_count": 123,
   "metadata": {},
   "outputs": [
    {
     "name": "stdout",
     "output_type": "stream",
     "text": [
      "Доверительный интервал: (8.396769593354527, 33.333333333333336, 58.269897073312144)\n"
     ]
    }
   ],
   "source": [
    "print('Доверительный интервал:', mean_confidence_interval(df_f_40_49_Four_City_15['%'], 0.68))"
   ]
  },
  {
   "cell_type": "code",
   "execution_count": null,
   "metadata": {},
   "outputs": [],
   "source": [
    "\n"
   ]
  },
  {
   "cell_type": "code",
   "execution_count": 124,
   "metadata": {},
   "outputs": [
    {
     "data": {
      "text/html": [
       "<div>\n",
       "<style scoped>\n",
       "    .dataframe tbody tr th:only-of-type {\n",
       "        vertical-align: middle;\n",
       "    }\n",
       "\n",
       "    .dataframe tbody tr th {\n",
       "        vertical-align: top;\n",
       "    }\n",
       "\n",
       "    .dataframe thead th {\n",
       "        text-align: right;\n",
       "    }\n",
       "</style>\n",
       "<table border=\"1\" class=\"dataframe\">\n",
       "  <thead>\n",
       "    <tr style=\"text-align: right;\">\n",
       "      <th></th>\n",
       "      <th>Вам важно, чтобы вы сами могли придумать свой дизайн для мерча: выбрать уникальное сочетание цвета и принта?</th>\n",
       "      <th>%</th>\n",
       "    </tr>\n",
       "  </thead>\n",
       "  <tbody>\n",
       "    <tr>\n",
       "      <th>0</th>\n",
       "      <td>Нет, дизайнерам виднее</td>\n",
       "      <td>83.3</td>\n",
       "    </tr>\n",
       "    <tr>\n",
       "      <th>1</th>\n",
       "      <td>Да, люблю эксперименты</td>\n",
       "      <td>16.7</td>\n",
       "    </tr>\n",
       "  </tbody>\n",
       "</table>\n",
       "</div>"
      ],
      "text/plain": [
       "  Вам важно, чтобы вы сами могли придумать свой дизайн для мерча: выбрать уникальное сочетание цвета и принта?  \\\n",
       "0                             Нет, дизайнерам виднее                                                             \n",
       "1                             Да, люблю эксперименты                                                             \n",
       "\n",
       "      %  \n",
       "0  83.3  \n",
       "1  16.7  "
      ]
     },
     "execution_count": 124,
     "metadata": {},
     "output_type": "execute_result"
    }
   ],
   "source": [
    "df_f_40_49_Four_City_16 = round(df_f_40_49_Four_City.iloc[:,[16]].value_counts() / df_f_40_49_Four_City.iloc[:,[16]].value_counts().sum() * 100, 1).reset_index()\n",
    "df_f_40_49_Four_City_16.columns = ['Вам важно, чтобы вы сами могли придумать свой дизайн для мерча: выбрать уникальное сочетание цвета и принта?', '%']\n",
    "df_f_40_49_Four_City_16"
   ]
  },
  {
   "cell_type": "code",
   "execution_count": 125,
   "metadata": {},
   "outputs": [
    {
     "name": "stdout",
     "output_type": "stream",
     "text": [
      "Доверительный интервал: (16.902717875426475, 50.0, 83.09728212457352)\n"
     ]
    }
   ],
   "source": [
    "print('Доверительный интервал:', mean_confidence_interval(df_f_40_49_Four_City_16['%'], 0.575))"
   ]
  },
  {
   "cell_type": "code",
   "execution_count": null,
   "metadata": {},
   "outputs": [],
   "source": [
    "\n"
   ]
  },
  {
   "cell_type": "code",
   "execution_count": 126,
   "metadata": {},
   "outputs": [
    {
     "data": {
      "text/html": [
       "<div>\n",
       "<style scoped>\n",
       "    .dataframe tbody tr th:only-of-type {\n",
       "        vertical-align: middle;\n",
       "    }\n",
       "\n",
       "    .dataframe tbody tr th {\n",
       "        vertical-align: top;\n",
       "    }\n",
       "\n",
       "    .dataframe thead th {\n",
       "        text-align: right;\n",
       "    }\n",
       "</style>\n",
       "<table border=\"1\" class=\"dataframe\">\n",
       "  <thead>\n",
       "    <tr style=\"text-align: right;\">\n",
       "      <th></th>\n",
       "      <th>Мерч в качестве бонуса мотивировал бы вас лучше учиться?</th>\n",
       "      <th>%</th>\n",
       "    </tr>\n",
       "  </thead>\n",
       "  <tbody>\n",
       "    <tr>\n",
       "      <th>0</th>\n",
       "      <td>Да</td>\n",
       "      <td>75.0</td>\n",
       "    </tr>\n",
       "    <tr>\n",
       "      <th>1</th>\n",
       "      <td>Нет</td>\n",
       "      <td>25.0</td>\n",
       "    </tr>\n",
       "  </tbody>\n",
       "</table>\n",
       "</div>"
      ],
      "text/plain": [
       "  Мерч в качестве бонуса мотивировал бы вас лучше учиться?     %\n",
       "0                                                 Да        75.0\n",
       "1                                                Нет        25.0"
      ]
     },
     "execution_count": 126,
     "metadata": {},
     "output_type": "execute_result"
    }
   ],
   "source": [
    "df_f_40_49_Four_City_17 = round(df_f_40_49_Four_City.iloc[:,[17]].value_counts() / df_f_40_49_Four_City.iloc[:,[17]].value_counts().sum() * 100, 1).reset_index()\n",
    "df_f_40_49_Four_City_17.columns = ['Мерч в качестве бонуса мотивировал бы вас лучше учиться?', '%']\n",
    "df_f_40_49_Four_City_17"
   ]
  },
  {
   "cell_type": "code",
   "execution_count": 127,
   "metadata": {},
   "outputs": [
    {
     "name": "stdout",
     "output_type": "stream",
     "text": [
      "Доверительный интервал: (25.152190597167024, 50.0, 74.84780940283298)\n"
     ]
    }
   ],
   "source": [
    "print('Доверительный интервал:', mean_confidence_interval(df_f_40_49_Four_City_17['%'], 0.575))"
   ]
  },
  {
   "cell_type": "code",
   "execution_count": null,
   "metadata": {},
   "outputs": [],
   "source": [
    "\n"
   ]
  },
  {
   "cell_type": "code",
   "execution_count": 128,
   "metadata": {},
   "outputs": [
    {
     "data": {
      "text/html": [
       "<div>\n",
       "<style scoped>\n",
       "    .dataframe tbody tr th:only-of-type {\n",
       "        vertical-align: middle;\n",
       "    }\n",
       "\n",
       "    .dataframe tbody tr th {\n",
       "        vertical-align: top;\n",
       "    }\n",
       "\n",
       "    .dataframe thead th {\n",
       "        text-align: right;\n",
       "    }\n",
       "</style>\n",
       "<table border=\"1\" class=\"dataframe\">\n",
       "  <thead>\n",
       "    <tr style=\"text-align: right;\">\n",
       "      <th></th>\n",
       "      <th>Вам важно, чтобы мерч был уникальным продуктом, который больше ни у кого не встретишь?</th>\n",
       "      <th>%</th>\n",
       "    </tr>\n",
       "  </thead>\n",
       "  <tbody>\n",
       "    <tr>\n",
       "      <th>0</th>\n",
       "      <td>Да</td>\n",
       "      <td>66.7</td>\n",
       "    </tr>\n",
       "    <tr>\n",
       "      <th>1</th>\n",
       "      <td>Нет</td>\n",
       "      <td>33.3</td>\n",
       "    </tr>\n",
       "  </tbody>\n",
       "</table>\n",
       "</div>"
      ],
      "text/plain": [
       "  Вам важно, чтобы мерч был уникальным продуктом, который больше ни у кого не встретишь?  \\\n",
       "0                                                 Да                                       \n",
       "1                                                Нет                                       \n",
       "\n",
       "      %  \n",
       "0  66.7  \n",
       "1  33.3  "
      ]
     },
     "execution_count": 128,
     "metadata": {},
     "output_type": "execute_result"
    }
   ],
   "source": [
    "df_f_40_49_Four_City_18 = round(df_f_40_49_Four_City.iloc[:,[18]].value_counts() / df_f_40_49_Four_City.iloc[:,[18]].value_counts().sum() * 100, 1).reset_index()\n",
    "df_f_40_49_Four_City_18.columns = ['Вам важно, чтобы мерч был уникальным продуктом, который больше ни у кого не встретишь?', '%']\n",
    "df_f_40_49_Four_City_18"
   ]
  },
  {
   "cell_type": "code",
   "execution_count": 129,
   "metadata": {},
   "outputs": [
    {
     "name": "stdout",
     "output_type": "stream",
     "text": [
      "Доверительный интервал: (33.401663318907566, 50.0, 66.59833668109243)\n"
     ]
    }
   ],
   "source": [
    "print('Доверительный интервал:', mean_confidence_interval(df_f_40_49_Four_City_18['%'], 0.575))"
   ]
  },
  {
   "cell_type": "code",
   "execution_count": null,
   "metadata": {},
   "outputs": [],
   "source": [
    "\n"
   ]
  },
  {
   "cell_type": "code",
   "execution_count": 130,
   "metadata": {},
   "outputs": [
    {
     "data": {
      "text/html": [
       "<div>\n",
       "<style scoped>\n",
       "    .dataframe tbody tr th:only-of-type {\n",
       "        vertical-align: middle;\n",
       "    }\n",
       "\n",
       "    .dataframe tbody tr th {\n",
       "        vertical-align: top;\n",
       "    }\n",
       "\n",
       "    .dataframe thead th {\n",
       "        text-align: right;\n",
       "    }\n",
       "</style>\n",
       "<table border=\"1\" class=\"dataframe\">\n",
       "  <thead>\n",
       "    <tr style=\"text-align: right;\">\n",
       "      <th></th>\n",
       "      <th>Вы готовы платить за лимитированный мерч? Лимитированная коллекция - та, которая выпускается один раз ограниченным тиражом</th>\n",
       "      <th>%</th>\n",
       "    </tr>\n",
       "  </thead>\n",
       "  <tbody>\n",
       "    <tr>\n",
       "      <th>0</th>\n",
       "      <td>Да</td>\n",
       "      <td>66.7</td>\n",
       "    </tr>\n",
       "    <tr>\n",
       "      <th>1</th>\n",
       "      <td>Нет</td>\n",
       "      <td>33.3</td>\n",
       "    </tr>\n",
       "  </tbody>\n",
       "</table>\n",
       "</div>"
      ],
      "text/plain": [
       "  Вы готовы платить за лимитированный мерч? Лимитированная коллекция - та, которая выпускается один раз ограниченным тиражом  \\\n",
       "0                                                 Да                                                                           \n",
       "1                                                Нет                                                                           \n",
       "\n",
       "      %  \n",
       "0  66.7  \n",
       "1  33.3  "
      ]
     },
     "execution_count": 130,
     "metadata": {},
     "output_type": "execute_result"
    }
   ],
   "source": [
    "df_f_40_49_Four_City_19 = round(df_f_40_49_Four_City.iloc[:,[19]].value_counts() / df_f_40_49_Four_City.iloc[:,[19]].value_counts().sum() * 100, 1).reset_index()\n",
    "df_f_40_49_Four_City_19.columns = ['Вы готовы платить за лимитированный мерч? Лимитированная коллекция - та, которая выпускается один раз ограниченным тиражом', '%']\n",
    "df_f_40_49_Four_City_19"
   ]
  },
  {
   "cell_type": "code",
   "execution_count": 131,
   "metadata": {},
   "outputs": [
    {
     "name": "stdout",
     "output_type": "stream",
     "text": [
      "Доверительный интервал: (33.401663318907566, 50.0, 66.59833668109243)\n"
     ]
    }
   ],
   "source": [
    "print('Доверительный интервал:', mean_confidence_interval(df_f_40_49_Four_City_19['%'], 0.575))"
   ]
  },
  {
   "cell_type": "code",
   "execution_count": null,
   "metadata": {},
   "outputs": [],
   "source": [
    "\n"
   ]
  },
  {
   "cell_type": "code",
   "execution_count": 132,
   "metadata": {},
   "outputs": [
    {
     "data": {
      "text/html": [
       "<div>\n",
       "<style scoped>\n",
       "    .dataframe tbody tr th:only-of-type {\n",
       "        vertical-align: middle;\n",
       "    }\n",
       "\n",
       "    .dataframe tbody tr th {\n",
       "        vertical-align: top;\n",
       "    }\n",
       "\n",
       "    .dataframe thead th {\n",
       "        text-align: right;\n",
       "    }\n",
       "</style>\n",
       "<table border=\"1\" class=\"dataframe\">\n",
       "  <thead>\n",
       "    <tr style=\"text-align: right;\">\n",
       "      <th></th>\n",
       "      <th>Обращаете ли вы внимание на экологичность товаров при покупке вещей?</th>\n",
       "      <th>%</th>\n",
       "    </tr>\n",
       "  </thead>\n",
       "  <tbody>\n",
       "    <tr>\n",
       "      <th>0</th>\n",
       "      <td>Нет, для меня это неважный критерий при выборе...</td>\n",
       "      <td>50.0</td>\n",
       "    </tr>\n",
       "    <tr>\n",
       "      <th>1</th>\n",
       "      <td>Да, большая часть моих вещей - экологичные</td>\n",
       "      <td>50.0</td>\n",
       "    </tr>\n",
       "  </tbody>\n",
       "</table>\n",
       "</div>"
      ],
      "text/plain": [
       "  Обращаете ли вы внимание на экологичность товаров при покупке вещей?     %\n",
       "0  Нет, для меня это неважный критерий при выборе...                    50.0\n",
       "1         Да, большая часть моих вещей - экологичные                    50.0"
      ]
     },
     "execution_count": 132,
     "metadata": {},
     "output_type": "execute_result"
    }
   ],
   "source": [
    "df_f_40_49_Four_City_20 = round(df_f_40_49_Four_City.iloc[:,[20]].value_counts() / df_f_40_49_Four_City.iloc[:,[20]].value_counts().sum() * 100, 1).reset_index()\n",
    "df_f_40_49_Four_City_20.columns = ['Обращаете ли вы внимание на экологичность товаров при покупке вещей?', '%']\n",
    "df_f_40_49_Four_City_20"
   ]
  },
  {
   "cell_type": "code",
   "execution_count": 133,
   "metadata": {},
   "outputs": [
    {
     "name": "stdout",
     "output_type": "stream",
     "text": [
      "Доверительный интервал: (50.0, 50.0, 50.0)\n"
     ]
    }
   ],
   "source": [
    "print('Доверительный интервал:', mean_confidence_interval(df_f_40_49_Four_City_20['%'], 0.999))"
   ]
  },
  {
   "cell_type": "code",
   "execution_count": null,
   "metadata": {},
   "outputs": [],
   "source": [
    "\n"
   ]
  },
  {
   "cell_type": "code",
   "execution_count": 134,
   "metadata": {},
   "outputs": [
    {
     "data": {
      "text/html": [
       "<div>\n",
       "<style scoped>\n",
       "    .dataframe tbody tr th:only-of-type {\n",
       "        vertical-align: middle;\n",
       "    }\n",
       "\n",
       "    .dataframe tbody tr th {\n",
       "        vertical-align: top;\n",
       "    }\n",
       "\n",
       "    .dataframe thead th {\n",
       "        text-align: right;\n",
       "    }\n",
       "</style>\n",
       "<table border=\"1\" class=\"dataframe\">\n",
       "  <thead>\n",
       "    <tr style=\"text-align: right;\">\n",
       "      <th></th>\n",
       "      <th>Вы с большей вероятностью купите мерч, если будете знать, что вырученные средства пойдут на благотворительность?</th>\n",
       "      <th>%</th>\n",
       "    </tr>\n",
       "  </thead>\n",
       "  <tbody>\n",
       "    <tr>\n",
       "      <th>0</th>\n",
       "      <td>Нет</td>\n",
       "      <td>50.0</td>\n",
       "    </tr>\n",
       "    <tr>\n",
       "      <th>1</th>\n",
       "      <td>Да</td>\n",
       "      <td>50.0</td>\n",
       "    </tr>\n",
       "  </tbody>\n",
       "</table>\n",
       "</div>"
      ],
      "text/plain": [
       "  Вы с большей вероятностью купите мерч, если будете знать, что вырученные средства пойдут на благотворительность?  \\\n",
       "0                                                Нет                                                                 \n",
       "1                                                 Да                                                                 \n",
       "\n",
       "      %  \n",
       "0  50.0  \n",
       "1  50.0  "
      ]
     },
     "execution_count": 134,
     "metadata": {},
     "output_type": "execute_result"
    }
   ],
   "source": [
    "df_f_40_49_Four_City_21 = round(df_f_40_49_Four_City.iloc[:,[21]].value_counts() / df_f_40_49_Four_City.iloc[:,[21]].value_counts().sum() * 100, 1).reset_index()\n",
    "df_f_40_49_Four_City_21.columns = ['Вы с большей вероятностью купите мерч, если будете знать, что вырученные средства пойдут на благотворительность?', '%']\n",
    "df_f_40_49_Four_City_21"
   ]
  },
  {
   "cell_type": "code",
   "execution_count": 135,
   "metadata": {},
   "outputs": [
    {
     "name": "stdout",
     "output_type": "stream",
     "text": [
      "Доверительный интервал: (50.0, 50.0, 50.0)\n"
     ]
    }
   ],
   "source": [
    "print('Доверительный интервал:', mean_confidence_interval(df_f_40_49_Four_City_21['%'], 0.999))"
   ]
  },
  {
   "cell_type": "code",
   "execution_count": null,
   "metadata": {},
   "outputs": [],
   "source": [
    "\n"
   ]
  },
  {
   "cell_type": "code",
   "execution_count": 136,
   "metadata": {},
   "outputs": [
    {
     "data": {
      "text/html": [
       "<div>\n",
       "<style scoped>\n",
       "    .dataframe tbody tr th:only-of-type {\n",
       "        vertical-align: middle;\n",
       "    }\n",
       "\n",
       "    .dataframe tbody tr th {\n",
       "        vertical-align: top;\n",
       "    }\n",
       "\n",
       "    .dataframe thead th {\n",
       "        text-align: right;\n",
       "    }\n",
       "</style>\n",
       "<table border=\"1\" class=\"dataframe\">\n",
       "  <thead>\n",
       "    <tr style=\"text-align: right;\">\n",
       "      <th></th>\n",
       "      <th>Вы бы купили мерч в подарок для благотворительного фонда/детского дома?</th>\n",
       "      <th>%</th>\n",
       "    </tr>\n",
       "  </thead>\n",
       "  <tbody>\n",
       "    <tr>\n",
       "      <th>0</th>\n",
       "      <td>Нет</td>\n",
       "      <td>50.0</td>\n",
       "    </tr>\n",
       "    <tr>\n",
       "      <th>1</th>\n",
       "      <td>Да</td>\n",
       "      <td>50.0</td>\n",
       "    </tr>\n",
       "  </tbody>\n",
       "</table>\n",
       "</div>"
      ],
      "text/plain": [
       "  Вы бы купили мерч в подарок для благотворительного фонда/детского дома?  \\\n",
       "0                                                Нет                        \n",
       "1                                                 Да                        \n",
       "\n",
       "      %  \n",
       "0  50.0  \n",
       "1  50.0  "
      ]
     },
     "execution_count": 136,
     "metadata": {},
     "output_type": "execute_result"
    }
   ],
   "source": [
    "df_f_40_49_Four_City_22 = round(df_f_40_49_Four_City.iloc[:,[22]].value_counts() / df_f_40_49_Four_City.iloc[:,[22]].value_counts().sum() * 100, 1).reset_index()\n",
    "df_f_40_49_Four_City_22.columns = ['Вы бы купили мерч в подарок для благотворительного фонда/детского дома?', '%']\n",
    "df_f_40_49_Four_City_22"
   ]
  },
  {
   "cell_type": "code",
   "execution_count": 137,
   "metadata": {},
   "outputs": [
    {
     "name": "stdout",
     "output_type": "stream",
     "text": [
      "Доверительный интервал: (50.0, 50.0, 50.0)\n"
     ]
    }
   ],
   "source": [
    "print('Доверительный интервал:', mean_confidence_interval(df_f_40_49_Four_City_22['%'], 0.999))"
   ]
  },
  {
   "cell_type": "markdown",
   "metadata": {},
   "source": [
    "# --------------------------------------------------------------------------------------------------------------\n"
   ]
  },
  {
   "cell_type": "markdown",
   "metadata": {},
   "source": [
    "## Все мужчины (40 человек)"
   ]
  },
  {
   "cell_type": "code",
   "execution_count": 138,
   "metadata": {},
   "outputs": [],
   "source": [
    "m = df.loc[df['Укажите ваш пол'] == 'Мужской']"
   ]
  },
  {
   "cell_type": "markdown",
   "metadata": {},
   "source": [
    "### Все мужчины по возрастным категориям"
   ]
  },
  {
   "cell_type": "code",
   "execution_count": 139,
   "metadata": {},
   "outputs": [
    {
     "data": {
      "text/html": [
       "<div>\n",
       "<style scoped>\n",
       "    .dataframe tbody tr th:only-of-type {\n",
       "        vertical-align: middle;\n",
       "    }\n",
       "\n",
       "    .dataframe tbody tr th {\n",
       "        vertical-align: top;\n",
       "    }\n",
       "\n",
       "    .dataframe thead th {\n",
       "        text-align: right;\n",
       "    }\n",
       "</style>\n",
       "<table border=\"1\" class=\"dataframe\">\n",
       "  <thead>\n",
       "    <tr style=\"text-align: right;\">\n",
       "      <th></th>\n",
       "      <th>Отметка времени</th>\n",
       "    </tr>\n",
       "    <tr>\n",
       "      <th>Укажите ваш возраст</th>\n",
       "      <th></th>\n",
       "    </tr>\n",
       "  </thead>\n",
       "  <tbody>\n",
       "    <tr>\n",
       "      <th>30-39 лет</th>\n",
       "      <td>14</td>\n",
       "    </tr>\n",
       "    <tr>\n",
       "      <th>40-49 лет</th>\n",
       "      <td>10</td>\n",
       "    </tr>\n",
       "    <tr>\n",
       "      <th>23-29 лет</th>\n",
       "      <td>5</td>\n",
       "    </tr>\n",
       "    <tr>\n",
       "      <th>18-22 лет</th>\n",
       "      <td>4</td>\n",
       "    </tr>\n",
       "    <tr>\n",
       "      <th>больше 50 лет</th>\n",
       "      <td>4</td>\n",
       "    </tr>\n",
       "    <tr>\n",
       "      <th>до 18 лет</th>\n",
       "      <td>3</td>\n",
       "    </tr>\n",
       "  </tbody>\n",
       "</table>\n",
       "</div>"
      ],
      "text/plain": [
       "                     Отметка времени\n",
       "Укажите ваш возраст                 \n",
       "30-39 лет                         14\n",
       "40-49 лет                         10\n",
       "23-29 лет                          5\n",
       "18-22 лет                          4\n",
       "больше 50 лет                      4\n",
       "до 18 лет                          3"
      ]
     },
     "execution_count": 139,
     "metadata": {},
     "output_type": "execute_result"
    }
   ],
   "source": [
    "m.groupby('Укажите ваш возраст').count()[['Отметка времени']].sort_values('Отметка времени', ascending=False)"
   ]
  },
  {
   "cell_type": "code",
   "execution_count": 140,
   "metadata": {},
   "outputs": [
    {
     "data": {
      "text/html": [
       "<div>\n",
       "<style scoped>\n",
       "    .dataframe tbody tr th:only-of-type {\n",
       "        vertical-align: middle;\n",
       "    }\n",
       "\n",
       "    .dataframe tbody tr th {\n",
       "        vertical-align: top;\n",
       "    }\n",
       "\n",
       "    .dataframe thead th {\n",
       "        text-align: right;\n",
       "    }\n",
       "</style>\n",
       "<table border=\"1\" class=\"dataframe\">\n",
       "  <thead>\n",
       "    <tr style=\"text-align: right;\">\n",
       "      <th></th>\n",
       "      <th>Укажите ваш возраст</th>\n",
       "      <th>Муж., %</th>\n",
       "    </tr>\n",
       "  </thead>\n",
       "  <tbody>\n",
       "    <tr>\n",
       "      <th>0</th>\n",
       "      <td>30-39 лет</td>\n",
       "      <td>35.0</td>\n",
       "    </tr>\n",
       "    <tr>\n",
       "      <th>1</th>\n",
       "      <td>40-49 лет</td>\n",
       "      <td>25.0</td>\n",
       "    </tr>\n",
       "    <tr>\n",
       "      <th>2</th>\n",
       "      <td>23-29 лет</td>\n",
       "      <td>12.5</td>\n",
       "    </tr>\n",
       "    <tr>\n",
       "      <th>3</th>\n",
       "      <td>больше 50 лет</td>\n",
       "      <td>10.0</td>\n",
       "    </tr>\n",
       "    <tr>\n",
       "      <th>4</th>\n",
       "      <td>18-22 лет</td>\n",
       "      <td>10.0</td>\n",
       "    </tr>\n",
       "    <tr>\n",
       "      <th>5</th>\n",
       "      <td>до 18 лет</td>\n",
       "      <td>7.5</td>\n",
       "    </tr>\n",
       "  </tbody>\n",
       "</table>\n",
       "</div>"
      ],
      "text/plain": [
       "  Укажите ваш возраст  Муж., %\n",
       "0           30-39 лет     35.0\n",
       "1           40-49 лет     25.0\n",
       "2           23-29 лет     12.5\n",
       "3       больше 50 лет     10.0\n",
       "4           18-22 лет     10.0\n",
       "5           до 18 лет      7.5"
      ]
     },
     "execution_count": 140,
     "metadata": {},
     "output_type": "execute_result"
    }
   ],
   "source": [
    "m_age = round(m.iloc[:,[1]].value_counts() / m.iloc[:,[1]].value_counts().sum() * 100, 1).reset_index()\n",
    "m_age.columns = ['Укажите ваш возраст', 'Муж., %']\n",
    "m_age"
   ]
  },
  {
   "cell_type": "markdown",
   "metadata": {},
   "source": [
    "### Все мужчины по городам проживания"
   ]
  },
  {
   "cell_type": "code",
   "execution_count": 141,
   "metadata": {},
   "outputs": [
    {
     "data": {
      "text/html": [
       "<div>\n",
       "<style scoped>\n",
       "    .dataframe tbody tr th:only-of-type {\n",
       "        vertical-align: middle;\n",
       "    }\n",
       "\n",
       "    .dataframe tbody tr th {\n",
       "        vertical-align: top;\n",
       "    }\n",
       "\n",
       "    .dataframe thead th {\n",
       "        text-align: right;\n",
       "    }\n",
       "</style>\n",
       "<table border=\"1\" class=\"dataframe\">\n",
       "  <thead>\n",
       "    <tr style=\"text-align: right;\">\n",
       "      <th></th>\n",
       "      <th>Отметка времени</th>\n",
       "    </tr>\n",
       "    <tr>\n",
       "      <th>Укажите ваш город</th>\n",
       "      <th></th>\n",
       "    </tr>\n",
       "  </thead>\n",
       "  <tbody>\n",
       "    <tr>\n",
       "      <th>Москва</th>\n",
       "      <td>9</td>\n",
       "    </tr>\n",
       "    <tr>\n",
       "      <th>Самара</th>\n",
       "      <td>4</td>\n",
       "    </tr>\n",
       "    <tr>\n",
       "      <th>Чехов</th>\n",
       "      <td>3</td>\n",
       "    </tr>\n",
       "    <tr>\n",
       "      <th>Санкт-Петербург</th>\n",
       "      <td>3</td>\n",
       "    </tr>\n",
       "    <tr>\n",
       "      <th>Симферополь</th>\n",
       "      <td>2</td>\n",
       "    </tr>\n",
       "    <tr>\n",
       "      <th>Новосибирск</th>\n",
       "      <td>1</td>\n",
       "    </tr>\n",
       "    <tr>\n",
       "      <th>Черемхово</th>\n",
       "      <td>1</td>\n",
       "    </tr>\n",
       "    <tr>\n",
       "      <th>Ульяновск</th>\n",
       "      <td>1</td>\n",
       "    </tr>\n",
       "    <tr>\n",
       "      <th>Тула</th>\n",
       "      <td>1</td>\n",
       "    </tr>\n",
       "    <tr>\n",
       "      <th>Тольятти</th>\n",
       "      <td>1</td>\n",
       "    </tr>\n",
       "  </tbody>\n",
       "</table>\n",
       "</div>"
      ],
      "text/plain": [
       "                   Отметка времени\n",
       "Укажите ваш город                 \n",
       "Москва                           9\n",
       "Самара                           4\n",
       "Чехов                            3\n",
       "Санкт-Петербург                  3\n",
       "Симферополь                      2\n",
       "Новосибирск                      1\n",
       "Черемхово                        1\n",
       "Ульяновск                        1\n",
       "Тула                             1\n",
       "Тольятти                         1"
      ]
     },
     "execution_count": 141,
     "metadata": {},
     "output_type": "execute_result"
    }
   ],
   "source": [
    "m.groupby('Укажите ваш город').count()[['Отметка времени']].sort_values('Отметка времени', ascending=False).head(10)"
   ]
  },
  {
   "cell_type": "code",
   "execution_count": 142,
   "metadata": {},
   "outputs": [
    {
     "data": {
      "text/html": [
       "<div>\n",
       "<style scoped>\n",
       "    .dataframe tbody tr th:only-of-type {\n",
       "        vertical-align: middle;\n",
       "    }\n",
       "\n",
       "    .dataframe tbody tr th {\n",
       "        vertical-align: top;\n",
       "    }\n",
       "\n",
       "    .dataframe thead th {\n",
       "        text-align: right;\n",
       "    }\n",
       "</style>\n",
       "<table border=\"1\" class=\"dataframe\">\n",
       "  <thead>\n",
       "    <tr style=\"text-align: right;\">\n",
       "      <th></th>\n",
       "      <th>Укажите ваш город</th>\n",
       "      <th>Муж., %</th>\n",
       "    </tr>\n",
       "  </thead>\n",
       "  <tbody>\n",
       "    <tr>\n",
       "      <th>0</th>\n",
       "      <td>Москва</td>\n",
       "      <td>22.5</td>\n",
       "    </tr>\n",
       "    <tr>\n",
       "      <th>1</th>\n",
       "      <td>Самара</td>\n",
       "      <td>10.0</td>\n",
       "    </tr>\n",
       "    <tr>\n",
       "      <th>2</th>\n",
       "      <td>Санкт-Петербург</td>\n",
       "      <td>7.5</td>\n",
       "    </tr>\n",
       "    <tr>\n",
       "      <th>3</th>\n",
       "      <td>Чехов</td>\n",
       "      <td>7.5</td>\n",
       "    </tr>\n",
       "    <tr>\n",
       "      <th>4</th>\n",
       "      <td>Симферополь</td>\n",
       "      <td>5.0</td>\n",
       "    </tr>\n",
       "    <tr>\n",
       "      <th>5</th>\n",
       "      <td>Тольятти</td>\n",
       "      <td>2.5</td>\n",
       "    </tr>\n",
       "    <tr>\n",
       "      <th>6</th>\n",
       "      <td>Красноярск</td>\n",
       "      <td>2.5</td>\n",
       "    </tr>\n",
       "    <tr>\n",
       "      <th>7</th>\n",
       "      <td>Владивосток</td>\n",
       "      <td>2.5</td>\n",
       "    </tr>\n",
       "    <tr>\n",
       "      <th>8</th>\n",
       "      <td>Владимир</td>\n",
       "      <td>2.5</td>\n",
       "    </tr>\n",
       "    <tr>\n",
       "      <th>9</th>\n",
       "      <td>Екатеринбург</td>\n",
       "      <td>2.5</td>\n",
       "    </tr>\n",
       "  </tbody>\n",
       "</table>\n",
       "</div>"
      ],
      "text/plain": [
       "  Укажите ваш город  Муж., %\n",
       "0            Москва     22.5\n",
       "1            Самара     10.0\n",
       "2   Санкт-Петербург      7.5\n",
       "3             Чехов      7.5\n",
       "4       Симферополь      5.0\n",
       "5         Тольятти       2.5\n",
       "6        Красноярск      2.5\n",
       "7       Владивосток      2.5\n",
       "8          Владимир      2.5\n",
       "9      Екатеринбург      2.5"
      ]
     },
     "execution_count": 142,
     "metadata": {},
     "output_type": "execute_result"
    }
   ],
   "source": [
    "m_city = round(m.iloc[:,[3]].value_counts() / m.iloc[:,[3]].value_counts().sum() * 100, 1).reset_index()\n",
    "m_city.columns = ['Укажите ваш город', 'Муж., %']\n",
    "m_city.head(10)"
   ]
  },
  {
   "cell_type": "code",
   "execution_count": 143,
   "metadata": {},
   "outputs": [
    {
     "data": {
      "text/html": [
       "<div>\n",
       "<style scoped>\n",
       "    .dataframe tbody tr th:only-of-type {\n",
       "        vertical-align: middle;\n",
       "    }\n",
       "\n",
       "    .dataframe tbody tr th {\n",
       "        vertical-align: top;\n",
       "    }\n",
       "\n",
       "    .dataframe thead th {\n",
       "        text-align: right;\n",
       "    }\n",
       "</style>\n",
       "<table border=\"1\" class=\"dataframe\">\n",
       "  <thead>\n",
       "    <tr style=\"text-align: right;\">\n",
       "      <th></th>\n",
       "      <th>Какая цветовая гамма интернет-магазина вам нравится?</th>\n",
       "      <th>%</th>\n",
       "    </tr>\n",
       "  </thead>\n",
       "  <tbody>\n",
       "    <tr>\n",
       "      <th>0</th>\n",
       "      <td>Сдержанные оттенки (белый, черный, серый)</td>\n",
       "      <td>62.5</td>\n",
       "    </tr>\n",
       "    <tr>\n",
       "      <th>1</th>\n",
       "      <td>Яркая (синий, красный, зеленый и тд.)</td>\n",
       "      <td>27.5</td>\n",
       "    </tr>\n",
       "    <tr>\n",
       "      <th>2</th>\n",
       "      <td>Неважно</td>\n",
       "      <td>10.0</td>\n",
       "    </tr>\n",
       "  </tbody>\n",
       "</table>\n",
       "</div>"
      ],
      "text/plain": [
       "  Какая цветовая гамма интернет-магазина вам нравится?     %\n",
       "0          Сдержанные оттенки (белый, черный, серый)    62.5\n",
       "1              Яркая (синий, красный, зеленый и тд.)    27.5\n",
       "2                                            Неважно    10.0"
      ]
     },
     "execution_count": 143,
     "metadata": {},
     "output_type": "execute_result"
    }
   ],
   "source": [
    "df_m_4 = round(m.iloc[:,[4]].value_counts() / m.iloc[:,[4]].value_counts().sum() * 100, 1).reset_index()\n",
    "df_m_4.columns = ['Какая цветовая гамма интернет-магазина вам нравится?', '%']\n",
    "df_m_4"
   ]
  },
  {
   "cell_type": "code",
   "execution_count": 144,
   "metadata": {},
   "outputs": [
    {
     "name": "stdout",
     "output_type": "stream",
     "text": [
      "Доверительный интервал: (10.145416195375816, 33.333333333333336, 56.521250471290855)\n"
     ]
    }
   ],
   "source": [
    "print('Доверительный интервал:', mean_confidence_interval(df_m_4['%'], 0.77))"
   ]
  },
  {
   "cell_type": "code",
   "execution_count": null,
   "metadata": {},
   "outputs": [],
   "source": [
    "\n"
   ]
  },
  {
   "cell_type": "code",
   "execution_count": 145,
   "metadata": {},
   "outputs": [
    {
     "data": {
      "text/html": [
       "<div>\n",
       "<style scoped>\n",
       "    .dataframe tbody tr th:only-of-type {\n",
       "        vertical-align: middle;\n",
       "    }\n",
       "\n",
       "    .dataframe tbody tr th {\n",
       "        vertical-align: top;\n",
       "    }\n",
       "\n",
       "    .dataframe thead th {\n",
       "        text-align: right;\n",
       "    }\n",
       "</style>\n",
       "<table border=\"1\" class=\"dataframe\">\n",
       "  <thead>\n",
       "    <tr style=\"text-align: right;\">\n",
       "      <th></th>\n",
       "      <th>Сколько по времени вы готовы ждать свой заказ?</th>\n",
       "      <th>%</th>\n",
       "    </tr>\n",
       "  </thead>\n",
       "  <tbody>\n",
       "    <tr>\n",
       "      <th>0</th>\n",
       "      <td>1-3 рабочих дня</td>\n",
       "      <td>40.0</td>\n",
       "    </tr>\n",
       "    <tr>\n",
       "      <th>1</th>\n",
       "      <td>4-7 рабочих дней</td>\n",
       "      <td>37.5</td>\n",
       "    </tr>\n",
       "    <tr>\n",
       "      <th>2</th>\n",
       "      <td>более 7 рабочих дней</td>\n",
       "      <td>15.0</td>\n",
       "    </tr>\n",
       "    <tr>\n",
       "      <th>3</th>\n",
       "      <td>Неважно</td>\n",
       "      <td>7.5</td>\n",
       "    </tr>\n",
       "  </tbody>\n",
       "</table>\n",
       "</div>"
      ],
      "text/plain": [
       "  Сколько по времени вы готовы ждать свой заказ?     %\n",
       "0                                1-3 рабочих дня  40.0\n",
       "1                               4-7 рабочих дней  37.5\n",
       "2                           более 7 рабочих дней  15.0\n",
       "3                                        Неважно   7.5"
      ]
     },
     "execution_count": 145,
     "metadata": {},
     "output_type": "execute_result"
    }
   ],
   "source": [
    "df_m_5 = round(m.iloc[:,[5]].value_counts() / m.iloc[:,[5]].value_counts().sum() * 100, 1).reset_index()\n",
    "df_m_5.columns = ['Сколько по времени вы готовы ждать свой заказ?', '%']\n",
    "df_m_5"
   ]
  },
  {
   "cell_type": "code",
   "execution_count": 146,
   "metadata": {},
   "outputs": [
    {
     "name": "stdout",
     "output_type": "stream",
     "text": [
      "Доверительный интервал: (10.114358225805658, 25.0, 39.88564177419434)\n"
     ]
    }
   ],
   "source": [
    "print('Доверительный интервал:', mean_confidence_interval(df_m_5['%'], 0.86))"
   ]
  },
  {
   "cell_type": "code",
   "execution_count": null,
   "metadata": {},
   "outputs": [],
   "source": [
    "\n"
   ]
  },
  {
   "cell_type": "code",
   "execution_count": 147,
   "metadata": {},
   "outputs": [
    {
     "data": {
      "text/html": [
       "<div>\n",
       "<style scoped>\n",
       "    .dataframe tbody tr th:only-of-type {\n",
       "        vertical-align: middle;\n",
       "    }\n",
       "\n",
       "    .dataframe tbody tr th {\n",
       "        vertical-align: top;\n",
       "    }\n",
       "\n",
       "    .dataframe thead th {\n",
       "        text-align: right;\n",
       "    }\n",
       "</style>\n",
       "<table border=\"1\" class=\"dataframe\">\n",
       "  <thead>\n",
       "    <tr style=\"text-align: right;\">\n",
       "      <th></th>\n",
       "      <th>Что из перечисленного могло бы мотивировать вас к покупке?</th>\n",
       "      <th>%</th>\n",
       "    </tr>\n",
       "  </thead>\n",
       "  <tbody>\n",
       "    <tr>\n",
       "      <th>0</th>\n",
       "      <td>Наличие промокода, Скидка, Система лояльности</td>\n",
       "      <td>22.5</td>\n",
       "    </tr>\n",
       "    <tr>\n",
       "      <th>1</th>\n",
       "      <td>Наличие промокода, Скидка</td>\n",
       "      <td>20.0</td>\n",
       "    </tr>\n",
       "    <tr>\n",
       "      <th>2</th>\n",
       "      <td>Скидка, Система лояльности</td>\n",
       "      <td>15.0</td>\n",
       "    </tr>\n",
       "    <tr>\n",
       "      <th>3</th>\n",
       "      <td>Система лояльности</td>\n",
       "      <td>15.0</td>\n",
       "    </tr>\n",
       "    <tr>\n",
       "      <th>4</th>\n",
       "      <td>Скидка</td>\n",
       "      <td>10.0</td>\n",
       "    </tr>\n",
       "    <tr>\n",
       "      <th>5</th>\n",
       "      <td>Наличие промокода, Система лояльности</td>\n",
       "      <td>7.5</td>\n",
       "    </tr>\n",
       "    <tr>\n",
       "      <th>6</th>\n",
       "      <td>Наличие промокода</td>\n",
       "      <td>5.0</td>\n",
       "    </tr>\n",
       "    <tr>\n",
       "      <th>7</th>\n",
       "      <td>Скидка, Ничего из перечисленного</td>\n",
       "      <td>2.5</td>\n",
       "    </tr>\n",
       "    <tr>\n",
       "      <th>8</th>\n",
       "      <td>Ничего из перечисленного</td>\n",
       "      <td>2.5</td>\n",
       "    </tr>\n",
       "  </tbody>\n",
       "</table>\n",
       "</div>"
      ],
      "text/plain": [
       "  Что из перечисленного могло бы мотивировать вас к покупке?     %\n",
       "0      Наличие промокода, Скидка, Система лояльности          22.5\n",
       "1                          Наличие промокода, Скидка          20.0\n",
       "2                         Скидка, Система лояльности          15.0\n",
       "3                                 Система лояльности          15.0\n",
       "4                                             Скидка          10.0\n",
       "5              Наличие промокода, Система лояльности           7.5\n",
       "6                                  Наличие промокода           5.0\n",
       "7                   Скидка, Ничего из перечисленного           2.5\n",
       "8                           Ничего из перечисленного           2.5"
      ]
     },
     "execution_count": 147,
     "metadata": {},
     "output_type": "execute_result"
    }
   ],
   "source": [
    "df_m_6 = round(m.iloc[:,[6]].value_counts() / m.iloc[:,[6]].value_counts().sum() * 100, 1).reset_index()\n",
    "df_m_6.columns = ['Что из перечисленного могло бы мотивировать вас к покупке?', '%']\n",
    "df_m_6"
   ]
  },
  {
   "cell_type": "code",
   "execution_count": 148,
   "metadata": {},
   "outputs": [
    {
     "name": "stdout",
     "output_type": "stream",
     "text": [
      "Доверительный интервал: (2.0015453674839154, 11.11111111111111, 20.220676854738308)\n"
     ]
    }
   ],
   "source": [
    "print('Доверительный интервал:', mean_confidence_interval(df_m_6['%'], 0.995))"
   ]
  },
  {
   "cell_type": "code",
   "execution_count": null,
   "metadata": {},
   "outputs": [],
   "source": [
    "\n"
   ]
  },
  {
   "cell_type": "code",
   "execution_count": 149,
   "metadata": {},
   "outputs": [
    {
     "data": {
      "text/html": [
       "<div>\n",
       "<style scoped>\n",
       "    .dataframe tbody tr th:only-of-type {\n",
       "        vertical-align: middle;\n",
       "    }\n",
       "\n",
       "    .dataframe tbody tr th {\n",
       "        vertical-align: top;\n",
       "    }\n",
       "\n",
       "    .dataframe thead th {\n",
       "        text-align: right;\n",
       "    }\n",
       "</style>\n",
       "<table border=\"1\" class=\"dataframe\">\n",
       "  <thead>\n",
       "    <tr style=\"text-align: right;\">\n",
       "      <th></th>\n",
       "      <th>Как долго вы готовы ждать ответа от менеджера  по вашему заказу?</th>\n",
       "      <th>%</th>\n",
       "    </tr>\n",
       "  </thead>\n",
       "  <tbody>\n",
       "    <tr>\n",
       "      <th>0</th>\n",
       "      <td>В течение часа</td>\n",
       "      <td>55.0</td>\n",
       "    </tr>\n",
       "    <tr>\n",
       "      <th>1</th>\n",
       "      <td>В течение суток</td>\n",
       "      <td>25.0</td>\n",
       "    </tr>\n",
       "    <tr>\n",
       "      <th>2</th>\n",
       "      <td>1-3 часа</td>\n",
       "      <td>15.0</td>\n",
       "    </tr>\n",
       "    <tr>\n",
       "      <th>3</th>\n",
       "      <td>Неважно</td>\n",
       "      <td>5.0</td>\n",
       "    </tr>\n",
       "  </tbody>\n",
       "</table>\n",
       "</div>"
      ],
      "text/plain": [
       "  Как долго вы готовы ждать ответа от менеджера  по вашему заказу?     %\n",
       "0                                     В течение часа                55.0\n",
       "1                                    В течение суток                25.0\n",
       "2                                           1-3 часа                15.0\n",
       "3                                            Неважно                 5.0"
      ]
     },
     "execution_count": 149,
     "metadata": {},
     "output_type": "execute_result"
    }
   ],
   "source": [
    "df_m_7 = round(m.iloc[:,[7]].value_counts() / m.iloc[:,[7]].value_counts().sum() * 100, 1).reset_index()\n",
    "df_m_7.columns = ['Как долго вы готовы ждать ответа от менеджера  по вашему заказу?', '%']\n",
    "df_m_7"
   ]
  },
  {
   "cell_type": "code",
   "execution_count": 150,
   "metadata": {},
   "outputs": [
    {
     "name": "stdout",
     "output_type": "stream",
     "text": [
      "Доверительный интервал: (5.152477634407543, 25.0, 44.847522365592454)\n"
     ]
    }
   ],
   "source": [
    "print('Доверительный интервал:', mean_confidence_interval(df_m_7['%'], 0.86))"
   ]
  },
  {
   "cell_type": "code",
   "execution_count": null,
   "metadata": {},
   "outputs": [],
   "source": [
    "\n"
   ]
  },
  {
   "cell_type": "code",
   "execution_count": 151,
   "metadata": {},
   "outputs": [
    {
     "data": {
      "text/html": [
       "<div>\n",
       "<style scoped>\n",
       "    .dataframe tbody tr th:only-of-type {\n",
       "        vertical-align: middle;\n",
       "    }\n",
       "\n",
       "    .dataframe tbody tr th {\n",
       "        vertical-align: top;\n",
       "    }\n",
       "\n",
       "    .dataframe thead th {\n",
       "        text-align: right;\n",
       "    }\n",
       "</style>\n",
       "<table border=\"1\" class=\"dataframe\">\n",
       "  <thead>\n",
       "    <tr style=\"text-align: right;\">\n",
       "      <th></th>\n",
       "      <th>Какой способ обратной связи с менеджером вам наиболее удобен?</th>\n",
       "      <th>%</th>\n",
       "    </tr>\n",
       "  </thead>\n",
       "  <tbody>\n",
       "    <tr>\n",
       "      <th>0</th>\n",
       "      <td>На самом сайте (чат)</td>\n",
       "      <td>10.0</td>\n",
       "    </tr>\n",
       "    <tr>\n",
       "      <th>1</th>\n",
       "      <td>Получить ответ на почту, Получить ответ на тел...</td>\n",
       "      <td>10.0</td>\n",
       "    </tr>\n",
       "    <tr>\n",
       "      <th>2</th>\n",
       "      <td>На самом сайте (чат), Получить ответ на почту,...</td>\n",
       "      <td>10.0</td>\n",
       "    </tr>\n",
       "    <tr>\n",
       "      <th>3</th>\n",
       "      <td>На самом сайте (чат), Получить ответ на почту,...</td>\n",
       "      <td>7.5</td>\n",
       "    </tr>\n",
       "    <tr>\n",
       "      <th>4</th>\n",
       "      <td>Получить ответ на почту, Получить ответ в месс...</td>\n",
       "      <td>7.5</td>\n",
       "    </tr>\n",
       "    <tr>\n",
       "      <th>5</th>\n",
       "      <td>Получить ответ на почту, Получить ответ на тел...</td>\n",
       "      <td>5.0</td>\n",
       "    </tr>\n",
       "    <tr>\n",
       "      <th>6</th>\n",
       "      <td>Получить ответ на почту, Получить ответ на тел...</td>\n",
       "      <td>5.0</td>\n",
       "    </tr>\n",
       "    <tr>\n",
       "      <th>7</th>\n",
       "      <td>Получить ответ на почту, Получить ответ на тел...</td>\n",
       "      <td>5.0</td>\n",
       "    </tr>\n",
       "    <tr>\n",
       "      <th>8</th>\n",
       "      <td>Получить ответ в мессенджере/в соцсетях</td>\n",
       "      <td>5.0</td>\n",
       "    </tr>\n",
       "    <tr>\n",
       "      <th>9</th>\n",
       "      <td>На самом сайте (чат), Получить ответ на телефо...</td>\n",
       "      <td>5.0</td>\n",
       "    </tr>\n",
       "    <tr>\n",
       "      <th>10</th>\n",
       "      <td>Получить ответ на телефон (звонок)</td>\n",
       "      <td>5.0</td>\n",
       "    </tr>\n",
       "    <tr>\n",
       "      <th>11</th>\n",
       "      <td>Получить ответ на почту, Получить ответ на тел...</td>\n",
       "      <td>2.5</td>\n",
       "    </tr>\n",
       "    <tr>\n",
       "      <th>12</th>\n",
       "      <td>Получить ответ на почту, Получить ответ на тел...</td>\n",
       "      <td>2.5</td>\n",
       "    </tr>\n",
       "    <tr>\n",
       "      <th>13</th>\n",
       "      <td>Получить ответ на телефон (звонок), Получить о...</td>\n",
       "      <td>2.5</td>\n",
       "    </tr>\n",
       "    <tr>\n",
       "      <th>14</th>\n",
       "      <td>Получить ответ на почту</td>\n",
       "      <td>2.5</td>\n",
       "    </tr>\n",
       "    <tr>\n",
       "      <th>15</th>\n",
       "      <td>На самом сайте (чат), Получить ответ на телефо...</td>\n",
       "      <td>2.5</td>\n",
       "    </tr>\n",
       "    <tr>\n",
       "      <th>16</th>\n",
       "      <td>На самом сайте (чат), Получить ответ на почту,...</td>\n",
       "      <td>2.5</td>\n",
       "    </tr>\n",
       "    <tr>\n",
       "      <th>17</th>\n",
       "      <td>На самом сайте (чат), Получить ответ на почту,...</td>\n",
       "      <td>2.5</td>\n",
       "    </tr>\n",
       "    <tr>\n",
       "      <th>18</th>\n",
       "      <td>Получить ответ на телефон (звонок), Получить о...</td>\n",
       "      <td>2.5</td>\n",
       "    </tr>\n",
       "    <tr>\n",
       "      <th>19</th>\n",
       "      <td>На самом сайте (чат), Получить ответ на почту</td>\n",
       "      <td>2.5</td>\n",
       "    </tr>\n",
       "    <tr>\n",
       "      <th>20</th>\n",
       "      <td>Получить ответ на телефон (смс), Получить отве...</td>\n",
       "      <td>2.5</td>\n",
       "    </tr>\n",
       "  </tbody>\n",
       "</table>\n",
       "</div>"
      ],
      "text/plain": [
       "   Какой способ обратной связи с менеджером вам наиболее удобен?     %\n",
       "0                                На самом сайте (чат)             10.0\n",
       "1   Получить ответ на почту, Получить ответ на тел...             10.0\n",
       "2   На самом сайте (чат), Получить ответ на почту,...             10.0\n",
       "3   На самом сайте (чат), Получить ответ на почту,...              7.5\n",
       "4   Получить ответ на почту, Получить ответ в месс...              7.5\n",
       "5   Получить ответ на почту, Получить ответ на тел...              5.0\n",
       "6   Получить ответ на почту, Получить ответ на тел...              5.0\n",
       "7   Получить ответ на почту, Получить ответ на тел...              5.0\n",
       "8             Получить ответ в мессенджере/в соцсетях              5.0\n",
       "9   На самом сайте (чат), Получить ответ на телефо...              5.0\n",
       "10                 Получить ответ на телефон (звонок)              5.0\n",
       "11  Получить ответ на почту, Получить ответ на тел...              2.5\n",
       "12  Получить ответ на почту, Получить ответ на тел...              2.5\n",
       "13  Получить ответ на телефон (звонок), Получить о...              2.5\n",
       "14                            Получить ответ на почту              2.5\n",
       "15  На самом сайте (чат), Получить ответ на телефо...              2.5\n",
       "16  На самом сайте (чат), Получить ответ на почту,...              2.5\n",
       "17  На самом сайте (чат), Получить ответ на почту,...              2.5\n",
       "18  Получить ответ на телефон (звонок), Получить о...              2.5\n",
       "19      На самом сайте (чат), Получить ответ на почту              2.5\n",
       "20  Получить ответ на телефон (смс), Получить отве...              2.5"
      ]
     },
     "execution_count": 151,
     "metadata": {},
     "output_type": "execute_result"
    }
   ],
   "source": [
    "df_m_8 = round(m.iloc[:,[8]].value_counts() / m.iloc[:,[8]].value_counts().sum() * 100, 1).reset_index()\n",
    "df_m_8.columns = ['Какой способ обратной связи с менеджером вам наиболее удобен?', '%']\n",
    "df_m_8"
   ]
  },
  {
   "cell_type": "code",
   "execution_count": 152,
   "metadata": {},
   "outputs": [
    {
     "name": "stdout",
     "output_type": "stream",
     "text": [
      "Доверительный интервал: (2.8957105682333397, 4.761904761904762, 6.628098955576184)\n"
     ]
    }
   ],
   "source": [
    "print('Доверительный интервал:', mean_confidence_interval(df_m_8['%'], 0.995))"
   ]
  },
  {
   "cell_type": "code",
   "execution_count": null,
   "metadata": {},
   "outputs": [],
   "source": [
    "\n"
   ]
  },
  {
   "cell_type": "code",
   "execution_count": 153,
   "metadata": {},
   "outputs": [
    {
     "data": {
      "text/html": [
       "<div>\n",
       "<style scoped>\n",
       "    .dataframe tbody tr th:only-of-type {\n",
       "        vertical-align: middle;\n",
       "    }\n",
       "\n",
       "    .dataframe tbody tr th {\n",
       "        vertical-align: top;\n",
       "    }\n",
       "\n",
       "    .dataframe thead th {\n",
       "        text-align: right;\n",
       "    }\n",
       "</style>\n",
       "<table border=\"1\" class=\"dataframe\">\n",
       "  <thead>\n",
       "    <tr style=\"text-align: right;\">\n",
       "      <th></th>\n",
       "      <th>Вы когда-нибудь покупали мерч?</th>\n",
       "      <th>%</th>\n",
       "    </tr>\n",
       "  </thead>\n",
       "  <tbody>\n",
       "    <tr>\n",
       "      <th>0</th>\n",
       "      <td>Нет, но планирую</td>\n",
       "      <td>47.5</td>\n",
       "    </tr>\n",
       "    <tr>\n",
       "      <th>1</th>\n",
       "      <td>Да</td>\n",
       "      <td>40.0</td>\n",
       "    </tr>\n",
       "    <tr>\n",
       "      <th>2</th>\n",
       "      <td>Нет и не планирую</td>\n",
       "      <td>12.5</td>\n",
       "    </tr>\n",
       "  </tbody>\n",
       "</table>\n",
       "</div>"
      ],
      "text/plain": [
       "  Вы когда-нибудь покупали мерч?     %\n",
       "0               Нет, но планирую  47.5\n",
       "1                             Да  40.0\n",
       "2              Нет и не планирую  12.5"
      ]
     },
     "execution_count": 153,
     "metadata": {},
     "output_type": "execute_result"
    }
   ],
   "source": [
    "df_m_9 = round(m.iloc[:,[9]].value_counts() / m.iloc[:,[9]].value_counts().sum() * 100, 1).reset_index()\n",
    "df_m_9.columns = ['Вы когда-нибудь покупали мерч?', '%']\n",
    "df_m_9"
   ]
  },
  {
   "cell_type": "code",
   "execution_count": 154,
   "metadata": {},
   "outputs": [
    {
     "name": "stdout",
     "output_type": "stream",
     "text": [
      "Доверительный интервал: (19.521076346441358, 33.333333333333336, 47.14559032022531)\n"
     ]
    }
   ],
   "source": [
    "print('Доверительный интервал:', mean_confidence_interval(df_m_9['%'], 0.715))"
   ]
  },
  {
   "cell_type": "code",
   "execution_count": null,
   "metadata": {},
   "outputs": [],
   "source": [
    "\n"
   ]
  },
  {
   "cell_type": "code",
   "execution_count": 155,
   "metadata": {},
   "outputs": [
    {
     "data": {
      "text/html": [
       "<div>\n",
       "<style scoped>\n",
       "    .dataframe tbody tr th:only-of-type {\n",
       "        vertical-align: middle;\n",
       "    }\n",
       "\n",
       "    .dataframe tbody tr th {\n",
       "        vertical-align: top;\n",
       "    }\n",
       "\n",
       "    .dataframe thead th {\n",
       "        text-align: right;\n",
       "    }\n",
       "</style>\n",
       "<table border=\"1\" class=\"dataframe\">\n",
       "  <thead>\n",
       "    <tr style=\"text-align: right;\">\n",
       "      <th></th>\n",
       "      <th>Вам важно, какого размера будет логотип на мерче?</th>\n",
       "      <th>%</th>\n",
       "    </tr>\n",
       "  </thead>\n",
       "  <tbody>\n",
       "    <tr>\n",
       "      <th>0</th>\n",
       "      <td>Да, нравится, когда логотип маленького размера</td>\n",
       "      <td>45.0</td>\n",
       "    </tr>\n",
       "    <tr>\n",
       "      <th>1</th>\n",
       "      <td>Да, нравится, когда логотип крупный</td>\n",
       "      <td>27.5</td>\n",
       "    </tr>\n",
       "    <tr>\n",
       "      <th>2</th>\n",
       "      <td>Нет, мне неважно, какого размера будет логотип</td>\n",
       "      <td>20.0</td>\n",
       "    </tr>\n",
       "    <tr>\n",
       "      <th>3</th>\n",
       "      <td>Не люблю, когда на мерче есть логотип</td>\n",
       "      <td>7.5</td>\n",
       "    </tr>\n",
       "  </tbody>\n",
       "</table>\n",
       "</div>"
      ],
      "text/plain": [
       "  Вам важно, какого размера будет логотип на мерче?     %\n",
       "0    Да, нравится, когда логотип маленького размера  45.0\n",
       "1               Да, нравится, когда логотип крупный  27.5\n",
       "2    Нет, мне неважно, какого размера будет логотип  20.0\n",
       "3             Не люблю, когда на мерче есть логотип   7.5"
      ]
     },
     "execution_count": 155,
     "metadata": {},
     "output_type": "execute_result"
    }
   ],
   "source": [
    "df_m_10 = round(m.iloc[:,[10]].value_counts() / m.iloc[:,[10]].value_counts().sum() * 100, 1).reset_index()\n",
    "df_m_10.columns = ['Вам важно, какого размера будет логотип на мерче?', '%']\n",
    "df_m_10"
   ]
  },
  {
   "cell_type": "code",
   "execution_count": 156,
   "metadata": {},
   "outputs": [
    {
     "name": "stdout",
     "output_type": "stream",
     "text": [
      "Доверительный интервал: (7.548411127233777, 25.0, 42.45158887276622)\n"
     ]
    }
   ],
   "source": [
    "print('Доверительный интервал:', mean_confidence_interval(df_m_10['%'], 0.91))"
   ]
  },
  {
   "cell_type": "code",
   "execution_count": null,
   "metadata": {},
   "outputs": [],
   "source": [
    "\n"
   ]
  },
  {
   "cell_type": "code",
   "execution_count": 157,
   "metadata": {},
   "outputs": [
    {
     "data": {
      "text/html": [
       "<div>\n",
       "<style scoped>\n",
       "    .dataframe tbody tr th:only-of-type {\n",
       "        vertical-align: middle;\n",
       "    }\n",
       "\n",
       "    .dataframe tbody tr th {\n",
       "        vertical-align: top;\n",
       "    }\n",
       "\n",
       "    .dataframe thead th {\n",
       "        text-align: right;\n",
       "    }\n",
       "</style>\n",
       "<table border=\"1\" class=\"dataframe\">\n",
       "  <thead>\n",
       "    <tr style=\"text-align: right;\">\n",
       "      <th></th>\n",
       "      <th>Какой мерч вам интереснее всего?</th>\n",
       "      <th>%</th>\n",
       "    </tr>\n",
       "  </thead>\n",
       "  <tbody>\n",
       "    <tr>\n",
       "      <th>0</th>\n",
       "      <td>Одежда (футболки, худи и др.)</td>\n",
       "      <td>52.5</td>\n",
       "    </tr>\n",
       "    <tr>\n",
       "      <th>1</th>\n",
       "      <td>Канцтовары (блокноты, ручки, стикеры и др.)</td>\n",
       "      <td>32.5</td>\n",
       "    </tr>\n",
       "    <tr>\n",
       "      <th>2</th>\n",
       "      <td>Посуда (кружки, термокружки и др.)</td>\n",
       "      <td>10.0</td>\n",
       "    </tr>\n",
       "    <tr>\n",
       "      <th>3</th>\n",
       "      <td>значки-пины</td>\n",
       "      <td>2.5</td>\n",
       "    </tr>\n",
       "    <tr>\n",
       "      <th>4</th>\n",
       "      <td>Аксессуары (шоперы, шарфы и др.)</td>\n",
       "      <td>2.5</td>\n",
       "    </tr>\n",
       "  </tbody>\n",
       "</table>\n",
       "</div>"
      ],
      "text/plain": [
       "              Какой мерч вам интереснее всего?     %\n",
       "0                Одежда (футболки, худи и др.)  52.5\n",
       "1  Канцтовары (блокноты, ручки, стикеры и др.)  32.5\n",
       "2           Посуда (кружки, термокружки и др.)  10.0\n",
       "3                                  значки-пины   2.5\n",
       "4             Аксессуары (шоперы, шарфы и др.)   2.5"
      ]
     },
     "execution_count": 157,
     "metadata": {},
     "output_type": "execute_result"
    }
   ],
   "source": [
    "df_m_11 = round(m.iloc[:,[11]].value_counts() / m.iloc[:,[11]].value_counts().sum() * 100, 1).reset_index()\n",
    "df_m_11.columns = ['Какой мерч вам интереснее всего?', '%']\n",
    "df_m_11"
   ]
  },
  {
   "cell_type": "code",
   "execution_count": 158,
   "metadata": {},
   "outputs": [
    {
     "name": "stdout",
     "output_type": "stream",
     "text": [
      "Доверительный интервал: (2.5259485410728715, 20.0, 37.47405145892713)\n"
     ]
    }
   ],
   "source": [
    "print('Доверительный интервал:', mean_confidence_interval(df_m_11['%'], 0.865))"
   ]
  },
  {
   "cell_type": "code",
   "execution_count": null,
   "metadata": {},
   "outputs": [],
   "source": [
    "\n"
   ]
  },
  {
   "cell_type": "code",
   "execution_count": 159,
   "metadata": {},
   "outputs": [
    {
     "data": {
      "text/html": [
       "<div>\n",
       "<style scoped>\n",
       "    .dataframe tbody tr th:only-of-type {\n",
       "        vertical-align: middle;\n",
       "    }\n",
       "\n",
       "    .dataframe tbody tr th {\n",
       "        vertical-align: top;\n",
       "    }\n",
       "\n",
       "    .dataframe thead th {\n",
       "        text-align: right;\n",
       "    }\n",
       "</style>\n",
       "<table border=\"1\" class=\"dataframe\">\n",
       "  <thead>\n",
       "    <tr style=\"text-align: right;\">\n",
       "      <th></th>\n",
       "      <th>Вам был бы интересен мерч без логотипа, который отражал бы философию конкретного бренда? Пример - футболки с надписью \"Иноагент\", выпущенные \"Медузой\" совместно с другими брендами</th>\n",
       "      <th>%</th>\n",
       "    </tr>\n",
       "  </thead>\n",
       "  <tbody>\n",
       "    <tr>\n",
       "      <th>0</th>\n",
       "      <td>Да</td>\n",
       "      <td>67.5</td>\n",
       "    </tr>\n",
       "    <tr>\n",
       "      <th>1</th>\n",
       "      <td>Нет</td>\n",
       "      <td>32.5</td>\n",
       "    </tr>\n",
       "  </tbody>\n",
       "</table>\n",
       "</div>"
      ],
      "text/plain": [
       "  Вам был бы интересен мерч без логотипа, который отражал бы философию конкретного бренда? Пример - футболки с надписью \"Иноагент\", выпущенные \"Медузой\" совместно с другими брендами  \\\n",
       "0                                                 Да                                                                                                                                    \n",
       "1                                                Нет                                                                                                                                    \n",
       "\n",
       "      %  \n",
       "0  67.5  \n",
       "1  32.5  "
      ]
     },
     "execution_count": 159,
     "metadata": {},
     "output_type": "execute_result"
    }
   ],
   "source": [
    "df_m_12 = round(m.iloc[:,[12]].value_counts() / m.iloc[:,[12]].value_counts().sum() * 100, 1).reset_index()\n",
    "df_m_12.columns = ['Вам был бы интересен мерч без логотипа, который отражал бы философию конкретного бренда? Пример - футболки с надписью \"Иноагент\", выпущенные \"Медузой\" совместно с другими брендами', '%']\n",
    "df_m_12"
   ]
  },
  {
   "cell_type": "code",
   "execution_count": 160,
   "metadata": {},
   "outputs": [
    {
     "name": "stdout",
     "output_type": "stream",
     "text": [
      "Доверительный интервал: (32.606533418016916, 50.0, 67.39346658198309)\n"
     ]
    }
   ],
   "source": [
    "print('Доверительный интервал:', mean_confidence_interval(df_m_12['%'], 0.575))"
   ]
  },
  {
   "cell_type": "code",
   "execution_count": null,
   "metadata": {},
   "outputs": [],
   "source": [
    "\n"
   ]
  },
  {
   "cell_type": "code",
   "execution_count": 161,
   "metadata": {},
   "outputs": [
    {
     "data": {
      "text/html": [
       "<div>\n",
       "<style scoped>\n",
       "    .dataframe tbody tr th:only-of-type {\n",
       "        vertical-align: middle;\n",
       "    }\n",
       "\n",
       "    .dataframe tbody tr th {\n",
       "        vertical-align: top;\n",
       "    }\n",
       "\n",
       "    .dataframe thead th {\n",
       "        text-align: right;\n",
       "    }\n",
       "</style>\n",
       "<table border=\"1\" class=\"dataframe\">\n",
       "  <thead>\n",
       "    <tr style=\"text-align: right;\">\n",
       "      <th></th>\n",
       "      <th>Вам нравятся цитаты в виде принта на мерче?</th>\n",
       "      <th>%</th>\n",
       "    </tr>\n",
       "  </thead>\n",
       "  <tbody>\n",
       "    <tr>\n",
       "      <th>0</th>\n",
       "      <td>Да</td>\n",
       "      <td>70.0</td>\n",
       "    </tr>\n",
       "    <tr>\n",
       "      <th>1</th>\n",
       "      <td>Нет</td>\n",
       "      <td>30.0</td>\n",
       "    </tr>\n",
       "  </tbody>\n",
       "</table>\n",
       "</div>"
      ],
      "text/plain": [
       "  Вам нравятся цитаты в виде принта на мерче?     %\n",
       "0                                          Да  70.0\n",
       "1                                         Нет  30.0"
      ]
     },
     "execution_count": 161,
     "metadata": {},
     "output_type": "execute_result"
    }
   ],
   "source": [
    "df_m_13 = round(m.iloc[:,[13]].value_counts() / m.iloc[:,[13]].value_counts().sum() * 100, 1).reset_index()\n",
    "df_m_13.columns = ['Вам нравятся цитаты в виде принта на мерче?', '%']\n",
    "df_m_13"
   ]
  },
  {
   "cell_type": "code",
   "execution_count": 162,
   "metadata": {},
   "outputs": [
    {
     "name": "stdout",
     "output_type": "stream",
     "text": [
      "Доверительный интервал: (30.12175247773362, 50.0, 69.87824752226638)\n"
     ]
    }
   ],
   "source": [
    "print('Доверительный интервал:', mean_confidence_interval(df_m_13['%'], 0.575))"
   ]
  },
  {
   "cell_type": "code",
   "execution_count": null,
   "metadata": {},
   "outputs": [],
   "source": [
    "\n"
   ]
  },
  {
   "cell_type": "code",
   "execution_count": 163,
   "metadata": {},
   "outputs": [
    {
     "data": {
      "text/html": [
       "<div>\n",
       "<style scoped>\n",
       "    .dataframe tbody tr th:only-of-type {\n",
       "        vertical-align: middle;\n",
       "    }\n",
       "\n",
       "    .dataframe tbody tr th {\n",
       "        vertical-align: top;\n",
       "    }\n",
       "\n",
       "    .dataframe thead th {\n",
       "        text-align: right;\n",
       "    }\n",
       "</style>\n",
       "<table border=\"1\" class=\"dataframe\">\n",
       "  <thead>\n",
       "    <tr style=\"text-align: right;\">\n",
       "      <th></th>\n",
       "      <th>Как вы относитесь к юмористическим цитатам на мерче?</th>\n",
       "      <th>%</th>\n",
       "    </tr>\n",
       "  </thead>\n",
       "  <tbody>\n",
       "    <tr>\n",
       "      <th>0</th>\n",
       "      <td>Нравится</td>\n",
       "      <td>75.0</td>\n",
       "    </tr>\n",
       "    <tr>\n",
       "      <th>1</th>\n",
       "      <td>Не нравится</td>\n",
       "      <td>25.0</td>\n",
       "    </tr>\n",
       "  </tbody>\n",
       "</table>\n",
       "</div>"
      ],
      "text/plain": [
       "  Как вы относитесь к юмористическим цитатам на мерче?     %\n",
       "0                                           Нравится    75.0\n",
       "1                                        Не нравится    25.0"
      ]
     },
     "execution_count": 163,
     "metadata": {},
     "output_type": "execute_result"
    }
   ],
   "source": [
    "df_m_14 = round(m.iloc[:,[14]].value_counts() / m.iloc[:,[14]].value_counts().sum() * 100, 1).reset_index()\n",
    "df_m_14.columns = ['Как вы относитесь к юмористическим цитатам на мерче?', '%']\n",
    "df_m_14"
   ]
  },
  {
   "cell_type": "code",
   "execution_count": 164,
   "metadata": {},
   "outputs": [
    {
     "name": "stdout",
     "output_type": "stream",
     "text": [
      "Доверительный интервал: (25.152190597167024, 50.0, 74.84780940283298)\n"
     ]
    }
   ],
   "source": [
    "print('Доверительный интервал:', mean_confidence_interval(df_m_14['%'], 0.575))"
   ]
  },
  {
   "cell_type": "code",
   "execution_count": null,
   "metadata": {},
   "outputs": [],
   "source": [
    "\n"
   ]
  },
  {
   "cell_type": "code",
   "execution_count": 165,
   "metadata": {},
   "outputs": [
    {
     "data": {
      "text/html": [
       "<div>\n",
       "<style scoped>\n",
       "    .dataframe tbody tr th:only-of-type {\n",
       "        vertical-align: middle;\n",
       "    }\n",
       "\n",
       "    .dataframe tbody tr th {\n",
       "        vertical-align: top;\n",
       "    }\n",
       "\n",
       "    .dataframe thead th {\n",
       "        text-align: right;\n",
       "    }\n",
       "</style>\n",
       "<table border=\"1\" class=\"dataframe\">\n",
       "  <thead>\n",
       "    <tr style=\"text-align: right;\">\n",
       "      <th></th>\n",
       "      <th>Вы обычно покупаете мерч после важных мероприятий? Например, после концерта или интересной отраслевой конференции</th>\n",
       "      <th>%</th>\n",
       "    </tr>\n",
       "  </thead>\n",
       "  <tbody>\n",
       "    <tr>\n",
       "      <th>0</th>\n",
       "      <td>Я никогда не покупал мерч</td>\n",
       "      <td>42.5</td>\n",
       "    </tr>\n",
       "    <tr>\n",
       "      <th>1</th>\n",
       "      <td>Нет</td>\n",
       "      <td>32.5</td>\n",
       "    </tr>\n",
       "    <tr>\n",
       "      <th>2</th>\n",
       "      <td>Да</td>\n",
       "      <td>25.0</td>\n",
       "    </tr>\n",
       "  </tbody>\n",
       "</table>\n",
       "</div>"
      ],
      "text/plain": [
       "  Вы обычно покупаете мерч после важных мероприятий? Например, после концерта или интересной отраслевой конференции  \\\n",
       "0                          Я никогда не покупал мерч                                                                  \n",
       "1                                                Нет                                                                  \n",
       "2                                                 Да                                                                  \n",
       "\n",
       "      %  \n",
       "0  42.5  \n",
       "1  32.5  \n",
       "2  25.0  "
      ]
     },
     "execution_count": 165,
     "metadata": {},
     "output_type": "execute_result"
    }
   ],
   "source": [
    "df_m_15 = round(m.iloc[:,[15]].value_counts() / m.iloc[:,[15]].value_counts().sum() * 100, 1).reset_index()\n",
    "df_m_15.columns = ['Вы обычно покупаете мерч после важных мероприятий? Например, после концерта или интересной отраслевой конференции', '%']\n",
    "df_m_15"
   ]
  },
  {
   "cell_type": "code",
   "execution_count": 166,
   "metadata": {},
   "outputs": [
    {
     "name": "stdout",
     "output_type": "stream",
     "text": [
      "Доверительный интервал: (25.03165832476645, 33.333333333333336, 41.63500834190022)\n"
     ]
    }
   ],
   "source": [
    "print('Доверительный интервал:', mean_confidence_interval(df_m_15['%'], 0.8))"
   ]
  },
  {
   "cell_type": "code",
   "execution_count": null,
   "metadata": {},
   "outputs": [],
   "source": [
    "\n"
   ]
  },
  {
   "cell_type": "code",
   "execution_count": 167,
   "metadata": {},
   "outputs": [
    {
     "data": {
      "text/html": [
       "<div>\n",
       "<style scoped>\n",
       "    .dataframe tbody tr th:only-of-type {\n",
       "        vertical-align: middle;\n",
       "    }\n",
       "\n",
       "    .dataframe tbody tr th {\n",
       "        vertical-align: top;\n",
       "    }\n",
       "\n",
       "    .dataframe thead th {\n",
       "        text-align: right;\n",
       "    }\n",
       "</style>\n",
       "<table border=\"1\" class=\"dataframe\">\n",
       "  <thead>\n",
       "    <tr style=\"text-align: right;\">\n",
       "      <th></th>\n",
       "      <th>Вам важно, чтобы вы сами могли придумать свой дизайн для мерча: выбрать уникальное сочетание цвета и принта?</th>\n",
       "      <th>%</th>\n",
       "    </tr>\n",
       "  </thead>\n",
       "  <tbody>\n",
       "    <tr>\n",
       "      <th>0</th>\n",
       "      <td>Нет, дизайнерам виднее</td>\n",
       "      <td>52.5</td>\n",
       "    </tr>\n",
       "    <tr>\n",
       "      <th>1</th>\n",
       "      <td>Да, люблю эксперименты</td>\n",
       "      <td>47.5</td>\n",
       "    </tr>\n",
       "  </tbody>\n",
       "</table>\n",
       "</div>"
      ],
      "text/plain": [
       "  Вам важно, чтобы вы сами могли придумать свой дизайн для мерча: выбрать уникальное сочетание цвета и принта?  \\\n",
       "0                             Нет, дизайнерам виднее                                                             \n",
       "1                             Да, люблю эксперименты                                                             \n",
       "\n",
       "      %  \n",
       "0  52.5  \n",
       "1  47.5  "
      ]
     },
     "execution_count": 167,
     "metadata": {},
     "output_type": "execute_result"
    }
   ],
   "source": [
    "df_m_16 = round(m.iloc[:,[16]].value_counts() / m.iloc[:,[16]].value_counts().sum() * 100, 1).reset_index()\n",
    "df_m_16.columns = ['Вам важно, чтобы вы сами могли придумать свой дизайн для мерча: выбрать уникальное сочетание цвета и принта?', '%']\n",
    "df_m_16"
   ]
  },
  {
   "cell_type": "code",
   "execution_count": 168,
   "metadata": {},
   "outputs": [
    {
     "name": "stdout",
     "output_type": "stream",
     "text": [
      "Доверительный интервал: (47.5152190597167, 50.0, 52.4847809402833)\n"
     ]
    }
   ],
   "source": [
    "print('Доверительный интервал:', mean_confidence_interval(df_m_16['%'], 0.575))"
   ]
  },
  {
   "cell_type": "code",
   "execution_count": null,
   "metadata": {},
   "outputs": [],
   "source": [
    "\n"
   ]
  },
  {
   "cell_type": "code",
   "execution_count": 169,
   "metadata": {},
   "outputs": [
    {
     "data": {
      "text/html": [
       "<div>\n",
       "<style scoped>\n",
       "    .dataframe tbody tr th:only-of-type {\n",
       "        vertical-align: middle;\n",
       "    }\n",
       "\n",
       "    .dataframe tbody tr th {\n",
       "        vertical-align: top;\n",
       "    }\n",
       "\n",
       "    .dataframe thead th {\n",
       "        text-align: right;\n",
       "    }\n",
       "</style>\n",
       "<table border=\"1\" class=\"dataframe\">\n",
       "  <thead>\n",
       "    <tr style=\"text-align: right;\">\n",
       "      <th></th>\n",
       "      <th>Мерч в качестве бонуса мотивировал бы вас лучше учиться?</th>\n",
       "      <th>%</th>\n",
       "    </tr>\n",
       "  </thead>\n",
       "  <tbody>\n",
       "    <tr>\n",
       "      <th>0</th>\n",
       "      <td>Да</td>\n",
       "      <td>70.0</td>\n",
       "    </tr>\n",
       "    <tr>\n",
       "      <th>1</th>\n",
       "      <td>Нет</td>\n",
       "      <td>30.0</td>\n",
       "    </tr>\n",
       "  </tbody>\n",
       "</table>\n",
       "</div>"
      ],
      "text/plain": [
       "  Мерч в качестве бонуса мотивировал бы вас лучше учиться?     %\n",
       "0                                                 Да        70.0\n",
       "1                                                Нет        30.0"
      ]
     },
     "execution_count": 169,
     "metadata": {},
     "output_type": "execute_result"
    }
   ],
   "source": [
    "df_m_17 = round(m.iloc[:,[17]].value_counts() / m.iloc[:,[17]].value_counts().sum() * 100, 1).reset_index()\n",
    "df_m_17.columns = ['Мерч в качестве бонуса мотивировал бы вас лучше учиться?', '%']\n",
    "df_m_17"
   ]
  },
  {
   "cell_type": "code",
   "execution_count": 170,
   "metadata": {},
   "outputs": [
    {
     "name": "stdout",
     "output_type": "stream",
     "text": [
      "Доверительный интервал: (30.12175247773362, 50.0, 69.87824752226638)\n"
     ]
    }
   ],
   "source": [
    "print('Доверительный интервал:', mean_confidence_interval(df_m_17['%'], 0.575))"
   ]
  },
  {
   "cell_type": "code",
   "execution_count": null,
   "metadata": {},
   "outputs": [],
   "source": [
    "\n"
   ]
  },
  {
   "cell_type": "code",
   "execution_count": 171,
   "metadata": {},
   "outputs": [
    {
     "data": {
      "text/html": [
       "<div>\n",
       "<style scoped>\n",
       "    .dataframe tbody tr th:only-of-type {\n",
       "        vertical-align: middle;\n",
       "    }\n",
       "\n",
       "    .dataframe tbody tr th {\n",
       "        vertical-align: top;\n",
       "    }\n",
       "\n",
       "    .dataframe thead th {\n",
       "        text-align: right;\n",
       "    }\n",
       "</style>\n",
       "<table border=\"1\" class=\"dataframe\">\n",
       "  <thead>\n",
       "    <tr style=\"text-align: right;\">\n",
       "      <th></th>\n",
       "      <th>Вам важно, чтобы мерч был уникальным продуктом, который больше ни у кого не встретишь?</th>\n",
       "      <th>%</th>\n",
       "    </tr>\n",
       "  </thead>\n",
       "  <tbody>\n",
       "    <tr>\n",
       "      <th>0</th>\n",
       "      <td>Да</td>\n",
       "      <td>77.5</td>\n",
       "    </tr>\n",
       "    <tr>\n",
       "      <th>1</th>\n",
       "      <td>Нет</td>\n",
       "      <td>22.5</td>\n",
       "    </tr>\n",
       "  </tbody>\n",
       "</table>\n",
       "</div>"
      ],
      "text/plain": [
       "  Вам важно, чтобы мерч был уникальным продуктом, который больше ни у кого не встретишь?  \\\n",
       "0                                                 Да                                       \n",
       "1                                                Нет                                       \n",
       "\n",
       "      %  \n",
       "0  77.5  \n",
       "1  22.5  "
      ]
     },
     "execution_count": 171,
     "metadata": {},
     "output_type": "execute_result"
    }
   ],
   "source": [
    "df_m_18 = round(m.iloc[:,[18]].value_counts() / m.iloc[:,[18]].value_counts().sum() * 100, 1).reset_index()\n",
    "df_m_18.columns = ['Вам важно, чтобы мерч был уникальным продуктом, который больше ни у кого не встретишь?', '%']\n",
    "df_m_18"
   ]
  },
  {
   "cell_type": "code",
   "execution_count": 172,
   "metadata": {},
   "outputs": [
    {
     "name": "stdout",
     "output_type": "stream",
     "text": [
      "Доверительный интервал: (22.667409656883727, 50.0, 77.33259034311627)\n"
     ]
    }
   ],
   "source": [
    "print('Доверительный интервал:', mean_confidence_interval(df_m_18['%'], 0.575))"
   ]
  },
  {
   "cell_type": "code",
   "execution_count": null,
   "metadata": {},
   "outputs": [],
   "source": [
    "\n"
   ]
  },
  {
   "cell_type": "code",
   "execution_count": 173,
   "metadata": {},
   "outputs": [
    {
     "data": {
      "text/html": [
       "<div>\n",
       "<style scoped>\n",
       "    .dataframe tbody tr th:only-of-type {\n",
       "        vertical-align: middle;\n",
       "    }\n",
       "\n",
       "    .dataframe tbody tr th {\n",
       "        vertical-align: top;\n",
       "    }\n",
       "\n",
       "    .dataframe thead th {\n",
       "        text-align: right;\n",
       "    }\n",
       "</style>\n",
       "<table border=\"1\" class=\"dataframe\">\n",
       "  <thead>\n",
       "    <tr style=\"text-align: right;\">\n",
       "      <th></th>\n",
       "      <th>Вы готовы платить за лимитированный мерч? Лимитированная коллекция - та, которая выпускается один раз ограниченным тиражом</th>\n",
       "      <th>%</th>\n",
       "    </tr>\n",
       "  </thead>\n",
       "  <tbody>\n",
       "    <tr>\n",
       "      <th>0</th>\n",
       "      <td>Да</td>\n",
       "      <td>65.0</td>\n",
       "    </tr>\n",
       "    <tr>\n",
       "      <th>1</th>\n",
       "      <td>Нет</td>\n",
       "      <td>35.0</td>\n",
       "    </tr>\n",
       "  </tbody>\n",
       "</table>\n",
       "</div>"
      ],
      "text/plain": [
       "  Вы готовы платить за лимитированный мерч? Лимитированная коллекция - та, которая выпускается один раз ограниченным тиражом  \\\n",
       "0                                                 Да                                                                           \n",
       "1                                                Нет                                                                           \n",
       "\n",
       "      %  \n",
       "0  65.0  \n",
       "1  35.0  "
      ]
     },
     "execution_count": 173,
     "metadata": {},
     "output_type": "execute_result"
    }
   ],
   "source": [
    "df_m_19 = round(m.iloc[:,[19]].value_counts() / m.iloc[:,[19]].value_counts().sum() * 100, 1).reset_index()\n",
    "df_m_19.columns = ['Вы готовы платить за лимитированный мерч? Лимитированная коллекция - та, которая выпускается один раз ограниченным тиражом', '%']\n",
    "df_m_19"
   ]
  },
  {
   "cell_type": "code",
   "execution_count": 174,
   "metadata": {},
   "outputs": [
    {
     "name": "stdout",
     "output_type": "stream",
     "text": [
      "Доверительный интервал: (35.09131435830021, 50.0, 64.90868564169979)\n"
     ]
    }
   ],
   "source": [
    "print('Доверительный интервал:', mean_confidence_interval(df_m_19['%'], 0.575))"
   ]
  },
  {
   "cell_type": "code",
   "execution_count": null,
   "metadata": {},
   "outputs": [],
   "source": [
    "\n"
   ]
  },
  {
   "cell_type": "code",
   "execution_count": 175,
   "metadata": {},
   "outputs": [
    {
     "data": {
      "text/html": [
       "<div>\n",
       "<style scoped>\n",
       "    .dataframe tbody tr th:only-of-type {\n",
       "        vertical-align: middle;\n",
       "    }\n",
       "\n",
       "    .dataframe tbody tr th {\n",
       "        vertical-align: top;\n",
       "    }\n",
       "\n",
       "    .dataframe thead th {\n",
       "        text-align: right;\n",
       "    }\n",
       "</style>\n",
       "<table border=\"1\" class=\"dataframe\">\n",
       "  <thead>\n",
       "    <tr style=\"text-align: right;\">\n",
       "      <th></th>\n",
       "      <th>Обращаете ли вы внимание на экологичность товаров при покупке вещей?</th>\n",
       "      <th>%</th>\n",
       "    </tr>\n",
       "  </thead>\n",
       "  <tbody>\n",
       "    <tr>\n",
       "      <th>0</th>\n",
       "      <td>Нет, для меня это неважный критерий при выборе...</td>\n",
       "      <td>60.0</td>\n",
       "    </tr>\n",
       "    <tr>\n",
       "      <th>1</th>\n",
       "      <td>Да, большая часть моих вещей - экологичные</td>\n",
       "      <td>40.0</td>\n",
       "    </tr>\n",
       "  </tbody>\n",
       "</table>\n",
       "</div>"
      ],
      "text/plain": [
       "  Обращаете ли вы внимание на экологичность товаров при покупке вещей?     %\n",
       "0  Нет, для меня это неважный критерий при выборе...                    60.0\n",
       "1         Да, большая часть моих вещей - экологичные                    40.0"
      ]
     },
     "execution_count": 175,
     "metadata": {},
     "output_type": "execute_result"
    }
   ],
   "source": [
    "df_m_20 = round(m.iloc[:,[20]].value_counts() / m.iloc[:,[20]].value_counts().sum() * 100, 1).reset_index()\n",
    "df_m_20.columns = ['Обращаете ли вы внимание на экологичность товаров при покупке вещей?', '%']\n",
    "df_m_20"
   ]
  },
  {
   "cell_type": "code",
   "execution_count": 176,
   "metadata": {},
   "outputs": [
    {
     "name": "stdout",
     "output_type": "stream",
     "text": [
      "Доверительный интервал: (40.06087623886681, 50.0, 59.93912376113319)\n"
     ]
    }
   ],
   "source": [
    "print('Доверительный интервал:', mean_confidence_interval(df_m_20['%'], 0.575))"
   ]
  },
  {
   "cell_type": "code",
   "execution_count": null,
   "metadata": {},
   "outputs": [],
   "source": [
    "\n"
   ]
  },
  {
   "cell_type": "code",
   "execution_count": 177,
   "metadata": {},
   "outputs": [
    {
     "data": {
      "text/html": [
       "<div>\n",
       "<style scoped>\n",
       "    .dataframe tbody tr th:only-of-type {\n",
       "        vertical-align: middle;\n",
       "    }\n",
       "\n",
       "    .dataframe tbody tr th {\n",
       "        vertical-align: top;\n",
       "    }\n",
       "\n",
       "    .dataframe thead th {\n",
       "        text-align: right;\n",
       "    }\n",
       "</style>\n",
       "<table border=\"1\" class=\"dataframe\">\n",
       "  <thead>\n",
       "    <tr style=\"text-align: right;\">\n",
       "      <th></th>\n",
       "      <th>Вы с большей вероятностью купите мерч, если будете знать, что вырученные средства пойдут на благотворительность?</th>\n",
       "      <th>%</th>\n",
       "    </tr>\n",
       "  </thead>\n",
       "  <tbody>\n",
       "    <tr>\n",
       "      <th>0</th>\n",
       "      <td>Да</td>\n",
       "      <td>65.0</td>\n",
       "    </tr>\n",
       "    <tr>\n",
       "      <th>1</th>\n",
       "      <td>Нет</td>\n",
       "      <td>35.0</td>\n",
       "    </tr>\n",
       "  </tbody>\n",
       "</table>\n",
       "</div>"
      ],
      "text/plain": [
       "  Вы с большей вероятностью купите мерч, если будете знать, что вырученные средства пойдут на благотворительность?  \\\n",
       "0                                                 Да                                                                 \n",
       "1                                                Нет                                                                 \n",
       "\n",
       "      %  \n",
       "0  65.0  \n",
       "1  35.0  "
      ]
     },
     "execution_count": 177,
     "metadata": {},
     "output_type": "execute_result"
    }
   ],
   "source": [
    "df_m_21 = round(m.iloc[:,[21]].value_counts() / m.iloc[:,[21]].value_counts().sum() * 100, 1).reset_index()\n",
    "df_m_21.columns = ['Вы с большей вероятностью купите мерч, если будете знать, что вырученные средства пойдут на благотворительность?', '%']\n",
    "df_m_21"
   ]
  },
  {
   "cell_type": "code",
   "execution_count": 178,
   "metadata": {},
   "outputs": [
    {
     "name": "stdout",
     "output_type": "stream",
     "text": [
      "Доверительный интервал: (35.09131435830021, 50.0, 64.90868564169979)\n"
     ]
    }
   ],
   "source": [
    "print('Доверительный интервал:', mean_confidence_interval(df_m_21['%'], 0.575))"
   ]
  },
  {
   "cell_type": "code",
   "execution_count": null,
   "metadata": {},
   "outputs": [],
   "source": [
    "\n"
   ]
  },
  {
   "cell_type": "code",
   "execution_count": 179,
   "metadata": {},
   "outputs": [
    {
     "data": {
      "text/html": [
       "<div>\n",
       "<style scoped>\n",
       "    .dataframe tbody tr th:only-of-type {\n",
       "        vertical-align: middle;\n",
       "    }\n",
       "\n",
       "    .dataframe tbody tr th {\n",
       "        vertical-align: top;\n",
       "    }\n",
       "\n",
       "    .dataframe thead th {\n",
       "        text-align: right;\n",
       "    }\n",
       "</style>\n",
       "<table border=\"1\" class=\"dataframe\">\n",
       "  <thead>\n",
       "    <tr style=\"text-align: right;\">\n",
       "      <th></th>\n",
       "      <th>Вы бы купили мерч в подарок для благотворительного фонда/детского дома?</th>\n",
       "      <th>%</th>\n",
       "    </tr>\n",
       "  </thead>\n",
       "  <tbody>\n",
       "    <tr>\n",
       "      <th>0</th>\n",
       "      <td>Да</td>\n",
       "      <td>67.5</td>\n",
       "    </tr>\n",
       "    <tr>\n",
       "      <th>1</th>\n",
       "      <td>Нет</td>\n",
       "      <td>32.5</td>\n",
       "    </tr>\n",
       "  </tbody>\n",
       "</table>\n",
       "</div>"
      ],
      "text/plain": [
       "  Вы бы купили мерч в подарок для благотворительного фонда/детского дома?  \\\n",
       "0                                                 Да                        \n",
       "1                                                Нет                        \n",
       "\n",
       "      %  \n",
       "0  67.5  \n",
       "1  32.5  "
      ]
     },
     "execution_count": 179,
     "metadata": {},
     "output_type": "execute_result"
    }
   ],
   "source": [
    "df_m_22 = round(m.iloc[:,[22]].value_counts() / m.iloc[:,[22]].value_counts().sum() * 100, 1).reset_index()\n",
    "df_m_22.columns = ['Вы бы купили мерч в подарок для благотворительного фонда/детского дома?', '%']\n",
    "df_m_22"
   ]
  },
  {
   "cell_type": "code",
   "execution_count": 180,
   "metadata": {},
   "outputs": [
    {
     "name": "stdout",
     "output_type": "stream",
     "text": [
      "Доверительный интервал: (32.606533418016916, 50.0, 67.39346658198309)\n"
     ]
    }
   ],
   "source": [
    "print('Доверительный интервал:', mean_confidence_interval(df_m_22['%'], 0.575))"
   ]
  },
  {
   "cell_type": "code",
   "execution_count": null,
   "metadata": {},
   "outputs": [],
   "source": [
    "\n",
    "\n"
   ]
  },
  {
   "cell_type": "markdown",
   "metadata": {},
   "source": [
    "# --------------------------------------------------------------------------------------------------------------\n"
   ]
  },
  {
   "cell_type": "code",
   "execution_count": null,
   "metadata": {},
   "outputs": [],
   "source": []
  },
  {
   "cell_type": "code",
   "execution_count": null,
   "metadata": {},
   "outputs": [],
   "source": []
  },
  {
   "cell_type": "markdown",
   "metadata": {},
   "source": [
    "### % опрошенных пользователей, которые так ответили:"
   ]
  },
  {
   "cell_type": "code",
   "execution_count": 181,
   "metadata": {},
   "outputs": [],
   "source": [
    "df_f = df.loc[df['Укажите ваш пол'] == 'Женский']\n",
    "df_m = df.loc[df['Укажите ваш пол'] == 'Мужской']"
   ]
  },
  {
   "cell_type": "code",
   "execution_count": 182,
   "metadata": {},
   "outputs": [
    {
     "data": {
      "text/html": [
       "<div>\n",
       "<style scoped>\n",
       "    .dataframe tbody tr th:only-of-type {\n",
       "        vertical-align: middle;\n",
       "    }\n",
       "\n",
       "    .dataframe tbody tr th {\n",
       "        vertical-align: top;\n",
       "    }\n",
       "\n",
       "    .dataframe thead th {\n",
       "        text-align: right;\n",
       "    }\n",
       "</style>\n",
       "<table border=\"1\" class=\"dataframe\">\n",
       "  <thead>\n",
       "    <tr style=\"text-align: right;\">\n",
       "      <th></th>\n",
       "      <th>Укажите ваш возраст</th>\n",
       "      <th>Жен., %</th>\n",
       "    </tr>\n",
       "  </thead>\n",
       "  <tbody>\n",
       "    <tr>\n",
       "      <th>0</th>\n",
       "      <td>30-39 лет</td>\n",
       "      <td>39.5</td>\n",
       "    </tr>\n",
       "    <tr>\n",
       "      <th>1</th>\n",
       "      <td>40-49 лет</td>\n",
       "      <td>22.6</td>\n",
       "    </tr>\n",
       "    <tr>\n",
       "      <th>2</th>\n",
       "      <td>23-29 лет</td>\n",
       "      <td>22.6</td>\n",
       "    </tr>\n",
       "    <tr>\n",
       "      <th>3</th>\n",
       "      <td>больше 50 лет</td>\n",
       "      <td>8.1</td>\n",
       "    </tr>\n",
       "    <tr>\n",
       "      <th>4</th>\n",
       "      <td>18-22 лет</td>\n",
       "      <td>4.8</td>\n",
       "    </tr>\n",
       "    <tr>\n",
       "      <th>5</th>\n",
       "      <td>до 18 лет</td>\n",
       "      <td>2.4</td>\n",
       "    </tr>\n",
       "  </tbody>\n",
       "</table>\n",
       "</div>"
      ],
      "text/plain": [
       "  Укажите ваш возраст  Жен., %\n",
       "0           30-39 лет     39.5\n",
       "1           40-49 лет     22.6\n",
       "2           23-29 лет     22.6\n",
       "3       больше 50 лет      8.1\n",
       "4           18-22 лет      4.8\n",
       "5           до 18 лет      2.4"
      ]
     },
     "execution_count": 182,
     "metadata": {},
     "output_type": "execute_result"
    }
   ],
   "source": [
    "df1_f = round(df_f.iloc[:,[1]].value_counts() / df_f.iloc[:,[1]].value_counts().sum() * 100, 1).reset_index()\n",
    "df1_f.columns = ['Укажите ваш возраст', 'Жен., %']\n",
    "df1_f"
   ]
  },
  {
   "cell_type": "code",
   "execution_count": 183,
   "metadata": {},
   "outputs": [
    {
     "data": {
      "text/html": [
       "<div>\n",
       "<style scoped>\n",
       "    .dataframe tbody tr th:only-of-type {\n",
       "        vertical-align: middle;\n",
       "    }\n",
       "\n",
       "    .dataframe tbody tr th {\n",
       "        vertical-align: top;\n",
       "    }\n",
       "\n",
       "    .dataframe thead th {\n",
       "        text-align: right;\n",
       "    }\n",
       "</style>\n",
       "<table border=\"1\" class=\"dataframe\">\n",
       "  <thead>\n",
       "    <tr style=\"text-align: right;\">\n",
       "      <th></th>\n",
       "      <th>Укажите ваш возраст</th>\n",
       "      <th>Муж., %</th>\n",
       "    </tr>\n",
       "  </thead>\n",
       "  <tbody>\n",
       "    <tr>\n",
       "      <th>0</th>\n",
       "      <td>30-39 лет</td>\n",
       "      <td>35.0</td>\n",
       "    </tr>\n",
       "    <tr>\n",
       "      <th>1</th>\n",
       "      <td>40-49 лет</td>\n",
       "      <td>25.0</td>\n",
       "    </tr>\n",
       "    <tr>\n",
       "      <th>2</th>\n",
       "      <td>23-29 лет</td>\n",
       "      <td>12.5</td>\n",
       "    </tr>\n",
       "    <tr>\n",
       "      <th>3</th>\n",
       "      <td>больше 50 лет</td>\n",
       "      <td>10.0</td>\n",
       "    </tr>\n",
       "    <tr>\n",
       "      <th>4</th>\n",
       "      <td>18-22 лет</td>\n",
       "      <td>10.0</td>\n",
       "    </tr>\n",
       "    <tr>\n",
       "      <th>5</th>\n",
       "      <td>до 18 лет</td>\n",
       "      <td>7.5</td>\n",
       "    </tr>\n",
       "  </tbody>\n",
       "</table>\n",
       "</div>"
      ],
      "text/plain": [
       "  Укажите ваш возраст  Муж., %\n",
       "0           30-39 лет     35.0\n",
       "1           40-49 лет     25.0\n",
       "2           23-29 лет     12.5\n",
       "3       больше 50 лет     10.0\n",
       "4           18-22 лет     10.0\n",
       "5           до 18 лет      7.5"
      ]
     },
     "execution_count": 183,
     "metadata": {},
     "output_type": "execute_result"
    }
   ],
   "source": [
    "df1_m = round(df_m.iloc[:,[1]].value_counts() / df_m.iloc[:,[1]].value_counts().sum() * 100, 1).reset_index()\n",
    "df1_m.columns = ['Укажите ваш возраст', 'Муж., %']\n",
    "df1_m"
   ]
  },
  {
   "cell_type": "code",
   "execution_count": 184,
   "metadata": {},
   "outputs": [
    {
     "data": {
      "text/html": [
       "<div>\n",
       "<style scoped>\n",
       "    .dataframe tbody tr th:only-of-type {\n",
       "        vertical-align: middle;\n",
       "    }\n",
       "\n",
       "    .dataframe tbody tr th {\n",
       "        vertical-align: top;\n",
       "    }\n",
       "\n",
       "    .dataframe thead th {\n",
       "        text-align: right;\n",
       "    }\n",
       "</style>\n",
       "<table border=\"1\" class=\"dataframe\">\n",
       "  <thead>\n",
       "    <tr style=\"text-align: right;\">\n",
       "      <th></th>\n",
       "      <th>Укажите ваш пол</th>\n",
       "      <th>%</th>\n",
       "    </tr>\n",
       "  </thead>\n",
       "  <tbody>\n",
       "    <tr>\n",
       "      <th>0</th>\n",
       "      <td>Женский</td>\n",
       "      <td>75.6</td>\n",
       "    </tr>\n",
       "    <tr>\n",
       "      <th>1</th>\n",
       "      <td>Мужской</td>\n",
       "      <td>24.4</td>\n",
       "    </tr>\n",
       "  </tbody>\n",
       "</table>\n",
       "</div>"
      ],
      "text/plain": [
       "  Укажите ваш пол     %\n",
       "0         Женский  75.6\n",
       "1         Мужской  24.4"
      ]
     },
     "execution_count": 184,
     "metadata": {},
     "output_type": "execute_result"
    }
   ],
   "source": [
    "df2 = round(df.iloc[:,[2]].value_counts() / df.iloc[:,[2]].value_counts().sum() * 100, 1).reset_index()\n",
    "df2.columns = ['Укажите ваш пол', '%']\n",
    "df2"
   ]
  },
  {
   "cell_type": "code",
   "execution_count": 185,
   "metadata": {},
   "outputs": [
    {
     "data": {
      "text/html": [
       "<div>\n",
       "<style scoped>\n",
       "    .dataframe tbody tr th:only-of-type {\n",
       "        vertical-align: middle;\n",
       "    }\n",
       "\n",
       "    .dataframe tbody tr th {\n",
       "        vertical-align: top;\n",
       "    }\n",
       "\n",
       "    .dataframe thead th {\n",
       "        text-align: right;\n",
       "    }\n",
       "</style>\n",
       "<table border=\"1\" class=\"dataframe\">\n",
       "  <thead>\n",
       "    <tr style=\"text-align: right;\">\n",
       "      <th></th>\n",
       "      <th>Укажите ваш город</th>\n",
       "      <th>Жен., %</th>\n",
       "    </tr>\n",
       "  </thead>\n",
       "  <tbody>\n",
       "    <tr>\n",
       "      <th>0</th>\n",
       "      <td>Москва</td>\n",
       "      <td>25.8</td>\n",
       "    </tr>\n",
       "    <tr>\n",
       "      <th>1</th>\n",
       "      <td>Санкт-Петербург</td>\n",
       "      <td>9.7</td>\n",
       "    </tr>\n",
       "    <tr>\n",
       "      <th>2</th>\n",
       "      <td>Новосибирск</td>\n",
       "      <td>4.8</td>\n",
       "    </tr>\n",
       "    <tr>\n",
       "      <th>3</th>\n",
       "      <td>Екатеринбург</td>\n",
       "      <td>3.2</td>\n",
       "    </tr>\n",
       "    <tr>\n",
       "      <th>4</th>\n",
       "      <td>Ростов-на-Дону</td>\n",
       "      <td>3.2</td>\n",
       "    </tr>\n",
       "    <tr>\n",
       "      <th>5</th>\n",
       "      <td>Алмере</td>\n",
       "      <td>2.4</td>\n",
       "    </tr>\n",
       "    <tr>\n",
       "      <th>6</th>\n",
       "      <td>Краснодар</td>\n",
       "      <td>2.4</td>\n",
       "    </tr>\n",
       "    <tr>\n",
       "      <th>7</th>\n",
       "      <td>Челябинск</td>\n",
       "      <td>2.4</td>\n",
       "    </tr>\n",
       "    <tr>\n",
       "      <th>8</th>\n",
       "      <td>Нижний Новгород</td>\n",
       "      <td>2.4</td>\n",
       "    </tr>\n",
       "    <tr>\n",
       "      <th>9</th>\n",
       "      <td>Самара</td>\n",
       "      <td>1.6</td>\n",
       "    </tr>\n",
       "  </tbody>\n",
       "</table>\n",
       "</div>"
      ],
      "text/plain": [
       "  Укажите ваш город  Жен., %\n",
       "0            Москва     25.8\n",
       "1   Санкт-Петербург      9.7\n",
       "2       Новосибирск      4.8\n",
       "3      Екатеринбург      3.2\n",
       "4    Ростов-на-Дону      3.2\n",
       "5           Алмере       2.4\n",
       "6         Краснодар      2.4\n",
       "7         Челябинск      2.4\n",
       "8   Нижний Новгород      2.4\n",
       "9            Самара      1.6"
      ]
     },
     "execution_count": 185,
     "metadata": {},
     "output_type": "execute_result"
    }
   ],
   "source": [
    "df3_f = round(df_f.iloc[:,[3]].value_counts() / df_f.iloc[:,[3]].value_counts().sum() * 100, 1).reset_index()\n",
    "df3_f.columns = ['Укажите ваш город', 'Жен., %']\n",
    "df3_f.head(10)"
   ]
  },
  {
   "cell_type": "code",
   "execution_count": 186,
   "metadata": {},
   "outputs": [
    {
     "data": {
      "text/html": [
       "<div>\n",
       "<style scoped>\n",
       "    .dataframe tbody tr th:only-of-type {\n",
       "        vertical-align: middle;\n",
       "    }\n",
       "\n",
       "    .dataframe tbody tr th {\n",
       "        vertical-align: top;\n",
       "    }\n",
       "\n",
       "    .dataframe thead th {\n",
       "        text-align: right;\n",
       "    }\n",
       "</style>\n",
       "<table border=\"1\" class=\"dataframe\">\n",
       "  <thead>\n",
       "    <tr style=\"text-align: right;\">\n",
       "      <th></th>\n",
       "      <th>Укажите ваш город</th>\n",
       "      <th>Муж., %</th>\n",
       "    </tr>\n",
       "  </thead>\n",
       "  <tbody>\n",
       "    <tr>\n",
       "      <th>0</th>\n",
       "      <td>Москва</td>\n",
       "      <td>22.5</td>\n",
       "    </tr>\n",
       "    <tr>\n",
       "      <th>1</th>\n",
       "      <td>Самара</td>\n",
       "      <td>10.0</td>\n",
       "    </tr>\n",
       "    <tr>\n",
       "      <th>2</th>\n",
       "      <td>Санкт-Петербург</td>\n",
       "      <td>7.5</td>\n",
       "    </tr>\n",
       "    <tr>\n",
       "      <th>3</th>\n",
       "      <td>Чехов</td>\n",
       "      <td>7.5</td>\n",
       "    </tr>\n",
       "    <tr>\n",
       "      <th>4</th>\n",
       "      <td>Симферополь</td>\n",
       "      <td>5.0</td>\n",
       "    </tr>\n",
       "    <tr>\n",
       "      <th>5</th>\n",
       "      <td>Тольятти</td>\n",
       "      <td>2.5</td>\n",
       "    </tr>\n",
       "    <tr>\n",
       "      <th>6</th>\n",
       "      <td>Красноярск</td>\n",
       "      <td>2.5</td>\n",
       "    </tr>\n",
       "    <tr>\n",
       "      <th>7</th>\n",
       "      <td>Владивосток</td>\n",
       "      <td>2.5</td>\n",
       "    </tr>\n",
       "    <tr>\n",
       "      <th>8</th>\n",
       "      <td>Владимир</td>\n",
       "      <td>2.5</td>\n",
       "    </tr>\n",
       "    <tr>\n",
       "      <th>9</th>\n",
       "      <td>Екатеринбург</td>\n",
       "      <td>2.5</td>\n",
       "    </tr>\n",
       "    <tr>\n",
       "      <th>10</th>\n",
       "      <td>Зеленокумск</td>\n",
       "      <td>2.5</td>\n",
       "    </tr>\n",
       "    <tr>\n",
       "      <th>11</th>\n",
       "      <td>Ижевск</td>\n",
       "      <td>2.5</td>\n",
       "    </tr>\n",
       "    <tr>\n",
       "      <th>12</th>\n",
       "      <td>Краматорск</td>\n",
       "      <td>2.5</td>\n",
       "    </tr>\n",
       "    <tr>\n",
       "      <th>13</th>\n",
       "      <td>Краснодар</td>\n",
       "      <td>2.5</td>\n",
       "    </tr>\n",
       "    <tr>\n",
       "      <th>14</th>\n",
       "      <td>Махачкала</td>\n",
       "      <td>2.5</td>\n",
       "    </tr>\n",
       "  </tbody>\n",
       "</table>\n",
       "</div>"
      ],
      "text/plain": [
       "   Укажите ваш город  Муж., %\n",
       "0             Москва     22.5\n",
       "1             Самара     10.0\n",
       "2    Санкт-Петербург      7.5\n",
       "3              Чехов      7.5\n",
       "4        Симферополь      5.0\n",
       "5          Тольятти       2.5\n",
       "6         Красноярск      2.5\n",
       "7        Владивосток      2.5\n",
       "8           Владимир      2.5\n",
       "9       Екатеринбург      2.5\n",
       "10       Зеленокумск      2.5\n",
       "11            Ижевск      2.5\n",
       "12        Краматорск      2.5\n",
       "13         Краснодар      2.5\n",
       "14        Махачкала       2.5"
      ]
     },
     "execution_count": 186,
     "metadata": {},
     "output_type": "execute_result"
    }
   ],
   "source": [
    "df3_m = round(df_m.iloc[:,[3]].value_counts() / df_m.iloc[:,[3]].value_counts().sum() * 100, 1).reset_index()\n",
    "df3_m.columns = ['Укажите ваш город', 'Муж., %']\n",
    "df3_m.head(15)"
   ]
  },
  {
   "cell_type": "code",
   "execution_count": 187,
   "metadata": {},
   "outputs": [
    {
     "data": {
      "text/html": [
       "<div>\n",
       "<style scoped>\n",
       "    .dataframe tbody tr th:only-of-type {\n",
       "        vertical-align: middle;\n",
       "    }\n",
       "\n",
       "    .dataframe tbody tr th {\n",
       "        vertical-align: top;\n",
       "    }\n",
       "\n",
       "    .dataframe thead th {\n",
       "        text-align: right;\n",
       "    }\n",
       "</style>\n",
       "<table border=\"1\" class=\"dataframe\">\n",
       "  <thead>\n",
       "    <tr style=\"text-align: right;\">\n",
       "      <th></th>\n",
       "      <th>Какая цветовая гамма интернет-магазина вам нравится?</th>\n",
       "      <th>Жен., %</th>\n",
       "    </tr>\n",
       "  </thead>\n",
       "  <tbody>\n",
       "    <tr>\n",
       "      <th>0</th>\n",
       "      <td>Сдержанные оттенки (белый, черный, серый)</td>\n",
       "      <td>46.8</td>\n",
       "    </tr>\n",
       "    <tr>\n",
       "      <th>1</th>\n",
       "      <td>Яркая (синий, красный, зеленый и тд.)</td>\n",
       "      <td>31.5</td>\n",
       "    </tr>\n",
       "    <tr>\n",
       "      <th>2</th>\n",
       "      <td>Неважно</td>\n",
       "      <td>21.8</td>\n",
       "    </tr>\n",
       "  </tbody>\n",
       "</table>\n",
       "</div>"
      ],
      "text/plain": [
       "  Какая цветовая гамма интернет-магазина вам нравится?  Жен., %\n",
       "0          Сдержанные оттенки (белый, черный, серый)       46.8\n",
       "1              Яркая (синий, красный, зеленый и тд.)       31.5\n",
       "2                                            Неважно       21.8"
      ]
     },
     "execution_count": 187,
     "metadata": {},
     "output_type": "execute_result"
    }
   ],
   "source": [
    "df4_f = round(df_f.iloc[:,[4]].value_counts() / df_f.iloc[:,[4]].value_counts().sum() * 100, 1).reset_index()\n",
    "df4_f.columns = ['Какая цветовая гамма интернет-магазина вам нравится?', 'Жен., %']\n",
    "df4_f"
   ]
  },
  {
   "cell_type": "code",
   "execution_count": 188,
   "metadata": {},
   "outputs": [
    {
     "data": {
      "text/html": [
       "<div>\n",
       "<style scoped>\n",
       "    .dataframe tbody tr th:only-of-type {\n",
       "        vertical-align: middle;\n",
       "    }\n",
       "\n",
       "    .dataframe tbody tr th {\n",
       "        vertical-align: top;\n",
       "    }\n",
       "\n",
       "    .dataframe thead th {\n",
       "        text-align: right;\n",
       "    }\n",
       "</style>\n",
       "<table border=\"1\" class=\"dataframe\">\n",
       "  <thead>\n",
       "    <tr style=\"text-align: right;\">\n",
       "      <th></th>\n",
       "      <th>Какая цветовая гамма интернет-магазина вам нравится?</th>\n",
       "      <th>Муж., %</th>\n",
       "    </tr>\n",
       "  </thead>\n",
       "  <tbody>\n",
       "    <tr>\n",
       "      <th>0</th>\n",
       "      <td>Сдержанные оттенки (белый, черный, серый)</td>\n",
       "      <td>62.5</td>\n",
       "    </tr>\n",
       "    <tr>\n",
       "      <th>1</th>\n",
       "      <td>Яркая (синий, красный, зеленый и тд.)</td>\n",
       "      <td>27.5</td>\n",
       "    </tr>\n",
       "    <tr>\n",
       "      <th>2</th>\n",
       "      <td>Неважно</td>\n",
       "      <td>10.0</td>\n",
       "    </tr>\n",
       "  </tbody>\n",
       "</table>\n",
       "</div>"
      ],
      "text/plain": [
       "  Какая цветовая гамма интернет-магазина вам нравится?  Муж., %\n",
       "0          Сдержанные оттенки (белый, черный, серый)       62.5\n",
       "1              Яркая (синий, красный, зеленый и тд.)       27.5\n",
       "2                                            Неважно       10.0"
      ]
     },
     "execution_count": 188,
     "metadata": {},
     "output_type": "execute_result"
    }
   ],
   "source": [
    "df4_m = round(df_m.iloc[:,[4]].value_counts() / df_m.iloc[:,[4]].value_counts().sum() * 100, 1).reset_index()\n",
    "df4_m.columns = ['Какая цветовая гамма интернет-магазина вам нравится?', 'Муж., %']\n",
    "df4_m"
   ]
  },
  {
   "cell_type": "code",
   "execution_count": 189,
   "metadata": {},
   "outputs": [
    {
     "data": {
      "text/html": [
       "<div>\n",
       "<style scoped>\n",
       "    .dataframe tbody tr th:only-of-type {\n",
       "        vertical-align: middle;\n",
       "    }\n",
       "\n",
       "    .dataframe tbody tr th {\n",
       "        vertical-align: top;\n",
       "    }\n",
       "\n",
       "    .dataframe thead th {\n",
       "        text-align: right;\n",
       "    }\n",
       "</style>\n",
       "<table border=\"1\" class=\"dataframe\">\n",
       "  <thead>\n",
       "    <tr style=\"text-align: right;\">\n",
       "      <th></th>\n",
       "      <th>Сколько по времени вы готовы ждать свой заказ?</th>\n",
       "      <th>%</th>\n",
       "    </tr>\n",
       "  </thead>\n",
       "  <tbody>\n",
       "    <tr>\n",
       "      <th>0</th>\n",
       "      <td>4-7 рабочих дней</td>\n",
       "      <td>42.1</td>\n",
       "    </tr>\n",
       "    <tr>\n",
       "      <th>1</th>\n",
       "      <td>1-3 рабочих дня</td>\n",
       "      <td>40.2</td>\n",
       "    </tr>\n",
       "    <tr>\n",
       "      <th>2</th>\n",
       "      <td>Неважно</td>\n",
       "      <td>9.8</td>\n",
       "    </tr>\n",
       "    <tr>\n",
       "      <th>3</th>\n",
       "      <td>более 7 рабочих дней</td>\n",
       "      <td>7.9</td>\n",
       "    </tr>\n",
       "  </tbody>\n",
       "</table>\n",
       "</div>"
      ],
      "text/plain": [
       "  Сколько по времени вы готовы ждать свой заказ?     %\n",
       "0                               4-7 рабочих дней  42.1\n",
       "1                                1-3 рабочих дня  40.2\n",
       "2                                        Неважно   9.8\n",
       "3                           более 7 рабочих дней   7.9"
      ]
     },
     "execution_count": 189,
     "metadata": {},
     "output_type": "execute_result"
    }
   ],
   "source": [
    "df5 = round(df.iloc[:,[5]].value_counts() / df.iloc[:,[5]].value_counts().sum() * 100, 1).reset_index()\n",
    "df5.columns = ['Сколько по времени вы готовы ждать свой заказ?', '%']\n",
    "df5"
   ]
  },
  {
   "cell_type": "code",
   "execution_count": 190,
   "metadata": {},
   "outputs": [
    {
     "data": {
      "text/html": [
       "<div>\n",
       "<style scoped>\n",
       "    .dataframe tbody tr th:only-of-type {\n",
       "        vertical-align: middle;\n",
       "    }\n",
       "\n",
       "    .dataframe tbody tr th {\n",
       "        vertical-align: top;\n",
       "    }\n",
       "\n",
       "    .dataframe thead th {\n",
       "        text-align: right;\n",
       "    }\n",
       "</style>\n",
       "<table border=\"1\" class=\"dataframe\">\n",
       "  <thead>\n",
       "    <tr style=\"text-align: right;\">\n",
       "      <th></th>\n",
       "      <th>Что из перечисленного могло бы мотивировать вас к покупке?</th>\n",
       "      <th>%</th>\n",
       "    </tr>\n",
       "  </thead>\n",
       "  <tbody>\n",
       "    <tr>\n",
       "      <th>0</th>\n",
       "      <td>Скидка</td>\n",
       "      <td>21.3</td>\n",
       "    </tr>\n",
       "    <tr>\n",
       "      <th>1</th>\n",
       "      <td>Наличие промокода, Скидка</td>\n",
       "      <td>20.1</td>\n",
       "    </tr>\n",
       "    <tr>\n",
       "      <th>2</th>\n",
       "      <td>Наличие промокода, Скидка, Система лояльности</td>\n",
       "      <td>17.1</td>\n",
       "    </tr>\n",
       "    <tr>\n",
       "      <th>3</th>\n",
       "      <td>Наличие промокода</td>\n",
       "      <td>11.0</td>\n",
       "    </tr>\n",
       "    <tr>\n",
       "      <th>4</th>\n",
       "      <td>Скидка, Система лояльности</td>\n",
       "      <td>10.4</td>\n",
       "    </tr>\n",
       "    <tr>\n",
       "      <th>5</th>\n",
       "      <td>Система лояльности</td>\n",
       "      <td>9.1</td>\n",
       "    </tr>\n",
       "    <tr>\n",
       "      <th>6</th>\n",
       "      <td>Ничего из перечисленного</td>\n",
       "      <td>6.1</td>\n",
       "    </tr>\n",
       "    <tr>\n",
       "      <th>7</th>\n",
       "      <td>Наличие промокода, Система лояльности</td>\n",
       "      <td>4.3</td>\n",
       "    </tr>\n",
       "    <tr>\n",
       "      <th>8</th>\n",
       "      <td>Скидка, Ничего из перечисленного</td>\n",
       "      <td>0.6</td>\n",
       "    </tr>\n",
       "  </tbody>\n",
       "</table>\n",
       "</div>"
      ],
      "text/plain": [
       "  Что из перечисленного могло бы мотивировать вас к покупке?     %\n",
       "0                                             Скидка          21.3\n",
       "1                          Наличие промокода, Скидка          20.1\n",
       "2      Наличие промокода, Скидка, Система лояльности          17.1\n",
       "3                                  Наличие промокода          11.0\n",
       "4                         Скидка, Система лояльности          10.4\n",
       "5                                 Система лояльности           9.1\n",
       "6                           Ничего из перечисленного           6.1\n",
       "7              Наличие промокода, Система лояльности           4.3\n",
       "8                   Скидка, Ничего из перечисленного           0.6"
      ]
     },
     "execution_count": 190,
     "metadata": {},
     "output_type": "execute_result"
    }
   ],
   "source": [
    "df6 = round(df.iloc[:,[6]].value_counts() / df.iloc[:,[6]].value_counts().sum() * 100, 1).reset_index()\n",
    "df6.columns = ['Что из перечисленного могло бы мотивировать вас к покупке?', '%']\n",
    "df6"
   ]
  },
  {
   "cell_type": "code",
   "execution_count": 191,
   "metadata": {},
   "outputs": [
    {
     "data": {
      "text/html": [
       "<div>\n",
       "<style scoped>\n",
       "    .dataframe tbody tr th:only-of-type {\n",
       "        vertical-align: middle;\n",
       "    }\n",
       "\n",
       "    .dataframe tbody tr th {\n",
       "        vertical-align: top;\n",
       "    }\n",
       "\n",
       "    .dataframe thead th {\n",
       "        text-align: right;\n",
       "    }\n",
       "</style>\n",
       "<table border=\"1\" class=\"dataframe\">\n",
       "  <thead>\n",
       "    <tr style=\"text-align: right;\">\n",
       "      <th></th>\n",
       "      <th>Как долго вы готовы ждать ответа от менеджера по вашему заказу?</th>\n",
       "      <th>%</th>\n",
       "    </tr>\n",
       "  </thead>\n",
       "  <tbody>\n",
       "    <tr>\n",
       "      <th>0</th>\n",
       "      <td>В течение часа</td>\n",
       "      <td>40.9</td>\n",
       "    </tr>\n",
       "    <tr>\n",
       "      <th>1</th>\n",
       "      <td>В течение суток</td>\n",
       "      <td>31.1</td>\n",
       "    </tr>\n",
       "    <tr>\n",
       "      <th>2</th>\n",
       "      <td>1-3 часа</td>\n",
       "      <td>25.0</td>\n",
       "    </tr>\n",
       "    <tr>\n",
       "      <th>3</th>\n",
       "      <td>Неважно</td>\n",
       "      <td>3.0</td>\n",
       "    </tr>\n",
       "  </tbody>\n",
       "</table>\n",
       "</div>"
      ],
      "text/plain": [
       "  Как долго вы готовы ждать ответа от менеджера по вашему заказу?     %\n",
       "0                                     В течение часа               40.9\n",
       "1                                    В течение суток               31.1\n",
       "2                                           1-3 часа               25.0\n",
       "3                                            Неважно                3.0"
      ]
     },
     "execution_count": 191,
     "metadata": {},
     "output_type": "execute_result"
    }
   ],
   "source": [
    "df7 = round(df.iloc[:,[7]].value_counts() / df.iloc[:,[7]].value_counts().sum() * 100, 1).reset_index()\n",
    "df7.columns = ['Как долго вы готовы ждать ответа от менеджера по вашему заказу?', '%']\n",
    "df7"
   ]
  },
  {
   "cell_type": "code",
   "execution_count": 192,
   "metadata": {},
   "outputs": [
    {
     "data": {
      "text/html": [
       "<div>\n",
       "<style scoped>\n",
       "    .dataframe tbody tr th:only-of-type {\n",
       "        vertical-align: middle;\n",
       "    }\n",
       "\n",
       "    .dataframe tbody tr th {\n",
       "        vertical-align: top;\n",
       "    }\n",
       "\n",
       "    .dataframe thead th {\n",
       "        text-align: right;\n",
       "    }\n",
       "</style>\n",
       "<table border=\"1\" class=\"dataframe\">\n",
       "  <thead>\n",
       "    <tr style=\"text-align: right;\">\n",
       "      <th></th>\n",
       "      <th>Какой способ обратной связи с менеджером вам наиболее удобен?</th>\n",
       "      <th>%</th>\n",
       "    </tr>\n",
       "  </thead>\n",
       "  <tbody>\n",
       "    <tr>\n",
       "      <th>0</th>\n",
       "      <td>Получить ответ в мессенджере/в соцсетях</td>\n",
       "      <td>14.0</td>\n",
       "    </tr>\n",
       "    <tr>\n",
       "      <th>1</th>\n",
       "      <td>На самом сайте (чат)</td>\n",
       "      <td>11.6</td>\n",
       "    </tr>\n",
       "    <tr>\n",
       "      <th>2</th>\n",
       "      <td>На самом сайте (чат), Получить ответ в мессенд...</td>\n",
       "      <td>9.8</td>\n",
       "    </tr>\n",
       "    <tr>\n",
       "      <th>3</th>\n",
       "      <td>На самом сайте (чат), Получить ответ на почту,...</td>\n",
       "      <td>7.3</td>\n",
       "    </tr>\n",
       "    <tr>\n",
       "      <th>4</th>\n",
       "      <td>Получить ответ на почту, Получить ответ в месс...</td>\n",
       "      <td>5.5</td>\n",
       "    </tr>\n",
       "    <tr>\n",
       "      <th>5</th>\n",
       "      <td>Получить ответ на телефон (звонок), Получить о...</td>\n",
       "      <td>4.9</td>\n",
       "    </tr>\n",
       "    <tr>\n",
       "      <th>6</th>\n",
       "      <td>Получить ответ на телефон (звонок)</td>\n",
       "      <td>4.9</td>\n",
       "    </tr>\n",
       "    <tr>\n",
       "      <th>7</th>\n",
       "      <td>Получить ответ на почту</td>\n",
       "      <td>4.3</td>\n",
       "    </tr>\n",
       "    <tr>\n",
       "      <th>8</th>\n",
       "      <td>Получить ответ на почту, Получить ответ на тел...</td>\n",
       "      <td>4.3</td>\n",
       "    </tr>\n",
       "    <tr>\n",
       "      <th>9</th>\n",
       "      <td>Получить ответ на телефон (смс)</td>\n",
       "      <td>4.3</td>\n",
       "    </tr>\n",
       "    <tr>\n",
       "      <th>10</th>\n",
       "      <td>На самом сайте (чат), Получить ответ на почту</td>\n",
       "      <td>3.7</td>\n",
       "    </tr>\n",
       "    <tr>\n",
       "      <th>11</th>\n",
       "      <td>Получить ответ на почту, Получить ответ на тел...</td>\n",
       "      <td>3.7</td>\n",
       "    </tr>\n",
       "    <tr>\n",
       "      <th>12</th>\n",
       "      <td>Получить ответ на телефон (смс), Получить отве...</td>\n",
       "      <td>3.0</td>\n",
       "    </tr>\n",
       "    <tr>\n",
       "      <th>13</th>\n",
       "      <td>Получить ответ на почту, Получить ответ на тел...</td>\n",
       "      <td>3.0</td>\n",
       "    </tr>\n",
       "    <tr>\n",
       "      <th>14</th>\n",
       "      <td>Получить ответ на почту, Получить ответ на тел...</td>\n",
       "      <td>2.4</td>\n",
       "    </tr>\n",
       "    <tr>\n",
       "      <th>15</th>\n",
       "      <td>На самом сайте (чат), Получить ответ на почту,...</td>\n",
       "      <td>1.8</td>\n",
       "    </tr>\n",
       "    <tr>\n",
       "      <th>16</th>\n",
       "      <td>Получить ответ на почту, Получить ответ на тел...</td>\n",
       "      <td>1.2</td>\n",
       "    </tr>\n",
       "    <tr>\n",
       "      <th>17</th>\n",
       "      <td>На самом сайте (чат), Получить ответ на телефо...</td>\n",
       "      <td>1.2</td>\n",
       "    </tr>\n",
       "    <tr>\n",
       "      <th>18</th>\n",
       "      <td>На самом сайте (чат), Получить ответ на телефо...</td>\n",
       "      <td>1.2</td>\n",
       "    </tr>\n",
       "    <tr>\n",
       "      <th>19</th>\n",
       "      <td>На самом сайте (чат), Получить ответ на почту,...</td>\n",
       "      <td>1.2</td>\n",
       "    </tr>\n",
       "    <tr>\n",
       "      <th>20</th>\n",
       "      <td>Получить ответ на почту, Получить ответ на тел...</td>\n",
       "      <td>1.2</td>\n",
       "    </tr>\n",
       "    <tr>\n",
       "      <th>21</th>\n",
       "      <td>Получить ответ на телефон (звонок), Получить о...</td>\n",
       "      <td>1.2</td>\n",
       "    </tr>\n",
       "    <tr>\n",
       "      <th>22</th>\n",
       "      <td>Неважно</td>\n",
       "      <td>1.2</td>\n",
       "    </tr>\n",
       "    <tr>\n",
       "      <th>23</th>\n",
       "      <td>На самом сайте (чат), Получить ответ на телефо...</td>\n",
       "      <td>0.6</td>\n",
       "    </tr>\n",
       "    <tr>\n",
       "      <th>24</th>\n",
       "      <td>На самом сайте (чат), Получить ответ на телефо...</td>\n",
       "      <td>0.6</td>\n",
       "    </tr>\n",
       "    <tr>\n",
       "      <th>25</th>\n",
       "      <td>На самом сайте (чат), Получить ответ на почту,...</td>\n",
       "      <td>0.6</td>\n",
       "    </tr>\n",
       "    <tr>\n",
       "      <th>26</th>\n",
       "      <td>На самом сайте (чат), Получить ответ на почту,...</td>\n",
       "      <td>0.6</td>\n",
       "    </tr>\n",
       "    <tr>\n",
       "      <th>27</th>\n",
       "      <td>На самом сайте (чат), Получить ответ на почту,...</td>\n",
       "      <td>0.6</td>\n",
       "    </tr>\n",
       "  </tbody>\n",
       "</table>\n",
       "</div>"
      ],
      "text/plain": [
       "   Какой способ обратной связи с менеджером вам наиболее удобен?     %\n",
       "0             Получить ответ в мессенджере/в соцсетях             14.0\n",
       "1                                На самом сайте (чат)             11.6\n",
       "2   На самом сайте (чат), Получить ответ в мессенд...              9.8\n",
       "3   На самом сайте (чат), Получить ответ на почту,...              7.3\n",
       "4   Получить ответ на почту, Получить ответ в месс...              5.5\n",
       "5   Получить ответ на телефон (звонок), Получить о...              4.9\n",
       "6                  Получить ответ на телефон (звонок)              4.9\n",
       "7                             Получить ответ на почту              4.3\n",
       "8   Получить ответ на почту, Получить ответ на тел...              4.3\n",
       "9                     Получить ответ на телефон (смс)              4.3\n",
       "10      На самом сайте (чат), Получить ответ на почту              3.7\n",
       "11  Получить ответ на почту, Получить ответ на тел...              3.7\n",
       "12  Получить ответ на телефон (смс), Получить отве...              3.0\n",
       "13  Получить ответ на почту, Получить ответ на тел...              3.0\n",
       "14  Получить ответ на почту, Получить ответ на тел...              2.4\n",
       "15  На самом сайте (чат), Получить ответ на почту,...              1.8\n",
       "16  Получить ответ на почту, Получить ответ на тел...              1.2\n",
       "17  На самом сайте (чат), Получить ответ на телефо...              1.2\n",
       "18  На самом сайте (чат), Получить ответ на телефо...              1.2\n",
       "19  На самом сайте (чат), Получить ответ на почту,...              1.2\n",
       "20  Получить ответ на почту, Получить ответ на тел...              1.2\n",
       "21  Получить ответ на телефон (звонок), Получить о...              1.2\n",
       "22                                            Неважно              1.2\n",
       "23  На самом сайте (чат), Получить ответ на телефо...              0.6\n",
       "24  На самом сайте (чат), Получить ответ на телефо...              0.6\n",
       "25  На самом сайте (чат), Получить ответ на почту,...              0.6\n",
       "26  На самом сайте (чат), Получить ответ на почту,...              0.6\n",
       "27  На самом сайте (чат), Получить ответ на почту,...              0.6"
      ]
     },
     "execution_count": 192,
     "metadata": {},
     "output_type": "execute_result"
    }
   ],
   "source": [
    "df8 = round(df.iloc[:,[8]].value_counts() / df.iloc[:,[8]].value_counts().sum() * 100, 1).reset_index()\n",
    "df8.columns = ['Какой способ обратной связи с менеджером вам наиболее удобен?', '%']\n",
    "df8"
   ]
  },
  {
   "cell_type": "code",
   "execution_count": 193,
   "metadata": {},
   "outputs": [
    {
     "data": {
      "text/html": [
       "<div>\n",
       "<style scoped>\n",
       "    .dataframe tbody tr th:only-of-type {\n",
       "        vertical-align: middle;\n",
       "    }\n",
       "\n",
       "    .dataframe tbody tr th {\n",
       "        vertical-align: top;\n",
       "    }\n",
       "\n",
       "    .dataframe thead th {\n",
       "        text-align: right;\n",
       "    }\n",
       "</style>\n",
       "<table border=\"1\" class=\"dataframe\">\n",
       "  <thead>\n",
       "    <tr style=\"text-align: right;\">\n",
       "      <th></th>\n",
       "      <th>Вы когда-нибудь покупали мерч?</th>\n",
       "      <th>%</th>\n",
       "    </tr>\n",
       "  </thead>\n",
       "  <tbody>\n",
       "    <tr>\n",
       "      <th>0</th>\n",
       "      <td>Да</td>\n",
       "      <td>53.7</td>\n",
       "    </tr>\n",
       "    <tr>\n",
       "      <th>1</th>\n",
       "      <td>Нет, но планирую</td>\n",
       "      <td>32.9</td>\n",
       "    </tr>\n",
       "    <tr>\n",
       "      <th>2</th>\n",
       "      <td>Нет и не планирую</td>\n",
       "      <td>13.4</td>\n",
       "    </tr>\n",
       "  </tbody>\n",
       "</table>\n",
       "</div>"
      ],
      "text/plain": [
       "  Вы когда-нибудь покупали мерч?     %\n",
       "0                             Да  53.7\n",
       "1               Нет, но планирую  32.9\n",
       "2              Нет и не планирую  13.4"
      ]
     },
     "execution_count": 193,
     "metadata": {},
     "output_type": "execute_result"
    }
   ],
   "source": [
    "df9 = round(df.iloc[:,[9]].value_counts() / df.iloc[:,[9]].value_counts().sum() * 100, 1).reset_index()\n",
    "df9.columns = ['Вы когда-нибудь покупали мерч?', '%']\n",
    "df9"
   ]
  },
  {
   "cell_type": "code",
   "execution_count": 194,
   "metadata": {},
   "outputs": [
    {
     "data": {
      "text/html": [
       "<div>\n",
       "<style scoped>\n",
       "    .dataframe tbody tr th:only-of-type {\n",
       "        vertical-align: middle;\n",
       "    }\n",
       "\n",
       "    .dataframe tbody tr th {\n",
       "        vertical-align: top;\n",
       "    }\n",
       "\n",
       "    .dataframe thead th {\n",
       "        text-align: right;\n",
       "    }\n",
       "</style>\n",
       "<table border=\"1\" class=\"dataframe\">\n",
       "  <thead>\n",
       "    <tr style=\"text-align: right;\">\n",
       "      <th></th>\n",
       "      <th>Вам важно, какого размера будет логотип на мерче?</th>\n",
       "      <th>%</th>\n",
       "    </tr>\n",
       "  </thead>\n",
       "  <tbody>\n",
       "    <tr>\n",
       "      <th>0</th>\n",
       "      <td>Да, нравится, когда логотип маленького размера</td>\n",
       "      <td>56.1</td>\n",
       "    </tr>\n",
       "    <tr>\n",
       "      <th>1</th>\n",
       "      <td>Нет, мне неважно, какого размера будет логотип</td>\n",
       "      <td>20.7</td>\n",
       "    </tr>\n",
       "    <tr>\n",
       "      <th>2</th>\n",
       "      <td>Не люблю, когда на мерче есть логотип</td>\n",
       "      <td>12.2</td>\n",
       "    </tr>\n",
       "    <tr>\n",
       "      <th>3</th>\n",
       "      <td>Да, нравится, когда логотип крупный</td>\n",
       "      <td>11.0</td>\n",
       "    </tr>\n",
       "  </tbody>\n",
       "</table>\n",
       "</div>"
      ],
      "text/plain": [
       "  Вам важно, какого размера будет логотип на мерче?     %\n",
       "0    Да, нравится, когда логотип маленького размера  56.1\n",
       "1    Нет, мне неважно, какого размера будет логотип  20.7\n",
       "2             Не люблю, когда на мерче есть логотип  12.2\n",
       "3               Да, нравится, когда логотип крупный  11.0"
      ]
     },
     "execution_count": 194,
     "metadata": {},
     "output_type": "execute_result"
    }
   ],
   "source": [
    "df10 = round(df.iloc[:,[10]].value_counts() / df.iloc[:,[10]].value_counts().sum() * 100, 1).reset_index()\n",
    "df10.columns = ['Вам важно, какого размера будет логотип на мерче?', '%']\n",
    "df10"
   ]
  },
  {
   "cell_type": "code",
   "execution_count": 195,
   "metadata": {},
   "outputs": [
    {
     "data": {
      "text/html": [
       "<div>\n",
       "<style scoped>\n",
       "    .dataframe tbody tr th:only-of-type {\n",
       "        vertical-align: middle;\n",
       "    }\n",
       "\n",
       "    .dataframe tbody tr th {\n",
       "        vertical-align: top;\n",
       "    }\n",
       "\n",
       "    .dataframe thead th {\n",
       "        text-align: right;\n",
       "    }\n",
       "</style>\n",
       "<table border=\"1\" class=\"dataframe\">\n",
       "  <thead>\n",
       "    <tr style=\"text-align: right;\">\n",
       "      <th></th>\n",
       "      <th>Какой мерч вам интереснее всего?</th>\n",
       "      <th>%</th>\n",
       "    </tr>\n",
       "  </thead>\n",
       "  <tbody>\n",
       "    <tr>\n",
       "      <th>0</th>\n",
       "      <td>Одежда (футболки, худи и др.)</td>\n",
       "      <td>36.0</td>\n",
       "    </tr>\n",
       "    <tr>\n",
       "      <th>1</th>\n",
       "      <td>Канцтовары (блокноты, ручки, стикеры и др.)</td>\n",
       "      <td>31.7</td>\n",
       "    </tr>\n",
       "    <tr>\n",
       "      <th>2</th>\n",
       "      <td>Аксессуары (шоперы, шарфы и др.)</td>\n",
       "      <td>17.1</td>\n",
       "    </tr>\n",
       "    <tr>\n",
       "      <th>3</th>\n",
       "      <td>Посуда (кружки, термокружки и др.)</td>\n",
       "      <td>9.8</td>\n",
       "    </tr>\n",
       "    <tr>\n",
       "      <th>4</th>\n",
       "      <td>канцтовары и аксессуары</td>\n",
       "      <td>0.6</td>\n",
       "    </tr>\n",
       "    <tr>\n",
       "      <th>5</th>\n",
       "      <td>значки-пины</td>\n",
       "      <td>0.6</td>\n",
       "    </tr>\n",
       "    <tr>\n",
       "      <th>6</th>\n",
       "      <td>все</td>\n",
       "      <td>0.6</td>\n",
       "    </tr>\n",
       "    <tr>\n",
       "      <th>7</th>\n",
       "      <td>Одежды сликом много у всех - я бы предпочла те...</td>\n",
       "      <td>0.6</td>\n",
       "    </tr>\n",
       "    <tr>\n",
       "      <th>8</th>\n",
       "      <td>Канцтовары, аксессуары и посуда</td>\n",
       "      <td>0.6</td>\n",
       "    </tr>\n",
       "    <tr>\n",
       "      <th>9</th>\n",
       "      <td>Всё из перечисленного и можно больше</td>\n",
       "      <td>0.6</td>\n",
       "    </tr>\n",
       "    <tr>\n",
       "      <th>10</th>\n",
       "      <td>Всё вышеперечисленное</td>\n",
       "      <td>0.6</td>\n",
       "    </tr>\n",
       "    <tr>\n",
       "      <th>11</th>\n",
       "      <td>Все, что касается здоровьч</td>\n",
       "      <td>0.6</td>\n",
       "    </tr>\n",
       "    <tr>\n",
       "      <th>12</th>\n",
       "      <td>Все перечисленное</td>\n",
       "      <td>0.6</td>\n",
       "    </tr>\n",
       "  </tbody>\n",
       "</table>\n",
       "</div>"
      ],
      "text/plain": [
       "                     Какой мерч вам интереснее всего?     %\n",
       "0                       Одежда (футболки, худи и др.)  36.0\n",
       "1         Канцтовары (блокноты, ручки, стикеры и др.)  31.7\n",
       "2                    Аксессуары (шоперы, шарфы и др.)  17.1\n",
       "3                  Посуда (кружки, термокружки и др.)   9.8\n",
       "4                             канцтовары и аксессуары   0.6\n",
       "5                                         значки-пины   0.6\n",
       "6                                                 все   0.6\n",
       "7   Одежды сликом много у всех - я бы предпочла те...   0.6\n",
       "8                     Канцтовары, аксессуары и посуда   0.6\n",
       "9                Всё из перечисленного и можно больше   0.6\n",
       "10                              Всё вышеперечисленное   0.6\n",
       "11                         Все, что касается здоровьч   0.6\n",
       "12                                 Все перечисленное    0.6"
      ]
     },
     "execution_count": 195,
     "metadata": {},
     "output_type": "execute_result"
    }
   ],
   "source": [
    "df11 = round(df.iloc[:,[11]].value_counts() / df.iloc[:,[11]].value_counts().sum() * 100, 1).reset_index()\n",
    "df11.columns = ['Какой мерч вам интереснее всего?', '%']\n",
    "df11"
   ]
  },
  {
   "cell_type": "code",
   "execution_count": 196,
   "metadata": {},
   "outputs": [
    {
     "data": {
      "text/html": [
       "<div>\n",
       "<style scoped>\n",
       "    .dataframe tbody tr th:only-of-type {\n",
       "        vertical-align: middle;\n",
       "    }\n",
       "\n",
       "    .dataframe tbody tr th {\n",
       "        vertical-align: top;\n",
       "    }\n",
       "\n",
       "    .dataframe thead th {\n",
       "        text-align: right;\n",
       "    }\n",
       "</style>\n",
       "<table border=\"1\" class=\"dataframe\">\n",
       "  <thead>\n",
       "    <tr style=\"text-align: right;\">\n",
       "      <th></th>\n",
       "      <th>Вам был бы интересен мерч без логотипа, который отражал бы философию конкретного бренда? Пример - футболки с надписью \"Иноагент\", выпущенные \"Медузой\" совместно с другими брендами</th>\n",
       "      <th>%</th>\n",
       "    </tr>\n",
       "  </thead>\n",
       "  <tbody>\n",
       "    <tr>\n",
       "      <th>0</th>\n",
       "      <td>Да</td>\n",
       "      <td>75.6</td>\n",
       "    </tr>\n",
       "    <tr>\n",
       "      <th>1</th>\n",
       "      <td>Нет</td>\n",
       "      <td>24.4</td>\n",
       "    </tr>\n",
       "  </tbody>\n",
       "</table>\n",
       "</div>"
      ],
      "text/plain": [
       "  Вам был бы интересен мерч без логотипа, который отражал бы философию конкретного бренда? Пример - футболки с надписью \"Иноагент\", выпущенные \"Медузой\" совместно с другими брендами  \\\n",
       "0                                                 Да                                                                                                                                    \n",
       "1                                                Нет                                                                                                                                    \n",
       "\n",
       "      %  \n",
       "0  75.6  \n",
       "1  24.4  "
      ]
     },
     "execution_count": 196,
     "metadata": {},
     "output_type": "execute_result"
    }
   ],
   "source": [
    "df12 = round(df.iloc[:,[12]].value_counts() / df.iloc[:,[12]].value_counts().sum() * 100, 1).reset_index()\n",
    "df12.columns = ['Вам был бы интересен мерч без логотипа, который отражал бы философию конкретного бренда? Пример - футболки с надписью \"Иноагент\", выпущенные \"Медузой\" совместно с другими брендами', '%']\n",
    "df12"
   ]
  },
  {
   "cell_type": "code",
   "execution_count": 197,
   "metadata": {},
   "outputs": [
    {
     "data": {
      "text/html": [
       "<div>\n",
       "<style scoped>\n",
       "    .dataframe tbody tr th:only-of-type {\n",
       "        vertical-align: middle;\n",
       "    }\n",
       "\n",
       "    .dataframe tbody tr th {\n",
       "        vertical-align: top;\n",
       "    }\n",
       "\n",
       "    .dataframe thead th {\n",
       "        text-align: right;\n",
       "    }\n",
       "</style>\n",
       "<table border=\"1\" class=\"dataframe\">\n",
       "  <thead>\n",
       "    <tr style=\"text-align: right;\">\n",
       "      <th></th>\n",
       "      <th>Вам нравятся цитаты в виде принта на мерче?</th>\n",
       "      <th>%</th>\n",
       "    </tr>\n",
       "  </thead>\n",
       "  <tbody>\n",
       "    <tr>\n",
       "      <th>0</th>\n",
       "      <td>Да</td>\n",
       "      <td>78.0</td>\n",
       "    </tr>\n",
       "    <tr>\n",
       "      <th>1</th>\n",
       "      <td>Нет</td>\n",
       "      <td>22.0</td>\n",
       "    </tr>\n",
       "  </tbody>\n",
       "</table>\n",
       "</div>"
      ],
      "text/plain": [
       "  Вам нравятся цитаты в виде принта на мерче?     %\n",
       "0                                          Да  78.0\n",
       "1                                         Нет  22.0"
      ]
     },
     "execution_count": 197,
     "metadata": {},
     "output_type": "execute_result"
    }
   ],
   "source": [
    "df13 = round(df.iloc[:,[13]].value_counts() / df.iloc[:,[13]].value_counts().sum() * 100, 1).reset_index()\n",
    "df13.columns = ['Вам нравятся цитаты в виде принта на мерче?', '%']\n",
    "df13"
   ]
  },
  {
   "cell_type": "code",
   "execution_count": 198,
   "metadata": {},
   "outputs": [
    {
     "data": {
      "text/html": [
       "<div>\n",
       "<style scoped>\n",
       "    .dataframe tbody tr th:only-of-type {\n",
       "        vertical-align: middle;\n",
       "    }\n",
       "\n",
       "    .dataframe tbody tr th {\n",
       "        vertical-align: top;\n",
       "    }\n",
       "\n",
       "    .dataframe thead th {\n",
       "        text-align: right;\n",
       "    }\n",
       "</style>\n",
       "<table border=\"1\" class=\"dataframe\">\n",
       "  <thead>\n",
       "    <tr style=\"text-align: right;\">\n",
       "      <th></th>\n",
       "      <th>Как вы относитесь к юмористическим цитатам на мерче?</th>\n",
       "      <th>%</th>\n",
       "    </tr>\n",
       "  </thead>\n",
       "  <tbody>\n",
       "    <tr>\n",
       "      <th>0</th>\n",
       "      <td>Нравится</td>\n",
       "      <td>75.0</td>\n",
       "    </tr>\n",
       "    <tr>\n",
       "      <th>1</th>\n",
       "      <td>Не нравится</td>\n",
       "      <td>25.0</td>\n",
       "    </tr>\n",
       "  </tbody>\n",
       "</table>\n",
       "</div>"
      ],
      "text/plain": [
       "  Как вы относитесь к юмористическим цитатам на мерче?     %\n",
       "0                                           Нравится    75.0\n",
       "1                                        Не нравится    25.0"
      ]
     },
     "execution_count": 198,
     "metadata": {},
     "output_type": "execute_result"
    }
   ],
   "source": [
    "df14 = round(df.iloc[:,[14]].value_counts() / df.iloc[:,[14]].value_counts().sum() * 100, 1).reset_index()\n",
    "df14.columns = ['Как вы относитесь к юмористическим цитатам на мерче?', '%']\n",
    "df14"
   ]
  },
  {
   "cell_type": "code",
   "execution_count": 199,
   "metadata": {},
   "outputs": [
    {
     "data": {
      "text/html": [
       "<div>\n",
       "<style scoped>\n",
       "    .dataframe tbody tr th:only-of-type {\n",
       "        vertical-align: middle;\n",
       "    }\n",
       "\n",
       "    .dataframe tbody tr th {\n",
       "        vertical-align: top;\n",
       "    }\n",
       "\n",
       "    .dataframe thead th {\n",
       "        text-align: right;\n",
       "    }\n",
       "</style>\n",
       "<table border=\"1\" class=\"dataframe\">\n",
       "  <thead>\n",
       "    <tr style=\"text-align: right;\">\n",
       "      <th></th>\n",
       "      <th>Вы обычно покупаете мерч после важных мероприятий? Например, после концерта или интересной отраслевой конференции</th>\n",
       "      <th>%</th>\n",
       "    </tr>\n",
       "  </thead>\n",
       "  <tbody>\n",
       "    <tr>\n",
       "      <th>0</th>\n",
       "      <td>Да</td>\n",
       "      <td>37.8</td>\n",
       "    </tr>\n",
       "    <tr>\n",
       "      <th>1</th>\n",
       "      <td>Нет</td>\n",
       "      <td>31.7</td>\n",
       "    </tr>\n",
       "    <tr>\n",
       "      <th>2</th>\n",
       "      <td>Я никогда не покупал мерч</td>\n",
       "      <td>30.5</td>\n",
       "    </tr>\n",
       "  </tbody>\n",
       "</table>\n",
       "</div>"
      ],
      "text/plain": [
       "  Вы обычно покупаете мерч после важных мероприятий? Например, после концерта или интересной отраслевой конференции  \\\n",
       "0                                                 Да                                                                  \n",
       "1                                                Нет                                                                  \n",
       "2                          Я никогда не покупал мерч                                                                  \n",
       "\n",
       "      %  \n",
       "0  37.8  \n",
       "1  31.7  \n",
       "2  30.5  "
      ]
     },
     "execution_count": 199,
     "metadata": {},
     "output_type": "execute_result"
    }
   ],
   "source": [
    "df15 = round(df.iloc[:,[15]].value_counts() / df.iloc[:,[15]].value_counts().sum() * 100, 1).reset_index()\n",
    "df15.columns = ['Вы обычно покупаете мерч после важных мероприятий? Например, после концерта или интересной отраслевой конференции', '%']\n",
    "df15"
   ]
  },
  {
   "cell_type": "code",
   "execution_count": 200,
   "metadata": {},
   "outputs": [
    {
     "data": {
      "text/html": [
       "<div>\n",
       "<style scoped>\n",
       "    .dataframe tbody tr th:only-of-type {\n",
       "        vertical-align: middle;\n",
       "    }\n",
       "\n",
       "    .dataframe tbody tr th {\n",
       "        vertical-align: top;\n",
       "    }\n",
       "\n",
       "    .dataframe thead th {\n",
       "        text-align: right;\n",
       "    }\n",
       "</style>\n",
       "<table border=\"1\" class=\"dataframe\">\n",
       "  <thead>\n",
       "    <tr style=\"text-align: right;\">\n",
       "      <th></th>\n",
       "      <th>Вам важно, чтобы вы сами могли придумать свой дизайн для мерча: выбрать уникальное сочетание цвета и принта?</th>\n",
       "      <th>%</th>\n",
       "    </tr>\n",
       "  </thead>\n",
       "  <tbody>\n",
       "    <tr>\n",
       "      <th>0</th>\n",
       "      <td>Нет, дизайнерам виднее</td>\n",
       "      <td>56.7</td>\n",
       "    </tr>\n",
       "    <tr>\n",
       "      <th>1</th>\n",
       "      <td>Да, люблю эксперименты</td>\n",
       "      <td>43.3</td>\n",
       "    </tr>\n",
       "  </tbody>\n",
       "</table>\n",
       "</div>"
      ],
      "text/plain": [
       "  Вам важно, чтобы вы сами могли придумать свой дизайн для мерча: выбрать уникальное сочетание цвета и принта?  \\\n",
       "0                             Нет, дизайнерам виднее                                                             \n",
       "1                             Да, люблю эксперименты                                                             \n",
       "\n",
       "      %  \n",
       "0  56.7  \n",
       "1  43.3  "
      ]
     },
     "execution_count": 200,
     "metadata": {},
     "output_type": "execute_result"
    }
   ],
   "source": [
    "df16 = round(df.iloc[:,[16]].value_counts() / df.iloc[:,[16]].value_counts().sum() * 100, 1).reset_index()\n",
    "df16.columns = ['Вам важно, чтобы вы сами могли придумать свой дизайн для мерча: выбрать уникальное сочетание цвета и принта?', '%']\n",
    "df16"
   ]
  },
  {
   "cell_type": "code",
   "execution_count": 201,
   "metadata": {},
   "outputs": [
    {
     "data": {
      "text/html": [
       "<div>\n",
       "<style scoped>\n",
       "    .dataframe tbody tr th:only-of-type {\n",
       "        vertical-align: middle;\n",
       "    }\n",
       "\n",
       "    .dataframe tbody tr th {\n",
       "        vertical-align: top;\n",
       "    }\n",
       "\n",
       "    .dataframe thead th {\n",
       "        text-align: right;\n",
       "    }\n",
       "</style>\n",
       "<table border=\"1\" class=\"dataframe\">\n",
       "  <thead>\n",
       "    <tr style=\"text-align: right;\">\n",
       "      <th></th>\n",
       "      <th>Мерч в качестве бонуса мотивировал бы вас лучше учиться?</th>\n",
       "      <th>%</th>\n",
       "    </tr>\n",
       "  </thead>\n",
       "  <tbody>\n",
       "    <tr>\n",
       "      <th>0</th>\n",
       "      <td>Да</td>\n",
       "      <td>70.1</td>\n",
       "    </tr>\n",
       "    <tr>\n",
       "      <th>1</th>\n",
       "      <td>Нет</td>\n",
       "      <td>29.9</td>\n",
       "    </tr>\n",
       "  </tbody>\n",
       "</table>\n",
       "</div>"
      ],
      "text/plain": [
       "  Мерч в качестве бонуса мотивировал бы вас лучше учиться?     %\n",
       "0                                                 Да        70.1\n",
       "1                                                Нет        29.9"
      ]
     },
     "execution_count": 201,
     "metadata": {},
     "output_type": "execute_result"
    }
   ],
   "source": [
    "df17 = round(df.iloc[:,[17]].value_counts() / df.iloc[:,[17]].value_counts().sum() * 100, 1).reset_index()\n",
    "df17.columns = ['Мерч в качестве бонуса мотивировал бы вас лучше учиться?', '%']\n",
    "df17"
   ]
  },
  {
   "cell_type": "code",
   "execution_count": 202,
   "metadata": {},
   "outputs": [
    {
     "data": {
      "text/html": [
       "<div>\n",
       "<style scoped>\n",
       "    .dataframe tbody tr th:only-of-type {\n",
       "        vertical-align: middle;\n",
       "    }\n",
       "\n",
       "    .dataframe tbody tr th {\n",
       "        vertical-align: top;\n",
       "    }\n",
       "\n",
       "    .dataframe thead th {\n",
       "        text-align: right;\n",
       "    }\n",
       "</style>\n",
       "<table border=\"1\" class=\"dataframe\">\n",
       "  <thead>\n",
       "    <tr style=\"text-align: right;\">\n",
       "      <th></th>\n",
       "      <th>Вам важно, чтобы мерч был уникальным продуктом, который больше ни у кого не встретишь?</th>\n",
       "      <th>%</th>\n",
       "    </tr>\n",
       "  </thead>\n",
       "  <tbody>\n",
       "    <tr>\n",
       "      <th>0</th>\n",
       "      <td>Да</td>\n",
       "      <td>67.7</td>\n",
       "    </tr>\n",
       "    <tr>\n",
       "      <th>1</th>\n",
       "      <td>Нет</td>\n",
       "      <td>32.3</td>\n",
       "    </tr>\n",
       "  </tbody>\n",
       "</table>\n",
       "</div>"
      ],
      "text/plain": [
       "  Вам важно, чтобы мерч был уникальным продуктом, который больше ни у кого не встретишь?  \\\n",
       "0                                                 Да                                       \n",
       "1                                                Нет                                       \n",
       "\n",
       "      %  \n",
       "0  67.7  \n",
       "1  32.3  "
      ]
     },
     "execution_count": 202,
     "metadata": {},
     "output_type": "execute_result"
    }
   ],
   "source": [
    "df18 = round(df.iloc[:,[18]].value_counts() / df.iloc[:,[18]].value_counts().sum() * 100, 1).reset_index()\n",
    "df18.columns = ['Вам важно, чтобы мерч был уникальным продуктом, который больше ни у кого не встретишь?', '%']\n",
    "df18"
   ]
  },
  {
   "cell_type": "code",
   "execution_count": 203,
   "metadata": {},
   "outputs": [
    {
     "data": {
      "text/html": [
       "<div>\n",
       "<style scoped>\n",
       "    .dataframe tbody tr th:only-of-type {\n",
       "        vertical-align: middle;\n",
       "    }\n",
       "\n",
       "    .dataframe tbody tr th {\n",
       "        vertical-align: top;\n",
       "    }\n",
       "\n",
       "    .dataframe thead th {\n",
       "        text-align: right;\n",
       "    }\n",
       "</style>\n",
       "<table border=\"1\" class=\"dataframe\">\n",
       "  <thead>\n",
       "    <tr style=\"text-align: right;\">\n",
       "      <th></th>\n",
       "      <th>Вы готовы платить за лимитированный мерч? Лимитированная коллекция - та, которая выпускается один раз ограниченным тиражом</th>\n",
       "      <th>%</th>\n",
       "    </tr>\n",
       "  </thead>\n",
       "  <tbody>\n",
       "    <tr>\n",
       "      <th>0</th>\n",
       "      <td>Нет</td>\n",
       "      <td>50.6</td>\n",
       "    </tr>\n",
       "    <tr>\n",
       "      <th>1</th>\n",
       "      <td>Да</td>\n",
       "      <td>49.4</td>\n",
       "    </tr>\n",
       "  </tbody>\n",
       "</table>\n",
       "</div>"
      ],
      "text/plain": [
       "  Вы готовы платить за лимитированный мерч? Лимитированная коллекция - та, которая выпускается один раз ограниченным тиражом  \\\n",
       "0                                                Нет                                                                           \n",
       "1                                                 Да                                                                           \n",
       "\n",
       "      %  \n",
       "0  50.6  \n",
       "1  49.4  "
      ]
     },
     "execution_count": 203,
     "metadata": {},
     "output_type": "execute_result"
    }
   ],
   "source": [
    "df19 = round(df.iloc[:,[19]].value_counts() / df.iloc[:,[19]].value_counts().sum() * 100, 1).reset_index()\n",
    "df19.columns = ['Вы готовы платить за лимитированный мерч? Лимитированная коллекция - та, которая выпускается один раз ограниченным тиражом', '%']\n",
    "df19"
   ]
  },
  {
   "cell_type": "code",
   "execution_count": 204,
   "metadata": {},
   "outputs": [
    {
     "data": {
      "text/html": [
       "<div>\n",
       "<style scoped>\n",
       "    .dataframe tbody tr th:only-of-type {\n",
       "        vertical-align: middle;\n",
       "    }\n",
       "\n",
       "    .dataframe tbody tr th {\n",
       "        vertical-align: top;\n",
       "    }\n",
       "\n",
       "    .dataframe thead th {\n",
       "        text-align: right;\n",
       "    }\n",
       "</style>\n",
       "<table border=\"1\" class=\"dataframe\">\n",
       "  <thead>\n",
       "    <tr style=\"text-align: right;\">\n",
       "      <th></th>\n",
       "      <th>Обращаете ли вы внимание на экологичность товаров при покупке вещей?</th>\n",
       "      <th>%</th>\n",
       "    </tr>\n",
       "  </thead>\n",
       "  <tbody>\n",
       "    <tr>\n",
       "      <th>0</th>\n",
       "      <td>Да, большая часть моих вещей - экологичные</td>\n",
       "      <td>53.7</td>\n",
       "    </tr>\n",
       "    <tr>\n",
       "      <th>1</th>\n",
       "      <td>Нет, для меня это неважный критерий при выборе...</td>\n",
       "      <td>46.3</td>\n",
       "    </tr>\n",
       "  </tbody>\n",
       "</table>\n",
       "</div>"
      ],
      "text/plain": [
       "  Обращаете ли вы внимание на экологичность товаров при покупке вещей?     %\n",
       "0         Да, большая часть моих вещей - экологичные                    53.7\n",
       "1  Нет, для меня это неважный критерий при выборе...                    46.3"
      ]
     },
     "execution_count": 204,
     "metadata": {},
     "output_type": "execute_result"
    }
   ],
   "source": [
    "df20 = round(df.iloc[:,[20]].value_counts() / df.iloc[:,[20]].value_counts().sum() * 100, 1).reset_index()\n",
    "df20.columns = ['Обращаете ли вы внимание на экологичность товаров при покупке вещей?', '%']\n",
    "df20"
   ]
  },
  {
   "cell_type": "code",
   "execution_count": 205,
   "metadata": {},
   "outputs": [
    {
     "data": {
      "text/html": [
       "<div>\n",
       "<style scoped>\n",
       "    .dataframe tbody tr th:only-of-type {\n",
       "        vertical-align: middle;\n",
       "    }\n",
       "\n",
       "    .dataframe tbody tr th {\n",
       "        vertical-align: top;\n",
       "    }\n",
       "\n",
       "    .dataframe thead th {\n",
       "        text-align: right;\n",
       "    }\n",
       "</style>\n",
       "<table border=\"1\" class=\"dataframe\">\n",
       "  <thead>\n",
       "    <tr style=\"text-align: right;\">\n",
       "      <th></th>\n",
       "      <th>Вы с большей вероятностью купите мерч, если будете знать, что вырученные средства пойдут на благотворительность?</th>\n",
       "      <th>%</th>\n",
       "    </tr>\n",
       "  </thead>\n",
       "  <tbody>\n",
       "    <tr>\n",
       "      <th>0</th>\n",
       "      <td>Да</td>\n",
       "      <td>59.1</td>\n",
       "    </tr>\n",
       "    <tr>\n",
       "      <th>1</th>\n",
       "      <td>Нет</td>\n",
       "      <td>40.9</td>\n",
       "    </tr>\n",
       "  </tbody>\n",
       "</table>\n",
       "</div>"
      ],
      "text/plain": [
       "  Вы с большей вероятностью купите мерч, если будете знать, что вырученные средства пойдут на благотворительность?  \\\n",
       "0                                                 Да                                                                 \n",
       "1                                                Нет                                                                 \n",
       "\n",
       "      %  \n",
       "0  59.1  \n",
       "1  40.9  "
      ]
     },
     "execution_count": 205,
     "metadata": {},
     "output_type": "execute_result"
    }
   ],
   "source": [
    "df21 = round(df.iloc[:,[21]].value_counts() / df.iloc[:,[21]].value_counts().sum() * 100, 1).head().reset_index()\n",
    "df21.columns = ['Вы с большей вероятностью купите мерч, если будете знать, что вырученные средства пойдут на благотворительность?', '%']\n",
    "df21"
   ]
  },
  {
   "cell_type": "code",
   "execution_count": 206,
   "metadata": {},
   "outputs": [
    {
     "data": {
      "text/html": [
       "<div>\n",
       "<style scoped>\n",
       "    .dataframe tbody tr th:only-of-type {\n",
       "        vertical-align: middle;\n",
       "    }\n",
       "\n",
       "    .dataframe tbody tr th {\n",
       "        vertical-align: top;\n",
       "    }\n",
       "\n",
       "    .dataframe thead th {\n",
       "        text-align: right;\n",
       "    }\n",
       "</style>\n",
       "<table border=\"1\" class=\"dataframe\">\n",
       "  <thead>\n",
       "    <tr style=\"text-align: right;\">\n",
       "      <th></th>\n",
       "      <th>Вы бы купили мерч в подарок для благотворительного фонда/детского дома?</th>\n",
       "      <th>%</th>\n",
       "    </tr>\n",
       "  </thead>\n",
       "  <tbody>\n",
       "    <tr>\n",
       "      <th>0</th>\n",
       "      <td>Да</td>\n",
       "      <td>64.6</td>\n",
       "    </tr>\n",
       "    <tr>\n",
       "      <th>1</th>\n",
       "      <td>Нет</td>\n",
       "      <td>35.4</td>\n",
       "    </tr>\n",
       "  </tbody>\n",
       "</table>\n",
       "</div>"
      ],
      "text/plain": [
       "  Вы бы купили мерч в подарок для благотворительного фонда/детского дома?  \\\n",
       "0                                                 Да                        \n",
       "1                                                Нет                        \n",
       "\n",
       "      %  \n",
       "0  64.6  \n",
       "1  35.4  "
      ]
     },
     "execution_count": 206,
     "metadata": {},
     "output_type": "execute_result"
    }
   ],
   "source": [
    "df22 = round(df.iloc[:,[22]].value_counts() / df.iloc[:,[22]].value_counts().sum() * 100, 1).head().reset_index()\n",
    "df22.columns = ['Вы бы купили мерч в подарок для благотворительного фонда/детского дома?', '%']\n",
    "df22"
   ]
  },
  {
   "cell_type": "code",
   "execution_count": null,
   "metadata": {},
   "outputs": [],
   "source": []
  },
  {
   "cell_type": "code",
   "execution_count": null,
   "metadata": {},
   "outputs": [],
   "source": []
  },
  {
   "cell_type": "code",
   "execution_count": null,
   "metadata": {},
   "outputs": [],
   "source": []
  },
  {
   "cell_type": "code",
   "execution_count": null,
   "metadata": {},
   "outputs": [],
   "source": []
  },
  {
   "cell_type": "code",
   "execution_count": null,
   "metadata": {},
   "outputs": [],
   "source": []
  },
  {
   "cell_type": "code",
   "execution_count": null,
   "metadata": {},
   "outputs": [],
   "source": []
  },
  {
   "cell_type": "code",
   "execution_count": null,
   "metadata": {},
   "outputs": [],
   "source": []
  }
 ],
 "metadata": {
  "kernelspec": {
   "display_name": "Python 3",
   "language": "python",
   "name": "python3"
  },
  "language_info": {
   "codemirror_mode": {
    "name": "ipython",
    "version": 3
   },
   "file_extension": ".py",
   "mimetype": "text/x-python",
   "name": "python",
   "nbconvert_exporter": "python",
   "pygments_lexer": "ipython3",
   "version": "3.8.5"
  }
 },
 "nbformat": 4,
 "nbformat_minor": 4
}
