{
 "cells": [
  {
   "cell_type": "code",
   "execution_count": 1,
   "metadata": {},
   "outputs": [],
   "source": [
    "import pandas as pd"
   ]
  },
  {
   "cell_type": "code",
   "execution_count": 2,
   "metadata": {},
   "outputs": [],
   "source": [
    "df = pd.read_csv('Merch.csv')"
   ]
  },
  {
   "cell_type": "markdown",
   "metadata": {},
   "source": [
    "## По всей выборке:"
   ]
  },
  {
   "cell_type": "code",
   "execution_count": 3,
   "metadata": {},
   "outputs": [
    {
     "data": {
      "text/html": [
       "<div>\n",
       "<style scoped>\n",
       "    .dataframe tbody tr th:only-of-type {\n",
       "        vertical-align: middle;\n",
       "    }\n",
       "\n",
       "    .dataframe tbody tr th {\n",
       "        vertical-align: top;\n",
       "    }\n",
       "\n",
       "    .dataframe thead th {\n",
       "        text-align: right;\n",
       "    }\n",
       "</style>\n",
       "<table border=\"1\" class=\"dataframe\">\n",
       "  <thead>\n",
       "    <tr style=\"text-align: right;\">\n",
       "      <th></th>\n",
       "      <th>Отметка времени</th>\n",
       "    </tr>\n",
       "    <tr>\n",
       "      <th>Укажите ваш пол</th>\n",
       "      <th></th>\n",
       "    </tr>\n",
       "  </thead>\n",
       "  <tbody>\n",
       "    <tr>\n",
       "      <th>Женский</th>\n",
       "      <td>119</td>\n",
       "    </tr>\n",
       "    <tr>\n",
       "      <th>Мужской</th>\n",
       "      <td>40</td>\n",
       "    </tr>\n",
       "  </tbody>\n",
       "</table>\n",
       "</div>"
      ],
      "text/plain": [
       "                 Отметка времени\n",
       "Укажите ваш пол                 \n",
       "Женский                      119\n",
       "Мужской                       40"
      ]
     },
     "execution_count": 3,
     "metadata": {},
     "output_type": "execute_result"
    }
   ],
   "source": [
    "# Вычисляем количество опрошенных пользователей по полу\n",
    "df.groupby('Укажите ваш пол').count()[['Отметка времени']]"
   ]
  },
  {
   "cell_type": "code",
   "execution_count": 4,
   "metadata": {},
   "outputs": [
    {
     "data": {
      "text/html": [
       "<div>\n",
       "<style scoped>\n",
       "    .dataframe tbody tr th:only-of-type {\n",
       "        vertical-align: middle;\n",
       "    }\n",
       "\n",
       "    .dataframe tbody tr th {\n",
       "        vertical-align: top;\n",
       "    }\n",
       "\n",
       "    .dataframe thead th {\n",
       "        text-align: right;\n",
       "    }\n",
       "</style>\n",
       "<table border=\"1\" class=\"dataframe\">\n",
       "  <thead>\n",
       "    <tr style=\"text-align: right;\">\n",
       "      <th></th>\n",
       "      <th>Отметка времени</th>\n",
       "    </tr>\n",
       "    <tr>\n",
       "      <th>Укажите ваш возраст</th>\n",
       "      <th></th>\n",
       "    </tr>\n",
       "  </thead>\n",
       "  <tbody>\n",
       "    <tr>\n",
       "      <th>30-39 лет</th>\n",
       "      <td>62</td>\n",
       "    </tr>\n",
       "    <tr>\n",
       "      <th>40-49 лет</th>\n",
       "      <td>37</td>\n",
       "    </tr>\n",
       "    <tr>\n",
       "      <th>23-29 лет</th>\n",
       "      <td>33</td>\n",
       "    </tr>\n",
       "    <tr>\n",
       "      <th>больше 50 лет</th>\n",
       "      <td>13</td>\n",
       "    </tr>\n",
       "    <tr>\n",
       "      <th>18-22 лет</th>\n",
       "      <td>9</td>\n",
       "    </tr>\n",
       "    <tr>\n",
       "      <th>до 18 лет</th>\n",
       "      <td>5</td>\n",
       "    </tr>\n",
       "  </tbody>\n",
       "</table>\n",
       "</div>"
      ],
      "text/plain": [
       "                     Отметка времени\n",
       "Укажите ваш возраст                 \n",
       "30-39 лет                         62\n",
       "40-49 лет                         37\n",
       "23-29 лет                         33\n",
       "больше 50 лет                     13\n",
       "18-22 лет                          9\n",
       "до 18 лет                          5"
      ]
     },
     "execution_count": 4,
     "metadata": {},
     "output_type": "execute_result"
    }
   ],
   "source": [
    "# Вычисляем количество опрошенных пользователей по возрасту\n",
    "df.groupby('Укажите ваш возраст').count()[['Отметка времени']].sort_values('Отметка времени', ascending=False)"
   ]
  },
  {
   "cell_type": "code",
   "execution_count": 5,
   "metadata": {},
   "outputs": [
    {
     "data": {
      "text/html": [
       "<div>\n",
       "<style scoped>\n",
       "    .dataframe tbody tr th:only-of-type {\n",
       "        vertical-align: middle;\n",
       "    }\n",
       "\n",
       "    .dataframe tbody tr th {\n",
       "        vertical-align: top;\n",
       "    }\n",
       "\n",
       "    .dataframe thead th {\n",
       "        text-align: right;\n",
       "    }\n",
       "</style>\n",
       "<table border=\"1\" class=\"dataframe\">\n",
       "  <thead>\n",
       "    <tr style=\"text-align: right;\">\n",
       "      <th></th>\n",
       "      <th>Отметка времени</th>\n",
       "    </tr>\n",
       "    <tr>\n",
       "      <th>Укажите ваш город</th>\n",
       "      <th></th>\n",
       "    </tr>\n",
       "  </thead>\n",
       "  <tbody>\n",
       "    <tr>\n",
       "      <th>Москва</th>\n",
       "      <td>39</td>\n",
       "    </tr>\n",
       "    <tr>\n",
       "      <th>Санкт-Петербург</th>\n",
       "      <td>15</td>\n",
       "    </tr>\n",
       "    <tr>\n",
       "      <th>Новосибирск</th>\n",
       "      <td>6</td>\n",
       "    </tr>\n",
       "    <tr>\n",
       "      <th>Самара</th>\n",
       "      <td>5</td>\n",
       "    </tr>\n",
       "    <tr>\n",
       "      <th>Ростов-на-Дону</th>\n",
       "      <td>5</td>\n",
       "    </tr>\n",
       "    <tr>\n",
       "      <th>Екатеринбург</th>\n",
       "      <td>5</td>\n",
       "    </tr>\n",
       "    <tr>\n",
       "      <th>Краснодар</th>\n",
       "      <td>4</td>\n",
       "    </tr>\n",
       "    <tr>\n",
       "      <th>Чехов</th>\n",
       "      <td>3</td>\n",
       "    </tr>\n",
       "    <tr>\n",
       "      <th>Владимир</th>\n",
       "      <td>3</td>\n",
       "    </tr>\n",
       "    <tr>\n",
       "      <th>Челябинск</th>\n",
       "      <td>3</td>\n",
       "    </tr>\n",
       "  </tbody>\n",
       "</table>\n",
       "</div>"
      ],
      "text/plain": [
       "                   Отметка времени\n",
       "Укажите ваш город                 \n",
       "Москва                          39\n",
       "Санкт-Петербург                 15\n",
       "Новосибирск                      6\n",
       "Самара                           5\n",
       "Ростов-на-Дону                   5\n",
       "Екатеринбург                     5\n",
       "Краснодар                        4\n",
       "Чехов                            3\n",
       "Владимир                         3\n",
       "Челябинск                        3"
      ]
     },
     "execution_count": 5,
     "metadata": {},
     "output_type": "execute_result"
    }
   ],
   "source": [
    "# Вычисляем количество опрошенных пользователей по городу проживания\n",
    "df.groupby('Укажите ваш город').count()[['Отметка времени']].sort_values('Отметка времени', ascending=False).head(10)"
   ]
  },
  {
   "cell_type": "markdown",
   "metadata": {},
   "source": [
    "#### Исходя из полученных данных, оставляю те города, в которых проживают наибольшее количество опрошенных пользователей"
   ]
  },
  {
   "cell_type": "code",
   "execution_count": 6,
   "metadata": {
    "collapsed": true
   },
   "outputs": [
    {
     "name": "stderr",
     "output_type": "stream",
     "text": [
      "C:\\Users\\GRALEX\\anaconda3\\lib\\site-packages\\pandas\\core\\indexing.py:670: SettingWithCopyWarning: \n",
      "A value is trying to be set on a copy of a slice from a DataFrame\n",
      "\n",
      "See the caveats in the documentation: https://pandas.pydata.org/pandas-docs/stable/user_guide/indexing.html#returning-a-view-versus-a-copy\n",
      "  iloc._setitem_with_indexer(indexer, value)\n",
      "<ipython-input-6-ee4b69f46042>:2: SettingWithCopyWarning: \n",
      "A value is trying to be set on a copy of a slice from a DataFrame\n",
      "\n",
      "See the caveats in the documentation: https://pandas.pydata.org/pandas-docs/stable/user_guide/indexing.html#returning-a-view-versus-a-copy\n",
      "  df_city.iloc[[35], [3]] = 'Самара'\n"
     ]
    }
   ],
   "source": [
    "df_city = df.loc[df['Укажите ваш город'].isin(['Москва', 'Санкт-Петербург', 'Новосибирск', 'Екатеринбург', 'Самара', 'самара'])]\n",
    "df_city.iloc[[35], [3]] = 'Самара'"
   ]
  },
  {
   "cell_type": "code",
   "execution_count": 7,
   "metadata": {},
   "outputs": [
    {
     "data": {
      "text/html": [
       "<div>\n",
       "<style scoped>\n",
       "    .dataframe tbody tr th:only-of-type {\n",
       "        vertical-align: middle;\n",
       "    }\n",
       "\n",
       "    .dataframe tbody tr th {\n",
       "        vertical-align: top;\n",
       "    }\n",
       "\n",
       "    .dataframe thead th {\n",
       "        text-align: right;\n",
       "    }\n",
       "</style>\n",
       "<table border=\"1\" class=\"dataframe\">\n",
       "  <thead>\n",
       "    <tr style=\"text-align: right;\">\n",
       "      <th></th>\n",
       "      <th>Отметка времени</th>\n",
       "    </tr>\n",
       "    <tr>\n",
       "      <th>Укажите ваш пол</th>\n",
       "      <th></th>\n",
       "    </tr>\n",
       "  </thead>\n",
       "  <tbody>\n",
       "    <tr>\n",
       "      <th>Женский</th>\n",
       "      <td>54</td>\n",
       "    </tr>\n",
       "    <tr>\n",
       "      <th>Мужской</th>\n",
       "      <td>17</td>\n",
       "    </tr>\n",
       "  </tbody>\n",
       "</table>\n",
       "</div>"
      ],
      "text/plain": [
       "                 Отметка времени\n",
       "Укажите ваш пол                 \n",
       "Женский                       54\n",
       "Мужской                       17"
      ]
     },
     "execution_count": 7,
     "metadata": {},
     "output_type": "execute_result"
    }
   ],
   "source": [
    "df_city.groupby('Укажите ваш пол').count()[['Отметка времени']]"
   ]
  },
  {
   "cell_type": "code",
   "execution_count": 8,
   "metadata": {
    "scrolled": true
   },
   "outputs": [
    {
     "data": {
      "text/html": [
       "<div>\n",
       "<style scoped>\n",
       "    .dataframe tbody tr th:only-of-type {\n",
       "        vertical-align: middle;\n",
       "    }\n",
       "\n",
       "    .dataframe tbody tr th {\n",
       "        vertical-align: top;\n",
       "    }\n",
       "\n",
       "    .dataframe thead th {\n",
       "        text-align: right;\n",
       "    }\n",
       "</style>\n",
       "<table border=\"1\" class=\"dataframe\">\n",
       "  <thead>\n",
       "    <tr style=\"text-align: right;\">\n",
       "      <th></th>\n",
       "      <th>Отметка времени</th>\n",
       "    </tr>\n",
       "    <tr>\n",
       "      <th>Укажите ваш возраст</th>\n",
       "      <th></th>\n",
       "    </tr>\n",
       "  </thead>\n",
       "  <tbody>\n",
       "    <tr>\n",
       "      <th>30-39 лет</th>\n",
       "      <td>24</td>\n",
       "    </tr>\n",
       "    <tr>\n",
       "      <th>23-29 лет</th>\n",
       "      <td>21</td>\n",
       "    </tr>\n",
       "    <tr>\n",
       "      <th>40-49 лет</th>\n",
       "      <td>12</td>\n",
       "    </tr>\n",
       "    <tr>\n",
       "      <th>больше 50 лет</th>\n",
       "      <td>6</td>\n",
       "    </tr>\n",
       "    <tr>\n",
       "      <th>18-22 лет</th>\n",
       "      <td>5</td>\n",
       "    </tr>\n",
       "    <tr>\n",
       "      <th>до 18 лет</th>\n",
       "      <td>3</td>\n",
       "    </tr>\n",
       "  </tbody>\n",
       "</table>\n",
       "</div>"
      ],
      "text/plain": [
       "                     Отметка времени\n",
       "Укажите ваш возраст                 \n",
       "30-39 лет                         24\n",
       "23-29 лет                         21\n",
       "40-49 лет                         12\n",
       "больше 50 лет                      6\n",
       "18-22 лет                          5\n",
       "до 18 лет                          3"
      ]
     },
     "execution_count": 8,
     "metadata": {},
     "output_type": "execute_result"
    }
   ],
   "source": [
    "df_city.groupby('Укажите ваш возраст').count()[['Отметка времени']].sort_values('Отметка времени', ascending=False).head(6)"
   ]
  },
  {
   "cell_type": "code",
   "execution_count": 9,
   "metadata": {},
   "outputs": [
    {
     "data": {
      "text/html": [
       "<div>\n",
       "<style scoped>\n",
       "    .dataframe tbody tr th:only-of-type {\n",
       "        vertical-align: middle;\n",
       "    }\n",
       "\n",
       "    .dataframe tbody tr th {\n",
       "        vertical-align: top;\n",
       "    }\n",
       "\n",
       "    .dataframe thead th {\n",
       "        text-align: right;\n",
       "    }\n",
       "</style>\n",
       "<table border=\"1\" class=\"dataframe\">\n",
       "  <thead>\n",
       "    <tr style=\"text-align: right;\">\n",
       "      <th></th>\n",
       "      <th>Отметка времени</th>\n",
       "    </tr>\n",
       "    <tr>\n",
       "      <th>Укажите ваш город</th>\n",
       "      <th></th>\n",
       "    </tr>\n",
       "  </thead>\n",
       "  <tbody>\n",
       "    <tr>\n",
       "      <th>Москва</th>\n",
       "      <td>38</td>\n",
       "    </tr>\n",
       "    <tr>\n",
       "      <th>Санкт-Петербург</th>\n",
       "      <td>15</td>\n",
       "    </tr>\n",
       "    <tr>\n",
       "      <th>Новосибирск</th>\n",
       "      <td>6</td>\n",
       "    </tr>\n",
       "    <tr>\n",
       "      <th>Самара</th>\n",
       "      <td>6</td>\n",
       "    </tr>\n",
       "    <tr>\n",
       "      <th>Екатеринбург</th>\n",
       "      <td>5</td>\n",
       "    </tr>\n",
       "  </tbody>\n",
       "</table>\n",
       "</div>"
      ],
      "text/plain": [
       "                   Отметка времени\n",
       "Укажите ваш город                 \n",
       "Москва                          38\n",
       "Санкт-Петербург                 15\n",
       "Новосибирск                      6\n",
       "Самара                           6\n",
       "Екатеринбург                     5"
      ]
     },
     "execution_count": 9,
     "metadata": {},
     "output_type": "execute_result"
    }
   ],
   "source": [
    "df_city.groupby('Укажите ваш город').count()[['Отметка времени']].sort_values('Отметка времени', ascending=False).head()"
   ]
  },
  {
   "cell_type": "markdown",
   "metadata": {},
   "source": [
    "### Портреты пользователей ЦА: \n",
    "Мужчины и женщины, в возрасте от 23 до 49 лет, проживающие в Москве и Санкт-Петербурге"
   ]
  },
  {
   "cell_type": "code",
   "execution_count": 10,
   "metadata": {
    "collapsed": true
   },
   "outputs": [
    {
     "name": "stderr",
     "output_type": "stream",
     "text": [
      "C:\\Users\\GRALEX\\anaconda3\\lib\\site-packages\\pandas\\core\\frame.py:4296: SettingWithCopyWarning: \n",
      "A value is trying to be set on a copy of a slice from a DataFrame\n",
      "\n",
      "See the caveats in the documentation: https://pandas.pydata.org/pandas-docs/stable/user_guide/indexing.html#returning-a-view-versus-a-copy\n",
      "  return super().rename(\n"
     ]
    }
   ],
   "source": [
    "target_audience = df_city.loc[df_city['Укажите ваш возраст'].isin(['30-39 лет', '23-29 лет', '40-49 лет'])]\n",
    "target_audience.rename(columns = {\n",
    "    target_audience.columns[0]: 'Timestamp',\n",
    "    target_audience.columns[1]: 'Age',\n",
    "    target_audience.columns[2]: 'Sex',\n",
    "    target_audience.columns[3]: 'City',\n",
    "    target_audience.columns[4]: 'Color_Shop',\n",
    "    target_audience.columns[5]: 'Time_order',\n",
    "    target_audience.columns[6]: 'Discond',\n",
    "    target_audience.columns[7]: 'Time_reply',\n",
    "    target_audience.columns[8]: 'Feedback_method',\n",
    "    target_audience.columns[9]: 'Bought_merch',\n",
    "    target_audience.columns[10]: 'Size_logo',\n",
    "    target_audience.columns[11]: 'Most_interested_merch',\n",
    "    target_audience.columns[12]: 'Merch_without_logo',    \n",
    "    target_audience.columns[13]: 'Citation',\n",
    "    target_audience.columns[14]: 'Jumor_citation',\n",
    "    target_audience.columns[15]: 'Merch_after_event',\n",
    "    target_audience.columns[16]: 'Uniq_color_print',\n",
    "    target_audience.columns[17]: 'Merch_for_lern',\n",
    "    target_audience.columns[18]: 'Unique_merch',\n",
    "    target_audience.columns[19]: 'Limit_merch',\n",
    "    target_audience.columns[20]: 'Eco',\n",
    "    target_audience.columns[21]: 'Charity',\n",
    "    target_audience.columns[22]: 'Buy_for_charity'    \n",
    "}, inplace = True)"
   ]
  },
  {
   "cell_type": "code",
   "execution_count": 11,
   "metadata": {},
   "outputs": [],
   "source": [
    "target_audience_f = target_audience.loc[target_audience.Sex == 'Женский']\n",
    "target_audience_m = target_audience.loc[target_audience.Sex == 'Мужской']"
   ]
  },
  {
   "cell_type": "code",
   "execution_count": 12,
   "metadata": {},
   "outputs": [
    {
     "data": {
      "text/html": [
       "<div>\n",
       "<style scoped>\n",
       "    .dataframe tbody tr th:only-of-type {\n",
       "        vertical-align: middle;\n",
       "    }\n",
       "\n",
       "    .dataframe tbody tr th {\n",
       "        vertical-align: top;\n",
       "    }\n",
       "\n",
       "    .dataframe thead th {\n",
       "        text-align: right;\n",
       "    }\n",
       "</style>\n",
       "<table border=\"1\" class=\"dataframe\">\n",
       "  <thead>\n",
       "    <tr style=\"text-align: right;\">\n",
       "      <th></th>\n",
       "      <th>Timestamp</th>\n",
       "    </tr>\n",
       "    <tr>\n",
       "      <th>City</th>\n",
       "      <th></th>\n",
       "    </tr>\n",
       "  </thead>\n",
       "  <tbody>\n",
       "    <tr>\n",
       "      <th>Москва</th>\n",
       "      <td>25</td>\n",
       "    </tr>\n",
       "    <tr>\n",
       "      <th>Санкт-Петербург</th>\n",
       "      <td>11</td>\n",
       "    </tr>\n",
       "    <tr>\n",
       "      <th>Новосибирск</th>\n",
       "      <td>6</td>\n",
       "    </tr>\n",
       "    <tr>\n",
       "      <th>Екатеринбург</th>\n",
       "      <td>4</td>\n",
       "    </tr>\n",
       "    <tr>\n",
       "      <th>Самара</th>\n",
       "      <td>1</td>\n",
       "    </tr>\n",
       "  </tbody>\n",
       "</table>\n",
       "</div>"
      ],
      "text/plain": [
       "                 Timestamp\n",
       "City                      \n",
       "Москва                  25\n",
       "Санкт-Петербург         11\n",
       "Новосибирск              6\n",
       "Екатеринбург             4\n",
       "Самара                   1"
      ]
     },
     "execution_count": 12,
     "metadata": {},
     "output_type": "execute_result"
    }
   ],
   "source": [
    "# Женщины\n",
    "target_audience_f.groupby('City').count()[['Timestamp']].sort_values('Timestamp', ascending=False).head()"
   ]
  },
  {
   "cell_type": "code",
   "execution_count": 13,
   "metadata": {},
   "outputs": [
    {
     "data": {
      "text/html": [
       "<div>\n",
       "<style scoped>\n",
       "    .dataframe tbody tr th:only-of-type {\n",
       "        vertical-align: middle;\n",
       "    }\n",
       "\n",
       "    .dataframe tbody tr th {\n",
       "        vertical-align: top;\n",
       "    }\n",
       "\n",
       "    .dataframe thead th {\n",
       "        text-align: right;\n",
       "    }\n",
       "</style>\n",
       "<table border=\"1\" class=\"dataframe\">\n",
       "  <thead>\n",
       "    <tr style=\"text-align: right;\">\n",
       "      <th></th>\n",
       "      <th>Timestamp</th>\n",
       "    </tr>\n",
       "    <tr>\n",
       "      <th>City</th>\n",
       "      <th></th>\n",
       "    </tr>\n",
       "  </thead>\n",
       "  <tbody>\n",
       "    <tr>\n",
       "      <th>Москва</th>\n",
       "      <td>7</td>\n",
       "    </tr>\n",
       "    <tr>\n",
       "      <th>Санкт-Петербург</th>\n",
       "      <td>3</td>\n",
       "    </tr>\n",
       "  </tbody>\n",
       "</table>\n",
       "</div>"
      ],
      "text/plain": [
       "                 Timestamp\n",
       "City                      \n",
       "Москва                   7\n",
       "Санкт-Петербург          3"
      ]
     },
     "execution_count": 13,
     "metadata": {},
     "output_type": "execute_result"
    }
   ],
   "source": [
    "# Мужчины\n",
    "target_audience_m.groupby('City').count()[['Timestamp']].sort_values('Timestamp', ascending=False).head()"
   ]
  },
  {
   "cell_type": "code",
   "execution_count": 14,
   "metadata": {},
   "outputs": [
    {
     "data": {
      "text/html": [
       "<div>\n",
       "<style scoped>\n",
       "    .dataframe tbody tr th:only-of-type {\n",
       "        vertical-align: middle;\n",
       "    }\n",
       "\n",
       "    .dataframe tbody tr th {\n",
       "        vertical-align: top;\n",
       "    }\n",
       "\n",
       "    .dataframe thead th {\n",
       "        text-align: right;\n",
       "    }\n",
       "</style>\n",
       "<table border=\"1\" class=\"dataframe\">\n",
       "  <thead>\n",
       "    <tr style=\"text-align: right;\">\n",
       "      <th></th>\n",
       "      <th>Timestamp</th>\n",
       "    </tr>\n",
       "    <tr>\n",
       "      <th>Age</th>\n",
       "      <th></th>\n",
       "    </tr>\n",
       "  </thead>\n",
       "  <tbody>\n",
       "    <tr>\n",
       "      <th>23-29 лет</th>\n",
       "      <td>19</td>\n",
       "    </tr>\n",
       "    <tr>\n",
       "      <th>30-39 лет</th>\n",
       "      <td>19</td>\n",
       "    </tr>\n",
       "    <tr>\n",
       "      <th>40-49 лет</th>\n",
       "      <td>9</td>\n",
       "    </tr>\n",
       "  </tbody>\n",
       "</table>\n",
       "</div>"
      ],
      "text/plain": [
       "           Timestamp\n",
       "Age                 \n",
       "23-29 лет         19\n",
       "30-39 лет         19\n",
       "40-49 лет          9"
      ]
     },
     "execution_count": 14,
     "metadata": {},
     "output_type": "execute_result"
    }
   ],
   "source": [
    "# В основном, женщины из Москвы и Санкт-Петербурга в возрасте 23-49 лет\n",
    "target_audience_f.groupby('Age').count()[['Timestamp']].sort_values('Timestamp', ascending=False).head()"
   ]
  },
  {
   "cell_type": "code",
   "execution_count": 15,
   "metadata": {},
   "outputs": [
    {
     "data": {
      "text/html": [
       "<div>\n",
       "<style scoped>\n",
       "    .dataframe tbody tr th:only-of-type {\n",
       "        vertical-align: middle;\n",
       "    }\n",
       "\n",
       "    .dataframe tbody tr th {\n",
       "        vertical-align: top;\n",
       "    }\n",
       "\n",
       "    .dataframe thead th {\n",
       "        text-align: right;\n",
       "    }\n",
       "</style>\n",
       "<table border=\"1\" class=\"dataframe\">\n",
       "  <thead>\n",
       "    <tr style=\"text-align: right;\">\n",
       "      <th></th>\n",
       "      <th>Timestamp</th>\n",
       "    </tr>\n",
       "    <tr>\n",
       "      <th>Age</th>\n",
       "      <th></th>\n",
       "    </tr>\n",
       "  </thead>\n",
       "  <tbody>\n",
       "    <tr>\n",
       "      <th>30-39 лет</th>\n",
       "      <td>5</td>\n",
       "    </tr>\n",
       "    <tr>\n",
       "      <th>40-49 лет</th>\n",
       "      <td>3</td>\n",
       "    </tr>\n",
       "    <tr>\n",
       "      <th>23-29 лет</th>\n",
       "      <td>2</td>\n",
       "    </tr>\n",
       "  </tbody>\n",
       "</table>\n",
       "</div>"
      ],
      "text/plain": [
       "           Timestamp\n",
       "Age                 \n",
       "30-39 лет          5\n",
       "40-49 лет          3\n",
       "23-29 лет          2"
      ]
     },
     "execution_count": 15,
     "metadata": {},
     "output_type": "execute_result"
    }
   ],
   "source": [
    "# В основном, мужчины из Москвы и Санкт-Петербурга в возрасте 30-49 лет\n",
    "target_audience_m.groupby('Age').count()[['Timestamp']].sort_values('Timestamp', ascending=False).head()"
   ]
  },
  {
   "cell_type": "markdown",
   "metadata": {},
   "source": [
    "### % опрошенных пользователей, которые так ответили:"
   ]
  },
  {
   "cell_type": "code",
   "execution_count": 16,
   "metadata": {},
   "outputs": [],
   "source": [
    "df_f = df.loc[df['Укажите ваш пол'] == 'Женский']\n",
    "df_m = df.loc[df['Укажите ваш пол'] == 'Мужской']"
   ]
  },
  {
   "cell_type": "code",
   "execution_count": 17,
   "metadata": {},
   "outputs": [
    {
     "data": {
      "text/html": [
       "<div>\n",
       "<style scoped>\n",
       "    .dataframe tbody tr th:only-of-type {\n",
       "        vertical-align: middle;\n",
       "    }\n",
       "\n",
       "    .dataframe tbody tr th {\n",
       "        vertical-align: top;\n",
       "    }\n",
       "\n",
       "    .dataframe thead th {\n",
       "        text-align: right;\n",
       "    }\n",
       "</style>\n",
       "<table border=\"1\" class=\"dataframe\">\n",
       "  <thead>\n",
       "    <tr style=\"text-align: right;\">\n",
       "      <th></th>\n",
       "      <th>Укажите ваш возраст</th>\n",
       "      <th>Жен., %</th>\n",
       "    </tr>\n",
       "  </thead>\n",
       "  <tbody>\n",
       "    <tr>\n",
       "      <th>0</th>\n",
       "      <td>30-39 лет</td>\n",
       "      <td>40.3</td>\n",
       "    </tr>\n",
       "    <tr>\n",
       "      <th>1</th>\n",
       "      <td>23-29 лет</td>\n",
       "      <td>23.5</td>\n",
       "    </tr>\n",
       "    <tr>\n",
       "      <th>2</th>\n",
       "      <td>40-49 лет</td>\n",
       "      <td>22.7</td>\n",
       "    </tr>\n",
       "    <tr>\n",
       "      <th>3</th>\n",
       "      <td>больше 50 лет</td>\n",
       "      <td>7.6</td>\n",
       "    </tr>\n",
       "    <tr>\n",
       "      <th>4</th>\n",
       "      <td>18-22 лет</td>\n",
       "      <td>4.2</td>\n",
       "    </tr>\n",
       "    <tr>\n",
       "      <th>5</th>\n",
       "      <td>до 18 лет</td>\n",
       "      <td>1.7</td>\n",
       "    </tr>\n",
       "  </tbody>\n",
       "</table>\n",
       "</div>"
      ],
      "text/plain": [
       "  Укажите ваш возраст  Жен., %\n",
       "0           30-39 лет     40.3\n",
       "1           23-29 лет     23.5\n",
       "2           40-49 лет     22.7\n",
       "3       больше 50 лет      7.6\n",
       "4           18-22 лет      4.2\n",
       "5           до 18 лет      1.7"
      ]
     },
     "execution_count": 17,
     "metadata": {},
     "output_type": "execute_result"
    }
   ],
   "source": [
    "df1_f = round(df_f.iloc[:,[1]].value_counts() / df_f.iloc[:,[1]].value_counts().sum() * 100, 1).reset_index()\n",
    "df1_f.columns = ['Укажите ваш возраст', 'Жен., %']\n",
    "df1_f"
   ]
  },
  {
   "cell_type": "code",
   "execution_count": 18,
   "metadata": {},
   "outputs": [
    {
     "data": {
      "text/html": [
       "<div>\n",
       "<style scoped>\n",
       "    .dataframe tbody tr th:only-of-type {\n",
       "        vertical-align: middle;\n",
       "    }\n",
       "\n",
       "    .dataframe tbody tr th {\n",
       "        vertical-align: top;\n",
       "    }\n",
       "\n",
       "    .dataframe thead th {\n",
       "        text-align: right;\n",
       "    }\n",
       "</style>\n",
       "<table border=\"1\" class=\"dataframe\">\n",
       "  <thead>\n",
       "    <tr style=\"text-align: right;\">\n",
       "      <th></th>\n",
       "      <th>Укажите ваш возраст</th>\n",
       "      <th>Муж., %</th>\n",
       "    </tr>\n",
       "  </thead>\n",
       "  <tbody>\n",
       "    <tr>\n",
       "      <th>0</th>\n",
       "      <td>30-39 лет</td>\n",
       "      <td>35.0</td>\n",
       "    </tr>\n",
       "    <tr>\n",
       "      <th>1</th>\n",
       "      <td>40-49 лет</td>\n",
       "      <td>25.0</td>\n",
       "    </tr>\n",
       "    <tr>\n",
       "      <th>2</th>\n",
       "      <td>23-29 лет</td>\n",
       "      <td>12.5</td>\n",
       "    </tr>\n",
       "    <tr>\n",
       "      <th>3</th>\n",
       "      <td>больше 50 лет</td>\n",
       "      <td>10.0</td>\n",
       "    </tr>\n",
       "    <tr>\n",
       "      <th>4</th>\n",
       "      <td>18-22 лет</td>\n",
       "      <td>10.0</td>\n",
       "    </tr>\n",
       "    <tr>\n",
       "      <th>5</th>\n",
       "      <td>до 18 лет</td>\n",
       "      <td>7.5</td>\n",
       "    </tr>\n",
       "  </tbody>\n",
       "</table>\n",
       "</div>"
      ],
      "text/plain": [
       "  Укажите ваш возраст  Муж., %\n",
       "0           30-39 лет     35.0\n",
       "1           40-49 лет     25.0\n",
       "2           23-29 лет     12.5\n",
       "3       больше 50 лет     10.0\n",
       "4           18-22 лет     10.0\n",
       "5           до 18 лет      7.5"
      ]
     },
     "execution_count": 18,
     "metadata": {},
     "output_type": "execute_result"
    }
   ],
   "source": [
    "df1_m = round(df_m.iloc[:,[1]].value_counts() / df_m.iloc[:,[1]].value_counts().sum() * 100, 1).reset_index()\n",
    "df1_m.columns = ['Укажите ваш возраст', 'Муж., %']\n",
    "df1_m"
   ]
  },
  {
   "cell_type": "code",
   "execution_count": 19,
   "metadata": {},
   "outputs": [
    {
     "data": {
      "text/html": [
       "<div>\n",
       "<style scoped>\n",
       "    .dataframe tbody tr th:only-of-type {\n",
       "        vertical-align: middle;\n",
       "    }\n",
       "\n",
       "    .dataframe tbody tr th {\n",
       "        vertical-align: top;\n",
       "    }\n",
       "\n",
       "    .dataframe thead th {\n",
       "        text-align: right;\n",
       "    }\n",
       "</style>\n",
       "<table border=\"1\" class=\"dataframe\">\n",
       "  <thead>\n",
       "    <tr style=\"text-align: right;\">\n",
       "      <th></th>\n",
       "      <th>Укажите ваш пол</th>\n",
       "      <th>%</th>\n",
       "    </tr>\n",
       "  </thead>\n",
       "  <tbody>\n",
       "    <tr>\n",
       "      <th>0</th>\n",
       "      <td>Женский</td>\n",
       "      <td>74.8</td>\n",
       "    </tr>\n",
       "    <tr>\n",
       "      <th>1</th>\n",
       "      <td>Мужской</td>\n",
       "      <td>25.2</td>\n",
       "    </tr>\n",
       "  </tbody>\n",
       "</table>\n",
       "</div>"
      ],
      "text/plain": [
       "  Укажите ваш пол     %\n",
       "0         Женский  74.8\n",
       "1         Мужской  25.2"
      ]
     },
     "execution_count": 19,
     "metadata": {},
     "output_type": "execute_result"
    }
   ],
   "source": [
    "df2 = round(df.iloc[:,[2]].value_counts() / df.iloc[:,[2]].value_counts().sum() * 100, 1).reset_index()\n",
    "df2.columns = ['Укажите ваш пол', '%']\n",
    "df2"
   ]
  },
  {
   "cell_type": "code",
   "execution_count": 20,
   "metadata": {},
   "outputs": [
    {
     "data": {
      "text/html": [
       "<div>\n",
       "<style scoped>\n",
       "    .dataframe tbody tr th:only-of-type {\n",
       "        vertical-align: middle;\n",
       "    }\n",
       "\n",
       "    .dataframe tbody tr th {\n",
       "        vertical-align: top;\n",
       "    }\n",
       "\n",
       "    .dataframe thead th {\n",
       "        text-align: right;\n",
       "    }\n",
       "</style>\n",
       "<table border=\"1\" class=\"dataframe\">\n",
       "  <thead>\n",
       "    <tr style=\"text-align: right;\">\n",
       "      <th></th>\n",
       "      <th>Укажите ваш город</th>\n",
       "      <th>Жен., %</th>\n",
       "    </tr>\n",
       "  </thead>\n",
       "  <tbody>\n",
       "    <tr>\n",
       "      <th>0</th>\n",
       "      <td>Москва</td>\n",
       "      <td>25.2</td>\n",
       "    </tr>\n",
       "    <tr>\n",
       "      <th>1</th>\n",
       "      <td>Санкт-Петербург</td>\n",
       "      <td>10.1</td>\n",
       "    </tr>\n",
       "    <tr>\n",
       "      <th>2</th>\n",
       "      <td>Новосибирск</td>\n",
       "      <td>5.0</td>\n",
       "    </tr>\n",
       "    <tr>\n",
       "      <th>3</th>\n",
       "      <td>Ростов-на-Дону</td>\n",
       "      <td>3.4</td>\n",
       "    </tr>\n",
       "    <tr>\n",
       "      <th>4</th>\n",
       "      <td>Екатеринбург</td>\n",
       "      <td>3.4</td>\n",
       "    </tr>\n",
       "    <tr>\n",
       "      <th>5</th>\n",
       "      <td>Краснодар</td>\n",
       "      <td>2.5</td>\n",
       "    </tr>\n",
       "    <tr>\n",
       "      <th>6</th>\n",
       "      <td>Челябинск</td>\n",
       "      <td>2.5</td>\n",
       "    </tr>\n",
       "    <tr>\n",
       "      <th>7</th>\n",
       "      <td>Алмере</td>\n",
       "      <td>2.5</td>\n",
       "    </tr>\n",
       "    <tr>\n",
       "      <th>8</th>\n",
       "      <td>Владимир</td>\n",
       "      <td>1.7</td>\n",
       "    </tr>\n",
       "    <tr>\n",
       "      <th>9</th>\n",
       "      <td>Нижний Новгород</td>\n",
       "      <td>1.7</td>\n",
       "    </tr>\n",
       "  </tbody>\n",
       "</table>\n",
       "</div>"
      ],
      "text/plain": [
       "  Укажите ваш город  Жен., %\n",
       "0            Москва     25.2\n",
       "1   Санкт-Петербург     10.1\n",
       "2       Новосибирск      5.0\n",
       "3    Ростов-на-Дону      3.4\n",
       "4      Екатеринбург      3.4\n",
       "5         Краснодар      2.5\n",
       "6         Челябинск      2.5\n",
       "7           Алмере       2.5\n",
       "8          Владимир      1.7\n",
       "9   Нижний Новгород      1.7"
      ]
     },
     "execution_count": 20,
     "metadata": {},
     "output_type": "execute_result"
    }
   ],
   "source": [
    "df3_f = round(df_f.iloc[:,[3]].value_counts() / df_f.iloc[:,[3]].value_counts().sum() * 100, 1).reset_index()\n",
    "df3_f.columns = ['Укажите ваш город', 'Жен., %']\n",
    "df3_f.head(10)"
   ]
  },
  {
   "cell_type": "code",
   "execution_count": 21,
   "metadata": {},
   "outputs": [
    {
     "data": {
      "text/html": [
       "<div>\n",
       "<style scoped>\n",
       "    .dataframe tbody tr th:only-of-type {\n",
       "        vertical-align: middle;\n",
       "    }\n",
       "\n",
       "    .dataframe tbody tr th {\n",
       "        vertical-align: top;\n",
       "    }\n",
       "\n",
       "    .dataframe thead th {\n",
       "        text-align: right;\n",
       "    }\n",
       "</style>\n",
       "<table border=\"1\" class=\"dataframe\">\n",
       "  <thead>\n",
       "    <tr style=\"text-align: right;\">\n",
       "      <th></th>\n",
       "      <th>Укажите ваш город</th>\n",
       "      <th>Муж., %</th>\n",
       "    </tr>\n",
       "  </thead>\n",
       "  <tbody>\n",
       "    <tr>\n",
       "      <th>0</th>\n",
       "      <td>Москва</td>\n",
       "      <td>22.5</td>\n",
       "    </tr>\n",
       "    <tr>\n",
       "      <th>1</th>\n",
       "      <td>Санкт-Петербург</td>\n",
       "      <td>7.5</td>\n",
       "    </tr>\n",
       "    <tr>\n",
       "      <th>2</th>\n",
       "      <td>Самара</td>\n",
       "      <td>7.5</td>\n",
       "    </tr>\n",
       "    <tr>\n",
       "      <th>3</th>\n",
       "      <td>Чехов</td>\n",
       "      <td>7.5</td>\n",
       "    </tr>\n",
       "    <tr>\n",
       "      <th>4</th>\n",
       "      <td>Симферополь</td>\n",
       "      <td>5.0</td>\n",
       "    </tr>\n",
       "    <tr>\n",
       "      <th>5</th>\n",
       "      <td>самара</td>\n",
       "      <td>2.5</td>\n",
       "    </tr>\n",
       "    <tr>\n",
       "      <th>6</th>\n",
       "      <td>Махачкала</td>\n",
       "      <td>2.5</td>\n",
       "    </tr>\n",
       "    <tr>\n",
       "      <th>7</th>\n",
       "      <td>Владивосток</td>\n",
       "      <td>2.5</td>\n",
       "    </tr>\n",
       "    <tr>\n",
       "      <th>8</th>\n",
       "      <td>Владимир</td>\n",
       "      <td>2.5</td>\n",
       "    </tr>\n",
       "    <tr>\n",
       "      <th>9</th>\n",
       "      <td>Екатеринбург</td>\n",
       "      <td>2.5</td>\n",
       "    </tr>\n",
       "    <tr>\n",
       "      <th>10</th>\n",
       "      <td>Зеленокумск</td>\n",
       "      <td>2.5</td>\n",
       "    </tr>\n",
       "    <tr>\n",
       "      <th>11</th>\n",
       "      <td>Ижевск</td>\n",
       "      <td>2.5</td>\n",
       "    </tr>\n",
       "    <tr>\n",
       "      <th>12</th>\n",
       "      <td>Краматорск</td>\n",
       "      <td>2.5</td>\n",
       "    </tr>\n",
       "    <tr>\n",
       "      <th>13</th>\n",
       "      <td>Краснодар</td>\n",
       "      <td>2.5</td>\n",
       "    </tr>\n",
       "    <tr>\n",
       "      <th>14</th>\n",
       "      <td>Красноярск</td>\n",
       "      <td>2.5</td>\n",
       "    </tr>\n",
       "  </tbody>\n",
       "</table>\n",
       "</div>"
      ],
      "text/plain": [
       "   Укажите ваш город  Муж., %\n",
       "0             Москва     22.5\n",
       "1    Санкт-Петербург      7.5\n",
       "2             Самара      7.5\n",
       "3              Чехов      7.5\n",
       "4        Симферополь      5.0\n",
       "5             самара      2.5\n",
       "6         Махачкала       2.5\n",
       "7        Владивосток      2.5\n",
       "8           Владимир      2.5\n",
       "9       Екатеринбург      2.5\n",
       "10       Зеленокумск      2.5\n",
       "11            Ижевск      2.5\n",
       "12        Краматорск      2.5\n",
       "13         Краснодар      2.5\n",
       "14        Красноярск      2.5"
      ]
     },
     "execution_count": 21,
     "metadata": {},
     "output_type": "execute_result"
    }
   ],
   "source": [
    "df3_m = round(df_m.iloc[:,[3]].value_counts() / df_m.iloc[:,[3]].value_counts().sum() * 100, 1).reset_index()\n",
    "df3_m.columns = ['Укажите ваш город', 'Муж., %']\n",
    "df3_m.head(15)"
   ]
  },
  {
   "cell_type": "code",
   "execution_count": 22,
   "metadata": {},
   "outputs": [
    {
     "data": {
      "text/html": [
       "<div>\n",
       "<style scoped>\n",
       "    .dataframe tbody tr th:only-of-type {\n",
       "        vertical-align: middle;\n",
       "    }\n",
       "\n",
       "    .dataframe tbody tr th {\n",
       "        vertical-align: top;\n",
       "    }\n",
       "\n",
       "    .dataframe thead th {\n",
       "        text-align: right;\n",
       "    }\n",
       "</style>\n",
       "<table border=\"1\" class=\"dataframe\">\n",
       "  <thead>\n",
       "    <tr style=\"text-align: right;\">\n",
       "      <th></th>\n",
       "      <th>Какая цветовая гамма интернет-магазина вам нравится?</th>\n",
       "      <th>Жен., %</th>\n",
       "    </tr>\n",
       "  </thead>\n",
       "  <tbody>\n",
       "    <tr>\n",
       "      <th>0</th>\n",
       "      <td>Сдержанные оттенки (белый, черный, серый)</td>\n",
       "      <td>47.1</td>\n",
       "    </tr>\n",
       "    <tr>\n",
       "      <th>1</th>\n",
       "      <td>Яркая (синий, красный, зеленый и тд.)</td>\n",
       "      <td>31.1</td>\n",
       "    </tr>\n",
       "    <tr>\n",
       "      <th>2</th>\n",
       "      <td>Неважно</td>\n",
       "      <td>21.8</td>\n",
       "    </tr>\n",
       "  </tbody>\n",
       "</table>\n",
       "</div>"
      ],
      "text/plain": [
       "  Какая цветовая гамма интернет-магазина вам нравится?  Жен., %\n",
       "0          Сдержанные оттенки (белый, черный, серый)       47.1\n",
       "1              Яркая (синий, красный, зеленый и тд.)       31.1\n",
       "2                                            Неважно       21.8"
      ]
     },
     "execution_count": 22,
     "metadata": {},
     "output_type": "execute_result"
    }
   ],
   "source": [
    "df4_f = round(df_f.iloc[:,[4]].value_counts() / df_f.iloc[:,[4]].value_counts().sum() * 100, 1).head().reset_index()\n",
    "df4_f.columns = ['Какая цветовая гамма интернет-магазина вам нравится?', 'Жен., %']\n",
    "df4_f"
   ]
  },
  {
   "cell_type": "code",
   "execution_count": 23,
   "metadata": {},
   "outputs": [
    {
     "data": {
      "text/html": [
       "<div>\n",
       "<style scoped>\n",
       "    .dataframe tbody tr th:only-of-type {\n",
       "        vertical-align: middle;\n",
       "    }\n",
       "\n",
       "    .dataframe tbody tr th {\n",
       "        vertical-align: top;\n",
       "    }\n",
       "\n",
       "    .dataframe thead th {\n",
       "        text-align: right;\n",
       "    }\n",
       "</style>\n",
       "<table border=\"1\" class=\"dataframe\">\n",
       "  <thead>\n",
       "    <tr style=\"text-align: right;\">\n",
       "      <th></th>\n",
       "      <th>Какая цветовая гамма интернет-магазина вам нравится?</th>\n",
       "      <th>Муж., %</th>\n",
       "    </tr>\n",
       "  </thead>\n",
       "  <tbody>\n",
       "    <tr>\n",
       "      <th>0</th>\n",
       "      <td>Сдержанные оттенки (белый, черный, серый)</td>\n",
       "      <td>62.5</td>\n",
       "    </tr>\n",
       "    <tr>\n",
       "      <th>1</th>\n",
       "      <td>Яркая (синий, красный, зеленый и тд.)</td>\n",
       "      <td>27.5</td>\n",
       "    </tr>\n",
       "    <tr>\n",
       "      <th>2</th>\n",
       "      <td>Неважно</td>\n",
       "      <td>10.0</td>\n",
       "    </tr>\n",
       "  </tbody>\n",
       "</table>\n",
       "</div>"
      ],
      "text/plain": [
       "  Какая цветовая гамма интернет-магазина вам нравится?  Муж., %\n",
       "0          Сдержанные оттенки (белый, черный, серый)       62.5\n",
       "1              Яркая (синий, красный, зеленый и тд.)       27.5\n",
       "2                                            Неважно       10.0"
      ]
     },
     "execution_count": 23,
     "metadata": {},
     "output_type": "execute_result"
    }
   ],
   "source": [
    "df4_m = round(df_m.iloc[:,[4]].value_counts() / df_m.iloc[:,[4]].value_counts().sum() * 100, 1).head().reset_index()\n",
    "df4_m.columns = ['Какая цветовая гамма интернет-магазина вам нравится?', 'Муж., %']\n",
    "df4_m"
   ]
  },
  {
   "cell_type": "code",
   "execution_count": 24,
   "metadata": {},
   "outputs": [
    {
     "data": {
      "text/html": [
       "<div>\n",
       "<style scoped>\n",
       "    .dataframe tbody tr th:only-of-type {\n",
       "        vertical-align: middle;\n",
       "    }\n",
       "\n",
       "    .dataframe tbody tr th {\n",
       "        vertical-align: top;\n",
       "    }\n",
       "\n",
       "    .dataframe thead th {\n",
       "        text-align: right;\n",
       "    }\n",
       "</style>\n",
       "<table border=\"1\" class=\"dataframe\">\n",
       "  <thead>\n",
       "    <tr style=\"text-align: right;\">\n",
       "      <th></th>\n",
       "      <th>Сколько по времени вы готовы ждать свой заказ?</th>\n",
       "      <th>%</th>\n",
       "    </tr>\n",
       "  </thead>\n",
       "  <tbody>\n",
       "    <tr>\n",
       "      <th>0</th>\n",
       "      <td>4-7 рабочих дней</td>\n",
       "      <td>41.5</td>\n",
       "    </tr>\n",
       "    <tr>\n",
       "      <th>1</th>\n",
       "      <td>1-3 рабочих дня</td>\n",
       "      <td>40.9</td>\n",
       "    </tr>\n",
       "    <tr>\n",
       "      <th>2</th>\n",
       "      <td>Неважно</td>\n",
       "      <td>9.4</td>\n",
       "    </tr>\n",
       "    <tr>\n",
       "      <th>3</th>\n",
       "      <td>более 7 рабочих дней</td>\n",
       "      <td>8.2</td>\n",
       "    </tr>\n",
       "  </tbody>\n",
       "</table>\n",
       "</div>"
      ],
      "text/plain": [
       "  Сколько по времени вы готовы ждать свой заказ?     %\n",
       "0                               4-7 рабочих дней  41.5\n",
       "1                                1-3 рабочих дня  40.9\n",
       "2                                        Неважно   9.4\n",
       "3                           более 7 рабочих дней   8.2"
      ]
     },
     "execution_count": 24,
     "metadata": {},
     "output_type": "execute_result"
    }
   ],
   "source": [
    "df5 = round(df.iloc[:,[5]].value_counts() / df.iloc[:,[5]].value_counts().sum() * 100, 1).head().reset_index()\n",
    "df5.columns = ['Сколько по времени вы готовы ждать свой заказ?', '%']\n",
    "df5"
   ]
  },
  {
   "cell_type": "code",
   "execution_count": 25,
   "metadata": {},
   "outputs": [
    {
     "data": {
      "text/html": [
       "<div>\n",
       "<style scoped>\n",
       "    .dataframe tbody tr th:only-of-type {\n",
       "        vertical-align: middle;\n",
       "    }\n",
       "\n",
       "    .dataframe tbody tr th {\n",
       "        vertical-align: top;\n",
       "    }\n",
       "\n",
       "    .dataframe thead th {\n",
       "        text-align: right;\n",
       "    }\n",
       "</style>\n",
       "<table border=\"1\" class=\"dataframe\">\n",
       "  <thead>\n",
       "    <tr style=\"text-align: right;\">\n",
       "      <th></th>\n",
       "      <th>Что из перечисленного могло бы мотивировать вас к покупке?</th>\n",
       "      <th>%</th>\n",
       "    </tr>\n",
       "  </thead>\n",
       "  <tbody>\n",
       "    <tr>\n",
       "      <th>0</th>\n",
       "      <td>Скидка</td>\n",
       "      <td>20.8</td>\n",
       "    </tr>\n",
       "    <tr>\n",
       "      <th>1</th>\n",
       "      <td>Наличие промокода, Скидка</td>\n",
       "      <td>20.1</td>\n",
       "    </tr>\n",
       "    <tr>\n",
       "      <th>2</th>\n",
       "      <td>Наличие промокода, Скидка, Система лояльности</td>\n",
       "      <td>17.0</td>\n",
       "    </tr>\n",
       "    <tr>\n",
       "      <th>3</th>\n",
       "      <td>Наличие промокода</td>\n",
       "      <td>11.3</td>\n",
       "    </tr>\n",
       "    <tr>\n",
       "      <th>4</th>\n",
       "      <td>Скидка, Система лояльности</td>\n",
       "      <td>10.7</td>\n",
       "    </tr>\n",
       "    <tr>\n",
       "      <th>5</th>\n",
       "      <td>Система лояльности</td>\n",
       "      <td>9.4</td>\n",
       "    </tr>\n",
       "    <tr>\n",
       "      <th>6</th>\n",
       "      <td>Ничего из перечисленного</td>\n",
       "      <td>6.3</td>\n",
       "    </tr>\n",
       "    <tr>\n",
       "      <th>7</th>\n",
       "      <td>Наличие промокода, Система лояльности</td>\n",
       "      <td>3.8</td>\n",
       "    </tr>\n",
       "    <tr>\n",
       "      <th>8</th>\n",
       "      <td>Скидка, Ничего из перечисленного</td>\n",
       "      <td>0.6</td>\n",
       "    </tr>\n",
       "  </tbody>\n",
       "</table>\n",
       "</div>"
      ],
      "text/plain": [
       "  Что из перечисленного могло бы мотивировать вас к покупке?     %\n",
       "0                                             Скидка          20.8\n",
       "1                          Наличие промокода, Скидка          20.1\n",
       "2      Наличие промокода, Скидка, Система лояльности          17.0\n",
       "3                                  Наличие промокода          11.3\n",
       "4                         Скидка, Система лояльности          10.7\n",
       "5                                 Система лояльности           9.4\n",
       "6                           Ничего из перечисленного           6.3\n",
       "7              Наличие промокода, Система лояльности           3.8\n",
       "8                   Скидка, Ничего из перечисленного           0.6"
      ]
     },
     "execution_count": 25,
     "metadata": {},
     "output_type": "execute_result"
    }
   ],
   "source": [
    "df6 = round(df.iloc[:,[6]].value_counts() / df.iloc[:,[6]].value_counts().sum() * 100, 1).reset_index()\n",
    "df6.columns = ['Что из перечисленного могло бы мотивировать вас к покупке?', '%']\n",
    "df6"
   ]
  },
  {
   "cell_type": "code",
   "execution_count": 26,
   "metadata": {},
   "outputs": [
    {
     "data": {
      "text/html": [
       "<div>\n",
       "<style scoped>\n",
       "    .dataframe tbody tr th:only-of-type {\n",
       "        vertical-align: middle;\n",
       "    }\n",
       "\n",
       "    .dataframe tbody tr th {\n",
       "        vertical-align: top;\n",
       "    }\n",
       "\n",
       "    .dataframe thead th {\n",
       "        text-align: right;\n",
       "    }\n",
       "</style>\n",
       "<table border=\"1\" class=\"dataframe\">\n",
       "  <thead>\n",
       "    <tr style=\"text-align: right;\">\n",
       "      <th></th>\n",
       "      <th>Как долго вы готовы ждать ответа от менеджера по вашему заказу?</th>\n",
       "      <th>%</th>\n",
       "    </tr>\n",
       "  </thead>\n",
       "  <tbody>\n",
       "    <tr>\n",
       "      <th>0</th>\n",
       "      <td>В течение часа</td>\n",
       "      <td>40.9</td>\n",
       "    </tr>\n",
       "    <tr>\n",
       "      <th>1</th>\n",
       "      <td>В течение суток</td>\n",
       "      <td>30.8</td>\n",
       "    </tr>\n",
       "    <tr>\n",
       "      <th>2</th>\n",
       "      <td>1-3 часа</td>\n",
       "      <td>25.2</td>\n",
       "    </tr>\n",
       "    <tr>\n",
       "      <th>3</th>\n",
       "      <td>Неважно</td>\n",
       "      <td>3.1</td>\n",
       "    </tr>\n",
       "  </tbody>\n",
       "</table>\n",
       "</div>"
      ],
      "text/plain": [
       "  Как долго вы готовы ждать ответа от менеджера по вашему заказу?     %\n",
       "0                                     В течение часа               40.9\n",
       "1                                    В течение суток               30.8\n",
       "2                                           1-3 часа               25.2\n",
       "3                                            Неважно                3.1"
      ]
     },
     "execution_count": 26,
     "metadata": {},
     "output_type": "execute_result"
    }
   ],
   "source": [
    "df7 = round(df.iloc[:,[7]].value_counts() / df.iloc[:,[7]].value_counts().sum() * 100, 1).reset_index()\n",
    "df7.columns = ['Как долго вы готовы ждать ответа от менеджера по вашему заказу?', '%']\n",
    "df7"
   ]
  },
  {
   "cell_type": "code",
   "execution_count": 27,
   "metadata": {},
   "outputs": [
    {
     "data": {
      "text/html": [
       "<div>\n",
       "<style scoped>\n",
       "    .dataframe tbody tr th:only-of-type {\n",
       "        vertical-align: middle;\n",
       "    }\n",
       "\n",
       "    .dataframe tbody tr th {\n",
       "        vertical-align: top;\n",
       "    }\n",
       "\n",
       "    .dataframe thead th {\n",
       "        text-align: right;\n",
       "    }\n",
       "</style>\n",
       "<table border=\"1\" class=\"dataframe\">\n",
       "  <thead>\n",
       "    <tr style=\"text-align: right;\">\n",
       "      <th></th>\n",
       "      <th>Какой способ обратной связи с менеджером вам наиболее удобен?</th>\n",
       "      <th>%</th>\n",
       "    </tr>\n",
       "  </thead>\n",
       "  <tbody>\n",
       "    <tr>\n",
       "      <th>0</th>\n",
       "      <td>Получить ответ в мессенджере/в соцсетях</td>\n",
       "      <td>13.8</td>\n",
       "    </tr>\n",
       "    <tr>\n",
       "      <th>1</th>\n",
       "      <td>На самом сайте (чат)</td>\n",
       "      <td>11.3</td>\n",
       "    </tr>\n",
       "    <tr>\n",
       "      <th>2</th>\n",
       "      <td>На самом сайте (чат), Получить ответ в мессенд...</td>\n",
       "      <td>8.8</td>\n",
       "    </tr>\n",
       "    <tr>\n",
       "      <th>3</th>\n",
       "      <td>На самом сайте (чат), Получить ответ на почту,...</td>\n",
       "      <td>7.5</td>\n",
       "    </tr>\n",
       "    <tr>\n",
       "      <th>4</th>\n",
       "      <td>Получить ответ на почту, Получить ответ в месс...</td>\n",
       "      <td>5.7</td>\n",
       "    </tr>\n",
       "    <tr>\n",
       "      <th>5</th>\n",
       "      <td>Получить ответ на телефон (звонок), Получить о...</td>\n",
       "      <td>5.0</td>\n",
       "    </tr>\n",
       "    <tr>\n",
       "      <th>6</th>\n",
       "      <td>Получить ответ на телефон (звонок)</td>\n",
       "      <td>5.0</td>\n",
       "    </tr>\n",
       "    <tr>\n",
       "      <th>7</th>\n",
       "      <td>Получить ответ на почту</td>\n",
       "      <td>4.4</td>\n",
       "    </tr>\n",
       "    <tr>\n",
       "      <th>8</th>\n",
       "      <td>Получить ответ на почту, Получить ответ на тел...</td>\n",
       "      <td>4.4</td>\n",
       "    </tr>\n",
       "    <tr>\n",
       "      <th>9</th>\n",
       "      <td>Получить ответ на телефон (смс)</td>\n",
       "      <td>4.4</td>\n",
       "    </tr>\n",
       "    <tr>\n",
       "      <th>10</th>\n",
       "      <td>На самом сайте (чат), Получить ответ на почту</td>\n",
       "      <td>3.8</td>\n",
       "    </tr>\n",
       "    <tr>\n",
       "      <th>11</th>\n",
       "      <td>Получить ответ на почту, Получить ответ на тел...</td>\n",
       "      <td>3.8</td>\n",
       "    </tr>\n",
       "    <tr>\n",
       "      <th>12</th>\n",
       "      <td>Получить ответ на телефон (смс), Получить отве...</td>\n",
       "      <td>3.1</td>\n",
       "    </tr>\n",
       "    <tr>\n",
       "      <th>13</th>\n",
       "      <td>Получить ответ на почту, Получить ответ на тел...</td>\n",
       "      <td>3.1</td>\n",
       "    </tr>\n",
       "    <tr>\n",
       "      <th>14</th>\n",
       "      <td>Получить ответ на почту, Получить ответ на тел...</td>\n",
       "      <td>2.5</td>\n",
       "    </tr>\n",
       "    <tr>\n",
       "      <th>15</th>\n",
       "      <td>На самом сайте (чат), Получить ответ на почту,...</td>\n",
       "      <td>1.9</td>\n",
       "    </tr>\n",
       "    <tr>\n",
       "      <th>16</th>\n",
       "      <td>Получить ответ на почту, Получить ответ на тел...</td>\n",
       "      <td>1.3</td>\n",
       "    </tr>\n",
       "    <tr>\n",
       "      <th>17</th>\n",
       "      <td>На самом сайте (чат), Получить ответ на телефо...</td>\n",
       "      <td>1.3</td>\n",
       "    </tr>\n",
       "    <tr>\n",
       "      <th>18</th>\n",
       "      <td>На самом сайте (чат), Получить ответ на телефо...</td>\n",
       "      <td>1.3</td>\n",
       "    </tr>\n",
       "    <tr>\n",
       "      <th>19</th>\n",
       "      <td>На самом сайте (чат), Получить ответ на почту,...</td>\n",
       "      <td>1.3</td>\n",
       "    </tr>\n",
       "    <tr>\n",
       "      <th>20</th>\n",
       "      <td>Получить ответ на почту, Получить ответ на тел...</td>\n",
       "      <td>1.3</td>\n",
       "    </tr>\n",
       "    <tr>\n",
       "      <th>21</th>\n",
       "      <td>Получить ответ на телефон (звонок), Получить о...</td>\n",
       "      <td>1.3</td>\n",
       "    </tr>\n",
       "    <tr>\n",
       "      <th>22</th>\n",
       "      <td>На самом сайте (чат), Получить ответ на телефо...</td>\n",
       "      <td>0.6</td>\n",
       "    </tr>\n",
       "    <tr>\n",
       "      <th>23</th>\n",
       "      <td>На самом сайте (чат), Получить ответ на телефо...</td>\n",
       "      <td>0.6</td>\n",
       "    </tr>\n",
       "    <tr>\n",
       "      <th>24</th>\n",
       "      <td>На самом сайте (чат), Получить ответ на почту,...</td>\n",
       "      <td>0.6</td>\n",
       "    </tr>\n",
       "    <tr>\n",
       "      <th>25</th>\n",
       "      <td>На самом сайте (чат), Получить ответ на почту,...</td>\n",
       "      <td>0.6</td>\n",
       "    </tr>\n",
       "    <tr>\n",
       "      <th>26</th>\n",
       "      <td>На самом сайте (чат), Получить ответ на почту,...</td>\n",
       "      <td>0.6</td>\n",
       "    </tr>\n",
       "    <tr>\n",
       "      <th>27</th>\n",
       "      <td>Неважно</td>\n",
       "      <td>0.6</td>\n",
       "    </tr>\n",
       "  </tbody>\n",
       "</table>\n",
       "</div>"
      ],
      "text/plain": [
       "   Какой способ обратной связи с менеджером вам наиболее удобен?     %\n",
       "0             Получить ответ в мессенджере/в соцсетях             13.8\n",
       "1                                На самом сайте (чат)             11.3\n",
       "2   На самом сайте (чат), Получить ответ в мессенд...              8.8\n",
       "3   На самом сайте (чат), Получить ответ на почту,...              7.5\n",
       "4   Получить ответ на почту, Получить ответ в месс...              5.7\n",
       "5   Получить ответ на телефон (звонок), Получить о...              5.0\n",
       "6                  Получить ответ на телефон (звонок)              5.0\n",
       "7                             Получить ответ на почту              4.4\n",
       "8   Получить ответ на почту, Получить ответ на тел...              4.4\n",
       "9                     Получить ответ на телефон (смс)              4.4\n",
       "10      На самом сайте (чат), Получить ответ на почту              3.8\n",
       "11  Получить ответ на почту, Получить ответ на тел...              3.8\n",
       "12  Получить ответ на телефон (смс), Получить отве...              3.1\n",
       "13  Получить ответ на почту, Получить ответ на тел...              3.1\n",
       "14  Получить ответ на почту, Получить ответ на тел...              2.5\n",
       "15  На самом сайте (чат), Получить ответ на почту,...              1.9\n",
       "16  Получить ответ на почту, Получить ответ на тел...              1.3\n",
       "17  На самом сайте (чат), Получить ответ на телефо...              1.3\n",
       "18  На самом сайте (чат), Получить ответ на телефо...              1.3\n",
       "19  На самом сайте (чат), Получить ответ на почту,...              1.3\n",
       "20  Получить ответ на почту, Получить ответ на тел...              1.3\n",
       "21  Получить ответ на телефон (звонок), Получить о...              1.3\n",
       "22  На самом сайте (чат), Получить ответ на телефо...              0.6\n",
       "23  На самом сайте (чат), Получить ответ на телефо...              0.6\n",
       "24  На самом сайте (чат), Получить ответ на почту,...              0.6\n",
       "25  На самом сайте (чат), Получить ответ на почту,...              0.6\n",
       "26  На самом сайте (чат), Получить ответ на почту,...              0.6\n",
       "27                                            Неважно              0.6"
      ]
     },
     "execution_count": 27,
     "metadata": {},
     "output_type": "execute_result"
    }
   ],
   "source": [
    "df8 = round(df.iloc[:,[8]].value_counts() / df.iloc[:,[8]].value_counts().sum() * 100, 1).head(50).reset_index()\n",
    "df8.columns = ['Какой способ обратной связи с менеджером вам наиболее удобен?', '%']\n",
    "df8"
   ]
  },
  {
   "cell_type": "code",
   "execution_count": 28,
   "metadata": {},
   "outputs": [
    {
     "data": {
      "text/html": [
       "<div>\n",
       "<style scoped>\n",
       "    .dataframe tbody tr th:only-of-type {\n",
       "        vertical-align: middle;\n",
       "    }\n",
       "\n",
       "    .dataframe tbody tr th {\n",
       "        vertical-align: top;\n",
       "    }\n",
       "\n",
       "    .dataframe thead th {\n",
       "        text-align: right;\n",
       "    }\n",
       "</style>\n",
       "<table border=\"1\" class=\"dataframe\">\n",
       "  <thead>\n",
       "    <tr style=\"text-align: right;\">\n",
       "      <th></th>\n",
       "      <th>Вы когда-нибудь покупали мерч?</th>\n",
       "      <th>%</th>\n",
       "    </tr>\n",
       "  </thead>\n",
       "  <tbody>\n",
       "    <tr>\n",
       "      <th>0</th>\n",
       "      <td>Да</td>\n",
       "      <td>53.5</td>\n",
       "    </tr>\n",
       "    <tr>\n",
       "      <th>1</th>\n",
       "      <td>Нет, но планирую</td>\n",
       "      <td>32.7</td>\n",
       "    </tr>\n",
       "    <tr>\n",
       "      <th>2</th>\n",
       "      <td>Нет и не планирую</td>\n",
       "      <td>13.8</td>\n",
       "    </tr>\n",
       "  </tbody>\n",
       "</table>\n",
       "</div>"
      ],
      "text/plain": [
       "  Вы когда-нибудь покупали мерч?     %\n",
       "0                             Да  53.5\n",
       "1               Нет, но планирую  32.7\n",
       "2              Нет и не планирую  13.8"
      ]
     },
     "execution_count": 28,
     "metadata": {},
     "output_type": "execute_result"
    }
   ],
   "source": [
    "df9 = round(df.iloc[:,[9]].value_counts() / df.iloc[:,[9]].value_counts().sum() * 100, 1).head().reset_index()\n",
    "df9.columns = ['Вы когда-нибудь покупали мерч?', '%']\n",
    "df9"
   ]
  },
  {
   "cell_type": "code",
   "execution_count": 29,
   "metadata": {},
   "outputs": [
    {
     "data": {
      "text/html": [
       "<div>\n",
       "<style scoped>\n",
       "    .dataframe tbody tr th:only-of-type {\n",
       "        vertical-align: middle;\n",
       "    }\n",
       "\n",
       "    .dataframe tbody tr th {\n",
       "        vertical-align: top;\n",
       "    }\n",
       "\n",
       "    .dataframe thead th {\n",
       "        text-align: right;\n",
       "    }\n",
       "</style>\n",
       "<table border=\"1\" class=\"dataframe\">\n",
       "  <thead>\n",
       "    <tr style=\"text-align: right;\">\n",
       "      <th></th>\n",
       "      <th>Вам важно, какого размера будет логотип на мерче?</th>\n",
       "      <th>%</th>\n",
       "    </tr>\n",
       "  </thead>\n",
       "  <tbody>\n",
       "    <tr>\n",
       "      <th>0</th>\n",
       "      <td>Да, нравится, когда логотип маленького размера</td>\n",
       "      <td>56.6</td>\n",
       "    </tr>\n",
       "    <tr>\n",
       "      <th>1</th>\n",
       "      <td>Нет, мне неважно, какого размера будет логотип</td>\n",
       "      <td>20.1</td>\n",
       "    </tr>\n",
       "    <tr>\n",
       "      <th>2</th>\n",
       "      <td>Не люблю, когда на мерче есть логотип</td>\n",
       "      <td>11.9</td>\n",
       "    </tr>\n",
       "    <tr>\n",
       "      <th>3</th>\n",
       "      <td>Да, нравится, когда логотип крупный</td>\n",
       "      <td>11.3</td>\n",
       "    </tr>\n",
       "  </tbody>\n",
       "</table>\n",
       "</div>"
      ],
      "text/plain": [
       "  Вам важно, какого размера будет логотип на мерче?     %\n",
       "0    Да, нравится, когда логотип маленького размера  56.6\n",
       "1    Нет, мне неважно, какого размера будет логотип  20.1\n",
       "2             Не люблю, когда на мерче есть логотип  11.9\n",
       "3               Да, нравится, когда логотип крупный  11.3"
      ]
     },
     "execution_count": 29,
     "metadata": {},
     "output_type": "execute_result"
    }
   ],
   "source": [
    "df10 = round(df.iloc[:,[10]].value_counts() / df.iloc[:,[10]].value_counts().sum() * 100, 1).head().reset_index()\n",
    "df10.columns = ['Вам важно, какого размера будет логотип на мерче?', '%']\n",
    "df10"
   ]
  },
  {
   "cell_type": "code",
   "execution_count": 30,
   "metadata": {},
   "outputs": [
    {
     "data": {
      "text/html": [
       "<div>\n",
       "<style scoped>\n",
       "    .dataframe tbody tr th:only-of-type {\n",
       "        vertical-align: middle;\n",
       "    }\n",
       "\n",
       "    .dataframe tbody tr th {\n",
       "        vertical-align: top;\n",
       "    }\n",
       "\n",
       "    .dataframe thead th {\n",
       "        text-align: right;\n",
       "    }\n",
       "</style>\n",
       "<table border=\"1\" class=\"dataframe\">\n",
       "  <thead>\n",
       "    <tr style=\"text-align: right;\">\n",
       "      <th></th>\n",
       "      <th>Какой мерч вам интереснее всего?</th>\n",
       "      <th>%</th>\n",
       "    </tr>\n",
       "  </thead>\n",
       "  <tbody>\n",
       "    <tr>\n",
       "      <th>0</th>\n",
       "      <td>Одежда (футболки, худи и др.)</td>\n",
       "      <td>36.5</td>\n",
       "    </tr>\n",
       "    <tr>\n",
       "      <th>1</th>\n",
       "      <td>Канцтовары (блокноты, ручки, стикеры и др.)</td>\n",
       "      <td>31.4</td>\n",
       "    </tr>\n",
       "    <tr>\n",
       "      <th>2</th>\n",
       "      <td>Аксессуары (шоперы, шарфы и др.)</td>\n",
       "      <td>16.4</td>\n",
       "    </tr>\n",
       "    <tr>\n",
       "      <th>3</th>\n",
       "      <td>Посуда (кружки, термокружки и др.)</td>\n",
       "      <td>10.1</td>\n",
       "    </tr>\n",
       "    <tr>\n",
       "      <th>4</th>\n",
       "      <td>канцтовары и аксессуары</td>\n",
       "      <td>0.6</td>\n",
       "    </tr>\n",
       "    <tr>\n",
       "      <th>5</th>\n",
       "      <td>значки-пины</td>\n",
       "      <td>0.6</td>\n",
       "    </tr>\n",
       "    <tr>\n",
       "      <th>6</th>\n",
       "      <td>все</td>\n",
       "      <td>0.6</td>\n",
       "    </tr>\n",
       "    <tr>\n",
       "      <th>7</th>\n",
       "      <td>Одежды сликом много у всех - я бы предпочла те...</td>\n",
       "      <td>0.6</td>\n",
       "    </tr>\n",
       "    <tr>\n",
       "      <th>8</th>\n",
       "      <td>Канцтовары, аксессуары и посуда</td>\n",
       "      <td>0.6</td>\n",
       "    </tr>\n",
       "    <tr>\n",
       "      <th>9</th>\n",
       "      <td>Всё из перечисленного и можно больше</td>\n",
       "      <td>0.6</td>\n",
       "    </tr>\n",
       "    <tr>\n",
       "      <th>10</th>\n",
       "      <td>Всё вышеперечисленное</td>\n",
       "      <td>0.6</td>\n",
       "    </tr>\n",
       "    <tr>\n",
       "      <th>11</th>\n",
       "      <td>Все, что касается здоровьч</td>\n",
       "      <td>0.6</td>\n",
       "    </tr>\n",
       "    <tr>\n",
       "      <th>12</th>\n",
       "      <td>Все перечисленное</td>\n",
       "      <td>0.6</td>\n",
       "    </tr>\n",
       "  </tbody>\n",
       "</table>\n",
       "</div>"
      ],
      "text/plain": [
       "                     Какой мерч вам интереснее всего?     %\n",
       "0                       Одежда (футболки, худи и др.)  36.5\n",
       "1         Канцтовары (блокноты, ручки, стикеры и др.)  31.4\n",
       "2                    Аксессуары (шоперы, шарфы и др.)  16.4\n",
       "3                  Посуда (кружки, термокружки и др.)  10.1\n",
       "4                             канцтовары и аксессуары   0.6\n",
       "5                                         значки-пины   0.6\n",
       "6                                                 все   0.6\n",
       "7   Одежды сликом много у всех - я бы предпочла те...   0.6\n",
       "8                     Канцтовары, аксессуары и посуда   0.6\n",
       "9                Всё из перечисленного и можно больше   0.6\n",
       "10                              Всё вышеперечисленное   0.6\n",
       "11                         Все, что касается здоровьч   0.6\n",
       "12                                 Все перечисленное    0.6"
      ]
     },
     "execution_count": 30,
     "metadata": {},
     "output_type": "execute_result"
    }
   ],
   "source": [
    "df11 = round(df.iloc[:,[11]].value_counts() / df.iloc[:,[11]].value_counts().sum() * 100, 1).head(20).reset_index()\n",
    "df11.columns = ['Какой мерч вам интереснее всего?', '%']\n",
    "df11"
   ]
  },
  {
   "cell_type": "code",
   "execution_count": 31,
   "metadata": {},
   "outputs": [
    {
     "data": {
      "text/html": [
       "<div>\n",
       "<style scoped>\n",
       "    .dataframe tbody tr th:only-of-type {\n",
       "        vertical-align: middle;\n",
       "    }\n",
       "\n",
       "    .dataframe tbody tr th {\n",
       "        vertical-align: top;\n",
       "    }\n",
       "\n",
       "    .dataframe thead th {\n",
       "        text-align: right;\n",
       "    }\n",
       "</style>\n",
       "<table border=\"1\" class=\"dataframe\">\n",
       "  <thead>\n",
       "    <tr style=\"text-align: right;\">\n",
       "      <th></th>\n",
       "      <th>Вам был бы интересен мерч без логотипа, который отражал бы философию конкретного бренда? Пример - футболки с надписью \"Иноагент\", выпущенные \"Медузой\" совместно с другими брендами</th>\n",
       "      <th>%</th>\n",
       "    </tr>\n",
       "  </thead>\n",
       "  <tbody>\n",
       "    <tr>\n",
       "      <th>0</th>\n",
       "      <td>Да</td>\n",
       "      <td>75.5</td>\n",
       "    </tr>\n",
       "    <tr>\n",
       "      <th>1</th>\n",
       "      <td>Нет</td>\n",
       "      <td>24.5</td>\n",
       "    </tr>\n",
       "  </tbody>\n",
       "</table>\n",
       "</div>"
      ],
      "text/plain": [
       "  Вам был бы интересен мерч без логотипа, который отражал бы философию конкретного бренда? Пример - футболки с надписью \"Иноагент\", выпущенные \"Медузой\" совместно с другими брендами  \\\n",
       "0                                                 Да                                                                                                                                    \n",
       "1                                                Нет                                                                                                                                    \n",
       "\n",
       "      %  \n",
       "0  75.5  \n",
       "1  24.5  "
      ]
     },
     "execution_count": 31,
     "metadata": {},
     "output_type": "execute_result"
    }
   ],
   "source": [
    "df12 = round(df.iloc[:,[12]].value_counts() / df.iloc[:,[12]].value_counts().sum() * 100, 1).head().reset_index()\n",
    "df12.columns = ['Вам был бы интересен мерч без логотипа, который отражал бы философию конкретного бренда? Пример - футболки с надписью \"Иноагент\", выпущенные \"Медузой\" совместно с другими брендами', '%']\n",
    "df12"
   ]
  },
  {
   "cell_type": "code",
   "execution_count": 32,
   "metadata": {},
   "outputs": [
    {
     "data": {
      "text/html": [
       "<div>\n",
       "<style scoped>\n",
       "    .dataframe tbody tr th:only-of-type {\n",
       "        vertical-align: middle;\n",
       "    }\n",
       "\n",
       "    .dataframe tbody tr th {\n",
       "        vertical-align: top;\n",
       "    }\n",
       "\n",
       "    .dataframe thead th {\n",
       "        text-align: right;\n",
       "    }\n",
       "</style>\n",
       "<table border=\"1\" class=\"dataframe\">\n",
       "  <thead>\n",
       "    <tr style=\"text-align: right;\">\n",
       "      <th></th>\n",
       "      <th>Вам нравятся цитаты в виде принта на мерче?</th>\n",
       "      <th>%</th>\n",
       "    </tr>\n",
       "  </thead>\n",
       "  <tbody>\n",
       "    <tr>\n",
       "      <th>0</th>\n",
       "      <td>Да</td>\n",
       "      <td>78.0</td>\n",
       "    </tr>\n",
       "    <tr>\n",
       "      <th>1</th>\n",
       "      <td>Нет</td>\n",
       "      <td>22.0</td>\n",
       "    </tr>\n",
       "  </tbody>\n",
       "</table>\n",
       "</div>"
      ],
      "text/plain": [
       "  Вам нравятся цитаты в виде принта на мерче?     %\n",
       "0                                          Да  78.0\n",
       "1                                         Нет  22.0"
      ]
     },
     "execution_count": 32,
     "metadata": {},
     "output_type": "execute_result"
    }
   ],
   "source": [
    "df13 = round(df.iloc[:,[13]].value_counts() / df.iloc[:,[13]].value_counts().sum() * 100, 1).head().reset_index()\n",
    "df13.columns = ['Вам нравятся цитаты в виде принта на мерче?', '%']\n",
    "df13"
   ]
  },
  {
   "cell_type": "code",
   "execution_count": 33,
   "metadata": {},
   "outputs": [
    {
     "data": {
      "text/html": [
       "<div>\n",
       "<style scoped>\n",
       "    .dataframe tbody tr th:only-of-type {\n",
       "        vertical-align: middle;\n",
       "    }\n",
       "\n",
       "    .dataframe tbody tr th {\n",
       "        vertical-align: top;\n",
       "    }\n",
       "\n",
       "    .dataframe thead th {\n",
       "        text-align: right;\n",
       "    }\n",
       "</style>\n",
       "<table border=\"1\" class=\"dataframe\">\n",
       "  <thead>\n",
       "    <tr style=\"text-align: right;\">\n",
       "      <th></th>\n",
       "      <th>Как вы относитесь к юмористическим цитатам на мерче?</th>\n",
       "      <th>%</th>\n",
       "    </tr>\n",
       "  </thead>\n",
       "  <tbody>\n",
       "    <tr>\n",
       "      <th>0</th>\n",
       "      <td>Нравится</td>\n",
       "      <td>75.5</td>\n",
       "    </tr>\n",
       "    <tr>\n",
       "      <th>1</th>\n",
       "      <td>Не нравится</td>\n",
       "      <td>24.5</td>\n",
       "    </tr>\n",
       "  </tbody>\n",
       "</table>\n",
       "</div>"
      ],
      "text/plain": [
       "  Как вы относитесь к юмористическим цитатам на мерче?     %\n",
       "0                                           Нравится    75.5\n",
       "1                                        Не нравится    24.5"
      ]
     },
     "execution_count": 33,
     "metadata": {},
     "output_type": "execute_result"
    }
   ],
   "source": [
    "df14 = round(df.iloc[:,[14]].value_counts() / df.iloc[:,[14]].value_counts().sum() * 100, 1).head().reset_index()\n",
    "df14.columns = ['Как вы относитесь к юмористическим цитатам на мерче?', '%']\n",
    "df14"
   ]
  },
  {
   "cell_type": "code",
   "execution_count": 34,
   "metadata": {},
   "outputs": [
    {
     "data": {
      "text/html": [
       "<div>\n",
       "<style scoped>\n",
       "    .dataframe tbody tr th:only-of-type {\n",
       "        vertical-align: middle;\n",
       "    }\n",
       "\n",
       "    .dataframe tbody tr th {\n",
       "        vertical-align: top;\n",
       "    }\n",
       "\n",
       "    .dataframe thead th {\n",
       "        text-align: right;\n",
       "    }\n",
       "</style>\n",
       "<table border=\"1\" class=\"dataframe\">\n",
       "  <thead>\n",
       "    <tr style=\"text-align: right;\">\n",
       "      <th></th>\n",
       "      <th>Вы обычно покупаете мерч после важных мероприятий? Например, после концерта или интересной отраслевой конференции</th>\n",
       "      <th>%</th>\n",
       "    </tr>\n",
       "  </thead>\n",
       "  <tbody>\n",
       "    <tr>\n",
       "      <th>0</th>\n",
       "      <td>Да</td>\n",
       "      <td>38.4</td>\n",
       "    </tr>\n",
       "    <tr>\n",
       "      <th>1</th>\n",
       "      <td>Нет</td>\n",
       "      <td>31.4</td>\n",
       "    </tr>\n",
       "    <tr>\n",
       "      <th>2</th>\n",
       "      <td>Я никогда не покупал мерч</td>\n",
       "      <td>30.2</td>\n",
       "    </tr>\n",
       "  </tbody>\n",
       "</table>\n",
       "</div>"
      ],
      "text/plain": [
       "  Вы обычно покупаете мерч после важных мероприятий? Например, после концерта или интересной отраслевой конференции  \\\n",
       "0                                                 Да                                                                  \n",
       "1                                                Нет                                                                  \n",
       "2                          Я никогда не покупал мерч                                                                  \n",
       "\n",
       "      %  \n",
       "0  38.4  \n",
       "1  31.4  \n",
       "2  30.2  "
      ]
     },
     "execution_count": 34,
     "metadata": {},
     "output_type": "execute_result"
    }
   ],
   "source": [
    "df15 = round(df.iloc[:,[15]].value_counts() / df.iloc[:,[15]].value_counts().sum() * 100, 1).head().reset_index()\n",
    "df15.columns = ['Вы обычно покупаете мерч после важных мероприятий? Например, после концерта или интересной отраслевой конференции', '%']\n",
    "df15"
   ]
  },
  {
   "cell_type": "code",
   "execution_count": 35,
   "metadata": {},
   "outputs": [
    {
     "data": {
      "text/html": [
       "<div>\n",
       "<style scoped>\n",
       "    .dataframe tbody tr th:only-of-type {\n",
       "        vertical-align: middle;\n",
       "    }\n",
       "\n",
       "    .dataframe tbody tr th {\n",
       "        vertical-align: top;\n",
       "    }\n",
       "\n",
       "    .dataframe thead th {\n",
       "        text-align: right;\n",
       "    }\n",
       "</style>\n",
       "<table border=\"1\" class=\"dataframe\">\n",
       "  <thead>\n",
       "    <tr style=\"text-align: right;\">\n",
       "      <th></th>\n",
       "      <th>Вам важно, чтобы вы сами могли придумать свой дизайн для мерча: выбрать уникальное сочетание цвета и принта?</th>\n",
       "      <th>%</th>\n",
       "    </tr>\n",
       "  </thead>\n",
       "  <tbody>\n",
       "    <tr>\n",
       "      <th>0</th>\n",
       "      <td>Нет, дизайнерам виднее</td>\n",
       "      <td>57.2</td>\n",
       "    </tr>\n",
       "    <tr>\n",
       "      <th>1</th>\n",
       "      <td>Да, люблю эксперименты</td>\n",
       "      <td>42.8</td>\n",
       "    </tr>\n",
       "  </tbody>\n",
       "</table>\n",
       "</div>"
      ],
      "text/plain": [
       "  Вам важно, чтобы вы сами могли придумать свой дизайн для мерча: выбрать уникальное сочетание цвета и принта?  \\\n",
       "0                             Нет, дизайнерам виднее                                                             \n",
       "1                             Да, люблю эксперименты                                                             \n",
       "\n",
       "      %  \n",
       "0  57.2  \n",
       "1  42.8  "
      ]
     },
     "execution_count": 35,
     "metadata": {},
     "output_type": "execute_result"
    }
   ],
   "source": [
    "df16 = round(df.iloc[:,[16]].value_counts() / df.iloc[:,[16]].value_counts().sum() * 100, 1).head().reset_index()\n",
    "df16.columns = ['Вам важно, чтобы вы сами могли придумать свой дизайн для мерча: выбрать уникальное сочетание цвета и принта?', '%']\n",
    "df16"
   ]
  },
  {
   "cell_type": "code",
   "execution_count": 36,
   "metadata": {},
   "outputs": [
    {
     "data": {
      "text/html": [
       "<div>\n",
       "<style scoped>\n",
       "    .dataframe tbody tr th:only-of-type {\n",
       "        vertical-align: middle;\n",
       "    }\n",
       "\n",
       "    .dataframe tbody tr th {\n",
       "        vertical-align: top;\n",
       "    }\n",
       "\n",
       "    .dataframe thead th {\n",
       "        text-align: right;\n",
       "    }\n",
       "</style>\n",
       "<table border=\"1\" class=\"dataframe\">\n",
       "  <thead>\n",
       "    <tr style=\"text-align: right;\">\n",
       "      <th></th>\n",
       "      <th>Мерч в качестве бонуса мотивировал бы вас лучше учиться?</th>\n",
       "      <th>%</th>\n",
       "    </tr>\n",
       "  </thead>\n",
       "  <tbody>\n",
       "    <tr>\n",
       "      <th>0</th>\n",
       "      <td>Да</td>\n",
       "      <td>69.8</td>\n",
       "    </tr>\n",
       "    <tr>\n",
       "      <th>1</th>\n",
       "      <td>Нет</td>\n",
       "      <td>30.2</td>\n",
       "    </tr>\n",
       "  </tbody>\n",
       "</table>\n",
       "</div>"
      ],
      "text/plain": [
       "  Мерч в качестве бонуса мотивировал бы вас лучше учиться?     %\n",
       "0                                                 Да        69.8\n",
       "1                                                Нет        30.2"
      ]
     },
     "execution_count": 36,
     "metadata": {},
     "output_type": "execute_result"
    }
   ],
   "source": [
    "df17 = round(df.iloc[:,[17]].value_counts() / df.iloc[:,[17]].value_counts().sum() * 100, 1).head().reset_index()\n",
    "df17.columns = ['Мерч в качестве бонуса мотивировал бы вас лучше учиться?', '%']\n",
    "df17"
   ]
  },
  {
   "cell_type": "code",
   "execution_count": 37,
   "metadata": {},
   "outputs": [
    {
     "data": {
      "text/html": [
       "<div>\n",
       "<style scoped>\n",
       "    .dataframe tbody tr th:only-of-type {\n",
       "        vertical-align: middle;\n",
       "    }\n",
       "\n",
       "    .dataframe tbody tr th {\n",
       "        vertical-align: top;\n",
       "    }\n",
       "\n",
       "    .dataframe thead th {\n",
       "        text-align: right;\n",
       "    }\n",
       "</style>\n",
       "<table border=\"1\" class=\"dataframe\">\n",
       "  <thead>\n",
       "    <tr style=\"text-align: right;\">\n",
       "      <th></th>\n",
       "      <th>Вам важно, чтобы мерч был уникальным продуктом, который больше ни у кого не встретишь?</th>\n",
       "      <th>%</th>\n",
       "    </tr>\n",
       "  </thead>\n",
       "  <tbody>\n",
       "    <tr>\n",
       "      <th>0</th>\n",
       "      <td>Да</td>\n",
       "      <td>67.3</td>\n",
       "    </tr>\n",
       "    <tr>\n",
       "      <th>1</th>\n",
       "      <td>Нет</td>\n",
       "      <td>32.7</td>\n",
       "    </tr>\n",
       "  </tbody>\n",
       "</table>\n",
       "</div>"
      ],
      "text/plain": [
       "  Вам важно, чтобы мерч был уникальным продуктом, который больше ни у кого не встретишь?  \\\n",
       "0                                                 Да                                       \n",
       "1                                                Нет                                       \n",
       "\n",
       "      %  \n",
       "0  67.3  \n",
       "1  32.7  "
      ]
     },
     "execution_count": 37,
     "metadata": {},
     "output_type": "execute_result"
    }
   ],
   "source": [
    "df18 = round(df.iloc[:,[18]].value_counts() / df.iloc[:,[18]].value_counts().sum() * 100, 1).head().reset_index()\n",
    "df18.columns = ['Вам важно, чтобы мерч был уникальным продуктом, который больше ни у кого не встретишь?', '%']\n",
    "df18"
   ]
  },
  {
   "cell_type": "code",
   "execution_count": 38,
   "metadata": {},
   "outputs": [
    {
     "data": {
      "text/html": [
       "<div>\n",
       "<style scoped>\n",
       "    .dataframe tbody tr th:only-of-type {\n",
       "        vertical-align: middle;\n",
       "    }\n",
       "\n",
       "    .dataframe tbody tr th {\n",
       "        vertical-align: top;\n",
       "    }\n",
       "\n",
       "    .dataframe thead th {\n",
       "        text-align: right;\n",
       "    }\n",
       "</style>\n",
       "<table border=\"1\" class=\"dataframe\">\n",
       "  <thead>\n",
       "    <tr style=\"text-align: right;\">\n",
       "      <th></th>\n",
       "      <th>Вы готовы платить за лимитированный мерч? Лимитированная коллекция - та, которая выпускается один раз ограниченным тиражом</th>\n",
       "      <th>%</th>\n",
       "    </tr>\n",
       "  </thead>\n",
       "  <tbody>\n",
       "    <tr>\n",
       "      <th>0</th>\n",
       "      <td>Да</td>\n",
       "      <td>50.9</td>\n",
       "    </tr>\n",
       "    <tr>\n",
       "      <th>1</th>\n",
       "      <td>Нет</td>\n",
       "      <td>49.1</td>\n",
       "    </tr>\n",
       "  </tbody>\n",
       "</table>\n",
       "</div>"
      ],
      "text/plain": [
       "  Вы готовы платить за лимитированный мерч? Лимитированная коллекция - та, которая выпускается один раз ограниченным тиражом  \\\n",
       "0                                                 Да                                                                           \n",
       "1                                                Нет                                                                           \n",
       "\n",
       "      %  \n",
       "0  50.9  \n",
       "1  49.1  "
      ]
     },
     "execution_count": 38,
     "metadata": {},
     "output_type": "execute_result"
    }
   ],
   "source": [
    "df19 = round(df.iloc[:,[19]].value_counts() / df.iloc[:,[19]].value_counts().sum() * 100, 1).head().reset_index()\n",
    "df19.columns = ['Вы готовы платить за лимитированный мерч? Лимитированная коллекция - та, которая выпускается один раз ограниченным тиражом', '%']\n",
    "df19"
   ]
  },
  {
   "cell_type": "code",
   "execution_count": 39,
   "metadata": {},
   "outputs": [
    {
     "data": {
      "text/html": [
       "<div>\n",
       "<style scoped>\n",
       "    .dataframe tbody tr th:only-of-type {\n",
       "        vertical-align: middle;\n",
       "    }\n",
       "\n",
       "    .dataframe tbody tr th {\n",
       "        vertical-align: top;\n",
       "    }\n",
       "\n",
       "    .dataframe thead th {\n",
       "        text-align: right;\n",
       "    }\n",
       "</style>\n",
       "<table border=\"1\" class=\"dataframe\">\n",
       "  <thead>\n",
       "    <tr style=\"text-align: right;\">\n",
       "      <th></th>\n",
       "      <th>Обращаете ли вы внимание на экологичность товаров при покупке вещей?</th>\n",
       "      <th>%</th>\n",
       "    </tr>\n",
       "  </thead>\n",
       "  <tbody>\n",
       "    <tr>\n",
       "      <th>0</th>\n",
       "      <td>Да, большая часть моих вещей - экологичные</td>\n",
       "      <td>54.1</td>\n",
       "    </tr>\n",
       "    <tr>\n",
       "      <th>1</th>\n",
       "      <td>Нет, для меня это неважный критерий при выборе...</td>\n",
       "      <td>45.9</td>\n",
       "    </tr>\n",
       "  </tbody>\n",
       "</table>\n",
       "</div>"
      ],
      "text/plain": [
       "  Обращаете ли вы внимание на экологичность товаров при покупке вещей?     %\n",
       "0         Да, большая часть моих вещей - экологичные                    54.1\n",
       "1  Нет, для меня это неважный критерий при выборе...                    45.9"
      ]
     },
     "execution_count": 39,
     "metadata": {},
     "output_type": "execute_result"
    }
   ],
   "source": [
    "df20 = round(df.iloc[:,[20]].value_counts() / df.iloc[:,[20]].value_counts().sum() * 100, 1).head().reset_index()\n",
    "df20.columns = ['Обращаете ли вы внимание на экологичность товаров при покупке вещей?', '%']\n",
    "df20"
   ]
  },
  {
   "cell_type": "code",
   "execution_count": 40,
   "metadata": {},
   "outputs": [
    {
     "data": {
      "text/html": [
       "<div>\n",
       "<style scoped>\n",
       "    .dataframe tbody tr th:only-of-type {\n",
       "        vertical-align: middle;\n",
       "    }\n",
       "\n",
       "    .dataframe tbody tr th {\n",
       "        vertical-align: top;\n",
       "    }\n",
       "\n",
       "    .dataframe thead th {\n",
       "        text-align: right;\n",
       "    }\n",
       "</style>\n",
       "<table border=\"1\" class=\"dataframe\">\n",
       "  <thead>\n",
       "    <tr style=\"text-align: right;\">\n",
       "      <th></th>\n",
       "      <th>Вы с большей вероятностью купите мерч, если будете знать, что вырученные средства пойдут на благотворительность?</th>\n",
       "      <th>%</th>\n",
       "    </tr>\n",
       "  </thead>\n",
       "  <tbody>\n",
       "    <tr>\n",
       "      <th>0</th>\n",
       "      <td>Да</td>\n",
       "      <td>58.5</td>\n",
       "    </tr>\n",
       "    <tr>\n",
       "      <th>1</th>\n",
       "      <td>Нет</td>\n",
       "      <td>41.5</td>\n",
       "    </tr>\n",
       "  </tbody>\n",
       "</table>\n",
       "</div>"
      ],
      "text/plain": [
       "  Вы с большей вероятностью купите мерч, если будете знать, что вырученные средства пойдут на благотворительность?  \\\n",
       "0                                                 Да                                                                 \n",
       "1                                                Нет                                                                 \n",
       "\n",
       "      %  \n",
       "0  58.5  \n",
       "1  41.5  "
      ]
     },
     "execution_count": 40,
     "metadata": {},
     "output_type": "execute_result"
    }
   ],
   "source": [
    "df21 = round(df.iloc[:,[21]].value_counts() / df.iloc[:,[21]].value_counts().sum() * 100, 1).head().reset_index()\n",
    "df21.columns = ['Вы с большей вероятностью купите мерч, если будете знать, что вырученные средства пойдут на благотворительность?', '%']\n",
    "df21"
   ]
  },
  {
   "cell_type": "code",
   "execution_count": 41,
   "metadata": {},
   "outputs": [
    {
     "data": {
      "text/html": [
       "<div>\n",
       "<style scoped>\n",
       "    .dataframe tbody tr th:only-of-type {\n",
       "        vertical-align: middle;\n",
       "    }\n",
       "\n",
       "    .dataframe tbody tr th {\n",
       "        vertical-align: top;\n",
       "    }\n",
       "\n",
       "    .dataframe thead th {\n",
       "        text-align: right;\n",
       "    }\n",
       "</style>\n",
       "<table border=\"1\" class=\"dataframe\">\n",
       "  <thead>\n",
       "    <tr style=\"text-align: right;\">\n",
       "      <th></th>\n",
       "      <th>Вы бы купили мерч в подарок для благотворительного фонда/детского дома?</th>\n",
       "      <th>%</th>\n",
       "    </tr>\n",
       "  </thead>\n",
       "  <tbody>\n",
       "    <tr>\n",
       "      <th>0</th>\n",
       "      <td>Да</td>\n",
       "      <td>64.8</td>\n",
       "    </tr>\n",
       "    <tr>\n",
       "      <th>1</th>\n",
       "      <td>Нет</td>\n",
       "      <td>35.2</td>\n",
       "    </tr>\n",
       "  </tbody>\n",
       "</table>\n",
       "</div>"
      ],
      "text/plain": [
       "  Вы бы купили мерч в подарок для благотворительного фонда/детского дома?  \\\n",
       "0                                                 Да                        \n",
       "1                                                Нет                        \n",
       "\n",
       "      %  \n",
       "0  64.8  \n",
       "1  35.2  "
      ]
     },
     "execution_count": 41,
     "metadata": {},
     "output_type": "execute_result"
    }
   ],
   "source": [
    "df22 = round(df.iloc[:,[22]].value_counts() / df.iloc[:,[22]].value_counts().sum() * 100, 1).head().reset_index()\n",
    "df22.columns = ['Вы бы купили мерч в подарок для благотворительного фонда/детского дома?', '%']\n",
    "df22"
   ]
  },
  {
   "cell_type": "code",
   "execution_count": 42,
   "metadata": {},
   "outputs": [],
   "source": [
    "from scipy import stats\n",
    "import scipy.stats as stats\n",
    "import math"
   ]
  },
  {
   "cell_type": "code",
   "execution_count": 43,
   "metadata": {},
   "outputs": [],
   "source": [
    "df.rename(columns = {\n",
    "    df.columns[0]: 'Timestamp',\n",
    "    df.columns[1]: 'Age',\n",
    "    df.columns[2]: 'Sex',\n",
    "    df.columns[3]: 'City',\n",
    "    df.columns[4]: 'Color_Shop',\n",
    "    df.columns[5]: 'Time_order',\n",
    "    df.columns[6]: 'Discond',\n",
    "    df.columns[7]: 'Time_reply',\n",
    "    df.columns[8]: 'Feedback_method',\n",
    "    df.columns[9]: 'Bought_merch',\n",
    "    df.columns[10]: 'Size_logo',\n",
    "    df.columns[11]: 'Most_interested_merch',\n",
    "    df.columns[12]: 'Merch_without_logo',    \n",
    "    df.columns[13]: 'Citation',\n",
    "    df.columns[14]: 'Jumor_citation',\n",
    "    df.columns[15]: 'Merch_after_event',\n",
    "    df.columns[16]: 'Uniq_color_print',\n",
    "    df.columns[17]: 'Merch_for_lern',\n",
    "    df.columns[18]: 'Unique_merch',\n",
    "    df.columns[19]: 'Limit_merch',\n",
    "    df.columns[20]: 'Eco',\n",
    "    df.columns[21]: 'Charity',\n",
    "    df.columns[22]: 'Buy_for_charity'    \n",
    "}, inplace = True)\n"
   ]
  },
  {
   "cell_type": "code",
   "execution_count": 44,
   "metadata": {},
   "outputs": [],
   "source": [
    "df.loc[df.Merch_without_logo == 'Да', 'Merch_without_logo?'] = 1.0\n",
    "df.loc[df.Citation == 'Да', 'Citation?'] = 1.0\n",
    "df.loc[df.Jumor_citation == 'Нравится', 'Jumor_citation?'] = 1.0\n",
    "\n",
    "df.loc[df.Uniq_color_print == 'Да, люблю эксперименты', 'Uniq_color_print?'] = 1.0\n",
    "df.loc[df.Merch_for_lern == 'Да', 'Merch_for_lern?'] = 1.0\n",
    "df.loc[df.Unique_merch == 'Да', 'Unique_merch?'] = 1.0\n",
    "df.loc[df.Limit_merch == 'Да', 'Limit_merch?'] = 1.0\n",
    "df.loc[df.Eco == 'Да, большая часть моих вещей - экологичные', 'Eco?'] = 1.0\n",
    "df.loc[df.Charity == 'Да', 'Charity?'] = 1.0\n",
    "df.loc[df.Buy_for_charity == 'Да', 'Buy_for_charity?'] = 1.0\n",
    "df.fillna('')\n",
    "df.loc[df.Merch_without_logo == 'Нет', 'Merch_without_logo?'] = 0.0\n",
    "df.loc[df.Citation == 'Нет', 'Citation?'] = 0.0\n",
    "df.loc[df.Jumor_citation == 'Не нравится', 'Jumor_citation?'] = 0.0\n",
    "\n",
    "df.loc[df.Uniq_color_print == 'Нет, дизайнерам виднее', 'Uniq_color_print?'] = 0.0\n",
    "df.loc[df.Merch_for_lern == 'Нет', 'Merch_for_lern?'] = 0.0\n",
    "df.loc[df.Unique_merch == 'Нет', 'Unique_merch?'] = 0.0\n",
    "df.loc[df.Limit_merch == 'Нет', 'Limit_merch?'] = 0.0\n",
    "df.loc[df.Eco == 'Нет, для меня это неважный критерий при выборе товара', 'Eco?'] = 0.0\n",
    "df.loc[df.Charity == 'Нет', 'Charity?'] = 0.0\n",
    "df.loc[df.Buy_for_charity == 'Нет', 'Buy_for_charity?'] = 0.0"
   ]
  },
  {
   "cell_type": "code",
   "execution_count": 45,
   "metadata": {
    "collapsed": true
   },
   "outputs": [
    {
     "name": "stderr",
     "output_type": "stream",
     "text": [
      "C:\\Users\\GRALEX\\anaconda3\\lib\\site-packages\\pandas\\core\\indexing.py:1596: SettingWithCopyWarning: \n",
      "A value is trying to be set on a copy of a slice from a DataFrame.\n",
      "Try using .loc[row_indexer,col_indexer] = value instead\n",
      "\n",
      "See the caveats in the documentation: https://pandas.pydata.org/pandas-docs/stable/user_guide/indexing.html#returning-a-view-versus-a-copy\n",
      "  self.obj[key] = _infer_fill_value(value)\n",
      "C:\\Users\\GRALEX\\anaconda3\\lib\\site-packages\\pandas\\core\\indexing.py:1765: SettingWithCopyWarning: \n",
      "A value is trying to be set on a copy of a slice from a DataFrame.\n",
      "Try using .loc[row_indexer,col_indexer] = value instead\n",
      "\n",
      "See the caveats in the documentation: https://pandas.pydata.org/pandas-docs/stable/user_guide/indexing.html#returning-a-view-versus-a-copy\n",
      "  isetter(loc, value)\n"
     ]
    }
   ],
   "source": [
    "df_f.loc[df_f['Какая цветовая гамма интернет-магазина вам нравится?'] == 'Сдержанные оттенки (белый, черный, серый)', 'Color?'] = 1.0\n",
    "df.fillna('')\n",
    "df_f.loc[df_f['Какая цветовая гамма интернет-магазина вам нравится?'] == 'Яркая (синий, красный, зеленый и тд.)', 'Color?'] = 0.0\n",
    "df.fillna('')\n",
    "df_f.loc[df_f['Какая цветовая гамма интернет-магазина вам нравится?'] == 'Неважно', 'Color?'] = 0.5"
   ]
  },
  {
   "cell_type": "code",
   "execution_count": 46,
   "metadata": {},
   "outputs": [
    {
     "name": "stdout",
     "output_type": "stream",
     "text": [
      "Доверительный интервал для выборки (ЖЕНЩИНЫ) \"Какая цветовая гамма интернет-магазина вам нравится?\":  (0.57, 0.59)\n"
     ]
    }
   ],
   "source": [
    "data4_f = df_f['Color?']\n",
    "\n",
    "def mean_confidence_interval_4_f(data4_f, confidence=0.95):\n",
    "    average = data4_f.mean()      \n",
    "    delta = stats.sem(data4_f) * stats.norm.ppf((1 + confidence) / 2) / math.sqrt(len(data4_f))\n",
    "    return round(average-delta, 2), round(average+delta, 2)\n",
    "\n",
    "print('Доверительный интервал для выборки (ЖЕНЩИНЫ) \"Какая цветовая гамма интернет-магазина вам нравится?\": ', mean_confidence_interval_4_f(data4_f, 0.95))"
   ]
  },
  {
   "cell_type": "code",
   "execution_count": 47,
   "metadata": {},
   "outputs": [],
   "source": [
    "df_m.loc[df_m['Какая цветовая гамма интернет-магазина вам нравится?'] == 'Сдержанные оттенки (белый, черный, серый)', 'Color?'] = 1.0\n",
    "df.fillna('')\n",
    "df_m.loc[df_m['Какая цветовая гамма интернет-магазина вам нравится?'] == 'Яркая (синий, красный, зеленый и тд.)', 'Color?'] = 0.0\n",
    "df.fillna('')\n",
    "df_m.loc[df_m['Какая цветовая гамма интернет-магазина вам нравится?'] == 'Неважно', 'Color?'] = 0.5"
   ]
  },
  {
   "cell_type": "code",
   "execution_count": 48,
   "metadata": {},
   "outputs": [
    {
     "name": "stdout",
     "output_type": "stream",
     "text": [
      "Доверительный интервал для выборки (МУЖЧИНЫ) \"Какая цветовая гамма интернет-магазина вам нравится?\":  (0.65, 0.7)\n"
     ]
    }
   ],
   "source": [
    "data4_m = df_m['Color?']\n",
    "\n",
    "def mean_confidence_interval_4_m(data4_m, confidence=0.95):\n",
    "    average = data4_m.mean()      \n",
    "    delta = stats.sem(data4_m) * stats.norm.ppf((1 + confidence) / 2) / math.sqrt(len(data4_m))\n",
    "    return round(average-delta, 2), round(average+delta, 2)\n",
    "\n",
    "print('Доверительный интервал для выборки (МУЖЧИНЫ) \"Какая цветовая гамма интернет-магазина вам нравится?\": ', mean_confidence_interval_4_m(data4_m, 0.95))"
   ]
  },
  {
   "cell_type": "code",
   "execution_count": 49,
   "metadata": {},
   "outputs": [
    {
     "name": "stdout",
     "output_type": "stream",
     "text": [
      "Доверительный интервал для выборки \"Вам был бы интересен мерч без логотипа, который отражал бы философию конкретного бренда? Пример - футболки с надписью \"Иноагент\", выпущенные \"Медузой\" совместно с другими брендами\":  (0.75, 0.76)\n"
     ]
    }
   ],
   "source": [
    "data12 = df['Merch_without_logo?']\n",
    "\n",
    "def mean_confidence_interval_12(data12, confidence=0.95):\n",
    "    average = data12.mean()      \n",
    "    delta = stats.sem(data12) * stats.norm.ppf((1 + confidence) / 2) / math.sqrt(len(data12))\n",
    "    return round(average-delta, 2), round(average+delta, 2)\n",
    "\n",
    "print('Доверительный интервал для выборки \"Вам был бы интересен мерч без логотипа, который отражал бы философию конкретного бренда? Пример - футболки с надписью \"Иноагент\", выпущенные \"Медузой\" совместно с другими брендами\": ', mean_confidence_interval_12(data12, 0.95))"
   ]
  },
  {
   "cell_type": "code",
   "execution_count": 50,
   "metadata": {},
   "outputs": [
    {
     "name": "stdout",
     "output_type": "stream",
     "text": [
      "Доверительный интервал для выборки \"Вам нравятся цитаты в виде принта на мерче?\":  (0.77, 0.78)\n"
     ]
    }
   ],
   "source": [
    "data13 = df['Citation?']\n",
    "\n",
    "def mean_confidence_interval_13(data13, confidence=0.95):\n",
    "    average = data13.mean()      \n",
    "    delta = stats.sem(data13) * stats.norm.ppf((1 + confidence) / 2) / math.sqrt(len(data13))\n",
    "    return round(average-delta, 2), round(average+delta, 2)\n",
    "\n",
    "print('Доверительный интервал для выборки \"Вам нравятся цитаты в виде принта на мерче?\": ', mean_confidence_interval_13(data13, 0.95))"
   ]
  },
  {
   "cell_type": "code",
   "execution_count": 51,
   "metadata": {},
   "outputs": [
    {
     "name": "stdout",
     "output_type": "stream",
     "text": [
      "Доверительный интервал для выборки \"Как вы относитесь к юмористическим цитатам на мерче?\":  (0.75, 0.76)\n"
     ]
    }
   ],
   "source": [
    "data14 = df['Jumor_citation?']\n",
    "\n",
    "def mean_confidence_interval_14(data14, confidence=0.95):\n",
    "    average = data14.mean()      \n",
    "    delta = stats.sem(data14) * stats.norm.ppf((1 + confidence) / 2) / math.sqrt(len(data14))\n",
    "    return round(average-delta, 2), round(average+delta, 2)\n",
    "\n",
    "print('Доверительный интервал для выборки \"Как вы относитесь к юмористическим цитатам на мерче?\": ', mean_confidence_interval_14(data14, 0.95))"
   ]
  },
  {
   "cell_type": "code",
   "execution_count": null,
   "metadata": {},
   "outputs": [],
   "source": []
  },
  {
   "cell_type": "code",
   "execution_count": 52,
   "metadata": {},
   "outputs": [
    {
     "name": "stdout",
     "output_type": "stream",
     "text": [
      "Доверительный интервал для выборки \"Вам важно, чтобы вы сами могли придумать свой дизайн для мерча: выбрать уникальное сочетание цвета и принта?\":  (0.42, 0.43)\n"
     ]
    }
   ],
   "source": [
    "data16 = df['Uniq_color_print?']\n",
    "\n",
    "def mean_confidence_interval_16(data16, confidence=0.95):\n",
    "    average = data16.mean()      \n",
    "    delta = stats.sem(data16) * stats.norm.ppf((1 + confidence) / 2) / math.sqrt(len(data16))\n",
    "    return round(average-delta, 2), round(average+delta, 2)\n",
    "\n",
    "print('Доверительный интервал для выборки \"Вам важно, чтобы вы сами могли придумать свой дизайн для мерча: выбрать уникальное сочетание цвета и принта?\": ', mean_confidence_interval_16(data16, 0.95))"
   ]
  },
  {
   "cell_type": "code",
   "execution_count": 53,
   "metadata": {},
   "outputs": [
    {
     "name": "stdout",
     "output_type": "stream",
     "text": [
      "Доверительный интервал для выборки \"Мерч в качестве бонуса мотивировал бы вас лучше учиться?\":  (0.69, 0.7)\n"
     ]
    }
   ],
   "source": [
    "data17 = df['Merch_for_lern?']\n",
    "\n",
    "def mean_confidence_interval_17(data17, confidence=0.95):\n",
    "    average = data17.mean()      \n",
    "    delta = stats.sem(data17) * stats.norm.ppf((1 + confidence) / 2) / math.sqrt(len(data17))\n",
    "    return round(average-delta, 2), round(average+delta, 2)\n",
    "\n",
    "print('Доверительный интервал для выборки \"Мерч в качестве бонуса мотивировал бы вас лучше учиться?\": ', mean_confidence_interval_17(data17, 0.95))"
   ]
  },
  {
   "cell_type": "code",
   "execution_count": 54,
   "metadata": {},
   "outputs": [
    {
     "name": "stdout",
     "output_type": "stream",
     "text": [
      "Доверительный интервал для выборки \"Вам важно, чтобы мерч был уникальным продуктом, который больше ни у кого не встретишь?\":  (0.67, 0.68)\n"
     ]
    }
   ],
   "source": [
    "data18 = df['Unique_merch?']\n",
    "\n",
    "def mean_confidence_interval_18(data18, confidence=0.95):\n",
    "    average = data18.mean()      \n",
    "    delta = stats.sem(data18) * stats.norm.ppf((1 + confidence) / 2) / math.sqrt(len(data18))\n",
    "    return round(average-delta, 2), round(average+delta, 2)\n",
    "\n",
    "print('Доверительный интервал для выборки \"Вам важно, чтобы мерч был уникальным продуктом, который больше ни у кого не встретишь?\": ', mean_confidence_interval_18(data18, 0.95))"
   ]
  },
  {
   "cell_type": "code",
   "execution_count": 55,
   "metadata": {},
   "outputs": [
    {
     "name": "stdout",
     "output_type": "stream",
     "text": [
      "Доверительный интервал для выборки \"Вы готовы платить за лимитированный мерч? Лимитированная коллекция - та, которая выпускается один раз ограниченным тиражом\":  (0.5, 0.52)\n"
     ]
    }
   ],
   "source": [
    "data19 = df['Limit_merch?']\n",
    "\n",
    "def mean_confidence_interval_19(data19, confidence=0.95):\n",
    "    average = data19.mean()      \n",
    "    delta = stats.sem(data19) * stats.norm.ppf((1 + confidence) / 2) / math.sqrt(len(data19))\n",
    "    return round(average-delta, 2), round(average+delta, 2)\n",
    "\n",
    "print('Доверительный интервал для выборки \"Вы готовы платить за лимитированный мерч? Лимитированная коллекция - та, которая выпускается один раз ограниченным тиражом\": ', mean_confidence_interval_19(data19, 0.95))"
   ]
  },
  {
   "cell_type": "code",
   "execution_count": 56,
   "metadata": {},
   "outputs": [
    {
     "name": "stdout",
     "output_type": "stream",
     "text": [
      "Доверительный интервал для выборки \"Обращаете ли вы внимание на экологичность товаров при покупке вещей?\":  (0.53, 0.55)\n"
     ]
    }
   ],
   "source": [
    "data20 = df['Eco?']\n",
    "\n",
    "def mean_confidence_interval_20(data20, confidence=0.95):\n",
    "    average = data20.mean()      \n",
    "    delta = stats.sem(data20) * stats.norm.ppf((1 + confidence) / 2) / math.sqrt(len(data20))\n",
    "    return round(average-delta, 2), round(average+delta, 2)\n",
    "\n",
    "print('Доверительный интервал для выборки \"Обращаете ли вы внимание на экологичность товаров при покупке вещей?\": ', mean_confidence_interval_20(data20, 0.95))"
   ]
  },
  {
   "cell_type": "code",
   "execution_count": 57,
   "metadata": {},
   "outputs": [
    {
     "name": "stdout",
     "output_type": "stream",
     "text": [
      "Доверительный интервал для выборки \"Вы с большей вероятностью купите мерч, если будете знать, что вырученные средства пойдут на благотворительность?\":  (0.58, 0.59)\n"
     ]
    }
   ],
   "source": [
    "data21 = df['Charity?']\n",
    "\n",
    "def mean_confidence_interval_21(data21, confidence=0.95):\n",
    "    average = data21.mean()      \n",
    "    delta = stats.sem(data21) * stats.norm.ppf((1 + confidence) / 2) / math.sqrt(len(data21))\n",
    "    return round(average-delta, 2), round(average+delta, 2)\n",
    "\n",
    "print('Доверительный интервал для выборки \"Вы с большей вероятностью купите мерч, если будете знать, что вырученные средства пойдут на благотворительность?\": ', mean_confidence_interval_21(data21, 0.95))"
   ]
  },
  {
   "cell_type": "code",
   "execution_count": 58,
   "metadata": {},
   "outputs": [
    {
     "name": "stdout",
     "output_type": "stream",
     "text": [
      "Доверительный интервал для выборки \"Вы бы купили мерч в подарок для благотворительного фонда/детского дома?\":  (0.64, 0.65)\n"
     ]
    }
   ],
   "source": [
    "data22 = df['Buy_for_charity?']\n",
    "\n",
    "def mean_confidence_interval_22(data22, confidence=0.95):\n",
    "    average = data22.mean()      \n",
    "    delta = stats.sem(data22) * stats.norm.ppf((1 + confidence) / 2) / math.sqrt(len(data22))\n",
    "    return round(average-delta, 2), round(average+delta, 2)\n",
    "\n",
    "print('Доверительный интервал для выборки \"Вы бы купили мерч в подарок для благотворительного фонда/детского дома?\": ', mean_confidence_interval_22(data22, 0.95))"
   ]
  },
  {
   "cell_type": "code",
   "execution_count": 78,
   "metadata": {},
   "outputs": [
    {
     "name": "stdout",
     "output_type": "stream",
     "text": [
      "Доверительный интервал для выборки \"Что из перечисленного могло бы мотивировать вас к покупке?\":  (9.57, 12.65)\n"
     ]
    }
   ],
   "source": [
    "df6.rename(columns = {\n",
    "    df6.columns[0]: 'Discond'\n",
    "}, inplace = True)\n",
    "\n",
    "\n",
    "data_df6 = df6['%']\n",
    "\n",
    "def mean_confidence_interval_df_6(data_df6, confidence=0.95):\n",
    "    average = data_df6.mean()      \n",
    "    delta = stats.sem(data_df6) * stats.norm.ppf((1 + confidence) / 2) / math.sqrt(len(data_df6))\n",
    "    return round(average-delta, 2), round(average+delta, 2)\n",
    "\n",
    "print('Доверительный интервал для выборки \"Что из перечисленного могло бы мотивировать вас к покупке?\": ', mean_confidence_interval_df_6(data_df6, 0.95))"
   ]
  },
  {
   "cell_type": "code",
   "execution_count": 79,
   "metadata": {},
   "outputs": [
    {
     "name": "stdout",
     "output_type": "stream",
     "text": [
      "Доверительный интервал для выборки \"Как долго вы готовы ждать ответа от менеджера по вашему заказу?\":  (17.17, 32.83)\n"
     ]
    }
   ],
   "source": [
    "df7.rename(columns = {\n",
    "    df7.columns[0]: 'Time_reply'\n",
    "}, inplace = True)\n",
    "\n",
    "\n",
    "data_df7 = df7['%']\n",
    "\n",
    "def mean_confidence_interval_df_7(data_df7, confidence=0.95):\n",
    "    average = data_df7.mean()      \n",
    "    delta = stats.sem(data_df7) * stats.norm.ppf((1 + confidence) / 2) / math.sqrt(len(data_df7))\n",
    "    return round(average-delta, 2), round(average+delta, 2)\n",
    "\n",
    "print('Доверительный интервал для выборки \"Как долго вы готовы ждать ответа от менеджера по вашему заказу?\": ', mean_confidence_interval_df_7(data_df7, 0.95))"
   ]
  },
  {
   "cell_type": "code",
   "execution_count": 80,
   "metadata": {},
   "outputs": [
    {
     "name": "stdout",
     "output_type": "stream",
     "text": [
      "Доверительный интервал для выборки \"Какой способ обратной связи с менеджером вам наиболее удобен?\":  (3.33, 3.8)\n"
     ]
    }
   ],
   "source": [
    "df8.rename(columns = {\n",
    "    df8.columns[0]: 'Feedback_method'\n",
    "}, inplace = True)\n",
    "\n",
    "\n",
    "data_df8 = df8['%']\n",
    "\n",
    "def mean_confidence_interval_df_8(data_df8, confidence=0.95):\n",
    "    average = data_df8.mean()      \n",
    "    delta = stats.sem(data_df8) * stats.norm.ppf((1 + confidence) / 2) / math.sqrt(len(data_df8))\n",
    "    return round(average-delta, 2), round(average+delta, 2)\n",
    "\n",
    "print('Доверительный интервал для выборки \"Какой способ обратной связи с менеджером вам наиболее удобен?\": ', mean_confidence_interval_df_8(data_df8, 0.95))"
   ]
  },
  {
   "cell_type": "code",
   "execution_count": 81,
   "metadata": {},
   "outputs": [
    {
     "name": "stdout",
     "output_type": "stream",
     "text": [
      "Доверительный интервал для выборки \"Вы когда-нибудь покупали мерч?\":  (20.36, 46.31)\n"
     ]
    }
   ],
   "source": [
    "df9.rename(columns = {\n",
    "    df9.columns[0]: 'Bought_merch'\n",
    "}, inplace = True)\n",
    "\n",
    "\n",
    "data_df9 = df9['%']\n",
    "\n",
    "def mean_confidence_interval_df_9(data_df9, confidence=0.95):\n",
    "    average = data_df9.mean()      \n",
    "    delta = stats.sem(data_df9) * stats.norm.ppf((1 + confidence) / 2) / math.sqrt(len(data_df9))\n",
    "    return round(average-delta, 2), round(average+delta, 2)\n",
    "\n",
    "print('Доверительный интервал для выборки \"Вы когда-нибудь покупали мерч?\": ', mean_confidence_interval_df_9(data_df9, 0.95))"
   ]
  },
  {
   "cell_type": "code",
   "execution_count": 82,
   "metadata": {},
   "outputs": [
    {
     "name": "stdout",
     "output_type": "stream",
     "text": [
      "Доверительный интервал для выборки \"Вам важно, какого размера будет логотип на мерче?\":  (14.46, 35.49)\n"
     ]
    }
   ],
   "source": [
    "df10.rename(columns = {\n",
    "    df10.columns[0]: 'Size_logo'\n",
    "}, inplace = True)\n",
    "\n",
    "\n",
    "data_df10 = df10['%']\n",
    "\n",
    "def mean_confidence_interval_df_10(data_df10, confidence=0.95):\n",
    "    average = data_df10.mean()      \n",
    "    delta = stats.sem(data_df10) * stats.norm.ppf((1 + confidence) / 2) / math.sqrt(len(data_df10))\n",
    "    return round(average-delta, 2), round(average+delta, 2)\n",
    "\n",
    "print('Доверительный интервал для выборки \"Вам важно, какого размера будет логотип на мерче?\": ', mean_confidence_interval_df_10(data_df10, 0.95))"
   ]
  },
  {
   "cell_type": "code",
   "execution_count": 83,
   "metadata": {},
   "outputs": [
    {
     "name": "stdout",
     "output_type": "stream",
     "text": [
      "Доверительный интервал для выборки \"Какой мерч вам интереснее всего?\":  (5.77, 9.59)\n"
     ]
    }
   ],
   "source": [
    "df11.rename(columns = {\n",
    "    df11.columns[0]: 'Most_interested_merch'\n",
    "}, inplace = True)\n",
    "\n",
    "\n",
    "data_df11 = df11['%']\n",
    "\n",
    "def mean_confidence_interval_df_11(data_df11, confidence=0.95):\n",
    "    average = data_df11.mean()      \n",
    "    delta = stats.sem(data_df11) * stats.norm.ppf((1 + confidence) / 2) / math.sqrt(len(data_df11))\n",
    "    return round(average-delta, 2), round(average+delta, 2)\n",
    "\n",
    "print('Доверительный интервал для выборки \"Какой мерч вам интереснее всего?\": ', mean_confidence_interval_df_11(data_df11, 0.95))"
   ]
  },
  {
   "cell_type": "code",
   "execution_count": null,
   "metadata": {},
   "outputs": [],
   "source": []
  },
  {
   "cell_type": "code",
   "execution_count": null,
   "metadata": {},
   "outputs": [],
   "source": []
  },
  {
   "cell_type": "code",
   "execution_count": null,
   "metadata": {},
   "outputs": [],
   "source": []
  },
  {
   "cell_type": "code",
   "execution_count": null,
   "metadata": {},
   "outputs": [],
   "source": []
  },
  {
   "cell_type": "code",
   "execution_count": null,
   "metadata": {},
   "outputs": [],
   "source": []
  }
 ],
 "metadata": {
  "kernelspec": {
   "display_name": "Python 3",
   "language": "python",
   "name": "python3"
  },
  "language_info": {
   "codemirror_mode": {
    "name": "ipython",
    "version": 3
   },
   "file_extension": ".py",
   "mimetype": "text/x-python",
   "name": "python",
   "nbconvert_exporter": "python",
   "pygments_lexer": "ipython3",
   "version": "3.8.5"
  }
 },
 "nbformat": 4,
 "nbformat_minor": 4
}
