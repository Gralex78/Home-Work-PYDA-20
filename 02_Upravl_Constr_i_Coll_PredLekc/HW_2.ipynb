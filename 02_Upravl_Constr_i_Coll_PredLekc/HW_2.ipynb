{
 "cells": [
  {
   "cell_type": "markdown",
   "metadata": {},
   "source": [
    "# Домашняя работа к лекции «Управляющие конструкции и коллекции» часть 1"
   ]
  },
  {
   "cell_type": "markdown",
   "metadata": {},
   "source": [
    "## Задание 1\n",
    "\n",
    "Дана переменная, в которой хранится слово из латинских букв. Напишите код, который выводит на экран:\n",
    "\n",
    "среднюю букву, если число букв в слове нечетное;  \n",
    "две средних буквы, если число букв четное.  \n",
    "Примеры работы программы:  \n",
    "\n",
    "word = 'test'  \n",
    "Результат:  \n",
    "es  \n",
    "\n",
    "word = 'testing'  \n",
    "Результат:  \n",
    "t"
   ]
  },
  {
   "cell_type": "code",
   "execution_count": 73,
   "metadata": {},
   "outputs": [
    {
     "name": "stdout",
     "output_type": "stream",
     "text": [
      "es\n"
     ]
    }
   ],
   "source": [
    "word = 'test'#ing'\n",
    "if len(word) % 2 == 0:\n",
    "    print(word[int(len(word) / 2 - 1) : int(len(word) / 2 + 1)])\n",
    "else:\n",
    "    print(word[int(len(word) / 2)])"
   ]
  },
  {
   "cell_type": "markdown",
   "metadata": {},
   "source": [
    "## Задание 2\n",
    "\n",
    "Напишите программу, которая последовательно запрашивает у пользователя числа (по одному за раз) и после первого нуля выводит сумму всех ранее введенных чисел.\n",
    "\n",
    "Примеры работы программы:\n",
    "\n",
    "Введите число:  \n",
    "1\n",
    "\n",
    "Введите число:  \n",
    "4\n",
    "\n",
    "Введите число:  \n",
    "6\n",
    "\n",
    "Введите число:  \n",
    "0    \n",
    "Результат:  \n",
    "11\n",
    "\n",
    "Введите число:  \n",
    "0    \n",
    "Результат:  \n",
    "0"
   ]
  },
  {
   "cell_type": "code",
   "execution_count": 1,
   "metadata": {},
   "outputs": [
    {
     "name": "stdout",
     "output_type": "stream",
     "text": [
      "Введите число: 1\n",
      "1\n",
      "Введите число: 2\n",
      "2\n",
      "Введите число: 3\n",
      "3\n",
      "Введите число: 0\n",
      "0\n",
      "Сумма: \n",
      "6\n"
     ]
    }
   ],
   "source": [
    "max_input_number = 10\n",
    "tries = 0\n",
    "summ = 0\n",
    "\n",
    "while tries < max_input_number:\n",
    "    input_number = int(input('Введите число: '))\n",
    "    \n",
    "    if input_number != 0:\n",
    "        print(input_number)\n",
    "    else:\n",
    "        print(input_number)\n",
    "        break\n",
    "    tries += 1\n",
    "    summ += input_number\n",
    "    \n",
    "if input_number == 0:\n",
    "    print('Сумма: ')\n",
    "    print(summ)"
   ]
  },
  {
   "cell_type": "markdown",
   "metadata": {},
   "source": [
    "## Задание 3\n",
    "\n",
    "Мы делаем MVP dating-сервиса, и у нас есть список парней и девушек.\n",
    "Выдвигаем гипотезу: лучшие рекомендации мы получим, если просто отсортируем имена по алфавиту и познакомим людей с одинаковыми индексами после сортировки! Но мы не будем никого знакомить, если кто-то может остаться без пары:  \n",
    "\n",
    "Примеры работы программы:  \n",
    "\n",
    "boys = ['Peter', 'Alex', 'John', 'Arthur', 'Richard']  \n",
    "girls = ['Kate', 'Liza', 'Kira', 'Emma', 'Trisha']  \n",
    "Результат:  \n",
    "\n",
    "Идеальные пары:  \n",
    "Alex и Emma  \n",
    "Arthur и Kate  \n",
    "John и Kira  \n",
    "Peter и Liza  \n",
    "Richard и Trisha  \n",
    "\n",
    "boys = ['Peter', 'Alex', 'John', 'Arthur', 'Richard', 'Michael']  \n",
    "girls = ['Kate', 'Liza', 'Kira', 'Emma', 'Trisha']\n",
    "\n",
    "Результат:  \n",
    "Внимание, кто-то может остаться без пары!"
   ]
  },
  {
   "cell_type": "markdown",
   "metadata": {},
   "source": [
    "### 1-й вариант решения\n",
    "#### Код не универсальный"
   ]
  },
  {
   "cell_type": "code",
   "execution_count": 75,
   "metadata": {},
   "outputs": [
    {
     "name": "stdout",
     "output_type": "stream",
     "text": [
      "Идеальные пары: \n",
      "Alex и Emma\n",
      "Arthur и Kate\n",
      "John и Kira\n",
      "Peter и Liza\n",
      "Richard и Trisha\n"
     ]
    }
   ],
   "source": [
    "boys = ['Peter', 'Alex', 'John', 'Arthur', 'Richard']#, 'Michael']\n",
    "girls = ['Kate', 'Liza', 'Kira', 'Emma', 'Trisha']\n",
    "\n",
    "if len(boys) == len(girls):\n",
    "    print('Идеальные пары: ')\n",
    "    print(sorted(boys)[0] + ' и ' + sorted(girls)[0])\n",
    "    print(sorted(boys)[1] + ' и ' + sorted(girls)[1])\n",
    "    print(sorted(boys)[2] + ' и ' + sorted(girls)[2])\n",
    "    print(sorted(boys)[3] + ' и ' + sorted(girls)[3])\n",
    "    print(sorted(boys)[4] + ' и ' + sorted(girls)[4])\n",
    "else:\n",
    "    print('Внимание! Кто-то может остаться без пары!')    "
   ]
  },
  {
   "cell_type": "markdown",
   "metadata": {},
   "source": [
    "### 2-й вариант решения\n",
    "#### Нужно использовать цикл\n"
   ]
  },
  {
   "cell_type": "code",
   "execution_count": 3,
   "metadata": {},
   "outputs": [
    {
     "name": "stdout",
     "output_type": "stream",
     "text": [
      "Идеальные пары: \n",
      "Alex и Emma\n",
      "Arthur и Kate\n",
      "John и Kira\n",
      "Peter и Liza\n",
      "Richard и Trisha\n"
     ]
    }
   ],
   "source": [
    "boys = ['Peter', 'Alex', 'John', 'Arthur', 'Richard']#, 'Michael']\n",
    "girls = ['Kate', 'Liza', 'Kira', 'Emma', 'Trisha']\n",
    "\n",
    "if len(boys) != len(girls):\n",
    "    print('Внимание! Кто-то может остаться без пары!')\n",
    "else:\n",
    "    print('Идеальные пары: ')\n",
    "for boy, girl in zip(sorted(boys), sorted(girls)):\n",
    "    print(f'{boy} и {girl}')    "
   ]
  },
  {
   "cell_type": "markdown",
   "metadata": {},
   "source": [
    "### Преподаватель\n",
    "\n",
    "Только не стоит объектам давать имена, которые уже зарезервированы языком (это видно по подсветке), так вы просто перезаписываете встроенный функционал своим, что может привести к проблемам (у вас, например, sum).\n",
    "\n",
    "А в 3 задании все же стоило вывести информацию ровно в том виде, какой указан в описании задания. Для этого понадобится цикл. И я, конечно, рассматриваю, второй его вариант, первый является неуниверсальным. Т.е. так:"
   ]
  },
  {
   "cell_type": "code",
   "execution_count": null,
   "metadata": {},
   "outputs": [],
   "source": [
    "if len(boys) != len(girls):\n",
    " print('Внимание, кто-то может остаться без пары!')\n",
    "else:\n",
    " print('Лучшие пары:')\n",
    " for boy, girl in zip(sorted(boys), sorted(girls)):\n",
    "   print(f'{boy} и {girl}')"
   ]
  },
  {
   "cell_type": "code",
   "execution_count": null,
   "metadata": {},
   "outputs": [],
   "source": []
  },
  {
   "cell_type": "code",
   "execution_count": null,
   "metadata": {},
   "outputs": [],
   "source": []
  },
  {
   "cell_type": "markdown",
   "metadata": {},
   "source": [
    "## Задание 4\n",
    "\n",
    "У нас есть список, содержащий информацию о среднедневной температуре в Фаренгейтах за произвольный период по странам (структура данных в примере). Необходимо написать код, который рассчитает среднюю температуру за период в Цельсиях(!) для каждой страны.\n",
    "\n",
    "Пример работы программы:\n",
    "\n",
    "countries_temperature =   \n",
    "[      \n",
    "\n",
    "    ['Thailand', [75.2, 77, 78.8, 73.4, 68, 75.2, 77]],  \n",
    "    ['Germany', [57.2, 55.4, 59, 59, 53.6]],  \n",
    "    ['Russia', [35.6, 37.4, 39.2, 41, 42.8, 39.2, 35.6]],  \n",
    "    ['Poland', [50, 50, 53.6, 57.2, 55.4, 55.4]]  \n",
    "]  \n",
    "\n",
    "Результат:  \n",
    "\n",
    "Средняя температура в странах:  \n",
    "Thailand  -  23.9 С  \n",
    "Germany  -  13.8 С \n",
    "Russia  -  3.7 С  \n",
    "Poland  -  12.0 С  "
   ]
  },
  {
   "cell_type": "code",
   "execution_count": 1,
   "metadata": {},
   "outputs": [
    {
     "name": "stdout",
     "output_type": "stream",
     "text": [
      "Средняя температура в странах:\n",
      "Thailand : 23.9 C\n",
      "Germany : 13.8 C\n",
      "Russia : 3.7 C\n",
      "Poland : 12.0 C\n"
     ]
    }
   ],
   "source": [
    "countries_temperature = [\n",
    "    ['Thailand', [75.2, 77, 78.8, 73.4, 68, 75.2, 77]],\n",
    "    ['Germany', [57.2, 55.4, 59, 59, 53.6]],\n",
    "    ['Russia', [35.6, 37.4, 39.2, 41, 42.8, 39.2, 35.6]],\n",
    "    ['Poland', [50, 50, 53.6, 57.2, 55.4, 55.4]]\n",
    "]\n",
    "\n",
    "print('Средняя температура в странах:')\n",
    "\n",
    "for element in countries_temperature:\n",
    "    average_temperature = round((sum(element[1]) / len(element[1])-32) * 5/9,1)\n",
    "    print(element[0], ':', average_temperature, 'C')"
   ]
  },
  {
   "cell_type": "markdown",
   "metadata": {},
   "source": [
    "## Задание 5 (необязательное)\n",
    "Дан поток логов по количеству просмотренных страниц для каждого пользователя. Вам необходимо написать алгоритм, который считает среднее значение просмотров на пользователя. Т. е. надо посчитать отношение суммы всех просмотров к количеству уникальных пользователей.  \n",
    "\n",
    "Примеры работы программы:  \n",
    "\n",
    "stream = [  \n",
    "    '2018-01-01,user1,3',  \n",
    "    '2018-01-07,user1,4',  \n",
    "    '2018-03-29,user1,1',  \n",
    "    '2018-04-04,user1,13',  \n",
    "    '2018-01-05,user2,7',  \n",
    "    '2018-06-14,user3,4',  \n",
    "    '2018-07-02,user3,10',  \n",
    "    '2018-03-21,user4,19',  \n",
    "    '2018-03-22,user4,4',  \n",
    "    '2018-04-22,user4,8',  \n",
    "    '2018-05-03,user4,9',  \n",
    "    '2018-05-11,user4,11',  \n",
    "]  \n",
    "\n",
    "Результат:  \n",
    "Среднее количество просмотров на уникального пользователя: 23.25  \n",
    "\n",
    "stream = [  \n",
    "    '2018-01-01,user100,150',  \n",
    "    '2018-01-07,user99,205',  \n",
    "    '2018-03-29,user1001,81'  \n",
    "]  \n",
    "\n",
    "Результат:  \n",
    "Среднее количество просмотров на уникального пользователя: 145.33\n",
    "\n"
   ]
  },
  {
   "cell_type": "code",
   "execution_count": null,
   "metadata": {},
   "outputs": [],
   "source": []
  },
  {
   "cell_type": "markdown",
   "metadata": {},
   "source": [
    "## Задание 6 (необязательное)\n",
    "\n",
    "Необходимо у пользователя запрашивать набор чисел разделенных пробелом. В результате в отсортированном порядке должны выводиться числа, которые повторяются в вводе более одного раза.\n",
    "\n",
    "Примеры работы программы:\n",
    "\n",
    "Введите числа:  \n",
    "4 8 0 3 4 2 0 3  \n",
    "Результат:  \n",
    "0 3 4  \n",
    "\n",
    "Введите числа:  \n",
    "1 1 2 2 3 3  \n",
    "Результат:  \n",
    "1 2 3  \n",
    "\n",
    "Введите числа:  \n",
    "10 15 15 103 200 200 200 1 1 1 1 1 2 2 2  \n",
    "Результат:  \n",
    "1 2 15 200"
   ]
  },
  {
   "cell_type": "code",
   "execution_count": null,
   "metadata": {},
   "outputs": [],
   "source": []
  },
  {
   "cell_type": "code",
   "execution_count": null,
   "metadata": {},
   "outputs": [],
   "source": []
  },
  {
   "cell_type": "code",
   "execution_count": null,
   "metadata": {},
   "outputs": [],
   "source": []
  }
 ],
 "metadata": {
  "kernelspec": {
   "display_name": "Python 3",
   "language": "python",
   "name": "python3"
  },
  "language_info": {
   "codemirror_mode": {
    "name": "ipython",
    "version": 3
   },
   "file_extension": ".py",
   "mimetype": "text/x-python",
   "name": "python",
   "nbconvert_exporter": "python",
   "pygments_lexer": "ipython3",
   "version": "3.8.5"
  }
 },
 "nbformat": 4,
 "nbformat_minor": 4
}
