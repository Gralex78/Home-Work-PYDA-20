{
 "cells": [
  {
   "cell_type": "markdown",
   "metadata": {},
   "source": [
    "# Домашняя работа «Управляющие конструкции и коллекции» часть 1"
   ]
  },
  {
   "cell_type": "markdown",
   "metadata": {},
   "source": [
    "# Задание 1"
   ]
  },
  {
   "cell_type": "code",
   "execution_count": 73,
   "metadata": {},
   "outputs": [
    {
     "name": "stdout",
     "output_type": "stream",
     "text": [
      "es\n"
     ]
    }
   ],
   "source": [
    "word = 'test'#ing'\n",
    "if len(word) % 2 == 0:\n",
    "    print(word[int(len(word) / 2 - 1) : int(len(word) / 2 + 1)])\n",
    "else:\n",
    "    print(word[int(len(word) / 2)])"
   ]
  },
  {
   "cell_type": "markdown",
   "metadata": {},
   "source": [
    "# Задание 2"
   ]
  },
  {
   "cell_type": "code",
   "execution_count": 74,
   "metadata": {},
   "outputs": [
    {
     "name": "stdout",
     "output_type": "stream",
     "text": [
      "Введите число: 1\n",
      "1\n",
      "Введите число: 2\n",
      "2\n",
      "Введите число: 3\n",
      "3\n",
      "Введите число: 0\n",
      "0\n",
      "Сумма: \n",
      "6\n"
     ]
    }
   ],
   "source": [
    "max_input_number = 10\n",
    "tries = 0\n",
    "sum = 0\n",
    "\n",
    "while tries < max_input_number:\n",
    "    input_number = int(input('Введите число: '))\n",
    "    \n",
    "    if input_number != 0:\n",
    "        print(input_number)\n",
    "    else:\n",
    "        print(input_number)\n",
    "        break\n",
    "    tries += 1\n",
    "    sum += input_number\n",
    "    \n",
    "if input_number == 0:\n",
    "    print('Сумма: ')\n",
    "    print(sum)"
   ]
  },
  {
   "cell_type": "markdown",
   "metadata": {},
   "source": [
    "# Задание 3 (1-й вариант решения)"
   ]
  },
  {
   "cell_type": "code",
   "execution_count": 75,
   "metadata": {},
   "outputs": [
    {
     "name": "stdout",
     "output_type": "stream",
     "text": [
      "Идеальные пары: \n",
      "Alex и Emma\n",
      "Arthur и Kate\n",
      "John и Kira\n",
      "Peter и Liza\n",
      "Richard и Trisha\n"
     ]
    }
   ],
   "source": [
    "boys = ['Peter', 'Alex', 'John', 'Arthur', 'Richard']#, 'Michael']\n",
    "girls = ['Kate', 'Liza', 'Kira', 'Emma', 'Trisha']\n",
    "\n",
    "if len(boys) == len(girls):\n",
    "    print('Идеальные пары: ')\n",
    "    print(sorted(boys)[0] + ' и ' + sorted(girls)[0])\n",
    "    print(sorted(boys)[1] + ' и ' + sorted(girls)[1])\n",
    "    print(sorted(boys)[2] + ' и ' + sorted(girls)[2])\n",
    "    print(sorted(boys)[3] + ' и ' + sorted(girls)[3])\n",
    "    print(sorted(boys)[4] + ' и ' + sorted(girls)[4])\n",
    "else:\n",
    "    print('Внимание! Кто-то может остаться без пары!')    "
   ]
  },
  {
   "cell_type": "markdown",
   "metadata": {},
   "source": [
    "# Задание 3 (2-й вариант решения)"
   ]
  },
  {
   "cell_type": "code",
   "execution_count": 76,
   "metadata": {},
   "outputs": [
    {
     "name": "stdout",
     "output_type": "stream",
     "text": [
      "Идеальные пары: \n"
     ]
    },
    {
     "data": {
      "text/plain": [
       "[('Alex', 'Emma'),\n",
       " ('Arthur', 'Kate'),\n",
       " ('John', 'Kira'),\n",
       " ('Peter', 'Liza'),\n",
       " ('Richard', 'Trisha')]"
      ]
     },
     "execution_count": 76,
     "metadata": {},
     "output_type": "execute_result"
    }
   ],
   "source": [
    "boys = ['Peter', 'Alex', 'John', 'Arthur', 'Richard']#, 'Michael']\n",
    "girls = ['Kate', 'Liza', 'Kira', 'Emma', 'Trisha']\n",
    "\n",
    "if len(boys) != len(girls):\n",
    "    print('Внимание! Кто-то может остаться без пары!')\n",
    "else:\n",
    "    boys_to_girls = zip(sorted(boys), sorted(girls))\n",
    "    print('Идеальные пары: ')\n",
    "list(boys_to_girls)\n"
   ]
  },
  {
   "cell_type": "markdown",
   "metadata": {},
   "source": [
    "# Задание 4"
   ]
  },
  {
   "cell_type": "code",
   "execution_count": 1,
   "metadata": {},
   "outputs": [
    {
     "name": "stdout",
     "output_type": "stream",
     "text": [
      "Средняя температура в странах:\n",
      "Thailand : 23.9 C\n",
      "Germany : 13.8 C\n",
      "Russia : 3.7 C\n",
      "Poland : 12.0 C\n"
     ]
    }
   ],
   "source": [
    "countries_temperature = [\n",
    "    ['Thailand', [75.2, 77, 78.8, 73.4, 68, 75.2, 77]],\n",
    "    ['Germany', [57.2, 55.4, 59, 59, 53.6]],\n",
    "    ['Russia', [35.6, 37.4, 39.2, 41, 42.8, 39.2, 35.6]],\n",
    "    ['Poland', [50, 50, 53.6, 57.2, 55.4, 55.4]]\n",
    "]\n",
    "\n",
    "print('Средняя температура в странах:')\n",
    "\n",
    "for element in countries_temperature:\n",
    "    average_temperature = round((sum(element[1]) / len(element[1])-32) * 5/9,1)\n",
    "    print(element[0], ':', average_temperature, 'C')"
   ]
  },
  {
   "cell_type": "code",
   "execution_count": null,
   "metadata": {},
   "outputs": [],
   "source": []
  }
 ],
 "metadata": {
  "kernelspec": {
   "display_name": "Python 3",
   "language": "python",
   "name": "python3"
  },
  "language_info": {
   "codemirror_mode": {
    "name": "ipython",
    "version": 3
   },
   "file_extension": ".py",
   "mimetype": "text/x-python",
   "name": "python",
   "nbconvert_exporter": "python",
   "pygments_lexer": "ipython3",
   "version": "3.8.5"
  }
 },
 "nbformat": 4,
 "nbformat_minor": 4
}
