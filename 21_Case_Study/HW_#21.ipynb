{
 "cells": [
  {
   "cell_type": "markdown",
   "metadata": {},
   "source": [
    "# Домашнее задание к лекции \"Статистика. Практика\"\n"
   ]
  },
  {
   "cell_type": "markdown",
   "metadata": {},
   "source": [
    "## Задание 1\n",
    "Вернемся к набору данных о видеоиграх.\n",
    "\n",
    "Ответьте на следующие вопросы: \n",
    "\n",
    " 1) Как критики относятся к спортивным играм?  \n",
    " 2) Критикам нравятся больше игры на PC или на PS4?  \n",
    " 3) Критикам больше нравятся стрелялки или стратегии?  \n",
    "\n",
    "Для каждого вопроса:\n",
    "\n",
    "- сформулируйте нулевую и альтернативную гипотезы;  \n",
    "- выберите пороговый уровень статистической значимости;  \n",
    "- опишите полученные результаты статистического теста.\n",
    "\n"
   ]
  },
  {
   "cell_type": "code",
   "execution_count": 209,
   "metadata": {},
   "outputs": [],
   "source": [
    "import pandas as pd\n",
    "import numpy as np"
   ]
  },
  {
   "cell_type": "code",
   "execution_count": 210,
   "metadata": {},
   "outputs": [],
   "source": [
    "df = pd.read_csv('https://raw.githubusercontent.com/obulygin/pyda_homeworks/master/stat_case_study/vgsales.csv')\n",
    "df['User_Score'].replace('tbd', np.NaN, inplace=True)\n",
    "df['Critic_Score'] = df.Critic_Score.astype('Float64')\n",
    "df['Critic_Count'] = df.Critic_Count.astype('Int64')"
   ]
  },
  {
   "cell_type": "code",
   "execution_count": 214,
   "metadata": {},
   "outputs": [
    {
     "data": {
      "text/html": [
       "<div>\n",
       "<style scoped>\n",
       "    .dataframe tbody tr th:only-of-type {\n",
       "        vertical-align: middle;\n",
       "    }\n",
       "\n",
       "    .dataframe tbody tr th {\n",
       "        vertical-align: top;\n",
       "    }\n",
       "\n",
       "    .dataframe thead th {\n",
       "        text-align: right;\n",
       "    }\n",
       "</style>\n",
       "<table border=\"1\" class=\"dataframe\">\n",
       "  <thead>\n",
       "    <tr style=\"text-align: right;\">\n",
       "      <th></th>\n",
       "      <th>Genre</th>\n",
       "      <th>Platform</th>\n",
       "      <th>Critic_Score</th>\n",
       "      <th>Critic_Count</th>\n",
       "    </tr>\n",
       "  </thead>\n",
       "  <tbody>\n",
       "    <tr>\n",
       "      <th>0</th>\n",
       "      <td>Sports</td>\n",
       "      <td>Wii</td>\n",
       "      <td>76.0</td>\n",
       "      <td>51</td>\n",
       "    </tr>\n",
       "    <tr>\n",
       "      <th>2</th>\n",
       "      <td>Racing</td>\n",
       "      <td>Wii</td>\n",
       "      <td>82.0</td>\n",
       "      <td>73</td>\n",
       "    </tr>\n",
       "    <tr>\n",
       "      <th>3</th>\n",
       "      <td>Sports</td>\n",
       "      <td>Wii</td>\n",
       "      <td>80.0</td>\n",
       "      <td>73</td>\n",
       "    </tr>\n",
       "    <tr>\n",
       "      <th>6</th>\n",
       "      <td>Platform</td>\n",
       "      <td>DS</td>\n",
       "      <td>89.0</td>\n",
       "      <td>65</td>\n",
       "    </tr>\n",
       "    <tr>\n",
       "      <th>7</th>\n",
       "      <td>Misc</td>\n",
       "      <td>Wii</td>\n",
       "      <td>58.0</td>\n",
       "      <td>41</td>\n",
       "    </tr>\n",
       "    <tr>\n",
       "      <th>...</th>\n",
       "      <td>...</td>\n",
       "      <td>...</td>\n",
       "      <td>...</td>\n",
       "      <td>...</td>\n",
       "    </tr>\n",
       "    <tr>\n",
       "      <th>16700</th>\n",
       "      <td>Shooter</td>\n",
       "      <td>PC</td>\n",
       "      <td>61.0</td>\n",
       "      <td>12</td>\n",
       "    </tr>\n",
       "    <tr>\n",
       "      <th>16701</th>\n",
       "      <td>Puzzle</td>\n",
       "      <td>GC</td>\n",
       "      <td>53.0</td>\n",
       "      <td>4</td>\n",
       "    </tr>\n",
       "    <tr>\n",
       "      <th>16702</th>\n",
       "      <td>Puzzle</td>\n",
       "      <td>DS</td>\n",
       "      <td>48.0</td>\n",
       "      <td>10</td>\n",
       "    </tr>\n",
       "    <tr>\n",
       "      <th>16706</th>\n",
       "      <td>Strategy</td>\n",
       "      <td>PC</td>\n",
       "      <td>60.0</td>\n",
       "      <td>12</td>\n",
       "    </tr>\n",
       "    <tr>\n",
       "      <th>16709</th>\n",
       "      <td>Adventure</td>\n",
       "      <td>PC</td>\n",
       "      <td>63.0</td>\n",
       "      <td>6</td>\n",
       "    </tr>\n",
       "  </tbody>\n",
       "</table>\n",
       "<p>8137 rows × 4 columns</p>\n",
       "</div>"
      ],
      "text/plain": [
       "           Genre Platform  Critic_Score  Critic_Count\n",
       "0         Sports      Wii          76.0            51\n",
       "2         Racing      Wii          82.0            73\n",
       "3         Sports      Wii          80.0            73\n",
       "6       Platform       DS          89.0            65\n",
       "7           Misc      Wii          58.0            41\n",
       "...          ...      ...           ...           ...\n",
       "16700    Shooter       PC          61.0            12\n",
       "16701     Puzzle       GC          53.0             4\n",
       "16702     Puzzle       DS          48.0            10\n",
       "16706   Strategy       PC          60.0            12\n",
       "16709  Adventure       PC          63.0             6\n",
       "\n",
       "[8137 rows x 4 columns]"
      ]
     },
     "execution_count": 214,
     "metadata": {},
     "output_type": "execute_result"
    }
   ],
   "source": [
    "critic_games = df[['Genre', 'Platform', 'Critic_Score', 'Critic_Count']]\n",
    "critic_games = critic_games.loc[critic_games['Critic_Score'] > 0]\n",
    "critic_games"
   ]
  },
  {
   "cell_type": "code",
   "execution_count": 215,
   "metadata": {},
   "outputs": [
    {
     "data": {
      "text/html": [
       "<div>\n",
       "<style scoped>\n",
       "    .dataframe tbody tr th:only-of-type {\n",
       "        vertical-align: middle;\n",
       "    }\n",
       "\n",
       "    .dataframe tbody tr th {\n",
       "        vertical-align: top;\n",
       "    }\n",
       "\n",
       "    .dataframe thead th {\n",
       "        text-align: right;\n",
       "    }\n",
       "</style>\n",
       "<table border=\"1\" class=\"dataframe\">\n",
       "  <thead>\n",
       "    <tr style=\"text-align: right;\">\n",
       "      <th></th>\n",
       "      <th>Critic_Score</th>\n",
       "      <th>Critic_Count</th>\n",
       "    </tr>\n",
       "  </thead>\n",
       "  <tbody>\n",
       "    <tr>\n",
       "      <th>count</th>\n",
       "      <td>8137.000000</td>\n",
       "      <td>8137.000000</td>\n",
       "    </tr>\n",
       "    <tr>\n",
       "      <th>mean</th>\n",
       "      <td>68.967679</td>\n",
       "      <td>26.360821</td>\n",
       "    </tr>\n",
       "    <tr>\n",
       "      <th>std</th>\n",
       "      <td>13.938165</td>\n",
       "      <td>18.980495</td>\n",
       "    </tr>\n",
       "    <tr>\n",
       "      <th>min</th>\n",
       "      <td>13.000000</td>\n",
       "      <td>3.000000</td>\n",
       "    </tr>\n",
       "    <tr>\n",
       "      <th>25%</th>\n",
       "      <td>60.000000</td>\n",
       "      <td>12.000000</td>\n",
       "    </tr>\n",
       "    <tr>\n",
       "      <th>50%</th>\n",
       "      <td>71.000000</td>\n",
       "      <td>21.000000</td>\n",
       "    </tr>\n",
       "    <tr>\n",
       "      <th>75%</th>\n",
       "      <td>79.000000</td>\n",
       "      <td>36.000000</td>\n",
       "    </tr>\n",
       "    <tr>\n",
       "      <th>max</th>\n",
       "      <td>98.000000</td>\n",
       "      <td>113.000000</td>\n",
       "    </tr>\n",
       "  </tbody>\n",
       "</table>\n",
       "</div>"
      ],
      "text/plain": [
       "       Critic_Score  Critic_Count\n",
       "count   8137.000000   8137.000000\n",
       "mean      68.967679     26.360821\n",
       "std       13.938165     18.980495\n",
       "min       13.000000      3.000000\n",
       "25%       60.000000     12.000000\n",
       "50%       71.000000     21.000000\n",
       "75%       79.000000     36.000000\n",
       "max       98.000000    113.000000"
      ]
     },
     "execution_count": 215,
     "metadata": {},
     "output_type": "execute_result"
    }
   ],
   "source": [
    "critic_games.describe()"
   ]
  },
  {
   "cell_type": "markdown",
   "metadata": {},
   "source": [
    "### 1. Как критики относятся к спортивным играм?"
   ]
  },
  {
   "cell_type": "code",
   "execution_count": 216,
   "metadata": {},
   "outputs": [
    {
     "data": {
      "text/html": [
       "<div>\n",
       "<style scoped>\n",
       "    .dataframe tbody tr th:only-of-type {\n",
       "        vertical-align: middle;\n",
       "    }\n",
       "\n",
       "    .dataframe tbody tr th {\n",
       "        vertical-align: top;\n",
       "    }\n",
       "\n",
       "    .dataframe thead th {\n",
       "        text-align: right;\n",
       "    }\n",
       "</style>\n",
       "<table border=\"1\" class=\"dataframe\">\n",
       "  <thead>\n",
       "    <tr style=\"text-align: right;\">\n",
       "      <th></th>\n",
       "      <th>Genre</th>\n",
       "      <th>Critic_Score</th>\n",
       "    </tr>\n",
       "  </thead>\n",
       "  <tbody>\n",
       "    <tr>\n",
       "      <th>7</th>\n",
       "      <td>Role-Playing</td>\n",
       "      <td>72.652646</td>\n",
       "    </tr>\n",
       "    <tr>\n",
       "      <th>11</th>\n",
       "      <td>Strategy</td>\n",
       "      <td>72.086093</td>\n",
       "    </tr>\n",
       "    <tr>\n",
       "      <th>10</th>\n",
       "      <td>Sports</td>\n",
       "      <td>71.968174</td>\n",
       "    </tr>\n",
       "    <tr>\n",
       "      <th>8</th>\n",
       "      <td>Shooter</td>\n",
       "      <td>70.181144</td>\n",
       "    </tr>\n",
       "    <tr>\n",
       "      <th>2</th>\n",
       "      <td>Fighting</td>\n",
       "      <td>69.217604</td>\n",
       "    </tr>\n",
       "    <tr>\n",
       "      <th>9</th>\n",
       "      <td>Simulation</td>\n",
       "      <td>68.619318</td>\n",
       "    </tr>\n",
       "    <tr>\n",
       "      <th>4</th>\n",
       "      <td>Platform</td>\n",
       "      <td>68.058350</td>\n",
       "    </tr>\n",
       "    <tr>\n",
       "      <th>6</th>\n",
       "      <td>Racing</td>\n",
       "      <td>67.963612</td>\n",
       "    </tr>\n",
       "    <tr>\n",
       "      <th>5</th>\n",
       "      <td>Puzzle</td>\n",
       "      <td>67.424107</td>\n",
       "    </tr>\n",
       "    <tr>\n",
       "      <th>0</th>\n",
       "      <td>Action</td>\n",
       "      <td>66.629101</td>\n",
       "    </tr>\n",
       "    <tr>\n",
       "      <th>3</th>\n",
       "      <td>Misc</td>\n",
       "      <td>66.619503</td>\n",
       "    </tr>\n",
       "    <tr>\n",
       "      <th>1</th>\n",
       "      <td>Adventure</td>\n",
       "      <td>65.331269</td>\n",
       "    </tr>\n",
       "  </tbody>\n",
       "</table>\n",
       "</div>"
      ],
      "text/plain": [
       "           Genre  Critic_Score\n",
       "7   Role-Playing     72.652646\n",
       "11      Strategy     72.086093\n",
       "10        Sports     71.968174\n",
       "8        Shooter     70.181144\n",
       "2       Fighting     69.217604\n",
       "9     Simulation     68.619318\n",
       "4       Platform     68.058350\n",
       "6         Racing     67.963612\n",
       "5         Puzzle     67.424107\n",
       "0         Action     66.629101\n",
       "3           Misc     66.619503\n",
       "1      Adventure     65.331269"
      ]
     },
     "execution_count": 216,
     "metadata": {},
     "output_type": "execute_result"
    }
   ],
   "source": [
    "critic_score_sport = critic_games.groupby('Genre').Critic_Score.mean().reset_index()\n",
    "critic_score_sport.sort_values('Critic_Score', ascending=False)"
   ]
  },
  {
   "cell_type": "code",
   "execution_count": 217,
   "metadata": {},
   "outputs": [
    {
     "data": {
      "text/html": [
       "<div>\n",
       "<style scoped>\n",
       "    .dataframe tbody tr th:only-of-type {\n",
       "        vertical-align: middle;\n",
       "    }\n",
       "\n",
       "    .dataframe tbody tr th {\n",
       "        vertical-align: top;\n",
       "    }\n",
       "\n",
       "    .dataframe thead th {\n",
       "        text-align: right;\n",
       "    }\n",
       "</style>\n",
       "<table border=\"1\" class=\"dataframe\">\n",
       "  <thead>\n",
       "    <tr style=\"text-align: right;\">\n",
       "      <th></th>\n",
       "      <th>Genre</th>\n",
       "      <th>Critic_Count</th>\n",
       "    </tr>\n",
       "  </thead>\n",
       "  <tbody>\n",
       "    <tr>\n",
       "      <th>0</th>\n",
       "      <td>Action</td>\n",
       "      <td>52506</td>\n",
       "    </tr>\n",
       "    <tr>\n",
       "      <th>8</th>\n",
       "      <td>Shooter</td>\n",
       "      <td>33616</td>\n",
       "    </tr>\n",
       "    <tr>\n",
       "      <th>10</th>\n",
       "      <td>Sports</td>\n",
       "      <td>25110</td>\n",
       "    </tr>\n",
       "    <tr>\n",
       "      <th>7</th>\n",
       "      <td>Role-Playing</td>\n",
       "      <td>23945</td>\n",
       "    </tr>\n",
       "    <tr>\n",
       "      <th>6</th>\n",
       "      <td>Racing</td>\n",
       "      <td>17087</td>\n",
       "    </tr>\n",
       "    <tr>\n",
       "      <th>4</th>\n",
       "      <td>Platform</td>\n",
       "      <td>11778</td>\n",
       "    </tr>\n",
       "    <tr>\n",
       "      <th>2</th>\n",
       "      <td>Fighting</td>\n",
       "      <td>11415</td>\n",
       "    </tr>\n",
       "    <tr>\n",
       "      <th>3</th>\n",
       "      <td>Misc</td>\n",
       "      <td>11262</td>\n",
       "    </tr>\n",
       "    <tr>\n",
       "      <th>11</th>\n",
       "      <td>Strategy</td>\n",
       "      <td>8538</td>\n",
       "    </tr>\n",
       "    <tr>\n",
       "      <th>9</th>\n",
       "      <td>Simulation</td>\n",
       "      <td>7549</td>\n",
       "    </tr>\n",
       "    <tr>\n",
       "      <th>1</th>\n",
       "      <td>Adventure</td>\n",
       "      <td>7143</td>\n",
       "    </tr>\n",
       "    <tr>\n",
       "      <th>5</th>\n",
       "      <td>Puzzle</td>\n",
       "      <td>4549</td>\n",
       "    </tr>\n",
       "  </tbody>\n",
       "</table>\n",
       "</div>"
      ],
      "text/plain": [
       "           Genre  Critic_Count\n",
       "0         Action         52506\n",
       "8        Shooter         33616\n",
       "10        Sports         25110\n",
       "7   Role-Playing         23945\n",
       "6         Racing         17087\n",
       "4       Platform         11778\n",
       "2       Fighting         11415\n",
       "3           Misc         11262\n",
       "11      Strategy          8538\n",
       "9     Simulation          7549\n",
       "1      Adventure          7143\n",
       "5         Puzzle          4549"
      ]
     },
     "execution_count": 217,
     "metadata": {},
     "output_type": "execute_result"
    }
   ],
   "source": [
    "critic_count_sport = critic_games.groupby('Genre').Critic_Count.sum().reset_index()\n",
    "critic_count_sport.sort_values('Critic_Count', ascending=False)"
   ]
  },
  {
   "cell_type": "markdown",
   "metadata": {},
   "source": [
    "##### Из полученных df видно, следующее:  \n",
    " - средняя оценка для спортивных игр, в рейтинге средних оценок по всем жанрам, стоит на третьем месте (из 12) и ее значение больше средней оценки по всем жанрам (71.97 > 68.97);  \n",
    " - активность выставления оценок критиками для спортивных игр, так же выше среднего.\n",
    " \n",
    "##### Соответственно можно сделать вывод, что критикам нравятся спортивные игры."
   ]
  },
  {
   "cell_type": "markdown",
   "metadata": {},
   "source": [
    "#### Гипотезы.\n",
    "###### # H0: Критикам нравятся спортивные игры, в среднем, не более, чем на 69%, т.е. Critic_Score.mean() <= 69\n",
    "###### # H1: Критикам нравятся спортивные игры, в среднем, более, чем на 69%, т.е. Critic_Score.mean() > 69"
   ]
  },
  {
   "cell_type": "code",
   "execution_count": 218,
   "metadata": {},
   "outputs": [
    {
     "data": {
      "text/html": [
       "<div>\n",
       "<style scoped>\n",
       "    .dataframe tbody tr th:only-of-type {\n",
       "        vertical-align: middle;\n",
       "    }\n",
       "\n",
       "    .dataframe tbody tr th {\n",
       "        vertical-align: top;\n",
       "    }\n",
       "\n",
       "    .dataframe thead th {\n",
       "        text-align: right;\n",
       "    }\n",
       "</style>\n",
       "<table border=\"1\" class=\"dataframe\">\n",
       "  <thead>\n",
       "    <tr style=\"text-align: right;\">\n",
       "      <th></th>\n",
       "      <th>Genre</th>\n",
       "      <th>Platform</th>\n",
       "      <th>Critic_Score</th>\n",
       "      <th>Critic_Count</th>\n",
       "    </tr>\n",
       "  </thead>\n",
       "  <tbody>\n",
       "    <tr>\n",
       "      <th>0</th>\n",
       "      <td>Sports</td>\n",
       "      <td>Wii</td>\n",
       "      <td>76.0</td>\n",
       "      <td>51</td>\n",
       "    </tr>\n",
       "    <tr>\n",
       "      <th>3</th>\n",
       "      <td>Sports</td>\n",
       "      <td>Wii</td>\n",
       "      <td>80.0</td>\n",
       "      <td>73</td>\n",
       "    </tr>\n",
       "    <tr>\n",
       "      <th>13</th>\n",
       "      <td>Sports</td>\n",
       "      <td>Wii</td>\n",
       "      <td>80.0</td>\n",
       "      <td>63</td>\n",
       "    </tr>\n",
       "    <tr>\n",
       "      <th>15</th>\n",
       "      <td>Sports</td>\n",
       "      <td>Wii</td>\n",
       "      <td>80.0</td>\n",
       "      <td>33</td>\n",
       "    </tr>\n",
       "    <tr>\n",
       "      <th>77</th>\n",
       "      <td>Sports</td>\n",
       "      <td>PS4</td>\n",
       "      <td>82.0</td>\n",
       "      <td>42</td>\n",
       "    </tr>\n",
       "    <tr>\n",
       "      <th>...</th>\n",
       "      <td>...</td>\n",
       "      <td>...</td>\n",
       "      <td>...</td>\n",
       "      <td>...</td>\n",
       "    </tr>\n",
       "    <tr>\n",
       "      <th>16456</th>\n",
       "      <td>Sports</td>\n",
       "      <td>XB</td>\n",
       "      <td>78.0</td>\n",
       "      <td>8</td>\n",
       "    </tr>\n",
       "    <tr>\n",
       "      <th>16478</th>\n",
       "      <td>Sports</td>\n",
       "      <td>X360</td>\n",
       "      <td>57.0</td>\n",
       "      <td>5</td>\n",
       "    </tr>\n",
       "    <tr>\n",
       "      <th>16532</th>\n",
       "      <td>Sports</td>\n",
       "      <td>PC</td>\n",
       "      <td>78.0</td>\n",
       "      <td>8</td>\n",
       "    </tr>\n",
       "    <tr>\n",
       "      <th>16550</th>\n",
       "      <td>Sports</td>\n",
       "      <td>GBA</td>\n",
       "      <td>78.0</td>\n",
       "      <td>13</td>\n",
       "    </tr>\n",
       "    <tr>\n",
       "      <th>16555</th>\n",
       "      <td>Sports</td>\n",
       "      <td>PC</td>\n",
       "      <td>88.0</td>\n",
       "      <td>6</td>\n",
       "    </tr>\n",
       "  </tbody>\n",
       "</table>\n",
       "<p>1194 rows × 4 columns</p>\n",
       "</div>"
      ],
      "text/plain": [
       "        Genre Platform  Critic_Score  Critic_Count\n",
       "0      Sports      Wii          76.0            51\n",
       "3      Sports      Wii          80.0            73\n",
       "13     Sports      Wii          80.0            63\n",
       "15     Sports      Wii          80.0            33\n",
       "77     Sports      PS4          82.0            42\n",
       "...       ...      ...           ...           ...\n",
       "16456  Sports       XB          78.0             8\n",
       "16478  Sports     X360          57.0             5\n",
       "16532  Sports       PC          78.0             8\n",
       "16550  Sports      GBA          78.0            13\n",
       "16555  Sports       PC          88.0             6\n",
       "\n",
       "[1194 rows x 4 columns]"
      ]
     },
     "execution_count": 218,
     "metadata": {},
     "output_type": "execute_result"
    }
   ],
   "source": [
    "sports_critic_score = critic_games.loc[critic_games.Genre.str.contains('Sports')]\n",
    "sports_critic_score"
   ]
  },
  {
   "cell_type": "code",
   "execution_count": 219,
   "metadata": {},
   "outputs": [],
   "source": [
    "from scipy import stats as st"
   ]
  },
  {
   "cell_type": "code",
   "execution_count": 220,
   "metadata": {},
   "outputs": [
    {
     "name": "stdout",
     "output_type": "stream",
     "text": [
      "71.96817420435511\n",
      "Ttest_1sampResult(statistic=7.390113898370428, pvalue=2.751179415692182e-13)\n",
      "Отвергаем нулевую гипотезу, среднее значение оценок критиков для спортивных игр больше 69 (спортивные игры критикам нравятся)\n"
     ]
    }
   ],
   "source": [
    "alpha = 0.000000000001\n",
    "result = st.ttest_1samp(sports_critic_score['Critic_Score'], 69) #, alternative='greater')\n",
    "\n",
    "print(sports_critic_score['Critic_Score'].mean())\n",
    "print(result)\n",
    "\n",
    "if result.pvalue < alpha: \n",
    "    print('Отвергаем нулевую гипотезу, среднее значение оценок критиков для спортивных игр больше 69 (спортивные игры критикам нравятся)')\n",
    "else:\n",
    "    print('Не отвергаем нулевую гипотезу, спортивные игры критикам не нравятся')"
   ]
  },
  {
   "cell_type": "code",
   "execution_count": 221,
   "metadata": {},
   "outputs": [
    {
     "name": "stdout",
     "output_type": "stream",
     "text": [
      "Пороговый уровень статистической значимости равен : 1e-10 %\n"
     ]
    }
   ],
   "source": [
    "print('Пороговый уровень статистической значимости равен :', alpha*100, '%')"
   ]
  },
  {
   "cell_type": "code",
   "execution_count": 222,
   "metadata": {},
   "outputs": [],
   "source": [
    "import matplotlib.pyplot as plt\n",
    "import seaborn as sns\n",
    "from pylab import rcParams\n",
    "rcParams['figure.figsize'] = 11,5"
   ]
  },
  {
   "cell_type": "code",
   "execution_count": 223,
   "metadata": {},
   "outputs": [
    {
     "data": {
      "text/plain": [
       "Text(0.5, 1.0, 'Распределение оценок критиков для спортивных игр')"
      ]
     },
     "execution_count": 223,
     "metadata": {},
     "output_type": "execute_result"
    },
    {
     "data": {
      "image/png": "[encoded data removed]",
      "text/plain": [
       "<Figure size 792x360 with 1 Axes>"
      ]
     },
     "metadata": {
      "needs_background": "light"
     },
     "output_type": "display_data"
    }
   ],
   "source": [
    "sns.histplot(sports_critic_score, x='Critic_Score', color='blue')\n",
    "plt.title('Распределение оценок критиков для спортивных игр')"
   ]
  },
  {
   "cell_type": "markdown",
   "metadata": {},
   "source": [
    "###### Среднее значение оценок критиков для спортивных игр 71.97, что выше среднего значения оценок по всем жанрам.\n",
    "###### Значение p-value чень низкое, что без всяких сомнений дает нам право отвергнуть нулевую гипотезу.\n",
    "###### Значение t-статистики положительно, и подтверждает то, что cреднее значение оценок критиков для спортивных игр больше среднего значения оценок по всем жанрам."
   ]
  },
  {
   "cell_type": "code",
   "execution_count": null,
   "metadata": {},
   "outputs": [],
   "source": []
  },
  {
   "cell_type": "markdown",
   "metadata": {},
   "source": [
    "### 2. Критикам нравятся больше игры на PC или на PS4?"
   ]
  },
  {
   "cell_type": "code",
   "execution_count": 224,
   "metadata": {},
   "outputs": [
    {
     "data": {
      "text/html": [
       "<div>\n",
       "<style scoped>\n",
       "    .dataframe tbody tr th:only-of-type {\n",
       "        vertical-align: middle;\n",
       "    }\n",
       "\n",
       "    .dataframe tbody tr th {\n",
       "        vertical-align: top;\n",
       "    }\n",
       "\n",
       "    .dataframe thead th {\n",
       "        text-align: right;\n",
       "    }\n",
       "</style>\n",
       "<table border=\"1\" class=\"dataframe\">\n",
       "  <thead>\n",
       "    <tr style=\"text-align: right;\">\n",
       "      <th></th>\n",
       "      <th>Platform</th>\n",
       "      <th>Critic_Score</th>\n",
       "    </tr>\n",
       "  </thead>\n",
       "  <tbody>\n",
       "    <tr>\n",
       "      <th>5</th>\n",
       "      <td>PC</td>\n",
       "      <td>75.928671</td>\n",
       "    </tr>\n",
       "    <tr>\n",
       "      <th>9</th>\n",
       "      <td>PS4</td>\n",
       "      <td>72.091270</td>\n",
       "    </tr>\n",
       "  </tbody>\n",
       "</table>\n",
       "</div>"
      ],
      "text/plain": [
       "  Platform  Critic_Score\n",
       "5       PC     75.928671\n",
       "9      PS4     72.091270"
      ]
     },
     "execution_count": 224,
     "metadata": {},
     "output_type": "execute_result"
    }
   ],
   "source": [
    "critic_score_platforms = critic_games.groupby('Platform').Critic_Score.mean().reset_index()\n",
    "critic_score_two_platforms = critic_score_platforms.sort_values('Critic_Score', ascending=False)\\\n",
    "                                                   .loc[critic_score_platforms.Platform.isin(['PC','PS4'])]\n",
    "critic_score_two_platforms"
   ]
  },
  {
   "cell_type": "code",
   "execution_count": 225,
   "metadata": {},
   "outputs": [
    {
     "data": {
      "text/html": [
       "<div>\n",
       "<style scoped>\n",
       "    .dataframe tbody tr th:only-of-type {\n",
       "        vertical-align: middle;\n",
       "    }\n",
       "\n",
       "    .dataframe tbody tr th {\n",
       "        vertical-align: top;\n",
       "    }\n",
       "\n",
       "    .dataframe thead th {\n",
       "        text-align: right;\n",
       "    }\n",
       "</style>\n",
       "<table border=\"1\" class=\"dataframe\">\n",
       "  <thead>\n",
       "    <tr style=\"text-align: right;\">\n",
       "      <th></th>\n",
       "      <th>Platform</th>\n",
       "      <th>Critic_Score</th>\n",
       "    </tr>\n",
       "  </thead>\n",
       "  <tbody>\n",
       "    <tr>\n",
       "      <th>0</th>\n",
       "      <td>PC</td>\n",
       "      <td>80.0</td>\n",
       "    </tr>\n",
       "  </tbody>\n",
       "</table>\n",
       "</div>"
      ],
      "text/plain": [
       "  Platform  Critic_Score\n",
       "0       PC          80.0"
      ]
     },
     "execution_count": 225,
     "metadata": {},
     "output_type": "execute_result"
    }
   ],
   "source": [
    "critic_score_platforms_mode = critic_games[['Platform', 'Critic_Score']]\n",
    "critic_score_platforms_mode.loc[critic_score_platforms_mode.Platform.isin(['PC','PS4'])].mode()"
   ]
  },
  {
   "cell_type": "code",
   "execution_count": 226,
   "metadata": {},
   "outputs": [
    {
     "data": {
      "text/html": [
       "<div>\n",
       "<style scoped>\n",
       "    .dataframe tbody tr th:only-of-type {\n",
       "        vertical-align: middle;\n",
       "    }\n",
       "\n",
       "    .dataframe tbody tr th {\n",
       "        vertical-align: top;\n",
       "    }\n",
       "\n",
       "    .dataframe thead th {\n",
       "        text-align: right;\n",
       "    }\n",
       "</style>\n",
       "<table border=\"1\" class=\"dataframe\">\n",
       "  <thead>\n",
       "    <tr style=\"text-align: right;\">\n",
       "      <th></th>\n",
       "      <th>Platform</th>\n",
       "      <th>Critic_Count</th>\n",
       "    </tr>\n",
       "  </thead>\n",
       "  <tbody>\n",
       "    <tr>\n",
       "      <th>5</th>\n",
       "      <td>PC</td>\n",
       "      <td>19963</td>\n",
       "    </tr>\n",
       "    <tr>\n",
       "      <th>9</th>\n",
       "      <td>PS4</td>\n",
       "      <td>9820</td>\n",
       "    </tr>\n",
       "  </tbody>\n",
       "</table>\n",
       "</div>"
      ],
      "text/plain": [
       "  Platform  Critic_Count\n",
       "5       PC         19963\n",
       "9      PS4          9820"
      ]
     },
     "execution_count": 226,
     "metadata": {},
     "output_type": "execute_result"
    }
   ],
   "source": [
    "critic_count_platforms = critic_games.groupby('Platform').Critic_Count.sum().reset_index()\n",
    "critic_count_platforms.sort_values('Critic_Count', ascending=False).loc[critic_count_platforms.Platform.isin(['PC','PS4'])]"
   ]
  },
  {
   "cell_type": "code",
   "execution_count": 227,
   "metadata": {},
   "outputs": [
    {
     "data": {
      "text/plain": [
       "<matplotlib.legend.Legend at 0x274ae80cdf0>"
      ]
     },
     "execution_count": 227,
     "metadata": {},
     "output_type": "execute_result"
    },
    {
     "data": {
      "image/png": "[encoded data removed]",
      "text/plain": [
       "<Figure size 792x360 with 1 Axes>"
      ]
     },
     "metadata": {
      "needs_background": "light"
     },
     "output_type": "display_data"
    }
   ],
   "source": [
    "PC_df = critic_games.loc[critic_games.Platform.str.contains('PC')]\n",
    "PS4_df = critic_games.loc[critic_games.Platform.str.contains('PS4')]\n",
    "sns.histplot(PC_df, x='Critic_Score', color='green')\n",
    "sns.histplot(PS4_df, x='Critic_Score', color='red')\n",
    "plt.title('Распределение оценок критиков для PC и PS4')\n",
    "plt.legend(critic_score_two_platforms.Platform.unique())"
   ]
  },
  {
   "cell_type": "markdown",
   "metadata": {},
   "source": [
    "##### Из полученных df видно, следующее:  \n",
    " - средняя оценка для PC больше чем для PS4 (75.9 > 72.09);   \n",
    " - самая часто выстывляемая оценка \"80.0\" для PC;  \n",
    " - активность выставления оценок критиками для PC больше в два раза, чем для PS4.\n",
    " \n",
    "##### Соответственно можно сделать вывод, что критикам больше нравятся игры на PC, чем на PS4. Распределение оценок на визуализации это подтверждает."
   ]
  },
  {
   "cell_type": "markdown",
   "metadata": {},
   "source": [
    "#### Гипотезы.\n",
    "###### H0: Критикам нравятся игры на PS4 не менее, чем на PC, т.е. PS4.Critic_Score.mean() >= PC.Critic_Score.mean()\n",
    "###### H1: Критикам нравятся игры на PS4 меньше, чем на PC, т.е. PS4.Critic_Score.mean() < PC.Critic_Score.mean()"
   ]
  },
  {
   "cell_type": "code",
   "execution_count": 228,
   "metadata": {},
   "outputs": [
    {
     "name": "stdout",
     "output_type": "stream",
     "text": [
      "Разница средних значений оценок критиков по платформам (PC-PS4):  3.84\n",
      "Ttest_indResult(statistic=4.3087588262138725, pvalue=2.067249157283479e-05)\n",
      "Отвергаем нулевую гипотезу, среднее значение оценок критиков для PS4 меньше среднего значения оценок для PC                     (критикам больше нравятся игры на PC, чем на PS4)\n"
     ]
    }
   ],
   "source": [
    "alpha = 0.000021\n",
    "result = st.ttest_ind(PC_df.Critic_Score, PS4_df.Critic_Score, equal_var = False)\n",
    "\n",
    "print('Разница средних значений оценок критиков по платформам (PC-PS4): ',\\\n",
    "      round(PC_df.Critic_Score.mean() - PS4_df.Critic_Score.mean(), 2))\n",
    "print(result)\n",
    "\n",
    "if result.pvalue < alpha:\n",
    "    print('Отвергаем нулевую гипотезу, среднее значение оценок критиков для PS4 меньше среднего значения оценок для PC \\\n",
    "                    (критикам больше нравятся игры на PC, чем на PS4)')\n",
    "else:\n",
    "    print('Не отвергаем нулевую гипотезу, критикам нравятся игры на PS4 не меньше чем на PC')"
   ]
  },
  {
   "cell_type": "code",
   "execution_count": 229,
   "metadata": {},
   "outputs": [
    {
     "name": "stdout",
     "output_type": "stream",
     "text": [
      "Пороговый уровень статистической значимости равен : 0.0021 %\n"
     ]
    }
   ],
   "source": [
    "print('Пороговый уровень статистической значимости равен :', alpha*100, '%')"
   ]
  },
  {
   "cell_type": "markdown",
   "metadata": {},
   "source": [
    "###### Разница средних значений оценок критиков для игр на PC и PS4 равна 3.84, что говорит о том, что критикам больше нравятся игры на PC, чем на PS4.\n",
    "###### Значение p-value низкое, при котором мы, без сомнений,  отвергаем нулевую гипотезу.\n",
    "###### Значение t-статистики положительно, и подтверждает то, что критикам больше нравятся игры на PC, чем на PS4."
   ]
  },
  {
   "cell_type": "code",
   "execution_count": null,
   "metadata": {},
   "outputs": [],
   "source": []
  },
  {
   "cell_type": "markdown",
   "metadata": {},
   "source": [
    "### 3. Критикам больше нравятся стрелялки или стратегии?"
   ]
  },
  {
   "cell_type": "code",
   "execution_count": 230,
   "metadata": {},
   "outputs": [
    {
     "data": {
      "text/html": [
       "<div>\n",
       "<style scoped>\n",
       "    .dataframe tbody tr th:only-of-type {\n",
       "        vertical-align: middle;\n",
       "    }\n",
       "\n",
       "    .dataframe tbody tr th {\n",
       "        vertical-align: top;\n",
       "    }\n",
       "\n",
       "    .dataframe thead th {\n",
       "        text-align: right;\n",
       "    }\n",
       "</style>\n",
       "<table border=\"1\" class=\"dataframe\">\n",
       "  <thead>\n",
       "    <tr style=\"text-align: right;\">\n",
       "      <th></th>\n",
       "      <th>Genre</th>\n",
       "      <th>Critic_Score</th>\n",
       "    </tr>\n",
       "  </thead>\n",
       "  <tbody>\n",
       "    <tr>\n",
       "      <th>11</th>\n",
       "      <td>Strategy</td>\n",
       "      <td>72.086093</td>\n",
       "    </tr>\n",
       "    <tr>\n",
       "      <th>8</th>\n",
       "      <td>Shooter</td>\n",
       "      <td>70.181144</td>\n",
       "    </tr>\n",
       "  </tbody>\n",
       "</table>\n",
       "</div>"
      ],
      "text/plain": [
       "       Genre  Critic_Score\n",
       "11  Strategy     72.086093\n",
       "8    Shooter     70.181144"
      ]
     },
     "execution_count": 230,
     "metadata": {},
     "output_type": "execute_result"
    }
   ],
   "source": [
    "critic_score_genres = critic_games.groupby('Genre').Critic_Score.mean().reset_index()\n",
    "critic_score_two_genres = critic_score_genres.sort_values('Critic_Score', ascending=False)\\\n",
    "                                             .loc[critic_score_genres.Genre.isin(['Shooter','Strategy'])]\n",
    "critic_score_two_genres"
   ]
  },
  {
   "cell_type": "code",
   "execution_count": 231,
   "metadata": {},
   "outputs": [
    {
     "data": {
      "text/html": [
       "<div>\n",
       "<style scoped>\n",
       "    .dataframe tbody tr th:only-of-type {\n",
       "        vertical-align: middle;\n",
       "    }\n",
       "\n",
       "    .dataframe tbody tr th {\n",
       "        vertical-align: top;\n",
       "    }\n",
       "\n",
       "    .dataframe thead th {\n",
       "        text-align: right;\n",
       "    }\n",
       "</style>\n",
       "<table border=\"1\" class=\"dataframe\">\n",
       "  <thead>\n",
       "    <tr style=\"text-align: right;\">\n",
       "      <th></th>\n",
       "      <th>Genre</th>\n",
       "      <th>Critic_Score</th>\n",
       "    </tr>\n",
       "  </thead>\n",
       "  <tbody>\n",
       "    <tr>\n",
       "      <th>0</th>\n",
       "      <td>Shooter</td>\n",
       "      <td>78.0</td>\n",
       "    </tr>\n",
       "  </tbody>\n",
       "</table>\n",
       "</div>"
      ],
      "text/plain": [
       "     Genre  Critic_Score\n",
       "0  Shooter          78.0"
      ]
     },
     "execution_count": 231,
     "metadata": {},
     "output_type": "execute_result"
    }
   ],
   "source": [
    "critic_score_genres_mode = critic_games[['Genre', 'Critic_Score']]\n",
    "critic_score_genres_mode.loc[critic_score_genres_mode.Genre.isin(['Shooter','Strategy'])].mode()"
   ]
  },
  {
   "cell_type": "code",
   "execution_count": 232,
   "metadata": {},
   "outputs": [
    {
     "data": {
      "text/html": [
       "<div>\n",
       "<style scoped>\n",
       "    .dataframe tbody tr th:only-of-type {\n",
       "        vertical-align: middle;\n",
       "    }\n",
       "\n",
       "    .dataframe tbody tr th {\n",
       "        vertical-align: top;\n",
       "    }\n",
       "\n",
       "    .dataframe thead th {\n",
       "        text-align: right;\n",
       "    }\n",
       "</style>\n",
       "<table border=\"1\" class=\"dataframe\">\n",
       "  <thead>\n",
       "    <tr style=\"text-align: right;\">\n",
       "      <th></th>\n",
       "      <th>Genre</th>\n",
       "      <th>Critic_Count</th>\n",
       "    </tr>\n",
       "  </thead>\n",
       "  <tbody>\n",
       "    <tr>\n",
       "      <th>8</th>\n",
       "      <td>Shooter</td>\n",
       "      <td>33616</td>\n",
       "    </tr>\n",
       "    <tr>\n",
       "      <th>11</th>\n",
       "      <td>Strategy</td>\n",
       "      <td>8538</td>\n",
       "    </tr>\n",
       "  </tbody>\n",
       "</table>\n",
       "</div>"
      ],
      "text/plain": [
       "       Genre  Critic_Count\n",
       "8    Shooter         33616\n",
       "11  Strategy          8538"
      ]
     },
     "execution_count": 232,
     "metadata": {},
     "output_type": "execute_result"
    }
   ],
   "source": [
    "critic_count_genres = critic_games.groupby('Genre').Critic_Count.sum().reset_index()\n",
    "critic_count_genres.sort_values('Critic_Count', ascending=False).loc[critic_count_genres.Genre.isin(['Shooter','Strategy'])]"
   ]
  },
  {
   "cell_type": "code",
   "execution_count": 233,
   "metadata": {},
   "outputs": [
    {
     "data": {
      "text/plain": [
       "<matplotlib.legend.Legend at 0x274b44f6100>"
      ]
     },
     "execution_count": 233,
     "metadata": {},
     "output_type": "execute_result"
    },
    {
     "data": {
      "image/png": "[encoded data removed]",
      "text/plain": [
       "<Figure size 792x360 with 1 Axes>"
      ]
     },
     "metadata": {
      "needs_background": "light"
     },
     "output_type": "display_data"
    }
   ],
   "source": [
    "Shooter_df = critic_games.loc[critic_games.Genre.str.contains('Shooter')]\n",
    "Strategy_df = critic_games.loc[critic_games.Genre.str.contains('Strategy')]\n",
    "sns.histplot(Shooter_df, x='Critic_Score', color='orange')\n",
    "sns.histplot(Strategy_df, x='Critic_Score', color='black')\n",
    "plt.title('Распределение оценок критиков для стрелялок и стратегий')\n",
    "critic_score_plt = critic_score_two_genres.sort_values('Critic_Score', ascending=True)\n",
    "plt.legend(critic_score_plt.Genre)"
   ]
  },
  {
   "cell_type": "markdown",
   "metadata": {},
   "source": [
    "##### Из полученных df видно, следующее:  \n",
    " - средняя оценка для Стрелялок меньше, чем для Стратегий (70.2 < 72.1);   \n",
    " - при этом самая часто выстывляемая оценка \"78.0\" принадлежит стрелялкам;  \n",
    " - и активность выставления оценок критиками за Стрелялки больше в 4 раза, чем за Стратегии;  \n",
    " - визуализация показывает, что для Стрелялок оценки критиками выставлялись активнее, чем для Стратегии."
   ]
  },
  {
   "cell_type": "markdown",
   "metadata": {},
   "source": [
    "##### Исходя из полученных рузультатов осмелюсь предположить, что критикам больше нравятся Стрелялки, чем Стратегии (хоть и среднее значение оценок для Стрелялок меньше, чем среднее значение для Стратегий). Обосную этот вывод разницей проявления интереса к этим жанрам. Т.е. выставление оценок для Стрелялок гораздо больше, чем для Стратегий."
   ]
  },
  {
   "cell_type": "markdown",
   "metadata": {},
   "source": [
    "#### Гипотезы.\n",
    "###### H0: Критикам нравятся стратегии не менее, чем стрелялки, т.е. Strategy.Critic_Count.sum() >= Shooter.Critic_Count.sum()\n",
    "###### H1: Критикам нравятся стрелялки больше, чем стратегии, т.е. Strategy.Critic_Count.sum() < Shooter.Critic_Count.sum()"
   ]
  },
  {
   "cell_type": "code",
   "execution_count": 258,
   "metadata": {},
   "outputs": [
    {
     "name": "stdout",
     "output_type": "stream",
     "text": [
      "Отношение количества критиков, выставляемых оценки по жанрам (Shooter / Strategy):  3.94\n",
      "Ttest_indResult(statistic=5.80206144169481, pvalue=1.0668209140151038e-08)\n",
      "Не отвергаем нулевую гипотезу, критикам нравятся Стратегии не меньше чем Стрелялки\n"
     ]
    }
   ],
   "source": [
    "alpha = 1.0000000000000001e-500\n",
    "result = st.ttest_ind(Shooter_df.Critic_Count, Strategy_df.Critic_Count, equal_var = False)\n",
    "\n",
    "print('Отношение количества критиков, выставляемых оценки по жанрам (Shooter / Strategy): ',\\\n",
    "      round(Shooter_df.Critic_Count.sum() / Strategy_df.Critic_Count.sum(), 2))\n",
    "print(result)\n",
    "\n",
    "if result.pvalue < alpha:\n",
    "    print('Отвергаем нулевую гипотезу, количество критиков, выставляемых оценки для Стратегий меньше количества критиков, \\\n",
    "выставляемых оценки для Стрелялок (критикам больше нравятся Стрелялки, чем Стратегии)')\n",
    "else:\n",
    "    print('Не отвергаем нулевую гипотезу, критикам нравятся Стратегии не меньше чем Стрелялки')"
   ]
  },
  {
   "cell_type": "code",
   "execution_count": 259,
   "metadata": {},
   "outputs": [
    {
     "name": "stdout",
     "output_type": "stream",
     "text": [
      "Пороговый уровень статистической значимости равен : 0.0 %\n"
     ]
    }
   ],
   "source": [
    "print('Пороговый уровень статистической значимости равен :', alpha*100, '%')"
   ]
  },
  {
   "cell_type": "markdown",
   "metadata": {},
   "source": [
    "###### Отношение средних значений количеств критиков, выставляемых оценки по жанрам (Shooter / Strategy) равна 1.26, что говорит о том, что критики больше проявляют интерес к Стрелялкам, чем к Стратегиям.\n",
    "###### Значение p-value низкое, при котором мы, без сомнений,  отвергаем нулевую гипотезу.\n",
    "###### Значение t-статистики положительно, и подтверждает то, что критикам больше нравятся игры на PC, чем на PS4."
   ]
  },
  {
   "cell_type": "code",
   "execution_count": null,
   "metadata": {},
   "outputs": [],
   "source": []
  },
  {
   "cell_type": "markdown",
   "metadata": {},
   "source": [
    "## Задание 2\n",
    "Реализуйте базовую модель логистической регрессии для классификации текстовых сообщений (используемые данные здесь) по признаку спама. Для этого:  \n",
    "\n",
    "1) Привидите весь текст к нижнему регистру;  \n",
    "2) Удалите мусорные символы;  \n",
    "3) Удалите стоп-слова;  \n",
    "4) Привидите все слова к нормальной форме;  \n",
    "5) Преобразуйте все сообщения в вектора TF-IDF. Вам поможет следующий код:  \n",
    "\n",
    "    from sklearn.feature_extraction.text import TfidfVectorizer\n",
    "\n",
    "    tfidf = TfidfVectorizer()\n",
    "    tfidf_matrix = tfidf.fit_transform(df.Message)\n",
    "    names = tfidf.get_feature_names()\n",
    "    tfidf_matrix = pd.DataFrame(tfidf_matrix.toarray(), columns=names)\n",
    "    \n",
    "Можете поэкспериментировать с параметрами TfidfVectorizer;  \n",
    "6) Разделите данные на тестовые и тренировочные в соотношении 30/70, укажите random_state=42. Используйте train_test_split;  \n",
    "7) Постройте модель логистической регрессии, укажите random_state=42, оцените ее точность на тестовых данных;  \n",
    "8) Опишите результаты при помощи confusion_matrix;  \n",
    "9) Постройте датафрейм, который будет содержать все исходные тексты сообщений, классифицированные неправильно (с указанием фактического и предсказанного)."
   ]
  },
  {
   "cell_type": "code",
   "execution_count": 260,
   "metadata": {},
   "outputs": [
    {
     "data": {
      "text/html": [
       "<div>\n",
       "<style scoped>\n",
       "    .dataframe tbody tr th:only-of-type {\n",
       "        vertical-align: middle;\n",
       "    }\n",
       "\n",
       "    .dataframe tbody tr th {\n",
       "        vertical-align: top;\n",
       "    }\n",
       "\n",
       "    .dataframe thead th {\n",
       "        text-align: right;\n",
       "    }\n",
       "</style>\n",
       "<table border=\"1\" class=\"dataframe\">\n",
       "  <thead>\n",
       "    <tr style=\"text-align: right;\">\n",
       "      <th></th>\n",
       "      <th>Category</th>\n",
       "      <th>Message</th>\n",
       "    </tr>\n",
       "  </thead>\n",
       "  <tbody>\n",
       "    <tr>\n",
       "      <th>0</th>\n",
       "      <td>ham</td>\n",
       "      <td>Go until jurong point, crazy.. Available only ...</td>\n",
       "    </tr>\n",
       "    <tr>\n",
       "      <th>1</th>\n",
       "      <td>ham</td>\n",
       "      <td>Ok lar... Joking wif u oni...</td>\n",
       "    </tr>\n",
       "    <tr>\n",
       "      <th>2</th>\n",
       "      <td>spam</td>\n",
       "      <td>Free entry in 2 a wkly comp to win FA Cup fina...</td>\n",
       "    </tr>\n",
       "    <tr>\n",
       "      <th>3</th>\n",
       "      <td>ham</td>\n",
       "      <td>U dun say so early hor... U c already then say...</td>\n",
       "    </tr>\n",
       "    <tr>\n",
       "      <th>4</th>\n",
       "      <td>ham</td>\n",
       "      <td>Nah I don't think he goes to usf, he lives aro...</td>\n",
       "    </tr>\n",
       "    <tr>\n",
       "      <th>...</th>\n",
       "      <td>...</td>\n",
       "      <td>...</td>\n",
       "    </tr>\n",
       "    <tr>\n",
       "      <th>5567</th>\n",
       "      <td>spam</td>\n",
       "      <td>This is the 2nd time we have tried 2 contact u...</td>\n",
       "    </tr>\n",
       "    <tr>\n",
       "      <th>5568</th>\n",
       "      <td>ham</td>\n",
       "      <td>Will ü b going to esplanade fr home?</td>\n",
       "    </tr>\n",
       "    <tr>\n",
       "      <th>5569</th>\n",
       "      <td>ham</td>\n",
       "      <td>Pity, * was in mood for that. So...any other s...</td>\n",
       "    </tr>\n",
       "    <tr>\n",
       "      <th>5570</th>\n",
       "      <td>ham</td>\n",
       "      <td>The guy did some bitching but I acted like i'd...</td>\n",
       "    </tr>\n",
       "    <tr>\n",
       "      <th>5571</th>\n",
       "      <td>ham</td>\n",
       "      <td>Rofl. Its true to its name</td>\n",
       "    </tr>\n",
       "  </tbody>\n",
       "</table>\n",
       "<p>5572 rows × 2 columns</p>\n",
       "</div>"
      ],
      "text/plain": [
       "     Category                                            Message\n",
       "0         ham  Go until jurong point, crazy.. Available only ...\n",
       "1         ham                      Ok lar... Joking wif u oni...\n",
       "2        spam  Free entry in 2 a wkly comp to win FA Cup fina...\n",
       "3         ham  U dun say so early hor... U c already then say...\n",
       "4         ham  Nah I don't think he goes to usf, he lives aro...\n",
       "...       ...                                                ...\n",
       "5567     spam  This is the 2nd time we have tried 2 contact u...\n",
       "5568      ham               Will ü b going to esplanade fr home?\n",
       "5569      ham  Pity, * was in mood for that. So...any other s...\n",
       "5570      ham  The guy did some bitching but I acted like i'd...\n",
       "5571      ham                         Rofl. Its true to its name\n",
       "\n",
       "[5572 rows x 2 columns]"
      ]
     },
     "execution_count": 260,
     "metadata": {},
     "output_type": "execute_result"
    }
   ],
   "source": [
    "msgs = pd.read_html('https://github.com/obulygin/pyda_homeworks/blob/master/stat_case_study/spam.csv')[0]\n",
    "msgs = msgs[['Category', 'Message']]\n",
    "msgs"
   ]
  },
  {
   "cell_type": "code",
   "execution_count": null,
   "metadata": {},
   "outputs": [],
   "source": []
  },
  {
   "cell_type": "code",
   "execution_count": null,
   "metadata": {},
   "outputs": [],
   "source": []
  },
  {
   "cell_type": "code",
   "execution_count": null,
   "metadata": {},
   "outputs": [],
   "source": []
  },
  {
   "cell_type": "code",
   "execution_count": null,
   "metadata": {},
   "outputs": [],
   "source": []
  },
  {
   "cell_type": "code",
   "execution_count": null,
   "metadata": {},
   "outputs": [],
   "source": []
  },
  {
   "cell_type": "code",
   "execution_count": null,
   "metadata": {},
   "outputs": [],
   "source": [
    "from sklearn.model_selection import train_test_split"
   ]
  },
  {
   "cell_type": "code",
   "execution_count": null,
   "metadata": {},
   "outputs": [],
   "source": []
  },
  {
   "cell_type": "code",
   "execution_count": null,
   "metadata": {},
   "outputs": [],
   "source": []
  },
  {
   "cell_type": "code",
   "execution_count": null,
   "metadata": {},
   "outputs": [],
   "source": []
  },
  {
   "cell_type": "code",
   "execution_count": null,
   "metadata": {},
   "outputs": [],
   "source": []
  },
  {
   "cell_type": "code",
   "execution_count": null,
   "metadata": {},
   "outputs": [],
   "source": []
  },
  {
   "cell_type": "code",
   "execution_count": null,
   "metadata": {},
   "outputs": [],
   "source": []
  },
  {
   "cell_type": "code",
   "execution_count": null,
   "metadata": {},
   "outputs": [],
   "source": []
  },
  {
   "cell_type": "code",
   "execution_count": null,
   "metadata": {},
   "outputs": [],
   "source": []
  },
  {
   "cell_type": "code",
   "execution_count": null,
   "metadata": {},
   "outputs": [],
   "source": []
  }
 ],
 "metadata": {
  "kernelspec": {
   "display_name": "Python 3",
   "language": "python",
   "name": "python3"
  },
  "language_info": {
   "codemirror_mode": {
    "name": "ipython",
    "version": 3
   },
   "file_extension": ".py",
   "mimetype": "text/x-python",
   "name": "python",
   "nbconvert_exporter": "python",
   "pygments_lexer": "ipython3",
   "version": "3.8.5"
  }
 },
 "nbformat": 4,
 "nbformat_minor": 4
}
