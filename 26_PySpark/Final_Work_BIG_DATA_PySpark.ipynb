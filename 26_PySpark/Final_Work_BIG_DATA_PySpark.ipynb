{
  "nbformat": 4,
  "nbformat_minor": 0,
  "metadata": {
    "colab": {
      "name": "Final_Work_BIG_DATA_PySpark.ipynb",
      "provenance": [],
      "collapsed_sections": []
    },
    "kernelspec": {
      "name": "python3",
      "display_name": "Python 3"
    },
    "language_info": {
      "name": "python"
    }
  },
  "cells": [
    {
      "cell_type": "markdown",
      "metadata": {
        "id": "8Hr6UoUKruRv"
      },
      "source": [
        "# Итоговая работа по курсу BIG DATA (PySpark)"
      ]
    },
    {
      "cell_type": "code",
      "metadata": {
        "id": "s5eSkjOUkGnn",
        "colab": {
          "base_uri": "https://localhost:8080/"
        },
        "outputId": "0167663b-79a6-4122-b209-b95b0893f855"
      },
      "source": [
        "!apt-get update"
      ],
      "execution_count": 2,
      "outputs": [
        {
          "output_type": "stream",
          "name": "stdout",
          "text": [
            "Get:1 https://cloud.r-project.org/bin/linux/ubuntu bionic-cran40/ InRelease [3,626 B]\n",
            "Ign:2 https://developer.download.nvidia.com/compute/cuda/repos/ubuntu1804/x86_64  InRelease\n",
            "Get:3 http://security.ubuntu.com/ubuntu bionic-security InRelease [88.7 kB]\n",
            "Ign:4 https://developer.download.nvidia.com/compute/machine-learning/repos/ubuntu1804/x86_64  InRelease\n",
            "Hit:5 http://ppa.launchpad.net/c2d4u.team/c2d4u4.0+/ubuntu bionic InRelease\n",
            "Hit:6 http://archive.ubuntu.com/ubuntu bionic InRelease\n",
            "Hit:7 https://developer.download.nvidia.com/compute/cuda/repos/ubuntu1804/x86_64  Release\n",
            "Hit:8 https://developer.download.nvidia.com/compute/machine-learning/repos/ubuntu1804/x86_64  Release\n",
            "Get:9 http://archive.ubuntu.com/ubuntu bionic-updates InRelease [88.7 kB]\n",
            "Hit:10 http://ppa.launchpad.net/cran/libgit2/ubuntu bionic InRelease\n",
            "Hit:12 http://ppa.launchpad.net/deadsnakes/ppa/ubuntu bionic InRelease\n",
            "Get:14 http://archive.ubuntu.com/ubuntu bionic-backports InRelease [74.6 kB]\n",
            "Get:15 http://security.ubuntu.com/ubuntu bionic-security/universe amd64 Packages [1,431 kB]\n",
            "Hit:16 http://ppa.launchpad.net/graphics-drivers/ppa/ubuntu bionic InRelease\n",
            "Get:17 http://archive.ubuntu.com/ubuntu bionic-updates/restricted amd64 Packages [640 kB]\n",
            "Get:18 http://security.ubuntu.com/ubuntu bionic-security/restricted amd64 Packages [607 kB]\n",
            "Get:19 http://security.ubuntu.com/ubuntu bionic-security/main amd64 Packages [2,367 kB]\n",
            "Get:20 http://archive.ubuntu.com/ubuntu bionic-updates/universe amd64 Packages [2,210 kB]\n",
            "Get:21 http://archive.ubuntu.com/ubuntu bionic-updates/main amd64 Packages [2,803 kB]\n",
            "Fetched 10.3 MB in 4s (2,420 kB/s)\n",
            "Reading package lists... Done\n"
          ]
        }
      ]
    },
    {
      "cell_type": "code",
      "metadata": {
        "id": "7BIKhVbqrr-1"
      },
      "source": [
        "!apt-get install openjdk-8-jdk-headless -qq > /dev/null"
      ],
      "execution_count": 3,
      "outputs": []
    },
    {
      "cell_type": "code",
      "metadata": {
        "id": "QaUdCiPlrr73"
      },
      "source": [
        "!wget -q https://downloads.apache.org/spark/spark-3.1.2/spark-3.1.2-bin-hadoop2.7.tgz"
      ],
      "execution_count": 4,
      "outputs": []
    },
    {
      "cell_type": "code",
      "metadata": {
        "id": "ZkLwIiI1rr5D"
      },
      "source": [
        "!tar -xvf spark-3.1.2-bin-hadoop2.7.tgz"
      ],
      "execution_count": null,
      "outputs": []
    },
    {
      "cell_type": "code",
      "metadata": {
        "id": "bxWfAtH2rr1y"
      },
      "source": [
        "!pip install -q findspark"
      ],
      "execution_count": 6,
      "outputs": []
    },
    {
      "cell_type": "code",
      "metadata": {
        "id": "52TcMyeWr9O_"
      },
      "source": [
        "import os\n",
        "os.environ[\"JAVA_HOME\"] = \"/usr/lib/jvm/java-8-openjdk-amd64\"\n",
        "os.environ[\"SPARK_HOME\"] = \"/content/spark-3.1.2-bin-hadoop2.7\""
      ],
      "execution_count": 7,
      "outputs": []
    },
    {
      "cell_type": "code",
      "metadata": {
        "id": "XhsGdCzrr9MZ"
      },
      "source": [
        "import findspark\n",
        "findspark.init()\n",
        "from pyspark.sql import SparkSession\n",
        "\n",
        "spark = SparkSession.builder.master(\"local[*]\").getOrCreate()\n",
        "sc = spark.sparkContext"
      ],
      "execution_count": 8,
      "outputs": []
    },
    {
      "cell_type": "markdown",
      "metadata": {
        "id": "FIyO3hLcDkt3"
      },
      "source": [
        "### 1. Загрузка данных"
      ]
    },
    {
      "cell_type": "code",
      "metadata": {
        "colab": {
          "base_uri": "https://localhost:8080/"
        },
        "id": "QJJmXWcHr9G_",
        "outputId": "4c2b48c3-5570-4d05-f782-e0f027f6751b"
      },
      "source": [
        "ratings = spark.read.csv('u.data.csv', sep='\\t', inferSchema=True, header=None)\n",
        "ratings.take(5)"
      ],
      "execution_count": 9,
      "outputs": [
        {
          "output_type": "execute_result",
          "data": {
            "text/plain": [
              "[Row(_c0=196, _c1=242, _c2=3, _c3=881250949),\n",
              " Row(_c0=186, _c1=302, _c2=3, _c3=891717742),\n",
              " Row(_c0=22, _c1=377, _c2=1, _c3=878887116),\n",
              " Row(_c0=244, _c1=51, _c2=2, _c3=880606923),\n",
              " Row(_c0=166, _c1=346, _c2=1, _c3=886397596)]"
            ]
          },
          "metadata": {},
          "execution_count": 9
        }
      ]
    },
    {
      "cell_type": "code",
      "metadata": {
        "colab": {
          "base_uri": "https://localhost:8080/"
        },
        "id": "s1Lerb5Ur9ES",
        "outputId": "96acbcc2-9305-4be7-8d0f-6dffc1ae3941"
      },
      "source": [
        "ratings = ratings.withColumnRenamed('_c0', 'User_id').withColumnRenamed('_c1', 'Movie_id').withColumnRenamed('_c2', 'Rating').withColumnRenamed('_c3', 'Timestamp')\n",
        "ratings.show()"
      ],
      "execution_count": 10,
      "outputs": [
        {
          "output_type": "stream",
          "name": "stdout",
          "text": [
            "+-------+--------+------+---------+\n",
            "|User_id|Movie_id|Rating|Timestamp|\n",
            "+-------+--------+------+---------+\n",
            "|    196|     242|     3|881250949|\n",
            "|    186|     302|     3|891717742|\n",
            "|     22|     377|     1|878887116|\n",
            "|    244|      51|     2|880606923|\n",
            "|    166|     346|     1|886397596|\n",
            "|    298|     474|     4|884182806|\n",
            "|    115|     265|     2|881171488|\n",
            "|    253|     465|     5|891628467|\n",
            "|    305|     451|     3|886324817|\n",
            "|      6|      86|     3|883603013|\n",
            "|     62|     257|     2|879372434|\n",
            "|    286|    1014|     5|879781125|\n",
            "|    200|     222|     5|876042340|\n",
            "|    210|      40|     3|891035994|\n",
            "|    224|      29|     3|888104457|\n",
            "|    303|     785|     3|879485318|\n",
            "|    122|     387|     5|879270459|\n",
            "|    194|     274|     2|879539794|\n",
            "|    291|    1042|     4|874834944|\n",
            "|    234|    1184|     2|892079237|\n",
            "+-------+--------+------+---------+\n",
            "only showing top 20 rows\n",
            "\n"
          ]
        }
      ]
    },
    {
      "cell_type": "code",
      "metadata": {
        "colab": {
          "base_uri": "https://localhost:8080/"
        },
        "id": "Qp5T4AkMr64Z",
        "outputId": "d519d57c-2477-4cb2-c5e3-bbbf92718f07"
      },
      "source": [
        "ratings.describe().show()"
      ],
      "execution_count": 11,
      "outputs": [
        {
          "output_type": "stream",
          "name": "stdout",
          "text": [
            "+-------+------------------+------------------+------------------+-----------------+\n",
            "|summary|           User_id|          Movie_id|            Rating|        Timestamp|\n",
            "+-------+------------------+------------------+------------------+-----------------+\n",
            "|  count|            100000|            100000|            100000|           100000|\n",
            "|   mean|         462.48475|         425.53013|           3.52986|8.8352885148862E8|\n",
            "| stddev|266.61442012750905|330.79835632558473|1.1256735991443214|5343856.189502848|\n",
            "|    min|                 1|                 1|                 1|        874724710|\n",
            "|    max|               943|              1682|                 5|        893286638|\n",
            "+-------+------------------+------------------+------------------+-----------------+\n",
            "\n"
          ]
        }
      ]
    },
    {
      "cell_type": "code",
      "metadata": {
        "colab": {
          "base_uri": "https://localhost:8080/"
        },
        "id": "ukZqSq3Fr_mt",
        "outputId": "bdc1ca9c-669e-43c4-f92d-56e0f492ce8e"
      },
      "source": [
        "movies = spark.read.csv('u.item.csv', sep='|', inferSchema=True, header=None)\n",
        "movies.take(5)"
      ],
      "execution_count": 12,
      "outputs": [
        {
          "output_type": "execute_result",
          "data": {
            "text/plain": [
              "[Row(_c0=1, _c1='Toy Story (1995)', _c2='01-Jan-1995', _c3=None, _c4='http://us.imdb.com/M/title-exact?Toy%20Story%20(1995)', _c5=0, _c6=0, _c7=0, _c8=1, _c9=1, _c10=1, _c11=0, _c12=0, _c13=0, _c14=0, _c15=0, _c16=0, _c17=0, _c18=0, _c19=0, _c20=0, _c21=0, _c22=0, _c23=0),\n",
              " Row(_c0=2, _c1='GoldenEye (1995)', _c2='01-Jan-1995', _c3=None, _c4='http://us.imdb.com/M/title-exact?GoldenEye%20(1995)', _c5=0, _c6=1, _c7=1, _c8=0, _c9=0, _c10=0, _c11=0, _c12=0, _c13=0, _c14=0, _c15=0, _c16=0, _c17=0, _c18=0, _c19=0, _c20=0, _c21=1, _c22=0, _c23=0),\n",
              " Row(_c0=3, _c1='Four Rooms (1995)', _c2='01-Jan-1995', _c3=None, _c4='http://us.imdb.com/M/title-exact?Four%20Rooms%20(1995)', _c5=0, _c6=0, _c7=0, _c8=0, _c9=0, _c10=0, _c11=0, _c12=0, _c13=0, _c14=0, _c15=0, _c16=0, _c17=0, _c18=0, _c19=0, _c20=0, _c21=1, _c22=0, _c23=0),\n",
              " Row(_c0=4, _c1='Get Shorty (1995)', _c2='01-Jan-1995', _c3=None, _c4='http://us.imdb.com/M/title-exact?Get%20Shorty%20(1995)', _c5=0, _c6=1, _c7=0, _c8=0, _c9=0, _c10=1, _c11=0, _c12=0, _c13=1, _c14=0, _c15=0, _c16=0, _c17=0, _c18=0, _c19=0, _c20=0, _c21=0, _c22=0, _c23=0),\n",
              " Row(_c0=5, _c1='Copycat (1995)', _c2='01-Jan-1995', _c3=None, _c4='http://us.imdb.com/M/title-exact?Copycat%20(1995)', _c5=0, _c6=0, _c7=0, _c8=0, _c9=0, _c10=0, _c11=1, _c12=0, _c13=1, _c14=0, _c15=0, _c16=0, _c17=0, _c18=0, _c19=0, _c20=0, _c21=1, _c22=0, _c23=0)]"
            ]
          },
          "metadata": {},
          "execution_count": 12
        }
      ]
    },
    {
      "cell_type": "code",
      "metadata": {
        "id": "JGKHcXjEyiUG"
      },
      "source": [
        "from pyspark.sql.functions import col"
      ],
      "execution_count": 13,
      "outputs": []
    },
    {
      "cell_type": "code",
      "metadata": {
        "id": "J_GQiPJCsMz2"
      },
      "source": [
        "movies = movies.select(col('_c0').alias('Movie_id'), col('_c1').alias('Movie_name'), col('_c2').alias('Release_date'), col('_c3').alias('Video_date'), col('_c4').alias('IMDb_URL'), col('_c5').alias('?'),\\\n",
        "                       col('_c6').alias('Action'), col('_c7').alias('Adventure'), col('_c8').alias('Animation'), col('_c9').alias('Child'), col('_c10').alias('Comedy'), col('_c11').alias('Detective'),\\\n",
        "                       col('_c12').alias('Docs'), col('_c13').alias('Drama'), col('_c14').alias('Fantasy'), col('_c15').alias('Noir'), col('_c16').alias('Horror'), col('_c17').alias('Musical'),\\\n",
        "                       col('_c18').alias('Mystic'), col('_c19').alias('Romantic'), col('_c20').alias('Science'), col('_c21').alias('Thriller'), col('_c22').alias('War'), col('_c23').alias('Western'))"
      ],
      "execution_count": 14,
      "outputs": []
    },
    {
      "cell_type": "code",
      "metadata": {
        "colab": {
          "base_uri": "https://localhost:8080/"
        },
        "id": "VN0NFRoQ-VJu",
        "outputId": "7a853a9c-54bc-4a23-968b-121795b9d994"
      },
      "source": [
        "movies.show()"
      ],
      "execution_count": 15,
      "outputs": [
        {
          "output_type": "stream",
          "name": "stdout",
          "text": [
            "+--------+--------------------+------------+----------+--------------------+---+------+---------+---------+-----+------+---------+----+-----+-------+----+------+-------+------+--------+-------+--------+---+-------+\n",
            "|Movie_id|          Movie_name|Release_date|Video_date|            IMDb_URL|  ?|Action|Adventure|Animation|Child|Comedy|Detective|Docs|Drama|Fantasy|Noir|Horror|Musical|Mystic|Romantic|Science|Thriller|War|Western|\n",
            "+--------+--------------------+------------+----------+--------------------+---+------+---------+---------+-----+------+---------+----+-----+-------+----+------+-------+------+--------+-------+--------+---+-------+\n",
            "|       1|    Toy Story (1995)| 01-Jan-1995|      null|http://us.imdb.co...|  0|     0|        0|        1|    1|     1|        0|   0|    0|      0|   0|     0|      0|     0|       0|      0|       0|  0|      0|\n",
            "|       2|    GoldenEye (1995)| 01-Jan-1995|      null|http://us.imdb.co...|  0|     1|        1|        0|    0|     0|        0|   0|    0|      0|   0|     0|      0|     0|       0|      0|       1|  0|      0|\n",
            "|       3|   Four Rooms (1995)| 01-Jan-1995|      null|http://us.imdb.co...|  0|     0|        0|        0|    0|     0|        0|   0|    0|      0|   0|     0|      0|     0|       0|      0|       1|  0|      0|\n",
            "|       4|   Get Shorty (1995)| 01-Jan-1995|      null|http://us.imdb.co...|  0|     1|        0|        0|    0|     1|        0|   0|    1|      0|   0|     0|      0|     0|       0|      0|       0|  0|      0|\n",
            "|       5|      Copycat (1995)| 01-Jan-1995|      null|http://us.imdb.co...|  0|     0|        0|        0|    0|     0|        1|   0|    1|      0|   0|     0|      0|     0|       0|      0|       1|  0|      0|\n",
            "|       6|Shanghai Triad (Y...| 01-Jan-1995|      null|http://us.imdb.co...|  0|     0|        0|        0|    0|     0|        0|   0|    1|      0|   0|     0|      0|     0|       0|      0|       0|  0|      0|\n",
            "|       7|Twelve Monkeys (1...| 01-Jan-1995|      null|http://us.imdb.co...|  0|     0|        0|        0|    0|     0|        0|   0|    1|      0|   0|     0|      0|     0|       0|      1|       0|  0|      0|\n",
            "|       8|         Babe (1995)| 01-Jan-1995|      null|http://us.imdb.co...|  0|     0|        0|        0|    1|     1|        0|   0|    1|      0|   0|     0|      0|     0|       0|      0|       0|  0|      0|\n",
            "|       9|Dead Man Walking ...| 01-Jan-1995|      null|http://us.imdb.co...|  0|     0|        0|        0|    0|     0|        0|   0|    1|      0|   0|     0|      0|     0|       0|      0|       0|  0|      0|\n",
            "|      10|  Richard III (1995)| 22-Jan-1996|      null|http://us.imdb.co...|  0|     0|        0|        0|    0|     0|        0|   0|    1|      0|   0|     0|      0|     0|       0|      0|       0|  1|      0|\n",
            "|      11|Seven (Se7en) (1995)| 01-Jan-1995|      null|http://us.imdb.co...|  0|     0|        0|        0|    0|     0|        1|   0|    0|      0|   0|     0|      0|     0|       0|      0|       1|  0|      0|\n",
            "|      12|Usual Suspects, T...| 14-Aug-1995|      null|http://us.imdb.co...|  0|     0|        0|        0|    0|     0|        1|   0|    0|      0|   0|     0|      0|     0|       0|      0|       1|  0|      0|\n",
            "|      13|Mighty Aphrodite ...| 30-Oct-1995|      null|http://us.imdb.co...|  0|     0|        0|        0|    0|     1|        0|   0|    0|      0|   0|     0|      0|     0|       0|      0|       0|  0|      0|\n",
            "|      14|  Postino, Il (1994)| 01-Jan-1994|      null|http://us.imdb.co...|  0|     0|        0|        0|    0|     0|        0|   0|    1|      0|   0|     0|      0|     0|       1|      0|       0|  0|      0|\n",
            "|      15|Mr. Holland's Opu...| 29-Jan-1996|      null|http://us.imdb.co...|  0|     0|        0|        0|    0|     0|        0|   0|    1|      0|   0|     0|      0|     0|       0|      0|       0|  0|      0|\n",
            "|      16|French Twist (Gaz...| 01-Jan-1995|      null|http://us.imdb.co...|  0|     0|        0|        0|    0|     1|        0|   0|    0|      0|   0|     0|      0|     0|       1|      0|       0|  0|      0|\n",
            "|      17|From Dusk Till Da...| 05-Feb-1996|      null|http://us.imdb.co...|  0|     1|        0|        0|    0|     1|        1|   0|    0|      0|   0|     1|      0|     0|       0|      0|       1|  0|      0|\n",
            "|      18|White Balloon, Th...| 01-Jan-1995|      null|http://us.imdb.co...|  0|     0|        0|        0|    0|     0|        0|   0|    1|      0|   0|     0|      0|     0|       0|      0|       0|  0|      0|\n",
            "|      19|Antonia's Line (1...| 01-Jan-1995|      null|http://us.imdb.co...|  0|     0|        0|        0|    0|     0|        0|   0|    1|      0|   0|     0|      0|     0|       0|      0|       0|  0|      0|\n",
            "|      20|Angels and Insect...| 01-Jan-1995|      null|http://us.imdb.co...|  0|     0|        0|        0|    0|     0|        0|   0|    1|      0|   0|     0|      0|     0|       1|      0|       0|  0|      0|\n",
            "+--------+--------------------+------------+----------+--------------------+---+------+---------+---------+-----+------+---------+----+-----+-------+----+------+-------+------+--------+-------+--------+---+-------+\n",
            "only showing top 20 rows\n",
            "\n"
          ]
        }
      ]
    },
    {
      "cell_type": "code",
      "metadata": {
        "colab": {
          "base_uri": "https://localhost:8080/"
        },
        "id": "s2y45TJsQ53r",
        "outputId": "cbfc4778-4309-4f6c-dc3e-ad076a674c67"
      },
      "source": [
        "movies.describe().show()"
      ],
      "execution_count": 16,
      "outputs": [
        {
          "output_type": "stream",
          "name": "stdout",
          "text": [
            "+-------+------------------+--------------------+------------+----------+--------------------+--------------------+-------------------+------------------+-------------------+-------------------+-------------------+-------------------+--------------------+-------------------+--------------------+--------------------+--------------------+-------------------+-------------------+-------------------+-------------------+------------------+-------------------+-------------------+\n",
            "|summary|          Movie_id|          Movie_name|Release_date|Video_date|            IMDb_URL|                   ?|             Action|         Adventure|          Animation|              Child|             Comedy|          Detective|                Docs|              Drama|             Fantasy|                Noir|              Horror|            Musical|             Mystic|           Romantic|            Science|          Thriller|                War|            Western|\n",
            "+-------+------------------+--------------------+------------+----------+--------------------+--------------------+-------------------+------------------+-------------------+-------------------+-------------------+-------------------+--------------------+-------------------+--------------------+--------------------+--------------------+-------------------+-------------------+-------------------+-------------------+------------------+-------------------+-------------------+\n",
            "|  count|              1682|                1682|        1681|         0|                1679|                1682|               1682|              1682|               1682|               1682|               1682|               1682|                1682|               1682|                1682|                1682|                1682|               1682|               1682|               1682|               1682|              1682|               1682|               1682|\n",
            "|   mean|             841.5|                null|        null|      null|                null|0.001189060642092...| 0.1492271105826397|0.0802615933412604|0.02497027348394768|0.07253269916765755|0.30023781212841855|0.06480380499405469|0.029726516052318668|0.43103448275862066|0.013079667063020214|0.014268727705112961|0.054696789536266346|0.03329369797859691|0.03626634958382877|0.14684898929845422|0.06004756242568371|0.1492271105826397|0.04221165279429251|0.01605231866825208|\n",
            "| stddev|485.69589250888254|                null|        null|      null|                null|0.034472500474212284|0.35641816109515484|0.2717785571305444|0.15608088423430846|0.25944503383362605| 0.4584976014014335| 0.2462525621467922| 0.16988233706244027| 0.4953681954046321| 0.11364976236574524| 0.11863177582846385|  0.2274550708557175|0.17945577207322622| 0.1870077359968219|0.35406057857880563| 0.2376455954301871|0.3564181610951548|0.20113149982303108| 0.1257141110346824|\n",
            "|    min|                 1|'Til There Was Yo...| 01-Aug-1997|      null|http://us.imdb.co...|                   0|                  0|                 0|                  0|                  0|                  0|                  0|                   0|                  0|                   0|                   0|                   0|                  0|                  0|                  0|                  0|                 0|                  0|                  0|\n",
            "|    max|              1682|� k�ldum klaka (C...|  4-Feb-1971|      null|http://us.imdb.co...|                   1|                  1|                 1|                  1|                  1|                  1|                  1|                   1|                  1|                   1|                   1|                   1|                  1|                  1|                  1|                  1|                 1|                  1|                  1|\n",
            "+-------+------------------+--------------------+------------+----------+--------------------+--------------------+-------------------+------------------+-------------------+-------------------+-------------------+-------------------+--------------------+-------------------+--------------------+--------------------+--------------------+-------------------+-------------------+-------------------+-------------------+------------------+-------------------+-------------------+\n",
            "\n"
          ]
        }
      ]
    },
    {
      "cell_type": "code",
      "metadata": {
        "id": "IHaCPAjqzpii",
        "colab": {
          "base_uri": "https://localhost:8080/"
        },
        "outputId": "979991d5-665a-4585-dcdc-4e6f0fe01275"
      },
      "source": [
        "joined = ratings.join(movies, 'Movie_id', how='left')\n",
        "joined.show()"
      ],
      "execution_count": 17,
      "outputs": [
        {
          "output_type": "stream",
          "name": "stdout",
          "text": [
            "+--------+-------+------+---------+--------------------+------------+----------+--------------------+---+------+---------+---------+-----+------+---------+----+-----+-------+----+------+-------+------+--------+-------+--------+---+-------+\n",
            "|Movie_id|User_id|Rating|Timestamp|          Movie_name|Release_date|Video_date|            IMDb_URL|  ?|Action|Adventure|Animation|Child|Comedy|Detective|Docs|Drama|Fantasy|Noir|Horror|Musical|Mystic|Romantic|Science|Thriller|War|Western|\n",
            "+--------+-------+------+---------+--------------------+------------+----------+--------------------+---+------+---------+---------+-----+------+---------+----+-----+-------+----+------+-------+------+--------+-------+--------+---+-------+\n",
            "|     242|    196|     3|881250949|        Kolya (1996)| 24-Jan-1997|      null|http://us.imdb.co...|  0|     0|        0|        0|    0|     1|        0|   0|    0|      0|   0|     0|      0|     0|       0|      0|       0|  0|      0|\n",
            "|     302|    186|     3|891717742|L.A. Confidential...| 01-Jan-1997|      null|http://us.imdb.co...|  0|     0|        0|        0|    0|     0|        1|   0|    0|      0|   1|     0|      0|     1|       0|      0|       1|  0|      0|\n",
            "|     377|     22|     1|878887116| Heavyweights (1994)| 01-Jan-1994|      null|http://us.imdb.co...|  0|     0|        0|        0|    1|     1|        0|   0|    0|      0|   0|     0|      0|     0|       0|      0|       0|  0|      0|\n",
            "|      51|    244|     2|880606923|Legends of the Fa...| 01-Jan-1994|      null|http://us.imdb.co...|  0|     0|        0|        0|    0|     0|        0|   0|    1|      0|   0|     0|      0|     0|       1|      0|       0|  1|      1|\n",
            "|     346|    166|     1|886397596| Jackie Brown (1997)| 01-Jan-1997|      null|http://us.imdb.co...|  0|     0|        0|        0|    0|     0|        1|   0|    1|      0|   0|     0|      0|     0|       0|      0|       0|  0|      0|\n",
            "|     474|    298|     4|884182806|Dr. Strangelove o...| 01-Jan-1963|      null|http://us.imdb.co...|  0|     0|        0|        0|    0|     0|        0|   0|    0|      0|   0|     0|      0|     0|       0|      1|       0|  1|      0|\n",
            "|     265|    115|     2|881171488|Hunt for Red Octo...| 01-Jan-1990|      null|http://us.imdb.co...|  0|     1|        0|        0|    0|     0|        0|   0|    0|      0|   0|     0|      0|     0|       0|      0|       1|  0|      0|\n",
            "|     465|    253|     5|891628467|Jungle Book, The ...| 01-Jan-1994|      null|http://us.imdb.co...|  0|     0|        1|        0|    1|     0|        0|   0|    0|      0|   0|     0|      0|     0|       1|      0|       0|  0|      0|\n",
            "|     451|    305|     3|886324817|       Grease (1978)| 01-Jan-1978|      null|http://us.imdb.co...|  0|     0|        0|        0|    0|     1|        0|   0|    0|      0|   0|     0|      1|     0|       1|      0|       0|  0|      0|\n",
            "|      86|      6|     3|883603013|Remains of the Da...| 01-Jan-1993|      null|http://us.imdb.co...|  0|     0|        0|        0|    0|     0|        0|   0|    1|      0|   0|     0|      0|     0|       0|      0|       0|  0|      0|\n",
            "|     257|     62|     2|879372434| Men in Black (1997)| 04-Jul-1997|      null|http://us.imdb.co...|  0|     1|        1|        0|    0|     1|        0|   0|    0|      0|   0|     0|      0|     0|       0|      1|       0|  0|      0|\n",
            "|    1014|    286|     5|879781125|Romy and Michele'...| 25-Apr-1997|      null|http://us.imdb.co...|  0|     0|        0|        0|    0|     1|        0|   0|    0|      0|   0|     0|      0|     0|       0|      0|       0|  0|      0|\n",
            "|     222|    200|     5|876042340|Star Trek: First ...| 22-Nov-1996|      null|http://us.imdb.co...|  0|     1|        1|        0|    0|     0|        0|   0|    0|      0|   0|     0|      0|     0|       0|      1|       0|  0|      0|\n",
            "|      40|    210|     3|891035994|To Wong Foo, Than...| 01-Jan-1995|      null|http://us.imdb.co...|  0|     0|        0|        0|    0|     1|        0|   0|    0|      0|   0|     0|      0|     0|       0|      0|       0|  0|      0|\n",
            "|      29|    224|     3|888104457|Batman Forever (1...| 01-Jan-1995|      null|http://us.imdb.co...|  0|     1|        1|        0|    0|     1|        1|   0|    0|      0|   0|     0|      0|     0|       0|      0|       0|  0|      0|\n",
            "|     785|    303|     3|879485318|     Only You (1994)| 01-Jan-1994|      null|http://us.imdb.co...|  0|     0|        0|        0|    0|     1|        0|   0|    0|      0|   0|     0|      0|     0|       1|      0|       0|  0|      0|\n",
            "|     387|    122|     5|879270459|Age of Innocence,...| 01-Jan-1993|      null|http://us.imdb.co...|  0|     0|        0|        0|    0|     0|        0|   0|    1|      0|   0|     0|      0|     0|       0|      0|       0|  0|      0|\n",
            "|     274|    194|     2|879539794|      Sabrina (1995)| 01-Jan-1995|      null|http://us.imdb.co...|  0|     0|        0|        0|    0|     1|        0|   0|    0|      0|   0|     0|      0|     0|       1|      0|       0|  0|      0|\n",
            "|    1042|    291|     4|874834944|   Just Cause (1995)| 01-Jan-1995|      null|http://us.imdb.co...|  0|     0|        0|        0|    0|     0|        0|   0|    0|      0|   0|     0|      0|     1|       0|      0|       1|  0|      0|\n",
            "|    1184|    234|     2|892079237|Endless Summer 2,...| 01-Jan-1994|      null|http://us.imdb.co...|  0|     0|        0|        0|    0|     0|        0|   1|    0|      0|   0|     0|      0|     0|       0|      0|       0|  0|      0|\n",
            "+--------+-------+------+---------+--------------------+------------+----------+--------------------+---+------+---------+---------+-----+------+---------+----+-----+-------+----+------+-------+------+--------+-------+--------+---+-------+\n",
            "only showing top 20 rows\n",
            "\n"
          ]
        }
      ]
    },
    {
      "cell_type": "code",
      "metadata": {
        "colab": {
          "base_uri": "https://localhost:8080/"
        },
        "id": "q_mmFBtU_TLS",
        "outputId": "883cffd3-f4f9-48ca-8564-1fe7a688ea21"
      },
      "source": [
        "joined.describe().show()"
      ],
      "execution_count": 18,
      "outputs": [
        {
          "output_type": "stream",
          "name": "stdout",
          "text": [
            "+-------+------------------+------------------+------------------+-----------------+--------------------+------------+----------+--------------------+--------------------+-------------------+-------------------+------------------+------------------+-------------------+-------------------+-------------------+-------------------+-----------------+-------------------+-------------------+-------------------+-------------------+-------------------+-------------------+-------------------+-----------------+-------------------+\n",
            "|summary|          Movie_id|           User_id|            Rating|        Timestamp|          Movie_name|Release_date|Video_date|            IMDb_URL|                   ?|             Action|          Adventure|         Animation|             Child|             Comedy|          Detective|               Docs|              Drama|          Fantasy|               Noir|             Horror|            Musical|             Mystic|           Romantic|            Science|           Thriller|              War|            Western|\n",
            "+-------+------------------+------------------+------------------+-----------------+--------------------+------------+----------+--------------------+--------------------+-------------------+-------------------+------------------+------------------+-------------------+-------------------+-------------------+-------------------+-----------------+-------------------+-------------------+-------------------+-------------------+-------------------+-------------------+-------------------+-----------------+-------------------+\n",
            "|  count|            100000|            100000|            100000|           100000|              100000|       99991|         0|               99987|              100000|             100000|             100000|            100000|            100000|             100000|             100000|             100000|             100000|           100000|             100000|             100000|             100000|             100000|             100000|             100000|             100000|           100000|             100000|\n",
            "|   mean|         425.53013|         462.48475|           3.52986|8.8352885148862E8|                null|        null|      null|                null|              1.0E-4|            0.25589|            0.13753|           0.03605|           0.07182|            0.29832|            0.08055|            0.00758|            0.39895|          0.01352|            0.01733|            0.05317|            0.04954|            0.05245|            0.19461|             0.1273|            0.21872|          0.09398|            0.01854|\n",
            "| stddev|330.79835632558473|266.61442012750905|1.1256735991443214|5343856.189502848|                null|        null|      null|                null|0.009999549985374315|0.43636247778896153|0.34440773113688117|0.1864155170779794|0.2581909259163506|0.45752297305458783|0.27214414953179006|0.08673303192087935|0.48968489400118553|0.115487414783732|0.13049843446729087|0.22437347110241376|0.21699368484495607|0.22293383434316288|0.39590215367582043|0.33331039731489054|0.41338029758650374|0.291802349349882|0.13489421916636699|\n",
            "|    min|                 1|                 1|                 1|        874724710|'Til There Was Yo...| 01-Aug-1997|      null|http://us.imdb.co...|                   0|                  0|                  0|                 0|                 0|                  0|                  0|                  0|                  0|                0|                  0|                  0|                  0|                  0|                  0|                  0|                  0|                0|                  0|\n",
            "|    max|              1682|               943|                 5|        893286638|� k�ldum klaka (C...|  4-Feb-1971|      null|http://us.imdb.co...|                   1|                  1|                  1|                 1|                 1|                  1|                  1|                  1|                  1|                1|                  1|                  1|                  1|                  1|                  1|                  1|                  1|                1|                  1|\n",
            "+-------+------------------+------------------+------------------+-----------------+--------------------+------------+----------+--------------------+--------------------+-------------------+-------------------+------------------+------------------+-------------------+-------------------+-------------------+-------------------+-----------------+-------------------+-------------------+-------------------+-------------------+-------------------+-------------------+-------------------+-----------------+-------------------+\n",
            "\n"
          ]
        }
      ]
    },
    {
      "cell_type": "code",
      "metadata": {
        "id": "Vo19uJQJ9I00"
      },
      "source": [
        ""
      ],
      "execution_count": null,
      "outputs": []
    },
    {
      "cell_type": "markdown",
      "metadata": {
        "id": "RyjKo_2jEgvE"
      },
      "source": [
        "### 2. Средняя оценка для каждого фильма"
      ]
    },
    {
      "cell_type": "code",
      "metadata": {
        "id": "rS7FcarY2Luk",
        "colab": {
          "base_uri": "https://localhost:8080/"
        },
        "outputId": "4fe11387-0dda-4860-e35c-e1bd8f76d85c"
      },
      "source": [
        "avg_movies_rating = joined.groupBy('Movie_name').avg('Rating').orderBy('avg(Rating)', ascending=False)\n",
        "avg_movies_rating.show()"
      ],
      "execution_count": 19,
      "outputs": [
        {
          "output_type": "stream",
          "name": "stdout",
          "text": [
            "+--------------------+-----------------+\n",
            "|          Movie_name|      avg(Rating)|\n",
            "+--------------------+-----------------+\n",
            "|     Star Kid (1997)|              5.0|\n",
            "|Aiqing wansui (1994)|              5.0|\n",
            "|They Made Me a Cr...|              5.0|\n",
            "|Entertaining Ange...|              5.0|\n",
            "|Marlene Dietrich:...|              5.0|\n",
            "|  Prefontaine (1997)|              5.0|\n",
            "|Santa with Muscle...|              5.0|\n",
            "|Someone Else's Am...|              5.0|\n",
            "|Saint of Fort Was...|              5.0|\n",
            "|Great Day in Harl...|              5.0|\n",
            "|Pather Panchali (...|            4.625|\n",
            "|      Everest (1998)|              4.5|\n",
            "|Some Mother's Son...|              4.5|\n",
            "|Maya Lin: A Stron...|              4.5|\n",
            "|         Anna (1996)|              4.5|\n",
            "|Close Shave, A (1...|4.491071428571429|\n",
            "|Schindler's List ...|4.466442953020135|\n",
            "|Wrong Trousers, T...|4.466101694915254|\n",
            "|   Casablanca (1942)| 4.45679012345679|\n",
            "|Wallace & Gromit:...|4.447761194029851|\n",
            "+--------------------+-----------------+\n",
            "only showing top 20 rows\n",
            "\n"
          ]
        }
      ]
    },
    {
      "cell_type": "markdown",
      "metadata": {
        "id": "etyf956GEpCn"
      },
      "source": [
        "### 3. Средняя оценка для каждого жанра"
      ]
    },
    {
      "cell_type": "code",
      "metadata": {
        "id": "mFldxZVBCRVS",
        "colab": {
          "base_uri": "https://localhost:8080/"
        },
        "outputId": "330d4b55-5891-4196-9640-77e0b0440def"
      },
      "source": [
        "genres = joined.select('Video_date', 'Movie_name', 'Rating', 'Action', 'Adventure', 'Animation', 'Child', 'Comedy', 'Detective', 'Docs', 'Drama', 'Fantasy',\\\n",
        "                       'Noir', 'Horror', 'Musical', 'Mystic', 'Romantic', 'Science', 'Thriller', 'War', 'Western')\n",
        "genres = genres.na.fill({'Video_date': 1})\n",
        "genres.show()"
      ],
      "execution_count": 20,
      "outputs": [
        {
          "output_type": "stream",
          "name": "stdout",
          "text": [
            "+----------+--------------------+------+------+---------+---------+-----+------+---------+----+-----+-------+----+------+-------+------+--------+-------+--------+---+-------+\n",
            "|Video_date|          Movie_name|Rating|Action|Adventure|Animation|Child|Comedy|Detective|Docs|Drama|Fantasy|Noir|Horror|Musical|Mystic|Romantic|Science|Thriller|War|Western|\n",
            "+----------+--------------------+------+------+---------+---------+-----+------+---------+----+-----+-------+----+------+-------+------+--------+-------+--------+---+-------+\n",
            "|         1|        Kolya (1996)|     3|     0|        0|        0|    0|     1|        0|   0|    0|      0|   0|     0|      0|     0|       0|      0|       0|  0|      0|\n",
            "|         1|L.A. Confidential...|     3|     0|        0|        0|    0|     0|        1|   0|    0|      0|   1|     0|      0|     1|       0|      0|       1|  0|      0|\n",
            "|         1| Heavyweights (1994)|     1|     0|        0|        0|    1|     1|        0|   0|    0|      0|   0|     0|      0|     0|       0|      0|       0|  0|      0|\n",
            "|         1|Legends of the Fa...|     2|     0|        0|        0|    0|     0|        0|   0|    1|      0|   0|     0|      0|     0|       1|      0|       0|  1|      1|\n",
            "|         1| Jackie Brown (1997)|     1|     0|        0|        0|    0|     0|        1|   0|    1|      0|   0|     0|      0|     0|       0|      0|       0|  0|      0|\n",
            "|         1|Dr. Strangelove o...|     4|     0|        0|        0|    0|     0|        0|   0|    0|      0|   0|     0|      0|     0|       0|      1|       0|  1|      0|\n",
            "|         1|Hunt for Red Octo...|     2|     1|        0|        0|    0|     0|        0|   0|    0|      0|   0|     0|      0|     0|       0|      0|       1|  0|      0|\n",
            "|         1|Jungle Book, The ...|     5|     0|        1|        0|    1|     0|        0|   0|    0|      0|   0|     0|      0|     0|       1|      0|       0|  0|      0|\n",
            "|         1|       Grease (1978)|     3|     0|        0|        0|    0|     1|        0|   0|    0|      0|   0|     0|      1|     0|       1|      0|       0|  0|      0|\n",
            "|         1|Remains of the Da...|     3|     0|        0|        0|    0|     0|        0|   0|    1|      0|   0|     0|      0|     0|       0|      0|       0|  0|      0|\n",
            "|         1| Men in Black (1997)|     2|     1|        1|        0|    0|     1|        0|   0|    0|      0|   0|     0|      0|     0|       0|      1|       0|  0|      0|\n",
            "|         1|Romy and Michele'...|     5|     0|        0|        0|    0|     1|        0|   0|    0|      0|   0|     0|      0|     0|       0|      0|       0|  0|      0|\n",
            "|         1|Star Trek: First ...|     5|     1|        1|        0|    0|     0|        0|   0|    0|      0|   0|     0|      0|     0|       0|      1|       0|  0|      0|\n",
            "|         1|To Wong Foo, Than...|     3|     0|        0|        0|    0|     1|        0|   0|    0|      0|   0|     0|      0|     0|       0|      0|       0|  0|      0|\n",
            "|         1|Batman Forever (1...|     3|     1|        1|        0|    0|     1|        1|   0|    0|      0|   0|     0|      0|     0|       0|      0|       0|  0|      0|\n",
            "|         1|     Only You (1994)|     3|     0|        0|        0|    0|     1|        0|   0|    0|      0|   0|     0|      0|     0|       1|      0|       0|  0|      0|\n",
            "|         1|Age of Innocence,...|     5|     0|        0|        0|    0|     0|        0|   0|    1|      0|   0|     0|      0|     0|       0|      0|       0|  0|      0|\n",
            "|         1|      Sabrina (1995)|     2|     0|        0|        0|    0|     1|        0|   0|    0|      0|   0|     0|      0|     0|       1|      0|       0|  0|      0|\n",
            "|         1|   Just Cause (1995)|     4|     0|        0|        0|    0|     0|        0|   0|    0|      0|   0|     0|      0|     1|       0|      0|       1|  0|      0|\n",
            "|         1|Endless Summer 2,...|     2|     0|        0|        0|    0|     0|        0|   1|    0|      0|   0|     0|      0|     0|       0|      0|       0|  0|      0|\n",
            "+----------+--------------------+------+------+---------+---------+-----+------+---------+----+-----+-------+----+------+-------+------+--------+-------+--------+---+-------+\n",
            "only showing top 20 rows\n",
            "\n"
          ]
        }
      ]
    },
    {
      "cell_type": "code",
      "metadata": {
        "colab": {
          "base_uri": "https://localhost:8080/"
        },
        "id": "ukhEbK852Lji",
        "outputId": "990180c1-c73f-4012-a922-1159528bc017"
      },
      "source": [
        "genres.count()"
      ],
      "execution_count": 21,
      "outputs": [
        {
          "output_type": "execute_result",
          "data": {
            "text/plain": [
              "100000"
            ]
          },
          "metadata": {},
          "execution_count": 21
        }
      ]
    },
    {
      "cell_type": "code",
      "metadata": {
        "colab": {
          "base_uri": "https://localhost:8080/"
        },
        "id": "UeZ7gCGupl3h",
        "outputId": "0160eb0c-92ca-4405-f78a-e8b7ca432ec8"
      },
      "source": [
        "genres_ratings = genres.withColumn('Action_score', genres.Rating * genres.Action).withColumn('Adventure_score', genres.Rating * genres.Adventure).withColumn('Animation_score', genres.Rating * genres.Animation)\\\n",
        "                       .withColumn('Child_score', genres.Rating * genres.Child).withColumn('Comedy_score', genres.Rating * genres.Comedy).withColumn('Detective_score', genres.Rating * genres.Detective)\\\n",
        "                       .withColumn('Docs_score', genres.Rating * genres.Docs).withColumn('Drama_score', genres.Rating * genres.Drama).withColumn('Fantasy_score', genres.Rating * genres.Fantasy)\\\n",
        "                       .withColumn('Noir_score', genres.Rating * genres.Noir).withColumn('Horror_score', genres.Rating * genres.Horror).withColumn('Musical_score', genres.Rating * genres.Musical)\\\n",
        "                       .withColumn('Mystic_score', genres.Rating * genres.Mystic).withColumn('Romantic_score', genres.Rating * genres.Romantic).withColumn('Science_score', genres.Rating * genres.Science)\\\n",
        "                       .withColumn('Thriller_score', genres.Rating * genres.Thriller).withColumn('War_score', genres.Rating * genres.War).withColumn('Western_score', genres.Rating * genres.Western)\n",
        "genres_ratings.show()"
      ],
      "execution_count": 22,
      "outputs": [
        {
          "output_type": "stream",
          "name": "stdout",
          "text": [
            "+----------+--------------------+------+------+---------+---------+-----+------+---------+----+-----+-------+----+------+-------+------+--------+-------+--------+---+-------+------------+---------------+---------------+-----------+------------+---------------+----------+-----------+-------------+----------+------------+-------------+------------+--------------+-------------+--------------+---------+-------------+\n",
            "|Video_date|          Movie_name|Rating|Action|Adventure|Animation|Child|Comedy|Detective|Docs|Drama|Fantasy|Noir|Horror|Musical|Mystic|Romantic|Science|Thriller|War|Western|Action_score|Adventure_score|Animation_score|Child_score|Comedy_score|Detective_score|Docs_score|Drama_score|Fantasy_score|Noir_score|Horror_score|Musical_score|Mystic_score|Romantic_score|Science_score|Thriller_score|War_score|Western_score|\n",
            "+----------+--------------------+------+------+---------+---------+-----+------+---------+----+-----+-------+----+------+-------+------+--------+-------+--------+---+-------+------------+---------------+---------------+-----------+------------+---------------+----------+-----------+-------------+----------+------------+-------------+------------+--------------+-------------+--------------+---------+-------------+\n",
            "|         1|        Kolya (1996)|     3|     0|        0|        0|    0|     1|        0|   0|    0|      0|   0|     0|      0|     0|       0|      0|       0|  0|      0|           0|              0|              0|          0|           3|              0|         0|          0|            0|         0|           0|            0|           0|             0|            0|             0|        0|            0|\n",
            "|         1|L.A. Confidential...|     3|     0|        0|        0|    0|     0|        1|   0|    0|      0|   1|     0|      0|     1|       0|      0|       1|  0|      0|           0|              0|              0|          0|           0|              3|         0|          0|            0|         3|           0|            0|           3|             0|            0|             3|        0|            0|\n",
            "|         1| Heavyweights (1994)|     1|     0|        0|        0|    1|     1|        0|   0|    0|      0|   0|     0|      0|     0|       0|      0|       0|  0|      0|           0|              0|              0|          1|           1|              0|         0|          0|            0|         0|           0|            0|           0|             0|            0|             0|        0|            0|\n",
            "|         1|Legends of the Fa...|     2|     0|        0|        0|    0|     0|        0|   0|    1|      0|   0|     0|      0|     0|       1|      0|       0|  1|      1|           0|              0|              0|          0|           0|              0|         0|          2|            0|         0|           0|            0|           0|             2|            0|             0|        2|            2|\n",
            "|         1| Jackie Brown (1997)|     1|     0|        0|        0|    0|     0|        1|   0|    1|      0|   0|     0|      0|     0|       0|      0|       0|  0|      0|           0|              0|              0|          0|           0|              1|         0|          1|            0|         0|           0|            0|           0|             0|            0|             0|        0|            0|\n",
            "|         1|Dr. Strangelove o...|     4|     0|        0|        0|    0|     0|        0|   0|    0|      0|   0|     0|      0|     0|       0|      1|       0|  1|      0|           0|              0|              0|          0|           0|              0|         0|          0|            0|         0|           0|            0|           0|             0|            4|             0|        4|            0|\n",
            "|         1|Hunt for Red Octo...|     2|     1|        0|        0|    0|     0|        0|   0|    0|      0|   0|     0|      0|     0|       0|      0|       1|  0|      0|           2|              0|              0|          0|           0|              0|         0|          0|            0|         0|           0|            0|           0|             0|            0|             2|        0|            0|\n",
            "|         1|Jungle Book, The ...|     5|     0|        1|        0|    1|     0|        0|   0|    0|      0|   0|     0|      0|     0|       1|      0|       0|  0|      0|           0|              5|              0|          5|           0|              0|         0|          0|            0|         0|           0|            0|           0|             5|            0|             0|        0|            0|\n",
            "|         1|       Grease (1978)|     3|     0|        0|        0|    0|     1|        0|   0|    0|      0|   0|     0|      1|     0|       1|      0|       0|  0|      0|           0|              0|              0|          0|           3|              0|         0|          0|            0|         0|           0|            3|           0|             3|            0|             0|        0|            0|\n",
            "|         1|Remains of the Da...|     3|     0|        0|        0|    0|     0|        0|   0|    1|      0|   0|     0|      0|     0|       0|      0|       0|  0|      0|           0|              0|              0|          0|           0|              0|         0|          3|            0|         0|           0|            0|           0|             0|            0|             0|        0|            0|\n",
            "|         1| Men in Black (1997)|     2|     1|        1|        0|    0|     1|        0|   0|    0|      0|   0|     0|      0|     0|       0|      1|       0|  0|      0|           2|              2|              0|          0|           2|              0|         0|          0|            0|         0|           0|            0|           0|             0|            2|             0|        0|            0|\n",
            "|         1|Romy and Michele'...|     5|     0|        0|        0|    0|     1|        0|   0|    0|      0|   0|     0|      0|     0|       0|      0|       0|  0|      0|           0|              0|              0|          0|           5|              0|         0|          0|            0|         0|           0|            0|           0|             0|            0|             0|        0|            0|\n",
            "|         1|Star Trek: First ...|     5|     1|        1|        0|    0|     0|        0|   0|    0|      0|   0|     0|      0|     0|       0|      1|       0|  0|      0|           5|              5|              0|          0|           0|              0|         0|          0|            0|         0|           0|            0|           0|             0|            5|             0|        0|            0|\n",
            "|         1|To Wong Foo, Than...|     3|     0|        0|        0|    0|     1|        0|   0|    0|      0|   0|     0|      0|     0|       0|      0|       0|  0|      0|           0|              0|              0|          0|           3|              0|         0|          0|            0|         0|           0|            0|           0|             0|            0|             0|        0|            0|\n",
            "|         1|Batman Forever (1...|     3|     1|        1|        0|    0|     1|        1|   0|    0|      0|   0|     0|      0|     0|       0|      0|       0|  0|      0|           3|              3|              0|          0|           3|              3|         0|          0|            0|         0|           0|            0|           0|             0|            0|             0|        0|            0|\n",
            "|         1|     Only You (1994)|     3|     0|        0|        0|    0|     1|        0|   0|    0|      0|   0|     0|      0|     0|       1|      0|       0|  0|      0|           0|              0|              0|          0|           3|              0|         0|          0|            0|         0|           0|            0|           0|             3|            0|             0|        0|            0|\n",
            "|         1|Age of Innocence,...|     5|     0|        0|        0|    0|     0|        0|   0|    1|      0|   0|     0|      0|     0|       0|      0|       0|  0|      0|           0|              0|              0|          0|           0|              0|         0|          5|            0|         0|           0|            0|           0|             0|            0|             0|        0|            0|\n",
            "|         1|      Sabrina (1995)|     2|     0|        0|        0|    0|     1|        0|   0|    0|      0|   0|     0|      0|     0|       1|      0|       0|  0|      0|           0|              0|              0|          0|           2|              0|         0|          0|            0|         0|           0|            0|           0|             2|            0|             0|        0|            0|\n",
            "|         1|   Just Cause (1995)|     4|     0|        0|        0|    0|     0|        0|   0|    0|      0|   0|     0|      0|     1|       0|      0|       1|  0|      0|           0|              0|              0|          0|           0|              0|         0|          0|            0|         0|           0|            0|           4|             0|            0|             4|        0|            0|\n",
            "|         1|Endless Summer 2,...|     2|     0|        0|        0|    0|     0|        0|   1|    0|      0|   0|     0|      0|     0|       0|      0|       0|  0|      0|           0|              0|              0|          0|           0|              0|         2|          0|            0|         0|           0|            0|           0|             0|            0|             0|        0|            0|\n",
            "+----------+--------------------+------+------+---------+---------+-----+------+---------+----+-----+-------+----+------+-------+------+--------+-------+--------+---+-------+------------+---------------+---------------+-----------+------------+---------------+----------+-----------+-------------+----------+------------+-------------+------------+--------------+-------------+--------------+---------+-------------+\n",
            "only showing top 20 rows\n",
            "\n"
          ]
        }
      ]
    },
    {
      "cell_type": "code",
      "metadata": {
        "colab": {
          "base_uri": "https://localhost:8080/"
        },
        "id": "cIe3C64G50Hf",
        "outputId": "02a7b210-763d-433b-b24d-ae0991292e1e"
      },
      "source": [
        "avg_genres_rating = genres_ratings.where(genres_ratings.Action_score != 0).groupBy('Video_date').avg('Action_score')\\\n",
        "                                    .join((genres_ratings.where(genres_ratings.Adventure_score != 0).groupBy('Video_date').avg('Adventure_score')), 'Video_date', how='left')\\\n",
        "                                    .join((genres_ratings.where(genres_ratings.Animation_score != 0).groupBy('Video_date').avg('Animation_score')), 'Video_date', how='left')\\\n",
        "                                    .join((genres_ratings.where(genres_ratings.Child_score != 0).groupBy('Video_date').avg('Child_score')), 'Video_date', how='left')\\\n",
        "                                    .join((genres_ratings.where(genres_ratings.Comedy_score != 0).groupBy('Video_date').avg('Comedy_score')), 'Video_date', how='left')\\\n",
        "                                    .join((genres_ratings.where(genres_ratings.Detective_score != 0).groupBy('Video_date').avg('Detective_score')), 'Video_date', how='left')\\\n",
        "                                    .join((genres_ratings.where(genres_ratings.Docs_score != 0).groupBy('Video_date').avg('Docs_score')), 'Video_date', how='left')\\\n",
        "                                    .join((genres_ratings.where(genres_ratings.Drama_score != 0).groupBy('Video_date').avg('Drama_score')), 'Video_date', how='left')\\\n",
        "                                    .join((genres_ratings.where(genres_ratings.Fantasy_score != 0).groupBy('Video_date').avg('Fantasy_score')), 'Video_date', how='left')\\\n",
        "                                    .join((genres_ratings.where(genres_ratings.Noir_score != 0).groupBy('Video_date').avg('Noir_score')), 'Video_date', how='left')\\\n",
        "                                    .join((genres_ratings.where(genres_ratings.Horror_score != 0).groupBy('Video_date').avg('Horror_score')), 'Video_date', how='left')\\\n",
        "                                    .join((genres_ratings.where(genres_ratings.Musical_score != 0).groupBy('Video_date').avg('Musical_score')), 'Video_date', how='left')\\\n",
        "                                    .join((genres_ratings.where(genres_ratings.Mystic_score != 0).groupBy('Video_date').avg('Mystic_score')), 'Video_date', how='left')\\\n",
        "                                    .join((genres_ratings.where(genres_ratings.Romantic_score != 0).groupBy('Video_date').avg('Romantic_score')), 'Video_date', how='left')\\\n",
        "                                    .join((genres_ratings.where(genres_ratings.Science_score != 0).groupBy('Video_date').avg('Science_score')), 'Video_date', how='left')\\\n",
        "                                    .join((genres_ratings.where(genres_ratings.Thriller_score != 0).groupBy('Video_date').avg('Thriller_score')), 'Video_date', how='left')\\\n",
        "                                    .join((genres_ratings.where(genres_ratings.War_score != 0).groupBy('Video_date').avg('War_score')), 'Video_date', how='left')\\\n",
        "                                    .join((genres_ratings.where(genres_ratings.Western_score != 0).groupBy('Video_date').avg('Western_score')), 'Video_date', how='left')\n",
        "avg_genres_rating.show()"
      ],
      "execution_count": 23,
      "outputs": [
        {
          "output_type": "stream",
          "name": "stdout",
          "text": [
            "+----------+-----------------+--------------------+--------------------+------------------+------------------+--------------------+------------------+------------------+------------------+------------------+------------------+------------------+-----------------+-------------------+------------------+-------------------+-----------------+------------------+\n",
            "|Video_date|avg(Action_score)|avg(Adventure_score)|avg(Animation_score)|  avg(Child_score)| avg(Comedy_score)|avg(Detective_score)|   avg(Docs_score)|  avg(Drama_score)|avg(Fantasy_score)|   avg(Noir_score)| avg(Horror_score)|avg(Musical_score)|avg(Mystic_score)|avg(Romantic_score)|avg(Science_score)|avg(Thriller_score)|   avg(War_score)|avg(Western_score)|\n",
            "+----------+-----------------+--------------------+--------------------+------------------+------------------+--------------------+------------------+------------------+------------------+------------------+------------------+------------------+-----------------+-------------------+------------------+-------------------+-----------------+------------------+\n",
            "|         1|3.480245417953027|   3.503526503308369|  3.5766990291262135|3.3532442216652742|3.3940734781442745|  3.6322780881440098|3.6728232189973613|3.6873793708484772|3.2152366863905324|3.9215233698788228|3.2903893172841827| 3.521396851029471| 3.63813155386082|  3.621704948358255|3.5607227022780834| 3.5090069495245064|3.815811874866993|3.6132686084142396|\n",
            "+----------+-----------------+--------------------+--------------------+------------------+------------------+--------------------+------------------+------------------+------------------+------------------+------------------+------------------+-----------------+-------------------+------------------+-------------------+-----------------+------------------+\n",
            "\n"
          ]
        }
      ]
    },
    {
      "cell_type": "markdown",
      "metadata": {
        "id": "-gMfk13e6FV5"
      },
      "source": [
        "#### *Средствами SQL:*"
      ]
    },
    {
      "cell_type": "code",
      "metadata": {
        "id": "kVyhOQdB6XKx"
      },
      "source": [
        "genres.createOrReplaceTempView('Genres')"
      ],
      "execution_count": 24,
      "outputs": []
    },
    {
      "cell_type": "code",
      "metadata": {
        "colab": {
          "base_uri": "https://localhost:8080/"
        },
        "id": "ccMzwxRK50Cr",
        "outputId": "e4f5d2df-92b9-47d5-afd3-51ad3f3fd7a7"
      },
      "source": [
        "spark.sql('SELECT sum(Action*Rating)/sum(Action) as ActionAvg, sum(Adventure*Rating)/sum(Adventure) as AdventureAvg, sum(Animation*Rating)/sum(Animation) as AnimationAvg,\\\n",
        "                  sum(Child*Rating)/sum(Child) as ChildAvg, sum(Comedy*Rating)/sum(Comedy) as ComedyAvg, sum(Detective*Rating)/sum(Detective) as DetectiveAvg,\\\n",
        "                  sum(Docs*Rating)/sum(Docs) as DocsAvg, sum(Drama*Rating)/sum(Drama) as DramaAvg, sum(Fantasy*Rating)/sum(Fantasy) as FantasyAvg,\\\n",
        "                  sum(Noir*Rating)/sum(Noir) as NoirAvg, sum(Horror*Rating)/sum(Horror) as HorrorAvg, sum(Musical*Rating)/sum(Musical) as MusicalAvg,\\\n",
        "                  sum(Mystic*Rating)/sum(Mystic) as MysticAvg, sum(Romantic*Rating)/sum(Romantic) as RomanticAvg, sum(Science*Rating)/sum(Science) as ScienceAvg,\\\n",
        "                  sum(Thriller*Rating)/sum(Thriller) as ThrillerAvg, sum(War*Rating)/sum(War) as WarAvg, sum(Western*Rating)/sum(Western) as WesternAvg\\\n",
        "           FROM Genres').show()"
      ],
      "execution_count": 25,
      "outputs": [
        {
          "output_type": "stream",
          "name": "stdout",
          "text": [
            "+-----------------+-----------------+------------------+------------------+------------------+------------------+------------------+------------------+------------------+------------------+------------------+-----------------+----------------+-----------------+------------------+------------------+-----------------+------------------+\n",
            "|        ActionAvg|     AdventureAvg|      AnimationAvg|          ChildAvg|         ComedyAvg|      DetectiveAvg|           DocsAvg|          DramaAvg|        FantasyAvg|           NoirAvg|         HorrorAvg|       MusicalAvg|       MysticAvg|      RomanticAvg|        ScienceAvg|       ThrillerAvg|           WarAvg|        WesternAvg|\n",
            "+-----------------+-----------------+------------------+------------------+------------------+------------------+------------------+------------------+------------------+------------------+------------------+-----------------+----------------+-----------------+------------------+------------------+-----------------+------------------+\n",
            "|3.480245417953027|3.503526503308369|3.5766990291262135|3.3532442216652742|3.3940734781442745|3.6322780881440098|3.6728232189973613|3.6873793708484772|3.2152366863905324|3.9215233698788228|3.2903893172841827|3.521396851029471|3.63813155386082|3.621704948358255|3.5607227022780834|3.5090069495245064|3.815811874866993|3.6132686084142396|\n",
            "+-----------------+-----------------+------------------+------------------+------------------+------------------+------------------+------------------+------------------+------------------+------------------+-----------------+----------------+-----------------+------------------+------------------+-----------------+------------------+\n",
            "\n"
          ]
        }
      ]
    },
    {
      "cell_type": "markdown",
      "metadata": {
        "id": "GfCF1wQA-zTV"
      },
      "source": [
        "#### или так"
      ]
    },
    {
      "cell_type": "code",
      "metadata": {
        "colab": {
          "base_uri": "https://localhost:8080/"
        },
        "id": "futWeoIZ6ujv",
        "outputId": "881e544c-c94d-4f56-c86b-84de69f1be22"
      },
      "source": [
        "spark.sql('SELECT avg(Action*Rating) as ActionAvg FROM Genres where Action != 0').join(spark.sql('SELECT avg(Adventure*Rating) as AdventureAvg FROM Genres where Adventure != 0'))\\\n",
        "     .join(spark.sql('SELECT avg(Animation*Rating) as AnimationAvg FROM Genres where Animation != 0')).join(spark.sql('SELECT avg(Child*Rating) as ChildAvg FROM Genres where Child != 0'))\\\n",
        "     .join(spark.sql('SELECT avg(Comedy*Rating) as ComedyAvg FROM Genres where Comedy != 0')).join(spark.sql('SELECT avg(Detective*Rating) as DetectiveAvg FROM Genres where Detective != 0'))\\\n",
        "     .join(spark.sql('SELECT avg(Docs*Rating) as DocsAvg FROM Genres where Docs != 0')).join(spark.sql('SELECT avg(Drama*Rating) as DramaAvg FROM Genres where Drama != 0'))\\\n",
        "     .join(spark.sql('SELECT avg(Fantasy*Rating) as FantasyAvg FROM Genres where Fantasy != 0')).join(spark.sql('SELECT avg(Noir*Rating) as NoirAvg FROM Genres where Noir != 0'))\\\n",
        "     .join(spark.sql('SELECT avg(Horror*Rating) as HorrorAvg FROM Genres where Horror != 0')).join(spark.sql('SELECT avg(Musical*Rating) as MusicalAvg FROM Genres where Musical != 0'))\\\n",
        "     .join(spark.sql('SELECT avg(Mystic*Rating) as MysticAvg FROM Genres where Mystic != 0')).join(spark.sql('SELECT avg(Romantic*Rating) as RomanticAvg FROM Genres where Romantic != 0'))\\\n",
        "     .join(spark.sql('SELECT avg(Science*Rating) as ScienceAvg FROM Genres where Science != 0')).join(spark.sql('SELECT avg(Thriller*Rating) as ThrillerAvg FROM Genres where Thriller != 0'))\\\n",
        "     .join(spark.sql('SELECT avg(War*Rating) as WarAvg FROM Genres where War != 0')).join(spark.sql('SELECT avg(Western*Rating) as WesternAvg FROM Genres where Western != 0')).show()     "
      ],
      "execution_count": 50,
      "outputs": [
        {
          "output_type": "stream",
          "name": "stdout",
          "text": [
            "+-----------------+-----------------+------------------+------------------+------------------+------------------+------------------+------------------+------------------+------------------+------------------+-----------------+----------------+-----------------+------------------+------------------+-----------------+------------------+\n",
            "|        ActionAvg|     AdventureAvg|      AnimationAvg|          ChildAvg|         ComedyAvg|      DetectiveAvg|           DocsAvg|          DramaAvg|        FantasyAvg|           NoirAvg|         HorrorAvg|       MusicalAvg|       MysticAvg|      RomanticAvg|        ScienceAvg|       ThrillerAvg|           WarAvg|        WesternAvg|\n",
            "+-----------------+-----------------+------------------+------------------+------------------+------------------+------------------+------------------+------------------+------------------+------------------+-----------------+----------------+-----------------+------------------+------------------+-----------------+------------------+\n",
            "|3.480245417953027|3.503526503308369|3.5766990291262135|3.3532442216652742|3.3940734781442745|3.6322780881440098|3.6728232189973613|3.6873793708484772|3.2152366863905324|3.9215233698788228|3.2903893172841827|3.521396851029471|3.63813155386082|3.621704948358255|3.5607227022780834|3.5090069495245064|3.815811874866993|3.6132686084142396|\n",
            "+-----------------+-----------------+------------------+------------------+------------------+------------------+------------------+------------------+------------------+------------------+------------------+-----------------+----------------+-----------------+------------------+------------------+-----------------+------------------+\n",
            "\n"
          ]
        }
      ]
    },
    {
      "cell_type": "code",
      "metadata": {
        "id": "q0TxSNdc6ugb"
      },
      "source": [
        ""
      ],
      "execution_count": null,
      "outputs": []
    },
    {
      "cell_type": "markdown",
      "metadata": {
        "id": "NW5fo_mQ19HQ"
      },
      "source": [
        "### 4.1 Получение датафрейма с 5-ю самыми популярными фильмами"
      ]
    },
    {
      "cell_type": "code",
      "metadata": {
        "id": "BZhI4Sr5FHlw"
      },
      "source": [
        "import pandas as pd"
      ],
      "execution_count": 29,
      "outputs": []
    },
    {
      "cell_type": "code",
      "metadata": {
        "colab": {
          "base_uri": "https://localhost:8080/"
        },
        "id": "tN3sZAORFHhm",
        "outputId": "30820f15-7932-40a8-d0c9-fed200f9336d"
      },
      "source": [
        "movies_ratings = joined.select('Movie_name', 'Rating')\n",
        "movies_ratings.show()"
      ],
      "execution_count": 30,
      "outputs": [
        {
          "output_type": "stream",
          "name": "stdout",
          "text": [
            "+--------------------+------+\n",
            "|          Movie_name|Rating|\n",
            "+--------------------+------+\n",
            "|        Kolya (1996)|     3|\n",
            "|L.A. Confidential...|     3|\n",
            "| Heavyweights (1994)|     1|\n",
            "|Legends of the Fa...|     2|\n",
            "| Jackie Brown (1997)|     1|\n",
            "|Dr. Strangelove o...|     4|\n",
            "|Hunt for Red Octo...|     2|\n",
            "|Jungle Book, The ...|     5|\n",
            "|       Grease (1978)|     3|\n",
            "|Remains of the Da...|     3|\n",
            "| Men in Black (1997)|     2|\n",
            "|Romy and Michele'...|     5|\n",
            "|Star Trek: First ...|     5|\n",
            "|To Wong Foo, Than...|     3|\n",
            "|Batman Forever (1...|     3|\n",
            "|     Only You (1994)|     3|\n",
            "|Age of Innocence,...|     5|\n",
            "|      Sabrina (1995)|     2|\n",
            "|   Just Cause (1995)|     4|\n",
            "|Endless Summer 2,...|     2|\n",
            "+--------------------+------+\n",
            "only showing top 20 rows\n",
            "\n"
          ]
        }
      ]
    },
    {
      "cell_type": "code",
      "metadata": {
        "colab": {
          "base_uri": "https://localhost:8080/"
        },
        "id": "vFPgZf9Zg9ZZ",
        "outputId": "b30b9790-cd2e-4db6-ab2a-24184cb9a5f2"
      },
      "source": [
        "movies_ratings.count()"
      ],
      "execution_count": 31,
      "outputs": [
        {
          "output_type": "execute_result",
          "data": {
            "text/plain": [
              "100000"
            ]
          },
          "metadata": {},
          "execution_count": 31
        }
      ]
    },
    {
      "cell_type": "code",
      "metadata": {
        "colab": {
          "base_uri": "https://localhost:8080/",
          "height": 202
        },
        "id": "Owk7Kblvh6JJ",
        "outputId": "d86997b2-271b-4361-f4e5-a337b1004be8"
      },
      "source": [
        "rating_5 = movies_ratings.where(movies_ratings.Rating == 5)\n",
        "five_top5 = rating_5.groupBy('Movie_name').count().orderBy('count', ascending=False)\n",
        "df_five_top5 = five_top5.toPandas()\n",
        "df_five_top5.head(5)"
      ],
      "execution_count": 32,
      "outputs": [
        {
          "output_type": "execute_result",
          "data": {
            "text/html": [
              "<div>\n",
              "<style scoped>\n",
              "    .dataframe tbody tr th:only-of-type {\n",
              "        vertical-align: middle;\n",
              "    }\n",
              "\n",
              "    .dataframe tbody tr th {\n",
              "        vertical-align: top;\n",
              "    }\n",
              "\n",
              "    .dataframe thead th {\n",
              "        text-align: right;\n",
              "    }\n",
              "</style>\n",
              "<table border=\"1\" class=\"dataframe\">\n",
              "  <thead>\n",
              "    <tr style=\"text-align: right;\">\n",
              "      <th></th>\n",
              "      <th>Movie_name</th>\n",
              "      <th>count</th>\n",
              "    </tr>\n",
              "  </thead>\n",
              "  <tbody>\n",
              "    <tr>\n",
              "      <th>0</th>\n",
              "      <td>Star Wars (1977)</td>\n",
              "      <td>325</td>\n",
              "    </tr>\n",
              "    <tr>\n",
              "      <th>1</th>\n",
              "      <td>Fargo (1996)</td>\n",
              "      <td>227</td>\n",
              "    </tr>\n",
              "    <tr>\n",
              "      <th>2</th>\n",
              "      <td>Godfather, The (1972)</td>\n",
              "      <td>214</td>\n",
              "    </tr>\n",
              "    <tr>\n",
              "      <th>3</th>\n",
              "      <td>Raiders of the Lost Ark (1981)</td>\n",
              "      <td>202</td>\n",
              "    </tr>\n",
              "    <tr>\n",
              "      <th>4</th>\n",
              "      <td>Pulp Fiction (1994)</td>\n",
              "      <td>188</td>\n",
              "    </tr>\n",
              "  </tbody>\n",
              "</table>\n",
              "</div>"
            ],
            "text/plain": [
              "                       Movie_name  count\n",
              "0                Star Wars (1977)    325\n",
              "1                    Fargo (1996)    227\n",
              "2           Godfather, The (1972)    214\n",
              "3  Raiders of the Lost Ark (1981)    202\n",
              "4             Pulp Fiction (1994)    188"
            ]
          },
          "metadata": {},
          "execution_count": 32
        }
      ]
    },
    {
      "cell_type": "code",
      "metadata": {
        "id": "g7TtJJAa2V_-"
      },
      "source": [
        ""
      ],
      "execution_count": null,
      "outputs": []
    },
    {
      "cell_type": "markdown",
      "metadata": {
        "id": "O4XSAAmy2Xj5"
      },
      "source": [
        "### 4.2 Получение датафрейма с 5-ю самыми непопулярными фильмами"
      ]
    },
    {
      "cell_type": "code",
      "metadata": {
        "colab": {
          "base_uri": "https://localhost:8080/",
          "height": 202
        },
        "id": "uWQIAN6KiJN4",
        "outputId": "1c27d799-f864-48dd-d81f-b776d01c4a6e"
      },
      "source": [
        "rating_1 = movies_ratings.where(movies_ratings.Rating == 1)\n",
        "five_not_pop = rating_1.groupBy('Movie_name').count().orderBy('count')\n",
        "df_five_not_pop = five_not_pop.toPandas()\n",
        "df_five_not_pop.head(5)"
      ],
      "execution_count": 33,
      "outputs": [
        {
          "output_type": "execute_result",
          "data": {
            "text/html": [
              "<div>\n",
              "<style scoped>\n",
              "    .dataframe tbody tr th:only-of-type {\n",
              "        vertical-align: middle;\n",
              "    }\n",
              "\n",
              "    .dataframe tbody tr th {\n",
              "        vertical-align: top;\n",
              "    }\n",
              "\n",
              "    .dataframe thead th {\n",
              "        text-align: right;\n",
              "    }\n",
              "</style>\n",
              "<table border=\"1\" class=\"dataframe\">\n",
              "  <thead>\n",
              "    <tr style=\"text-align: right;\">\n",
              "      <th></th>\n",
              "      <th>Movie_name</th>\n",
              "      <th>count</th>\n",
              "    </tr>\n",
              "  </thead>\n",
              "  <tbody>\n",
              "    <tr>\n",
              "      <th>0</th>\n",
              "      <td>Psycho (1960)</td>\n",
              "      <td>1</td>\n",
              "    </tr>\n",
              "    <tr>\n",
              "      <th>1</th>\n",
              "      <td>Three Wishes (1995)</td>\n",
              "      <td>1</td>\n",
              "    </tr>\n",
              "    <tr>\n",
              "      <th>2</th>\n",
              "      <td>Paris, France (1993)</td>\n",
              "      <td>1</td>\n",
              "    </tr>\n",
              "    <tr>\n",
              "      <th>3</th>\n",
              "      <td>Snow White and the Seven Dwarfs (1937)</td>\n",
              "      <td>1</td>\n",
              "    </tr>\n",
              "    <tr>\n",
              "      <th>4</th>\n",
              "      <td>Mondo (1996)</td>\n",
              "      <td>1</td>\n",
              "    </tr>\n",
              "  </tbody>\n",
              "</table>\n",
              "</div>"
            ],
            "text/plain": [
              "                               Movie_name  count\n",
              "0                           Psycho (1960)      1\n",
              "1                     Three Wishes (1995)      1\n",
              "2                    Paris, France (1993)      1\n",
              "3  Snow White and the Seven Dwarfs (1937)      1\n",
              "4                            Mondo (1996)      1"
            ]
          },
          "metadata": {},
          "execution_count": 33
        }
      ]
    },
    {
      "cell_type": "code",
      "metadata": {
        "id": "Dg3xUf7JnJFf"
      },
      "source": [
        ""
      ],
      "execution_count": null,
      "outputs": []
    },
    {
      "cell_type": "code",
      "metadata": {
        "id": "p_1SAeeWtYnb"
      },
      "source": [
        ""
      ],
      "execution_count": null,
      "outputs": []
    },
    {
      "cell_type": "code",
      "metadata": {
        "id": "60EWB1c0tYj2"
      },
      "source": [
        ""
      ],
      "execution_count": null,
      "outputs": []
    }
  ]
}