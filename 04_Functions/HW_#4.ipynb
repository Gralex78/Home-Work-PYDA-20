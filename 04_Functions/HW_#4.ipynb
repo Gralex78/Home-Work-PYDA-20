{
 "cells": [
  {
   "cell_type": "markdown",
   "metadata": {},
   "source": [
    "# Домашняя робота по лекции \"Функции\""
   ]
  },
  {
   "cell_type": "code",
   "execution_count": 12,
   "metadata": {},
   "outputs": [],
   "source": [
    "documents = [\n",
    " {'type': 'passport', 'number': '2207 876234', 'name': 'Василий Гупкин'},\n",
    " {'type': 'invoice', 'number': '11-2', 'name': 'Геннадий Покемонов'},\n",
    " {'type': 'insurance', 'number': '10006', 'name': 'Аристарх Павлов'}\n",
    "]\n",
    "\n",
    "directories = {\n",
    " '1': ['2207 876234', '11-2'],\n",
    " '2': ['10006'],\n",
    " '3': []\n",
    "}\n"
   ]
  },
  {
   "cell_type": "code",
   "execution_count": 13,
   "metadata": {},
   "outputs": [
    {
     "name": "stdout",
     "output_type": "stream",
     "text": [
      "Введите номер документа: 11-2\n",
      "Владелец документа: Геннадий Покемонов\n"
     ]
    }
   ],
   "source": [
    "def holder(documents_list):\n",
    "    inp_num_doc = input('Введите номер документа: ')\n",
    "    for holder in documents_list:\n",
    "        if inp_num_doc == holder['number']:\n",
    "            print(f\"Владелец документа: {holder['name']}\")\n",
    "            break\n",
    "    else:\n",
    "        print('Документа нет в базе')\n",
    "holder(documents)"
   ]
  },
  {
   "cell_type": "code",
   "execution_count": 14,
   "metadata": {},
   "outputs": [
    {
     "name": "stdout",
     "output_type": "stream",
     "text": [
      "Введите номер документа: 11-2\n",
      "Документ хранится на полке: 1\n"
     ]
    }
   ],
   "source": [
    "def get_shelf(directories_list):\n",
    "    inp_num_doc = input('Введите номер документа: ')\n",
    "    for shelf in directories:\n",
    "        if inp_num_doc in directories[shelf]:\n",
    "            print (f\"Документ хранится на полке: {shelf}\")\n",
    "            break\n",
    "    else:\n",
    "        return 'Документа нет в базе'\n",
    "get_shelf(directories)"
   ]
  },
  {
   "cell_type": "code",
   "execution_count": 15,
   "metadata": {},
   "outputs": [
    {
     "name": "stdout",
     "output_type": "stream",
     "text": [
      "№: 2207 876234, тип: passport, владелец: Василий Гупкин, полка хранения: 1\n",
      "№: 11-2, тип: invoice, владелец: Геннадий Покемонов, полка хранения: 1\n",
      "№: 10006, тип: insurance, владелец: Аристарх Павлов, полка хранения: 2\n"
     ]
    }
   ],
   "source": [
    "def docs_info(documents_list, directories_list):\n",
    "    for doc in documents:\n",
    "        for shelf in directories:\n",
    "            if doc['number'] in directories[shelf]:\n",
    "                print(f\"№: {doc['number']}, тип: {doc['type']}, владелец: {doc['name']}, полка хранения: {shelf}\")\n",
    "docs_info(documents, directories)"
   ]
  },
  {
   "cell_type": "code",
   "execution_count": 17,
   "metadata": {},
   "outputs": [
    {
     "name": "stdout",
     "output_type": "stream",
     "text": [
      "Введите номер полки: 10\n",
      "Такая полка уже существует. Текущий перечень полок: 1, 2, 3, 10\n"
     ]
    }
   ],
   "source": [
    "def add_shelf(directories_list):\n",
    "    inp_num_shelf = input('Введите номер полки: ')\n",
    "    if inp_num_shelf in directories.keys():\n",
    "        print('Такая полка уже существует. Текущий перечень полок: ' + ', ' .join(directories.keys()))\n",
    "    else:\n",
    "        directories[inp_num_shelf] = []\n",
    "        print('Полка добавлена. Текущий перечень полок: ' + ', ' .join(directories.keys()))\n",
    "add_shelf(directories)"
   ]
  },
  {
   "cell_type": "code",
   "execution_count": 18,
   "metadata": {},
   "outputs": [
    {
     "name": "stdout",
     "output_type": "stream",
     "text": [
      "Введите номер полки: 10\n",
      "Полка удалена. Текущий перечень полок: 1, 2, 3\n"
     ]
    }
   ],
   "source": [
    "def del_shelf(directories_list):\n",
    "    inp_num_shelf = input('Введите номер полки: ')\n",
    "    for shelf, num_doc in directories.items():\n",
    "        if inp_num_shelf not in directories.keys():\n",
    "            print('Такой полки не существует. Текущий перечень полок: ' + ', ' .join(directories.keys()))\n",
    "            break\n",
    "        elif len(directories[inp_num_shelf]) == 0:\n",
    "            del(directories[inp_num_shelf])\n",
    "            print('Полка удалена. Текущий перечень полок: ' + ', ' .join(directories.keys()))\n",
    "            break\n",
    "        elif len(directories[inp_num_shelf]) != 0:\n",
    "            print('На полке есть документы, удалите их перед удалением полки. Текущий перечень полок: ' + ', ' .join(directories.keys()))\n",
    "            break\n",
    "del_shelf(directories)"
   ]
  },
  {
   "cell_type": "code",
   "execution_count": 27,
   "metadata": {},
   "outputs": [
    {
     "name": "stdout",
     "output_type": "stream",
     "text": [
      "Введите команду: ds\n",
      "Введите номер полки: 10\n",
      "Полка удалена. Текущий перечень полок: 1, 2, 3\n",
      "None\n"
     ]
    }
   ],
   "source": [
    "def main(docs_in_dir):\n",
    "    while True:\n",
    "        inp_cmd = input('Введите команду: ')\n",
    "        if inp_cmd == 'p':\n",
    "            print(holder(docs_in_dir))\n",
    "            break\n",
    "        elif inp_cmd == 's':\n",
    "            print(get_shelf(docs_in_dir))\n",
    "            break\n",
    "        elif inp_cmd == 'l':\n",
    "            print(docs_info(docs_in_dir, True))\n",
    "            break\n",
    "        elif inp_cmd == 'as':\n",
    "            print(add_shelf(docs_in_dir))\n",
    "            break\n",
    "        elif inp_cmd == 'ds':\n",
    "            print(del_shelf(docs_in_dir))\n",
    "            break\n",
    "        elif inp_cmd == 'q':\n",
    "            print('До свидания!')\n",
    "            break\n",
    "main(documents)"
   ]
  },
  {
   "cell_type": "code",
   "execution_count": null,
   "metadata": {},
   "outputs": [],
   "source": []
  }
 ],
 "metadata": {
  "kernelspec": {
   "display_name": "Python 3",
   "language": "python",
   "name": "python3"
  },
  "language_info": {
   "codemirror_mode": {
    "name": "ipython",
    "version": 3
   },
   "file_extension": ".py",
   "mimetype": "text/x-python",
   "name": "python",
   "nbconvert_exporter": "python",
   "pygments_lexer": "ipython3",
   "version": "3.8.5"
  }
 },
 "nbformat": 4,
 "nbformat_minor": 4
}
