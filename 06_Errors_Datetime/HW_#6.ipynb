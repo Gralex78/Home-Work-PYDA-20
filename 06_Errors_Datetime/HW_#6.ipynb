{
 "cells": [
  {
   "cell_type": "markdown",
   "metadata": {},
   "source": [
    "# Домашняя работа к лекции «Исключения и обработка ошибок»\n"
   ]
  },
  {
   "cell_type": "markdown",
   "metadata": {},
   "source": [
    "## Задание 1\n",
    "\n",
    "Печатные газеты использовали свой формат дат для каждого выпуска. Для каждой газеты из списка напишите формат указанной даты для перевода в объект datetime:\n",
    "The Moscow Times - Wednesday, October 2, 2002\n",
    "The Guardian - Friday, 11.10.13\n",
    "Daily News - Thursday, 18 August 1977"
   ]
  },
  {
   "cell_type": "code",
   "execution_count": 1,
   "metadata": {},
   "outputs": [],
   "source": [
    "from datetime import datetime\n",
    "from datetime import timedelta"
   ]
  },
  {
   "cell_type": "code",
   "execution_count": 2,
   "metadata": {},
   "outputs": [
    {
     "data": {
      "text/plain": [
       "(datetime.datetime(2002, 10, 2, 0, 0), 2)"
      ]
     },
     "execution_count": 2,
     "metadata": {},
     "output_type": "execute_result"
    }
   ],
   "source": [
    "date_moscow_times = 'Wednesday, October 2, 2002'\n",
    "\n",
    "date_moscow_times_datetime = datetime.strptime(date_moscow_times, '%A, %B %d, %Y')\n",
    "date_moscow_times_datetime, date_moscow_times_datetime.weekday()"
   ]
  },
  {
   "cell_type": "code",
   "execution_count": 3,
   "metadata": {},
   "outputs": [
    {
     "data": {
      "text/plain": [
       "(datetime.datetime(2013, 10, 11, 0, 0), 4)"
      ]
     },
     "execution_count": 3,
     "metadata": {},
     "output_type": "execute_result"
    }
   ],
   "source": [
    "date_guardian = 'Friday, 11.10.13'\n",
    "\n",
    "date_guardian_datetime = datetime.strptime(date_guardian, '%A, %d.%m.%y')\n",
    "date_guardian_datetime, date_guardian_datetime.weekday()"
   ]
  },
  {
   "cell_type": "code",
   "execution_count": 4,
   "metadata": {},
   "outputs": [
    {
     "data": {
      "text/plain": [
       "(datetime.datetime(1977, 8, 18, 0, 0), 3)"
      ]
     },
     "execution_count": 4,
     "metadata": {},
     "output_type": "execute_result"
    }
   ],
   "source": [
    "date_daily_news = 'Thursday, 18 August 1977'\n",
    "\n",
    "date_daily_news_datetime = datetime.strptime(date_daily_news, '%A, %d %B %Y')\n",
    "date_daily_news_datetime, date_daily_news_datetime.weekday()"
   ]
  },
  {
   "cell_type": "markdown",
   "metadata": {},
   "source": [
    "## Задание 2\n",
    "\n",
    "Дан поток дат в формате YYYY-MM-DD, в которых встречаются некорректные значения:\n",
    "stream = [‘2018-04-02’, ‘2018-02-29’, ‘2018-19-02’]\n",
    "\n",
    "Напишите функцию, которая проверяет эти даты на корректность. Т. е. для каждой даты возвращает True (дата корректна) или False (некорректная дата)."
   ]
  },
  {
   "cell_type": "code",
   "execution_count": 5,
   "metadata": {},
   "outputs": [
    {
     "name": "stdout",
     "output_type": "stream",
     "text": [
      "True Дата корректна: 2018-04-02\n",
      "False Некорректная дата: 2018-02-29\n",
      "False Некорректная дата: 2018-19-02\n"
     ]
    }
   ],
   "source": [
    "stream = ['2018-04-02', '2018-02-29', '2018-19-02']\n",
    "\n",
    "def corr_format(stream_list):\n",
    "    for date in stream_list:\n",
    "        try:\n",
    "            corr_format_date = datetime.strptime(date,'%Y-%m-%d')\n",
    "          \n",
    "        except:\n",
    "            print(False, 'Некорректная дата:', date)\n",
    "         \n",
    "        else:\n",
    "            print(True, 'Дата корректна:', date)\n",
    "                        \n",
    "corr_format(stream)"
   ]
  },
  {
   "cell_type": "markdown",
   "metadata": {},
   "source": [
    "## Задание 3\n",
    "\n",
    "Напишите функцию date_range, которая возвращает список дат за период от start_date до end_date. Даты должны вводиться в формате YYYY-MM-DD. В случае неверного формата или при start_date > end_date должен возвращаться пустой список."
   ]
  },
  {
   "cell_type": "code",
   "execution_count": 6,
   "metadata": {},
   "outputs": [
    {
     "name": "stdout",
     "output_type": "stream",
     "text": [
      "Введите начальную дату: 2020-11-01\n",
      "Введите конечную дату: 2020-11-17\n"
     ]
    },
    {
     "data": {
      "text/plain": [
       "['2020-11-01',\n",
       " '2020-11-02',\n",
       " '2020-11-03',\n",
       " '2020-11-04',\n",
       " '2020-11-05',\n",
       " '2020-11-06',\n",
       " '2020-11-07',\n",
       " '2020-11-08',\n",
       " '2020-11-09',\n",
       " '2020-11-10',\n",
       " '2020-11-11',\n",
       " '2020-11-12',\n",
       " '2020-11-13',\n",
       " '2020-11-14',\n",
       " '2020-11-15',\n",
       " '2020-11-16',\n",
       " '2020-11-17']"
      ]
     },
     "execution_count": 6,
     "metadata": {},
     "output_type": "execute_result"
    }
   ],
   "source": [
    "def date_rage():\n",
    "    \n",
    "    start_date = input('Введите начальную дату: ')\n",
    "    end_date = input('Введите конечную дату: ')\n",
    "\n",
    "    try:\n",
    "        start_date_dt = datetime.strptime(start_date, '%Y-%m-%d')\n",
    "        end_date_dt = datetime.strptime(end_date, '%Y-%m-%d')\n",
    "    except:\n",
    "        return list()\n",
    "    if start_date_dt >= end_date_dt:\n",
    "        return list()\n",
    "\n",
    "    date_list = []\n",
    "    current_dt = start_date_dt\n",
    "    while current_dt <= end_date_dt:\n",
    "        date_list.append(current_dt.strftime('%Y-%m-%d'))\n",
    "        current_dt += timedelta(days=1)\n",
    "    return date_list \n",
    "            \n",
    "date_rage()\n"
   ]
  },
  {
   "cell_type": "code",
   "execution_count": 7,
   "metadata": {},
   "outputs": [
    {
     "name": "stdout",
     "output_type": "stream",
     "text": [
      "2020-01-02\n",
      "2020-01-03\n",
      "2020-01-04\n",
      "2020-01-05\n",
      "2020-01-06\n",
      "2020-01-07\n",
      "2020-01-08\n",
      "2020-01-09\n",
      "2020-01-10\n"
     ]
    }
   ],
   "source": [
    "def date_rage():        \n",
    "        start_date = '2020-01-02'\n",
    "        end_date = '2020-01-10'\n",
    "\n",
    "        try:\n",
    "            start_date_dt = datetime.strptime(start_date, '%Y-%m-%d')\n",
    "            end_date_dt = datetime.strptime(end_date, '%Y-%m-%d')\n",
    "        except:\n",
    "            return list()\n",
    "        if start_date_dt >= end_date_dt:\n",
    "            return list()\n",
    "\n",
    "        current_dt = start_date_dt\n",
    "        while current_dt <= end_date_dt:\n",
    "            print(current_dt.strftime('%Y-%m-%d'))\n",
    "            current_dt += timedelta(days=1)\n",
    "            #break\n",
    "\n",
    "date_rage()\n"
   ]
  },
  {
   "cell_type": "code",
   "execution_count": null,
   "metadata": {},
   "outputs": [],
   "source": []
  },
  {
   "cell_type": "code",
   "execution_count": null,
   "metadata": {},
   "outputs": [],
   "source": []
  }
 ],
 "metadata": {
  "kernelspec": {
   "display_name": "Python 3",
   "language": "python",
   "name": "python3"
  },
  "language_info": {
   "codemirror_mode": {
    "name": "ipython",
    "version": 3
   },
   "file_extension": ".py",
   "mimetype": "text/x-python",
   "name": "python",
   "nbconvert_exporter": "python",
   "pygments_lexer": "ipython3",
   "version": "3.8.5"
  }
 },
 "nbformat": 4,
 "nbformat_minor": 4
}
